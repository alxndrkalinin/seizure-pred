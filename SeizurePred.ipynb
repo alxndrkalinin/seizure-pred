{
 "metadata": {
  "name": "",
  "signature": "sha256:001aeaba4e2603751703842203731c51ebec417dd2f594afcdb419997ed5fcef"
 },
 "nbformat": 3,
 "nbformat_minor": 0,
 "worksheets": [
  {
   "cells": [
    {
     "cell_type": "code",
     "collapsed": false,
     "input": [
      "%matplotlib inline\n",
      "from __future__ import division\n",
      "import os, sys, glob, pickle, itertools\n",
      "import pandas as pd\n",
      "import numpy as np\n",
      "from scipy import stats, fft\n",
      "from scipy.signal import butter, lfilter\n",
      "import matplotlib.pyplot as plt\n",
      "from sklearn.ensemble import GradientBoostingClassifier\n",
      "from sklearn.linear_model import SGDClassifier\n",
      "from sklearn.ensemble import RandomForestClassifier\n",
      "from sklearn.svm import LinearSVC\n",
      "from sklearn import cross_validation as cv\n",
      "from sklearn.metrics import accuracy_score\n",
      "from sklearn.metrics import roc_auc_score\n",
      "from sklearn.metrics import confusion_matrix\n",
      "from sklearn.metrics import classification_report\n",
      "from sklearn.metrics import precision_recall_fscore_support "
     ],
     "language": "python",
     "metadata": {},
     "outputs": [],
     "prompt_number": 142
    },
    {
     "cell_type": "code",
     "collapsed": false,
     "input": [
      "healthyDir = 'healthy'\n",
      "epilepticDir = 'epileptic'"
     ],
     "language": "python",
     "metadata": {},
     "outputs": [],
     "prompt_number": 143
    },
    {
     "cell_type": "code",
     "collapsed": false,
     "input": [
      "def readData(dirName):\n",
      "    pwd = os.path.dirname(os.path.realpath(dirName))\n",
      "\n",
      "    allFiles = glob.glob(pwd + '/' + dirName + '/*.txt')\n",
      "    frames = []\n",
      "\n",
      "    for fileName in allFiles:\n",
      "        series = pd.read_csv(fileName, header=None, sep='\\n', index_col=False)\n",
      "        series = series.transpose()\n",
      "        frames.append(series)\n",
      "    \n",
      "    df = pd.concat(frames)\n",
      "    df = df.reset_index(drop = 1)\n",
      "    return df"
     ],
     "language": "python",
     "metadata": {},
     "outputs": [],
     "prompt_number": 144
    },
    {
     "cell_type": "code",
     "collapsed": false,
     "input": [
      "healthyDf = readData(healthyDir)\n",
      "epilepticDf = readData(epilepticDir)\n",
      "print(healthyDf.shape)\n",
      "print(epilepticDf.shape)"
     ],
     "language": "python",
     "metadata": {},
     "outputs": [
      {
       "output_type": "stream",
       "stream": "stdout",
       "text": [
        "(100, 4097)\n",
        "(100, 4097)\n"
       ]
      }
     ],
     "prompt_number": 145
    },
    {
     "cell_type": "code",
     "collapsed": false,
     "input": [
      "def butter_bandpass(lowcut, highcut, fs, order=5):\n",
      "    nyq = 0.5 * fs\n",
      "    low = lowcut / nyq\n",
      "    high = highcut / nyq\n",
      "    b, a = butter(order, [low, high], btype = 'band')\n",
      "    return b, a"
     ],
     "language": "python",
     "metadata": {},
     "outputs": [],
     "prompt_number": 146
    },
    {
     "cell_type": "code",
     "collapsed": false,
     "input": [
      "# Prepare 8 overlapping log-spaced bandpass filters between 0.53 and 40Hz\n",
      "filters = []\n",
      "fs = 173.61\n",
      "for i in range(8):\n",
      "    x = np.logspace(np.log10(0.53), np.log10(40), 10)\n",
      "    filters.append(butter_bandpass(x[i], np.floor(x[i + 2]), fs, 3))"
     ],
     "language": "python",
     "metadata": {},
     "outputs": [],
     "prompt_number": 147
    },
    {
     "cell_type": "code",
     "collapsed": false,
     "input": [
      "# List of all possible combinations of 4 or fewer filters\n",
      "wis = list(itertools.chain(itertools.combinations(range(8), 1),\n",
      "                           itertools.combinations(range(8), 2),\n",
      "                           itertools.combinations(range(8), 3),\n",
      "                           itertools.combinations(range(8), 4)))\n",
      "print(wis)"
     ],
     "language": "python",
     "metadata": {},
     "outputs": [
      {
       "output_type": "stream",
       "stream": "stdout",
       "text": [
        "[(0,), (1,), (2,), (3,), (4,), (5,), (6,), (7,), (0, 1), (0, 2), (0, 3), (0, 4), (0, 5), (0, 6), (0, 7), (1, 2), (1, 3), (1, 4), (1, 5), (1, 6), (1, 7), (2, 3), (2, 4), (2, 5), (2, 6), (2, 7), (3, 4), (3, 5), (3, 6), (3, 7), (4, 5), (4, 6), (4, 7), (5, 6), (5, 7), (6, 7), (0, 1, 2), (0, 1, 3), (0, 1, 4), (0, 1, 5), (0, 1, 6), (0, 1, 7), (0, 2, 3), (0, 2, 4), (0, 2, 5), (0, 2, 6), (0, 2, 7), (0, 3, 4), (0, 3, 5), (0, 3, 6), (0, 3, 7), (0, 4, 5), (0, 4, 6), (0, 4, 7), (0, 5, 6), (0, 5, 7), (0, 6, 7), (1, 2, 3), (1, 2, 4), (1, 2, 5), (1, 2, 6), (1, 2, 7), (1, 3, 4), (1, 3, 5), (1, 3, 6), (1, 3, 7), (1, 4, 5), (1, 4, 6), (1, 4, 7), (1, 5, 6), (1, 5, 7), (1, 6, 7), (2, 3, 4), (2, 3, 5), (2, 3, 6), (2, 3, 7), (2, 4, 5), (2, 4, 6), (2, 4, 7), (2, 5, 6), (2, 5, 7), (2, 6, 7), (3, 4, 5), (3, 4, 6), (3, 4, 7), (3, 5, 6), (3, 5, 7), (3, 6, 7), (4, 5, 6), (4, 5, 7), (4, 6, 7), (5, 6, 7), (0, 1, 2, 3), (0, 1, 2, 4), (0, 1, 2, 5), (0, 1, 2, 6), (0, 1, 2, 7), (0, 1, 3, 4), (0, 1, 3, 5), (0, 1, 3, 6), (0, 1, 3, 7), (0, 1, 4, 5), (0, 1, 4, 6), (0, 1, 4, 7), (0, 1, 5, 6), (0, 1, 5, 7), (0, 1, 6, 7), (0, 2, 3, 4), (0, 2, 3, 5), (0, 2, 3, 6), (0, 2, 3, 7), (0, 2, 4, 5), (0, 2, 4, 6), (0, 2, 4, 7), (0, 2, 5, 6), (0, 2, 5, 7), (0, 2, 6, 7), (0, 3, 4, 5), (0, 3, 4, 6), (0, 3, 4, 7), (0, 3, 5, 6), (0, 3, 5, 7), (0, 3, 6, 7), (0, 4, 5, 6), (0, 4, 5, 7), (0, 4, 6, 7), (0, 5, 6, 7), (1, 2, 3, 4), (1, 2, 3, 5), (1, 2, 3, 6), (1, 2, 3, 7), (1, 2, 4, 5), (1, 2, 4, 6), (1, 2, 4, 7), (1, 2, 5, 6), (1, 2, 5, 7), (1, 2, 6, 7), (1, 3, 4, 5), (1, 3, 4, 6), (1, 3, 4, 7), (1, 3, 5, 6), (1, 3, 5, 7), (1, 3, 6, 7), (1, 4, 5, 6), (1, 4, 5, 7), (1, 4, 6, 7), (1, 5, 6, 7), (2, 3, 4, 5), (2, 3, 4, 6), (2, 3, 4, 7), (2, 3, 5, 6), (2, 3, 5, 7), (2, 3, 6, 7), (2, 4, 5, 6), (2, 4, 5, 7), (2, 4, 6, 7), (2, 5, 6, 7), (3, 4, 5, 6), (3, 4, 5, 7), (3, 4, 6, 7), (3, 5, 6, 7), (4, 5, 6, 7)]\n"
       ]
      }
     ],
     "prompt_number": 148
    },
    {
     "cell_type": "code",
     "collapsed": false,
     "input": [
      "def extract_features(signal):\n",
      "    feat = []\n",
      "    for b, a in filters:\n",
      "        f = lfilter(b, a, signal)\n",
      "        covar = np.cov(f)\n",
      "        ampl = np.sum(np.absolute(f)) / np.sum(np.absolute(signal).sum())\n",
      "        power = np.sum(np.power(f, 2)) / np.sum(np.power(signal, 2).sum())\n",
      "        feat = np.append(feat, [covar, ampl, power])\n",
      "    return pd.Series(feat)"
     ],
     "language": "python",
     "metadata": {},
     "outputs": [],
     "prompt_number": 149
    },
    {
     "cell_type": "code",
     "collapsed": false,
     "input": [
      "healthyLabels = np.zeros(healthyDf.shape[0], dtype=np.int)\n",
      "epilepticLables = np.ones(epilepticDf.shape[0], dtype=np.int)\n",
      "\n",
      "labels = np.append(healthyLabels, epilepticLables)\n",
      "\n",
      "healthyFeat = healthyDf.apply(extract_features, axis=1)\n",
      "epilepticFeat = epilepticDf.apply(extract_features, axis=1)\n",
      "\n",
      "features = healthyFeat.append(epilepticFeat)"
     ],
     "language": "python",
     "metadata": {},
     "outputs": [],
     "prompt_number": 150
    },
    {
     "cell_type": "code",
     "collapsed": false,
     "input": [
      "auc_scores = []\n",
      "ig_scores = []\n",
      "rfs_scores = []\n",
      "\n",
      "def binFreq(arr):\n",
      "    nonZeroFreq = np.count_nonzero(arr) / len(arr)\n",
      "    return [nonZeroFreq, 1 - nonZeroFreq]\n",
      "\n",
      "for w in wis:\n",
      "    y = labels\n",
      "    X = features.iloc[:, w].values\n",
      "\n",
      "    ps = []\n",
      "    fs = []\n",
      "    rfs = []\n",
      "    for train, test in cv.ShuffleSplit(X.shape[0], random_state=42):\n",
      "        X_train = X[train]\n",
      "        X_test = X[test]\n",
      "        y_train = y[train]\n",
      "        y_test = y[test]\n",
      "\n",
      "#         clf = SGDClassifier(loss='log', penalty='l2', alpha=0.001)\n",
      "        rndf = RandomForestClassifier(n_estimators=100, n_jobs=3, criterion='entropy')\n",
      "        \n",
      "#         clf.fit(X_train, y_train)\n",
      "        rndf.fit(X_train, y_train)\n",
      "        feat_imp = rndf.feature_importances_\n",
      "        print(feat_imp)\n",
      "        \n",
      "#         y_prob = clf.predict_proba(X_test)[:, 1]\n",
      "        y_pred = rndf.predict(X_test)\n",
      "        ras = roc_auc_score(y_test, y_prob)\n",
      "        igs = stats.entropy(binFreq(y_pred), binFreq(y_test))\n",
      "        ps.append(ras)\n",
      "        fs.append(igs)\n",
      "        rfs.append(feat_imp)\n",
      "        \n",
      "    ps = np.array(ps)\n",
      "    fs = np.array(fs)\n",
      "    rfs = np.array(rfs)\n",
      "    auc_scores.append(ps.mean())\n",
      "    ig_scores.append(fs.mean())\n",
      "    rfs_scores.append(rfs.mean())\n",
      "    \n",
      "    print(auc_scores)\n",
      "    print(ig_scores)\n",
      "    print(rfs_scores)"
     ],
     "language": "python",
     "metadata": {},
     "outputs": [
      {
       "output_type": "stream",
       "stream": "stdout",
       "text": [
        "[ 1.]\n",
        "[ 1.]"
       ]
      },
      {
       "output_type": "stream",
       "stream": "stdout",
       "text": [
        "\n",
        "[ 1.]"
       ]
      },
      {
       "output_type": "stream",
       "stream": "stdout",
       "text": [
        "\n",
        "[ 1.]"
       ]
      },
      {
       "output_type": "stream",
       "stream": "stdout",
       "text": [
        "\n",
        "[ 1.]"
       ]
      },
      {
       "output_type": "stream",
       "stream": "stdout",
       "text": [
        "\n",
        "[ 1.]"
       ]
      },
      {
       "output_type": "stream",
       "stream": "stdout",
       "text": [
        "\n",
        "[ 1.]"
       ]
      },
      {
       "output_type": "stream",
       "stream": "stdout",
       "text": [
        "\n",
        "[ 1.]"
       ]
      },
      {
       "output_type": "stream",
       "stream": "stdout",
       "text": [
        "\n",
        "[ 1.]"
       ]
      },
      {
       "output_type": "stream",
       "stream": "stdout",
       "text": [
        "\n",
        "[ 1.]"
       ]
      },
      {
       "output_type": "stream",
       "stream": "stdout",
       "text": [
        "\n",
        "[0.5]"
       ]
      },
      {
       "output_type": "stream",
       "stream": "stdout",
       "text": [
        "\n",
        "[0.035308450180920395]\n",
        "[1.0]\n",
        "[ 1.]"
       ]
      },
      {
       "output_type": "stream",
       "stream": "stdout",
       "text": [
        "\n",
        "[ 1.]"
       ]
      },
      {
       "output_type": "stream",
       "stream": "stdout",
       "text": [
        "\n",
        "[ 1.]"
       ]
      },
      {
       "output_type": "stream",
       "stream": "stdout",
       "text": [
        "\n",
        "[ 1.]"
       ]
      },
      {
       "output_type": "stream",
       "stream": "stdout",
       "text": [
        "\n",
        "[ 1.]"
       ]
      },
      {
       "output_type": "stream",
       "stream": "stdout",
       "text": [
        "\n",
        "[ 1.]"
       ]
      },
      {
       "output_type": "stream",
       "stream": "stdout",
       "text": [
        "\n",
        "[ 1.]"
       ]
      },
      {
       "output_type": "stream",
       "stream": "stdout",
       "text": [
        "\n",
        "[ 1.]"
       ]
      },
      {
       "output_type": "stream",
       "stream": "stdout",
       "text": [
        "\n",
        "[ 1.]"
       ]
      },
      {
       "output_type": "stream",
       "stream": "stdout",
       "text": [
        "\n",
        "[ 1.]"
       ]
      },
      {
       "output_type": "stream",
       "stream": "stdout",
       "text": [
        "\n",
        "[0.5, 0.5]"
       ]
      },
      {
       "output_type": "stream",
       "stream": "stdout",
       "text": [
        "\n",
        "[0.035308450180920395, 0.015900278873051947]\n",
        "[1.0, 1.0]\n",
        "[ 1.]"
       ]
      },
      {
       "output_type": "stream",
       "stream": "stdout",
       "text": [
        "\n",
        "[ 1.]"
       ]
      },
      {
       "output_type": "stream",
       "stream": "stdout",
       "text": [
        "\n",
        "[ 1.]"
       ]
      },
      {
       "output_type": "stream",
       "stream": "stdout",
       "text": [
        "\n",
        "[ 1.]"
       ]
      },
      {
       "output_type": "stream",
       "stream": "stdout",
       "text": [
        "\n",
        "[ 1.]"
       ]
      },
      {
       "output_type": "stream",
       "stream": "stdout",
       "text": [
        "\n",
        "[ 1.]"
       ]
      },
      {
       "output_type": "stream",
       "stream": "stdout",
       "text": [
        "\n",
        "[ 1.]"
       ]
      },
      {
       "output_type": "stream",
       "stream": "stdout",
       "text": [
        "\n",
        "[ 1.]"
       ]
      },
      {
       "output_type": "stream",
       "stream": "stdout",
       "text": [
        "\n",
        "[ 1.]"
       ]
      },
      {
       "output_type": "stream",
       "stream": "stdout",
       "text": [
        "\n",
        "[ 1.]"
       ]
      },
      {
       "output_type": "stream",
       "stream": "stdout",
       "text": [
        "\n",
        "[0.5, 0.5, 0.5]"
       ]
      },
      {
       "output_type": "stream",
       "stream": "stdout",
       "text": [
        "\n",
        "[0.035308450180920395, 0.015900278873051947, 0.027606640458033495]\n",
        "[1.0, 1.0, 1.0]\n",
        "[ 1.]"
       ]
      },
      {
       "output_type": "stream",
       "stream": "stdout",
       "text": [
        "\n",
        "[ 1.]"
       ]
      },
      {
       "output_type": "stream",
       "stream": "stdout",
       "text": [
        "\n",
        "[ 1.]"
       ]
      },
      {
       "output_type": "stream",
       "stream": "stdout",
       "text": [
        "\n",
        "[ 1.]"
       ]
      },
      {
       "output_type": "stream",
       "stream": "stdout",
       "text": [
        "\n",
        "[ 1.]"
       ]
      },
      {
       "output_type": "stream",
       "stream": "stdout",
       "text": [
        "\n",
        "[ 1.]"
       ]
      },
      {
       "output_type": "stream",
       "stream": "stdout",
       "text": [
        "\n",
        "[ 1.]"
       ]
      },
      {
       "output_type": "stream",
       "stream": "stdout",
       "text": [
        "\n",
        "[ 1.]"
       ]
      },
      {
       "output_type": "stream",
       "stream": "stdout",
       "text": [
        "\n",
        "[ 1.]"
       ]
      },
      {
       "output_type": "stream",
       "stream": "stdout",
       "text": [
        "\n",
        "[ 1.]"
       ]
      },
      {
       "output_type": "stream",
       "stream": "stdout",
       "text": [
        "\n",
        "[0.5, 0.5, 0.5, 0.5]"
       ]
      },
      {
       "output_type": "stream",
       "stream": "stdout",
       "text": [
        "\n",
        "[0.035308450180920395, 0.015900278873051947, 0.027606640458033495, 0.020287811471444019]\n",
        "[1.0, 1.0, 1.0, 1.0]\n",
        "[ 1.]"
       ]
      },
      {
       "output_type": "stream",
       "stream": "stdout",
       "text": [
        "\n",
        "[ 1.]"
       ]
      },
      {
       "output_type": "stream",
       "stream": "stdout",
       "text": [
        "\n",
        "[ 1.]"
       ]
      },
      {
       "output_type": "stream",
       "stream": "stdout",
       "text": [
        "\n",
        "[ 1.]"
       ]
      },
      {
       "output_type": "stream",
       "stream": "stdout",
       "text": [
        "\n",
        "[ 1.]"
       ]
      },
      {
       "output_type": "stream",
       "stream": "stdout",
       "text": [
        "\n",
        "[ 1.]"
       ]
      },
      {
       "output_type": "stream",
       "stream": "stdout",
       "text": [
        "\n",
        "[ 1.]"
       ]
      },
      {
       "output_type": "stream",
       "stream": "stdout",
       "text": [
        "\n",
        "[ 1.]"
       ]
      },
      {
       "output_type": "stream",
       "stream": "stdout",
       "text": [
        "\n",
        "[ 1.]"
       ]
      },
      {
       "output_type": "stream",
       "stream": "stdout",
       "text": [
        "\n",
        "[ 1.]"
       ]
      },
      {
       "output_type": "stream",
       "stream": "stdout",
       "text": [
        "\n",
        "[0.5, 0.5, 0.5, 0.5, 0.5]"
       ]
      },
      {
       "output_type": "stream",
       "stream": "stdout",
       "text": [
        "\n",
        "[0.035308450180920395, 0.015900278873051947, 0.027606640458033495, 0.020287811471444019, 0.028085748571213369]\n",
        "[1.0, 1.0, 1.0, 1.0, 1.0]\n",
        "[ 1.]"
       ]
      },
      {
       "output_type": "stream",
       "stream": "stdout",
       "text": [
        "\n",
        "[ 1.]"
       ]
      },
      {
       "output_type": "stream",
       "stream": "stdout",
       "text": [
        "\n",
        "[ 1.]"
       ]
      },
      {
       "output_type": "stream",
       "stream": "stdout",
       "text": [
        "\n",
        "[ 1.]"
       ]
      },
      {
       "output_type": "stream",
       "stream": "stdout",
       "text": [
        "\n",
        "[ 1.]"
       ]
      },
      {
       "output_type": "stream",
       "stream": "stdout",
       "text": [
        "\n",
        "[ 1.]"
       ]
      },
      {
       "output_type": "stream",
       "stream": "stdout",
       "text": [
        "\n",
        "[ 1.]"
       ]
      },
      {
       "output_type": "stream",
       "stream": "stdout",
       "text": [
        "\n",
        "[ 1.]"
       ]
      },
      {
       "output_type": "stream",
       "stream": "stdout",
       "text": [
        "\n",
        "[ 1.]"
       ]
      },
      {
       "output_type": "stream",
       "stream": "stdout",
       "text": [
        "\n",
        "[ 1.]"
       ]
      },
      {
       "output_type": "stream",
       "stream": "stdout",
       "text": [
        "\n",
        "[0.5, 0.5, 0.5, 0.5, 0.5, 0.5]"
       ]
      },
      {
       "output_type": "stream",
       "stream": "stdout",
       "text": [
        "\n",
        "[0.035308450180920395, 0.015900278873051947, 0.027606640458033495, 0.020287811471444019, 0.028085748571213369, 0.035450017068918892]\n",
        "[1.0, 1.0, 1.0, 1.0, 1.0, 1.0]\n",
        "[ 1.]"
       ]
      },
      {
       "output_type": "stream",
       "stream": "stdout",
       "text": [
        "\n",
        "[ 1.]"
       ]
      },
      {
       "output_type": "stream",
       "stream": "stdout",
       "text": [
        "\n",
        "[ 1.]"
       ]
      },
      {
       "output_type": "stream",
       "stream": "stdout",
       "text": [
        "\n",
        "[ 1.]"
       ]
      },
      {
       "output_type": "stream",
       "stream": "stdout",
       "text": [
        "\n",
        "[ 1.]"
       ]
      },
      {
       "output_type": "stream",
       "stream": "stdout",
       "text": [
        "\n",
        "[ 1.]"
       ]
      },
      {
       "output_type": "stream",
       "stream": "stdout",
       "text": [
        "\n",
        "[ 1.]"
       ]
      },
      {
       "output_type": "stream",
       "stream": "stdout",
       "text": [
        "\n",
        "[ 1.]"
       ]
      },
      {
       "output_type": "stream",
       "stream": "stdout",
       "text": [
        "\n",
        "[ 1.]"
       ]
      },
      {
       "output_type": "stream",
       "stream": "stdout",
       "text": [
        "\n",
        "[ 1.]"
       ]
      },
      {
       "output_type": "stream",
       "stream": "stdout",
       "text": [
        "\n",
        "[0.5, 0.5, 0.5, 0.5, 0.5, 0.5, 0.5]"
       ]
      },
      {
       "output_type": "stream",
       "stream": "stdout",
       "text": [
        "\n",
        "[0.035308450180920395, 0.015900278873051947, 0.027606640458033495, 0.020287811471444019, 0.028085748571213369, 0.035450017068918892, 0.0030537699131523133]\n",
        "[1.0, 1.0, 1.0, 1.0, 1.0, 1.0, 1.0]\n",
        "[ 1.]"
       ]
      },
      {
       "output_type": "stream",
       "stream": "stdout",
       "text": [
        "\n",
        "[ 1.]"
       ]
      },
      {
       "output_type": "stream",
       "stream": "stdout",
       "text": [
        "\n",
        "[ 1.]"
       ]
      },
      {
       "output_type": "stream",
       "stream": "stdout",
       "text": [
        "\n",
        "[ 1.]"
       ]
      },
      {
       "output_type": "stream",
       "stream": "stdout",
       "text": [
        "\n",
        "[ 1.]"
       ]
      },
      {
       "output_type": "stream",
       "stream": "stdout",
       "text": [
        "\n",
        "[ 1.]"
       ]
      },
      {
       "output_type": "stream",
       "stream": "stdout",
       "text": [
        "\n",
        "[ 1.]"
       ]
      },
      {
       "output_type": "stream",
       "stream": "stdout",
       "text": [
        "\n",
        "[ 1.]"
       ]
      },
      {
       "output_type": "stream",
       "stream": "stdout",
       "text": [
        "\n",
        "[ 1.]"
       ]
      },
      {
       "output_type": "stream",
       "stream": "stdout",
       "text": [
        "\n",
        "[ 1.]"
       ]
      },
      {
       "output_type": "stream",
       "stream": "stdout",
       "text": [
        "\n",
        "[0.5, 0.5, 0.5, 0.5, 0.5, 0.5, 0.5, 0.5]"
       ]
      },
      {
       "output_type": "stream",
       "stream": "stdout",
       "text": [
        "\n",
        "[0.035308450180920395, 0.015900278873051947, 0.027606640458033495, 0.020287811471444019, 0.028085748571213369, 0.035450017068918892, 0.0030537699131523133, 0.018801048240551517]\n",
        "[1.0, 1.0, 1.0, 1.0, 1.0, 1.0, 1.0, 1.0]\n",
        "[ 0.4788642  0.5211358]"
       ]
      },
      {
       "output_type": "stream",
       "stream": "stdout",
       "text": [
        "\n",
        "[ 0.52176602  0.47823398]"
       ]
      },
      {
       "output_type": "stream",
       "stream": "stdout",
       "text": [
        "\n",
        "[ 0.52003224  0.47996776]"
       ]
      },
      {
       "output_type": "stream",
       "stream": "stdout",
       "text": [
        "\n",
        "[ 0.48962287  0.51037713]"
       ]
      },
      {
       "output_type": "stream",
       "stream": "stdout",
       "text": [
        "\n",
        "[ 0.490207  0.509793]"
       ]
      },
      {
       "output_type": "stream",
       "stream": "stdout",
       "text": [
        "\n",
        "[ 0.53817953  0.46182047]"
       ]
      },
      {
       "output_type": "stream",
       "stream": "stdout",
       "text": [
        "\n",
        "[ 0.50695412  0.49304588]"
       ]
      },
      {
       "output_type": "stream",
       "stream": "stdout",
       "text": [
        "\n",
        "[ 0.50513371  0.49486629]"
       ]
      },
      {
       "output_type": "stream",
       "stream": "stdout",
       "text": [
        "\n",
        "[ 0.47597892  0.52402108]"
       ]
      },
      {
       "output_type": "stream",
       "stream": "stdout",
       "text": [
        "\n",
        "[ 0.47539702  0.52460298]"
       ]
      },
      {
       "output_type": "stream",
       "stream": "stdout",
       "text": [
        "\n",
        "[0.5, 0.5, 0.5, 0.5, 0.5, 0.5, 0.5, 0.5, 0.5]"
       ]
      },
      {
       "output_type": "stream",
       "stream": "stdout",
       "text": [
        "\n",
        "[0.035308450180920395, 0.015900278873051947, 0.027606640458033495, 0.020287811471444019, 0.028085748571213369, 0.035450017068918892, 0.0030537699131523133, 0.018801048240551517, 0.0010101978777581351]\n",
        "[1.0, 1.0, 1.0, 1.0, 1.0, 1.0, 1.0, 1.0, 0.5]\n",
        "[ 0.49016133  0.50983867]"
       ]
      },
      {
       "output_type": "stream",
       "stream": "stdout",
       "text": [
        "\n",
        "[ 0.49784275  0.50215725]"
       ]
      },
      {
       "output_type": "stream",
       "stream": "stdout",
       "text": [
        "\n",
        "[ 0.49426141  0.50573859]"
       ]
      },
      {
       "output_type": "stream",
       "stream": "stdout",
       "text": [
        "\n",
        "[ 0.46912837  0.53087163]"
       ]
      },
      {
       "output_type": "stream",
       "stream": "stdout",
       "text": [
        "\n",
        "[ 0.48310081  0.51689919]"
       ]
      },
      {
       "output_type": "stream",
       "stream": "stdout",
       "text": [
        "\n",
        "[ 0.52133058  0.47866942]"
       ]
      },
      {
       "output_type": "stream",
       "stream": "stdout",
       "text": [
        "\n",
        "[ 0.51521961  0.48478039]"
       ]
      },
      {
       "output_type": "stream",
       "stream": "stdout",
       "text": [
        "\n",
        "[ 0.49621427  0.50378573]"
       ]
      },
      {
       "output_type": "stream",
       "stream": "stdout",
       "text": [
        "\n",
        "[ 0.50363588  0.49636412]"
       ]
      },
      {
       "output_type": "stream",
       "stream": "stdout",
       "text": [
        "\n",
        "[ 0.46928802  0.53071198]"
       ]
      },
      {
       "output_type": "stream",
       "stream": "stdout",
       "text": [
        "\n",
        "[0.5, 0.5, 0.5, 0.5, 0.5, 0.5, 0.5, 0.5, 0.5, 0.5]"
       ]
      },
      {
       "output_type": "stream",
       "stream": "stdout",
       "text": [
        "\n",
        "[0.035308450180920395, 0.015900278873051947, 0.027606640458033495, 0.020287811471444019, 0.028085748571213369, 0.035450017068918892, 0.0030537699131523133, 0.018801048240551517, 0.0010101978777581351, 0.00050936119312244637]\n",
        "[1.0, 1.0, 1.0, 1.0, 1.0, 1.0, 1.0, 1.0, 0.5, 0.5]\n",
        "[ 0.37833087  0.62166913]"
       ]
      },
      {
       "output_type": "stream",
       "stream": "stdout",
       "text": [
        "\n",
        "[ 0.36526189  0.63473811]"
       ]
      },
      {
       "output_type": "stream",
       "stream": "stdout",
       "text": [
        "\n",
        "[ 0.36538459  0.63461541]"
       ]
      },
      {
       "output_type": "stream",
       "stream": "stdout",
       "text": [
        "\n",
        "[ 0.35695022  0.64304978]"
       ]
      },
      {
       "output_type": "stream",
       "stream": "stdout",
       "text": [
        "\n",
        "[ 0.36633975  0.63366025]"
       ]
      },
      {
       "output_type": "stream",
       "stream": "stdout",
       "text": [
        "\n",
        "[ 0.38494204  0.61505796]"
       ]
      },
      {
       "output_type": "stream",
       "stream": "stdout",
       "text": [
        "\n",
        "[ 0.3865745  0.6134255]"
       ]
      },
      {
       "output_type": "stream",
       "stream": "stdout",
       "text": [
        "\n",
        "[ 0.36449057  0.63550943]"
       ]
      },
      {
       "output_type": "stream",
       "stream": "stdout",
       "text": [
        "\n",
        "[ 0.34714061  0.65285939]"
       ]
      },
      {
       "output_type": "stream",
       "stream": "stdout",
       "text": [
        "\n",
        "[ 0.39385474  0.60614526]"
       ]
      },
      {
       "output_type": "stream",
       "stream": "stdout",
       "text": [
        "\n",
        "[0.5, 0.5, 0.5, 0.5, 0.5, 0.5, 0.5, 0.5, 0.5, 0.5, 0.5]"
       ]
      },
      {
       "output_type": "stream",
       "stream": "stdout",
       "text": [
        "\n",
        "[0.035308450180920395, 0.015900278873051947, 0.027606640458033495, 0.020287811471444019, 0.028085748571213369, 0.035450017068918892, 0.0030537699131523133, 0.018801048240551517, 0.0010101978777581351, 0.00050936119312244637, 0.008238681424071536]\n",
        "[1.0, 1.0, 1.0, 1.0, 1.0, 1.0, 1.0, 1.0, 0.5, 0.5, 0.5]\n",
        "[ 0.56353272  0.43646728]"
       ]
      },
      {
       "output_type": "stream",
       "stream": "stdout",
       "text": [
        "\n",
        "[ 0.56584083  0.43415917]"
       ]
      },
      {
       "output_type": "stream",
       "stream": "stdout",
       "text": [
        "\n",
        "[ 0.56515104  0.43484896]"
       ]
      },
      {
       "output_type": "stream",
       "stream": "stdout",
       "text": [
        "\n",
        "[ 0.54936709  0.45063291]"
       ]
      },
      {
       "output_type": "stream",
       "stream": "stdout",
       "text": [
        "\n",
        "[ 0.55396313  0.44603687]"
       ]
      },
      {
       "output_type": "stream",
       "stream": "stdout",
       "text": [
        "\n",
        "[ 0.59228664  0.40771336]"
       ]
      },
      {
       "output_type": "stream",
       "stream": "stdout",
       "text": [
        "\n",
        "[ 0.58977786  0.41022214]"
       ]
      },
      {
       "output_type": "stream",
       "stream": "stdout",
       "text": [
        "\n",
        "[ 0.54561938  0.45438062]"
       ]
      },
      {
       "output_type": "stream",
       "stream": "stdout",
       "text": [
        "\n",
        "[ 0.54399036  0.45600964]"
       ]
      },
      {
       "output_type": "stream",
       "stream": "stdout",
       "text": [
        "\n",
        "[ 0.53980834  0.46019166]"
       ]
      },
      {
       "output_type": "stream",
       "stream": "stdout",
       "text": [
        "\n",
        "[0.5, 0.5, 0.5, 0.5, 0.5, 0.5, 0.5, 0.5, 0.5, 0.5, 0.5, 0.5]"
       ]
      },
      {
       "output_type": "stream",
       "stream": "stdout",
       "text": [
        "\n",
        "[0.035308450180920395, 0.015900278873051947, 0.027606640458033495, 0.020287811471444019, 0.028085748571213369, 0.035450017068918892, 0.0030537699131523133, 0.018801048240551517, 0.0010101978777581351, 0.00050936119312244637, 0.008238681424071536, 0.0036143352597136787]\n",
        "[1.0, 1.0, 1.0, 1.0, 1.0, 1.0, 1.0, 1.0, 0.5, 0.5, 0.5, 0.5]\n",
        "[ 0.5745977  0.4254023]"
       ]
      },
      {
       "output_type": "stream",
       "stream": "stdout",
       "text": [
        "\n",
        "[ 0.57355294  0.42644706]"
       ]
      },
      {
       "output_type": "stream",
       "stream": "stdout",
       "text": [
        "\n",
        "[ 0.54182853  0.45817147]"
       ]
      },
      {
       "output_type": "stream",
       "stream": "stdout",
       "text": [
        "\n",
        "[ 0.56233626  0.43766374]"
       ]
      },
      {
       "output_type": "stream",
       "stream": "stdout",
       "text": [
        "\n",
        "[ 0.55698553  0.44301447]"
       ]
      },
      {
       "output_type": "stream",
       "stream": "stdout",
       "text": [
        "\n",
        "[ 0.57235543  0.42764457]"
       ]
      },
      {
       "output_type": "stream",
       "stream": "stdout",
       "text": [
        "\n",
        "[ 0.58722642  0.41277358]"
       ]
      },
      {
       "output_type": "stream",
       "stream": "stdout",
       "text": [
        "\n",
        "[ 0.56101062  0.43898938]"
       ]
      },
      {
       "output_type": "stream",
       "stream": "stdout",
       "text": [
        "\n",
        "[ 0.55294029  0.44705971]"
       ]
      },
      {
       "output_type": "stream",
       "stream": "stdout",
       "text": [
        "\n",
        "[ 0.53788514  0.46211486]"
       ]
      },
      {
       "output_type": "stream",
       "stream": "stdout",
       "text": [
        "\n",
        "[0.5, 0.5, 0.5, 0.5, 0.5, 0.5, 0.5, 0.5, 0.5, 0.5, 0.5, 0.5, 0.5]"
       ]
      },
      {
       "output_type": "stream",
       "stream": "stdout",
       "text": [
        "\n",
        "[0.035308450180920395, 0.015900278873051947, 0.027606640458033495, 0.020287811471444019, 0.028085748571213369, 0.035450017068918892, 0.0030537699131523133, 0.018801048240551517, 0.0010101978777581351, 0.00050936119312244637, 0.008238681424071536, 0.0036143352597136787, 0.005607800401233284]\n",
        "[1.0, 1.0, 1.0, 1.0, 1.0, 1.0, 1.0, 1.0, 0.5, 0.5, 0.5, 0.5, 0.5]\n",
        "[ 0.33555042  0.66444958]"
       ]
      },
      {
       "output_type": "stream",
       "stream": "stdout",
       "text": [
        "\n",
        "[ 0.24072577  0.75927423]"
       ]
      },
      {
       "output_type": "stream",
       "stream": "stdout",
       "text": [
        "\n",
        "[ 0.27370249  0.72629751]"
       ]
      },
      {
       "output_type": "stream",
       "stream": "stdout",
       "text": [
        "\n",
        "[ 0.26450451  0.73549549]"
       ]
      },
      {
       "output_type": "stream",
       "stream": "stdout",
       "text": [
        "\n",
        "[ 0.24743966  0.75256034]"
       ]
      },
      {
       "output_type": "stream",
       "stream": "stdout",
       "text": [
        "\n",
        "[ 0.26274828  0.73725172]"
       ]
      },
      {
       "output_type": "stream",
       "stream": "stdout",
       "text": [
        "\n",
        "[ 0.33227289  0.66772711]"
       ]
      },
      {
       "output_type": "stream",
       "stream": "stdout",
       "text": [
        "\n",
        "[ 0.29071203  0.70928797]"
       ]
      },
      {
       "output_type": "stream",
       "stream": "stdout",
       "text": [
        "\n",
        "[ 0.27074497  0.72925503]"
       ]
      },
      {
       "output_type": "stream",
       "stream": "stdout",
       "text": [
        "\n",
        "[ 0.26000205  0.73999795]"
       ]
      },
      {
       "output_type": "stream",
       "stream": "stdout",
       "text": [
        "\n",
        "[0.5, 0.5, 0.5, 0.5, 0.5, 0.5, 0.5, 0.5, 0.5, 0.5, 0.5, 0.5, 0.5, 0.5]"
       ]
      },
      {
       "output_type": "stream",
       "stream": "stdout",
       "text": [
        "\n",
        "[0.035308450180920395, 0.015900278873051947, 0.027606640458033495, 0.020287811471444019, 0.028085748571213369, 0.035450017068918892, 0.0030537699131523133, 0.018801048240551517, 0.0010101978777581351, 0.00050936119312244637, 0.008238681424071536, 0.0036143352597136787, 0.005607800401233284, 0.0025444087200298623]\n",
        "[1.0, 1.0, 1.0, 1.0, 1.0, 1.0, 1.0, 1.0, 0.5, 0.5, 0.5, 0.5, 0.5, 0.5]\n",
        "[ 0.60182236  0.39817764]"
       ]
      },
      {
       "output_type": "stream",
       "stream": "stdout",
       "text": [
        "\n",
        "[ 0.58350705  0.41649295]"
       ]
      },
      {
       "output_type": "stream",
       "stream": "stdout",
       "text": [
        "\n",
        "[ 0.5935384  0.4064616]"
       ]
      },
      {
       "output_type": "stream",
       "stream": "stdout",
       "text": [
        "\n",
        "[ 0.5890444  0.4109556]"
       ]
      },
      {
       "output_type": "stream",
       "stream": "stdout",
       "text": [
        "\n",
        "[ 0.56809649  0.43190351]"
       ]
      },
      {
       "output_type": "stream",
       "stream": "stdout",
       "text": [
        "\n",
        "[ 0.61170457  0.38829543]"
       ]
      },
      {
       "output_type": "stream",
       "stream": "stdout",
       "text": [
        "\n",
        "[ 0.63096869  0.36903131]"
       ]
      },
      {
       "output_type": "stream",
       "stream": "stdout",
       "text": [
        "\n",
        "[ 0.57712996  0.42287004]"
       ]
      },
      {
       "output_type": "stream",
       "stream": "stdout",
       "text": [
        "\n",
        "[ 0.55625023  0.44374977]"
       ]
      },
      {
       "output_type": "stream",
       "stream": "stdout",
       "text": [
        "\n",
        "[ 0.54611881  0.45388119]"
       ]
      },
      {
       "output_type": "stream",
       "stream": "stdout",
       "text": [
        "\n",
        "[0.5, 0.5, 0.5, 0.5, 0.5, 0.5, 0.5, 0.5, 0.5, 0.5, 0.5, 0.5, 0.5, 0.5, 0.5]"
       ]
      },
      {
       "output_type": "stream",
       "stream": "stdout",
       "text": [
        "\n",
        "[0.035308450180920395, 0.015900278873051947, 0.027606640458033495, 0.020287811471444019, 0.028085748571213369, 0.035450017068918892, 0.0030537699131523133, 0.018801048240551517, 0.0010101978777581351, 0.00050936119312244637, 0.008238681424071536, 0.0036143352597136787, 0.005607800401233284, 0.0025444087200298623, 0.019754369486924619]\n",
        "[1.0, 1.0, 1.0, 1.0, 1.0, 1.0, 1.0, 1.0, 0.5, 0.5, 0.5, 0.5, 0.5, 0.5, 0.5]\n",
        "[ 0.47205655  0.52794345]"
       ]
      },
      {
       "output_type": "stream",
       "stream": "stdout",
       "text": [
        "\n",
        "[ 0.49032178  0.50967822]"
       ]
      },
      {
       "output_type": "stream",
       "stream": "stdout",
       "text": [
        "\n",
        "[ 0.52584758  0.47415242]"
       ]
      },
      {
       "output_type": "stream",
       "stream": "stdout",
       "text": [
        "\n",
        "[ 0.48221412  0.51778588]"
       ]
      },
      {
       "output_type": "stream",
       "stream": "stdout",
       "text": [
        "\n",
        "[ 0.51475752  0.48524248]"
       ]
      },
      {
       "output_type": "stream",
       "stream": "stdout",
       "text": [
        "\n",
        "[ 0.488168  0.511832]"
       ]
      },
      {
       "output_type": "stream",
       "stream": "stdout",
       "text": [
        "\n",
        "[ 0.48300621  0.51699379]"
       ]
      },
      {
       "output_type": "stream",
       "stream": "stdout",
       "text": [
        "\n",
        "[ 0.51739031  0.48260969]"
       ]
      },
      {
       "output_type": "stream",
       "stream": "stdout",
       "text": [
        "\n",
        "[ 0.47288757  0.52711243]"
       ]
      },
      {
       "output_type": "stream",
       "stream": "stdout",
       "text": [
        "\n",
        "[ 0.53651931  0.46348069]"
       ]
      },
      {
       "output_type": "stream",
       "stream": "stdout",
       "text": [
        "\n",
        "[0.5, 0.5, 0.5, 0.5, 0.5, 0.5, 0.5, 0.5, 0.5, 0.5, 0.5, 0.5, 0.5, 0.5, 0.5, 0.5]"
       ]
      },
      {
       "output_type": "stream",
       "stream": "stdout",
       "text": [
        "\n",
        "[0.035308450180920395, 0.015900278873051947, 0.027606640458033495, 0.020287811471444019, 0.028085748571213369, 0.035450017068918892, 0.0030537699131523133, 0.018801048240551517, 0.0010101978777581351, 0.00050936119312244637, 0.008238681424071536, 0.0036143352597136787, 0.005607800401233284, 0.0025444087200298623, 0.019754369486924619, 0.008088683576243998]\n",
        "[1.0, 1.0, 1.0, 1.0, 1.0, 1.0, 1.0, 1.0, 0.5, 0.5, 0.5, 0.5, 0.5, 0.5, 0.5, 0.5]\n",
        "[ 0.40399757  0.59600243]"
       ]
      },
      {
       "output_type": "stream",
       "stream": "stdout",
       "text": [
        "\n",
        "[ 0.38177575  0.61822425]"
       ]
      },
      {
       "output_type": "stream",
       "stream": "stdout",
       "text": [
        "\n",
        "[ 0.37759441  0.62240559]"
       ]
      },
      {
       "output_type": "stream",
       "stream": "stdout",
       "text": [
        "\n",
        "[ 0.36026872  0.63973128]"
       ]
      },
      {
       "output_type": "stream",
       "stream": "stdout",
       "text": [
        "\n",
        "[ 0.3872896  0.6127104]"
       ]
      },
      {
       "output_type": "stream",
       "stream": "stdout",
       "text": [
        "\n",
        "[ 0.35255717  0.64744283]"
       ]
      },
      {
       "output_type": "stream",
       "stream": "stdout",
       "text": [
        "\n",
        "[ 0.35915861  0.64084139]"
       ]
      },
      {
       "output_type": "stream",
       "stream": "stdout",
       "text": [
        "\n",
        "[ 0.38202175  0.61797825]"
       ]
      },
      {
       "output_type": "stream",
       "stream": "stdout",
       "text": [
        "\n",
        "[ 0.37529042  0.62470958]"
       ]
      },
      {
       "output_type": "stream",
       "stream": "stdout",
       "text": [
        "\n",
        "[ 0.4047502  0.5952498]"
       ]
      },
      {
       "output_type": "stream",
       "stream": "stdout",
       "text": [
        "\n",
        "[0.5, 0.5, 0.5, 0.5, 0.5, 0.5, 0.5, 0.5, 0.5, 0.5, 0.5, 0.5, 0.5, 0.5, 0.5, 0.5, 0.5]"
       ]
      },
      {
       "output_type": "stream",
       "stream": "stdout",
       "text": [
        "\n",
        "[0.035308450180920395, 0.015900278873051947, 0.027606640458033495, 0.020287811471444019, 0.028085748571213369, 0.035450017068918892, 0.0030537699131523133, 0.018801048240551517, 0.0010101978777581351, 0.00050936119312244637, 0.008238681424071536, 0.0036143352597136787, 0.005607800401233284, 0.0025444087200298623, 0.019754369486924619, 0.008088683576243998, 0.0]\n",
        "[1.0, 1.0, 1.0, 1.0, 1.0, 1.0, 1.0, 1.0, 0.5, 0.5, 0.5, 0.5, 0.5, 0.5, 0.5, 0.5, 0.5]\n",
        "[ 0.54545805  0.45454195]"
       ]
      },
      {
       "output_type": "stream",
       "stream": "stdout",
       "text": [
        "\n",
        "[ 0.49480765  0.50519235]"
       ]
      },
      {
       "output_type": "stream",
       "stream": "stdout",
       "text": [
        "\n",
        "[ 0.50432513  0.49567487]"
       ]
      },
      {
       "output_type": "stream",
       "stream": "stdout",
       "text": [
        "\n",
        "[ 0.52470747  0.47529253]"
       ]
      },
      {
       "output_type": "stream",
       "stream": "stdout",
       "text": [
        "\n",
        "[ 0.51023497  0.48976503]"
       ]
      },
      {
       "output_type": "stream",
       "stream": "stdout",
       "text": [
        "\n",
        "[ 0.51755885  0.48244115]"
       ]
      },
      {
       "output_type": "stream",
       "stream": "stdout",
       "text": [
        "\n",
        "[ 0.53531097  0.46468903]"
       ]
      },
      {
       "output_type": "stream",
       "stream": "stdout",
       "text": [
        "\n",
        "[ 0.48718293  0.51281707]"
       ]
      },
      {
       "output_type": "stream",
       "stream": "stdout",
       "text": [
        "\n",
        "[ 0.50851962  0.49148038]"
       ]
      },
      {
       "output_type": "stream",
       "stream": "stdout",
       "text": [
        "\n",
        "[ 0.52665007  0.47334993]"
       ]
      },
      {
       "output_type": "stream",
       "stream": "stdout",
       "text": [
        "\n",
        "[0.5, 0.5, 0.5, 0.5, 0.5, 0.5, 0.5, 0.5, 0.5, 0.5, 0.5, 0.5, 0.5, 0.5, 0.5, 0.5, 0.5, 0.5]"
       ]
      },
      {
       "output_type": "stream",
       "stream": "stdout",
       "text": [
        "\n",
        "[0.035308450180920395, 0.015900278873051947, 0.027606640458033495, 0.020287811471444019, 0.028085748571213369, 0.035450017068918892, 0.0030537699131523133, 0.018801048240551517, 0.0010101978777581351, 0.00050936119312244637, 0.008238681424071536, 0.0036143352597136787, 0.005607800401233284, 0.0025444087200298623, 0.019754369486924619, 0.008088683576243998, 0.0, 0.0077047868625348317]\n",
        "[1.0, 1.0, 1.0, 1.0, 1.0, 1.0, 1.0, 1.0, 0.5, 0.5, 0.5, 0.5, 0.5, 0.5, 0.5, 0.5, 0.5, 0.5]\n",
        "[ 0.54897515  0.45102485]"
       ]
      },
      {
       "output_type": "stream",
       "stream": "stdout",
       "text": [
        "\n",
        "[ 0.49576658  0.50423342]"
       ]
      },
      {
       "output_type": "stream",
       "stream": "stdout",
       "text": [
        "\n",
        "[ 0.52949619  0.47050381]"
       ]
      },
      {
       "output_type": "stream",
       "stream": "stdout",
       "text": [
        "\n",
        "[ 0.52963173  0.47036827]"
       ]
      },
      {
       "output_type": "stream",
       "stream": "stdout",
       "text": [
        "\n",
        "[ 0.53310859  0.46689141]"
       ]
      },
      {
       "output_type": "stream",
       "stream": "stdout",
       "text": [
        "\n",
        "[ 0.52408071  0.47591929]"
       ]
      },
      {
       "output_type": "stream",
       "stream": "stdout",
       "text": [
        "\n",
        "[ 0.52575878  0.47424122]"
       ]
      },
      {
       "output_type": "stream",
       "stream": "stdout",
       "text": [
        "\n",
        "[ 0.52940111  0.47059889]"
       ]
      },
      {
       "output_type": "stream",
       "stream": "stdout",
       "text": [
        "\n",
        "[ 0.52603589  0.47396411]"
       ]
      },
      {
       "output_type": "stream",
       "stream": "stdout",
       "text": [
        "\n",
        "[ 0.51827222  0.48172778]"
       ]
      },
      {
       "output_type": "stream",
       "stream": "stdout",
       "text": [
        "\n",
        "[0.5, 0.5, 0.5, 0.5, 0.5, 0.5, 0.5, 0.5, 0.5, 0.5, 0.5, 0.5, 0.5, 0.5, 0.5, 0.5, 0.5, 0.5, 0.5]"
       ]
      },
      {
       "output_type": "stream",
       "stream": "stdout",
       "text": [
        "\n",
        "[0.035308450180920395, 0.015900278873051947, 0.027606640458033495, 0.020287811471444019, 0.028085748571213369, 0.035450017068918892, 0.0030537699131523133, 0.018801048240551517, 0.0010101978777581351, 0.00050936119312244637, 0.008238681424071536, 0.0036143352597136787, 0.005607800401233284, 0.0025444087200298623, 0.019754369486924619, 0.008088683576243998, 0.0, 0.0077047868625348317, 0.0065852856156395825]\n",
        "[1.0, 1.0, 1.0, 1.0, 1.0, 1.0, 1.0, 1.0, 0.5, 0.5, 0.5, 0.5, 0.5, 0.5, 0.5, 0.5, 0.5, 0.5, 0.50000000000000011]\n",
        "[ 0.30004379  0.69995621]"
       ]
      },
      {
       "output_type": "stream",
       "stream": "stdout",
       "text": [
        "\n",
        "[ 0.27799861  0.72200139]"
       ]
      },
      {
       "output_type": "stream",
       "stream": "stdout",
       "text": [
        "\n",
        "[ 0.27937735  0.72062265]"
       ]
      },
      {
       "output_type": "stream",
       "stream": "stdout",
       "text": [
        "\n",
        "[ 0.28900574  0.71099426]"
       ]
      },
      {
       "output_type": "stream",
       "stream": "stdout",
       "text": [
        "\n",
        "[ 0.30684839  0.69315161]"
       ]
      },
      {
       "output_type": "stream",
       "stream": "stdout",
       "text": [
        "\n",
        "[ 0.27735535  0.72264465]"
       ]
      },
      {
       "output_type": "stream",
       "stream": "stdout",
       "text": [
        "\n",
        "[ 0.27737918  0.72262082]"
       ]
      },
      {
       "output_type": "stream",
       "stream": "stdout",
       "text": [
        "\n",
        "[ 0.27974357  0.72025643]"
       ]
      },
      {
       "output_type": "stream",
       "stream": "stdout",
       "text": [
        "\n",
        "[ 0.2714499  0.7285501]"
       ]
      },
      {
       "output_type": "stream",
       "stream": "stdout",
       "text": [
        "\n",
        "[ 0.31059145  0.68940855]"
       ]
      },
      {
       "output_type": "stream",
       "stream": "stdout",
       "text": [
        "\n",
        "[0.5, 0.5, 0.5, 0.5, 0.5, 0.5, 0.5, 0.5, 0.5, 0.5, 0.5, 0.5, 0.5, 0.5, 0.5, 0.5, 0.5, 0.5, 0.5, 0.5]"
       ]
      },
      {
       "output_type": "stream",
       "stream": "stdout",
       "text": [
        "\n",
        "[0.035308450180920395, 0.015900278873051947, 0.027606640458033495, 0.020287811471444019, 0.028085748571213369, 0.035450017068918892, 0.0030537699131523133, 0.018801048240551517, 0.0010101978777581351, 0.00050936119312244637, 0.008238681424071536, 0.0036143352597136787, 0.005607800401233284, 0.0025444087200298623, 0.019754369486924619, 0.008088683576243998, 0.0, 0.0077047868625348317, 0.0065852856156395825, 0.0015393751346797165]\n",
        "[1.0, 1.0, 1.0, 1.0, 1.0, 1.0, 1.0, 1.0, 0.5, 0.5, 0.5, 0.5, 0.5, 0.5, 0.5, 0.5, 0.5, 0.5, 0.50000000000000011, 0.49999999999999989]\n",
        "[ 0.62313845  0.37686155]"
       ]
      },
      {
       "output_type": "stream",
       "stream": "stdout",
       "text": [
        "\n",
        "[ 0.6078453  0.3921547]"
       ]
      },
      {
       "output_type": "stream",
       "stream": "stdout",
       "text": [
        "\n",
        "[ 0.5979263  0.4020737]"
       ]
      },
      {
       "output_type": "stream",
       "stream": "stdout",
       "text": [
        "\n",
        "[ 0.65756802  0.34243198]"
       ]
      },
      {
       "output_type": "stream",
       "stream": "stdout",
       "text": [
        "\n",
        "[ 0.62645619  0.37354381]"
       ]
      },
      {
       "output_type": "stream",
       "stream": "stdout",
       "text": [
        "\n",
        "[ 0.60930445  0.39069555]"
       ]
      },
      {
       "output_type": "stream",
       "stream": "stdout",
       "text": [
        "\n",
        "[ 0.61070269  0.38929731]"
       ]
      },
      {
       "output_type": "stream",
       "stream": "stdout",
       "text": [
        "\n",
        "[ 0.60349564  0.39650436]"
       ]
      },
      {
       "output_type": "stream",
       "stream": "stdout",
       "text": [
        "\n",
        "[ 0.60321249  0.39678751]"
       ]
      },
      {
       "output_type": "stream",
       "stream": "stdout",
       "text": [
        "\n",
        "[ 0.62437849  0.37562151]"
       ]
      },
      {
       "output_type": "stream",
       "stream": "stdout",
       "text": [
        "\n",
        "[0.5, 0.5, 0.5, 0.5, 0.5, 0.5, 0.5, 0.5, 0.5, 0.5, 0.5, 0.5, 0.5, 0.5, 0.5, 0.5, 0.5, 0.5, 0.5, 0.5, 0.5]"
       ]
      },
      {
       "output_type": "stream",
       "stream": "stdout",
       "text": [
        "\n",
        "[0.035308450180920395, 0.015900278873051947, 0.027606640458033495, 0.020287811471444019, 0.028085748571213369, 0.035450017068918892, 0.0030537699131523133, 0.018801048240551517, 0.0010101978777581351, 0.00050936119312244637, 0.008238681424071536, 0.0036143352597136787, 0.005607800401233284, 0.0025444087200298623, 0.019754369486924619, 0.008088683576243998, 0.0, 0.0077047868625348317, 0.0065852856156395825, 0.0015393751346797165, 0.005668936813507235]\n",
        "[1.0, 1.0, 1.0, 1.0, 1.0, 1.0, 1.0, 1.0, 0.5, 0.5, 0.5, 0.5, 0.5, 0.5, 0.5, 0.5, 0.5, 0.5, 0.50000000000000011, 0.49999999999999989, 0.50000000000000011]\n",
        "[ 0.40539072  0.59460928]"
       ]
      },
      {
       "output_type": "stream",
       "stream": "stdout",
       "text": [
        "\n",
        "[ 0.39206924  0.60793076]"
       ]
      },
      {
       "output_type": "stream",
       "stream": "stdout",
       "text": [
        "\n",
        "[ 0.35876011  0.64123989]"
       ]
      },
      {
       "output_type": "stream",
       "stream": "stdout",
       "text": [
        "\n",
        "[ 0.40725807  0.59274193]"
       ]
      },
      {
       "output_type": "stream",
       "stream": "stdout",
       "text": [
        "\n",
        "[ 0.37860487  0.62139513]"
       ]
      },
      {
       "output_type": "stream",
       "stream": "stdout",
       "text": [
        "\n",
        "[ 0.3443686  0.6556314]"
       ]
      },
      {
       "output_type": "stream",
       "stream": "stdout",
       "text": [
        "\n",
        "[ 0.39733188  0.60266812]"
       ]
      },
      {
       "output_type": "stream",
       "stream": "stdout",
       "text": [
        "\n",
        "[ 0.37052053  0.62947947]"
       ]
      },
      {
       "output_type": "stream",
       "stream": "stdout",
       "text": [
        "\n",
        "[ 0.39842305  0.60157695]"
       ]
      },
      {
       "output_type": "stream",
       "stream": "stdout",
       "text": [
        "\n",
        "[ 0.45124578  0.54875422]"
       ]
      },
      {
       "output_type": "stream",
       "stream": "stdout",
       "text": [
        "\n",
        "[0.5, 0.5, 0.5, 0.5, 0.5, 0.5, 0.5, 0.5, 0.5, 0.5, 0.5, 0.5, 0.5, 0.5, 0.5, 0.5, 0.5, 0.5, 0.5, 0.5, 0.5, 0.5]"
       ]
      },
      {
       "output_type": "stream",
       "stream": "stdout",
       "text": [
        "\n",
        "[0.035308450180920395, 0.015900278873051947, 0.027606640458033495, 0.020287811471444019, 0.028085748571213369, 0.035450017068918892, 0.0030537699131523133, 0.018801048240551517, 0.0010101978777581351, 0.00050936119312244637, 0.008238681424071536, 0.0036143352597136787, 0.005607800401233284, 0.0025444087200298623, 0.019754369486924619, 0.008088683576243998, 0.0, 0.0077047868625348317, 0.0065852856156395825, 0.0015393751346797165, 0.005668936813507235, 0.0010016733692713726]\n",
        "[1.0, 1.0, 1.0, 1.0, 1.0, 1.0, 1.0, 1.0, 0.5, 0.5, 0.5, 0.5, 0.5, 0.5, 0.5, 0.5, 0.5, 0.5, 0.50000000000000011, 0.49999999999999989, 0.50000000000000011, 0.5]\n",
        "[ 0.54804387  0.45195613]"
       ]
      },
      {
       "output_type": "stream",
       "stream": "stdout",
       "text": [
        "\n",
        "[ 0.50587933  0.49412067]"
       ]
      },
      {
       "output_type": "stream",
       "stream": "stdout",
       "text": [
        "\n",
        "[ 0.51975669  0.48024331]"
       ]
      },
      {
       "output_type": "stream",
       "stream": "stdout",
       "text": [
        "\n",
        "[ 0.52727912  0.47272088]"
       ]
      },
      {
       "output_type": "stream",
       "stream": "stdout",
       "text": [
        "\n",
        "[ 0.53873659  0.46126341]"
       ]
      },
      {
       "output_type": "stream",
       "stream": "stdout",
       "text": [
        "\n",
        "[ 0.5015708  0.4984292]"
       ]
      },
      {
       "output_type": "stream",
       "stream": "stdout",
       "text": [
        "\n",
        "[ 0.50342665  0.49657335]"
       ]
      },
      {
       "output_type": "stream",
       "stream": "stdout",
       "text": [
        "\n",
        "[ 0.52098968  0.47901032]"
       ]
      },
      {
       "output_type": "stream",
       "stream": "stdout",
       "text": [
        "\n",
        "[ 0.52278939  0.47721061]"
       ]
      },
      {
       "output_type": "stream",
       "stream": "stdout",
       "text": [
        "\n",
        "[ 0.51949862  0.48050138]"
       ]
      },
      {
       "output_type": "stream",
       "stream": "stdout",
       "text": [
        "\n",
        "[0.5, 0.5, 0.5, 0.5, 0.5, 0.5, 0.5, 0.5, 0.5, 0.5, 0.5, 0.5, 0.5, 0.5, 0.5, 0.5, 0.5, 0.5, 0.5, 0.5, 0.5, 0.5, 0.5]"
       ]
      },
      {
       "output_type": "stream",
       "stream": "stdout",
       "text": [
        "\n",
        "[0.035308450180920395, 0.015900278873051947, 0.027606640458033495, 0.020287811471444019, 0.028085748571213369, 0.035450017068918892, 0.0030537699131523133, 0.018801048240551517, 0.0010101978777581351, 0.00050936119312244637, 0.008238681424071536, 0.0036143352597136787, 0.005607800401233284, 0.0025444087200298623, 0.019754369486924619, 0.008088683576243998, 0.0, 0.0077047868625348317, 0.0065852856156395825, 0.0015393751346797165, 0.005668936813507235, 0.0010016733692713726, 0.0065990598011115165]\n",
        "[1.0, 1.0, 1.0, 1.0, 1.0, 1.0, 1.0, 1.0, 0.5, 0.5, 0.5, 0.5, 0.5, 0.5, 0.5, 0.5, 0.5, 0.5, 0.50000000000000011, 0.49999999999999989, 0.50000000000000011, 0.5, 0.5]\n",
        "[ 0.54655655  0.45344345]"
       ]
      },
      {
       "output_type": "stream",
       "stream": "stdout",
       "text": [
        "\n",
        "[ 0.50628976  0.49371024]"
       ]
      },
      {
       "output_type": "stream",
       "stream": "stdout",
       "text": [
        "\n",
        "[ 0.51763027  0.48236973]"
       ]
      },
      {
       "output_type": "stream",
       "stream": "stdout",
       "text": [
        "\n",
        "[ 0.56854511  0.43145489]"
       ]
      },
      {
       "output_type": "stream",
       "stream": "stdout",
       "text": [
        "\n",
        "[ 0.51167178  0.48832822]"
       ]
      },
      {
       "output_type": "stream",
       "stream": "stdout",
       "text": [
        "\n",
        "[ 0.50426324  0.49573676]"
       ]
      },
      {
       "output_type": "stream",
       "stream": "stdout",
       "text": [
        "\n",
        "[ 0.51807055  0.48192945]"
       ]
      },
      {
       "output_type": "stream",
       "stream": "stdout",
       "text": [
        "\n",
        "[ 0.51111803  0.48888197]"
       ]
      },
      {
       "output_type": "stream",
       "stream": "stdout",
       "text": [
        "\n",
        "[ 0.5091988  0.4908012]"
       ]
      },
      {
       "output_type": "stream",
       "stream": "stdout",
       "text": [
        "\n",
        "[ 0.51726472  0.48273528]"
       ]
      },
      {
       "output_type": "stream",
       "stream": "stdout",
       "text": [
        "\n",
        "[0.5, 0.5, 0.5, 0.5, 0.5, 0.5, 0.5, 0.5, 0.5, 0.5, 0.5, 0.5, 0.5, 0.5, 0.5, 0.5, 0.5, 0.5, 0.5, 0.5, 0.5, 0.5, 0.5, 0.5]"
       ]
      },
      {
       "output_type": "stream",
       "stream": "stdout",
       "text": [
        "\n",
        "[0.035308450180920395, 0.015900278873051947, 0.027606640458033495, 0.020287811471444019, 0.028085748571213369, 0.035450017068918892, 0.0030537699131523133, 0.018801048240551517, 0.0010101978777581351, 0.00050936119312244637, 0.008238681424071536, 0.0036143352597136787, 0.005607800401233284, 0.0025444087200298623, 0.019754369486924619, 0.008088683576243998, 0.0, 0.0077047868625348317, 0.0065852856156395825, 0.0015393751346797165, 0.005668936813507235, 0.0010016733692713726, 0.0065990598011115165, 0.0050674066527983952]\n",
        "[1.0, 1.0, 1.0, 1.0, 1.0, 1.0, 1.0, 1.0, 0.5, 0.5, 0.5, 0.5, 0.5, 0.5, 0.5, 0.5, 0.5, 0.5, 0.50000000000000011, 0.49999999999999989, 0.50000000000000011, 0.5, 0.5, 0.5]\n",
        "[ 0.31570336  0.68429664]"
       ]
      },
      {
       "output_type": "stream",
       "stream": "stdout",
       "text": [
        "\n",
        "[ 0.32175564  0.67824436]"
       ]
      },
      {
       "output_type": "stream",
       "stream": "stdout",
       "text": [
        "\n",
        "[ 0.28717899  0.71282101]"
       ]
      },
      {
       "output_type": "stream",
       "stream": "stdout",
       "text": [
        "\n",
        "[ 0.25607324  0.74392676]"
       ]
      },
      {
       "output_type": "stream",
       "stream": "stdout",
       "text": [
        "\n",
        "[ 0.32092755  0.67907245]"
       ]
      },
      {
       "output_type": "stream",
       "stream": "stdout",
       "text": [
        "\n",
        "[ 0.25431551  0.74568449]"
       ]
      },
      {
       "output_type": "stream",
       "stream": "stdout",
       "text": [
        "\n",
        "[ 0.26316203  0.73683797]"
       ]
      },
      {
       "output_type": "stream",
       "stream": "stdout",
       "text": [
        "\n",
        "[ 0.2774606  0.7225394]"
       ]
      },
      {
       "output_type": "stream",
       "stream": "stdout",
       "text": [
        "\n",
        "[ 0.29045912  0.70954088]"
       ]
      },
      {
       "output_type": "stream",
       "stream": "stdout",
       "text": [
        "\n",
        "[ 0.31789254  0.68210746]"
       ]
      },
      {
       "output_type": "stream",
       "stream": "stdout",
       "text": [
        "\n",
        "[0.5, 0.5, 0.5, 0.5, 0.5, 0.5, 0.5, 0.5, 0.5, 0.5, 0.5, 0.5, 0.5, 0.5, 0.5, 0.5, 0.5, 0.5, 0.5, 0.5, 0.5, 0.5, 0.5, 0.5, 0.5]"
       ]
      },
      {
       "output_type": "stream",
       "stream": "stdout",
       "text": [
        "\n",
        "[0.035308450180920395, 0.015900278873051947, 0.027606640458033495, 0.020287811471444019, 0.028085748571213369, 0.035450017068918892, 0.0030537699131523133, 0.018801048240551517, 0.0010101978777581351, 0.00050936119312244637, 0.008238681424071536, 0.0036143352597136787, 0.005607800401233284, 0.0025444087200298623, 0.019754369486924619, 0.008088683576243998, 0.0, 0.0077047868625348317, 0.0065852856156395825, 0.0015393751346797165, 0.005668936813507235, 0.0010016733692713726, 0.0065990598011115165, 0.0050674066527983952, 0.0015393751346797165]\n",
        "[1.0, 1.0, 1.0, 1.0, 1.0, 1.0, 1.0, 1.0, 0.5, 0.5, 0.5, 0.5, 0.5, 0.5, 0.5, 0.5, 0.5, 0.5, 0.50000000000000011, 0.49999999999999989, 0.50000000000000011, 0.5, 0.5, 0.5, 0.5]\n",
        "[ 0.64289228  0.35710772]"
       ]
      },
      {
       "output_type": "stream",
       "stream": "stdout",
       "text": [
        "\n",
        "[ 0.61418106  0.38581894]"
       ]
      },
      {
       "output_type": "stream",
       "stream": "stdout",
       "text": [
        "\n",
        "[ 0.61885561  0.38114439]"
       ]
      },
      {
       "output_type": "stream",
       "stream": "stdout",
       "text": [
        "\n",
        "[ 0.61643199  0.38356801]"
       ]
      },
      {
       "output_type": "stream",
       "stream": "stdout",
       "text": [
        "\n",
        "[ 0.63688191  0.36311809]"
       ]
      },
      {
       "output_type": "stream",
       "stream": "stdout",
       "text": [
        "\n",
        "[ 0.61420723  0.38579277]"
       ]
      },
      {
       "output_type": "stream",
       "stream": "stdout",
       "text": [
        "\n",
        "[ 0.62119358  0.37880642]"
       ]
      },
      {
       "output_type": "stream",
       "stream": "stdout",
       "text": [
        "\n",
        "[ 0.6206397  0.3793603]"
       ]
      },
      {
       "output_type": "stream",
       "stream": "stdout",
       "text": [
        "\n",
        "[ 0.6147473  0.3852527]"
       ]
      },
      {
       "output_type": "stream",
       "stream": "stdout",
       "text": [
        "\n",
        "[ 0.61919795  0.38080205]"
       ]
      },
      {
       "output_type": "stream",
       "stream": "stdout",
       "text": [
        "\n",
        "[0.5, 0.5, 0.5, 0.5, 0.5, 0.5, 0.5, 0.5, 0.5, 0.5, 0.5, 0.5, 0.5, 0.5, 0.5, 0.5, 0.5, 0.5, 0.5, 0.5, 0.5, 0.5, 0.5, 0.5, 0.5, 0.5]"
       ]
      },
      {
       "output_type": "stream",
       "stream": "stdout",
       "text": [
        "\n",
        "[0.035308450180920395, 0.015900278873051947, 0.027606640458033495, 0.020287811471444019, 0.028085748571213369, 0.035450017068918892, 0.0030537699131523133, 0.018801048240551517, 0.0010101978777581351, 0.00050936119312244637, 0.008238681424071536, 0.0036143352597136787, 0.005607800401233284, 0.0025444087200298623, 0.019754369486924619, 0.008088683576243998, 0.0, 0.0077047868625348317, 0.0065852856156395825, 0.0015393751346797165, 0.005668936813507235, 0.0010016733692713726, 0.0065990598011115165, 0.0050674066527983952, 0.0015393751346797165, 0.0066773510107629745]\n",
        "[1.0, 1.0, 1.0, 1.0, 1.0, 1.0, 1.0, 1.0, 0.5, 0.5, 0.5, 0.5, 0.5, 0.5, 0.5, 0.5, 0.5, 0.5, 0.50000000000000011, 0.49999999999999989, 0.50000000000000011, 0.5, 0.5, 0.5, 0.5, 0.49999999999999989]\n",
        "[ 0.67946365  0.32053635]"
       ]
      },
      {
       "output_type": "stream",
       "stream": "stdout",
       "text": [
        "\n",
        "[ 0.66865951  0.33134049]"
       ]
      },
      {
       "output_type": "stream",
       "stream": "stdout",
       "text": [
        "\n",
        "[ 0.69996785  0.30003215]"
       ]
      },
      {
       "output_type": "stream",
       "stream": "stdout",
       "text": [
        "\n",
        "[ 0.68837375  0.31162625]"
       ]
      },
      {
       "output_type": "stream",
       "stream": "stdout",
       "text": [
        "\n",
        "[ 0.69936718  0.30063282]"
       ]
      },
      {
       "output_type": "stream",
       "stream": "stdout",
       "text": [
        "\n",
        "[ 0.72216098  0.27783902]"
       ]
      },
      {
       "output_type": "stream",
       "stream": "stdout",
       "text": [
        "\n",
        "[ 0.68858729  0.31141271]"
       ]
      },
      {
       "output_type": "stream",
       "stream": "stdout",
       "text": [
        "\n",
        "[ 0.68057935  0.31942065]"
       ]
      },
      {
       "output_type": "stream",
       "stream": "stdout",
       "text": [
        "\n",
        "[ 0.67383076  0.32616924]"
       ]
      },
      {
       "output_type": "stream",
       "stream": "stdout",
       "text": [
        "\n",
        "[ 0.65315598  0.34684402]"
       ]
      },
      {
       "output_type": "stream",
       "stream": "stdout",
       "text": [
        "\n",
        "[0.5, 0.5, 0.5, 0.5, 0.5, 0.5, 0.5, 0.5, 0.5, 0.5, 0.5, 0.5, 0.5, 0.5, 0.5, 0.5, 0.5, 0.5, 0.5, 0.5, 0.5, 0.5, 0.5, 0.5, 0.5, 0.5, 0.5]"
       ]
      },
      {
       "output_type": "stream",
       "stream": "stdout",
       "text": [
        "\n",
        "[0.035308450180920395, 0.015900278873051947, 0.027606640458033495, 0.020287811471444019, 0.028085748571213369, 0.035450017068918892, 0.0030537699131523133, 0.018801048240551517, 0.0010101978777581351, 0.00050936119312244637, 0.008238681424071536, 0.0036143352597136787, 0.005607800401233284, 0.0025444087200298623, 0.019754369486924619, 0.008088683576243998, 0.0, 0.0077047868625348317, 0.0065852856156395825, 0.0015393751346797165, 0.005668936813507235, 0.0010016733692713726, 0.0065990598011115165, 0.0050674066527983952, 0.0015393751346797165, 0.0066773510107629745, 0.0015127146704332129]\n",
        "[1.0, 1.0, 1.0, 1.0, 1.0, 1.0, 1.0, 1.0, 0.5, 0.5, 0.5, 0.5, 0.5, 0.5, 0.5, 0.5, 0.5, 0.5, 0.50000000000000011, 0.49999999999999989, 0.50000000000000011, 0.5, 0.5, 0.5, 0.5, 0.49999999999999989, 0.5]\n",
        "[ 0.7055454  0.2944546]"
       ]
      },
      {
       "output_type": "stream",
       "stream": "stdout",
       "text": [
        "\n",
        "[ 0.66578933  0.33421067]"
       ]
      },
      {
       "output_type": "stream",
       "stream": "stdout",
       "text": [
        "\n",
        "[ 0.70184102  0.29815898]"
       ]
      },
      {
       "output_type": "stream",
       "stream": "stdout",
       "text": [
        "\n",
        "[ 0.68637259  0.31362741]"
       ]
      },
      {
       "output_type": "stream",
       "stream": "stdout",
       "text": [
        "\n",
        "[ 0.70218883  0.29781117]"
       ]
      },
      {
       "output_type": "stream",
       "stream": "stdout",
       "text": [
        "\n",
        "[ 0.6847707  0.3152293]"
       ]
      },
      {
       "output_type": "stream",
       "stream": "stdout",
       "text": [
        "\n",
        "[ 0.68216469  0.31783531]"
       ]
      },
      {
       "output_type": "stream",
       "stream": "stdout",
       "text": [
        "\n",
        "[ 0.69484825  0.30515175]"
       ]
      },
      {
       "output_type": "stream",
       "stream": "stdout",
       "text": [
        "\n",
        "[ 0.67048674  0.32951326]"
       ]
      },
      {
       "output_type": "stream",
       "stream": "stdout",
       "text": [
        "\n",
        "[ 0.65715742  0.34284258]"
       ]
      },
      {
       "output_type": "stream",
       "stream": "stdout",
       "text": [
        "\n",
        "[0.5, 0.5, 0.5, 0.5, 0.5, 0.5, 0.5, 0.5, 0.5, 0.5, 0.5, 0.5, 0.5, 0.5, 0.5, 0.5, 0.5, 0.5, 0.5, 0.5, 0.5, 0.5, 0.5, 0.5, 0.5, 0.5, 0.5, 0.5]"
       ]
      },
      {
       "output_type": "stream",
       "stream": "stdout",
       "text": [
        "\n",
        "[0.035308450180920395, 0.015900278873051947, 0.027606640458033495, 0.020287811471444019, 0.028085748571213369, 0.035450017068918892, 0.0030537699131523133, 0.018801048240551517, 0.0010101978777581351, 0.00050936119312244637, 0.008238681424071536, 0.0036143352597136787, 0.005607800401233284, 0.0025444087200298623, 0.019754369486924619, 0.008088683576243998, 0.0, 0.0077047868625348317, 0.0065852856156395825, 0.0015393751346797165, 0.005668936813507235, 0.0010016733692713726, 0.0065990598011115165, 0.0050674066527983952, 0.0015393751346797165, 0.0066773510107629745, 0.0015127146704332129, 0.0010033534773107617]\n",
        "[1.0, 1.0, 1.0, 1.0, 1.0, 1.0, 1.0, 1.0, 0.5, 0.5, 0.5, 0.5, 0.5, 0.5, 0.5, 0.5, 0.5, 0.5, 0.50000000000000011, 0.49999999999999989, 0.50000000000000011, 0.5, 0.5, 0.5, 0.5, 0.49999999999999989, 0.5, 0.49999999999999989]\n",
        "[ 0.3948146  0.6051854]"
       ]
      },
      {
       "output_type": "stream",
       "stream": "stdout",
       "text": [
        "\n",
        "[ 0.33448407  0.66551593]"
       ]
      },
      {
       "output_type": "stream",
       "stream": "stdout",
       "text": [
        "\n",
        "[ 0.37388783  0.62611217]"
       ]
      },
      {
       "output_type": "stream",
       "stream": "stdout",
       "text": [
        "\n",
        "[ 0.45294906  0.54705094]"
       ]
      },
      {
       "output_type": "stream",
       "stream": "stdout",
       "text": [
        "\n",
        "[ 0.42496409  0.57503591]"
       ]
      },
      {
       "output_type": "stream",
       "stream": "stdout",
       "text": [
        "\n",
        "[ 0.43732615  0.56267385]"
       ]
      },
      {
       "output_type": "stream",
       "stream": "stdout",
       "text": [
        "\n",
        "[ 0.49234924  0.50765076]"
       ]
      },
      {
       "output_type": "stream",
       "stream": "stdout",
       "text": [
        "\n",
        "[ 0.48061372  0.51938628]"
       ]
      },
      {
       "output_type": "stream",
       "stream": "stdout",
       "text": [
        "\n",
        "[ 0.34789951  0.65210049]"
       ]
      },
      {
       "output_type": "stream",
       "stream": "stdout",
       "text": [
        "\n",
        "[ 0.38751445  0.61248555]"
       ]
      },
      {
       "output_type": "stream",
       "stream": "stdout",
       "text": [
        "\n",
        "[0.5, 0.5, 0.5, 0.5, 0.5, 0.5, 0.5, 0.5, 0.5, 0.5, 0.5, 0.5, 0.5, 0.5, 0.5, 0.5, 0.5, 0.5, 0.5, 0.5, 0.5, 0.5, 0.5, 0.5, 0.5, 0.5, 0.5, 0.5, 0.5]"
       ]
      },
      {
       "output_type": "stream",
       "stream": "stdout",
       "text": [
        "\n",
        "[0.035308450180920395, 0.015900278873051947, 0.027606640458033495, 0.020287811471444019, 0.028085748571213369, 0.035450017068918892, 0.0030537699131523133, 0.018801048240551517, 0.0010101978777581351, 0.00050936119312244637, 0.008238681424071536, 0.0036143352597136787, 0.005607800401233284, 0.0025444087200298623, 0.019754369486924619, 0.008088683576243998, 0.0, 0.0077047868625348317, 0.0065852856156395825, 0.0015393751346797165, 0.005668936813507235, 0.0010016733692713726, 0.0065990598011115165, 0.0050674066527983952, 0.0015393751346797165, 0.0066773510107629745, 0.0015127146704332129, 0.0010033534773107617, 0.0025444087200298623]\n",
        "[1.0, 1.0, 1.0, 1.0, 1.0, 1.0, 1.0, 1.0, 0.5, 0.5, 0.5, 0.5, 0.5, 0.5, 0.5, 0.5, 0.5, 0.5, 0.50000000000000011, 0.49999999999999989, 0.50000000000000011, 0.5, 0.5, 0.5, 0.5, 0.49999999999999989, 0.5, 0.49999999999999989, 0.5]\n",
        "[ 0.72566297  0.27433703]"
       ]
      },
      {
       "output_type": "stream",
       "stream": "stdout",
       "text": [
        "\n",
        "[ 0.73046983  0.26953017]"
       ]
      },
      {
       "output_type": "stream",
       "stream": "stdout",
       "text": [
        "\n",
        "[ 0.72332361  0.27667639]"
       ]
      },
      {
       "output_type": "stream",
       "stream": "stdout",
       "text": [
        "\n",
        "[ 0.73660241  0.26339759]"
       ]
      },
      {
       "output_type": "stream",
       "stream": "stdout",
       "text": [
        "\n",
        "[ 0.74582458  0.25417542]"
       ]
      },
      {
       "output_type": "stream",
       "stream": "stdout",
       "text": [
        "\n",
        "[ 0.74541738  0.25458262]"
       ]
      },
      {
       "output_type": "stream",
       "stream": "stdout",
       "text": [
        "\n",
        "[ 0.7346203  0.2653797]"
       ]
      },
      {
       "output_type": "stream",
       "stream": "stdout",
       "text": [
        "\n",
        "[ 0.70866737  0.29133263]"
       ]
      },
      {
       "output_type": "stream",
       "stream": "stdout",
       "text": [
        "\n",
        "[ 0.6895643  0.3104357]"
       ]
      },
      {
       "output_type": "stream",
       "stream": "stdout",
       "text": [
        "\n",
        "[ 0.70333711  0.29666289]"
       ]
      },
      {
       "output_type": "stream",
       "stream": "stdout",
       "text": [
        "\n",
        "[0.5, 0.5, 0.5, 0.5, 0.5, 0.5, 0.5, 0.5, 0.5, 0.5, 0.5, 0.5, 0.5, 0.5, 0.5, 0.5, 0.5, 0.5, 0.5, 0.5, 0.5, 0.5, 0.5, 0.5, 0.5, 0.5, 0.5, 0.5, 0.5, 0.5]"
       ]
      },
      {
       "output_type": "stream",
       "stream": "stdout",
       "text": [
        "\n",
        "[0.035308450180920395, 0.015900278873051947, 0.027606640458033495, 0.020287811471444019, 0.028085748571213369, 0.035450017068918892, 0.0030537699131523133, 0.018801048240551517, 0.0010101978777581351, 0.00050936119312244637, 0.008238681424071536, 0.0036143352597136787, 0.005607800401233284, 0.0025444087200298623, 0.019754369486924619, 0.008088683576243998, 0.0, 0.0077047868625348317, 0.0065852856156395825, 0.0015393751346797165, 0.005668936813507235, 0.0010016733692713726, 0.0065990598011115165, 0.0050674066527983952, 0.0015393751346797165, 0.0066773510107629745, 0.0015127146704332129, 0.0010033534773107617, 0.0025444087200298623, 0.0015127146704332129]\n",
        "[1.0, 1.0, 1.0, 1.0, 1.0, 1.0, 1.0, 1.0, 0.5, 0.5, 0.5, 0.5, 0.5, 0.5, 0.5, 0.5, 0.5, 0.5, 0.50000000000000011, 0.49999999999999989, 0.50000000000000011, 0.5, 0.5, 0.5, 0.5, 0.49999999999999989, 0.5, 0.49999999999999989, 0.5, 0.50000000000000022]\n",
        "[ 0.53614106  0.46385894]"
       ]
      },
      {
       "output_type": "stream",
       "stream": "stdout",
       "text": [
        "\n",
        "[ 0.51626659  0.48373341]"
       ]
      },
      {
       "output_type": "stream",
       "stream": "stdout",
       "text": [
        "\n",
        "[ 0.49262963  0.50737037]"
       ]
      },
      {
       "output_type": "stream",
       "stream": "stdout",
       "text": [
        "\n",
        "[ 0.47772092  0.52227908]"
       ]
      },
      {
       "output_type": "stream",
       "stream": "stdout",
       "text": [
        "\n",
        "[ 0.5066176  0.4933824]"
       ]
      },
      {
       "output_type": "stream",
       "stream": "stdout",
       "text": [
        "\n",
        "[ 0.48610118  0.51389882]"
       ]
      },
      {
       "output_type": "stream",
       "stream": "stdout",
       "text": [
        "\n",
        "[ 0.50591657  0.49408343]"
       ]
      },
      {
       "output_type": "stream",
       "stream": "stdout",
       "text": [
        "\n",
        "[ 0.5164147  0.4835853]"
       ]
      },
      {
       "output_type": "stream",
       "stream": "stdout",
       "text": [
        "\n",
        "[ 0.494823  0.505177]"
       ]
      },
      {
       "output_type": "stream",
       "stream": "stdout",
       "text": [
        "\n",
        "[ 0.48883905  0.51116095]"
       ]
      },
      {
       "output_type": "stream",
       "stream": "stdout",
       "text": [
        "\n",
        "[0.5, 0.5, 0.5, 0.5, 0.5, 0.5, 0.5, 0.5, 0.5, 0.5, 0.5, 0.5, 0.5, 0.5, 0.5, 0.5, 0.5, 0.5, 0.5, 0.5, 0.5, 0.5, 0.5, 0.5, 0.5, 0.5, 0.5, 0.5, 0.5, 0.5, 0.5]"
       ]
      },
      {
       "output_type": "stream",
       "stream": "stdout",
       "text": [
        "\n",
        "[0.035308450180920395, 0.015900278873051947, 0.027606640458033495, 0.020287811471444019, 0.028085748571213369, 0.035450017068918892, 0.0030537699131523133, 0.018801048240551517, 0.0010101978777581351, 0.00050936119312244637, 0.008238681424071536, 0.0036143352597136787, 0.005607800401233284, 0.0025444087200298623, 0.019754369486924619, 0.008088683576243998, 0.0, 0.0077047868625348317, 0.0065852856156395825, 0.0015393751346797165, 0.005668936813507235, 0.0010016733692713726, 0.0065990598011115165, 0.0050674066527983952, 0.0015393751346797165, 0.0066773510107629745, 0.0015127146704332129, 0.0010033534773107617, 0.0025444087200298623, 0.0015127146704332129, 0.020761540704040373]\n",
        "[1.0, 1.0, 1.0, 1.0, 1.0, 1.0, 1.0, 1.0, 0.5, 0.5, 0.5, 0.5, 0.5, 0.5, 0.5, 0.5, 0.5, 0.5, 0.50000000000000011, 0.49999999999999989, 0.50000000000000011, 0.5, 0.5, 0.5, 0.5, 0.49999999999999989, 0.5, 0.49999999999999989, 0.5, 0.50000000000000022, 0.5]\n",
        "[ 0.22572358  0.77427642]"
       ]
      },
      {
       "output_type": "stream",
       "stream": "stdout",
       "text": [
        "\n",
        "[ 0.19725404  0.80274596]"
       ]
      },
      {
       "output_type": "stream",
       "stream": "stdout",
       "text": [
        "\n",
        "[ 0.17653775  0.82346225]"
       ]
      },
      {
       "output_type": "stream",
       "stream": "stdout",
       "text": [
        "\n",
        "[ 0.17721559  0.82278441]"
       ]
      },
      {
       "output_type": "stream",
       "stream": "stdout",
       "text": [
        "\n",
        "[ 0.21667526  0.78332474]"
       ]
      },
      {
       "output_type": "stream",
       "stream": "stdout",
       "text": [
        "\n",
        "[ 0.22642863  0.77357137]"
       ]
      },
      {
       "output_type": "stream",
       "stream": "stdout",
       "text": [
        "\n",
        "[ 0.2387715  0.7612285]"
       ]
      },
      {
       "output_type": "stream",
       "stream": "stdout",
       "text": [
        "\n",
        "[ 0.22062717  0.77937283]"
       ]
      },
      {
       "output_type": "stream",
       "stream": "stdout",
       "text": [
        "\n",
        "[ 0.21399416  0.78600584]"
       ]
      },
      {
       "output_type": "stream",
       "stream": "stdout",
       "text": [
        "\n",
        "[ 0.1954742  0.8045258]"
       ]
      },
      {
       "output_type": "stream",
       "stream": "stdout",
       "text": [
        "\n",
        "[0.5, 0.5, 0.5, 0.5, 0.5, 0.5, 0.5, 0.5, 0.5, 0.5, 0.5, 0.5, 0.5, 0.5, 0.5, 0.5, 0.5, 0.5, 0.5, 0.5, 0.5, 0.5, 0.5, 0.5, 0.5, 0.5, 0.5, 0.5, 0.5, 0.5, 0.5, 0.5]"
       ]
      },
      {
       "output_type": "stream",
       "stream": "stdout",
       "text": [
        "\n",
        "[0.035308450180920395, 0.015900278873051947, 0.027606640458033495, 0.020287811471444019, 0.028085748571213369, 0.035450017068918892, 0.0030537699131523133, 0.018801048240551517, 0.0010101978777581351, 0.00050936119312244637, 0.008238681424071536, 0.0036143352597136787, 0.005607800401233284, 0.0025444087200298623, 0.019754369486924619, 0.008088683576243998, 0.0, 0.0077047868625348317, 0.0065852856156395825, 0.0015393751346797165, 0.005668936813507235, 0.0010016733692713726, 0.0065990598011115165, 0.0050674066527983952, 0.0015393751346797165, 0.0066773510107629745, 0.0015127146704332129, 0.0010033534773107617, 0.0025444087200298623, 0.0015127146704332129, 0.020761540704040373, 0.0010385384500440277]\n",
        "[1.0, 1.0, 1.0, 1.0, 1.0, 1.0, 1.0, 1.0, 0.5, 0.5, 0.5, 0.5, 0.5, 0.5, 0.5, 0.5, 0.5, 0.5, 0.50000000000000011, 0.49999999999999989, 0.50000000000000011, 0.5, 0.5, 0.5, 0.5, 0.49999999999999989, 0.5, 0.49999999999999989, 0.5, 0.50000000000000022, 0.5, 0.5]\n",
        "[ 0.56009702  0.43990298]"
       ]
      },
      {
       "output_type": "stream",
       "stream": "stdout",
       "text": [
        "\n",
        "[ 0.55102198  0.44897802]"
       ]
      },
      {
       "output_type": "stream",
       "stream": "stdout",
       "text": [
        "\n",
        "[ 0.56441155  0.43558845]"
       ]
      },
      {
       "output_type": "stream",
       "stream": "stdout",
       "text": [
        "\n",
        "[ 0.56872153  0.43127847]"
       ]
      },
      {
       "output_type": "stream",
       "stream": "stdout",
       "text": [
        "\n",
        "[ 0.56610524  0.43389476]"
       ]
      },
      {
       "output_type": "stream",
       "stream": "stdout",
       "text": [
        "\n",
        "[ 0.5296748  0.4703252]"
       ]
      },
      {
       "output_type": "stream",
       "stream": "stdout",
       "text": [
        "\n",
        "[ 0.57342523  0.42657477]"
       ]
      },
      {
       "output_type": "stream",
       "stream": "stdout",
       "text": [
        "\n",
        "[ 0.56173724  0.43826276]"
       ]
      },
      {
       "output_type": "stream",
       "stream": "stdout",
       "text": [
        "\n",
        "[ 0.56614928  0.43385072]"
       ]
      },
      {
       "output_type": "stream",
       "stream": "stdout",
       "text": [
        "\n",
        "[ 0.57191572  0.42808428]"
       ]
      },
      {
       "output_type": "stream",
       "stream": "stdout",
       "text": [
        "\n",
        "[0.5, 0.5, 0.5, 0.5, 0.5, 0.5, 0.5, 0.5, 0.5, 0.5, 0.5, 0.5, 0.5, 0.5, 0.5, 0.5, 0.5, 0.5, 0.5, 0.5, 0.5, 0.5, 0.5, 0.5, 0.5, 0.5, 0.5, 0.5, 0.5, 0.5, 0.5, 0.5, 0.5]"
       ]
      },
      {
       "output_type": "stream",
       "stream": "stdout",
       "text": [
        "\n",
        "[0.035308450180920395, 0.015900278873051947, 0.027606640458033495, 0.020287811471444019, 0.028085748571213369, 0.035450017068918892, 0.0030537699131523133, 0.018801048240551517, 0.0010101978777581351, 0.00050936119312244637, 0.008238681424071536, 0.0036143352597136787, 0.005607800401233284, 0.0025444087200298623, 0.019754369486924619, 0.008088683576243998, 0.0, 0.0077047868625348317, 0.0065852856156395825, 0.0015393751346797165, 0.005668936813507235, 0.0010016733692713726, 0.0065990598011115165, 0.0050674066527983952, 0.0015393751346797165, 0.0066773510107629745, 0.0015127146704332129, 0.0010033534773107617, 0.0025444087200298623, 0.0015127146704332129, 0.020761540704040373, 0.0010385384500440277, 0.0061854044439900308]\n",
        "[1.0, 1.0, 1.0, 1.0, 1.0, 1.0, 1.0, 1.0, 0.5, 0.5, 0.5, 0.5, 0.5, 0.5, 0.5, 0.5, 0.5, 0.5, 0.50000000000000011, 0.49999999999999989, 0.50000000000000011, 0.5, 0.5, 0.5, 0.5, 0.49999999999999989, 0.5, 0.49999999999999989, 0.5, 0.50000000000000022, 0.5, 0.5, 0.5]\n",
        "[ 0.18945343  0.81054657]"
       ]
      },
      {
       "output_type": "stream",
       "stream": "stdout",
       "text": [
        "\n",
        "[ 0.2730323  0.7269677]"
       ]
      },
      {
       "output_type": "stream",
       "stream": "stdout",
       "text": [
        "\n",
        "[ 0.19647475  0.80352525]"
       ]
      },
      {
       "output_type": "stream",
       "stream": "stdout",
       "text": [
        "\n",
        "[ 0.18216216  0.81783784]"
       ]
      },
      {
       "output_type": "stream",
       "stream": "stdout",
       "text": [
        "\n",
        "[ 0.2099716  0.7900284]"
       ]
      },
      {
       "output_type": "stream",
       "stream": "stdout",
       "text": [
        "\n",
        "[ 0.21800489  0.78199511]"
       ]
      },
      {
       "output_type": "stream",
       "stream": "stdout",
       "text": [
        "\n",
        "[ 0.22979523  0.77020477]"
       ]
      },
      {
       "output_type": "stream",
       "stream": "stdout",
       "text": [
        "\n",
        "[ 0.21492556  0.78507444]"
       ]
      },
      {
       "output_type": "stream",
       "stream": "stdout",
       "text": [
        "\n",
        "[ 0.22863761  0.77136239]"
       ]
      },
      {
       "output_type": "stream",
       "stream": "stdout",
       "text": [
        "\n",
        "[ 0.21965166  0.78034834]"
       ]
      },
      {
       "output_type": "stream",
       "stream": "stdout",
       "text": [
        "\n",
        "[0.5, 0.5, 0.5, 0.5, 0.5, 0.5, 0.5, 0.5, 0.5, 0.5, 0.5, 0.5, 0.5, 0.5, 0.5, 0.5, 0.5, 0.5, 0.5, 0.5, 0.5, 0.5, 0.5, 0.5, 0.5, 0.5, 0.5, 0.5, 0.5, 0.5, 0.5, 0.5, 0.5, 0.5]"
       ]
      },
      {
       "output_type": "stream",
       "stream": "stdout",
       "text": [
        "\n",
        "[0.035308450180920395, 0.015900278873051947, 0.027606640458033495, 0.020287811471444019, 0.028085748571213369, 0.035450017068918892, 0.0030537699131523133, 0.018801048240551517, 0.0010101978777581351, 0.00050936119312244637, 0.008238681424071536, 0.0036143352597136787, 0.005607800401233284, 0.0025444087200298623, 0.019754369486924619, 0.008088683576243998, 0.0, 0.0077047868625348317, 0.0065852856156395825, 0.0015393751346797165, 0.005668936813507235, 0.0010016733692713726, 0.0065990598011115165, 0.0050674066527983952, 0.0015393751346797165, 0.0066773510107629745, 0.0015127146704332129, 0.0010033534773107617, 0.0025444087200298623, 0.0015127146704332129, 0.020761540704040373, 0.0010385384500440277, 0.0061854044439900308, 0.0010385384500440277]\n",
        "[1.0, 1.0, 1.0, 1.0, 1.0, 1.0, 1.0, 1.0, 0.5, 0.5, 0.5, 0.5, 0.5, 0.5, 0.5, 0.5, 0.5, 0.5, 0.50000000000000011, 0.49999999999999989, 0.50000000000000011, 0.5, 0.5, 0.5, 0.5, 0.49999999999999989, 0.5, 0.49999999999999989, 0.5, 0.50000000000000022, 0.5, 0.5, 0.5, 0.5]\n",
        "[ 0.55309045  0.44690955]"
       ]
      },
      {
       "output_type": "stream",
       "stream": "stdout",
       "text": [
        "\n",
        "[ 0.56141198  0.43858802]"
       ]
      },
      {
       "output_type": "stream",
       "stream": "stdout",
       "text": [
        "\n",
        "[ 0.56467083  0.43532917]"
       ]
      },
      {
       "output_type": "stream",
       "stream": "stdout",
       "text": [
        "\n",
        "[ 0.56633371  0.43366629]"
       ]
      },
      {
       "output_type": "stream",
       "stream": "stdout",
       "text": [
        "\n",
        "[ 0.55902878  0.44097122]"
       ]
      },
      {
       "output_type": "stream",
       "stream": "stdout",
       "text": [
        "\n",
        "[ 0.55794816  0.44205184]"
       ]
      },
      {
       "output_type": "stream",
       "stream": "stdout",
       "text": [
        "\n",
        "[ 0.56379788  0.43620212]"
       ]
      },
      {
       "output_type": "stream",
       "stream": "stdout",
       "text": [
        "\n",
        "[ 0.57529561  0.42470439]"
       ]
      },
      {
       "output_type": "stream",
       "stream": "stdout",
       "text": [
        "\n",
        "[ 0.55138003  0.44861997]"
       ]
      },
      {
       "output_type": "stream",
       "stream": "stdout",
       "text": [
        "\n",
        "[ 0.56175132  0.43824868]"
       ]
      },
      {
       "output_type": "stream",
       "stream": "stdout",
       "text": [
        "\n",
        "[0.5, 0.5, 0.5, 0.5, 0.5, 0.5, 0.5, 0.5, 0.5, 0.5, 0.5, 0.5, 0.5, 0.5, 0.5, 0.5, 0.5, 0.5, 0.5, 0.5, 0.5, 0.5, 0.5, 0.5, 0.5, 0.5, 0.5, 0.5, 0.5, 0.5, 0.5, 0.5, 0.5, 0.5, 0.5]"
       ]
      },
      {
       "output_type": "stream",
       "stream": "stdout",
       "text": [
        "\n",
        "[0.035308450180920395, 0.015900278873051947, 0.027606640458033495, 0.020287811471444019, 0.028085748571213369, 0.035450017068918892, 0.0030537699131523133, 0.018801048240551517, 0.0010101978777581351, 0.00050936119312244637, 0.008238681424071536, 0.0036143352597136787, 0.005607800401233284, 0.0025444087200298623, 0.019754369486924619, 0.008088683576243998, 0.0, 0.0077047868625348317, 0.0065852856156395825, 0.0015393751346797165, 0.005668936813507235, 0.0010016733692713726, 0.0065990598011115165, 0.0050674066527983952, 0.0015393751346797165, 0.0066773510107629745, 0.0015127146704332129, 0.0010033534773107617, 0.0025444087200298623, 0.0015127146704332129, 0.020761540704040373, 0.0010385384500440277, 0.0061854044439900308, 0.0010385384500440277, 0.0076763527928345732]\n",
        "[1.0, 1.0, 1.0, 1.0, 1.0, 1.0, 1.0, 1.0, 0.5, 0.5, 0.5, 0.5, 0.5, 0.5, 0.5, 0.5, 0.5, 0.5, 0.50000000000000011, 0.49999999999999989, 0.50000000000000011, 0.5, 0.5, 0.5, 0.5, 0.49999999999999989, 0.5, 0.49999999999999989, 0.5, 0.50000000000000022, 0.5, 0.5, 0.5, 0.5, 0.5]\n",
        "[ 0.87015911  0.12984089]"
       ]
      },
      {
       "output_type": "stream",
       "stream": "stdout",
       "text": [
        "\n",
        "[ 0.82984253  0.17015747]"
       ]
      },
      {
       "output_type": "stream",
       "stream": "stdout",
       "text": [
        "\n",
        "[ 0.86059089  0.13940911]"
       ]
      },
      {
       "output_type": "stream",
       "stream": "stdout",
       "text": [
        "\n",
        "[ 0.85055747  0.14944253]"
       ]
      },
      {
       "output_type": "stream",
       "stream": "stdout",
       "text": [
        "\n",
        "[ 0.85835063  0.14164937]"
       ]
      },
      {
       "output_type": "stream",
       "stream": "stdout",
       "text": [
        "\n",
        "[ 0.83783852  0.16216148]"
       ]
      },
      {
       "output_type": "stream",
       "stream": "stdout",
       "text": [
        "\n",
        "[ 0.8414254  0.1585746]"
       ]
      },
      {
       "output_type": "stream",
       "stream": "stdout",
       "text": [
        "\n",
        "[ 0.85342798  0.14657202]"
       ]
      },
      {
       "output_type": "stream",
       "stream": "stdout",
       "text": [
        "\n",
        "[ 0.83327781  0.16672219]"
       ]
      },
      {
       "output_type": "stream",
       "stream": "stdout",
       "text": [
        "\n",
        "[ 0.85764754  0.14235246]"
       ]
      },
      {
       "output_type": "stream",
       "stream": "stdout",
       "text": [
        "\n",
        "[0.5, 0.5, 0.5, 0.5, 0.5, 0.5, 0.5, 0.5, 0.5, 0.5, 0.5, 0.5, 0.5, 0.5, 0.5, 0.5, 0.5, 0.5, 0.5, 0.5, 0.5, 0.5, 0.5, 0.5, 0.5, 0.5, 0.5, 0.5, 0.5, 0.5, 0.5, 0.5, 0.5, 0.5, 0.5, 0.5]"
       ]
      },
      {
       "output_type": "stream",
       "stream": "stdout",
       "text": [
        "\n",
        "[0.035308450180920395, 0.015900278873051947, 0.027606640458033495, 0.020287811471444019, 0.028085748571213369, 0.035450017068918892, 0.0030537699131523133, 0.018801048240551517, 0.0010101978777581351, 0.00050936119312244637, 0.008238681424071536, 0.0036143352597136787, 0.005607800401233284, 0.0025444087200298623, 0.019754369486924619, 0.008088683576243998, 0.0, 0.0077047868625348317, 0.0065852856156395825, 0.0015393751346797165, 0.005668936813507235, 0.0010016733692713726, 0.0065990598011115165, 0.0050674066527983952, 0.0015393751346797165, 0.0066773510107629745, 0.0015127146704332129, 0.0010033534773107617, 0.0025444087200298623, 0.0015127146704332129, 0.020761540704040373, 0.0010385384500440277, 0.0061854044439900308, 0.0010385384500440277, 0.0076763527928345732, 0.0015393751346797165]\n",
        "[1.0, 1.0, 1.0, 1.0, 1.0, 1.0, 1.0, 1.0, 0.5, 0.5, 0.5, 0.5, 0.5, 0.5, 0.5, 0.5, 0.5, 0.5, 0.50000000000000011, 0.49999999999999989, 0.50000000000000011, 0.5, 0.5, 0.5, 0.5, 0.49999999999999989, 0.5, 0.49999999999999989, 0.5, 0.50000000000000022, 0.5, 0.5, 0.5, 0.5, 0.5, 0.5]\n",
        "[ 0.3842971   0.31340386  0.30229904]"
       ]
      },
      {
       "output_type": "stream",
       "stream": "stdout",
       "text": [
        "\n",
        "[ 0.44457345  0.28196491  0.27346164]"
       ]
      },
      {
       "output_type": "stream",
       "stream": "stdout",
       "text": [
        "\n",
        "[ 0.41033561  0.27858526  0.31107913]"
       ]
      },
      {
       "output_type": "stream",
       "stream": "stdout",
       "text": [
        "\n",
        "[ 0.41435762  0.29010947  0.29553292]"
       ]
      },
      {
       "output_type": "stream",
       "stream": "stdout",
       "text": [
        "\n",
        "[ 0.43572182  0.28088003  0.28339815]"
       ]
      },
      {
       "output_type": "stream",
       "stream": "stdout",
       "text": [
        "\n",
        "[ 0.45029676  0.30340749  0.24629575]"
       ]
      },
      {
       "output_type": "stream",
       "stream": "stdout",
       "text": [
        "\n",
        "[ 0.44476456  0.2723022   0.28293323]"
       ]
      },
      {
       "output_type": "stream",
       "stream": "stdout",
       "text": [
        "\n",
        "[ 0.43405196  0.2763605   0.28958754]"
       ]
      },
      {
       "output_type": "stream",
       "stream": "stdout",
       "text": [
        "\n",
        "[ 0.42650553  0.30441104  0.26908342]"
       ]
      },
      {
       "output_type": "stream",
       "stream": "stdout",
       "text": [
        "\n",
        "[ 0.40436908  0.31062427  0.28500665]"
       ]
      },
      {
       "output_type": "stream",
       "stream": "stdout",
       "text": [
        "\n",
        "[0.5, 0.5, 0.5, 0.5, 0.5, 0.5, 0.5, 0.5, 0.5, 0.5, 0.5, 0.5, 0.5, 0.5, 0.5, 0.5, 0.5, 0.5, 0.5, 0.5, 0.5, 0.5, 0.5, 0.5, 0.5, 0.5, 0.5, 0.5, 0.5, 0.5, 0.5, 0.5, 0.5, 0.5, 0.5, 0.5, 0.5]"
       ]
      },
      {
       "output_type": "stream",
       "stream": "stdout",
       "text": [
        "\n",
        "[0.035308450180920395, 0.015900278873051947, 0.027606640458033495, 0.020287811471444019, 0.028085748571213369, 0.035450017068918892, 0.0030537699131523133, 0.018801048240551517, 0.0010101978777581351, 0.00050936119312244637, 0.008238681424071536, 0.0036143352597136787, 0.005607800401233284, 0.0025444087200298623, 0.019754369486924619, 0.008088683576243998, 0.0, 0.0077047868625348317, 0.0065852856156395825, 0.0015393751346797165, 0.005668936813507235, 0.0010016733692713726, 0.0065990598011115165, 0.0050674066527983952, 0.0015393751346797165, 0.0066773510107629745, 0.0015127146704332129, 0.0010033534773107617, 0.0025444087200298623, 0.0015127146704332129, 0.020761540704040373, 0.0010385384500440277, 0.0061854044439900308, 0.0010385384500440277, 0.0076763527928345732, 0.0015393751346797165, 0.0025548226894230226]\n",
        "[1.0, 1.0, 1.0, 1.0, 1.0, 1.0, 1.0, 1.0, 0.5, 0.5, 0.5, 0.5, 0.5, 0.5, 0.5, 0.5, 0.5, 0.5, 0.50000000000000011, 0.49999999999999989, 0.50000000000000011, 0.5, 0.5, 0.5, 0.5, 0.49999999999999989, 0.5, 0.49999999999999989, 0.5, 0.50000000000000022, 0.5, 0.5, 0.5, 0.5, 0.5, 0.5, 0.33333333333333331]\n",
        "[ 0.28202244  0.32518301  0.39279455]"
       ]
      },
      {
       "output_type": "stream",
       "stream": "stdout",
       "text": [
        "\n",
        "[ 0.26606188  0.32599706  0.40794106]"
       ]
      },
      {
       "output_type": "stream",
       "stream": "stdout",
       "text": [
        "\n",
        "[ 0.28297826  0.32883117  0.38819058]"
       ]
      },
      {
       "output_type": "stream",
       "stream": "stdout",
       "text": [
        "\n",
        "[ 0.25704334  0.33750435  0.40545231]"
       ]
      },
      {
       "output_type": "stream",
       "stream": "stdout",
       "text": [
        "\n",
        "[ 0.25668629  0.32752916  0.41578455]"
       ]
      },
      {
       "output_type": "stream",
       "stream": "stdout",
       "text": [
        "\n",
        "[ 0.24377482  0.29557375  0.46065143]"
       ]
      },
      {
       "output_type": "stream",
       "stream": "stdout",
       "text": [
        "\n",
        "[ 0.25304034  0.31478707  0.43217258]"
       ]
      },
      {
       "output_type": "stream",
       "stream": "stdout",
       "text": [
        "\n",
        "[ 0.24584536  0.32893279  0.42522185]"
       ]
      },
      {
       "output_type": "stream",
       "stream": "stdout",
       "text": [
        "\n",
        "[ 0.2688053   0.34369998  0.38749472]"
       ]
      },
      {
       "output_type": "stream",
       "stream": "stdout",
       "text": [
        "\n",
        "[ 0.26670147  0.33416676  0.39913176]"
       ]
      },
      {
       "output_type": "stream",
       "stream": "stdout",
       "text": [
        "\n",
        "[0.5, 0.5, 0.5, 0.5, 0.5, 0.5, 0.5, 0.5, 0.5, 0.5, 0.5, 0.5, 0.5, 0.5, 0.5, 0.5, 0.5, 0.5, 0.5, 0.5, 0.5, 0.5, 0.5, 0.5, 0.5, 0.5, 0.5, 0.5, 0.5, 0.5, 0.5, 0.5, 0.5, 0.5, 0.5, 0.5, 0.5, 0.5]"
       ]
      },
      {
       "output_type": "stream",
       "stream": "stdout",
       "text": [
        "\n",
        "[0.035308450180920395, 0.015900278873051947, 0.027606640458033495, 0.020287811471444019, 0.028085748571213369, 0.035450017068918892, 0.0030537699131523133, 0.018801048240551517, 0.0010101978777581351, 0.00050936119312244637, 0.008238681424071536, 0.0036143352597136787, 0.005607800401233284, 0.0025444087200298623, 0.019754369486924619, 0.008088683576243998, 0.0, 0.0077047868625348317, 0.0065852856156395825, 0.0015393751346797165, 0.005668936813507235, 0.0010016733692713726, 0.0065990598011115165, 0.0050674066527983952, 0.0015393751346797165, 0.0066773510107629745, 0.0015127146704332129, 0.0010033534773107617, 0.0025444087200298623, 0.0015127146704332129, 0.020761540704040373, 0.0010385384500440277, 0.0061854044439900308, 0.0010385384500440277, 0.0076763527928345732, 0.0015393751346797165, 0.0025548226894230226, 0.0010101978777581351]\n",
        "[1.0, 1.0, 1.0, 1.0, 1.0, 1.0, 1.0, 1.0, 0.5, 0.5, 0.5, 0.5, 0.5, 0.5, 0.5, 0.5, 0.5, 0.5, 0.50000000000000011, 0.49999999999999989, 0.50000000000000011, 0.5, 0.5, 0.5, 0.5, 0.49999999999999989, 0.5, 0.49999999999999989, 0.5, 0.50000000000000022, 0.5, 0.5, 0.5, 0.5, 0.5, 0.5, 0.33333333333333331, 0.33333333333333331]\n",
        "[ 0.38070156  0.33717903  0.28211941]"
       ]
      },
      {
       "output_type": "stream",
       "stream": "stdout",
       "text": [
        "\n",
        "[ 0.43031528  0.33026603  0.23941869]"
       ]
      },
      {
       "output_type": "stream",
       "stream": "stdout",
       "text": [
        "\n",
        "[ 0.39384065  0.32810034  0.27805901]"
       ]
      },
      {
       "output_type": "stream",
       "stream": "stdout",
       "text": [
        "\n",
        "[ 0.42092355  0.35526034  0.22381611]"
       ]
      },
      {
       "output_type": "stream",
       "stream": "stdout",
       "text": [
        "\n",
        "[ 0.41075666  0.32338299  0.26586035]"
       ]
      },
      {
       "output_type": "stream",
       "stream": "stdout",
       "text": [
        "\n",
        "[ 0.44519002  0.31480087  0.24000911]"
       ]
      },
      {
       "output_type": "stream",
       "stream": "stdout",
       "text": [
        "\n",
        "[ 0.37531126  0.34710035  0.27758839]"
       ]
      },
      {
       "output_type": "stream",
       "stream": "stdout",
       "text": [
        "\n",
        "[ 0.39013463  0.33281739  0.27704798]"
       ]
      },
      {
       "output_type": "stream",
       "stream": "stdout",
       "text": [
        "\n",
        "[ 0.41004734  0.35626125  0.23369141]"
       ]
      },
      {
       "output_type": "stream",
       "stream": "stdout",
       "text": [
        "\n",
        "[ 0.39134881  0.33556978  0.27308141]"
       ]
      },
      {
       "output_type": "stream",
       "stream": "stdout",
       "text": [
        "\n",
        "[0.5, 0.5, 0.5, 0.5, 0.5, 0.5, 0.5, 0.5, 0.5, 0.5, 0.5, 0.5, 0.5, 0.5, 0.5, 0.5, 0.5, 0.5, 0.5, 0.5, 0.5, 0.5, 0.5, 0.5, 0.5, 0.5, 0.5, 0.5, 0.5, 0.5, 0.5, 0.5, 0.5, 0.5, 0.5, 0.5, 0.5, 0.5, 0.5]"
       ]
      },
      {
       "output_type": "stream",
       "stream": "stdout",
       "text": [
        "\n",
        "[0.035308450180920395, 0.015900278873051947, 0.027606640458033495, 0.020287811471444019, 0.028085748571213369, 0.035450017068918892, 0.0030537699131523133, 0.018801048240551517, 0.0010101978777581351, 0.00050936119312244637, 0.008238681424071536, 0.0036143352597136787, 0.005607800401233284, 0.0025444087200298623, 0.019754369486924619, 0.008088683576243998, 0.0, 0.0077047868625348317, 0.0065852856156395825, 0.0015393751346797165, 0.005668936813507235, 0.0010016733692713726, 0.0065990598011115165, 0.0050674066527983952, 0.0015393751346797165, 0.0066773510107629745, 0.0015127146704332129, 0.0010033534773107617, 0.0025444087200298623, 0.0015127146704332129, 0.020761540704040373, 0.0010385384500440277, 0.0061854044439900308, 0.0010385384500440277, 0.0076763527928345732, 0.0015393751346797165, 0.0025548226894230226, 0.0010101978777581351, 0.0015393751346797213]\n",
        "[1.0, 1.0, 1.0, 1.0, 1.0, 1.0, 1.0, 1.0, 0.5, 0.5, 0.5, 0.5, 0.5, 0.5, 0.5, 0.5, 0.5, 0.5, 0.50000000000000011, 0.49999999999999989, 0.50000000000000011, 0.5, 0.5, 0.5, 0.5, 0.49999999999999989, 0.5, 0.49999999999999989, 0.5, 0.50000000000000022, 0.5, 0.5, 0.5, 0.5, 0.5, 0.5, 0.33333333333333331, 0.33333333333333331, 0.33333333333333331]\n",
        "[ 0.43713803  0.34091447  0.2219475 ]"
       ]
      },
      {
       "output_type": "stream",
       "stream": "stdout",
       "text": [
        "\n",
        "[ 0.41967075  0.29471419  0.28561506]"
       ]
      },
      {
       "output_type": "stream",
       "stream": "stdout",
       "text": [
        "\n",
        "[ 0.43336657  0.29927551  0.26735791]"
       ]
      },
      {
       "output_type": "stream",
       "stream": "stdout",
       "text": [
        "\n",
        "[ 0.41317935  0.33171124  0.25510941]"
       ]
      },
      {
       "output_type": "stream",
       "stream": "stdout",
       "text": [
        "\n",
        "[ 0.41276626  0.32301074  0.264223  ]"
       ]
      },
      {
       "output_type": "stream",
       "stream": "stdout",
       "text": [
        "\n",
        "[ 0.44320235  0.31246141  0.24433624]"
       ]
      },
      {
       "output_type": "stream",
       "stream": "stdout",
       "text": [
        "\n",
        "[ 0.42377872  0.36186571  0.21435557]"
       ]
      },
      {
       "output_type": "stream",
       "stream": "stdout",
       "text": [
        "\n",
        "[ 0.42216964  0.34638736  0.23144299]"
       ]
      },
      {
       "output_type": "stream",
       "stream": "stdout",
       "text": [
        "\n",
        "[ 0.39783225  0.31828169  0.28388605]"
       ]
      },
      {
       "output_type": "stream",
       "stream": "stdout",
       "text": [
        "\n",
        "[ 0.3829779   0.33902937  0.27799273]"
       ]
      },
      {
       "output_type": "stream",
       "stream": "stdout",
       "text": [
        "\n",
        "[0.5, 0.5, 0.5, 0.5, 0.5, 0.5, 0.5, 0.5, 0.5, 0.5, 0.5, 0.5, 0.5, 0.5, 0.5, 0.5, 0.5, 0.5, 0.5, 0.5, 0.5, 0.5, 0.5, 0.5, 0.5, 0.5, 0.5, 0.5, 0.5, 0.5, 0.5, 0.5, 0.5, 0.5, 0.5, 0.5, 0.5, 0.5, 0.5, 0.5]"
       ]
      },
      {
       "output_type": "stream",
       "stream": "stdout",
       "text": [
        "\n",
        "[0.035308450180920395, 0.015900278873051947, 0.027606640458033495, 0.020287811471444019, 0.028085748571213369, 0.035450017068918892, 0.0030537699131523133, 0.018801048240551517, 0.0010101978777581351, 0.00050936119312244637, 0.008238681424071536, 0.0036143352597136787, 0.005607800401233284, 0.0025444087200298623, 0.019754369486924619, 0.008088683576243998, 0.0, 0.0077047868625348317, 0.0065852856156395825, 0.0015393751346797165, 0.005668936813507235, 0.0010016733692713726, 0.0065990598011115165, 0.0050674066527983952, 0.0015393751346797165, 0.0066773510107629745, 0.0015127146704332129, 0.0010033534773107617, 0.0025444087200298623, 0.0015127146704332129, 0.020761540704040373, 0.0010385384500440277, 0.0061854044439900308, 0.0010385384500440277, 0.0076763527928345732, 0.0015393751346797165, 0.0025548226894230226, 0.0010101978777581351, 0.0015393751346797213, 0.0005008366846356888]\n",
        "[1.0, 1.0, 1.0, 1.0, 1.0, 1.0, 1.0, 1.0, 0.5, 0.5, 0.5, 0.5, 0.5, 0.5, 0.5, 0.5, 0.5, 0.5, 0.50000000000000011, 0.49999999999999989, 0.50000000000000011, 0.5, 0.5, 0.5, 0.5, 0.49999999999999989, 0.5, 0.49999999999999989, 0.5, 0.50000000000000022, 0.5, 0.5, 0.5, 0.5, 0.5, 0.5, 0.33333333333333331, 0.33333333333333331, 0.33333333333333331, 0.33333333333333326]\n",
        "[ 0.21552891  0.23101314  0.55345794]"
       ]
      },
      {
       "output_type": "stream",
       "stream": "stdout",
       "text": [
        "\n",
        "[ 0.28855993  0.26359018  0.44784989]"
       ]
      },
      {
       "output_type": "stream",
       "stream": "stdout",
       "text": [
        "\n",
        "[ 0.21095881  0.20285732  0.58618387]"
       ]
      },
      {
       "output_type": "stream",
       "stream": "stdout",
       "text": [
        "\n",
        "[ 0.25058316  0.23369688  0.51571996]"
       ]
      },
      {
       "output_type": "stream",
       "stream": "stdout",
       "text": [
        "\n",
        "[ 0.22884167  0.24102734  0.530131  ]"
       ]
      },
      {
       "output_type": "stream",
       "stream": "stdout",
       "text": [
        "\n",
        "[ 0.24182266  0.25559336  0.50258398]"
       ]
      },
      {
       "output_type": "stream",
       "stream": "stdout",
       "text": [
        "\n",
        "[ 0.2792157   0.24646215  0.47432215]"
       ]
      },
      {
       "output_type": "stream",
       "stream": "stdout",
       "text": [
        "\n",
        "[ 0.2655374   0.24315975  0.49130286]"
       ]
      },
      {
       "output_type": "stream",
       "stream": "stdout",
       "text": [
        "\n",
        "[ 0.25172089  0.22820574  0.52007336]"
       ]
      },
      {
       "output_type": "stream",
       "stream": "stdout",
       "text": [
        "\n",
        "[ 0.22792851  0.29446046  0.47761103]"
       ]
      },
      {
       "output_type": "stream",
       "stream": "stdout",
       "text": [
        "\n",
        "[0.5, 0.5, 0.5, 0.5, 0.5, 0.5, 0.5, 0.5, 0.5, 0.5, 0.5, 0.5, 0.5, 0.5, 0.5, 0.5, 0.5, 0.5, 0.5, 0.5, 0.5, 0.5, 0.5, 0.5, 0.5, 0.5, 0.5, 0.5, 0.5, 0.5, 0.5, 0.5, 0.5, 0.5, 0.5, 0.5, 0.5, 0.5, 0.5, 0.5, 0.5]"
       ]
      },
      {
       "output_type": "stream",
       "stream": "stdout",
       "text": [
        "\n",
        "[0.035308450180920395, 0.015900278873051947, 0.027606640458033495, 0.020287811471444019, 0.028085748571213369, 0.035450017068918892, 0.0030537699131523133, 0.018801048240551517, 0.0010101978777581351, 0.00050936119312244637, 0.008238681424071536, 0.0036143352597136787, 0.005607800401233284, 0.0025444087200298623, 0.019754369486924619, 0.008088683576243998, 0.0, 0.0077047868625348317, 0.0065852856156395825, 0.0015393751346797165, 0.005668936813507235, 0.0010016733692713726, 0.0065990598011115165, 0.0050674066527983952, 0.0015393751346797165, 0.0066773510107629745, 0.0015127146704332129, 0.0010033534773107617, 0.0025444087200298623, 0.0015127146704332129, 0.020761540704040373, 0.0010385384500440277, 0.0061854044439900308, 0.0010385384500440277, 0.0076763527928345732, 0.0015393751346797165, 0.0025548226894230226, 0.0010101978777581351, 0.0015393751346797213, 0.0005008366846356888, 0.0015393751346797165]\n",
        "[1.0, 1.0, 1.0, 1.0, 1.0, 1.0, 1.0, 1.0, 0.5, 0.5, 0.5, 0.5, 0.5, 0.5, 0.5, 0.5, 0.5, 0.5, 0.50000000000000011, 0.49999999999999989, 0.50000000000000011, 0.5, 0.5, 0.5, 0.5, 0.49999999999999989, 0.5, 0.49999999999999989, 0.5, 0.50000000000000022, 0.5, 0.5, 0.5, 0.5, 0.5, 0.5, 0.33333333333333331, 0.33333333333333331, 0.33333333333333331, 0.33333333333333326, 0.33333333333333337]\n",
        "[ 0.36516675  0.43062608  0.20420717]"
       ]
      },
      {
       "output_type": "stream",
       "stream": "stdout",
       "text": [
        "\n",
        "[ 0.39524254  0.41088317  0.19387428]"
       ]
      },
      {
       "output_type": "stream",
       "stream": "stdout",
       "text": [
        "\n",
        "[ 0.39069027  0.40375305  0.20555668]"
       ]
      },
      {
       "output_type": "stream",
       "stream": "stdout",
       "text": [
        "\n",
        "[ 0.35392214  0.44960146  0.1964764 ]"
       ]
      },
      {
       "output_type": "stream",
       "stream": "stdout",
       "text": [
        "\n",
        "[ 0.34782075  0.4291488   0.22303045]"
       ]
      },
      {
       "output_type": "stream",
       "stream": "stdout",
       "text": [
        "\n",
        "[ 0.37949724  0.404633    0.21586977]"
       ]
      },
      {
       "output_type": "stream",
       "stream": "stdout",
       "text": [
        "\n",
        "[ 0.39848853  0.40964242  0.19186905]"
       ]
      },
      {
       "output_type": "stream",
       "stream": "stdout",
       "text": [
        "\n",
        "[ 0.39888729  0.38259772  0.21851499]"
       ]
      },
      {
       "output_type": "stream",
       "stream": "stdout",
       "text": [
        "\n",
        "[ 0.35698204  0.42333813  0.21967982]"
       ]
      },
      {
       "output_type": "stream",
       "stream": "stdout",
       "text": [
        "\n",
        "[ 0.32140658  0.47656085  0.20203257]"
       ]
      },
      {
       "output_type": "stream",
       "stream": "stdout",
       "text": [
        "\n",
        "[0.5, 0.5, 0.5, 0.5, 0.5, 0.5, 0.5, 0.5, 0.5, 0.5, 0.5, 0.5, 0.5, 0.5, 0.5, 0.5, 0.5, 0.5, 0.5, 0.5, 0.5, 0.5, 0.5, 0.5, 0.5, 0.5, 0.5, 0.5, 0.5, 0.5, 0.5, 0.5, 0.5, 0.5, 0.5, 0.5, 0.5, 0.5, 0.5, 0.5, 0.5, 0.5]"
       ]
      },
      {
       "output_type": "stream",
       "stream": "stdout",
       "text": [
        "\n",
        "[0.035308450180920395, 0.015900278873051947, 0.027606640458033495, 0.020287811471444019, 0.028085748571213369, 0.035450017068918892, 0.0030537699131523133, 0.018801048240551517, 0.0010101978777581351, 0.00050936119312244637, 0.008238681424071536, 0.0036143352597136787, 0.005607800401233284, 0.0025444087200298623, 0.019754369486924619, 0.008088683576243998, 0.0, 0.0077047868625348317, 0.0065852856156395825, 0.0015393751346797165, 0.005668936813507235, 0.0010016733692713726, 0.0065990598011115165, 0.0050674066527983952, 0.0015393751346797165, 0.0066773510107629745, 0.0015127146704332129, 0.0010033534773107617, 0.0025444087200298623, 0.0015127146704332129, 0.020761540704040373, 0.0010385384500440277, 0.0061854044439900308, 0.0010385384500440277, 0.0076763527928345732, 0.0015393751346797165, 0.0025548226894230226, 0.0010101978777581351, 0.0015393751346797213, 0.0005008366846356888, 0.0015393751346797165, 0.0010101978777581351]\n",
        "[1.0, 1.0, 1.0, 1.0, 1.0, 1.0, 1.0, 1.0, 0.5, 0.5, 0.5, 0.5, 0.5, 0.5, 0.5, 0.5, 0.5, 0.5, 0.50000000000000011, 0.49999999999999989, 0.50000000000000011, 0.5, 0.5, 0.5, 0.5, 0.49999999999999989, 0.5, 0.49999999999999989, 0.5, 0.50000000000000022, 0.5, 0.5, 0.5, 0.5, 0.5, 0.5, 0.33333333333333331, 0.33333333333333331, 0.33333333333333331, 0.33333333333333326, 0.33333333333333337, 0.33333333333333326]\n",
        "[ 0.26188256  0.31426768  0.42384976]"
       ]
      },
      {
       "output_type": "stream",
       "stream": "stdout",
       "text": [
        "\n",
        "[ 0.28487097  0.34706549  0.36806354]"
       ]
      },
      {
       "output_type": "stream",
       "stream": "stdout",
       "text": [
        "\n",
        "[ 0.26714286  0.32981906  0.40303808]"
       ]
      },
      {
       "output_type": "stream",
       "stream": "stdout",
       "text": [
        "\n",
        "[ 0.25640451  0.32304764  0.42054785]"
       ]
      },
      {
       "output_type": "stream",
       "stream": "stdout",
       "text": [
        "\n",
        "[ 0.27542271  0.33171886  0.39285843]"
       ]
      },
      {
       "output_type": "stream",
       "stream": "stdout",
       "text": [
        "\n",
        "[ 0.26812938  0.3364302   0.39544042]"
       ]
      },
      {
       "output_type": "stream",
       "stream": "stdout",
       "text": [
        "\n",
        "[ 0.24622307  0.31124279  0.44253414]"
       ]
      },
      {
       "output_type": "stream",
       "stream": "stdout",
       "text": [
        "\n",
        "[ 0.25881794  0.36409684  0.37708522]"
       ]
      },
      {
       "output_type": "stream",
       "stream": "stdout",
       "text": [
        "\n",
        "[ 0.28268007  0.33956271  0.37775722]"
       ]
      },
      {
       "output_type": "stream",
       "stream": "stdout",
       "text": [
        "\n",
        "[ 0.26209153  0.3606773   0.37723117]"
       ]
      },
      {
       "output_type": "stream",
       "stream": "stdout",
       "text": [
        "\n",
        "[0.5, 0.5, 0.5, 0.5, 0.5, 0.5, 0.5, 0.5, 0.5, 0.5, 0.5, 0.5, 0.5, 0.5, 0.5, 0.5, 0.5, 0.5, 0.5, 0.5, 0.5, 0.5, 0.5, 0.5, 0.5, 0.5, 0.5, 0.5, 0.5, 0.5, 0.5, 0.5, 0.5, 0.5, 0.5, 0.5, 0.5, 0.5, 0.5, 0.5, 0.5, 0.5, 0.5]"
       ]
      },
      {
       "output_type": "stream",
       "stream": "stdout",
       "text": [
        "\n",
        "[0.035308450180920395, 0.015900278873051947, 0.027606640458033495, 0.020287811471444019, 0.028085748571213369, 0.035450017068918892, 0.0030537699131523133, 0.018801048240551517, 0.0010101978777581351, 0.00050936119312244637, 0.008238681424071536, 0.0036143352597136787, 0.005607800401233284, 0.0025444087200298623, 0.019754369486924619, 0.008088683576243998, 0.0, 0.0077047868625348317, 0.0065852856156395825, 0.0015393751346797165, 0.005668936813507235, 0.0010016733692713726, 0.0065990598011115165, 0.0050674066527983952, 0.0015393751346797165, 0.0066773510107629745, 0.0015127146704332129, 0.0010033534773107617, 0.0025444087200298623, 0.0015127146704332129, 0.020761540704040373, 0.0010385384500440277, 0.0061854044439900308, 0.0010385384500440277, 0.0076763527928345732, 0.0015393751346797165, 0.0025548226894230226, 0.0010101978777581351, 0.0015393751346797213, 0.0005008366846356888, 0.0015393751346797165, 0.0010101978777581351, 0.0010101978777581351]\n",
        "[1.0, 1.0, 1.0, 1.0, 1.0, 1.0, 1.0, 1.0, 0.5, 0.5, 0.5, 0.5, 0.5, 0.5, 0.5, 0.5, 0.5, 0.5, 0.50000000000000011, 0.49999999999999989, 0.50000000000000011, 0.5, 0.5, 0.5, 0.5, 0.49999999999999989, 0.5, 0.49999999999999989, 0.5, 0.50000000000000022, 0.5, 0.5, 0.5, 0.5, 0.5, 0.5, 0.33333333333333331, 0.33333333333333331, 0.33333333333333331, 0.33333333333333326, 0.33333333333333337, 0.33333333333333326, 0.33333333333333331]\n",
        "[ 0.36541593  0.39914681  0.23543726]"
       ]
      },
      {
       "output_type": "stream",
       "stream": "stdout",
       "text": [
        "\n",
        "[ 0.39649055  0.3593495   0.24415994]"
       ]
      },
      {
       "output_type": "stream",
       "stream": "stdout",
       "text": [
        "\n",
        "[ 0.39930161  0.33540826  0.26529013]"
       ]
      },
      {
       "output_type": "stream",
       "stream": "stdout",
       "text": [
        "\n",
        "[ 0.398945    0.37321381  0.22784119]"
       ]
      },
      {
       "output_type": "stream",
       "stream": "stdout",
       "text": [
        "\n",
        "[ 0.38799002  0.37776226  0.23424772]"
       ]
      },
      {
       "output_type": "stream",
       "stream": "stdout",
       "text": [
        "\n",
        "[ 0.39809111  0.3358049   0.26610399]"
       ]
      },
      {
       "output_type": "stream",
       "stream": "stdout",
       "text": [
        "\n",
        "[ 0.40341018  0.35764039  0.23894944]"
       ]
      },
      {
       "output_type": "stream",
       "stream": "stdout",
       "text": [
        "\n",
        "[ 0.41120969  0.36944841  0.2193419 ]"
       ]
      },
      {
       "output_type": "stream",
       "stream": "stdout",
       "text": [
        "\n",
        "[ 0.38988094  0.3258222   0.28429686]"
       ]
      },
      {
       "output_type": "stream",
       "stream": "stdout",
       "text": [
        "\n",
        "[ 0.38113784  0.36005779  0.25880437]"
       ]
      },
      {
       "output_type": "stream",
       "stream": "stdout",
       "text": [
        "\n",
        "[0.5, 0.5, 0.5, 0.5, 0.5, 0.5, 0.5, 0.5, 0.5, 0.5, 0.5, 0.5, 0.5, 0.5, 0.5, 0.5, 0.5, 0.5, 0.5, 0.5, 0.5, 0.5, 0.5, 0.5, 0.5, 0.5, 0.5, 0.5, 0.5, 0.5, 0.5, 0.5, 0.5, 0.5, 0.5, 0.5, 0.5, 0.5, 0.5, 0.5, 0.5, 0.5, 0.5, 0.5]"
       ]
      },
      {
       "output_type": "stream",
       "stream": "stdout",
       "text": [
        "\n",
        "[0.035308450180920395, 0.015900278873051947, 0.027606640458033495, 0.020287811471444019, 0.028085748571213369, 0.035450017068918892, 0.0030537699131523133, 0.018801048240551517, 0.0010101978777581351, 0.00050936119312244637, 0.008238681424071536, 0.0036143352597136787, 0.005607800401233284, 0.0025444087200298623, 0.019754369486924619, 0.008088683576243998, 0.0, 0.0077047868625348317, 0.0065852856156395825, 0.0015393751346797165, 0.005668936813507235, 0.0010016733692713726, 0.0065990598011115165, 0.0050674066527983952, 0.0015393751346797165, 0.0066773510107629745, 0.0015127146704332129, 0.0010033534773107617, 0.0025444087200298623, 0.0015127146704332129, 0.020761540704040373, 0.0010385384500440277, 0.0061854044439900308, 0.0010385384500440277, 0.0076763527928345732, 0.0015393751346797165, 0.0025548226894230226, 0.0010101978777581351, 0.0015393751346797213, 0.0005008366846356888, 0.0015393751346797165, 0.0010101978777581351, 0.0010101978777581351, 0.0010300139415572653]\n",
        "[1.0, 1.0, 1.0, 1.0, 1.0, 1.0, 1.0, 1.0, 0.5, 0.5, 0.5, 0.5, 0.5, 0.5, 0.5, 0.5, 0.5, 0.5, 0.50000000000000011, 0.49999999999999989, 0.50000000000000011, 0.5, 0.5, 0.5, 0.5, 0.49999999999999989, 0.5, 0.49999999999999989, 0.5, 0.50000000000000022, 0.5, 0.5, 0.5, 0.5, 0.5, 0.5, 0.33333333333333331, 0.33333333333333331, 0.33333333333333331, 0.33333333333333326, 0.33333333333333337, 0.33333333333333326, 0.33333333333333331, 0.33333333333333331]\n",
        "[ 0.37568846  0.39408968  0.23022186]"
       ]
      },
      {
       "output_type": "stream",
       "stream": "stdout",
       "text": [
        "\n",
        "[ 0.40336367  0.34680986  0.24982647]"
       ]
      },
      {
       "output_type": "stream",
       "stream": "stdout",
       "text": [
        "\n",
        "[ 0.4011027   0.36315899  0.23573831]"
       ]
      },
      {
       "output_type": "stream",
       "stream": "stdout",
       "text": [
        "\n",
        "[ 0.42028286  0.34898902  0.23072812]"
       ]
      },
      {
       "output_type": "stream",
       "stream": "stdout",
       "text": [
        "\n",
        "[ 0.4158656   0.31068912  0.27344528]"
       ]
      },
      {
       "output_type": "stream",
       "stream": "stdout",
       "text": [
        "\n",
        "[ 0.41903886  0.33128125  0.2496799 ]"
       ]
      },
      {
       "output_type": "stream",
       "stream": "stdout",
       "text": [
        "\n",
        "[ 0.40725917  0.33959274  0.25314809]"
       ]
      },
      {
       "output_type": "stream",
       "stream": "stdout",
       "text": [
        "\n",
        "[ 0.41244872  0.33257703  0.25497425]"
       ]
      },
      {
       "output_type": "stream",
       "stream": "stdout",
       "text": [
        "\n",
        "[ 0.39957151  0.32378307  0.27664541]"
       ]
      },
      {
       "output_type": "stream",
       "stream": "stdout",
       "text": [
        "\n",
        "[ 0.39242659  0.35054201  0.25703139]"
       ]
      },
      {
       "output_type": "stream",
       "stream": "stdout",
       "text": [
        "\n",
        "[0.5, 0.5, 0.5, 0.5, 0.5, 0.5, 0.5, 0.5, 0.5, 0.5, 0.5, 0.5, 0.5, 0.5, 0.5, 0.5, 0.5, 0.5, 0.5, 0.5, 0.5, 0.5, 0.5, 0.5, 0.5, 0.5, 0.5, 0.5, 0.5, 0.5, 0.5, 0.5, 0.5, 0.5, 0.5, 0.5, 0.5, 0.5, 0.5, 0.5, 0.5, 0.5, 0.5, 0.5, 0.5]"
       ]
      },
      {
       "output_type": "stream",
       "stream": "stdout",
       "text": [
        "\n",
        "[0.035308450180920395, 0.015900278873051947, 0.027606640458033495, 0.020287811471444019, 0.028085748571213369, 0.035450017068918892, 0.0030537699131523133, 0.018801048240551517, 0.0010101978777581351, 0.00050936119312244637, 0.008238681424071536, 0.0036143352597136787, 0.005607800401233284, 0.0025444087200298623, 0.019754369486924619, 0.008088683576243998, 0.0, 0.0077047868625348317, 0.0065852856156395825, 0.0015393751346797165, 0.005668936813507235, 0.0010016733692713726, 0.0065990598011115165, 0.0050674066527983952, 0.0015393751346797165, 0.0066773510107629745, 0.0015127146704332129, 0.0010033534773107617, 0.0025444087200298623, 0.0015127146704332129, 0.020761540704040373, 0.0010385384500440277, 0.0061854044439900308, 0.0010385384500440277, 0.0076763527928345732, 0.0015393751346797165, 0.0025548226894230226, 0.0010101978777581351, 0.0015393751346797213, 0.0005008366846356888, 0.0015393751346797165, 0.0010101978777581351, 0.0010101978777581351, 0.0010300139415572653, 0.00050936119312244637]\n",
        "[1.0, 1.0, 1.0, 1.0, 1.0, 1.0, 1.0, 1.0, 0.5, 0.5, 0.5, 0.5, 0.5, 0.5, 0.5, 0.5, 0.5, 0.5, 0.50000000000000011, 0.49999999999999989, 0.50000000000000011, 0.5, 0.5, 0.5, 0.5, 0.49999999999999989, 0.5, 0.49999999999999989, 0.5, 0.50000000000000022, 0.5, 0.5, 0.5, 0.5, 0.5, 0.5, 0.33333333333333331, 0.33333333333333331, 0.33333333333333331, 0.33333333333333326, 0.33333333333333337, 0.33333333333333326, 0.33333333333333331, 0.33333333333333331, 0.33333333333333331]\n",
        "[ 0.22936281  0.29456733  0.47606986]"
       ]
      },
      {
       "output_type": "stream",
       "stream": "stdout",
       "text": [
        "\n",
        "[ 0.2415853   0.22486894  0.53354577]"
       ]
      },
      {
       "output_type": "stream",
       "stream": "stdout",
       "text": [
        "\n",
        "[ 0.23752458  0.25623079  0.50624463]"
       ]
      },
      {
       "output_type": "stream",
       "stream": "stdout",
       "text": [
        "\n",
        "[ 0.19922112  0.25761692  0.54316196]"
       ]
      },
      {
       "output_type": "stream",
       "stream": "stdout",
       "text": [
        "\n",
        "[ 0.21853154  0.2801594   0.50130906]"
       ]
      },
      {
       "output_type": "stream",
       "stream": "stdout",
       "text": [
        "\n",
        "[ 0.25144863  0.2839461   0.46460527]"
       ]
      },
      {
       "output_type": "stream",
       "stream": "stdout",
       "text": [
        "\n",
        "[ 0.22723329  0.2804818   0.49228491]"
       ]
      },
      {
       "output_type": "stream",
       "stream": "stdout",
       "text": [
        "\n",
        "[ 0.21893144  0.26896889  0.51209967]"
       ]
      },
      {
       "output_type": "stream",
       "stream": "stdout",
       "text": [
        "\n",
        "[ 0.23711859  0.26449644  0.49838497]"
       ]
      },
      {
       "output_type": "stream",
       "stream": "stdout",
       "text": [
        "\n",
        "[ 0.248729    0.30887753  0.44239347]"
       ]
      },
      {
       "output_type": "stream",
       "stream": "stdout",
       "text": [
        "\n",
        "[0.5, 0.5, 0.5, 0.5, 0.5, 0.5, 0.5, 0.5, 0.5, 0.5, 0.5, 0.5, 0.5, 0.5, 0.5, 0.5, 0.5, 0.5, 0.5, 0.5, 0.5, 0.5, 0.5, 0.5, 0.5, 0.5, 0.5, 0.5, 0.5, 0.5, 0.5, 0.5, 0.5, 0.5, 0.5, 0.5, 0.5, 0.5, 0.5, 0.5, 0.5, 0.5, 0.5, 0.5, 0.5, 0.5]"
       ]
      },
      {
       "output_type": "stream",
       "stream": "stdout",
       "text": [
        "\n",
        "[0.035308450180920395, 0.015900278873051947, 0.027606640458033495, 0.020287811471444019, 0.028085748571213369, 0.035450017068918892, 0.0030537699131523133, 0.018801048240551517, 0.0010101978777581351, 0.00050936119312244637, 0.008238681424071536, 0.0036143352597136787, 0.005607800401233284, 0.0025444087200298623, 0.019754369486924619, 0.008088683576243998, 0.0, 0.0077047868625348317, 0.0065852856156395825, 0.0015393751346797165, 0.005668936813507235, 0.0010016733692713726, 0.0065990598011115165, 0.0050674066527983952, 0.0015393751346797165, 0.0066773510107629745, 0.0015127146704332129, 0.0010033534773107617, 0.0025444087200298623, 0.0015127146704332129, 0.020761540704040373, 0.0010385384500440277, 0.0061854044439900308, 0.0010385384500440277, 0.0076763527928345732, 0.0015393751346797165, 0.0025548226894230226, 0.0010101978777581351, 0.0015393751346797213, 0.0005008366846356888, 0.0015393751346797165, 0.0010101978777581351, 0.0010101978777581351, 0.0010300139415572653, 0.00050936119312244637, 0.0015393751346797165]\n",
        "[1.0, 1.0, 1.0, 1.0, 1.0, 1.0, 1.0, 1.0, 0.5, 0.5, 0.5, 0.5, 0.5, 0.5, 0.5, 0.5, 0.5, 0.5, 0.50000000000000011, 0.49999999999999989, 0.50000000000000011, 0.5, 0.5, 0.5, 0.5, 0.49999999999999989, 0.5, 0.49999999999999989, 0.5, 0.50000000000000022, 0.5, 0.5, 0.5, 0.5, 0.5, 0.5, 0.33333333333333331, 0.33333333333333331, 0.33333333333333331, 0.33333333333333326, 0.33333333333333337, 0.33333333333333326, 0.33333333333333331, 0.33333333333333331, 0.33333333333333331, 0.33333333333333331]\n",
        "[ 0.34145326  0.46419166  0.19435508]"
       ]
      },
      {
       "output_type": "stream",
       "stream": "stdout",
       "text": [
        "\n",
        "[ 0.37431246  0.41662339  0.20906415]"
       ]
      },
      {
       "output_type": "stream",
       "stream": "stdout",
       "text": [
        "\n",
        "[ 0.36560191  0.4540372   0.1803609 ]"
       ]
      },
      {
       "output_type": "stream",
       "stream": "stdout",
       "text": [
        "\n",
        "[ 0.36282244  0.41959907  0.21757849]"
       ]
      },
      {
       "output_type": "stream",
       "stream": "stdout",
       "text": [
        "\n",
        "[ 0.36174435  0.4230895   0.21516615]"
       ]
      },
      {
       "output_type": "stream",
       "stream": "stdout",
       "text": [
        "\n",
        "[ 0.40040755  0.41132795  0.1882645 ]"
       ]
      },
      {
       "output_type": "stream",
       "stream": "stdout",
       "text": [
        "\n",
        "[ 0.40979852  0.40556107  0.18464041]"
       ]
      },
      {
       "output_type": "stream",
       "stream": "stdout",
       "text": [
        "\n",
        "[ 0.36656261  0.42308823  0.21034916]"
       ]
      },
      {
       "output_type": "stream",
       "stream": "stdout",
       "text": [
        "\n",
        "[ 0.35090752  0.42976141  0.21933107]"
       ]
      },
      {
       "output_type": "stream",
       "stream": "stdout",
       "text": [
        "\n",
        "[ 0.33872445  0.41528327  0.24599228]"
       ]
      },
      {
       "output_type": "stream",
       "stream": "stdout",
       "text": [
        "\n",
        "[0.5, 0.5, 0.5, 0.5, 0.5, 0.5, 0.5, 0.5, 0.5, 0.5, 0.5, 0.5, 0.5, 0.5, 0.5, 0.5, 0.5, 0.5, 0.5, 0.5, 0.5, 0.5, 0.5, 0.5, 0.5, 0.5, 0.5, 0.5, 0.5, 0.5, 0.5, 0.5, 0.5, 0.5, 0.5, 0.5, 0.5, 0.5, 0.5, 0.5, 0.5, 0.5, 0.5, 0.5, 0.5, 0.5, 0.5]"
       ]
      },
      {
       "output_type": "stream",
       "stream": "stdout",
       "text": [
        "\n",
        "[0.035308450180920395, 0.015900278873051947, 0.027606640458033495, 0.020287811471444019, 0.028085748571213369, 0.035450017068918892, 0.0030537699131523133, 0.018801048240551517, 0.0010101978777581351, 0.00050936119312244637, 0.008238681424071536, 0.0036143352597136787, 0.005607800401233284, 0.0025444087200298623, 0.019754369486924619, 0.008088683576243998, 0.0, 0.0077047868625348317, 0.0065852856156395825, 0.0015393751346797165, 0.005668936813507235, 0.0010016733692713726, 0.0065990598011115165, 0.0050674066527983952, 0.0015393751346797165, 0.0066773510107629745, 0.0015127146704332129, 0.0010033534773107617, 0.0025444087200298623, 0.0015127146704332129, 0.020761540704040373, 0.0010385384500440277, 0.0061854044439900308, 0.0010385384500440277, 0.0076763527928345732, 0.0015393751346797165, 0.0025548226894230226, 0.0010101978777581351, 0.0015393751346797213, 0.0005008366846356888, 0.0015393751346797165, 0.0010101978777581351, 0.0010101978777581351, 0.0010300139415572653, 0.00050936119312244637, 0.0015393751346797165, 0.00050936119312244637]\n",
        "[1.0, 1.0, 1.0, 1.0, 1.0, 1.0, 1.0, 1.0, 0.5, 0.5, 0.5, 0.5, 0.5, 0.5, 0.5, 0.5, 0.5, 0.5, 0.50000000000000011, 0.49999999999999989, 0.50000000000000011, 0.5, 0.5, 0.5, 0.5, 0.49999999999999989, 0.5, 0.49999999999999989, 0.5, 0.50000000000000022, 0.5, 0.5, 0.5, 0.5, 0.5, 0.5, 0.33333333333333331, 0.33333333333333331, 0.33333333333333331, 0.33333333333333326, 0.33333333333333337, 0.33333333333333326, 0.33333333333333331, 0.33333333333333331, 0.33333333333333331, 0.33333333333333331, 0.33333333333333331]\n",
        "[ 0.25004068  0.48765381  0.26230551]"
       ]
      },
      {
       "output_type": "stream",
       "stream": "stdout",
       "text": [
        "\n",
        "[ 0.26856009  0.46350709  0.26793281]"
       ]
      },
      {
       "output_type": "stream",
       "stream": "stdout",
       "text": [
        "\n",
        "[ 0.29626817  0.42720179  0.27653004]"
       ]
      },
      {
       "output_type": "stream",
       "stream": "stdout",
       "text": [
        "\n",
        "[ 0.25963559  0.47229943  0.26806498]"
       ]
      },
      {
       "output_type": "stream",
       "stream": "stdout",
       "text": [
        "\n",
        "[ 0.25822055  0.47345376  0.26832569]"
       ]
      },
      {
       "output_type": "stream",
       "stream": "stdout",
       "text": [
        "\n",
        "[ 0.28016336  0.48080915  0.23902748]"
       ]
      },
      {
       "output_type": "stream",
       "stream": "stdout",
       "text": [
        "\n",
        "[ 0.3037402  0.4336342  0.2626256]"
       ]
      },
      {
       "output_type": "stream",
       "stream": "stdout",
       "text": [
        "\n",
        "[ 0.29092499  0.44117994  0.26789507]"
       ]
      },
      {
       "output_type": "stream",
       "stream": "stdout",
       "text": [
        "\n",
        "[ 0.30299554  0.42255869  0.27444577]"
       ]
      },
      {
       "output_type": "stream",
       "stream": "stdout",
       "text": [
        "\n",
        "[ 0.26540559  0.43877777  0.29581664]"
       ]
      },
      {
       "output_type": "stream",
       "stream": "stdout",
       "text": [
        "\n",
        "[0.5, 0.5, 0.5, 0.5, 0.5, 0.5, 0.5, 0.5, 0.5, 0.5, 0.5, 0.5, 0.5, 0.5, 0.5, 0.5, 0.5, 0.5, 0.5, 0.5, 0.5, 0.5, 0.5, 0.5, 0.5, 0.5, 0.5, 0.5, 0.5, 0.5, 0.5, 0.5, 0.5, 0.5, 0.5, 0.5, 0.5, 0.5, 0.5, 0.5, 0.5, 0.5, 0.5, 0.5, 0.5, 0.5, 0.5, 0.5]"
       ]
      },
      {
       "output_type": "stream",
       "stream": "stdout",
       "text": [
        "\n",
        "[0.035308450180920395, 0.015900278873051947, 0.027606640458033495, 0.020287811471444019, 0.028085748571213369, 0.035450017068918892, 0.0030537699131523133, 0.018801048240551517, 0.0010101978777581351, 0.00050936119312244637, 0.008238681424071536, 0.0036143352597136787, 0.005607800401233284, 0.0025444087200298623, 0.019754369486924619, 0.008088683576243998, 0.0, 0.0077047868625348317, 0.0065852856156395825, 0.0015393751346797165, 0.005668936813507235, 0.0010016733692713726, 0.0065990598011115165, 0.0050674066527983952, 0.0015393751346797165, 0.0066773510107629745, 0.0015127146704332129, 0.0010033534773107617, 0.0025444087200298623, 0.0015127146704332129, 0.020761540704040373, 0.0010385384500440277, 0.0061854044439900308, 0.0010385384500440277, 0.0076763527928345732, 0.0015393751346797165, 0.0025548226894230226, 0.0010101978777581351, 0.0015393751346797213, 0.0005008366846356888, 0.0015393751346797165, 0.0010101978777581351, 0.0010101978777581351, 0.0010300139415572653, 0.00050936119312244637, 0.0015393751346797165, 0.00050936119312244637, 0.0020220758635556592]\n",
        "[1.0, 1.0, 1.0, 1.0, 1.0, 1.0, 1.0, 1.0, 0.5, 0.5, 0.5, 0.5, 0.5, 0.5, 0.5, 0.5, 0.5, 0.5, 0.50000000000000011, 0.49999999999999989, 0.50000000000000011, 0.5, 0.5, 0.5, 0.5, 0.49999999999999989, 0.5, 0.49999999999999989, 0.5, 0.50000000000000022, 0.5, 0.5, 0.5, 0.5, 0.5, 0.5, 0.33333333333333331, 0.33333333333333331, 0.33333333333333331, 0.33333333333333326, 0.33333333333333337, 0.33333333333333326, 0.33333333333333331, 0.33333333333333331, 0.33333333333333331, 0.33333333333333331, 0.33333333333333331, 0.33333333333333331]\n",
        "[ 0.24521162  0.50084025  0.25394812]"
       ]
      },
      {
       "output_type": "stream",
       "stream": "stdout",
       "text": [
        "\n",
        "[ 0.29406074  0.4464817   0.25945756]"
       ]
      },
      {
       "output_type": "stream",
       "stream": "stdout",
       "text": [
        "\n",
        "[ 0.26965836  0.4698251   0.26051654]"
       ]
      },
      {
       "output_type": "stream",
       "stream": "stdout",
       "text": [
        "\n",
        "[ 0.24372599  0.501529    0.254745  ]"
       ]
      },
      {
       "output_type": "stream",
       "stream": "stdout",
       "text": [
        "\n",
        "[ 0.28913706  0.4306072   0.28025574]"
       ]
      },
      {
       "output_type": "stream",
       "stream": "stdout",
       "text": [
        "\n",
        "[ 0.26838006  0.48116676  0.25045318]"
       ]
      },
      {
       "output_type": "stream",
       "stream": "stdout",
       "text": [
        "\n",
        "[ 0.32207934  0.40746815  0.27045251]"
       ]
      },
      {
       "output_type": "stream",
       "stream": "stdout",
       "text": [
        "\n",
        "[ 0.25567167  0.44872306  0.29560528]"
       ]
      },
      {
       "output_type": "stream",
       "stream": "stdout",
       "text": [
        "\n",
        "[ 0.25778665  0.4675771   0.27463625]"
       ]
      },
      {
       "output_type": "stream",
       "stream": "stdout",
       "text": [
        "\n",
        "[ 0.27349719  0.43705203  0.28945078]"
       ]
      },
      {
       "output_type": "stream",
       "stream": "stdout",
       "text": [
        "\n",
        "[0.5, 0.5, 0.5, 0.5, 0.5, 0.5, 0.5, 0.5, 0.5, 0.5, 0.5, 0.5, 0.5, 0.5, 0.5, 0.5, 0.5, 0.5, 0.5, 0.5, 0.5, 0.5, 0.5, 0.5, 0.5, 0.5, 0.5, 0.5, 0.5, 0.5, 0.5, 0.5, 0.5, 0.5, 0.5, 0.5, 0.5, 0.5, 0.5, 0.5, 0.5, 0.5, 0.5, 0.5, 0.5, 0.5, 0.5, 0.5, 0.5]"
       ]
      },
      {
       "output_type": "stream",
       "stream": "stdout",
       "text": [
        "\n",
        "[0.035308450180920395, 0.015900278873051947, 0.027606640458033495, 0.020287811471444019, 0.028085748571213369, 0.035450017068918892, 0.0030537699131523133, 0.018801048240551517, 0.0010101978777581351, 0.00050936119312244637, 0.008238681424071536, 0.0036143352597136787, 0.005607800401233284, 0.0025444087200298623, 0.019754369486924619, 0.008088683576243998, 0.0, 0.0077047868625348317, 0.0065852856156395825, 0.0015393751346797165, 0.005668936813507235, 0.0010016733692713726, 0.0065990598011115165, 0.0050674066527983952, 0.0015393751346797165, 0.0066773510107629745, 0.0015127146704332129, 0.0010033534773107617, 0.0025444087200298623, 0.0015127146704332129, 0.020761540704040373, 0.0010385384500440277, 0.0061854044439900308, 0.0010385384500440277, 0.0076763527928345732, 0.0015393751346797165, 0.0025548226894230226, 0.0010101978777581351, 0.0015393751346797213, 0.0005008366846356888, 0.0015393751346797165, 0.0010101978777581351, 0.0010101978777581351, 0.0010300139415572653, 0.00050936119312244637, 0.0015393751346797165, 0.00050936119312244637, 0.0020220758635556592, 0.0010187223862448975]\n",
        "[1.0, 1.0, 1.0, 1.0, 1.0, 1.0, 1.0, 1.0, 0.5, 0.5, 0.5, 0.5, 0.5, 0.5, 0.5, 0.5, 0.5, 0.5, 0.50000000000000011, 0.49999999999999989, 0.50000000000000011, 0.5, 0.5, 0.5, 0.5, 0.49999999999999989, 0.5, 0.49999999999999989, 0.5, 0.50000000000000022, 0.5, 0.5, 0.5, 0.5, 0.5, 0.5, 0.33333333333333331, 0.33333333333333331, 0.33333333333333331, 0.33333333333333326, 0.33333333333333337, 0.33333333333333326, 0.33333333333333331, 0.33333333333333331, 0.33333333333333331, 0.33333333333333331, 0.33333333333333331, 0.33333333333333331, 0.33333333333333331]\n",
        "[ 0.16429412  0.30521858  0.5304873 ]"
       ]
      },
      {
       "output_type": "stream",
       "stream": "stdout",
       "text": [
        "\n",
        "[ 0.17396268  0.36308271  0.46295461]"
       ]
      },
      {
       "output_type": "stream",
       "stream": "stdout",
       "text": [
        "\n",
        "[ 0.14038815  0.34799312  0.51161873]"
       ]
      },
      {
       "output_type": "stream",
       "stream": "stdout",
       "text": [
        "\n",
        "[ 0.2074524   0.28197414  0.51057346]"
       ]
      },
      {
       "output_type": "stream",
       "stream": "stdout",
       "text": [
        "\n",
        "[ 0.18636671  0.37870265  0.43493064]"
       ]
      },
      {
       "output_type": "stream",
       "stream": "stdout",
       "text": [
        "\n",
        "[ 0.21285776  0.32389997  0.46324227]"
       ]
      },
      {
       "output_type": "stream",
       "stream": "stdout",
       "text": [
        "\n",
        "[ 0.21748464  0.26292703  0.51958833]"
       ]
      },
      {
       "output_type": "stream",
       "stream": "stdout",
       "text": [
        "\n",
        "[ 0.16725084  0.35471465  0.47803451]"
       ]
      },
      {
       "output_type": "stream",
       "stream": "stdout",
       "text": [
        "\n",
        "[ 0.16959601  0.34041918  0.48998481]"
       ]
      },
      {
       "output_type": "stream",
       "stream": "stdout",
       "text": [
        "\n",
        "[ 0.18449381  0.28225414  0.53325205]"
       ]
      },
      {
       "output_type": "stream",
       "stream": "stdout",
       "text": [
        "\n",
        "[0.5, 0.5, 0.5, 0.5, 0.5, 0.5, 0.5, 0.5, 0.5, 0.5, 0.5, 0.5, 0.5, 0.5, 0.5, 0.5, 0.5, 0.5, 0.5, 0.5, 0.5, 0.5, 0.5, 0.5, 0.5, 0.5, 0.5, 0.5, 0.5, 0.5, 0.5, 0.5, 0.5, 0.5, 0.5, 0.5, 0.5, 0.5, 0.5, 0.5, 0.5, 0.5, 0.5, 0.5, 0.5, 0.5, 0.5, 0.5, 0.5, 0.5]"
       ]
      },
      {
       "output_type": "stream",
       "stream": "stdout",
       "text": [
        "\n",
        "[0.035308450180920395, 0.015900278873051947, 0.027606640458033495, 0.020287811471444019, 0.028085748571213369, 0.035450017068918892, 0.0030537699131523133, 0.018801048240551517, 0.0010101978777581351, 0.00050936119312244637, 0.008238681424071536, 0.0036143352597136787, 0.005607800401233284, 0.0025444087200298623, 0.019754369486924619, 0.008088683576243998, 0.0, 0.0077047868625348317, 0.0065852856156395825, 0.0015393751346797165, 0.005668936813507235, 0.0010016733692713726, 0.0065990598011115165, 0.0050674066527983952, 0.0015393751346797165, 0.0066773510107629745, 0.0015127146704332129, 0.0010033534773107617, 0.0025444087200298623, 0.0015127146704332129, 0.020761540704040373, 0.0010385384500440277, 0.0061854044439900308, 0.0010385384500440277, 0.0076763527928345732, 0.0015393751346797165, 0.0025548226894230226, 0.0010101978777581351, 0.0015393751346797213, 0.0005008366846356888, 0.0015393751346797165, 0.0010101978777581351, 0.0010101978777581351, 0.0010300139415572653, 0.00050936119312244637, 0.0015393751346797165, 0.00050936119312244637, 0.0020220758635556592, 0.0010187223862448975, 0.0025444087200298623]\n",
        "[1.0, 1.0, 1.0, 1.0, 1.0, 1.0, 1.0, 1.0, 0.5, 0.5, 0.5, 0.5, 0.5, 0.5, 0.5, 0.5, 0.5, 0.5, 0.50000000000000011, 0.49999999999999989, 0.50000000000000011, 0.5, 0.5, 0.5, 0.5, 0.49999999999999989, 0.5, 0.49999999999999989, 0.5, 0.50000000000000022, 0.5, 0.5, 0.5, 0.5, 0.5, 0.5, 0.33333333333333331, 0.33333333333333331, 0.33333333333333331, 0.33333333333333326, 0.33333333333333337, 0.33333333333333326, 0.33333333333333331, 0.33333333333333331, 0.33333333333333331, 0.33333333333333331, 0.33333333333333331, 0.33333333333333331, 0.33333333333333331, 0.33333333333333331]\n",
        "[ 0.26215255  0.52419344  0.21365401]"
       ]
      },
      {
       "output_type": "stream",
       "stream": "stdout",
       "text": [
        "\n",
        "[ 0.30018172  0.45023593  0.24958235]"
       ]
      },
      {
       "output_type": "stream",
       "stream": "stdout",
       "text": [
        "\n",
        "[ 0.27204316  0.48127923  0.24667761]"
       ]
      },
      {
       "output_type": "stream",
       "stream": "stdout",
       "text": [
        "\n",
        "[ 0.28170231  0.49229126  0.22600644]"
       ]
      },
      {
       "output_type": "stream",
       "stream": "stdout",
       "text": [
        "\n",
        "[ 0.28779886  0.49620478  0.21599636]"
       ]
      },
      {
       "output_type": "stream",
       "stream": "stdout",
       "text": [
        "\n",
        "[ 0.24176649  0.54443541  0.2137981 ]"
       ]
      },
      {
       "output_type": "stream",
       "stream": "stdout",
       "text": [
        "\n",
        "[ 0.35375876  0.40693536  0.23930587]"
       ]
      },
      {
       "output_type": "stream",
       "stream": "stdout",
       "text": [
        "\n",
        "[ 0.2636187   0.48926948  0.24711183]"
       ]
      },
      {
       "output_type": "stream",
       "stream": "stdout",
       "text": [
        "\n",
        "[ 0.28225104  0.47380328  0.24394568]"
       ]
      },
      {
       "output_type": "stream",
       "stream": "stdout",
       "text": [
        "\n",
        "[ 0.28937044  0.45868278  0.25194678]"
       ]
      },
      {
       "output_type": "stream",
       "stream": "stdout",
       "text": [
        "\n",
        "[0.5, 0.5, 0.5, 0.5, 0.5, 0.5, 0.5, 0.5, 0.5, 0.5, 0.5, 0.5, 0.5, 0.5, 0.5, 0.5, 0.5, 0.5, 0.5, 0.5, 0.5, 0.5, 0.5, 0.5, 0.5, 0.5, 0.5, 0.5, 0.5, 0.5, 0.5, 0.5, 0.5, 0.5, 0.5, 0.5, 0.5, 0.5, 0.5, 0.5, 0.5, 0.5, 0.5, 0.5, 0.5, 0.5, 0.5, 0.5, 0.5, 0.5, 0.5]"
       ]
      },
      {
       "output_type": "stream",
       "stream": "stdout",
       "text": [
        "\n",
        "[0.035308450180920395, 0.015900278873051947, 0.027606640458033495, 0.020287811471444019, 0.028085748571213369, 0.035450017068918892, 0.0030537699131523133, 0.018801048240551517, 0.0010101978777581351, 0.00050936119312244637, 0.008238681424071536, 0.0036143352597136787, 0.005607800401233284, 0.0025444087200298623, 0.019754369486924619, 0.008088683576243998, 0.0, 0.0077047868625348317, 0.0065852856156395825, 0.0015393751346797165, 0.005668936813507235, 0.0010016733692713726, 0.0065990598011115165, 0.0050674066527983952, 0.0015393751346797165, 0.0066773510107629745, 0.0015127146704332129, 0.0010033534773107617, 0.0025444087200298623, 0.0015127146704332129, 0.020761540704040373, 0.0010385384500440277, 0.0061854044439900308, 0.0010385384500440277, 0.0076763527928345732, 0.0015393751346797165, 0.0025548226894230226, 0.0010101978777581351, 0.0015393751346797213, 0.0005008366846356888, 0.0015393751346797165, 0.0010101978777581351, 0.0010101978777581351, 0.0010300139415572653, 0.00050936119312244637, 0.0015393751346797165, 0.00050936119312244637, 0.0020220758635556592, 0.0010187223862448975, 0.0025444087200298623, 0.0015127146704332129]\n",
        "[1.0, 1.0, 1.0, 1.0, 1.0, 1.0, 1.0, 1.0, 0.5, 0.5, 0.5, 0.5, 0.5, 0.5, 0.5, 0.5, 0.5, 0.5, 0.50000000000000011, 0.49999999999999989, 0.50000000000000011, 0.5, 0.5, 0.5, 0.5, 0.49999999999999989, 0.5, 0.49999999999999989, 0.5, 0.50000000000000022, 0.5, 0.5, 0.5, 0.5, 0.5, 0.5, 0.33333333333333331, 0.33333333333333331, 0.33333333333333331, 0.33333333333333326, 0.33333333333333337, 0.33333333333333326, 0.33333333333333331, 0.33333333333333331, 0.33333333333333331, 0.33333333333333331, 0.33333333333333331, 0.33333333333333331, 0.33333333333333331, 0.33333333333333331, 0.33333333333333331]\n",
        "[ 0.47009925  0.25220524  0.27769551]"
       ]
      },
      {
       "output_type": "stream",
       "stream": "stdout",
       "text": [
        "\n",
        "[ 0.46310931  0.27193304  0.26495765]"
       ]
      },
      {
       "output_type": "stream",
       "stream": "stdout",
       "text": [
        "\n",
        "[ 0.47838227  0.25366795  0.26794978]"
       ]
      },
      {
       "output_type": "stream",
       "stream": "stdout",
       "text": [
        "\n",
        "[ 0.4661631   0.26625613  0.26758077]"
       ]
      },
      {
       "output_type": "stream",
       "stream": "stdout",
       "text": [
        "\n",
        "[ 0.45531221  0.27025629  0.2744315 ]"
       ]
      },
      {
       "output_type": "stream",
       "stream": "stdout",
       "text": [
        "\n",
        "[ 0.49282259  0.25842273  0.24875468]"
       ]
      },
      {
       "output_type": "stream",
       "stream": "stdout",
       "text": [
        "\n",
        "[ 0.474768    0.25264047  0.27259153]"
       ]
      },
      {
       "output_type": "stream",
       "stream": "stdout",
       "text": [
        "\n",
        "[ 0.44556255  0.26196156  0.29247588]"
       ]
      },
      {
       "output_type": "stream",
       "stream": "stdout",
       "text": [
        "\n",
        "[ 0.44642285  0.28461309  0.26896406]"
       ]
      },
      {
       "output_type": "stream",
       "stream": "stdout",
       "text": [
        "\n",
        "[ 0.43498953  0.26453085  0.30047962]"
       ]
      },
      {
       "output_type": "stream",
       "stream": "stdout",
       "text": [
        "\n",
        "[0.5, 0.5, 0.5, 0.5, 0.5, 0.5, 0.5, 0.5, 0.5, 0.5, 0.5, 0.5, 0.5, 0.5, 0.5, 0.5, 0.5, 0.5, 0.5, 0.5, 0.5, 0.5, 0.5, 0.5, 0.5, 0.5, 0.5, 0.5, 0.5, 0.5, 0.5, 0.5, 0.5, 0.5, 0.5, 0.5, 0.5, 0.5, 0.5, 0.5, 0.5, 0.5, 0.5, 0.5, 0.5, 0.5, 0.5, 0.5, 0.5, 0.5, 0.5, 0.5]"
       ]
      },
      {
       "output_type": "stream",
       "stream": "stdout",
       "text": [
        "\n",
        "[0.035308450180920395, 0.015900278873051947, 0.027606640458033495, 0.020287811471444019, 0.028085748571213369, 0.035450017068918892, 0.0030537699131523133, 0.018801048240551517, 0.0010101978777581351, 0.00050936119312244637, 0.008238681424071536, 0.0036143352597136787, 0.005607800401233284, 0.0025444087200298623, 0.019754369486924619, 0.008088683576243998, 0.0, 0.0077047868625348317, 0.0065852856156395825, 0.0015393751346797165, 0.005668936813507235, 0.0010016733692713726, 0.0065990598011115165, 0.0050674066527983952, 0.0015393751346797165, 0.0066773510107629745, 0.0015127146704332129, 0.0010033534773107617, 0.0025444087200298623, 0.0015127146704332129, 0.020761540704040373, 0.0010385384500440277, 0.0061854044439900308, 0.0010385384500440277, 0.0076763527928345732, 0.0015393751346797165, 0.0025548226894230226, 0.0010101978777581351, 0.0015393751346797213, 0.0005008366846356888, 0.0015393751346797165, 0.0010101978777581351, 0.0010101978777581351, 0.0010300139415572653, 0.00050936119312244637, 0.0015393751346797165, 0.00050936119312244637, 0.0020220758635556592, 0.0010187223862448975, 0.0025444087200298623, 0.0015127146704332129, 0.0040563311891210398]\n",
        "[1.0, 1.0, 1.0, 1.0, 1.0, 1.0, 1.0, 1.0, 0.5, 0.5, 0.5, 0.5, 0.5, 0.5, 0.5, 0.5, 0.5, 0.5, 0.50000000000000011, 0.49999999999999989, 0.50000000000000011, 0.5, 0.5, 0.5, 0.5, 0.49999999999999989, 0.5, 0.49999999999999989, 0.5, 0.50000000000000022, 0.5, 0.5, 0.5, 0.5, 0.5, 0.5, 0.33333333333333331, 0.33333333333333331, 0.33333333333333331, 0.33333333333333326, 0.33333333333333337, 0.33333333333333326, 0.33333333333333331, 0.33333333333333331, 0.33333333333333331, 0.33333333333333331, 0.33333333333333331, 0.33333333333333331, 0.33333333333333331, 0.33333333333333331, 0.33333333333333331, 0.33333333333333331]\n",
        "[ 0.23641445  0.19357497  0.57001057]"
       ]
      },
      {
       "output_type": "stream",
       "stream": "stdout",
       "text": [
        "\n",
        "[ 0.21571162  0.19599804  0.58829034]"
       ]
      },
      {
       "output_type": "stream",
       "stream": "stdout",
       "text": [
        "\n",
        "[ 0.26362761  0.21790597  0.51846642]"
       ]
      },
      {
       "output_type": "stream",
       "stream": "stdout",
       "text": [
        "\n",
        "[ 0.23969669  0.1870398   0.57326351]"
       ]
      },
      {
       "output_type": "stream",
       "stream": "stdout",
       "text": [
        "\n",
        "[ 0.20943861  0.21079377  0.57976762]"
       ]
      },
      {
       "output_type": "stream",
       "stream": "stdout",
       "text": [
        "\n",
        "[ 0.26406945  0.20365604  0.53227451]"
       ]
      },
      {
       "output_type": "stream",
       "stream": "stdout",
       "text": [
        "\n",
        "[ 0.25648492  0.19981545  0.54369962]"
       ]
      },
      {
       "output_type": "stream",
       "stream": "stdout",
       "text": [
        "\n",
        "[ 0.22944231  0.19018117  0.58037653]"
       ]
      },
      {
       "output_type": "stream",
       "stream": "stdout",
       "text": [
        "\n",
        "[ 0.23785371  0.20295312  0.55919317]"
       ]
      },
      {
       "output_type": "stream",
       "stream": "stdout",
       "text": [
        "\n",
        "[ 0.21856635  0.20459497  0.57683868]"
       ]
      },
      {
       "output_type": "stream",
       "stream": "stdout",
       "text": [
        "\n",
        "[0.5, 0.5, 0.5, 0.5, 0.5, 0.5, 0.5, 0.5, 0.5, 0.5, 0.5, 0.5, 0.5, 0.5, 0.5, 0.5, 0.5, 0.5, 0.5, 0.5, 0.5, 0.5, 0.5, 0.5, 0.5, 0.5, 0.5, 0.5, 0.5, 0.5, 0.5, 0.5, 0.5, 0.5, 0.5, 0.5, 0.5, 0.5, 0.5, 0.5, 0.5, 0.5, 0.5, 0.5, 0.5, 0.5, 0.5, 0.5, 0.5, 0.5, 0.5, 0.5, 0.5]"
       ]
      },
      {
       "output_type": "stream",
       "stream": "stdout",
       "text": [
        "\n",
        "[0.035308450180920395, 0.015900278873051947, 0.027606640458033495, 0.020287811471444019, 0.028085748571213369, 0.035450017068918892, 0.0030537699131523133, 0.018801048240551517, 0.0010101978777581351, 0.00050936119312244637, 0.008238681424071536, 0.0036143352597136787, 0.005607800401233284, 0.0025444087200298623, 0.019754369486924619, 0.008088683576243998, 0.0, 0.0077047868625348317, 0.0065852856156395825, 0.0015393751346797165, 0.005668936813507235, 0.0010016733692713726, 0.0065990598011115165, 0.0050674066527983952, 0.0015393751346797165, 0.0066773510107629745, 0.0015127146704332129, 0.0010033534773107617, 0.0025444087200298623, 0.0015127146704332129, 0.020761540704040373, 0.0010385384500440277, 0.0061854044439900308, 0.0010385384500440277, 0.0076763527928345732, 0.0015393751346797165, 0.0025548226894230226, 0.0010101978777581351, 0.0015393751346797213, 0.0005008366846356888, 0.0015393751346797165, 0.0010101978777581351, 0.0010101978777581351, 0.0010300139415572653, 0.00050936119312244637, 0.0015393751346797165, 0.00050936119312244637, 0.0020220758635556592, 0.0010187223862448975, 0.0025444087200298623, 0.0015127146704332129, 0.0040563311891210398, 0.0010385384500440277]\n",
        "[1.0, 1.0, 1.0, 1.0, 1.0, 1.0, 1.0, 1.0, 0.5, 0.5, 0.5, 0.5, 0.5, 0.5, 0.5, 0.5, 0.5, 0.5, 0.50000000000000011, 0.49999999999999989, 0.50000000000000011, 0.5, 0.5, 0.5, 0.5, 0.49999999999999989, 0.5, 0.49999999999999989, 0.5, 0.50000000000000022, 0.5, 0.5, 0.5, 0.5, 0.5, 0.5, 0.33333333333333331, 0.33333333333333331, 0.33333333333333331, 0.33333333333333326, 0.33333333333333337, 0.33333333333333326, 0.33333333333333331, 0.33333333333333331, 0.33333333333333331, 0.33333333333333331, 0.33333333333333331, 0.33333333333333331, 0.33333333333333331, 0.33333333333333331, 0.33333333333333331, 0.33333333333333331, 0.33333333333333337]\n",
        "[ 0.41123504  0.34139752  0.24736744]"
       ]
      },
      {
       "output_type": "stream",
       "stream": "stdout",
       "text": [
        "\n",
        "[ 0.41496257  0.33443095  0.25060648]"
       ]
      },
      {
       "output_type": "stream",
       "stream": "stdout",
       "text": [
        "\n",
        "[ 0.36803322  0.35531697  0.27664981]"
       ]
      },
      {
       "output_type": "stream",
       "stream": "stdout",
       "text": [
        "\n",
        "[ 0.39927741  0.35323854  0.24748406]"
       ]
      },
      {
       "output_type": "stream",
       "stream": "stdout",
       "text": [
        "\n",
        "[ 0.41342444  0.34737421  0.23920134]"
       ]
      },
      {
       "output_type": "stream",
       "stream": "stdout",
       "text": [
        "\n",
        "[ 0.42170686  0.3482438   0.23004934]"
       ]
      },
      {
       "output_type": "stream",
       "stream": "stdout",
       "text": [
        "\n",
        "[ 0.40963269  0.35043397  0.23993334]"
       ]
      },
      {
       "output_type": "stream",
       "stream": "stdout",
       "text": [
        "\n",
        "[ 0.40070351  0.3392768   0.26001969]"
       ]
      },
      {
       "output_type": "stream",
       "stream": "stdout",
       "text": [
        "\n",
        "[ 0.41165494  0.31862116  0.2697239 ]"
       ]
      },
      {
       "output_type": "stream",
       "stream": "stdout",
       "text": [
        "\n",
        "[ 0.38152119  0.36215192  0.2563269 ]"
       ]
      },
      {
       "output_type": "stream",
       "stream": "stdout",
       "text": [
        "\n",
        "[0.5, 0.5, 0.5, 0.5, 0.5, 0.5, 0.5, 0.5, 0.5, 0.5, 0.5, 0.5, 0.5, 0.5, 0.5, 0.5, 0.5, 0.5, 0.5, 0.5, 0.5, 0.5, 0.5, 0.5, 0.5, 0.5, 0.5, 0.5, 0.5, 0.5, 0.5, 0.5, 0.5, 0.5, 0.5, 0.5, 0.5, 0.5, 0.5, 0.5, 0.5, 0.5, 0.5, 0.5, 0.5, 0.5, 0.5, 0.5, 0.5, 0.5, 0.5, 0.5, 0.5, 0.5]"
       ]
      },
      {
       "output_type": "stream",
       "stream": "stdout",
       "text": [
        "\n",
        "[0.035308450180920395, 0.015900278873051947, 0.027606640458033495, 0.020287811471444019, 0.028085748571213369, 0.035450017068918892, 0.0030537699131523133, 0.018801048240551517, 0.0010101978777581351, 0.00050936119312244637, 0.008238681424071536, 0.0036143352597136787, 0.005607800401233284, 0.0025444087200298623, 0.019754369486924619, 0.008088683576243998, 0.0, 0.0077047868625348317, 0.0065852856156395825, 0.0015393751346797165, 0.005668936813507235, 0.0010016733692713726, 0.0065990598011115165, 0.0050674066527983952, 0.0015393751346797165, 0.0066773510107629745, 0.0015127146704332129, 0.0010033534773107617, 0.0025444087200298623, 0.0015127146704332129, 0.020761540704040373, 0.0010385384500440277, 0.0061854044439900308, 0.0010385384500440277, 0.0076763527928345732, 0.0015393751346797165, 0.0025548226894230226, 0.0010101978777581351, 0.0015393751346797213, 0.0005008366846356888, 0.0015393751346797165, 0.0010101978777581351, 0.0010101978777581351, 0.0010300139415572653, 0.00050936119312244637, 0.0015393751346797165, 0.00050936119312244637, 0.0020220758635556592, 0.0010187223862448975, 0.0025444087200298623, 0.0015127146704332129, 0.0040563311891210398, 0.0010385384500440277, 0.0040760618683429806]\n",
        "[1.0, 1.0, 1.0, 1.0, 1.0, 1.0, 1.0, 1.0, 0.5, 0.5, 0.5, 0.5, 0.5, 0.5, 0.5, 0.5, 0.5, 0.5, 0.50000000000000011, 0.49999999999999989, 0.50000000000000011, 0.5, 0.5, 0.5, 0.5, 0.49999999999999989, 0.5, 0.49999999999999989, 0.5, 0.50000000000000022, 0.5, 0.5, 0.5, 0.5, 0.5, 0.5, 0.33333333333333331, 0.33333333333333331, 0.33333333333333331, 0.33333333333333326, 0.33333333333333337, 0.33333333333333326, 0.33333333333333331, 0.33333333333333331, 0.33333333333333331, 0.33333333333333331, 0.33333333333333331, 0.33333333333333331, 0.33333333333333331, 0.33333333333333331, 0.33333333333333331, 0.33333333333333331, 0.33333333333333337, 0.33333333333333331]\n",
        "[ 0.23542001  0.19822463  0.56635536]"
       ]
      },
      {
       "output_type": "stream",
       "stream": "stdout",
       "text": [
        "\n",
        "[ 0.2336084   0.22134564  0.54504595]"
       ]
      },
      {
       "output_type": "stream",
       "stream": "stdout",
       "text": [
        "\n",
        "[ 0.27227274  0.20730357  0.52042369]"
       ]
      },
      {
       "output_type": "stream",
       "stream": "stdout",
       "text": [
        "\n",
        "[ 0.25648603  0.20869942  0.53481455]"
       ]
      },
      {
       "output_type": "stream",
       "stream": "stdout",
       "text": [
        "\n",
        "[ 0.28392758  0.20296758  0.51310484]"
       ]
      },
      {
       "output_type": "stream",
       "stream": "stdout",
       "text": [
        "\n",
        "[ 0.28324254  0.21244909  0.50430837]"
       ]
      },
      {
       "output_type": "stream",
       "stream": "stdout",
       "text": [
        "\n",
        "[ 0.2719073   0.20899867  0.51909403]"
       ]
      },
      {
       "output_type": "stream",
       "stream": "stdout",
       "text": [
        "\n",
        "[ 0.24019914  0.22405253  0.53574833]"
       ]
      },
      {
       "output_type": "stream",
       "stream": "stdout",
       "text": [
        "\n",
        "[ 0.22960212  0.22510025  0.54529763]"
       ]
      },
      {
       "output_type": "stream",
       "stream": "stdout",
       "text": [
        "\n",
        "[ 0.24749044  0.18153504  0.57097452]"
       ]
      },
      {
       "output_type": "stream",
       "stream": "stdout",
       "text": [
        "\n",
        "[0.5, 0.5, 0.5, 0.5, 0.5, 0.5, 0.5, 0.5, 0.5, 0.5, 0.5, 0.5, 0.5, 0.5, 0.5, 0.5, 0.5, 0.5, 0.5, 0.5, 0.5, 0.5, 0.5, 0.5, 0.5, 0.5, 0.5, 0.5, 0.5, 0.5, 0.5, 0.5, 0.5, 0.5, 0.5, 0.5, 0.5, 0.5, 0.5, 0.5, 0.5, 0.5, 0.5, 0.5, 0.5, 0.5, 0.5, 0.5, 0.5, 0.5, 0.5, 0.5, 0.5, 0.5, 0.5]"
       ]
      },
      {
       "output_type": "stream",
       "stream": "stdout",
       "text": [
        "\n",
        "[0.035308450180920395, 0.015900278873051947, 0.027606640458033495, 0.020287811471444019, 0.028085748571213369, 0.035450017068918892, 0.0030537699131523133, 0.018801048240551517, 0.0010101978777581351, 0.00050936119312244637, 0.008238681424071536, 0.0036143352597136787, 0.005607800401233284, 0.0025444087200298623, 0.019754369486924619, 0.008088683576243998, 0.0, 0.0077047868625348317, 0.0065852856156395825, 0.0015393751346797165, 0.005668936813507235, 0.0010016733692713726, 0.0065990598011115165, 0.0050674066527983952, 0.0015393751346797165, 0.0066773510107629745, 0.0015127146704332129, 0.0010033534773107617, 0.0025444087200298623, 0.0015127146704332129, 0.020761540704040373, 0.0010385384500440277, 0.0061854044439900308, 0.0010385384500440277, 0.0076763527928345732, 0.0015393751346797165, 0.0025548226894230226, 0.0010101978777581351, 0.0015393751346797213, 0.0005008366846356888, 0.0015393751346797165, 0.0010101978777581351, 0.0010101978777581351, 0.0010300139415572653, 0.00050936119312244637, 0.0015393751346797165, 0.00050936119312244637, 0.0020220758635556592, 0.0010187223862448975, 0.0025444087200298623, 0.0015127146704332129, 0.0040563311891210398, 0.0010385384500440277, 0.0040760618683429806, 0.00050936119312244637]\n",
        "[1.0, 1.0, 1.0, 1.0, 1.0, 1.0, 1.0, 1.0, 0.5, 0.5, 0.5, 0.5, 0.5, 0.5, 0.5, 0.5, 0.5, 0.5, 0.50000000000000011, 0.49999999999999989, 0.50000000000000011, 0.5, 0.5, 0.5, 0.5, 0.49999999999999989, 0.5, 0.49999999999999989, 0.5, 0.50000000000000022, 0.5, 0.5, 0.5, 0.5, 0.5, 0.5, 0.33333333333333331, 0.33333333333333331, 0.33333333333333331, 0.33333333333333326, 0.33333333333333337, 0.33333333333333326, 0.33333333333333331, 0.33333333333333331, 0.33333333333333331, 0.33333333333333331, 0.33333333333333331, 0.33333333333333331, 0.33333333333333331, 0.33333333333333331, 0.33333333333333331, 0.33333333333333331, 0.33333333333333337, 0.33333333333333331, 0.33333333333333337]\n",
        "[ 0.42369129  0.325907    0.25040171]"
       ]
      },
      {
       "output_type": "stream",
       "stream": "stdout",
       "text": [
        "\n",
        "[ 0.41144522  0.34747043  0.24108434]"
       ]
      },
      {
       "output_type": "stream",
       "stream": "stdout",
       "text": [
        "\n",
        "[ 0.4193448   0.33345529  0.24719991]"
       ]
      },
      {
       "output_type": "stream",
       "stream": "stdout",
       "text": [
        "\n",
        "[ 0.41339075  0.34785609  0.23875317]"
       ]
      },
      {
       "output_type": "stream",
       "stream": "stdout",
       "text": [
        "\n",
        "[ 0.41013983  0.3501228   0.23973737]"
       ]
      },
      {
       "output_type": "stream",
       "stream": "stdout",
       "text": [
        "\n",
        "[ 0.39984873  0.35550959  0.24464167]"
       ]
      },
      {
       "output_type": "stream",
       "stream": "stdout",
       "text": [
        "\n",
        "[ 0.44230993  0.32477406  0.23291601]"
       ]
      },
      {
       "output_type": "stream",
       "stream": "stdout",
       "text": [
        "\n",
        "[ 0.41165978  0.34200475  0.24633547]"
       ]
      },
      {
       "output_type": "stream",
       "stream": "stdout",
       "text": [
        "\n",
        "[ 0.37535853  0.38019011  0.24445136]"
       ]
      },
      {
       "output_type": "stream",
       "stream": "stdout",
       "text": [
        "\n",
        "[ 0.40940117  0.35285207  0.23774676]"
       ]
      },
      {
       "output_type": "stream",
       "stream": "stdout",
       "text": [
        "\n",
        "[0.5, 0.5, 0.5, 0.5, 0.5, 0.5, 0.5, 0.5, 0.5, 0.5, 0.5, 0.5, 0.5, 0.5, 0.5, 0.5, 0.5, 0.5, 0.5, 0.5, 0.5, 0.5, 0.5, 0.5, 0.5, 0.5, 0.5, 0.5, 0.5, 0.5, 0.5, 0.5, 0.5, 0.5, 0.5, 0.5, 0.5, 0.5, 0.5, 0.5, 0.5, 0.5, 0.5, 0.5, 0.5, 0.5, 0.5, 0.5, 0.5, 0.5, 0.5, 0.5, 0.5, 0.5, 0.5, 0.5]"
       ]
      },
      {
       "output_type": "stream",
       "stream": "stdout",
       "text": [
        "\n",
        "[0.035308450180920395, 0.015900278873051947, 0.027606640458033495, 0.020287811471444019, 0.028085748571213369, 0.035450017068918892, 0.0030537699131523133, 0.018801048240551517, 0.0010101978777581351, 0.00050936119312244637, 0.008238681424071536, 0.0036143352597136787, 0.005607800401233284, 0.0025444087200298623, 0.019754369486924619, 0.008088683576243998, 0.0, 0.0077047868625348317, 0.0065852856156395825, 0.0015393751346797165, 0.005668936813507235, 0.0010016733692713726, 0.0065990598011115165, 0.0050674066527983952, 0.0015393751346797165, 0.0066773510107629745, 0.0015127146704332129, 0.0010033534773107617, 0.0025444087200298623, 0.0015127146704332129, 0.020761540704040373, 0.0010385384500440277, 0.0061854044439900308, 0.0010385384500440277, 0.0076763527928345732, 0.0015393751346797165, 0.0025548226894230226, 0.0010101978777581351, 0.0015393751346797213, 0.0005008366846356888, 0.0015393751346797165, 0.0010101978777581351, 0.0010101978777581351, 0.0010300139415572653, 0.00050936119312244637, 0.0015393751346797165, 0.00050936119312244637, 0.0020220758635556592, 0.0010187223862448975, 0.0025444087200298623, 0.0015127146704332129, 0.0040563311891210398, 0.0010385384500440277, 0.0040760618683429806, 0.00050936119312244637, 0.0025366867336632723]\n",
        "[1.0, 1.0, 1.0, 1.0, 1.0, 1.0, 1.0, 1.0, 0.5, 0.5, 0.5, 0.5, 0.5, 0.5, 0.5, 0.5, 0.5, 0.5, 0.50000000000000011, 0.49999999999999989, 0.50000000000000011, 0.5, 0.5, 0.5, 0.5, 0.49999999999999989, 0.5, 0.49999999999999989, 0.5, 0.50000000000000022, 0.5, 0.5, 0.5, 0.5, 0.5, 0.5, 0.33333333333333331, 0.33333333333333331, 0.33333333333333331, 0.33333333333333326, 0.33333333333333337, 0.33333333333333326, 0.33333333333333331, 0.33333333333333331, 0.33333333333333331, 0.33333333333333331, 0.33333333333333331, 0.33333333333333331, 0.33333333333333331, 0.33333333333333331, 0.33333333333333331, 0.33333333333333331, 0.33333333333333337, 0.33333333333333331, 0.33333333333333337, 0.33333333333333331]\n",
        "[ 0.26368534  0.58419987  0.15211479]"
       ]
      },
      {
       "output_type": "stream",
       "stream": "stdout",
       "text": [
        "\n",
        "[ 0.25539111  0.59043529  0.1541736 ]"
       ]
      },
      {
       "output_type": "stream",
       "stream": "stdout",
       "text": [
        "\n",
        "[ 0.22478651  0.63535856  0.13985493]"
       ]
      },
      {
       "output_type": "stream",
       "stream": "stdout",
       "text": [
        "\n",
        "[ 0.22834688  0.6313613   0.14029182]"
       ]
      },
      {
       "output_type": "stream",
       "stream": "stdout",
       "text": [
        "\n",
        "[ 0.24927966  0.60890033  0.14182002]"
       ]
      },
      {
       "output_type": "stream",
       "stream": "stdout",
       "text": [
        "\n",
        "[ 0.25489954  0.57963866  0.16546179]"
       ]
      },
      {
       "output_type": "stream",
       "stream": "stdout",
       "text": [
        "\n",
        "[ 0.24541811  0.62372868  0.13085321]"
       ]
      },
      {
       "output_type": "stream",
       "stream": "stdout",
       "text": [
        "\n",
        "[ 0.20369415  0.64587549  0.15043036]"
       ]
      },
      {
       "output_type": "stream",
       "stream": "stdout",
       "text": [
        "\n",
        "[ 0.25447268  0.5811674   0.16435992]"
       ]
      },
      {
       "output_type": "stream",
       "stream": "stdout",
       "text": [
        "\n",
        "[ 0.22750122  0.61390886  0.15858992]"
       ]
      },
      {
       "output_type": "stream",
       "stream": "stdout",
       "text": [
        "\n",
        "[0.5, 0.5, 0.5, 0.5, 0.5, 0.5, 0.5, 0.5, 0.5, 0.5, 0.5, 0.5, 0.5, 0.5, 0.5, 0.5, 0.5, 0.5, 0.5, 0.5, 0.5, 0.5, 0.5, 0.5, 0.5, 0.5, 0.5, 0.5, 0.5, 0.5, 0.5, 0.5, 0.5, 0.5, 0.5, 0.5, 0.5, 0.5, 0.5, 0.5, 0.5, 0.5, 0.5, 0.5, 0.5, 0.5, 0.5, 0.5, 0.5, 0.5, 0.5, 0.5, 0.5, 0.5, 0.5, 0.5, 0.5]"
       ]
      },
      {
       "output_type": "stream",
       "stream": "stdout",
       "text": [
        "\n",
        "[0.035308450180920395, 0.015900278873051947, 0.027606640458033495, 0.020287811471444019, 0.028085748571213369, 0.035450017068918892, 0.0030537699131523133, 0.018801048240551517, 0.0010101978777581351, 0.00050936119312244637, 0.008238681424071536, 0.0036143352597136787, 0.005607800401233284, 0.0025444087200298623, 0.019754369486924619, 0.008088683576243998, 0.0, 0.0077047868625348317, 0.0065852856156395825, 0.0015393751346797165, 0.005668936813507235, 0.0010016733692713726, 0.0065990598011115165, 0.0050674066527983952, 0.0015393751346797165, 0.0066773510107629745, 0.0015127146704332129, 0.0010033534773107617, 0.0025444087200298623, 0.0015127146704332129, 0.020761540704040373, 0.0010385384500440277, 0.0061854044439900308, 0.0010385384500440277, 0.0076763527928345732, 0.0015393751346797165, 0.0025548226894230226, 0.0010101978777581351, 0.0015393751346797213, 0.0005008366846356888, 0.0015393751346797165, 0.0010101978777581351, 0.0010101978777581351, 0.0010300139415572653, 0.00050936119312244637, 0.0015393751346797165, 0.00050936119312244637, 0.0020220758635556592, 0.0010187223862448975, 0.0025444087200298623, 0.0015127146704332129, 0.0040563311891210398, 0.0010385384500440277, 0.0040760618683429806, 0.00050936119312244637, 0.0025366867336632723, 0.0015393751346797165]\n",
        "[1.0, 1.0, 1.0, 1.0, 1.0, 1.0, 1.0, 1.0, 0.5, 0.5, 0.5, 0.5, 0.5, 0.5, 0.5, 0.5, 0.5, 0.5, 0.50000000000000011, 0.49999999999999989, 0.50000000000000011, 0.5, 0.5, 0.5, 0.5, 0.49999999999999989, 0.5, 0.49999999999999989, 0.5, 0.50000000000000022, 0.5, 0.5, 0.5, 0.5, 0.5, 0.5, 0.33333333333333331, 0.33333333333333331, 0.33333333333333331, 0.33333333333333326, 0.33333333333333337, 0.33333333333333326, 0.33333333333333331, 0.33333333333333331, 0.33333333333333331, 0.33333333333333331, 0.33333333333333331, 0.33333333333333331, 0.33333333333333331, 0.33333333333333331, 0.33333333333333331, 0.33333333333333331, 0.33333333333333337, 0.33333333333333331, 0.33333333333333337, 0.33333333333333331, 0.33333333333333337]\n",
        "[ 0.23450534  0.26742634  0.49806832]"
       ]
      },
      {
       "output_type": "stream",
       "stream": "stdout",
       "text": [
        "\n",
        "[ 0.24364688  0.22043269  0.53592043]"
       ]
      },
      {
       "output_type": "stream",
       "stream": "stdout",
       "text": [
        "\n",
        "[ 0.26521368  0.21630909  0.51847724]"
       ]
      },
      {
       "output_type": "stream",
       "stream": "stdout",
       "text": [
        "\n",
        "[ 0.25726097  0.24062329  0.50211574]"
       ]
      },
      {
       "output_type": "stream",
       "stream": "stdout",
       "text": [
        "\n",
        "[ 0.2393591   0.24998188  0.51065902]"
       ]
      },
      {
       "output_type": "stream",
       "stream": "stdout",
       "text": [
        "\n",
        "[ 0.23456812  0.22462697  0.54080492]"
       ]
      },
      {
       "output_type": "stream",
       "stream": "stdout",
       "text": [
        "\n",
        "[ 0.24472969  0.22220121  0.5330691 ]"
       ]
      },
      {
       "output_type": "stream",
       "stream": "stdout",
       "text": [
        "\n",
        "[ 0.25186418  0.23064091  0.51749491]"
       ]
      },
      {
       "output_type": "stream",
       "stream": "stdout",
       "text": [
        "\n",
        "[ 0.27348077  0.23572128  0.49079795]"
       ]
      },
      {
       "output_type": "stream",
       "stream": "stdout",
       "text": [
        "\n",
        "[ 0.27055615  0.26432311  0.46512073]"
       ]
      },
      {
       "output_type": "stream",
       "stream": "stdout",
       "text": [
        "\n",
        "[0.5, 0.5, 0.5, 0.5, 0.5, 0.5, 0.5, 0.5, 0.5, 0.5, 0.5, 0.5, 0.5, 0.5, 0.5, 0.5, 0.5, 0.5, 0.5, 0.5, 0.5, 0.5, 0.5, 0.5, 0.5, 0.5, 0.5, 0.5, 0.5, 0.5, 0.5, 0.5, 0.5, 0.5, 0.5, 0.5, 0.5, 0.5, 0.5, 0.5, 0.5, 0.5, 0.5, 0.5, 0.5, 0.5, 0.5, 0.5, 0.5, 0.5, 0.5, 0.5, 0.5, 0.5, 0.5, 0.5, 0.5, 0.5]"
       ]
      },
      {
       "output_type": "stream",
       "stream": "stdout",
       "text": [
        "\n",
        "[0.035308450180920395, 0.015900278873051947, 0.027606640458033495, 0.020287811471444019, 0.028085748571213369, 0.035450017068918892, 0.0030537699131523133, 0.018801048240551517, 0.0010101978777581351, 0.00050936119312244637, 0.008238681424071536, 0.0036143352597136787, 0.005607800401233284, 0.0025444087200298623, 0.019754369486924619, 0.008088683576243998, 0.0, 0.0077047868625348317, 0.0065852856156395825, 0.0015393751346797165, 0.005668936813507235, 0.0010016733692713726, 0.0065990598011115165, 0.0050674066527983952, 0.0015393751346797165, 0.0066773510107629745, 0.0015127146704332129, 0.0010033534773107617, 0.0025444087200298623, 0.0015127146704332129, 0.020761540704040373, 0.0010385384500440277, 0.0061854044439900308, 0.0010385384500440277, 0.0076763527928345732, 0.0015393751346797165, 0.0025548226894230226, 0.0010101978777581351, 0.0015393751346797213, 0.0005008366846356888, 0.0015393751346797165, 0.0010101978777581351, 0.0010101978777581351, 0.0010300139415572653, 0.00050936119312244637, 0.0015393751346797165, 0.00050936119312244637, 0.0020220758635556592, 0.0010187223862448975, 0.0025444087200298623, 0.0015127146704332129, 0.0040563311891210398, 0.0010385384500440277, 0.0040760618683429806, 0.00050936119312244637, 0.0025366867336632723, 0.0015393751346797165, 0.0015308506261929541]\n",
        "[1.0, 1.0, 1.0, 1.0, 1.0, 1.0, 1.0, 1.0, 0.5, 0.5, 0.5, 0.5, 0.5, 0.5, 0.5, 0.5, 0.5, 0.5, 0.50000000000000011, 0.49999999999999989, 0.50000000000000011, 0.5, 0.5, 0.5, 0.5, 0.49999999999999989, 0.5, 0.49999999999999989, 0.5, 0.50000000000000022, 0.5, 0.5, 0.5, 0.5, 0.5, 0.5, 0.33333333333333331, 0.33333333333333331, 0.33333333333333331, 0.33333333333333326, 0.33333333333333337, 0.33333333333333326, 0.33333333333333331, 0.33333333333333331, 0.33333333333333331, 0.33333333333333331, 0.33333333333333331, 0.33333333333333331, 0.33333333333333331, 0.33333333333333331, 0.33333333333333331, 0.33333333333333331, 0.33333333333333337, 0.33333333333333331, 0.33333333333333337, 0.33333333333333331, 0.33333333333333337, 0.33333333333333337]\n",
        "[ 0.31619827  0.33141454  0.35238719]"
       ]
      },
      {
       "output_type": "stream",
       "stream": "stdout",
       "text": [
        "\n",
        "[ 0.34023363  0.31957835  0.34018802]"
       ]
      },
      {
       "output_type": "stream",
       "stream": "stdout",
       "text": [
        "\n",
        "[ 0.33582548  0.31782854  0.34634598]"
       ]
      },
      {
       "output_type": "stream",
       "stream": "stdout",
       "text": [
        "\n",
        "[ 0.31618017  0.34200579  0.34181405]"
       ]
      },
      {
       "output_type": "stream",
       "stream": "stdout",
       "text": [
        "\n",
        "[ 0.32470103  0.32419621  0.35110276]"
       ]
      },
      {
       "output_type": "stream",
       "stream": "stdout",
       "text": [
        "\n",
        "[ 0.32678845  0.3124129   0.36079865]"
       ]
      },
      {
       "output_type": "stream",
       "stream": "stdout",
       "text": [
        "\n",
        "[ 0.34441197  0.30592529  0.34966274]"
       ]
      },
      {
       "output_type": "stream",
       "stream": "stdout",
       "text": [
        "\n",
        "[ 0.31430159  0.34537505  0.34032336]"
       ]
      },
      {
       "output_type": "stream",
       "stream": "stdout",
       "text": [
        "\n",
        "[ 0.32611736  0.32197963  0.35190301]"
       ]
      },
      {
       "output_type": "stream",
       "stream": "stdout",
       "text": [
        "\n",
        "[ 0.30868576  0.34241909  0.34889515]"
       ]
      },
      {
       "output_type": "stream",
       "stream": "stdout",
       "text": [
        "\n",
        "[0.5, 0.5, 0.5, 0.5, 0.5, 0.5, 0.5, 0.5, 0.5, 0.5, 0.5, 0.5, 0.5, 0.5, 0.5, 0.5, 0.5, 0.5, 0.5, 0.5, 0.5, 0.5, 0.5, 0.5, 0.5, 0.5, 0.5, 0.5, 0.5, 0.5, 0.5, 0.5, 0.5, 0.5, 0.5, 0.5, 0.5, 0.5, 0.5, 0.5, 0.5, 0.5, 0.5, 0.5, 0.5, 0.5, 0.5, 0.5, 0.5, 0.5, 0.5, 0.5, 0.5, 0.5, 0.5, 0.5, 0.5, 0.5, 0.5]"
       ]
      },
      {
       "output_type": "stream",
       "stream": "stdout",
       "text": [
        "\n",
        "[0.035308450180920395, 0.015900278873051947, 0.027606640458033495, 0.020287811471444019, 0.028085748571213369, 0.035450017068918892, 0.0030537699131523133, 0.018801048240551517, 0.0010101978777581351, 0.00050936119312244637, 0.008238681424071536, 0.0036143352597136787, 0.005607800401233284, 0.0025444087200298623, 0.019754369486924619, 0.008088683576243998, 0.0, 0.0077047868625348317, 0.0065852856156395825, 0.0015393751346797165, 0.005668936813507235, 0.0010016733692713726, 0.0065990598011115165, 0.0050674066527983952, 0.0015393751346797165, 0.0066773510107629745, 0.0015127146704332129, 0.0010033534773107617, 0.0025444087200298623, 0.0015127146704332129, 0.020761540704040373, 0.0010385384500440277, 0.0061854044439900308, 0.0010385384500440277, 0.0076763527928345732, 0.0015393751346797165, 0.0025548226894230226, 0.0010101978777581351, 0.0015393751346797213, 0.0005008366846356888, 0.0015393751346797165, 0.0010101978777581351, 0.0010101978777581351, 0.0010300139415572653, 0.00050936119312244637, 0.0015393751346797165, 0.00050936119312244637, 0.0020220758635556592, 0.0010187223862448975, 0.0025444087200298623, 0.0015127146704332129, 0.0040563311891210398, 0.0010385384500440277, 0.0040760618683429806, 0.00050936119312244637, 0.0025366867336632723, 0.0015393751346797165, 0.0015308506261929541, 0.0050948696391650674]\n",
        "[1.0, 1.0, 1.0, 1.0, 1.0, 1.0, 1.0, 1.0, 0.5, 0.5, 0.5, 0.5, 0.5, 0.5, 0.5, 0.5, 0.5, 0.5, 0.50000000000000011, 0.49999999999999989, 0.50000000000000011, 0.5, 0.5, 0.5, 0.5, 0.49999999999999989, 0.5, 0.49999999999999989, 0.5, 0.50000000000000022, 0.5, 0.5, 0.5, 0.5, 0.5, 0.5, 0.33333333333333331, 0.33333333333333331, 0.33333333333333331, 0.33333333333333326, 0.33333333333333337, 0.33333333333333326, 0.33333333333333331, 0.33333333333333331, 0.33333333333333331, 0.33333333333333331, 0.33333333333333331, 0.33333333333333331, 0.33333333333333331, 0.33333333333333331, 0.33333333333333331, 0.33333333333333331, 0.33333333333333337, 0.33333333333333331, 0.33333333333333337, 0.33333333333333331, 0.33333333333333337, 0.33333333333333337, 0.33333333333333331]\n",
        "[ 0.35371482  0.33367276  0.31261243]"
       ]
      },
      {
       "output_type": "stream",
       "stream": "stdout",
       "text": [
        "\n",
        "[ 0.29677558  0.31700757  0.38621685]"
       ]
      },
      {
       "output_type": "stream",
       "stream": "stdout",
       "text": [
        "\n",
        "[ 0.31718915  0.31928373  0.36352712]"
       ]
      },
      {
       "output_type": "stream",
       "stream": "stdout",
       "text": [
        "\n",
        "[ 0.30564765  0.34961356  0.34473879]"
       ]
      },
      {
       "output_type": "stream",
       "stream": "stdout",
       "text": [
        "\n",
        "[ 0.33660963  0.30239402  0.36099635]"
       ]
      },
      {
       "output_type": "stream",
       "stream": "stdout",
       "text": [
        "\n",
        "[ 0.33095544  0.312889    0.35615556]"
       ]
      },
      {
       "output_type": "stream",
       "stream": "stdout",
       "text": [
        "\n",
        "[ 0.31784899  0.3401908   0.34196021]"
       ]
      },
      {
       "output_type": "stream",
       "stream": "stdout",
       "text": [
        "\n",
        "[ 0.33494372  0.32747511  0.33758117]"
       ]
      },
      {
       "output_type": "stream",
       "stream": "stdout",
       "text": [
        "\n",
        "[ 0.31308918  0.3415938   0.34531702]"
       ]
      },
      {
       "output_type": "stream",
       "stream": "stdout",
       "text": [
        "\n",
        "[ 0.33344644  0.34900488  0.31754868]"
       ]
      },
      {
       "output_type": "stream",
       "stream": "stdout",
       "text": [
        "\n",
        "[0.5, 0.5, 0.5, 0.5, 0.5, 0.5, 0.5, 0.5, 0.5, 0.5, 0.5, 0.5, 0.5, 0.5, 0.5, 0.5, 0.5, 0.5, 0.5, 0.5, 0.5, 0.5, 0.5, 0.5, 0.5, 0.5, 0.5, 0.5, 0.5, 0.5, 0.5, 0.5, 0.5, 0.5, 0.5, 0.5, 0.5, 0.5, 0.5, 0.5, 0.5, 0.5, 0.5, 0.5, 0.5, 0.5, 0.5, 0.5, 0.5, 0.5, 0.5, 0.5, 0.5, 0.5, 0.5, 0.5, 0.5, 0.5, 0.5, 0.5]"
       ]
      },
      {
       "output_type": "stream",
       "stream": "stdout",
       "text": [
        "\n",
        "[0.035308450180920395, 0.015900278873051947, 0.027606640458033495, 0.020287811471444019, 0.028085748571213369, 0.035450017068918892, 0.0030537699131523133, 0.018801048240551517, 0.0010101978777581351, 0.00050936119312244637, 0.008238681424071536, 0.0036143352597136787, 0.005607800401233284, 0.0025444087200298623, 0.019754369486924619, 0.008088683576243998, 0.0, 0.0077047868625348317, 0.0065852856156395825, 0.0015393751346797165, 0.005668936813507235, 0.0010016733692713726, 0.0065990598011115165, 0.0050674066527983952, 0.0015393751346797165, 0.0066773510107629745, 0.0015127146704332129, 0.0010033534773107617, 0.0025444087200298623, 0.0015127146704332129, 0.020761540704040373, 0.0010385384500440277, 0.0061854044439900308, 0.0010385384500440277, 0.0076763527928345732, 0.0015393751346797165, 0.0025548226894230226, 0.0010101978777581351, 0.0015393751346797213, 0.0005008366846356888, 0.0015393751346797165, 0.0010101978777581351, 0.0010101978777581351, 0.0010300139415572653, 0.00050936119312244637, 0.0015393751346797165, 0.00050936119312244637, 0.0020220758635556592, 0.0010187223862448975, 0.0025444087200298623, 0.0015127146704332129, 0.0040563311891210398, 0.0010385384500440277, 0.0040760618683429806, 0.00050936119312244637, 0.0025366867336632723, 0.0015393751346797165, 0.0015308506261929541, 0.0050948696391650674, 0.0050810954536931333]\n",
        "[1.0, 1.0, 1.0, 1.0, 1.0, 1.0, 1.0, 1.0, 0.5, 0.5, 0.5, 0.5, 0.5, 0.5, 0.5, 0.5, 0.5, 0.5, 0.50000000000000011, 0.49999999999999989, 0.50000000000000011, 0.5, 0.5, 0.5, 0.5, 0.49999999999999989, 0.5, 0.49999999999999989, 0.5, 0.50000000000000022, 0.5, 0.5, 0.5, 0.5, 0.5, 0.5, 0.33333333333333331, 0.33333333333333331, 0.33333333333333331, 0.33333333333333326, 0.33333333333333337, 0.33333333333333326, 0.33333333333333331, 0.33333333333333331, 0.33333333333333331, 0.33333333333333331, 0.33333333333333331, 0.33333333333333331, 0.33333333333333331, 0.33333333333333331, 0.33333333333333331, 0.33333333333333331, 0.33333333333333337, 0.33333333333333331, 0.33333333333333337, 0.33333333333333331, 0.33333333333333337, 0.33333333333333337, 0.33333333333333331, 0.33333333333333331]\n",
        "[ 0.19616067  0.20286444  0.60097489]"
       ]
      },
      {
       "output_type": "stream",
       "stream": "stdout",
       "text": [
        "\n",
        "[ 0.17201776  0.21218725  0.61579498]"
       ]
      },
      {
       "output_type": "stream",
       "stream": "stdout",
       "text": [
        "\n",
        "[ 0.22897663  0.1780832   0.59294017]"
       ]
      },
      {
       "output_type": "stream",
       "stream": "stdout",
       "text": [
        "\n",
        "[ 0.25630307  0.19265427  0.55104266]"
       ]
      },
      {
       "output_type": "stream",
       "stream": "stdout",
       "text": [
        "\n",
        "[ 0.18973667  0.22312629  0.58713704]"
       ]
      },
      {
       "output_type": "stream",
       "stream": "stdout",
       "text": [
        "\n",
        "[ 0.21788578  0.20828634  0.57382788]"
       ]
      },
      {
       "output_type": "stream",
       "stream": "stdout",
       "text": [
        "\n",
        "[ 0.14177221  0.24024836  0.61797942]"
       ]
      },
      {
       "output_type": "stream",
       "stream": "stdout",
       "text": [
        "\n",
        "[ 0.17749542  0.21618094  0.60632364]"
       ]
      },
      {
       "output_type": "stream",
       "stream": "stdout",
       "text": [
        "\n",
        "[ 0.23170336  0.20800489  0.56029174]"
       ]
      },
      {
       "output_type": "stream",
       "stream": "stdout",
       "text": [
        "\n",
        "[ 0.20736811  0.19314787  0.59948402]"
       ]
      },
      {
       "output_type": "stream",
       "stream": "stdout",
       "text": [
        "\n",
        "[0.5, 0.5, 0.5, 0.5, 0.5, 0.5, 0.5, 0.5, 0.5, 0.5, 0.5, 0.5, 0.5, 0.5, 0.5, 0.5, 0.5, 0.5, 0.5, 0.5, 0.5, 0.5, 0.5, 0.5, 0.5, 0.5, 0.5, 0.5, 0.5, 0.5, 0.5, 0.5, 0.5, 0.5, 0.5, 0.5, 0.5, 0.5, 0.5, 0.5, 0.5, 0.5, 0.5, 0.5, 0.5, 0.5, 0.5, 0.5, 0.5, 0.5, 0.5, 0.5, 0.5, 0.5, 0.5, 0.5, 0.5, 0.5, 0.5, 0.5, 0.5]"
       ]
      },
      {
       "output_type": "stream",
       "stream": "stdout",
       "text": [
        "\n",
        "[0.035308450180920395, 0.015900278873051947, 0.027606640458033495, 0.020287811471444019, 0.028085748571213369, 0.035450017068918892, 0.0030537699131523133, 0.018801048240551517, 0.0010101978777581351, 0.00050936119312244637, 0.008238681424071536, 0.0036143352597136787, 0.005607800401233284, 0.0025444087200298623, 0.019754369486924619, 0.008088683576243998, 0.0, 0.0077047868625348317, 0.0065852856156395825, 0.0015393751346797165, 0.005668936813507235, 0.0010016733692713726, 0.0065990598011115165, 0.0050674066527983952, 0.0015393751346797165, 0.0066773510107629745, 0.0015127146704332129, 0.0010033534773107617, 0.0025444087200298623, 0.0015127146704332129, 0.020761540704040373, 0.0010385384500440277, 0.0061854044439900308, 0.0010385384500440277, 0.0076763527928345732, 0.0015393751346797165, 0.0025548226894230226, 0.0010101978777581351, 0.0015393751346797213, 0.0005008366846356888, 0.0015393751346797165, 0.0010101978777581351, 0.0010101978777581351, 0.0010300139415572653, 0.00050936119312244637, 0.0015393751346797165, 0.00050936119312244637, 0.0020220758635556592, 0.0010187223862448975, 0.0025444087200298623, 0.0015127146704332129, 0.0040563311891210398, 0.0010385384500440277, 0.0040760618683429806, 0.00050936119312244637, 0.0025366867336632723, 0.0015393751346797165, 0.0015308506261929541, 0.0050948696391650674, 0.0050810954536931333, 0.0010016733692713726]\n",
        "[1.0, 1.0, 1.0, 1.0, 1.0, 1.0, 1.0, 1.0, 0.5, 0.5, 0.5, 0.5, 0.5, 0.5, 0.5, 0.5, 0.5, 0.5, 0.50000000000000011, 0.49999999999999989, 0.50000000000000011, 0.5, 0.5, 0.5, 0.5, 0.49999999999999989, 0.5, 0.49999999999999989, 0.5, 0.50000000000000022, 0.5, 0.5, 0.5, 0.5, 0.5, 0.5, 0.33333333333333331, 0.33333333333333331, 0.33333333333333331, 0.33333333333333326, 0.33333333333333337, 0.33333333333333326, 0.33333333333333331, 0.33333333333333331, 0.33333333333333331, 0.33333333333333331, 0.33333333333333331, 0.33333333333333331, 0.33333333333333331, 0.33333333333333331, 0.33333333333333331, 0.33333333333333331, 0.33333333333333337, 0.33333333333333331, 0.33333333333333337, 0.33333333333333331, 0.33333333333333337, 0.33333333333333337, 0.33333333333333331, 0.33333333333333331, 0.33333333333333331]\n",
        "[ 0.37570051  0.33240838  0.29189111]"
       ]
      },
      {
       "output_type": "stream",
       "stream": "stdout",
       "text": [
        "\n",
        "[ 0.32014216  0.36693351  0.31292433]"
       ]
      },
      {
       "output_type": "stream",
       "stream": "stdout",
       "text": [
        "\n",
        "[ 0.37865191  0.32194908  0.29939901]"
       ]
      },
      {
       "output_type": "stream",
       "stream": "stdout",
       "text": [
        "\n",
        "[ 0.33715017  0.37897483  0.283875  ]"
       ]
      },
      {
       "output_type": "stream",
       "stream": "stdout",
       "text": [
        "\n",
        "[ 0.37182222  0.33701448  0.2911633 ]"
       ]
      },
      {
       "output_type": "stream",
       "stream": "stdout",
       "text": [
        "\n",
        "[ 0.34411671  0.31932406  0.33655923]"
       ]
      },
      {
       "output_type": "stream",
       "stream": "stdout",
       "text": [
        "\n",
        "[ 0.33141579  0.36510932  0.30347489]"
       ]
      },
      {
       "output_type": "stream",
       "stream": "stdout",
       "text": [
        "\n",
        "[ 0.37391826  0.32440301  0.30167873]"
       ]
      },
      {
       "output_type": "stream",
       "stream": "stdout",
       "text": [
        "\n",
        "[ 0.32333022  0.36241614  0.31425364]"
       ]
      },
      {
       "output_type": "stream",
       "stream": "stdout",
       "text": [
        "\n",
        "[ 0.34433802  0.36652461  0.28913737]"
       ]
      },
      {
       "output_type": "stream",
       "stream": "stdout",
       "text": [
        "\n",
        "[0.5, 0.5, 0.5, 0.5, 0.5, 0.5, 0.5, 0.5, 0.5, 0.5, 0.5, 0.5, 0.5, 0.5, 0.5, 0.5, 0.5, 0.5, 0.5, 0.5, 0.5, 0.5, 0.5, 0.5, 0.5, 0.5, 0.5, 0.5, 0.5, 0.5, 0.5, 0.5, 0.5, 0.5, 0.5, 0.5, 0.5, 0.5, 0.5, 0.5, 0.5, 0.5, 0.5, 0.5, 0.5, 0.5, 0.5, 0.5, 0.5, 0.5, 0.5, 0.5, 0.5, 0.5, 0.5, 0.5, 0.5, 0.5, 0.5, 0.5, 0.5, 0.5]"
       ]
      },
      {
       "output_type": "stream",
       "stream": "stdout",
       "text": [
        "\n",
        "[0.035308450180920395, 0.015900278873051947, 0.027606640458033495, 0.020287811471444019, 0.028085748571213369, 0.035450017068918892, 0.0030537699131523133, 0.018801048240551517, 0.0010101978777581351, 0.00050936119312244637, 0.008238681424071536, 0.0036143352597136787, 0.005607800401233284, 0.0025444087200298623, 0.019754369486924619, 0.008088683576243998, 0.0, 0.0077047868625348317, 0.0065852856156395825, 0.0015393751346797165, 0.005668936813507235, 0.0010016733692713726, 0.0065990598011115165, 0.0050674066527983952, 0.0015393751346797165, 0.0066773510107629745, 0.0015127146704332129, 0.0010033534773107617, 0.0025444087200298623, 0.0015127146704332129, 0.020761540704040373, 0.0010385384500440277, 0.0061854044439900308, 0.0010385384500440277, 0.0076763527928345732, 0.0015393751346797165, 0.0025548226894230226, 0.0010101978777581351, 0.0015393751346797213, 0.0005008366846356888, 0.0015393751346797165, 0.0010101978777581351, 0.0010101978777581351, 0.0010300139415572653, 0.00050936119312244637, 0.0015393751346797165, 0.00050936119312244637, 0.0020220758635556592, 0.0010187223862448975, 0.0025444087200298623, 0.0015127146704332129, 0.0040563311891210398, 0.0010385384500440277, 0.0040760618683429806, 0.00050936119312244637, 0.0025366867336632723, 0.0015393751346797165, 0.0015308506261929541, 0.0050948696391650674, 0.0050810954536931333, 0.0010016733692713726, 0.0041208482133005854]\n",
        "[1.0, 1.0, 1.0, 1.0, 1.0, 1.0, 1.0, 1.0, 0.5, 0.5, 0.5, 0.5, 0.5, 0.5, 0.5, 0.5, 0.5, 0.5, 0.50000000000000011, 0.49999999999999989, 0.50000000000000011, 0.5, 0.5, 0.5, 0.5, 0.49999999999999989, 0.5, 0.49999999999999989, 0.5, 0.50000000000000022, 0.5, 0.5, 0.5, 0.5, 0.5, 0.5, 0.33333333333333331, 0.33333333333333331, 0.33333333333333331, 0.33333333333333326, 0.33333333333333337, 0.33333333333333326, 0.33333333333333331, 0.33333333333333331, 0.33333333333333331, 0.33333333333333331, 0.33333333333333331, 0.33333333333333331, 0.33333333333333331, 0.33333333333333331, 0.33333333333333331, 0.33333333333333331, 0.33333333333333337, 0.33333333333333331, 0.33333333333333337, 0.33333333333333331, 0.33333333333333337, 0.33333333333333337, 0.33333333333333331, 0.33333333333333331, 0.33333333333333331, 0.33333333333333331]\n",
        "[ 0.31890712  0.47085755  0.21023533]"
       ]
      },
      {
       "output_type": "stream",
       "stream": "stdout",
       "text": [
        "\n",
        "[ 0.26991723  0.49189282  0.23818995]"
       ]
      },
      {
       "output_type": "stream",
       "stream": "stdout",
       "text": [
        "\n",
        "[ 0.23117105  0.55505306  0.21377589]"
       ]
      },
      {
       "output_type": "stream",
       "stream": "stdout",
       "text": [
        "\n",
        "[ 0.26219504  0.53199287  0.20581209]"
       ]
      },
      {
       "output_type": "stream",
       "stream": "stdout",
       "text": [
        "\n",
        "[ 0.25126359  0.50539477  0.24334164]"
       ]
      },
      {
       "output_type": "stream",
       "stream": "stdout",
       "text": [
        "\n",
        "[ 0.2448904   0.49899666  0.25611294]"
       ]
      },
      {
       "output_type": "stream",
       "stream": "stdout",
       "text": [
        "\n",
        "[ 0.26420984  0.51102486  0.2247653 ]"
       ]
      },
      {
       "output_type": "stream",
       "stream": "stdout",
       "text": [
        "\n",
        "[ 0.26239352  0.49881825  0.23878823]"
       ]
      },
      {
       "output_type": "stream",
       "stream": "stdout",
       "text": [
        "\n",
        "[ 0.23871838  0.53153502  0.2297466 ]"
       ]
      },
      {
       "output_type": "stream",
       "stream": "stdout",
       "text": [
        "\n",
        "[ 0.32251155  0.46648223  0.21100621]"
       ]
      },
      {
       "output_type": "stream",
       "stream": "stdout",
       "text": [
        "\n",
        "[0.5, 0.5, 0.5, 0.5, 0.5, 0.5, 0.5, 0.5, 0.5, 0.5, 0.5, 0.5, 0.5, 0.5, 0.5, 0.5, 0.5, 0.5, 0.5, 0.5, 0.5, 0.5, 0.5, 0.5, 0.5, 0.5, 0.5, 0.5, 0.5, 0.5, 0.5, 0.5, 0.5, 0.5, 0.5, 0.5, 0.5, 0.5, 0.5, 0.5, 0.5, 0.5, 0.5, 0.5, 0.5, 0.5, 0.5, 0.5, 0.5, 0.5, 0.5, 0.5, 0.5, 0.5, 0.5, 0.5, 0.5, 0.5, 0.5, 0.5, 0.5, 0.5, 0.5]"
       ]
      },
      {
       "output_type": "stream",
       "stream": "stdout",
       "text": [
        "\n",
        "[0.035308450180920395, 0.015900278873051947, 0.027606640458033495, 0.020287811471444019, 0.028085748571213369, 0.035450017068918892, 0.0030537699131523133, 0.018801048240551517, 0.0010101978777581351, 0.00050936119312244637, 0.008238681424071536, 0.0036143352597136787, 0.005607800401233284, 0.0025444087200298623, 0.019754369486924619, 0.008088683576243998, 0.0, 0.0077047868625348317, 0.0065852856156395825, 0.0015393751346797165, 0.005668936813507235, 0.0010016733692713726, 0.0065990598011115165, 0.0050674066527983952, 0.0015393751346797165, 0.0066773510107629745, 0.0015127146704332129, 0.0010033534773107617, 0.0025444087200298623, 0.0015127146704332129, 0.020761540704040373, 0.0010385384500440277, 0.0061854044439900308, 0.0010385384500440277, 0.0076763527928345732, 0.0015393751346797165, 0.0025548226894230226, 0.0010101978777581351, 0.0015393751346797213, 0.0005008366846356888, 0.0015393751346797165, 0.0010101978777581351, 0.0010101978777581351, 0.0010300139415572653, 0.00050936119312244637, 0.0015393751346797165, 0.00050936119312244637, 0.0020220758635556592, 0.0010187223862448975, 0.0025444087200298623, 0.0015127146704332129, 0.0040563311891210398, 0.0010385384500440277, 0.0040760618683429806, 0.00050936119312244637, 0.0025366867336632723, 0.0015393751346797165, 0.0015308506261929541, 0.0050948696391650674, 0.0050810954536931333, 0.0010016733692713726, 0.0041208482133005854, 0.0]\n",
        "[1.0, 1.0, 1.0, 1.0, 1.0, 1.0, 1.0, 1.0, 0.5, 0.5, 0.5, 0.5, 0.5, 0.5, 0.5, 0.5, 0.5, 0.5, 0.50000000000000011, 0.49999999999999989, 0.50000000000000011, 0.5, 0.5, 0.5, 0.5, 0.49999999999999989, 0.5, 0.49999999999999989, 0.5, 0.50000000000000022, 0.5, 0.5, 0.5, 0.5, 0.5, 0.5, 0.33333333333333331, 0.33333333333333331, 0.33333333333333331, 0.33333333333333326, 0.33333333333333337, 0.33333333333333326, 0.33333333333333331, 0.33333333333333331, 0.33333333333333331, 0.33333333333333331, 0.33333333333333331, 0.33333333333333331, 0.33333333333333331, 0.33333333333333331, 0.33333333333333331, 0.33333333333333331, 0.33333333333333337, 0.33333333333333331, 0.33333333333333337, 0.33333333333333331, 0.33333333333333337, 0.33333333333333337, 0.33333333333333331, 0.33333333333333331, 0.33333333333333331, 0.33333333333333331, 0.33333333333333331]\n",
        "[ 0.28245063  0.50668966  0.21085971]"
       ]
      },
      {
       "output_type": "stream",
       "stream": "stdout",
       "text": [
        "\n",
        "[ 0.22797673  0.54356555  0.22845772]"
       ]
      },
      {
       "output_type": "stream",
       "stream": "stdout",
       "text": [
        "\n",
        "[ 0.25752087  0.5454947   0.19698443]"
       ]
      },
      {
       "output_type": "stream",
       "stream": "stdout",
       "text": [
        "\n",
        "[ 0.2899361   0.51130637  0.19875752]"
       ]
      },
      {
       "output_type": "stream",
       "stream": "stdout",
       "text": [
        "\n",
        "[ 0.23966552  0.53344315  0.22689133]"
       ]
      },
      {
       "output_type": "stream",
       "stream": "stdout",
       "text": [
        "\n",
        "[ 0.22792308  0.55723609  0.21484083]"
       ]
      },
      {
       "output_type": "stream",
       "stream": "stdout",
       "text": [
        "\n",
        "[ 0.25343544  0.53436519  0.21219937]"
       ]
      },
      {
       "output_type": "stream",
       "stream": "stdout",
       "text": [
        "\n",
        "[ 0.28918957  0.47481096  0.23599947]"
       ]
      },
      {
       "output_type": "stream",
       "stream": "stdout",
       "text": [
        "\n",
        "[ 0.26394127  0.50154039  0.23451834]"
       ]
      },
      {
       "output_type": "stream",
       "stream": "stdout",
       "text": [
        "\n",
        "[ 0.28400467  0.50820568  0.20778965]"
       ]
      },
      {
       "output_type": "stream",
       "stream": "stdout",
       "text": [
        "\n",
        "[0.5, 0.5, 0.5, 0.5, 0.5, 0.5, 0.5, 0.5, 0.5, 0.5, 0.5, 0.5, 0.5, 0.5, 0.5, 0.5, 0.5, 0.5, 0.5, 0.5, 0.5, 0.5, 0.5, 0.5, 0.5, 0.5, 0.5, 0.5, 0.5, 0.5, 0.5, 0.5, 0.5, 0.5, 0.5, 0.5, 0.5, 0.5, 0.5, 0.5, 0.5, 0.5, 0.5, 0.5, 0.5, 0.5, 0.5, 0.5, 0.5, 0.5, 0.5, 0.5, 0.5, 0.5, 0.5, 0.5, 0.5, 0.5, 0.5, 0.5, 0.5, 0.5, 0.5, 0.5]"
       ]
      },
      {
       "output_type": "stream",
       "stream": "stdout",
       "text": [
        "\n",
        "[0.035308450180920395, 0.015900278873051947, 0.027606640458033495, 0.020287811471444019, 0.028085748571213369, 0.035450017068918892, 0.0030537699131523133, 0.018801048240551517, 0.0010101978777581351, 0.00050936119312244637, 0.008238681424071536, 0.0036143352597136787, 0.005607800401233284, 0.0025444087200298623, 0.019754369486924619, 0.008088683576243998, 0.0, 0.0077047868625348317, 0.0065852856156395825, 0.0015393751346797165, 0.005668936813507235, 0.0010016733692713726, 0.0065990598011115165, 0.0050674066527983952, 0.0015393751346797165, 0.0066773510107629745, 0.0015127146704332129, 0.0010033534773107617, 0.0025444087200298623, 0.0015127146704332129, 0.020761540704040373, 0.0010385384500440277, 0.0061854044439900308, 0.0010385384500440277, 0.0076763527928345732, 0.0015393751346797165, 0.0025548226894230226, 0.0010101978777581351, 0.0015393751346797213, 0.0005008366846356888, 0.0015393751346797165, 0.0010101978777581351, 0.0010101978777581351, 0.0010300139415572653, 0.00050936119312244637, 0.0015393751346797165, 0.00050936119312244637, 0.0020220758635556592, 0.0010187223862448975, 0.0025444087200298623, 0.0015127146704332129, 0.0040563311891210398, 0.0010385384500440277, 0.0040760618683429806, 0.00050936119312244637, 0.0025366867336632723, 0.0015393751346797165, 0.0015308506261929541, 0.0050948696391650674, 0.0050810954536931333, 0.0010016733692713726, 0.0041208482133005854, 0.0, 0.0005008366846356888]\n",
        "[1.0, 1.0, 1.0, 1.0, 1.0, 1.0, 1.0, 1.0, 0.5, 0.5, 0.5, 0.5, 0.5, 0.5, 0.5, 0.5, 0.5, 0.5, 0.50000000000000011, 0.49999999999999989, 0.50000000000000011, 0.5, 0.5, 0.5, 0.5, 0.49999999999999989, 0.5, 0.49999999999999989, 0.5, 0.50000000000000022, 0.5, 0.5, 0.5, 0.5, 0.5, 0.5, 0.33333333333333331, 0.33333333333333331, 0.33333333333333331, 0.33333333333333326, 0.33333333333333337, 0.33333333333333326, 0.33333333333333331, 0.33333333333333331, 0.33333333333333331, 0.33333333333333331, 0.33333333333333331, 0.33333333333333331, 0.33333333333333331, 0.33333333333333331, 0.33333333333333331, 0.33333333333333331, 0.33333333333333337, 0.33333333333333331, 0.33333333333333337, 0.33333333333333331, 0.33333333333333337, 0.33333333333333337, 0.33333333333333331, 0.33333333333333331, 0.33333333333333331, 0.33333333333333331, 0.33333333333333331, 0.33333333333333331]\n",
        "[ 0.21202025  0.37768934  0.41029041]"
       ]
      },
      {
       "output_type": "stream",
       "stream": "stdout",
       "text": [
        "\n",
        "[ 0.25634695  0.30649922  0.43715383]"
       ]
      },
      {
       "output_type": "stream",
       "stream": "stdout",
       "text": [
        "\n",
        "[ 0.19117623  0.38298239  0.42584138]"
       ]
      },
      {
       "output_type": "stream",
       "stream": "stdout",
       "text": [
        "\n",
        "[ 0.21623861  0.3298214   0.45393999]"
       ]
      },
      {
       "output_type": "stream",
       "stream": "stdout",
       "text": [
        "\n",
        "[ 0.21674028  0.34026248  0.44299724]"
       ]
      },
      {
       "output_type": "stream",
       "stream": "stdout",
       "text": [
        "\n",
        "[ 0.19169293  0.36521763  0.44308944]"
       ]
      },
      {
       "output_type": "stream",
       "stream": "stdout",
       "text": [
        "\n",
        "[ 0.23964883  0.34598546  0.41436571]"
       ]
      },
      {
       "output_type": "stream",
       "stream": "stdout",
       "text": [
        "\n",
        "[ 0.21558525  0.32040226  0.46401249]"
       ]
      },
      {
       "output_type": "stream",
       "stream": "stdout",
       "text": [
        "\n",
        "[ 0.19630923  0.40087209  0.40281869]"
       ]
      },
      {
       "output_type": "stream",
       "stream": "stdout",
       "text": [
        "\n",
        "[ 0.25816884  0.34852128  0.39330988]"
       ]
      },
      {
       "output_type": "stream",
       "stream": "stdout",
       "text": [
        "\n",
        "[0.5, 0.5, 0.5, 0.5, 0.5, 0.5, 0.5, 0.5, 0.5, 0.5, 0.5, 0.5, 0.5, 0.5, 0.5, 0.5, 0.5, 0.5, 0.5, 0.5, 0.5, 0.5, 0.5, 0.5, 0.5, 0.5, 0.5, 0.5, 0.5, 0.5, 0.5, 0.5, 0.5, 0.5, 0.5, 0.5, 0.5, 0.5, 0.5, 0.5, 0.5, 0.5, 0.5, 0.5, 0.5, 0.5, 0.5, 0.5, 0.5, 0.5, 0.5, 0.5, 0.5, 0.5, 0.5, 0.5, 0.5, 0.5, 0.5, 0.5, 0.5, 0.5, 0.5, 0.5, 0.5]"
       ]
      },
      {
       "output_type": "stream",
       "stream": "stdout",
       "text": [
        "\n",
        "[0.035308450180920395, 0.015900278873051947, 0.027606640458033495, 0.020287811471444019, 0.028085748571213369, 0.035450017068918892, 0.0030537699131523133, 0.018801048240551517, 0.0010101978777581351, 0.00050936119312244637, 0.008238681424071536, 0.0036143352597136787, 0.005607800401233284, 0.0025444087200298623, 0.019754369486924619, 0.008088683576243998, 0.0, 0.0077047868625348317, 0.0065852856156395825, 0.0015393751346797165, 0.005668936813507235, 0.0010016733692713726, 0.0065990598011115165, 0.0050674066527983952, 0.0015393751346797165, 0.0066773510107629745, 0.0015127146704332129, 0.0010033534773107617, 0.0025444087200298623, 0.0015127146704332129, 0.020761540704040373, 0.0010385384500440277, 0.0061854044439900308, 0.0010385384500440277, 0.0076763527928345732, 0.0015393751346797165, 0.0025548226894230226, 0.0010101978777581351, 0.0015393751346797213, 0.0005008366846356888, 0.0015393751346797165, 0.0010101978777581351, 0.0010101978777581351, 0.0010300139415572653, 0.00050936119312244637, 0.0015393751346797165, 0.00050936119312244637, 0.0020220758635556592, 0.0010187223862448975, 0.0025444087200298623, 0.0015127146704332129, 0.0040563311891210398, 0.0010385384500440277, 0.0040760618683429806, 0.00050936119312244637, 0.0025366867336632723, 0.0015393751346797165, 0.0015308506261929541, 0.0050948696391650674, 0.0050810954536931333, 0.0010016733692713726, 0.0041208482133005854, 0.0, 0.0005008366846356888, 0.0015393751346797165]\n",
        "[1.0, 1.0, 1.0, 1.0, 1.0, 1.0, 1.0, 1.0, 0.5, 0.5, 0.5, 0.5, 0.5, 0.5, 0.5, 0.5, 0.5, 0.5, 0.50000000000000011, 0.49999999999999989, 0.50000000000000011, 0.5, 0.5, 0.5, 0.5, 0.49999999999999989, 0.5, 0.49999999999999989, 0.5, 0.50000000000000022, 0.5, 0.5, 0.5, 0.5, 0.5, 0.5, 0.33333333333333331, 0.33333333333333331, 0.33333333333333331, 0.33333333333333326, 0.33333333333333337, 0.33333333333333326, 0.33333333333333331, 0.33333333333333331, 0.33333333333333331, 0.33333333333333331, 0.33333333333333331, 0.33333333333333331, 0.33333333333333331, 0.33333333333333331, 0.33333333333333331, 0.33333333333333331, 0.33333333333333337, 0.33333333333333331, 0.33333333333333337, 0.33333333333333331, 0.33333333333333337, 0.33333333333333337, 0.33333333333333331, 0.33333333333333331, 0.33333333333333331, 0.33333333333333331, 0.33333333333333331, 0.33333333333333331, 0.33333333333333331]\n",
        "[ 0.3444998  0.4858116  0.1696886]"
       ]
      },
      {
       "output_type": "stream",
       "stream": "stdout",
       "text": [
        "\n",
        "[ 0.32123849  0.51048051  0.168281  ]"
       ]
      },
      {
       "output_type": "stream",
       "stream": "stdout",
       "text": [
        "\n",
        "[ 0.31386552  0.47736855  0.20876594]"
       ]
      },
      {
       "output_type": "stream",
       "stream": "stdout",
       "text": [
        "\n",
        "[ 0.32071509  0.49421113  0.18507378]"
       ]
      },
      {
       "output_type": "stream",
       "stream": "stdout",
       "text": [
        "\n",
        "[ 0.33616988  0.48732616  0.17650396]"
       ]
      },
      {
       "output_type": "stream",
       "stream": "stdout",
       "text": [
        "\n",
        "[ 0.32121793  0.48829902  0.19048305]"
       ]
      },
      {
       "output_type": "stream",
       "stream": "stdout",
       "text": [
        "\n",
        "[ 0.36855255  0.45628285  0.1751646 ]"
       ]
      },
      {
       "output_type": "stream",
       "stream": "stdout",
       "text": [
        "\n",
        "[ 0.31077745  0.51079211  0.17843044]"
       ]
      },
      {
       "output_type": "stream",
       "stream": "stdout",
       "text": [
        "\n",
        "[ 0.34625825  0.46358471  0.19015705]"
       ]
      },
      {
       "output_type": "stream",
       "stream": "stdout",
       "text": [
        "\n",
        "[ 0.30651864  0.49146219  0.20201917]"
       ]
      },
      {
       "output_type": "stream",
       "stream": "stdout",
       "text": [
        "\n",
        "[0.5, 0.5, 0.5, 0.5, 0.5, 0.5, 0.5, 0.5, 0.5, 0.5, 0.5, 0.5, 0.5, 0.5, 0.5, 0.5, 0.5, 0.5, 0.5, 0.5, 0.5, 0.5, 0.5, 0.5, 0.5, 0.5, 0.5, 0.5, 0.5, 0.5, 0.5, 0.5, 0.5, 0.5, 0.5, 0.5, 0.5, 0.5, 0.5, 0.5, 0.5, 0.5, 0.5, 0.5, 0.5, 0.5, 0.5, 0.5, 0.5, 0.5, 0.5, 0.5, 0.5, 0.5, 0.5, 0.5, 0.5, 0.5, 0.5, 0.5, 0.5, 0.5, 0.5, 0.5, 0.5, 0.5]"
       ]
      },
      {
       "output_type": "stream",
       "stream": "stdout",
       "text": [
        "\n",
        "[0.035308450180920395, 0.015900278873051947, 0.027606640458033495, 0.020287811471444019, 0.028085748571213369, 0.035450017068918892, 0.0030537699131523133, 0.018801048240551517, 0.0010101978777581351, 0.00050936119312244637, 0.008238681424071536, 0.0036143352597136787, 0.005607800401233284, 0.0025444087200298623, 0.019754369486924619, 0.008088683576243998, 0.0, 0.0077047868625348317, 0.0065852856156395825, 0.0015393751346797165, 0.005668936813507235, 0.0010016733692713726, 0.0065990598011115165, 0.0050674066527983952, 0.0015393751346797165, 0.0066773510107629745, 0.0015127146704332129, 0.0010033534773107617, 0.0025444087200298623, 0.0015127146704332129, 0.020761540704040373, 0.0010385384500440277, 0.0061854044439900308, 0.0010385384500440277, 0.0076763527928345732, 0.0015393751346797165, 0.0025548226894230226, 0.0010101978777581351, 0.0015393751346797213, 0.0005008366846356888, 0.0015393751346797165, 0.0010101978777581351, 0.0010101978777581351, 0.0010300139415572653, 0.00050936119312244637, 0.0015393751346797165, 0.00050936119312244637, 0.0020220758635556592, 0.0010187223862448975, 0.0025444087200298623, 0.0015127146704332129, 0.0040563311891210398, 0.0010385384500440277, 0.0040760618683429806, 0.00050936119312244637, 0.0025366867336632723, 0.0015393751346797165, 0.0015308506261929541, 0.0050948696391650674, 0.0050810954536931333, 0.0010016733692713726, 0.0041208482133005854, 0.0, 0.0005008366846356888, 0.0015393751346797165, 0.00052917725692158137]\n",
        "[1.0, 1.0, 1.0, 1.0, 1.0, 1.0, 1.0, 1.0, 0.5, 0.5, 0.5, 0.5, 0.5, 0.5, 0.5, 0.5, 0.5, 0.5, 0.50000000000000011, 0.49999999999999989, 0.50000000000000011, 0.5, 0.5, 0.5, 0.5, 0.49999999999999989, 0.5, 0.49999999999999989, 0.5, 0.50000000000000022, 0.5, 0.5, 0.5, 0.5, 0.5, 0.5, 0.33333333333333331, 0.33333333333333331, 0.33333333333333331, 0.33333333333333326, 0.33333333333333337, 0.33333333333333326, 0.33333333333333331, 0.33333333333333331, 0.33333333333333331, 0.33333333333333331, 0.33333333333333331, 0.33333333333333331, 0.33333333333333331, 0.33333333333333331, 0.33333333333333331, 0.33333333333333331, 0.33333333333333337, 0.33333333333333331, 0.33333333333333337, 0.33333333333333331, 0.33333333333333337, 0.33333333333333337, 0.33333333333333331, 0.33333333333333331, 0.33333333333333331, 0.33333333333333331, 0.33333333333333331, 0.33333333333333331, 0.33333333333333331, 0.33333333333333331]\n",
        "[ 0.42241137  0.3053469   0.27224173]"
       ]
      },
      {
       "output_type": "stream",
       "stream": "stdout",
       "text": [
        "\n",
        "[ 0.3655323   0.31936786  0.31509985]"
       ]
      },
      {
       "output_type": "stream",
       "stream": "stdout",
       "text": [
        "\n",
        "[ 0.37287355  0.32783648  0.29928997]"
       ]
      },
      {
       "output_type": "stream",
       "stream": "stdout",
       "text": [
        "\n",
        "[ 0.43364973  0.26579207  0.3005582 ]"
       ]
      },
      {
       "output_type": "stream",
       "stream": "stdout",
       "text": [
        "\n",
        "[ 0.37718912  0.29892556  0.32388532]"
       ]
      },
      {
       "output_type": "stream",
       "stream": "stdout",
       "text": [
        "\n",
        "[ 0.3948114   0.2970731   0.30811549]"
       ]
      },
      {
       "output_type": "stream",
       "stream": "stdout",
       "text": [
        "\n",
        "[ 0.41690883  0.30355535  0.27953582]"
       ]
      },
      {
       "output_type": "stream",
       "stream": "stdout",
       "text": [
        "\n",
        "[ 0.40386479  0.28171631  0.3144189 ]"
       ]
      },
      {
       "output_type": "stream",
       "stream": "stdout",
       "text": [
        "\n",
        "[ 0.40542163  0.29984574  0.29473264]"
       ]
      },
      {
       "output_type": "stream",
       "stream": "stdout",
       "text": [
        "\n",
        "[ 0.4008984   0.28906022  0.31004137]"
       ]
      },
      {
       "output_type": "stream",
       "stream": "stdout",
       "text": [
        "\n",
        "[0.5, 0.5, 0.5, 0.5, 0.5, 0.5, 0.5, 0.5, 0.5, 0.5, 0.5, 0.5, 0.5, 0.5, 0.5, 0.5, 0.5, 0.5, 0.5, 0.5, 0.5, 0.5, 0.5, 0.5, 0.5, 0.5, 0.5, 0.5, 0.5, 0.5, 0.5, 0.5, 0.5, 0.5, 0.5, 0.5, 0.5, 0.5, 0.5, 0.5, 0.5, 0.5, 0.5, 0.5, 0.5, 0.5, 0.5, 0.5, 0.5, 0.5, 0.5, 0.5, 0.5, 0.5, 0.5, 0.5, 0.5, 0.5, 0.5, 0.5, 0.5, 0.5, 0.5, 0.5, 0.5, 0.5, 0.5]"
       ]
      },
      {
       "output_type": "stream",
       "stream": "stdout",
       "text": [
        "\n",
        "[0.035308450180920395, 0.015900278873051947, 0.027606640458033495, 0.020287811471444019, 0.028085748571213369, 0.035450017068918892, 0.0030537699131523133, 0.018801048240551517, 0.0010101978777581351, 0.00050936119312244637, 0.008238681424071536, 0.0036143352597136787, 0.005607800401233284, 0.0025444087200298623, 0.019754369486924619, 0.008088683576243998, 0.0, 0.0077047868625348317, 0.0065852856156395825, 0.0015393751346797165, 0.005668936813507235, 0.0010016733692713726, 0.0065990598011115165, 0.0050674066527983952, 0.0015393751346797165, 0.0066773510107629745, 0.0015127146704332129, 0.0010033534773107617, 0.0025444087200298623, 0.0015127146704332129, 0.020761540704040373, 0.0010385384500440277, 0.0061854044439900308, 0.0010385384500440277, 0.0076763527928345732, 0.0015393751346797165, 0.0025548226894230226, 0.0010101978777581351, 0.0015393751346797213, 0.0005008366846356888, 0.0015393751346797165, 0.0010101978777581351, 0.0010101978777581351, 0.0010300139415572653, 0.00050936119312244637, 0.0015393751346797165, 0.00050936119312244637, 0.0020220758635556592, 0.0010187223862448975, 0.0025444087200298623, 0.0015127146704332129, 0.0040563311891210398, 0.0010385384500440277, 0.0040760618683429806, 0.00050936119312244637, 0.0025366867336632723, 0.0015393751346797165, 0.0015308506261929541, 0.0050948696391650674, 0.0050810954536931333, 0.0010016733692713726, 0.0041208482133005854, 0.0, 0.0005008366846356888, 0.0015393751346797165, 0.00052917725692158137, 0.0035417203190134224]\n",
        "[1.0, 1.0, 1.0, 1.0, 1.0, 1.0, 1.0, 1.0, 0.5, 0.5, 0.5, 0.5, 0.5, 0.5, 0.5, 0.5, 0.5, 0.5, 0.50000000000000011, 0.49999999999999989, 0.50000000000000011, 0.5, 0.5, 0.5, 0.5, 0.49999999999999989, 0.5, 0.49999999999999989, 0.5, 0.50000000000000022, 0.5, 0.5, 0.5, 0.5, 0.5, 0.5, 0.33333333333333331, 0.33333333333333331, 0.33333333333333331, 0.33333333333333326, 0.33333333333333337, 0.33333333333333326, 0.33333333333333331, 0.33333333333333331, 0.33333333333333331, 0.33333333333333331, 0.33333333333333331, 0.33333333333333331, 0.33333333333333331, 0.33333333333333331, 0.33333333333333331, 0.33333333333333331, 0.33333333333333337, 0.33333333333333331, 0.33333333333333337, 0.33333333333333331, 0.33333333333333337, 0.33333333333333337, 0.33333333333333331, 0.33333333333333331, 0.33333333333333331, 0.33333333333333331, 0.33333333333333331, 0.33333333333333331, 0.33333333333333331, 0.33333333333333331, 0.33333333333333343]\n",
        "[ 0.24751771  0.19306549  0.5594168 ]"
       ]
      },
      {
       "output_type": "stream",
       "stream": "stdout",
       "text": [
        "\n",
        "[ 0.22067946  0.18237711  0.59694343]"
       ]
      },
      {
       "output_type": "stream",
       "stream": "stdout",
       "text": [
        "\n",
        "[ 0.19162744  0.22731237  0.58106019]"
       ]
      },
      {
       "output_type": "stream",
       "stream": "stdout",
       "text": [
        "\n",
        "[ 0.22763435  0.19091443  0.58145121]"
       ]
      },
      {
       "output_type": "stream",
       "stream": "stdout",
       "text": [
        "\n",
        "[ 0.23509222  0.20280894  0.56209884]"
       ]
      },
      {
       "output_type": "stream",
       "stream": "stdout",
       "text": [
        "\n",
        "[ 0.19396962  0.17368003  0.63235035]"
       ]
      },
      {
       "output_type": "stream",
       "stream": "stdout",
       "text": [
        "\n",
        "[ 0.29534612  0.22406742  0.48058646]"
       ]
      },
      {
       "output_type": "stream",
       "stream": "stdout",
       "text": [
        "\n",
        "[ 0.22781867  0.18526952  0.5869118 ]"
       ]
      },
      {
       "output_type": "stream",
       "stream": "stdout",
       "text": [
        "\n",
        "[ 0.22423305  0.17847636  0.59729059]"
       ]
      },
      {
       "output_type": "stream",
       "stream": "stdout",
       "text": [
        "\n",
        "[ 0.24938957  0.13965399  0.61095644]"
       ]
      },
      {
       "output_type": "stream",
       "stream": "stdout",
       "text": [
        "\n",
        "[0.5, 0.5, 0.5, 0.5, 0.5, 0.5, 0.5, 0.5, 0.5, 0.5, 0.5, 0.5, 0.5, 0.5, 0.5, 0.5, 0.5, 0.5, 0.5, 0.5, 0.5, 0.5, 0.5, 0.5, 0.5, 0.5, 0.5, 0.5, 0.5, 0.5, 0.5, 0.5, 0.5, 0.5, 0.5, 0.5, 0.5, 0.5, 0.5, 0.5, 0.5, 0.5, 0.5, 0.5, 0.5, 0.5, 0.5, 0.5, 0.5, 0.5, 0.5, 0.5, 0.5, 0.5, 0.5, 0.5, 0.5, 0.5, 0.5, 0.5, 0.5, 0.5, 0.5, 0.5, 0.5, 0.5, 0.5, 0.5]"
       ]
      },
      {
       "output_type": "stream",
       "stream": "stdout",
       "text": [
        "\n",
        "[0.035308450180920395, 0.015900278873051947, 0.027606640458033495, 0.020287811471444019, 0.028085748571213369, 0.035450017068918892, 0.0030537699131523133, 0.018801048240551517, 0.0010101978777581351, 0.00050936119312244637, 0.008238681424071536, 0.0036143352597136787, 0.005607800401233284, 0.0025444087200298623, 0.019754369486924619, 0.008088683576243998, 0.0, 0.0077047868625348317, 0.0065852856156395825, 0.0015393751346797165, 0.005668936813507235, 0.0010016733692713726, 0.0065990598011115165, 0.0050674066527983952, 0.0015393751346797165, 0.0066773510107629745, 0.0015127146704332129, 0.0010033534773107617, 0.0025444087200298623, 0.0015127146704332129, 0.020761540704040373, 0.0010385384500440277, 0.0061854044439900308, 0.0010385384500440277, 0.0076763527928345732, 0.0015393751346797165, 0.0025548226894230226, 0.0010101978777581351, 0.0015393751346797213, 0.0005008366846356888, 0.0015393751346797165, 0.0010101978777581351, 0.0010101978777581351, 0.0010300139415572653, 0.00050936119312244637, 0.0015393751346797165, 0.00050936119312244637, 0.0020220758635556592, 0.0010187223862448975, 0.0025444087200298623, 0.0015127146704332129, 0.0040563311891210398, 0.0010385384500440277, 0.0040760618683429806, 0.00050936119312244637, 0.0025366867336632723, 0.0015393751346797165, 0.0015308506261929541, 0.0050948696391650674, 0.0050810954536931333, 0.0010016733692713726, 0.0041208482133005854, 0.0, 0.0005008366846356888, 0.0015393751346797165, 0.00052917725692158137, 0.0035417203190134224, 0.0010583545138431627]\n",
        "[1.0, 1.0, 1.0, 1.0, 1.0, 1.0, 1.0, 1.0, 0.5, 0.5, 0.5, 0.5, 0.5, 0.5, 0.5, 0.5, 0.5, 0.5, 0.50000000000000011, 0.49999999999999989, 0.50000000000000011, 0.5, 0.5, 0.5, 0.5, 0.49999999999999989, 0.5, 0.49999999999999989, 0.5, 0.50000000000000022, 0.5, 0.5, 0.5, 0.5, 0.5, 0.5, 0.33333333333333331, 0.33333333333333331, 0.33333333333333331, 0.33333333333333326, 0.33333333333333337, 0.33333333333333326, 0.33333333333333331, 0.33333333333333331, 0.33333333333333331, 0.33333333333333331, 0.33333333333333331, 0.33333333333333331, 0.33333333333333331, 0.33333333333333331, 0.33333333333333331, 0.33333333333333331, 0.33333333333333337, 0.33333333333333331, 0.33333333333333337, 0.33333333333333331, 0.33333333333333337, 0.33333333333333337, 0.33333333333333331, 0.33333333333333331, 0.33333333333333331, 0.33333333333333331, 0.33333333333333331, 0.33333333333333331, 0.33333333333333331, 0.33333333333333331, 0.33333333333333343, 0.33333333333333331]\n",
        "[ 0.38102595  0.33600653  0.28296753]"
       ]
      },
      {
       "output_type": "stream",
       "stream": "stdout",
       "text": [
        "\n",
        "[ 0.36380659  0.33154933  0.30464409]"
       ]
      },
      {
       "output_type": "stream",
       "stream": "stdout",
       "text": [
        "\n",
        "[ 0.35845636  0.32914984  0.3123938 ]"
       ]
      },
      {
       "output_type": "stream",
       "stream": "stdout",
       "text": [
        "\n",
        "[ 0.40704184  0.29993361  0.29302455]"
       ]
      },
      {
       "output_type": "stream",
       "stream": "stdout",
       "text": [
        "\n",
        "[ 0.39418711  0.32213316  0.28367972]"
       ]
      },
      {
       "output_type": "stream",
       "stream": "stdout",
       "text": [
        "\n",
        "[ 0.38523011  0.29600285  0.31876703]"
       ]
      },
      {
       "output_type": "stream",
       "stream": "stdout",
       "text": [
        "\n",
        "[ 0.40561662  0.3012216   0.29316177]"
       ]
      },
      {
       "output_type": "stream",
       "stream": "stdout",
       "text": [
        "\n",
        "[ 0.39020952  0.32060077  0.28918972]"
       ]
      },
      {
       "output_type": "stream",
       "stream": "stdout",
       "text": [
        "\n",
        "[ 0.35590752  0.33035343  0.31373905]"
       ]
      },
      {
       "output_type": "stream",
       "stream": "stdout",
       "text": [
        "\n",
        "[ 0.40276825  0.31550899  0.28172276]"
       ]
      },
      {
       "output_type": "stream",
       "stream": "stdout",
       "text": [
        "\n",
        "[0.5, 0.5, 0.5, 0.5, 0.5, 0.5, 0.5, 0.5, 0.5, 0.5, 0.5, 0.5, 0.5, 0.5, 0.5, 0.5, 0.5, 0.5, 0.5, 0.5, 0.5, 0.5, 0.5, 0.5, 0.5, 0.5, 0.5, 0.5, 0.5, 0.5, 0.5, 0.5, 0.5, 0.5, 0.5, 0.5, 0.5, 0.5, 0.5, 0.5, 0.5, 0.5, 0.5, 0.5, 0.5, 0.5, 0.5, 0.5, 0.5, 0.5, 0.5, 0.5, 0.5, 0.5, 0.5, 0.5, 0.5, 0.5, 0.5, 0.5, 0.5, 0.5, 0.5, 0.5, 0.5, 0.5, 0.5, 0.5, 0.5]"
       ]
      },
      {
       "output_type": "stream",
       "stream": "stdout",
       "text": [
        "\n",
        "[0.035308450180920395, 0.015900278873051947, 0.027606640458033495, 0.020287811471444019, 0.028085748571213369, 0.035450017068918892, 0.0030537699131523133, 0.018801048240551517, 0.0010101978777581351, 0.00050936119312244637, 0.008238681424071536, 0.0036143352597136787, 0.005607800401233284, 0.0025444087200298623, 0.019754369486924619, 0.008088683576243998, 0.0, 0.0077047868625348317, 0.0065852856156395825, 0.0015393751346797165, 0.005668936813507235, 0.0010016733692713726, 0.0065990598011115165, 0.0050674066527983952, 0.0015393751346797165, 0.0066773510107629745, 0.0015127146704332129, 0.0010033534773107617, 0.0025444087200298623, 0.0015127146704332129, 0.020761540704040373, 0.0010385384500440277, 0.0061854044439900308, 0.0010385384500440277, 0.0076763527928345732, 0.0015393751346797165, 0.0025548226894230226, 0.0010101978777581351, 0.0015393751346797213, 0.0005008366846356888, 0.0015393751346797165, 0.0010101978777581351, 0.0010101978777581351, 0.0010300139415572653, 0.00050936119312244637, 0.0015393751346797165, 0.00050936119312244637, 0.0020220758635556592, 0.0010187223862448975, 0.0025444087200298623, 0.0015127146704332129, 0.0040563311891210398, 0.0010385384500440277, 0.0040760618683429806, 0.00050936119312244637, 0.0025366867336632723, 0.0015393751346797165, 0.0015308506261929541, 0.0050948696391650674, 0.0050810954536931333, 0.0010016733692713726, 0.0041208482133005854, 0.0, 0.0005008366846356888, 0.0015393751346797165, 0.00052917725692158137, 0.0035417203190134224, 0.0010583545138431627, 0.0036045572351535793]\n",
        "[1.0, 1.0, 1.0, 1.0, 1.0, 1.0, 1.0, 1.0, 0.5, 0.5, 0.5, 0.5, 0.5, 0.5, 0.5, 0.5, 0.5, 0.5, 0.50000000000000011, 0.49999999999999989, 0.50000000000000011, 0.5, 0.5, 0.5, 0.5, 0.49999999999999989, 0.5, 0.49999999999999989, 0.5, 0.50000000000000022, 0.5, 0.5, 0.5, 0.5, 0.5, 0.5, 0.33333333333333331, 0.33333333333333331, 0.33333333333333331, 0.33333333333333326, 0.33333333333333337, 0.33333333333333326, 0.33333333333333331, 0.33333333333333331, 0.33333333333333331, 0.33333333333333331, 0.33333333333333331, 0.33333333333333331, 0.33333333333333331, 0.33333333333333331, 0.33333333333333331, 0.33333333333333331, 0.33333333333333337, 0.33333333333333331, 0.33333333333333337, 0.33333333333333331, 0.33333333333333337, 0.33333333333333337, 0.33333333333333331, 0.33333333333333331, 0.33333333333333331, 0.33333333333333331, 0.33333333333333331, 0.33333333333333331, 0.33333333333333331, 0.33333333333333331, 0.33333333333333343, 0.33333333333333331, 0.33333333333333331]\n",
        "[ 0.23161891  0.19941118  0.56896991]"
       ]
      },
      {
       "output_type": "stream",
       "stream": "stdout",
       "text": [
        "\n",
        "[ 0.20886661  0.20771536  0.58341804]"
       ]
      },
      {
       "output_type": "stream",
       "stream": "stdout",
       "text": [
        "\n",
        "[ 0.18756347  0.17644392  0.63599262]"
       ]
      },
      {
       "output_type": "stream",
       "stream": "stdout",
       "text": [
        "\n",
        "[ 0.24512281  0.15659879  0.5982784 ]"
       ]
      },
      {
       "output_type": "stream",
       "stream": "stdout",
       "text": [
        "\n",
        "[ 0.23773304  0.18262934  0.57963761]"
       ]
      },
      {
       "output_type": "stream",
       "stream": "stdout",
       "text": [
        "\n",
        "[ 0.18439597  0.18211763  0.6334864 ]"
       ]
      },
      {
       "output_type": "stream",
       "stream": "stdout",
       "text": [
        "\n",
        "[ 0.20246271  0.18119337  0.61634392]"
       ]
      },
      {
       "output_type": "stream",
       "stream": "stdout",
       "text": [
        "\n",
        "[ 0.22434059  0.22098251  0.55467689]"
       ]
      },
      {
       "output_type": "stream",
       "stream": "stdout",
       "text": [
        "\n",
        "[ 0.2421975   0.2120959   0.54570659]"
       ]
      },
      {
       "output_type": "stream",
       "stream": "stdout",
       "text": [
        "\n",
        "[ 0.25689964  0.19312961  0.54997076]"
       ]
      },
      {
       "output_type": "stream",
       "stream": "stdout",
       "text": [
        "\n",
        "[0.5, 0.5, 0.5, 0.5, 0.5, 0.5, 0.5, 0.5, 0.5, 0.5, 0.5, 0.5, 0.5, 0.5, 0.5, 0.5, 0.5, 0.5, 0.5, 0.5, 0.5, 0.5, 0.5, 0.5, 0.5, 0.5, 0.5, 0.5, 0.5, 0.5, 0.5, 0.5, 0.5, 0.5, 0.5, 0.5, 0.5, 0.5, 0.5, 0.5, 0.5, 0.5, 0.5, 0.5, 0.5, 0.5, 0.5, 0.5, 0.5, 0.5, 0.5, 0.5, 0.5, 0.5, 0.5, 0.5, 0.5, 0.5, 0.5, 0.5, 0.5, 0.5, 0.5, 0.5, 0.5, 0.5, 0.5, 0.5, 0.5, 0.5]"
       ]
      },
      {
       "output_type": "stream",
       "stream": "stdout",
       "text": [
        "\n",
        "[0.035308450180920395, 0.015900278873051947, 0.027606640458033495, 0.020287811471444019, 0.028085748571213369, 0.035450017068918892, 0.0030537699131523133, 0.018801048240551517, 0.0010101978777581351, 0.00050936119312244637, 0.008238681424071536, 0.0036143352597136787, 0.005607800401233284, 0.0025444087200298623, 0.019754369486924619, 0.008088683576243998, 0.0, 0.0077047868625348317, 0.0065852856156395825, 0.0015393751346797165, 0.005668936813507235, 0.0010016733692713726, 0.0065990598011115165, 0.0050674066527983952, 0.0015393751346797165, 0.0066773510107629745, 0.0015127146704332129, 0.0010033534773107617, 0.0025444087200298623, 0.0015127146704332129, 0.020761540704040373, 0.0010385384500440277, 0.0061854044439900308, 0.0010385384500440277, 0.0076763527928345732, 0.0015393751346797165, 0.0025548226894230226, 0.0010101978777581351, 0.0015393751346797213, 0.0005008366846356888, 0.0015393751346797165, 0.0010101978777581351, 0.0010101978777581351, 0.0010300139415572653, 0.00050936119312244637, 0.0015393751346797165, 0.00050936119312244637, 0.0020220758635556592, 0.0010187223862448975, 0.0025444087200298623, 0.0015127146704332129, 0.0040563311891210398, 0.0010385384500440277, 0.0040760618683429806, 0.00050936119312244637, 0.0025366867336632723, 0.0015393751346797165, 0.0015308506261929541, 0.0050948696391650674, 0.0050810954536931333, 0.0010016733692713726, 0.0041208482133005854, 0.0, 0.0005008366846356888, 0.0015393751346797165, 0.00052917725692158137, 0.0035417203190134224, 0.0010583545138431627, 0.0036045572351535793, 0.0005008366846356888]\n",
        "[1.0, 1.0, 1.0, 1.0, 1.0, 1.0, 1.0, 1.0, 0.5, 0.5, 0.5, 0.5, 0.5, 0.5, 0.5, 0.5, 0.5, 0.5, 0.50000000000000011, 0.49999999999999989, 0.50000000000000011, 0.5, 0.5, 0.5, 0.5, 0.49999999999999989, 0.5, 0.49999999999999989, 0.5, 0.50000000000000022, 0.5, 0.5, 0.5, 0.5, 0.5, 0.5, 0.33333333333333331, 0.33333333333333331, 0.33333333333333331, 0.33333333333333326, 0.33333333333333337, 0.33333333333333326, 0.33333333333333331, 0.33333333333333331, 0.33333333333333331, 0.33333333333333331, 0.33333333333333331, 0.33333333333333331, 0.33333333333333331, 0.33333333333333331, 0.33333333333333331, 0.33333333333333331, 0.33333333333333337, 0.33333333333333331, 0.33333333333333337, 0.33333333333333331, 0.33333333333333337, 0.33333333333333337, 0.33333333333333331, 0.33333333333333331, 0.33333333333333331, 0.33333333333333331, 0.33333333333333331, 0.33333333333333331, 0.33333333333333331, 0.33333333333333331, 0.33333333333333343, 0.33333333333333331, 0.33333333333333331, 0.33333333333333331]\n",
        "[ 0.41552817  0.28692621  0.29754562]"
       ]
      },
      {
       "output_type": "stream",
       "stream": "stdout",
       "text": [
        "\n",
        "[ 0.38824546  0.32305707  0.28869747]"
       ]
      },
      {
       "output_type": "stream",
       "stream": "stdout",
       "text": [
        "\n",
        "[ 0.35545976  0.3350377   0.30950254]"
       ]
      },
      {
       "output_type": "stream",
       "stream": "stdout",
       "text": [
        "\n",
        "[ 0.39307787  0.31905404  0.28786809]"
       ]
      },
      {
       "output_type": "stream",
       "stream": "stdout",
       "text": [
        "\n",
        "[ 0.36797304  0.34494362  0.28708334]"
       ]
      },
      {
       "output_type": "stream",
       "stream": "stdout",
       "text": [
        "\n",
        "[ 0.40559301  0.29173162  0.30267537]"
       ]
      },
      {
       "output_type": "stream",
       "stream": "stdout",
       "text": [
        "\n",
        "[ 0.38452638  0.32489856  0.29057506]"
       ]
      },
      {
       "output_type": "stream",
       "stream": "stdout",
       "text": [
        "\n",
        "[ 0.37666666  0.31589904  0.3074343 ]"
       ]
      },
      {
       "output_type": "stream",
       "stream": "stdout",
       "text": [
        "\n",
        "[ 0.41994511  0.28537243  0.29468247]"
       ]
      },
      {
       "output_type": "stream",
       "stream": "stdout",
       "text": [
        "\n",
        "[ 0.40703815  0.32304197  0.26991988]"
       ]
      },
      {
       "output_type": "stream",
       "stream": "stdout",
       "text": [
        "\n",
        "[0.5, 0.5, 0.5, 0.5, 0.5, 0.5, 0.5, 0.5, 0.5, 0.5, 0.5, 0.5, 0.5, 0.5, 0.5, 0.5, 0.5, 0.5, 0.5, 0.5, 0.5, 0.5, 0.5, 0.5, 0.5, 0.5, 0.5, 0.5, 0.5, 0.5, 0.5, 0.5, 0.5, 0.5, 0.5, 0.5, 0.5, 0.5, 0.5, 0.5, 0.5, 0.5, 0.5, 0.5, 0.5, 0.5, 0.5, 0.5, 0.5, 0.5, 0.5, 0.5, 0.5, 0.5, 0.5, 0.5, 0.5, 0.5, 0.5, 0.5, 0.5, 0.5, 0.5, 0.5, 0.5, 0.5, 0.5, 0.5, 0.5, 0.5, 0.5]"
       ]
      },
      {
       "output_type": "stream",
       "stream": "stdout",
       "text": [
        "\n",
        "[0.035308450180920395, 0.015900278873051947, 0.027606640458033495, 0.020287811471444019, 0.028085748571213369, 0.035450017068918892, 0.0030537699131523133, 0.018801048240551517, 0.0010101978777581351, 0.00050936119312244637, 0.008238681424071536, 0.0036143352597136787, 0.005607800401233284, 0.0025444087200298623, 0.019754369486924619, 0.008088683576243998, 0.0, 0.0077047868625348317, 0.0065852856156395825, 0.0015393751346797165, 0.005668936813507235, 0.0010016733692713726, 0.0065990598011115165, 0.0050674066527983952, 0.0015393751346797165, 0.0066773510107629745, 0.0015127146704332129, 0.0010033534773107617, 0.0025444087200298623, 0.0015127146704332129, 0.020761540704040373, 0.0010385384500440277, 0.0061854044439900308, 0.0010385384500440277, 0.0076763527928345732, 0.0015393751346797165, 0.0025548226894230226, 0.0010101978777581351, 0.0015393751346797213, 0.0005008366846356888, 0.0015393751346797165, 0.0010101978777581351, 0.0010101978777581351, 0.0010300139415572653, 0.00050936119312244637, 0.0015393751346797165, 0.00050936119312244637, 0.0020220758635556592, 0.0010187223862448975, 0.0025444087200298623, 0.0015127146704332129, 0.0040563311891210398, 0.0010385384500440277, 0.0040760618683429806, 0.00050936119312244637, 0.0025366867336632723, 0.0015393751346797165, 0.0015308506261929541, 0.0050948696391650674, 0.0050810954536931333, 0.0010016733692713726, 0.0041208482133005854, 0.0, 0.0005008366846356888, 0.0015393751346797165, 0.00052917725692158137, 0.0035417203190134224, 0.0010583545138431627, 0.0036045572351535793, 0.0005008366846356888, 0.0046483453621827594]\n",
        "[1.0, 1.0, 1.0, 1.0, 1.0, 1.0, 1.0, 1.0, 0.5, 0.5, 0.5, 0.5, 0.5, 0.5, 0.5, 0.5, 0.5, 0.5, 0.50000000000000011, 0.49999999999999989, 0.50000000000000011, 0.5, 0.5, 0.5, 0.5, 0.49999999999999989, 0.5, 0.49999999999999989, 0.5, 0.50000000000000022, 0.5, 0.5, 0.5, 0.5, 0.5, 0.5, 0.33333333333333331, 0.33333333333333331, 0.33333333333333331, 0.33333333333333326, 0.33333333333333337, 0.33333333333333326, 0.33333333333333331, 0.33333333333333331, 0.33333333333333331, 0.33333333333333331, 0.33333333333333331, 0.33333333333333331, 0.33333333333333331, 0.33333333333333331, 0.33333333333333331, 0.33333333333333331, 0.33333333333333337, 0.33333333333333331, 0.33333333333333337, 0.33333333333333331, 0.33333333333333337, 0.33333333333333337, 0.33333333333333331, 0.33333333333333331, 0.33333333333333331, 0.33333333333333331, 0.33333333333333331, 0.33333333333333331, 0.33333333333333331, 0.33333333333333331, 0.33333333333333343, 0.33333333333333331, 0.33333333333333331, 0.33333333333333331, 0.33333333333333331]\n",
        "[ 0.27789396  0.59005175  0.13205429]"
       ]
      },
      {
       "output_type": "stream",
       "stream": "stdout",
       "text": [
        "\n",
        "[ 0.22902999  0.62702392  0.14394609]"
       ]
      },
      {
       "output_type": "stream",
       "stream": "stdout",
       "text": [
        "\n",
        "[ 0.24905262  0.59476301  0.15618438]"
       ]
      },
      {
       "output_type": "stream",
       "stream": "stdout",
       "text": [
        "\n",
        "[ 0.29189993  0.55825996  0.14984011]"
       ]
      },
      {
       "output_type": "stream",
       "stream": "stdout",
       "text": [
        "\n",
        "[ 0.23933003  0.617522    0.14314797]"
       ]
      },
      {
       "output_type": "stream",
       "stream": "stdout",
       "text": [
        "\n",
        "[ 0.26243046  0.58040175  0.15716779]"
       ]
      },
      {
       "output_type": "stream",
       "stream": "stdout",
       "text": [
        "\n",
        "[ 0.29502101  0.54258027  0.16239873]"
       ]
      },
      {
       "output_type": "stream",
       "stream": "stdout",
       "text": [
        "\n",
        "[ 0.23274491  0.62804082  0.13921428]"
       ]
      },
      {
       "output_type": "stream",
       "stream": "stdout",
       "text": [
        "\n",
        "[ 0.26014159  0.58115468  0.15870373]"
       ]
      },
      {
       "output_type": "stream",
       "stream": "stdout",
       "text": [
        "\n",
        "[ 0.25223159  0.61643148  0.13133693]"
       ]
      },
      {
       "output_type": "stream",
       "stream": "stdout",
       "text": [
        "\n",
        "[0.5, 0.5, 0.5, 0.5, 0.5, 0.5, 0.5, 0.5, 0.5, 0.5, 0.5, 0.5, 0.5, 0.5, 0.5, 0.5, 0.5, 0.5, 0.5, 0.5, 0.5, 0.5, 0.5, 0.5, 0.5, 0.5, 0.5, 0.5, 0.5, 0.5, 0.5, 0.5, 0.5, 0.5, 0.5, 0.5, 0.5, 0.5, 0.5, 0.5, 0.5, 0.5, 0.5, 0.5, 0.5, 0.5, 0.5, 0.5, 0.5, 0.5, 0.5, 0.5, 0.5, 0.5, 0.5, 0.5, 0.5, 0.5, 0.5, 0.5, 0.5, 0.5, 0.5, 0.5, 0.5, 0.5, 0.5, 0.5, 0.5, 0.5, 0.5, 0.5]"
       ]
      },
      {
       "output_type": "stream",
       "stream": "stdout",
       "text": [
        "\n",
        "[0.035308450180920395, 0.015900278873051947, 0.027606640458033495, 0.020287811471444019, 0.028085748571213369, 0.035450017068918892, 0.0030537699131523133, 0.018801048240551517, 0.0010101978777581351, 0.00050936119312244637, 0.008238681424071536, 0.0036143352597136787, 0.005607800401233284, 0.0025444087200298623, 0.019754369486924619, 0.008088683576243998, 0.0, 0.0077047868625348317, 0.0065852856156395825, 0.0015393751346797165, 0.005668936813507235, 0.0010016733692713726, 0.0065990598011115165, 0.0050674066527983952, 0.0015393751346797165, 0.0066773510107629745, 0.0015127146704332129, 0.0010033534773107617, 0.0025444087200298623, 0.0015127146704332129, 0.020761540704040373, 0.0010385384500440277, 0.0061854044439900308, 0.0010385384500440277, 0.0076763527928345732, 0.0015393751346797165, 0.0025548226894230226, 0.0010101978777581351, 0.0015393751346797213, 0.0005008366846356888, 0.0015393751346797165, 0.0010101978777581351, 0.0010101978777581351, 0.0010300139415572653, 0.00050936119312244637, 0.0015393751346797165, 0.00050936119312244637, 0.0020220758635556592, 0.0010187223862448975, 0.0025444087200298623, 0.0015127146704332129, 0.0040563311891210398, 0.0010385384500440277, 0.0040760618683429806, 0.00050936119312244637, 0.0025366867336632723, 0.0015393751346797165, 0.0015308506261929541, 0.0050948696391650674, 0.0050810954536931333, 0.0010016733692713726, 0.0041208482133005854, 0.0, 0.0005008366846356888, 0.0015393751346797165, 0.00052917725692158137, 0.0035417203190134224, 0.0010583545138431627, 0.0036045572351535793, 0.0005008366846356888, 0.0046483453621827594, 0.0010300139415572701]\n",
        "[1.0, 1.0, 1.0, 1.0, 1.0, 1.0, 1.0, 1.0, 0.5, 0.5, 0.5, 0.5, 0.5, 0.5, 0.5, 0.5, 0.5, 0.5, 0.50000000000000011, 0.49999999999999989, 0.50000000000000011, 0.5, 0.5, 0.5, 0.5, 0.49999999999999989, 0.5, 0.49999999999999989, 0.5, 0.50000000000000022, 0.5, 0.5, 0.5, 0.5, 0.5, 0.5, 0.33333333333333331, 0.33333333333333331, 0.33333333333333331, 0.33333333333333326, 0.33333333333333337, 0.33333333333333326, 0.33333333333333331, 0.33333333333333331, 0.33333333333333331, 0.33333333333333331, 0.33333333333333331, 0.33333333333333331, 0.33333333333333331, 0.33333333333333331, 0.33333333333333331, 0.33333333333333331, 0.33333333333333337, 0.33333333333333331, 0.33333333333333337, 0.33333333333333331, 0.33333333333333337, 0.33333333333333337, 0.33333333333333331, 0.33333333333333331, 0.33333333333333331, 0.33333333333333331, 0.33333333333333331, 0.33333333333333331, 0.33333333333333331, 0.33333333333333331, 0.33333333333333343, 0.33333333333333331, 0.33333333333333331, 0.33333333333333331, 0.33333333333333331, 0.33333333333333331]\n",
        "[ 0.23497205  0.50257082  0.26245713]"
       ]
      },
      {
       "output_type": "stream",
       "stream": "stdout",
       "text": [
        "\n",
        "[ 0.27829376  0.49568426  0.22602198]"
       ]
      },
      {
       "output_type": "stream",
       "stream": "stdout",
       "text": [
        "\n",
        "[ 0.2570689  0.5284435  0.2144876]"
       ]
      },
      {
       "output_type": "stream",
       "stream": "stdout",
       "text": [
        "\n",
        "[ 0.2739662   0.48925424  0.23677956]"
       ]
      },
      {
       "output_type": "stream",
       "stream": "stdout",
       "text": [
        "\n",
        "[ 0.27771275  0.49963101  0.22265624]"
       ]
      },
      {
       "output_type": "stream",
       "stream": "stdout",
       "text": [
        "\n",
        "[ 0.27337011  0.50170671  0.22492318]"
       ]
      },
      {
       "output_type": "stream",
       "stream": "stdout",
       "text": [
        "\n",
        "[ 0.23803683  0.51481241  0.24715075]"
       ]
      },
      {
       "output_type": "stream",
       "stream": "stdout",
       "text": [
        "\n",
        "[ 0.26046952  0.51132199  0.22820848]"
       ]
      },
      {
       "output_type": "stream",
       "stream": "stdout",
       "text": [
        "\n",
        "[ 0.28825459  0.49286789  0.21887752]"
       ]
      },
      {
       "output_type": "stream",
       "stream": "stdout",
       "text": [
        "\n",
        "[ 0.3025932   0.49095238  0.20645442]"
       ]
      },
      {
       "output_type": "stream",
       "stream": "stdout",
       "text": [
        "\n",
        "[0.5, 0.5, 0.5, 0.5, 0.5, 0.5, 0.5, 0.5, 0.5, 0.5, 0.5, 0.5, 0.5, 0.5, 0.5, 0.5, 0.5, 0.5, 0.5, 0.5, 0.5, 0.5, 0.5, 0.5, 0.5, 0.5, 0.5, 0.5, 0.5, 0.5, 0.5, 0.5, 0.5, 0.5, 0.5, 0.5, 0.5, 0.5, 0.5, 0.5, 0.5, 0.5, 0.5, 0.5, 0.5, 0.5, 0.5, 0.5, 0.5, 0.5, 0.5, 0.5, 0.5, 0.5, 0.5, 0.5, 0.5, 0.5, 0.5, 0.5, 0.5, 0.5, 0.5, 0.5, 0.5, 0.5, 0.5, 0.5, 0.5, 0.5, 0.5, 0.5, 0.5]"
       ]
      },
      {
       "output_type": "stream",
       "stream": "stdout",
       "text": [
        "\n",
        "[0.035308450180920395, 0.015900278873051947, 0.027606640458033495, 0.020287811471444019, 0.028085748571213369, 0.035450017068918892, 0.0030537699131523133, 0.018801048240551517, 0.0010101978777581351, 0.00050936119312244637, 0.008238681424071536, 0.0036143352597136787, 0.005607800401233284, 0.0025444087200298623, 0.019754369486924619, 0.008088683576243998, 0.0, 0.0077047868625348317, 0.0065852856156395825, 0.0015393751346797165, 0.005668936813507235, 0.0010016733692713726, 0.0065990598011115165, 0.0050674066527983952, 0.0015393751346797165, 0.0066773510107629745, 0.0015127146704332129, 0.0010033534773107617, 0.0025444087200298623, 0.0015127146704332129, 0.020761540704040373, 0.0010385384500440277, 0.0061854044439900308, 0.0010385384500440277, 0.0076763527928345732, 0.0015393751346797165, 0.0025548226894230226, 0.0010101978777581351, 0.0015393751346797213, 0.0005008366846356888, 0.0015393751346797165, 0.0010101978777581351, 0.0010101978777581351, 0.0010300139415572653, 0.00050936119312244637, 0.0015393751346797165, 0.00050936119312244637, 0.0020220758635556592, 0.0010187223862448975, 0.0025444087200298623, 0.0015127146704332129, 0.0040563311891210398, 0.0010385384500440277, 0.0040760618683429806, 0.00050936119312244637, 0.0025366867336632723, 0.0015393751346797165, 0.0015308506261929541, 0.0050948696391650674, 0.0050810954536931333, 0.0010016733692713726, 0.0041208482133005854, 0.0, 0.0005008366846356888, 0.0015393751346797165, 0.00052917725692158137, 0.0035417203190134224, 0.0010583545138431627, 0.0036045572351535793, 0.0005008366846356888, 0.0046483453621827594, 0.0010300139415572701, 0.0010016733692713726]\n",
        "[1.0, 1.0, 1.0, 1.0, 1.0, 1.0, 1.0, 1.0, 0.5, 0.5, 0.5, 0.5, 0.5, 0.5, 0.5, 0.5, 0.5, 0.5, 0.50000000000000011, 0.49999999999999989, 0.50000000000000011, 0.5, 0.5, 0.5, 0.5, 0.49999999999999989, 0.5, 0.49999999999999989, 0.5, 0.50000000000000022, 0.5, 0.5, 0.5, 0.5, 0.5, 0.5, 0.33333333333333331, 0.33333333333333331, 0.33333333333333331, 0.33333333333333326, 0.33333333333333337, 0.33333333333333326, 0.33333333333333331, 0.33333333333333331, 0.33333333333333331, 0.33333333333333331, 0.33333333333333331, 0.33333333333333331, 0.33333333333333331, 0.33333333333333331, 0.33333333333333331, 0.33333333333333331, 0.33333333333333337, 0.33333333333333331, 0.33333333333333337, 0.33333333333333331, 0.33333333333333337, 0.33333333333333337, 0.33333333333333331, 0.33333333333333331, 0.33333333333333331, 0.33333333333333331, 0.33333333333333331, 0.33333333333333331, 0.33333333333333331, 0.33333333333333331, 0.33333333333333343, 0.33333333333333331, 0.33333333333333331, 0.33333333333333331, 0.33333333333333331, 0.33333333333333331, 0.33333333333333337]\n",
        "[ 0.24322469  0.55824885  0.19852647]"
       ]
      },
      {
       "output_type": "stream",
       "stream": "stdout",
       "text": [
        "\n",
        "[ 0.26833099  0.48824675  0.24342226]"
       ]
      },
      {
       "output_type": "stream",
       "stream": "stdout",
       "text": [
        "\n",
        "[ 0.26524368  0.49471007  0.24004626]"
       ]
      },
      {
       "output_type": "stream",
       "stream": "stdout",
       "text": [
        "\n",
        "[ 0.26637172  0.51516231  0.21846597]"
       ]
      },
      {
       "output_type": "stream",
       "stream": "stdout",
       "text": [
        "\n",
        "[ 0.24699774  0.5283663   0.22463596]"
       ]
      },
      {
       "output_type": "stream",
       "stream": "stdout",
       "text": [
        "\n",
        "[ 0.27119589  0.54733652  0.18146759]"
       ]
      },
      {
       "output_type": "stream",
       "stream": "stdout",
       "text": [
        "\n",
        "[ 0.25662719  0.52266212  0.22071069]"
       ]
      },
      {
       "output_type": "stream",
       "stream": "stdout",
       "text": [
        "\n",
        "[ 0.29783994  0.46441544  0.23774461]"
       ]
      },
      {
       "output_type": "stream",
       "stream": "stdout",
       "text": [
        "\n",
        "[ 0.27926291  0.4824623   0.23827479]"
       ]
      },
      {
       "output_type": "stream",
       "stream": "stdout",
       "text": [
        "\n",
        "[ 0.26484745  0.50304019  0.23211236]"
       ]
      },
      {
       "output_type": "stream",
       "stream": "stdout",
       "text": [
        "\n",
        "[0.5, 0.5, 0.5, 0.5, 0.5, 0.5, 0.5, 0.5, 0.5, 0.5, 0.5, 0.5, 0.5, 0.5, 0.5, 0.5, 0.5, 0.5, 0.5, 0.5, 0.5, 0.5, 0.5, 0.5, 0.5, 0.5, 0.5, 0.5, 0.5, 0.5, 0.5, 0.5, 0.5, 0.5, 0.5, 0.5, 0.5, 0.5, 0.5, 0.5, 0.5, 0.5, 0.5, 0.5, 0.5, 0.5, 0.5, 0.5, 0.5, 0.5, 0.5, 0.5, 0.5, 0.5, 0.5, 0.5, 0.5, 0.5, 0.5, 0.5, 0.5, 0.5, 0.5, 0.5, 0.5, 0.5, 0.5, 0.5, 0.5, 0.5, 0.5, 0.5, 0.5, 0.5]"
       ]
      },
      {
       "output_type": "stream",
       "stream": "stdout",
       "text": [
        "\n",
        "[0.035308450180920395, 0.015900278873051947, 0.027606640458033495, 0.020287811471444019, 0.028085748571213369, 0.035450017068918892, 0.0030537699131523133, 0.018801048240551517, 0.0010101978777581351, 0.00050936119312244637, 0.008238681424071536, 0.0036143352597136787, 0.005607800401233284, 0.0025444087200298623, 0.019754369486924619, 0.008088683576243998, 0.0, 0.0077047868625348317, 0.0065852856156395825, 0.0015393751346797165, 0.005668936813507235, 0.0010016733692713726, 0.0065990598011115165, 0.0050674066527983952, 0.0015393751346797165, 0.0066773510107629745, 0.0015127146704332129, 0.0010033534773107617, 0.0025444087200298623, 0.0015127146704332129, 0.020761540704040373, 0.0010385384500440277, 0.0061854044439900308, 0.0010385384500440277, 0.0076763527928345732, 0.0015393751346797165, 0.0025548226894230226, 0.0010101978777581351, 0.0015393751346797213, 0.0005008366846356888, 0.0015393751346797165, 0.0010101978777581351, 0.0010101978777581351, 0.0010300139415572653, 0.00050936119312244637, 0.0015393751346797165, 0.00050936119312244637, 0.0020220758635556592, 0.0010187223862448975, 0.0025444087200298623, 0.0015127146704332129, 0.0040563311891210398, 0.0010385384500440277, 0.0040760618683429806, 0.00050936119312244637, 0.0025366867336632723, 0.0015393751346797165, 0.0015308506261929541, 0.0050948696391650674, 0.0050810954536931333, 0.0010016733692713726, 0.0041208482133005854, 0.0, 0.0005008366846356888, 0.0015393751346797165, 0.00052917725692158137, 0.0035417203190134224, 0.0010583545138431627, 0.0036045572351535793, 0.0005008366846356888, 0.0046483453621827594, 0.0010300139415572701, 0.0010016733692713726, 0.0015308506261929541]\n",
        "[1.0, 1.0, 1.0, 1.0, 1.0, 1.0, 1.0, 1.0, 0.5, 0.5, 0.5, 0.5, 0.5, 0.5, 0.5, 0.5, 0.5, 0.5, 0.50000000000000011, 0.49999999999999989, 0.50000000000000011, 0.5, 0.5, 0.5, 0.5, 0.49999999999999989, 0.5, 0.49999999999999989, 0.5, 0.50000000000000022, 0.5, 0.5, 0.5, 0.5, 0.5, 0.5, 0.33333333333333331, 0.33333333333333331, 0.33333333333333331, 0.33333333333333326, 0.33333333333333337, 0.33333333333333326, 0.33333333333333331, 0.33333333333333331, 0.33333333333333331, 0.33333333333333331, 0.33333333333333331, 0.33333333333333331, 0.33333333333333331, 0.33333333333333331, 0.33333333333333331, 0.33333333333333331, 0.33333333333333337, 0.33333333333333331, 0.33333333333333337, 0.33333333333333331, 0.33333333333333337, 0.33333333333333337, 0.33333333333333331, 0.33333333333333331, 0.33333333333333331, 0.33333333333333331, 0.33333333333333331, 0.33333333333333331, 0.33333333333333331, 0.33333333333333331, 0.33333333333333343, 0.33333333333333331, 0.33333333333333331, 0.33333333333333331, 0.33333333333333331, 0.33333333333333331, 0.33333333333333337, 0.33333333333333326]\n",
        "[ 0.18966107  0.29846623  0.5118727 ]"
       ]
      },
      {
       "output_type": "stream",
       "stream": "stdout",
       "text": [
        "\n",
        "[ 0.22564419  0.36589537  0.40846044]"
       ]
      },
      {
       "output_type": "stream",
       "stream": "stdout",
       "text": [
        "\n",
        "[ 0.20814015  0.37615647  0.41570339]"
       ]
      },
      {
       "output_type": "stream",
       "stream": "stdout",
       "text": [
        "\n",
        "[ 0.18752319  0.27097871  0.5414981 ]"
       ]
      },
      {
       "output_type": "stream",
       "stream": "stdout",
       "text": [
        "\n",
        "[ 0.20828731  0.32993264  0.46178005]"
       ]
      },
      {
       "output_type": "stream",
       "stream": "stdout",
       "text": [
        "\n",
        "[ 0.21410436  0.34227907  0.44361657]"
       ]
      },
      {
       "output_type": "stream",
       "stream": "stdout",
       "text": [
        "\n",
        "[ 0.22047587  0.27599782  0.50352631]"
       ]
      },
      {
       "output_type": "stream",
       "stream": "stdout",
       "text": [
        "\n",
        "[ 0.22539181  0.33885212  0.43575606]"
       ]
      },
      {
       "output_type": "stream",
       "stream": "stdout",
       "text": [
        "\n",
        "[ 0.21695948  0.34687456  0.43616596]"
       ]
      },
      {
       "output_type": "stream",
       "stream": "stdout",
       "text": [
        "\n",
        "[ 0.22155543  0.30673226  0.47171231]"
       ]
      },
      {
       "output_type": "stream",
       "stream": "stdout",
       "text": [
        "\n",
        "[0.5, 0.5, 0.5, 0.5, 0.5, 0.5, 0.5, 0.5, 0.5, 0.5, 0.5, 0.5, 0.5, 0.5, 0.5, 0.5, 0.5, 0.5, 0.5, 0.5, 0.5, 0.5, 0.5, 0.5, 0.5, 0.5, 0.5, 0.5, 0.5, 0.5, 0.5, 0.5, 0.5, 0.5, 0.5, 0.5, 0.5, 0.5, 0.5, 0.5, 0.5, 0.5, 0.5, 0.5, 0.5, 0.5, 0.5, 0.5, 0.5, 0.5, 0.5, 0.5, 0.5, 0.5, 0.5, 0.5, 0.5, 0.5, 0.5, 0.5, 0.5, 0.5, 0.5, 0.5, 0.5, 0.5, 0.5, 0.5, 0.5, 0.5, 0.5, 0.5, 0.5, 0.5, 0.5]"
       ]
      },
      {
       "output_type": "stream",
       "stream": "stdout",
       "text": [
        "\n",
        "[0.035308450180920395, 0.015900278873051947, 0.027606640458033495, 0.020287811471444019, 0.028085748571213369, 0.035450017068918892, 0.0030537699131523133, 0.018801048240551517, 0.0010101978777581351, 0.00050936119312244637, 0.008238681424071536, 0.0036143352597136787, 0.005607800401233284, 0.0025444087200298623, 0.019754369486924619, 0.008088683576243998, 0.0, 0.0077047868625348317, 0.0065852856156395825, 0.0015393751346797165, 0.005668936813507235, 0.0010016733692713726, 0.0065990598011115165, 0.0050674066527983952, 0.0015393751346797165, 0.0066773510107629745, 0.0015127146704332129, 0.0010033534773107617, 0.0025444087200298623, 0.0015127146704332129, 0.020761540704040373, 0.0010385384500440277, 0.0061854044439900308, 0.0010385384500440277, 0.0076763527928345732, 0.0015393751346797165, 0.0025548226894230226, 0.0010101978777581351, 0.0015393751346797213, 0.0005008366846356888, 0.0015393751346797165, 0.0010101978777581351, 0.0010101978777581351, 0.0010300139415572653, 0.00050936119312244637, 0.0015393751346797165, 0.00050936119312244637, 0.0020220758635556592, 0.0010187223862448975, 0.0025444087200298623, 0.0015127146704332129, 0.0040563311891210398, 0.0010385384500440277, 0.0040760618683429806, 0.00050936119312244637, 0.0025366867336632723, 0.0015393751346797165, 0.0015308506261929541, 0.0050948696391650674, 0.0050810954536931333, 0.0010016733692713726, 0.0041208482133005854, 0.0, 0.0005008366846356888, 0.0015393751346797165, 0.00052917725692158137, 0.0035417203190134224, 0.0010583545138431627, 0.0036045572351535793, 0.0005008366846356888, 0.0046483453621827594, 0.0010300139415572701, 0.0010016733692713726, 0.0015308506261929541, 0.0015393751346797165]\n",
        "[1.0, 1.0, 1.0, 1.0, 1.0, 1.0, 1.0, 1.0, 0.5, 0.5, 0.5, 0.5, 0.5, 0.5, 0.5, 0.5, 0.5, 0.5, 0.50000000000000011, 0.49999999999999989, 0.50000000000000011, 0.5, 0.5, 0.5, 0.5, 0.49999999999999989, 0.5, 0.49999999999999989, 0.5, 0.50000000000000022, 0.5, 0.5, 0.5, 0.5, 0.5, 0.5, 0.33333333333333331, 0.33333333333333331, 0.33333333333333331, 0.33333333333333326, 0.33333333333333337, 0.33333333333333326, 0.33333333333333331, 0.33333333333333331, 0.33333333333333331, 0.33333333333333331, 0.33333333333333331, 0.33333333333333331, 0.33333333333333331, 0.33333333333333331, 0.33333333333333331, 0.33333333333333331, 0.33333333333333337, 0.33333333333333331, 0.33333333333333337, 0.33333333333333331, 0.33333333333333337, 0.33333333333333337, 0.33333333333333331, 0.33333333333333331, 0.33333333333333331, 0.33333333333333331, 0.33333333333333331, 0.33333333333333331, 0.33333333333333331, 0.33333333333333331, 0.33333333333333343, 0.33333333333333331, 0.33333333333333331, 0.33333333333333331, 0.33333333333333331, 0.33333333333333331, 0.33333333333333337, 0.33333333333333326, 0.33333333333333337]\n",
        "[ 0.35215533  0.47220969  0.17563498]"
       ]
      },
      {
       "output_type": "stream",
       "stream": "stdout",
       "text": [
        "\n",
        "[ 0.350792    0.48720698  0.16200102]"
       ]
      },
      {
       "output_type": "stream",
       "stream": "stdout",
       "text": [
        "\n",
        "[ 0.30960058  0.51736703  0.1730324 ]"
       ]
      },
      {
       "output_type": "stream",
       "stream": "stdout",
       "text": [
        "\n",
        "[ 0.36540938  0.43631624  0.19827438]"
       ]
      },
      {
       "output_type": "stream",
       "stream": "stdout",
       "text": [
        "\n",
        "[ 0.33308873  0.50061246  0.16629881]"
       ]
      },
      {
       "output_type": "stream",
       "stream": "stdout",
       "text": [
        "\n",
        "[ 0.29239081  0.53436725  0.17324194]"
       ]
      },
      {
       "output_type": "stream",
       "stream": "stdout",
       "text": [
        "\n",
        "[ 0.35721426  0.46812167  0.17466407]"
       ]
      },
      {
       "output_type": "stream",
       "stream": "stdout",
       "text": [
        "\n",
        "[ 0.30592967  0.51148418  0.18258615]"
       ]
      },
      {
       "output_type": "stream",
       "stream": "stdout",
       "text": [
        "\n",
        "[ 0.28706511  0.51850932  0.19442557]"
       ]
      },
      {
       "output_type": "stream",
       "stream": "stdout",
       "text": [
        "\n",
        "[ 0.33589856  0.48845142  0.17565003]"
       ]
      },
      {
       "output_type": "stream",
       "stream": "stdout",
       "text": [
        "\n",
        "[0.5, 0.5, 0.5, 0.5, 0.5, 0.5, 0.5, 0.5, 0.5, 0.5, 0.5, 0.5, 0.5, 0.5, 0.5, 0.5, 0.5, 0.5, 0.5, 0.5, 0.5, 0.5, 0.5, 0.5, 0.5, 0.5, 0.5, 0.5, 0.5, 0.5, 0.5, 0.5, 0.5, 0.5, 0.5, 0.5, 0.5, 0.5, 0.5, 0.5, 0.5, 0.5, 0.5, 0.5, 0.5, 0.5, 0.5, 0.5, 0.5, 0.5, 0.5, 0.5, 0.5, 0.5, 0.5, 0.5, 0.5, 0.5, 0.5, 0.5, 0.5, 0.5, 0.5, 0.5, 0.5, 0.5, 0.5, 0.5, 0.5, 0.5, 0.5, 0.5, 0.5, 0.5, 0.5, 0.5]"
       ]
      },
      {
       "output_type": "stream",
       "stream": "stdout",
       "text": [
        "\n",
        "[0.035308450180920395, 0.015900278873051947, 0.027606640458033495, 0.020287811471444019, 0.028085748571213369, 0.035450017068918892, 0.0030537699131523133, 0.018801048240551517, 0.0010101978777581351, 0.00050936119312244637, 0.008238681424071536, 0.0036143352597136787, 0.005607800401233284, 0.0025444087200298623, 0.019754369486924619, 0.008088683576243998, 0.0, 0.0077047868625348317, 0.0065852856156395825, 0.0015393751346797165, 0.005668936813507235, 0.0010016733692713726, 0.0065990598011115165, 0.0050674066527983952, 0.0015393751346797165, 0.0066773510107629745, 0.0015127146704332129, 0.0010033534773107617, 0.0025444087200298623, 0.0015127146704332129, 0.020761540704040373, 0.0010385384500440277, 0.0061854044439900308, 0.0010385384500440277, 0.0076763527928345732, 0.0015393751346797165, 0.0025548226894230226, 0.0010101978777581351, 0.0015393751346797213, 0.0005008366846356888, 0.0015393751346797165, 0.0010101978777581351, 0.0010101978777581351, 0.0010300139415572653, 0.00050936119312244637, 0.0015393751346797165, 0.00050936119312244637, 0.0020220758635556592, 0.0010187223862448975, 0.0025444087200298623, 0.0015127146704332129, 0.0040563311891210398, 0.0010385384500440277, 0.0040760618683429806, 0.00050936119312244637, 0.0025366867336632723, 0.0015393751346797165, 0.0015308506261929541, 0.0050948696391650674, 0.0050810954536931333, 0.0010016733692713726, 0.0041208482133005854, 0.0, 0.0005008366846356888, 0.0015393751346797165, 0.00052917725692158137, 0.0035417203190134224, 0.0010583545138431627, 0.0036045572351535793, 0.0005008366846356888, 0.0046483453621827594, 0.0010300139415572701, 0.0010016733692713726, 0.0015308506261929541, 0.0015393751346797165, 0.0005008366846356888]\n",
        "[1.0, 1.0, 1.0, 1.0, 1.0, 1.0, 1.0, 1.0, 0.5, 0.5, 0.5, 0.5, 0.5, 0.5, 0.5, 0.5, 0.5, 0.5, 0.50000000000000011, 0.49999999999999989, 0.50000000000000011, 0.5, 0.5, 0.5, 0.5, 0.49999999999999989, 0.5, 0.49999999999999989, 0.5, 0.50000000000000022, 0.5, 0.5, 0.5, 0.5, 0.5, 0.5, 0.33333333333333331, 0.33333333333333331, 0.33333333333333331, 0.33333333333333326, 0.33333333333333337, 0.33333333333333326, 0.33333333333333331, 0.33333333333333331, 0.33333333333333331, 0.33333333333333331, 0.33333333333333331, 0.33333333333333331, 0.33333333333333331, 0.33333333333333331, 0.33333333333333331, 0.33333333333333331, 0.33333333333333337, 0.33333333333333331, 0.33333333333333337, 0.33333333333333331, 0.33333333333333337, 0.33333333333333337, 0.33333333333333331, 0.33333333333333331, 0.33333333333333331, 0.33333333333333331, 0.33333333333333331, 0.33333333333333331, 0.33333333333333331, 0.33333333333333331, 0.33333333333333343, 0.33333333333333331, 0.33333333333333331, 0.33333333333333331, 0.33333333333333331, 0.33333333333333331, 0.33333333333333337, 0.33333333333333326, 0.33333333333333337, 0.33333333333333331]\n",
        "[ 0.4400662   0.28104912  0.27888467]"
       ]
      },
      {
       "output_type": "stream",
       "stream": "stdout",
       "text": [
        "\n",
        "[ 0.39776267  0.29965121  0.30258612]"
       ]
      },
      {
       "output_type": "stream",
       "stream": "stdout",
       "text": [
        "\n",
        "[ 0.43359172  0.28185677  0.28455151]"
       ]
      },
      {
       "output_type": "stream",
       "stream": "stdout",
       "text": [
        "\n",
        "[ 0.39336379  0.30420475  0.30243146]"
       ]
      },
      {
       "output_type": "stream",
       "stream": "stdout",
       "text": [
        "\n",
        "[ 0.40097852  0.30295294  0.29606854]"
       ]
      },
      {
       "output_type": "stream",
       "stream": "stdout",
       "text": [
        "\n",
        "[ 0.38896354  0.30997365  0.30106281]"
       ]
      },
      {
       "output_type": "stream",
       "stream": "stdout",
       "text": [
        "\n",
        "[ 0.39896592  0.29007412  0.31095996]"
       ]
      },
      {
       "output_type": "stream",
       "stream": "stdout",
       "text": [
        "\n",
        "[ 0.40887279  0.29018858  0.30093863]"
       ]
      },
      {
       "output_type": "stream",
       "stream": "stdout",
       "text": [
        "\n",
        "[ 0.38226284  0.30999283  0.30774433]"
       ]
      },
      {
       "output_type": "stream",
       "stream": "stdout",
       "text": [
        "\n",
        "[ 0.40875024  0.2696263   0.32162346]"
       ]
      },
      {
       "output_type": "stream",
       "stream": "stdout",
       "text": [
        "\n",
        "[0.5, 0.5, 0.5, 0.5, 0.5, 0.5, 0.5, 0.5, 0.5, 0.5, 0.5, 0.5, 0.5, 0.5, 0.5, 0.5, 0.5, 0.5, 0.5, 0.5, 0.5, 0.5, 0.5, 0.5, 0.5, 0.5, 0.5, 0.5, 0.5, 0.5, 0.5, 0.5, 0.5, 0.5, 0.5, 0.5, 0.5, 0.5, 0.5, 0.5, 0.5, 0.5, 0.5, 0.5, 0.5, 0.5, 0.5, 0.5, 0.5, 0.5, 0.5, 0.5, 0.5, 0.5, 0.5, 0.5, 0.5, 0.5, 0.5, 0.5, 0.5, 0.5, 0.5, 0.5, 0.5, 0.5, 0.5, 0.5, 0.5, 0.5, 0.5, 0.5, 0.5, 0.5, 0.5, 0.5, 0.5]"
       ]
      },
      {
       "output_type": "stream",
       "stream": "stdout",
       "text": [
        "\n",
        "[0.035308450180920395, 0.015900278873051947, 0.027606640458033495, 0.020287811471444019, 0.028085748571213369, 0.035450017068918892, 0.0030537699131523133, 0.018801048240551517, 0.0010101978777581351, 0.00050936119312244637, 0.008238681424071536, 0.0036143352597136787, 0.005607800401233284, 0.0025444087200298623, 0.019754369486924619, 0.008088683576243998, 0.0, 0.0077047868625348317, 0.0065852856156395825, 0.0015393751346797165, 0.005668936813507235, 0.0010016733692713726, 0.0065990598011115165, 0.0050674066527983952, 0.0015393751346797165, 0.0066773510107629745, 0.0015127146704332129, 0.0010033534773107617, 0.0025444087200298623, 0.0015127146704332129, 0.020761540704040373, 0.0010385384500440277, 0.0061854044439900308, 0.0010385384500440277, 0.0076763527928345732, 0.0015393751346797165, 0.0025548226894230226, 0.0010101978777581351, 0.0015393751346797213, 0.0005008366846356888, 0.0015393751346797165, 0.0010101978777581351, 0.0010101978777581351, 0.0010300139415572653, 0.00050936119312244637, 0.0015393751346797165, 0.00050936119312244637, 0.0020220758635556592, 0.0010187223862448975, 0.0025444087200298623, 0.0015127146704332129, 0.0040563311891210398, 0.0010385384500440277, 0.0040760618683429806, 0.00050936119312244637, 0.0025366867336632723, 0.0015393751346797165, 0.0015308506261929541, 0.0050948696391650674, 0.0050810954536931333, 0.0010016733692713726, 0.0041208482133005854, 0.0, 0.0005008366846356888, 0.0015393751346797165, 0.00052917725692158137, 0.0035417203190134224, 0.0010583545138431627, 0.0036045572351535793, 0.0005008366846356888, 0.0046483453621827594, 0.0010300139415572701, 0.0010016733692713726, 0.0015308506261929541, 0.0015393751346797165, 0.0005008366846356888, 0.0060828542075416917]\n",
        "[1.0, 1.0, 1.0, 1.0, 1.0, 1.0, 1.0, 1.0, 0.5, 0.5, 0.5, 0.5, 0.5, 0.5, 0.5, 0.5, 0.5, 0.5, 0.50000000000000011, 0.49999999999999989, 0.50000000000000011, 0.5, 0.5, 0.5, 0.5, 0.49999999999999989, 0.5, 0.49999999999999989, 0.5, 0.50000000000000022, 0.5, 0.5, 0.5, 0.5, 0.5, 0.5, 0.33333333333333331, 0.33333333333333331, 0.33333333333333331, 0.33333333333333326, 0.33333333333333337, 0.33333333333333326, 0.33333333333333331, 0.33333333333333331, 0.33333333333333331, 0.33333333333333331, 0.33333333333333331, 0.33333333333333331, 0.33333333333333331, 0.33333333333333331, 0.33333333333333331, 0.33333333333333331, 0.33333333333333337, 0.33333333333333331, 0.33333333333333337, 0.33333333333333331, 0.33333333333333337, 0.33333333333333337, 0.33333333333333331, 0.33333333333333331, 0.33333333333333331, 0.33333333333333331, 0.33333333333333331, 0.33333333333333331, 0.33333333333333331, 0.33333333333333331, 0.33333333333333343, 0.33333333333333331, 0.33333333333333331, 0.33333333333333331, 0.33333333333333331, 0.33333333333333331, 0.33333333333333337, 0.33333333333333326, 0.33333333333333337, 0.33333333333333331, 0.33333333333333331]\n",
        "[ 0.27804769  0.18259963  0.53935268]"
       ]
      },
      {
       "output_type": "stream",
       "stream": "stdout",
       "text": [
        "\n",
        "[ 0.20421664  0.16013586  0.63564749]"
       ]
      },
      {
       "output_type": "stream",
       "stream": "stdout",
       "text": [
        "\n",
        "[ 0.2651256   0.1704487   0.56442571]"
       ]
      },
      {
       "output_type": "stream",
       "stream": "stdout",
       "text": [
        "\n",
        "[ 0.23791469  0.15906842  0.6030169 ]"
       ]
      },
      {
       "output_type": "stream",
       "stream": "stdout",
       "text": [
        "\n",
        "[ 0.22524321  0.19313674  0.58162005]"
       ]
      },
      {
       "output_type": "stream",
       "stream": "stdout",
       "text": [
        "\n",
        "[ 0.20362925  0.20182843  0.59454232]"
       ]
      },
      {
       "output_type": "stream",
       "stream": "stdout",
       "text": [
        "\n",
        "[ 0.20244727  0.17304261  0.62451012]"
       ]
      },
      {
       "output_type": "stream",
       "stream": "stdout",
       "text": [
        "\n",
        "[ 0.24396457  0.19998687  0.55604856]"
       ]
      },
      {
       "output_type": "stream",
       "stream": "stdout",
       "text": [
        "\n",
        "[ 0.23927179  0.20981488  0.55091333]"
       ]
      },
      {
       "output_type": "stream",
       "stream": "stdout",
       "text": [
        "\n",
        "[ 0.23624367  0.22088748  0.54286885]"
       ]
      },
      {
       "output_type": "stream",
       "stream": "stdout",
       "text": [
        "\n",
        "[0.5, 0.5, 0.5, 0.5, 0.5, 0.5, 0.5, 0.5, 0.5, 0.5, 0.5, 0.5, 0.5, 0.5, 0.5, 0.5, 0.5, 0.5, 0.5, 0.5, 0.5, 0.5, 0.5, 0.5, 0.5, 0.5, 0.5, 0.5, 0.5, 0.5, 0.5, 0.5, 0.5, 0.5, 0.5, 0.5, 0.5, 0.5, 0.5, 0.5, 0.5, 0.5, 0.5, 0.5, 0.5, 0.5, 0.5, 0.5, 0.5, 0.5, 0.5, 0.5, 0.5, 0.5, 0.5, 0.5, 0.5, 0.5, 0.5, 0.5, 0.5, 0.5, 0.5, 0.5, 0.5, 0.5, 0.5, 0.5, 0.5, 0.5, 0.5, 0.5, 0.5, 0.5, 0.5, 0.5, 0.5, 0.5]"
       ]
      },
      {
       "output_type": "stream",
       "stream": "stdout",
       "text": [
        "\n",
        "[0.035308450180920395, 0.015900278873051947, 0.027606640458033495, 0.020287811471444019, 0.028085748571213369, 0.035450017068918892, 0.0030537699131523133, 0.018801048240551517, 0.0010101978777581351, 0.00050936119312244637, 0.008238681424071536, 0.0036143352597136787, 0.005607800401233284, 0.0025444087200298623, 0.019754369486924619, 0.008088683576243998, 0.0, 0.0077047868625348317, 0.0065852856156395825, 0.0015393751346797165, 0.005668936813507235, 0.0010016733692713726, 0.0065990598011115165, 0.0050674066527983952, 0.0015393751346797165, 0.0066773510107629745, 0.0015127146704332129, 0.0010033534773107617, 0.0025444087200298623, 0.0015127146704332129, 0.020761540704040373, 0.0010385384500440277, 0.0061854044439900308, 0.0010385384500440277, 0.0076763527928345732, 0.0015393751346797165, 0.0025548226894230226, 0.0010101978777581351, 0.0015393751346797213, 0.0005008366846356888, 0.0015393751346797165, 0.0010101978777581351, 0.0010101978777581351, 0.0010300139415572653, 0.00050936119312244637, 0.0015393751346797165, 0.00050936119312244637, 0.0020220758635556592, 0.0010187223862448975, 0.0025444087200298623, 0.0015127146704332129, 0.0040563311891210398, 0.0010385384500440277, 0.0040760618683429806, 0.00050936119312244637, 0.0025366867336632723, 0.0015393751346797165, 0.0015308506261929541, 0.0050948696391650674, 0.0050810954536931333, 0.0010016733692713726, 0.0041208482133005854, 0.0, 0.0005008366846356888, 0.0015393751346797165, 0.00052917725692158137, 0.0035417203190134224, 0.0010583545138431627, 0.0036045572351535793, 0.0005008366846356888, 0.0046483453621827594, 0.0010300139415572701, 0.0010016733692713726, 0.0015308506261929541, 0.0015393751346797165, 0.0005008366846356888, 0.0060828542075416917, 0.0005008366846356888]\n",
        "[1.0, 1.0, 1.0, 1.0, 1.0, 1.0, 1.0, 1.0, 0.5, 0.5, 0.5, 0.5, 0.5, 0.5, 0.5, 0.5, 0.5, 0.5, 0.50000000000000011, 0.49999999999999989, 0.50000000000000011, 0.5, 0.5, 0.5, 0.5, 0.49999999999999989, 0.5, 0.49999999999999989, 0.5, 0.50000000000000022, 0.5, 0.5, 0.5, 0.5, 0.5, 0.5, 0.33333333333333331, 0.33333333333333331, 0.33333333333333331, 0.33333333333333326, 0.33333333333333337, 0.33333333333333326, 0.33333333333333331, 0.33333333333333331, 0.33333333333333331, 0.33333333333333331, 0.33333333333333331, 0.33333333333333331, 0.33333333333333331, 0.33333333333333331, 0.33333333333333331, 0.33333333333333331, 0.33333333333333337, 0.33333333333333331, 0.33333333333333337, 0.33333333333333331, 0.33333333333333337, 0.33333333333333337, 0.33333333333333331, 0.33333333333333331, 0.33333333333333331, 0.33333333333333331, 0.33333333333333331, 0.33333333333333331, 0.33333333333333331, 0.33333333333333331, 0.33333333333333343, 0.33333333333333331, 0.33333333333333331, 0.33333333333333331, 0.33333333333333331, 0.33333333333333331, 0.33333333333333337, 0.33333333333333326, 0.33333333333333337, 0.33333333333333331, 0.33333333333333331, 0.33333333333333331]\n",
        "[ 0.45695688  0.26428488  0.27875824]"
       ]
      },
      {
       "output_type": "stream",
       "stream": "stdout",
       "text": [
        "\n",
        "[ 0.3877202   0.32270717  0.28957263]"
       ]
      },
      {
       "output_type": "stream",
       "stream": "stdout",
       "text": [
        "\n",
        "[ 0.41149412  0.29126347  0.29724241]"
       ]
      },
      {
       "output_type": "stream",
       "stream": "stdout",
       "text": [
        "\n",
        "[ 0.42792511  0.29320133  0.27887355]"
       ]
      },
      {
       "output_type": "stream",
       "stream": "stdout",
       "text": [
        "\n",
        "[ 0.39079488  0.30167645  0.30752868]"
       ]
      },
      {
       "output_type": "stream",
       "stream": "stdout",
       "text": [
        "\n",
        "[ 0.38580172  0.31520137  0.29899691]"
       ]
      },
      {
       "output_type": "stream",
       "stream": "stdout",
       "text": [
        "\n",
        "[ 0.37966517  0.32193414  0.29840069]"
       ]
      },
      {
       "output_type": "stream",
       "stream": "stdout",
       "text": [
        "\n",
        "[ 0.40730157  0.30530467  0.28739376]"
       ]
      },
      {
       "output_type": "stream",
       "stream": "stdout",
       "text": [
        "\n",
        "[ 0.39424464  0.32510596  0.2806494 ]"
       ]
      },
      {
       "output_type": "stream",
       "stream": "stdout",
       "text": [
        "\n",
        "[ 0.40077698  0.31393412  0.2852889 ]"
       ]
      },
      {
       "output_type": "stream",
       "stream": "stdout",
       "text": [
        "\n",
        "[0.5, 0.5, 0.5, 0.5, 0.5, 0.5, 0.5, 0.5, 0.5, 0.5, 0.5, 0.5, 0.5, 0.5, 0.5, 0.5, 0.5, 0.5, 0.5, 0.5, 0.5, 0.5, 0.5, 0.5, 0.5, 0.5, 0.5, 0.5, 0.5, 0.5, 0.5, 0.5, 0.5, 0.5, 0.5, 0.5, 0.5, 0.5, 0.5, 0.5, 0.5, 0.5, 0.5, 0.5, 0.5, 0.5, 0.5, 0.5, 0.5, 0.5, 0.5, 0.5, 0.5, 0.5, 0.5, 0.5, 0.5, 0.5, 0.5, 0.5, 0.5, 0.5, 0.5, 0.5, 0.5, 0.5, 0.5, 0.5, 0.5, 0.5, 0.5, 0.5, 0.5, 0.5, 0.5, 0.5, 0.5, 0.5, 0.5]"
       ]
      },
      {
       "output_type": "stream",
       "stream": "stdout",
       "text": [
        "\n",
        "[0.035308450180920395, 0.015900278873051947, 0.027606640458033495, 0.020287811471444019, 0.028085748571213369, 0.035450017068918892, 0.0030537699131523133, 0.018801048240551517, 0.0010101978777581351, 0.00050936119312244637, 0.008238681424071536, 0.0036143352597136787, 0.005607800401233284, 0.0025444087200298623, 0.019754369486924619, 0.008088683576243998, 0.0, 0.0077047868625348317, 0.0065852856156395825, 0.0015393751346797165, 0.005668936813507235, 0.0010016733692713726, 0.0065990598011115165, 0.0050674066527983952, 0.0015393751346797165, 0.0066773510107629745, 0.0015127146704332129, 0.0010033534773107617, 0.0025444087200298623, 0.0015127146704332129, 0.020761540704040373, 0.0010385384500440277, 0.0061854044439900308, 0.0010385384500440277, 0.0076763527928345732, 0.0015393751346797165, 0.0025548226894230226, 0.0010101978777581351, 0.0015393751346797213, 0.0005008366846356888, 0.0015393751346797165, 0.0010101978777581351, 0.0010101978777581351, 0.0010300139415572653, 0.00050936119312244637, 0.0015393751346797165, 0.00050936119312244637, 0.0020220758635556592, 0.0010187223862448975, 0.0025444087200298623, 0.0015127146704332129, 0.0040563311891210398, 0.0010385384500440277, 0.0040760618683429806, 0.00050936119312244637, 0.0025366867336632723, 0.0015393751346797165, 0.0015308506261929541, 0.0050948696391650674, 0.0050810954536931333, 0.0010016733692713726, 0.0041208482133005854, 0.0, 0.0005008366846356888, 0.0015393751346797165, 0.00052917725692158137, 0.0035417203190134224, 0.0010583545138431627, 0.0036045572351535793, 0.0005008366846356888, 0.0046483453621827594, 0.0010300139415572701, 0.0010016733692713726, 0.0015308506261929541, 0.0015393751346797165, 0.0005008366846356888, 0.0060828542075416917, 0.0005008366846356888, 0.0056318827756944041]\n",
        "[1.0, 1.0, 1.0, 1.0, 1.0, 1.0, 1.0, 1.0, 0.5, 0.5, 0.5, 0.5, 0.5, 0.5, 0.5, 0.5, 0.5, 0.5, 0.50000000000000011, 0.49999999999999989, 0.50000000000000011, 0.5, 0.5, 0.5, 0.5, 0.49999999999999989, 0.5, 0.49999999999999989, 0.5, 0.50000000000000022, 0.5, 0.5, 0.5, 0.5, 0.5, 0.5, 0.33333333333333331, 0.33333333333333331, 0.33333333333333331, 0.33333333333333326, 0.33333333333333337, 0.33333333333333326, 0.33333333333333331, 0.33333333333333331, 0.33333333333333331, 0.33333333333333331, 0.33333333333333331, 0.33333333333333331, 0.33333333333333331, 0.33333333333333331, 0.33333333333333331, 0.33333333333333331, 0.33333333333333337, 0.33333333333333331, 0.33333333333333337, 0.33333333333333331, 0.33333333333333337, 0.33333333333333337, 0.33333333333333331, 0.33333333333333331, 0.33333333333333331, 0.33333333333333331, 0.33333333333333331, 0.33333333333333331, 0.33333333333333331, 0.33333333333333331, 0.33333333333333343, 0.33333333333333331, 0.33333333333333331, 0.33333333333333331, 0.33333333333333331, 0.33333333333333331, 0.33333333333333337, 0.33333333333333326, 0.33333333333333337, 0.33333333333333331, 0.33333333333333331, 0.33333333333333331, 0.33333333333333331]\n",
        "[ 0.23208607  0.1657931   0.60212082]"
       ]
      },
      {
       "output_type": "stream",
       "stream": "stdout",
       "text": [
        "\n",
        "[ 0.25234401  0.17705504  0.57060094]"
       ]
      },
      {
       "output_type": "stream",
       "stream": "stdout",
       "text": [
        "\n",
        "[ 0.25122559  0.20797249  0.54080193]"
       ]
      },
      {
       "output_type": "stream",
       "stream": "stdout",
       "text": [
        "\n",
        "[ 0.22573903  0.17570752  0.59855345]"
       ]
      },
      {
       "output_type": "stream",
       "stream": "stdout",
       "text": [
        "\n",
        "[ 0.21463028  0.2001499   0.58521982]"
       ]
      },
      {
       "output_type": "stream",
       "stream": "stdout",
       "text": [
        "\n",
        "[ 0.1994304   0.18538768  0.61518192]"
       ]
      },
      {
       "output_type": "stream",
       "stream": "stdout",
       "text": [
        "\n",
        "[ 0.22256399  0.21180164  0.56563438]"
       ]
      },
      {
       "output_type": "stream",
       "stream": "stdout",
       "text": [
        "\n",
        "[ 0.20971901  0.18780586  0.60247513]"
       ]
      },
      {
       "output_type": "stream",
       "stream": "stdout",
       "text": [
        "\n",
        "[ 0.20148728  0.18239321  0.61611951]"
       ]
      },
      {
       "output_type": "stream",
       "stream": "stdout",
       "text": [
        "\n",
        "[ 0.27183156  0.16583842  0.56233002]"
       ]
      },
      {
       "output_type": "stream",
       "stream": "stdout",
       "text": [
        "\n",
        "[0.5, 0.5, 0.5, 0.5, 0.5, 0.5, 0.5, 0.5, 0.5, 0.5, 0.5, 0.5, 0.5, 0.5, 0.5, 0.5, 0.5, 0.5, 0.5, 0.5, 0.5, 0.5, 0.5, 0.5, 0.5, 0.5, 0.5, 0.5, 0.5, 0.5, 0.5, 0.5, 0.5, 0.5, 0.5, 0.5, 0.5, 0.5, 0.5, 0.5, 0.5, 0.5, 0.5, 0.5, 0.5, 0.5, 0.5, 0.5, 0.5, 0.5, 0.5, 0.5, 0.5, 0.5, 0.5, 0.5, 0.5, 0.5, 0.5, 0.5, 0.5, 0.5, 0.5, 0.5, 0.5, 0.5, 0.5, 0.5, 0.5, 0.5, 0.5, 0.5, 0.5, 0.5, 0.5, 0.5, 0.5, 0.5, 0.5, 0.5]"
       ]
      },
      {
       "output_type": "stream",
       "stream": "stdout",
       "text": [
        "\n",
        "[0.035308450180920395, 0.015900278873051947, 0.027606640458033495, 0.020287811471444019, 0.028085748571213369, 0.035450017068918892, 0.0030537699131523133, 0.018801048240551517, 0.0010101978777581351, 0.00050936119312244637, 0.008238681424071536, 0.0036143352597136787, 0.005607800401233284, 0.0025444087200298623, 0.019754369486924619, 0.008088683576243998, 0.0, 0.0077047868625348317, 0.0065852856156395825, 0.0015393751346797165, 0.005668936813507235, 0.0010016733692713726, 0.0065990598011115165, 0.0050674066527983952, 0.0015393751346797165, 0.0066773510107629745, 0.0015127146704332129, 0.0010033534773107617, 0.0025444087200298623, 0.0015127146704332129, 0.020761540704040373, 0.0010385384500440277, 0.0061854044439900308, 0.0010385384500440277, 0.0076763527928345732, 0.0015393751346797165, 0.0025548226894230226, 0.0010101978777581351, 0.0015393751346797213, 0.0005008366846356888, 0.0015393751346797165, 0.0010101978777581351, 0.0010101978777581351, 0.0010300139415572653, 0.00050936119312244637, 0.0015393751346797165, 0.00050936119312244637, 0.0020220758635556592, 0.0010187223862448975, 0.0025444087200298623, 0.0015127146704332129, 0.0040563311891210398, 0.0010385384500440277, 0.0040760618683429806, 0.00050936119312244637, 0.0025366867336632723, 0.0015393751346797165, 0.0015308506261929541, 0.0050948696391650674, 0.0050810954536931333, 0.0010016733692713726, 0.0041208482133005854, 0.0, 0.0005008366846356888, 0.0015393751346797165, 0.00052917725692158137, 0.0035417203190134224, 0.0010583545138431627, 0.0036045572351535793, 0.0005008366846356888, 0.0046483453621827594, 0.0010300139415572701, 0.0010016733692713726, 0.0015308506261929541, 0.0015393751346797165, 0.0005008366846356888, 0.0060828542075416917, 0.0005008366846356888, 0.0056318827756944041, 0.0005008366846356888]\n",
        "[1.0, 1.0, 1.0, 1.0, 1.0, 1.0, 1.0, 1.0, 0.5, 0.5, 0.5, 0.5, 0.5, 0.5, 0.5, 0.5, 0.5, 0.5, 0.50000000000000011, 0.49999999999999989, 0.50000000000000011, 0.5, 0.5, 0.5, 0.5, 0.49999999999999989, 0.5, 0.49999999999999989, 0.5, 0.50000000000000022, 0.5, 0.5, 0.5, 0.5, 0.5, 0.5, 0.33333333333333331, 0.33333333333333331, 0.33333333333333331, 0.33333333333333326, 0.33333333333333337, 0.33333333333333326, 0.33333333333333331, 0.33333333333333331, 0.33333333333333331, 0.33333333333333331, 0.33333333333333331, 0.33333333333333331, 0.33333333333333331, 0.33333333333333331, 0.33333333333333331, 0.33333333333333331, 0.33333333333333337, 0.33333333333333331, 0.33333333333333337, 0.33333333333333331, 0.33333333333333337, 0.33333333333333337, 0.33333333333333331, 0.33333333333333331, 0.33333333333333331, 0.33333333333333331, 0.33333333333333331, 0.33333333333333331, 0.33333333333333331, 0.33333333333333331, 0.33333333333333343, 0.33333333333333331, 0.33333333333333331, 0.33333333333333331, 0.33333333333333331, 0.33333333333333331, 0.33333333333333337, 0.33333333333333326, 0.33333333333333337, 0.33333333333333331, 0.33333333333333331, 0.33333333333333331, 0.33333333333333331, 0.33333333333333326]\n",
        "[ 0.41809716  0.30399131  0.27791153]"
       ]
      },
      {
       "output_type": "stream",
       "stream": "stdout",
       "text": [
        "\n",
        "[ 0.38504896  0.33093002  0.28402101]"
       ]
      },
      {
       "output_type": "stream",
       "stream": "stdout",
       "text": [
        "\n",
        "[ 0.38113686  0.3251908   0.29367235]"
       ]
      },
      {
       "output_type": "stream",
       "stream": "stdout",
       "text": [
        "\n",
        "[ 0.39137029  0.32431556  0.28431415]"
       ]
      },
      {
       "output_type": "stream",
       "stream": "stdout",
       "text": [
        "\n",
        "[ 0.39230165  0.33991291  0.26778544]"
       ]
      },
      {
       "output_type": "stream",
       "stream": "stdout",
       "text": [
        "\n",
        "[ 0.36936721  0.33448405  0.29614874]"
       ]
      },
      {
       "output_type": "stream",
       "stream": "stdout",
       "text": [
        "\n",
        "[ 0.40449759  0.30823952  0.28726289]"
       ]
      },
      {
       "output_type": "stream",
       "stream": "stdout",
       "text": [
        "\n",
        "[ 0.37411595  0.33470987  0.29117419]"
       ]
      },
      {
       "output_type": "stream",
       "stream": "stdout",
       "text": [
        "\n",
        "[ 0.3578844   0.33706902  0.30504658]"
       ]
      },
      {
       "output_type": "stream",
       "stream": "stdout",
       "text": [
        "\n",
        "[ 0.43799412  0.2746718   0.28733408]"
       ]
      },
      {
       "output_type": "stream",
       "stream": "stdout",
       "text": [
        "\n",
        "[0.5, 0.5, 0.5, 0.5, 0.5, 0.5, 0.5, 0.5, 0.5, 0.5, 0.5, 0.5, 0.5, 0.5, 0.5, 0.5, 0.5, 0.5, 0.5, 0.5, 0.5, 0.5, 0.5, 0.5, 0.5, 0.5, 0.5, 0.5, 0.5, 0.5, 0.5, 0.5, 0.5, 0.5, 0.5, 0.5, 0.5, 0.5, 0.5, 0.5, 0.5, 0.5, 0.5, 0.5, 0.5, 0.5, 0.5, 0.5, 0.5, 0.5, 0.5, 0.5, 0.5, 0.5, 0.5, 0.5, 0.5, 0.5, 0.5, 0.5, 0.5, 0.5, 0.5, 0.5, 0.5, 0.5, 0.5, 0.5, 0.5, 0.5, 0.5, 0.5, 0.5, 0.5, 0.5, 0.5, 0.5, 0.5, 0.5, 0.5, 0.5]"
       ]
      },
      {
       "output_type": "stream",
       "stream": "stdout",
       "text": [
        "\n",
        "[0.035308450180920395, 0.015900278873051947, 0.027606640458033495, 0.020287811471444019, 0.028085748571213369, 0.035450017068918892, 0.0030537699131523133, 0.018801048240551517, 0.0010101978777581351, 0.00050936119312244637, 0.008238681424071536, 0.0036143352597136787, 0.005607800401233284, 0.0025444087200298623, 0.019754369486924619, 0.008088683576243998, 0.0, 0.0077047868625348317, 0.0065852856156395825, 0.0015393751346797165, 0.005668936813507235, 0.0010016733692713726, 0.0065990598011115165, 0.0050674066527983952, 0.0015393751346797165, 0.0066773510107629745, 0.0015127146704332129, 0.0010033534773107617, 0.0025444087200298623, 0.0015127146704332129, 0.020761540704040373, 0.0010385384500440277, 0.0061854044439900308, 0.0010385384500440277, 0.0076763527928345732, 0.0015393751346797165, 0.0025548226894230226, 0.0010101978777581351, 0.0015393751346797213, 0.0005008366846356888, 0.0015393751346797165, 0.0010101978777581351, 0.0010101978777581351, 0.0010300139415572653, 0.00050936119312244637, 0.0015393751346797165, 0.00050936119312244637, 0.0020220758635556592, 0.0010187223862448975, 0.0025444087200298623, 0.0015127146704332129, 0.0040563311891210398, 0.0010385384500440277, 0.0040760618683429806, 0.00050936119312244637, 0.0025366867336632723, 0.0015393751346797165, 0.0015308506261929541, 0.0050948696391650674, 0.0050810954536931333, 0.0010016733692713726, 0.0041208482133005854, 0.0, 0.0005008366846356888, 0.0015393751346797165, 0.00052917725692158137, 0.0035417203190134224, 0.0010583545138431627, 0.0036045572351535793, 0.0005008366846356888, 0.0046483453621827594, 0.0010300139415572701, 0.0010016733692713726, 0.0015308506261929541, 0.0015393751346797165, 0.0005008366846356888, 0.0060828542075416917, 0.0005008366846356888, 0.0056318827756944041, 0.0005008366846356888, 0.0040985495193418897]\n",
        "[1.0, 1.0, 1.0, 1.0, 1.0, 1.0, 1.0, 1.0, 0.5, 0.5, 0.5, 0.5, 0.5, 0.5, 0.5, 0.5, 0.5, 0.5, 0.50000000000000011, 0.49999999999999989, 0.50000000000000011, 0.5, 0.5, 0.5, 0.5, 0.49999999999999989, 0.5, 0.49999999999999989, 0.5, 0.50000000000000022, 0.5, 0.5, 0.5, 0.5, 0.5, 0.5, 0.33333333333333331, 0.33333333333333331, 0.33333333333333331, 0.33333333333333326, 0.33333333333333337, 0.33333333333333326, 0.33333333333333331, 0.33333333333333331, 0.33333333333333331, 0.33333333333333331, 0.33333333333333331, 0.33333333333333331, 0.33333333333333331, 0.33333333333333331, 0.33333333333333331, 0.33333333333333331, 0.33333333333333337, 0.33333333333333331, 0.33333333333333337, 0.33333333333333331, 0.33333333333333337, 0.33333333333333337, 0.33333333333333331, 0.33333333333333331, 0.33333333333333331, 0.33333333333333331, 0.33333333333333331, 0.33333333333333331, 0.33333333333333331, 0.33333333333333331, 0.33333333333333343, 0.33333333333333331, 0.33333333333333331, 0.33333333333333331, 0.33333333333333331, 0.33333333333333331, 0.33333333333333337, 0.33333333333333326, 0.33333333333333337, 0.33333333333333331, 0.33333333333333331, 0.33333333333333331, 0.33333333333333331, 0.33333333333333326, 0.33333333333333326]\n",
        "[ 0.30641876  0.53181245  0.16176878]"
       ]
      },
      {
       "output_type": "stream",
       "stream": "stdout",
       "text": [
        "\n",
        "[ 0.28051749  0.57337571  0.1461068 ]"
       ]
      },
      {
       "output_type": "stream",
       "stream": "stdout",
       "text": [
        "\n",
        "[ 0.24269116  0.65838671  0.09892212]"
       ]
      },
      {
       "output_type": "stream",
       "stream": "stdout",
       "text": [
        "\n",
        "[ 0.29260017  0.56167499  0.14572484]"
       ]
      },
      {
       "output_type": "stream",
       "stream": "stdout",
       "text": [
        "\n",
        "[ 0.28912487  0.5600755   0.15079963]"
       ]
      },
      {
       "output_type": "stream",
       "stream": "stdout",
       "text": [
        "\n",
        "[ 0.268824    0.56788345  0.16329255]"
       ]
      },
      {
       "output_type": "stream",
       "stream": "stdout",
       "text": [
        "\n",
        "[ 0.30121527  0.5532976   0.14548713]"
       ]
      },
      {
       "output_type": "stream",
       "stream": "stdout",
       "text": [
        "\n",
        "[ 0.29005898  0.57263747  0.13730355]"
       ]
      },
      {
       "output_type": "stream",
       "stream": "stdout",
       "text": [
        "\n",
        "[ 0.30629899  0.52780885  0.16589216]"
       ]
      },
      {
       "output_type": "stream",
       "stream": "stdout",
       "text": [
        "\n",
        "[ 0.28438974  0.56885202  0.14675825]"
       ]
      },
      {
       "output_type": "stream",
       "stream": "stdout",
       "text": [
        "\n",
        "[0.5, 0.5, 0.5, 0.5, 0.5, 0.5, 0.5, 0.5, 0.5, 0.5, 0.5, 0.5, 0.5, 0.5, 0.5, 0.5, 0.5, 0.5, 0.5, 0.5, 0.5, 0.5, 0.5, 0.5, 0.5, 0.5, 0.5, 0.5, 0.5, 0.5, 0.5, 0.5, 0.5, 0.5, 0.5, 0.5, 0.5, 0.5, 0.5, 0.5, 0.5, 0.5, 0.5, 0.5, 0.5, 0.5, 0.5, 0.5, 0.5, 0.5, 0.5, 0.5, 0.5, 0.5, 0.5, 0.5, 0.5, 0.5, 0.5, 0.5, 0.5, 0.5, 0.5, 0.5, 0.5, 0.5, 0.5, 0.5, 0.5, 0.5, 0.5, 0.5, 0.5, 0.5, 0.5, 0.5, 0.5, 0.5, 0.5, 0.5, 0.5, 0.5]"
       ]
      },
      {
       "output_type": "stream",
       "stream": "stdout",
       "text": [
        "\n",
        "[0.035308450180920395, 0.015900278873051947, 0.027606640458033495, 0.020287811471444019, 0.028085748571213369, 0.035450017068918892, 0.0030537699131523133, 0.018801048240551517, 0.0010101978777581351, 0.00050936119312244637, 0.008238681424071536, 0.0036143352597136787, 0.005607800401233284, 0.0025444087200298623, 0.019754369486924619, 0.008088683576243998, 0.0, 0.0077047868625348317, 0.0065852856156395825, 0.0015393751346797165, 0.005668936813507235, 0.0010016733692713726, 0.0065990598011115165, 0.0050674066527983952, 0.0015393751346797165, 0.0066773510107629745, 0.0015127146704332129, 0.0010033534773107617, 0.0025444087200298623, 0.0015127146704332129, 0.020761540704040373, 0.0010385384500440277, 0.0061854044439900308, 0.0010385384500440277, 0.0076763527928345732, 0.0015393751346797165, 0.0025548226894230226, 0.0010101978777581351, 0.0015393751346797213, 0.0005008366846356888, 0.0015393751346797165, 0.0010101978777581351, 0.0010101978777581351, 0.0010300139415572653, 0.00050936119312244637, 0.0015393751346797165, 0.00050936119312244637, 0.0020220758635556592, 0.0010187223862448975, 0.0025444087200298623, 0.0015127146704332129, 0.0040563311891210398, 0.0010385384500440277, 0.0040760618683429806, 0.00050936119312244637, 0.0025366867336632723, 0.0015393751346797165, 0.0015308506261929541, 0.0050948696391650674, 0.0050810954536931333, 0.0010016733692713726, 0.0041208482133005854, 0.0, 0.0005008366846356888, 0.0015393751346797165, 0.00052917725692158137, 0.0035417203190134224, 0.0010583545138431627, 0.0036045572351535793, 0.0005008366846356888, 0.0046483453621827594, 0.0010300139415572701, 0.0010016733692713726, 0.0015308506261929541, 0.0015393751346797165, 0.0005008366846356888, 0.0060828542075416917, 0.0005008366846356888, 0.0056318827756944041, 0.0005008366846356888, 0.0040985495193418897, 0.0010300139415572701]\n",
        "[1.0, 1.0, 1.0, 1.0, 1.0, 1.0, 1.0, 1.0, 0.5, 0.5, 0.5, 0.5, 0.5, 0.5, 0.5, 0.5, 0.5, 0.5, 0.50000000000000011, 0.49999999999999989, 0.50000000000000011, 0.5, 0.5, 0.5, 0.5, 0.49999999999999989, 0.5, 0.49999999999999989, 0.5, 0.50000000000000022, 0.5, 0.5, 0.5, 0.5, 0.5, 0.5, 0.33333333333333331, 0.33333333333333331, 0.33333333333333331, 0.33333333333333326, 0.33333333333333337, 0.33333333333333326, 0.33333333333333331, 0.33333333333333331, 0.33333333333333331, 0.33333333333333331, 0.33333333333333331, 0.33333333333333331, 0.33333333333333331, 0.33333333333333331, 0.33333333333333331, 0.33333333333333331, 0.33333333333333337, 0.33333333333333331, 0.33333333333333337, 0.33333333333333331, 0.33333333333333337, 0.33333333333333337, 0.33333333333333331, 0.33333333333333331, 0.33333333333333331, 0.33333333333333331, 0.33333333333333331, 0.33333333333333331, 0.33333333333333331, 0.33333333333333331, 0.33333333333333343, 0.33333333333333331, 0.33333333333333331, 0.33333333333333331, 0.33333333333333331, 0.33333333333333331, 0.33333333333333337, 0.33333333333333326, 0.33333333333333337, 0.33333333333333331, 0.33333333333333331, 0.33333333333333331, 0.33333333333333331, 0.33333333333333326, 0.33333333333333326, 0.33333333333333331]\n",
        "[ 0.58885068  0.20190729  0.20924203]"
       ]
      },
      {
       "output_type": "stream",
       "stream": "stdout",
       "text": [
        "\n",
        "[ 0.59413588  0.1901431   0.21572102]"
       ]
      },
      {
       "output_type": "stream",
       "stream": "stdout",
       "text": [
        "\n",
        "[ 0.5915605   0.20554932  0.20289018]"
       ]
      },
      {
       "output_type": "stream",
       "stream": "stdout",
       "text": [
        "\n",
        "[ 0.60651552  0.18444021  0.20904427]"
       ]
      },
      {
       "output_type": "stream",
       "stream": "stdout",
       "text": [
        "\n",
        "[ 0.58672928  0.20464554  0.20862518]"
       ]
      },
      {
       "output_type": "stream",
       "stream": "stdout",
       "text": [
        "\n",
        "[ 0.60449134  0.21022245  0.18528622]"
       ]
      },
      {
       "output_type": "stream",
       "stream": "stdout",
       "text": [
        "\n",
        "[ 0.5713133   0.18985735  0.23882935]"
       ]
      },
      {
       "output_type": "stream",
       "stream": "stdout",
       "text": [
        "\n",
        "[ 0.58284599  0.21201424  0.20513977]"
       ]
      },
      {
       "output_type": "stream",
       "stream": "stdout",
       "text": [
        "\n",
        "[ 0.58505746  0.20984956  0.20509298]"
       ]
      },
      {
       "output_type": "stream",
       "stream": "stdout",
       "text": [
        "\n",
        "[ 0.5576739   0.22626361  0.21606249]"
       ]
      },
      {
       "output_type": "stream",
       "stream": "stdout",
       "text": [
        "\n",
        "[0.5, 0.5, 0.5, 0.5, 0.5, 0.5, 0.5, 0.5, 0.5, 0.5, 0.5, 0.5, 0.5, 0.5, 0.5, 0.5, 0.5, 0.5, 0.5, 0.5, 0.5, 0.5, 0.5, 0.5, 0.5, 0.5, 0.5, 0.5, 0.5, 0.5, 0.5, 0.5, 0.5, 0.5, 0.5, 0.5, 0.5, 0.5, 0.5, 0.5, 0.5, 0.5, 0.5, 0.5, 0.5, 0.5, 0.5, 0.5, 0.5, 0.5, 0.5, 0.5, 0.5, 0.5, 0.5, 0.5, 0.5, 0.5, 0.5, 0.5, 0.5, 0.5, 0.5, 0.5, 0.5, 0.5, 0.5, 0.5, 0.5, 0.5, 0.5, 0.5, 0.5, 0.5, 0.5, 0.5, 0.5, 0.5, 0.5, 0.5, 0.5, 0.5, 0.5]"
       ]
      },
      {
       "output_type": "stream",
       "stream": "stdout",
       "text": [
        "\n",
        "[0.035308450180920395, 0.015900278873051947, 0.027606640458033495, 0.020287811471444019, 0.028085748571213369, 0.035450017068918892, 0.0030537699131523133, 0.018801048240551517, 0.0010101978777581351, 0.00050936119312244637, 0.008238681424071536, 0.0036143352597136787, 0.005607800401233284, 0.0025444087200298623, 0.019754369486924619, 0.008088683576243998, 0.0, 0.0077047868625348317, 0.0065852856156395825, 0.0015393751346797165, 0.005668936813507235, 0.0010016733692713726, 0.0065990598011115165, 0.0050674066527983952, 0.0015393751346797165, 0.0066773510107629745, 0.0015127146704332129, 0.0010033534773107617, 0.0025444087200298623, 0.0015127146704332129, 0.020761540704040373, 0.0010385384500440277, 0.0061854044439900308, 0.0010385384500440277, 0.0076763527928345732, 0.0015393751346797165, 0.0025548226894230226, 0.0010101978777581351, 0.0015393751346797213, 0.0005008366846356888, 0.0015393751346797165, 0.0010101978777581351, 0.0010101978777581351, 0.0010300139415572653, 0.00050936119312244637, 0.0015393751346797165, 0.00050936119312244637, 0.0020220758635556592, 0.0010187223862448975, 0.0025444087200298623, 0.0015127146704332129, 0.0040563311891210398, 0.0010385384500440277, 0.0040760618683429806, 0.00050936119312244637, 0.0025366867336632723, 0.0015393751346797165, 0.0015308506261929541, 0.0050948696391650674, 0.0050810954536931333, 0.0010016733692713726, 0.0041208482133005854, 0.0, 0.0005008366846356888, 0.0015393751346797165, 0.00052917725692158137, 0.0035417203190134224, 0.0010583545138431627, 0.0036045572351535793, 0.0005008366846356888, 0.0046483453621827594, 0.0010300139415572701, 0.0010016733692713726, 0.0015308506261929541, 0.0015393751346797165, 0.0005008366846356888, 0.0060828542075416917, 0.0005008366846356888, 0.0056318827756944041, 0.0005008366846356888, 0.0040985495193418897, 0.0010300139415572701, 0.0020273255405408351]\n",
        "[1.0, 1.0, 1.0, 1.0, 1.0, 1.0, 1.0, 1.0, 0.5, 0.5, 0.5, 0.5, 0.5, 0.5, 0.5, 0.5, 0.5, 0.5, 0.50000000000000011, 0.49999999999999989, 0.50000000000000011, 0.5, 0.5, 0.5, 0.5, 0.49999999999999989, 0.5, 0.49999999999999989, 0.5, 0.50000000000000022, 0.5, 0.5, 0.5, 0.5, 0.5, 0.5, 0.33333333333333331, 0.33333333333333331, 0.33333333333333331, 0.33333333333333326, 0.33333333333333337, 0.33333333333333326, 0.33333333333333331, 0.33333333333333331, 0.33333333333333331, 0.33333333333333331, 0.33333333333333331, 0.33333333333333331, 0.33333333333333331, 0.33333333333333331, 0.33333333333333331, 0.33333333333333331, 0.33333333333333337, 0.33333333333333331, 0.33333333333333337, 0.33333333333333331, 0.33333333333333337, 0.33333333333333337, 0.33333333333333331, 0.33333333333333331, 0.33333333333333331, 0.33333333333333331, 0.33333333333333331, 0.33333333333333331, 0.33333333333333331, 0.33333333333333331, 0.33333333333333343, 0.33333333333333331, 0.33333333333333331, 0.33333333333333331, 0.33333333333333331, 0.33333333333333331, 0.33333333333333337, 0.33333333333333326, 0.33333333333333337, 0.33333333333333331, 0.33333333333333331, 0.33333333333333331, 0.33333333333333331, 0.33333333333333326, 0.33333333333333326, 0.33333333333333331, 0.33333333333333337]\n",
        "[ 0.37315974  0.18736587  0.43947439]"
       ]
      },
      {
       "output_type": "stream",
       "stream": "stdout",
       "text": [
        "\n",
        "[ 0.41335421  0.17572706  0.41091873]"
       ]
      },
      {
       "output_type": "stream",
       "stream": "stdout",
       "text": [
        "\n",
        "[ 0.37718205  0.15466869  0.46814927]"
       ]
      },
      {
       "output_type": "stream",
       "stream": "stdout",
       "text": [
        "\n",
        "[ 0.35281382  0.12711445  0.52007173]"
       ]
      },
      {
       "output_type": "stream",
       "stream": "stdout",
       "text": [
        "\n",
        "[ 0.40242549  0.17749125  0.42008326]"
       ]
      },
      {
       "output_type": "stream",
       "stream": "stdout",
       "text": [
        "\n",
        "[ 0.33900658  0.16576925  0.49522417]"
       ]
      },
      {
       "output_type": "stream",
       "stream": "stdout",
       "text": [
        "\n",
        "[ 0.41664517  0.16904185  0.41431298]"
       ]
      },
      {
       "output_type": "stream",
       "stream": "stdout",
       "text": [
        "\n",
        "[ 0.35082391  0.16683662  0.48233947]"
       ]
      },
      {
       "output_type": "stream",
       "stream": "stdout",
       "text": [
        "\n",
        "[ 0.33542165  0.17146485  0.4931135 ]"
       ]
      },
      {
       "output_type": "stream",
       "stream": "stdout",
       "text": [
        "\n",
        "[ 0.32281472  0.19642463  0.48076065]"
       ]
      },
      {
       "output_type": "stream",
       "stream": "stdout",
       "text": [
        "\n",
        "[0.5, 0.5, 0.5, 0.5, 0.5, 0.5, 0.5, 0.5, 0.5, 0.5, 0.5, 0.5, 0.5, 0.5, 0.5, 0.5, 0.5, 0.5, 0.5, 0.5, 0.5, 0.5, 0.5, 0.5, 0.5, 0.5, 0.5, 0.5, 0.5, 0.5, 0.5, 0.5, 0.5, 0.5, 0.5, 0.5, 0.5, 0.5, 0.5, 0.5, 0.5, 0.5, 0.5, 0.5, 0.5, 0.5, 0.5, 0.5, 0.5, 0.5, 0.5, 0.5, 0.5, 0.5, 0.5, 0.5, 0.5, 0.5, 0.5, 0.5, 0.5, 0.5, 0.5, 0.5, 0.5, 0.5, 0.5, 0.5, 0.5, 0.5, 0.5, 0.5, 0.5, 0.5, 0.5, 0.5, 0.5, 0.5, 0.5, 0.5, 0.5, 0.5, 0.5, 0.5]"
       ]
      },
      {
       "output_type": "stream",
       "stream": "stdout",
       "text": [
        "\n",
        "[0.035308450180920395, 0.015900278873051947, 0.027606640458033495, 0.020287811471444019, 0.028085748571213369, 0.035450017068918892, 0.0030537699131523133, 0.018801048240551517, 0.0010101978777581351, 0.00050936119312244637, 0.008238681424071536, 0.0036143352597136787, 0.005607800401233284, 0.0025444087200298623, 0.019754369486924619, 0.008088683576243998, 0.0, 0.0077047868625348317, 0.0065852856156395825, 0.0015393751346797165, 0.005668936813507235, 0.0010016733692713726, 0.0065990598011115165, 0.0050674066527983952, 0.0015393751346797165, 0.0066773510107629745, 0.0015127146704332129, 0.0010033534773107617, 0.0025444087200298623, 0.0015127146704332129, 0.020761540704040373, 0.0010385384500440277, 0.0061854044439900308, 0.0010385384500440277, 0.0076763527928345732, 0.0015393751346797165, 0.0025548226894230226, 0.0010101978777581351, 0.0015393751346797213, 0.0005008366846356888, 0.0015393751346797165, 0.0010101978777581351, 0.0010101978777581351, 0.0010300139415572653, 0.00050936119312244637, 0.0015393751346797165, 0.00050936119312244637, 0.0020220758635556592, 0.0010187223862448975, 0.0025444087200298623, 0.0015127146704332129, 0.0040563311891210398, 0.0010385384500440277, 0.0040760618683429806, 0.00050936119312244637, 0.0025366867336632723, 0.0015393751346797165, 0.0015308506261929541, 0.0050948696391650674, 0.0050810954536931333, 0.0010016733692713726, 0.0041208482133005854, 0.0, 0.0005008366846356888, 0.0015393751346797165, 0.00052917725692158137, 0.0035417203190134224, 0.0010583545138431627, 0.0036045572351535793, 0.0005008366846356888, 0.0046483453621827594, 0.0010300139415572701, 0.0010016733692713726, 0.0015308506261929541, 0.0015393751346797165, 0.0005008366846356888, 0.0060828542075416917, 0.0005008366846356888, 0.0056318827756944041, 0.0005008366846356888, 0.0040985495193418897, 0.0010300139415572701, 0.0020273255405408351, 0.0015393751346797165]\n",
        "[1.0, 1.0, 1.0, 1.0, 1.0, 1.0, 1.0, 1.0, 0.5, 0.5, 0.5, 0.5, 0.5, 0.5, 0.5, 0.5, 0.5, 0.5, 0.50000000000000011, 0.49999999999999989, 0.50000000000000011, 0.5, 0.5, 0.5, 0.5, 0.49999999999999989, 0.5, 0.49999999999999989, 0.5, 0.50000000000000022, 0.5, 0.5, 0.5, 0.5, 0.5, 0.5, 0.33333333333333331, 0.33333333333333331, 0.33333333333333331, 0.33333333333333326, 0.33333333333333337, 0.33333333333333326, 0.33333333333333331, 0.33333333333333331, 0.33333333333333331, 0.33333333333333331, 0.33333333333333331, 0.33333333333333331, 0.33333333333333331, 0.33333333333333331, 0.33333333333333331, 0.33333333333333331, 0.33333333333333337, 0.33333333333333331, 0.33333333333333337, 0.33333333333333331, 0.33333333333333337, 0.33333333333333337, 0.33333333333333331, 0.33333333333333331, 0.33333333333333331, 0.33333333333333331, 0.33333333333333331, 0.33333333333333331, 0.33333333333333331, 0.33333333333333331, 0.33333333333333343, 0.33333333333333331, 0.33333333333333331, 0.33333333333333331, 0.33333333333333331, 0.33333333333333331, 0.33333333333333337, 0.33333333333333326, 0.33333333333333337, 0.33333333333333331, 0.33333333333333331, 0.33333333333333331, 0.33333333333333331, 0.33333333333333326, 0.33333333333333326, 0.33333333333333331, 0.33333333333333337, 0.33333333333333331]\n",
        "[ 0.51737869  0.27986031  0.20276099]"
       ]
      },
      {
       "output_type": "stream",
       "stream": "stdout",
       "text": [
        "\n",
        "[ 0.53184102  0.26397415  0.20418483]"
       ]
      },
      {
       "output_type": "stream",
       "stream": "stdout",
       "text": [
        "\n",
        "[ 0.51976475  0.27043926  0.209796  ]"
       ]
      },
      {
       "output_type": "stream",
       "stream": "stdout",
       "text": [
        "\n",
        "[ 0.55209198  0.26356044  0.18434758]"
       ]
      },
      {
       "output_type": "stream",
       "stream": "stdout",
       "text": [
        "\n",
        "[ 0.54273814  0.26978733  0.18747454]"
       ]
      },
      {
       "output_type": "stream",
       "stream": "stdout",
       "text": [
        "\n",
        "[ 0.52191484  0.28987407  0.18821109]"
       ]
      },
      {
       "output_type": "stream",
       "stream": "stdout",
       "text": [
        "\n",
        "[ 0.49169263  0.28140449  0.22690288]"
       ]
      },
      {
       "output_type": "stream",
       "stream": "stdout",
       "text": [
        "\n",
        "[ 0.52608786  0.29883715  0.17507498]"
       ]
      },
      {
       "output_type": "stream",
       "stream": "stdout",
       "text": [
        "\n",
        "[ 0.49669322  0.28652003  0.21678674]"
       ]
      },
      {
       "output_type": "stream",
       "stream": "stdout",
       "text": [
        "\n",
        "[ 0.54645754  0.27971247  0.17382999]"
       ]
      },
      {
       "output_type": "stream",
       "stream": "stdout",
       "text": [
        "\n",
        "[0.5, 0.5, 0.5, 0.5, 0.5, 0.5, 0.5, 0.5, 0.5, 0.5, 0.5, 0.5, 0.5, 0.5, 0.5, 0.5, 0.5, 0.5, 0.5, 0.5, 0.5, 0.5, 0.5, 0.5, 0.5, 0.5, 0.5, 0.5, 0.5, 0.5, 0.5, 0.5, 0.5, 0.5, 0.5, 0.5, 0.5, 0.5, 0.5, 0.5, 0.5, 0.5, 0.5, 0.5, 0.5, 0.5, 0.5, 0.5, 0.5, 0.5, 0.5, 0.5, 0.5, 0.5, 0.5, 0.5, 0.5, 0.5, 0.5, 0.5, 0.5, 0.5, 0.5, 0.5, 0.5, 0.5, 0.5, 0.5, 0.5, 0.5, 0.5, 0.5, 0.5, 0.5, 0.5, 0.5, 0.5, 0.5, 0.5, 0.5, 0.5, 0.5, 0.5, 0.5, 0.5]"
       ]
      },
      {
       "output_type": "stream",
       "stream": "stdout",
       "text": [
        "\n",
        "[0.035308450180920395, 0.015900278873051947, 0.027606640458033495, 0.020287811471444019, 0.028085748571213369, 0.035450017068918892, 0.0030537699131523133, 0.018801048240551517, 0.0010101978777581351, 0.00050936119312244637, 0.008238681424071536, 0.0036143352597136787, 0.005607800401233284, 0.0025444087200298623, 0.019754369486924619, 0.008088683576243998, 0.0, 0.0077047868625348317, 0.0065852856156395825, 0.0015393751346797165, 0.005668936813507235, 0.0010016733692713726, 0.0065990598011115165, 0.0050674066527983952, 0.0015393751346797165, 0.0066773510107629745, 0.0015127146704332129, 0.0010033534773107617, 0.0025444087200298623, 0.0015127146704332129, 0.020761540704040373, 0.0010385384500440277, 0.0061854044439900308, 0.0010385384500440277, 0.0076763527928345732, 0.0015393751346797165, 0.0025548226894230226, 0.0010101978777581351, 0.0015393751346797213, 0.0005008366846356888, 0.0015393751346797165, 0.0010101978777581351, 0.0010101978777581351, 0.0010300139415572653, 0.00050936119312244637, 0.0015393751346797165, 0.00050936119312244637, 0.0020220758635556592, 0.0010187223862448975, 0.0025444087200298623, 0.0015127146704332129, 0.0040563311891210398, 0.0010385384500440277, 0.0040760618683429806, 0.00050936119312244637, 0.0025366867336632723, 0.0015393751346797165, 0.0015308506261929541, 0.0050948696391650674, 0.0050810954536931333, 0.0010016733692713726, 0.0041208482133005854, 0.0, 0.0005008366846356888, 0.0015393751346797165, 0.00052917725692158137, 0.0035417203190134224, 0.0010583545138431627, 0.0036045572351535793, 0.0005008366846356888, 0.0046483453621827594, 0.0010300139415572701, 0.0010016733692713726, 0.0015308506261929541, 0.0015393751346797165, 0.0005008366846356888, 0.0060828542075416917, 0.0005008366846356888, 0.0056318827756944041, 0.0005008366846356888, 0.0040985495193418897, 0.0010300139415572701, 0.0020273255405408351, 0.0015393751346797165, 0.0015127146704332129]\n",
        "[1.0, 1.0, 1.0, 1.0, 1.0, 1.0, 1.0, 1.0, 0.5, 0.5, 0.5, 0.5, 0.5, 0.5, 0.5, 0.5, 0.5, 0.5, 0.50000000000000011, 0.49999999999999989, 0.50000000000000011, 0.5, 0.5, 0.5, 0.5, 0.49999999999999989, 0.5, 0.49999999999999989, 0.5, 0.50000000000000022, 0.5, 0.5, 0.5, 0.5, 0.5, 0.5, 0.33333333333333331, 0.33333333333333331, 0.33333333333333331, 0.33333333333333326, 0.33333333333333337, 0.33333333333333326, 0.33333333333333331, 0.33333333333333331, 0.33333333333333331, 0.33333333333333331, 0.33333333333333331, 0.33333333333333331, 0.33333333333333331, 0.33333333333333331, 0.33333333333333331, 0.33333333333333331, 0.33333333333333337, 0.33333333333333331, 0.33333333333333337, 0.33333333333333331, 0.33333333333333337, 0.33333333333333337, 0.33333333333333331, 0.33333333333333331, 0.33333333333333331, 0.33333333333333331, 0.33333333333333331, 0.33333333333333331, 0.33333333333333331, 0.33333333333333331, 0.33333333333333343, 0.33333333333333331, 0.33333333333333331, 0.33333333333333331, 0.33333333333333331, 0.33333333333333331, 0.33333333333333337, 0.33333333333333326, 0.33333333333333337, 0.33333333333333331, 0.33333333333333331, 0.33333333333333331, 0.33333333333333331, 0.33333333333333326, 0.33333333333333326, 0.33333333333333331, 0.33333333333333337, 0.33333333333333331, 0.33333333333333331]\n",
        "[ 0.33642228  0.16642307  0.49715465]"
       ]
      },
      {
       "output_type": "stream",
       "stream": "stdout",
       "text": [
        "\n",
        "[ 0.31388866  0.17035156  0.51575977]"
       ]
      },
      {
       "output_type": "stream",
       "stream": "stdout",
       "text": [
        "\n",
        "[ 0.39536009  0.13768527  0.46695464]"
       ]
      },
      {
       "output_type": "stream",
       "stream": "stdout",
       "text": [
        "\n",
        "[ 0.3697993   0.15402281  0.47617789]"
       ]
      },
      {
       "output_type": "stream",
       "stream": "stdout",
       "text": [
        "\n",
        "[ 0.35333408  0.18378319  0.46288273]"
       ]
      },
      {
       "output_type": "stream",
       "stream": "stdout",
       "text": [
        "\n",
        "[ 0.37826104  0.13273816  0.4890008 ]"
       ]
      },
      {
       "output_type": "stream",
       "stream": "stdout",
       "text": [
        "\n",
        "[ 0.40797948  0.19336587  0.39865465]"
       ]
      },
      {
       "output_type": "stream",
       "stream": "stdout",
       "text": [
        "\n",
        "[ 0.30197051  0.188297    0.50973249]"
       ]
      },
      {
       "output_type": "stream",
       "stream": "stdout",
       "text": [
        "\n",
        "[ 0.36680572  0.18099347  0.45220082]"
       ]
      },
      {
       "output_type": "stream",
       "stream": "stdout",
       "text": [
        "\n",
        "[ 0.37987771  0.18159993  0.43852236]"
       ]
      },
      {
       "output_type": "stream",
       "stream": "stdout",
       "text": [
        "\n",
        "[0.5, 0.5, 0.5, 0.5, 0.5, 0.5, 0.5, 0.5, 0.5, 0.5, 0.5, 0.5, 0.5, 0.5, 0.5, 0.5, 0.5, 0.5, 0.5, 0.5, 0.5, 0.5, 0.5, 0.5, 0.5, 0.5, 0.5, 0.5, 0.5, 0.5, 0.5, 0.5, 0.5, 0.5, 0.5, 0.5, 0.5, 0.5, 0.5, 0.5, 0.5, 0.5, 0.5, 0.5, 0.5, 0.5, 0.5, 0.5, 0.5, 0.5, 0.5, 0.5, 0.5, 0.5, 0.5, 0.5, 0.5, 0.5, 0.5, 0.5, 0.5, 0.5, 0.5, 0.5, 0.5, 0.5, 0.5, 0.5, 0.5, 0.5, 0.5, 0.5, 0.5, 0.5, 0.5, 0.5, 0.5, 0.5, 0.5, 0.5, 0.5, 0.5, 0.5, 0.5, 0.5, 0.5]"
       ]
      },
      {
       "output_type": "stream",
       "stream": "stdout",
       "text": [
        "\n",
        "[0.035308450180920395, 0.015900278873051947, 0.027606640458033495, 0.020287811471444019, 0.028085748571213369, 0.035450017068918892, 0.0030537699131523133, 0.018801048240551517, 0.0010101978777581351, 0.00050936119312244637, 0.008238681424071536, 0.0036143352597136787, 0.005607800401233284, 0.0025444087200298623, 0.019754369486924619, 0.008088683576243998, 0.0, 0.0077047868625348317, 0.0065852856156395825, 0.0015393751346797165, 0.005668936813507235, 0.0010016733692713726, 0.0065990598011115165, 0.0050674066527983952, 0.0015393751346797165, 0.0066773510107629745, 0.0015127146704332129, 0.0010033534773107617, 0.0025444087200298623, 0.0015127146704332129, 0.020761540704040373, 0.0010385384500440277, 0.0061854044439900308, 0.0010385384500440277, 0.0076763527928345732, 0.0015393751346797165, 0.0025548226894230226, 0.0010101978777581351, 0.0015393751346797213, 0.0005008366846356888, 0.0015393751346797165, 0.0010101978777581351, 0.0010101978777581351, 0.0010300139415572653, 0.00050936119312244637, 0.0015393751346797165, 0.00050936119312244637, 0.0020220758635556592, 0.0010187223862448975, 0.0025444087200298623, 0.0015127146704332129, 0.0040563311891210398, 0.0010385384500440277, 0.0040760618683429806, 0.00050936119312244637, 0.0025366867336632723, 0.0015393751346797165, 0.0015308506261929541, 0.0050948696391650674, 0.0050810954536931333, 0.0010016733692713726, 0.0041208482133005854, 0.0, 0.0005008366846356888, 0.0015393751346797165, 0.00052917725692158137, 0.0035417203190134224, 0.0010583545138431627, 0.0036045572351535793, 0.0005008366846356888, 0.0046483453621827594, 0.0010300139415572701, 0.0010016733692713726, 0.0015308506261929541, 0.0015393751346797165, 0.0005008366846356888, 0.0060828542075416917, 0.0005008366846356888, 0.0056318827756944041, 0.0005008366846356888, 0.0040985495193418897, 0.0010300139415572701, 0.0020273255405408351, 0.0015393751346797165, 0.0015127146704332129, 0.0010385384500440277]\n",
        "[1.0, 1.0, 1.0, 1.0, 1.0, 1.0, 1.0, 1.0, 0.5, 0.5, 0.5, 0.5, 0.5, 0.5, 0.5, 0.5, 0.5, 0.5, 0.50000000000000011, 0.49999999999999989, 0.50000000000000011, 0.5, 0.5, 0.5, 0.5, 0.49999999999999989, 0.5, 0.49999999999999989, 0.5, 0.50000000000000022, 0.5, 0.5, 0.5, 0.5, 0.5, 0.5, 0.33333333333333331, 0.33333333333333331, 0.33333333333333331, 0.33333333333333326, 0.33333333333333337, 0.33333333333333326, 0.33333333333333331, 0.33333333333333331, 0.33333333333333331, 0.33333333333333331, 0.33333333333333331, 0.33333333333333331, 0.33333333333333331, 0.33333333333333331, 0.33333333333333331, 0.33333333333333331, 0.33333333333333337, 0.33333333333333331, 0.33333333333333337, 0.33333333333333331, 0.33333333333333337, 0.33333333333333337, 0.33333333333333331, 0.33333333333333331, 0.33333333333333331, 0.33333333333333331, 0.33333333333333331, 0.33333333333333331, 0.33333333333333331, 0.33333333333333331, 0.33333333333333343, 0.33333333333333331, 0.33333333333333331, 0.33333333333333331, 0.33333333333333331, 0.33333333333333331, 0.33333333333333337, 0.33333333333333326, 0.33333333333333337, 0.33333333333333331, 0.33333333333333331, 0.33333333333333331, 0.33333333333333331, 0.33333333333333326, 0.33333333333333326, 0.33333333333333331, 0.33333333333333337, 0.33333333333333331, 0.33333333333333331, 0.33333333333333331]\n",
        "[ 0.54546304  0.24493718  0.20959978]"
       ]
      },
      {
       "output_type": "stream",
       "stream": "stdout",
       "text": [
        "\n",
        "[ 0.55830524  0.27442913  0.16726563]"
       ]
      },
      {
       "output_type": "stream",
       "stream": "stdout",
       "text": [
        "\n",
        "[ 0.50629658  0.2785898   0.21511362]"
       ]
      },
      {
       "output_type": "stream",
       "stream": "stdout",
       "text": [
        "\n",
        "[ 0.54249189  0.26177203  0.19573608]"
       ]
      },
      {
       "output_type": "stream",
       "stream": "stdout",
       "text": [
        "\n",
        "[ 0.56824939  0.25523817  0.17651244]"
       ]
      },
      {
       "output_type": "stream",
       "stream": "stdout",
       "text": [
        "\n",
        "[ 0.55169482  0.24884918  0.199456  ]"
       ]
      },
      {
       "output_type": "stream",
       "stream": "stdout",
       "text": [
        "\n",
        "[ 0.53897484  0.25206736  0.2089578 ]"
       ]
      },
      {
       "output_type": "stream",
       "stream": "stdout",
       "text": [
        "\n",
        "[ 0.55348865  0.23771448  0.20879687]"
       ]
      },
      {
       "output_type": "stream",
       "stream": "stdout",
       "text": [
        "\n",
        "[ 0.54486222  0.25138416  0.20375362]"
       ]
      },
      {
       "output_type": "stream",
       "stream": "stdout",
       "text": [
        "\n",
        "[ 0.52534742  0.26806873  0.20658385]"
       ]
      },
      {
       "output_type": "stream",
       "stream": "stdout",
       "text": [
        "\n",
        "[0.5, 0.5, 0.5, 0.5, 0.5, 0.5, 0.5, 0.5, 0.5, 0.5, 0.5, 0.5, 0.5, 0.5, 0.5, 0.5, 0.5, 0.5, 0.5, 0.5, 0.5, 0.5, 0.5, 0.5, 0.5, 0.5, 0.5, 0.5, 0.5, 0.5, 0.5, 0.5, 0.5, 0.5, 0.5, 0.5, 0.5, 0.5, 0.5, 0.5, 0.5, 0.5, 0.5, 0.5, 0.5, 0.5, 0.5, 0.5, 0.5, 0.5, 0.5, 0.5, 0.5, 0.5, 0.5, 0.5, 0.5, 0.5, 0.5, 0.5, 0.5, 0.5, 0.5, 0.5, 0.5, 0.5, 0.5, 0.5, 0.5, 0.5, 0.5, 0.5, 0.5, 0.5, 0.5, 0.5, 0.5, 0.5, 0.5, 0.5, 0.5, 0.5, 0.5, 0.5, 0.5, 0.5, 0.5]"
       ]
      },
      {
       "output_type": "stream",
       "stream": "stdout",
       "text": [
        "\n",
        "[0.035308450180920395, 0.015900278873051947, 0.027606640458033495, 0.020287811471444019, 0.028085748571213369, 0.035450017068918892, 0.0030537699131523133, 0.018801048240551517, 0.0010101978777581351, 0.00050936119312244637, 0.008238681424071536, 0.0036143352597136787, 0.005607800401233284, 0.0025444087200298623, 0.019754369486924619, 0.008088683576243998, 0.0, 0.0077047868625348317, 0.0065852856156395825, 0.0015393751346797165, 0.005668936813507235, 0.0010016733692713726, 0.0065990598011115165, 0.0050674066527983952, 0.0015393751346797165, 0.0066773510107629745, 0.0015127146704332129, 0.0010033534773107617, 0.0025444087200298623, 0.0015127146704332129, 0.020761540704040373, 0.0010385384500440277, 0.0061854044439900308, 0.0010385384500440277, 0.0076763527928345732, 0.0015393751346797165, 0.0025548226894230226, 0.0010101978777581351, 0.0015393751346797213, 0.0005008366846356888, 0.0015393751346797165, 0.0010101978777581351, 0.0010101978777581351, 0.0010300139415572653, 0.00050936119312244637, 0.0015393751346797165, 0.00050936119312244637, 0.0020220758635556592, 0.0010187223862448975, 0.0025444087200298623, 0.0015127146704332129, 0.0040563311891210398, 0.0010385384500440277, 0.0040760618683429806, 0.00050936119312244637, 0.0025366867336632723, 0.0015393751346797165, 0.0015308506261929541, 0.0050948696391650674, 0.0050810954536931333, 0.0010016733692713726, 0.0041208482133005854, 0.0, 0.0005008366846356888, 0.0015393751346797165, 0.00052917725692158137, 0.0035417203190134224, 0.0010583545138431627, 0.0036045572351535793, 0.0005008366846356888, 0.0046483453621827594, 0.0010300139415572701, 0.0010016733692713726, 0.0015308506261929541, 0.0015393751346797165, 0.0005008366846356888, 0.0060828542075416917, 0.0005008366846356888, 0.0056318827756944041, 0.0005008366846356888, 0.0040985495193418897, 0.0010300139415572701, 0.0020273255405408351, 0.0015393751346797165, 0.0015127146704332129, 0.0010385384500440277, 0.00050936119312245125]\n",
        "[1.0, 1.0, 1.0, 1.0, 1.0, 1.0, 1.0, 1.0, 0.5, 0.5, 0.5, 0.5, 0.5, 0.5, 0.5, 0.5, 0.5, 0.5, 0.50000000000000011, 0.49999999999999989, 0.50000000000000011, 0.5, 0.5, 0.5, 0.5, 0.49999999999999989, 0.5, 0.49999999999999989, 0.5, 0.50000000000000022, 0.5, 0.5, 0.5, 0.5, 0.5, 0.5, 0.33333333333333331, 0.33333333333333331, 0.33333333333333331, 0.33333333333333326, 0.33333333333333337, 0.33333333333333326, 0.33333333333333331, 0.33333333333333331, 0.33333333333333331, 0.33333333333333331, 0.33333333333333331, 0.33333333333333331, 0.33333333333333331, 0.33333333333333331, 0.33333333333333331, 0.33333333333333331, 0.33333333333333337, 0.33333333333333331, 0.33333333333333337, 0.33333333333333331, 0.33333333333333337, 0.33333333333333337, 0.33333333333333331, 0.33333333333333331, 0.33333333333333331, 0.33333333333333331, 0.33333333333333331, 0.33333333333333331, 0.33333333333333331, 0.33333333333333331, 0.33333333333333343, 0.33333333333333331, 0.33333333333333331, 0.33333333333333331, 0.33333333333333331, 0.33333333333333331, 0.33333333333333337, 0.33333333333333326, 0.33333333333333337, 0.33333333333333331, 0.33333333333333331, 0.33333333333333331, 0.33333333333333331, 0.33333333333333326, 0.33333333333333326, 0.33333333333333331, 0.33333333333333337, 0.33333333333333331, 0.33333333333333331, 0.33333333333333331, 0.33333333333333337]\n",
        "[ 0.33597508  0.52867905  0.13534587]"
       ]
      },
      {
       "output_type": "stream",
       "stream": "stdout",
       "text": [
        "\n",
        "[ 0.36291916  0.49409076  0.14299008]"
       ]
      },
      {
       "output_type": "stream",
       "stream": "stdout",
       "text": [
        "\n",
        "[ 0.36286277  0.509712    0.12742523]"
       ]
      },
      {
       "output_type": "stream",
       "stream": "stdout",
       "text": [
        "\n",
        "[ 0.32737208  0.56950242  0.1031255 ]"
       ]
      },
      {
       "output_type": "stream",
       "stream": "stdout",
       "text": [
        "\n",
        "[ 0.35680805  0.50124936  0.14194259]"
       ]
      },
      {
       "output_type": "stream",
       "stream": "stdout",
       "text": [
        "\n",
        "[ 0.3826602   0.48889686  0.12844294]"
       ]
      },
      {
       "output_type": "stream",
       "stream": "stdout",
       "text": [
        "\n",
        "[ 0.3651091   0.49381283  0.14107807]"
       ]
      },
      {
       "output_type": "stream",
       "stream": "stdout",
       "text": [
        "\n",
        "[ 0.35263879  0.49392749  0.15343372]"
       ]
      },
      {
       "output_type": "stream",
       "stream": "stdout",
       "text": [
        "\n",
        "[ 0.33070678  0.54380692  0.12548631]"
       ]
      },
      {
       "output_type": "stream",
       "stream": "stdout",
       "text": [
        "\n",
        "[ 0.34343805  0.52134635  0.13521559]"
       ]
      },
      {
       "output_type": "stream",
       "stream": "stdout",
       "text": [
        "\n",
        "[0.5, 0.5, 0.5, 0.5, 0.5, 0.5, 0.5, 0.5, 0.5, 0.5, 0.5, 0.5, 0.5, 0.5, 0.5, 0.5, 0.5, 0.5, 0.5, 0.5, 0.5, 0.5, 0.5, 0.5, 0.5, 0.5, 0.5, 0.5, 0.5, 0.5, 0.5, 0.5, 0.5, 0.5, 0.5, 0.5, 0.5, 0.5, 0.5, 0.5, 0.5, 0.5, 0.5, 0.5, 0.5, 0.5, 0.5, 0.5, 0.5, 0.5, 0.5, 0.5, 0.5, 0.5, 0.5, 0.5, 0.5, 0.5, 0.5, 0.5, 0.5, 0.5, 0.5, 0.5, 0.5, 0.5, 0.5, 0.5, 0.5, 0.5, 0.5, 0.5, 0.5, 0.5, 0.5, 0.5, 0.5, 0.5, 0.5, 0.5, 0.5, 0.5, 0.5, 0.5, 0.5, 0.5, 0.5, 0.5]"
       ]
      },
      {
       "output_type": "stream",
       "stream": "stdout",
       "text": [
        "\n",
        "[0.035308450180920395, 0.015900278873051947, 0.027606640458033495, 0.020287811471444019, 0.028085748571213369, 0.035450017068918892, 0.0030537699131523133, 0.018801048240551517, 0.0010101978777581351, 0.00050936119312244637, 0.008238681424071536, 0.0036143352597136787, 0.005607800401233284, 0.0025444087200298623, 0.019754369486924619, 0.008088683576243998, 0.0, 0.0077047868625348317, 0.0065852856156395825, 0.0015393751346797165, 0.005668936813507235, 0.0010016733692713726, 0.0065990598011115165, 0.0050674066527983952, 0.0015393751346797165, 0.0066773510107629745, 0.0015127146704332129, 0.0010033534773107617, 0.0025444087200298623, 0.0015127146704332129, 0.020761540704040373, 0.0010385384500440277, 0.0061854044439900308, 0.0010385384500440277, 0.0076763527928345732, 0.0015393751346797165, 0.0025548226894230226, 0.0010101978777581351, 0.0015393751346797213, 0.0005008366846356888, 0.0015393751346797165, 0.0010101978777581351, 0.0010101978777581351, 0.0010300139415572653, 0.00050936119312244637, 0.0015393751346797165, 0.00050936119312244637, 0.0020220758635556592, 0.0010187223862448975, 0.0025444087200298623, 0.0015127146704332129, 0.0040563311891210398, 0.0010385384500440277, 0.0040760618683429806, 0.00050936119312244637, 0.0025366867336632723, 0.0015393751346797165, 0.0015308506261929541, 0.0050948696391650674, 0.0050810954536931333, 0.0010016733692713726, 0.0041208482133005854, 0.0, 0.0005008366846356888, 0.0015393751346797165, 0.00052917725692158137, 0.0035417203190134224, 0.0010583545138431627, 0.0036045572351535793, 0.0005008366846356888, 0.0046483453621827594, 0.0010300139415572701, 0.0010016733692713726, 0.0015308506261929541, 0.0015393751346797165, 0.0005008366846356888, 0.0060828542075416917, 0.0005008366846356888, 0.0056318827756944041, 0.0005008366846356888, 0.0040985495193418897, 0.0010300139415572701, 0.0020273255405408351, 0.0015393751346797165, 0.0015127146704332129, 0.0010385384500440277, 0.00050936119312245125, 0.0015393751346797165]\n",
        "[1.0, 1.0, 1.0, 1.0, 1.0, 1.0, 1.0, 1.0, 0.5, 0.5, 0.5, 0.5, 0.5, 0.5, 0.5, 0.5, 0.5, 0.5, 0.50000000000000011, 0.49999999999999989, 0.50000000000000011, 0.5, 0.5, 0.5, 0.5, 0.49999999999999989, 0.5, 0.49999999999999989, 0.5, 0.50000000000000022, 0.5, 0.5, 0.5, 0.5, 0.5, 0.5, 0.33333333333333331, 0.33333333333333331, 0.33333333333333331, 0.33333333333333326, 0.33333333333333337, 0.33333333333333326, 0.33333333333333331, 0.33333333333333331, 0.33333333333333331, 0.33333333333333331, 0.33333333333333331, 0.33333333333333331, 0.33333333333333331, 0.33333333333333331, 0.33333333333333331, 0.33333333333333331, 0.33333333333333337, 0.33333333333333331, 0.33333333333333337, 0.33333333333333331, 0.33333333333333337, 0.33333333333333337, 0.33333333333333331, 0.33333333333333331, 0.33333333333333331, 0.33333333333333331, 0.33333333333333331, 0.33333333333333331, 0.33333333333333331, 0.33333333333333331, 0.33333333333333343, 0.33333333333333331, 0.33333333333333331, 0.33333333333333331, 0.33333333333333331, 0.33333333333333331, 0.33333333333333337, 0.33333333333333326, 0.33333333333333337, 0.33333333333333331, 0.33333333333333331, 0.33333333333333331, 0.33333333333333331, 0.33333333333333326, 0.33333333333333326, 0.33333333333333331, 0.33333333333333337, 0.33333333333333331, 0.33333333333333331, 0.33333333333333331, 0.33333333333333337, 0.33333333333333331]\n",
        "[ 0.15787375  0.14726423  0.69486202]"
       ]
      },
      {
       "output_type": "stream",
       "stream": "stdout",
       "text": [
        "\n",
        "[ 0.16873477  0.17340715  0.65785807]"
       ]
      },
      {
       "output_type": "stream",
       "stream": "stdout",
       "text": [
        "\n",
        "[ 0.17881286  0.16806656  0.65312058]"
       ]
      },
      {
       "output_type": "stream",
       "stream": "stdout",
       "text": [
        "\n",
        "[ 0.15781234  0.14539292  0.69679474]"
       ]
      },
      {
       "output_type": "stream",
       "stream": "stdout",
       "text": [
        "\n",
        "[ 0.16691402  0.18166821  0.65141777]"
       ]
      },
      {
       "output_type": "stream",
       "stream": "stdout",
       "text": [
        "\n",
        "[ 0.19249944  0.16477552  0.64272503]"
       ]
      },
      {
       "output_type": "stream",
       "stream": "stdout",
       "text": [
        "\n",
        "[ 0.19887184  0.17823969  0.62288847]"
       ]
      },
      {
       "output_type": "stream",
       "stream": "stdout",
       "text": [
        "\n",
        "[ 0.19683335  0.17880036  0.62436629]"
       ]
      },
      {
       "output_type": "stream",
       "stream": "stdout",
       "text": [
        "\n",
        "[ 0.16325413  0.1722564   0.66448947]"
       ]
      },
      {
       "output_type": "stream",
       "stream": "stdout",
       "text": [
        "\n",
        "[ 0.15458351  0.17851581  0.66690068]"
       ]
      },
      {
       "output_type": "stream",
       "stream": "stdout",
       "text": [
        "\n",
        "[0.5, 0.5, 0.5, 0.5, 0.5, 0.5, 0.5, 0.5, 0.5, 0.5, 0.5, 0.5, 0.5, 0.5, 0.5, 0.5, 0.5, 0.5, 0.5, 0.5, 0.5, 0.5, 0.5, 0.5, 0.5, 0.5, 0.5, 0.5, 0.5, 0.5, 0.5, 0.5, 0.5, 0.5, 0.5, 0.5, 0.5, 0.5, 0.5, 0.5, 0.5, 0.5, 0.5, 0.5, 0.5, 0.5, 0.5, 0.5, 0.5, 0.5, 0.5, 0.5, 0.5, 0.5, 0.5, 0.5, 0.5, 0.5, 0.5, 0.5, 0.5, 0.5, 0.5, 0.5, 0.5, 0.5, 0.5, 0.5, 0.5, 0.5, 0.5, 0.5, 0.5, 0.5, 0.5, 0.5, 0.5, 0.5, 0.5, 0.5, 0.5, 0.5, 0.5, 0.5, 0.5, 0.5, 0.5, 0.5, 0.5]"
       ]
      },
      {
       "output_type": "stream",
       "stream": "stdout",
       "text": [
        "\n",
        "[0.035308450180920395, 0.015900278873051947, 0.027606640458033495, 0.020287811471444019, 0.028085748571213369, 0.035450017068918892, 0.0030537699131523133, 0.018801048240551517, 0.0010101978777581351, 0.00050936119312244637, 0.008238681424071536, 0.0036143352597136787, 0.005607800401233284, 0.0025444087200298623, 0.019754369486924619, 0.008088683576243998, 0.0, 0.0077047868625348317, 0.0065852856156395825, 0.0015393751346797165, 0.005668936813507235, 0.0010016733692713726, 0.0065990598011115165, 0.0050674066527983952, 0.0015393751346797165, 0.0066773510107629745, 0.0015127146704332129, 0.0010033534773107617, 0.0025444087200298623, 0.0015127146704332129, 0.020761540704040373, 0.0010385384500440277, 0.0061854044439900308, 0.0010385384500440277, 0.0076763527928345732, 0.0015393751346797165, 0.0025548226894230226, 0.0010101978777581351, 0.0015393751346797213, 0.0005008366846356888, 0.0015393751346797165, 0.0010101978777581351, 0.0010101978777581351, 0.0010300139415572653, 0.00050936119312244637, 0.0015393751346797165, 0.00050936119312244637, 0.0020220758635556592, 0.0010187223862448975, 0.0025444087200298623, 0.0015127146704332129, 0.0040563311891210398, 0.0010385384500440277, 0.0040760618683429806, 0.00050936119312244637, 0.0025366867336632723, 0.0015393751346797165, 0.0015308506261929541, 0.0050948696391650674, 0.0050810954536931333, 0.0010016733692713726, 0.0041208482133005854, 0.0, 0.0005008366846356888, 0.0015393751346797165, 0.00052917725692158137, 0.0035417203190134224, 0.0010583545138431627, 0.0036045572351535793, 0.0005008366846356888, 0.0046483453621827594, 0.0010300139415572701, 0.0010016733692713726, 0.0015308506261929541, 0.0015393751346797165, 0.0005008366846356888, 0.0060828542075416917, 0.0005008366846356888, 0.0056318827756944041, 0.0005008366846356888, 0.0040985495193418897, 0.0010300139415572701, 0.0020273255405408351, 0.0015393751346797165, 0.0015127146704332129, 0.0010385384500440277, 0.00050936119312245125, 0.0015393751346797165, 0.0]\n",
        "[1.0, 1.0, 1.0, 1.0, 1.0, 1.0, 1.0, 1.0, 0.5, 0.5, 0.5, 0.5, 0.5, 0.5, 0.5, 0.5, 0.5, 0.5, 0.50000000000000011, 0.49999999999999989, 0.50000000000000011, 0.5, 0.5, 0.5, 0.5, 0.49999999999999989, 0.5, 0.49999999999999989, 0.5, 0.50000000000000022, 0.5, 0.5, 0.5, 0.5, 0.5, 0.5, 0.33333333333333331, 0.33333333333333331, 0.33333333333333331, 0.33333333333333326, 0.33333333333333337, 0.33333333333333326, 0.33333333333333331, 0.33333333333333331, 0.33333333333333331, 0.33333333333333331, 0.33333333333333331, 0.33333333333333331, 0.33333333333333331, 0.33333333333333331, 0.33333333333333331, 0.33333333333333331, 0.33333333333333337, 0.33333333333333331, 0.33333333333333337, 0.33333333333333331, 0.33333333333333337, 0.33333333333333337, 0.33333333333333331, 0.33333333333333331, 0.33333333333333331, 0.33333333333333331, 0.33333333333333331, 0.33333333333333331, 0.33333333333333331, 0.33333333333333331, 0.33333333333333343, 0.33333333333333331, 0.33333333333333331, 0.33333333333333331, 0.33333333333333331, 0.33333333333333331, 0.33333333333333337, 0.33333333333333326, 0.33333333333333337, 0.33333333333333331, 0.33333333333333331, 0.33333333333333331, 0.33333333333333331, 0.33333333333333326, 0.33333333333333326, 0.33333333333333331, 0.33333333333333337, 0.33333333333333331, 0.33333333333333331, 0.33333333333333331, 0.33333333333333337, 0.33333333333333331, 0.33333333333333331]\n",
        "[ 0.32337435  0.32302709  0.35359856]"
       ]
      },
      {
       "output_type": "stream",
       "stream": "stdout",
       "text": [
        "\n",
        "[ 0.33516267  0.31025809  0.35457924]"
       ]
      },
      {
       "output_type": "stream",
       "stream": "stdout",
       "text": [
        "\n",
        "[ 0.32361573  0.30313015  0.37325412]"
       ]
      },
      {
       "output_type": "stream",
       "stream": "stdout",
       "text": [
        "\n",
        "[ 0.32093045  0.32812309  0.35094646]"
       ]
      },
      {
       "output_type": "stream",
       "stream": "stdout",
       "text": [
        "\n",
        "[ 0.32738194  0.31945884  0.35315922]"
       ]
      },
      {
       "output_type": "stream",
       "stream": "stdout",
       "text": [
        "\n",
        "[ 0.31634935  0.3345702   0.34908045]"
       ]
      },
      {
       "output_type": "stream",
       "stream": "stdout",
       "text": [
        "\n",
        "[ 0.34357579  0.28597325  0.37045096]"
       ]
      },
      {
       "output_type": "stream",
       "stream": "stdout",
       "text": [
        "\n",
        "[ 0.37001466  0.29501351  0.33497184]"
       ]
      },
      {
       "output_type": "stream",
       "stream": "stdout",
       "text": [
        "\n",
        "[ 0.30978172  0.31869841  0.37151987]"
       ]
      },
      {
       "output_type": "stream",
       "stream": "stdout",
       "text": [
        "\n",
        "[ 0.29501708  0.3554624   0.34952053]"
       ]
      },
      {
       "output_type": "stream",
       "stream": "stdout",
       "text": [
        "\n",
        "[0.5, 0.5, 0.5, 0.5, 0.5, 0.5, 0.5, 0.5, 0.5, 0.5, 0.5, 0.5, 0.5, 0.5, 0.5, 0.5, 0.5, 0.5, 0.5, 0.5, 0.5, 0.5, 0.5, 0.5, 0.5, 0.5, 0.5, 0.5, 0.5, 0.5, 0.5, 0.5, 0.5, 0.5, 0.5, 0.5, 0.5, 0.5, 0.5, 0.5, 0.5, 0.5, 0.5, 0.5, 0.5, 0.5, 0.5, 0.5, 0.5, 0.5, 0.5, 0.5, 0.5, 0.5, 0.5, 0.5, 0.5, 0.5, 0.5, 0.5, 0.5, 0.5, 0.5, 0.5, 0.5, 0.5, 0.5, 0.5, 0.5, 0.5, 0.5, 0.5, 0.5, 0.5, 0.5, 0.5, 0.5, 0.5, 0.5, 0.5, 0.5, 0.5, 0.5, 0.5, 0.5, 0.5, 0.5, 0.5, 0.5, 0.5]"
       ]
      },
      {
       "output_type": "stream",
       "stream": "stdout",
       "text": [
        "\n",
        "[0.035308450180920395, 0.015900278873051947, 0.027606640458033495, 0.020287811471444019, 0.028085748571213369, 0.035450017068918892, 0.0030537699131523133, 0.018801048240551517, 0.0010101978777581351, 0.00050936119312244637, 0.008238681424071536, 0.0036143352597136787, 0.005607800401233284, 0.0025444087200298623, 0.019754369486924619, 0.008088683576243998, 0.0, 0.0077047868625348317, 0.0065852856156395825, 0.0015393751346797165, 0.005668936813507235, 0.0010016733692713726, 0.0065990598011115165, 0.0050674066527983952, 0.0015393751346797165, 0.0066773510107629745, 0.0015127146704332129, 0.0010033534773107617, 0.0025444087200298623, 0.0015127146704332129, 0.020761540704040373, 0.0010385384500440277, 0.0061854044439900308, 0.0010385384500440277, 0.0076763527928345732, 0.0015393751346797165, 0.0025548226894230226, 0.0010101978777581351, 0.0015393751346797213, 0.0005008366846356888, 0.0015393751346797165, 0.0010101978777581351, 0.0010101978777581351, 0.0010300139415572653, 0.00050936119312244637, 0.0015393751346797165, 0.00050936119312244637, 0.0020220758635556592, 0.0010187223862448975, 0.0025444087200298623, 0.0015127146704332129, 0.0040563311891210398, 0.0010385384500440277, 0.0040760618683429806, 0.00050936119312244637, 0.0025366867336632723, 0.0015393751346797165, 0.0015308506261929541, 0.0050948696391650674, 0.0050810954536931333, 0.0010016733692713726, 0.0041208482133005854, 0.0, 0.0005008366846356888, 0.0015393751346797165, 0.00052917725692158137, 0.0035417203190134224, 0.0010583545138431627, 0.0036045572351535793, 0.0005008366846356888, 0.0046483453621827594, 0.0010300139415572701, 0.0010016733692713726, 0.0015308506261929541, 0.0015393751346797165, 0.0005008366846356888, 0.0060828542075416917, 0.0005008366846356888, 0.0056318827756944041, 0.0005008366846356888, 0.0040985495193418897, 0.0010300139415572701, 0.0020273255405408351, 0.0015393751346797165, 0.0015127146704332129, 0.0010385384500440277, 0.00050936119312245125, 0.0015393751346797165, 0.0, 0.0076763527928345732]\n",
        "[1.0, 1.0, 1.0, 1.0, 1.0, 1.0, 1.0, 1.0, 0.5, 0.5, 0.5, 0.5, 0.5, 0.5, 0.5, 0.5, 0.5, 0.5, 0.50000000000000011, 0.49999999999999989, 0.50000000000000011, 0.5, 0.5, 0.5, 0.5, 0.49999999999999989, 0.5, 0.49999999999999989, 0.5, 0.50000000000000022, 0.5, 0.5, 0.5, 0.5, 0.5, 0.5, 0.33333333333333331, 0.33333333333333331, 0.33333333333333331, 0.33333333333333326, 0.33333333333333337, 0.33333333333333326, 0.33333333333333331, 0.33333333333333331, 0.33333333333333331, 0.33333333333333331, 0.33333333333333331, 0.33333333333333331, 0.33333333333333331, 0.33333333333333331, 0.33333333333333331, 0.33333333333333331, 0.33333333333333337, 0.33333333333333331, 0.33333333333333337, 0.33333333333333331, 0.33333333333333337, 0.33333333333333337, 0.33333333333333331, 0.33333333333333331, 0.33333333333333331, 0.33333333333333331, 0.33333333333333331, 0.33333333333333331, 0.33333333333333331, 0.33333333333333331, 0.33333333333333343, 0.33333333333333331, 0.33333333333333331, 0.33333333333333331, 0.33333333333333331, 0.33333333333333331, 0.33333333333333337, 0.33333333333333326, 0.33333333333333337, 0.33333333333333331, 0.33333333333333331, 0.33333333333333331, 0.33333333333333331, 0.33333333333333326, 0.33333333333333326, 0.33333333333333331, 0.33333333333333337, 0.33333333333333331, 0.33333333333333331, 0.33333333333333331, 0.33333333333333337, 0.33333333333333331, 0.33333333333333331, 0.33333333333333326]\n",
        "[ 0.25269362  0.58180087  0.16550551]"
       ]
      },
      {
       "output_type": "stream",
       "stream": "stdout",
       "text": [
        "\n",
        "[ 0.22427211  0.61656886  0.15915903]"
       ]
      },
      {
       "output_type": "stream",
       "stream": "stdout",
       "text": [
        "\n",
        "[ 0.19055086  0.67513385  0.13431529]"
       ]
      },
      {
       "output_type": "stream",
       "stream": "stdout",
       "text": [
        "\n",
        "[ 0.1876613   0.67476586  0.13757284]"
       ]
      },
      {
       "output_type": "stream",
       "stream": "stdout",
       "text": [
        "\n",
        "[ 0.25999377  0.57502662  0.16497961]"
       ]
      },
      {
       "output_type": "stream",
       "stream": "stdout",
       "text": [
        "\n",
        "[ 0.20253406  0.64511575  0.15235019]"
       ]
      },
      {
       "output_type": "stream",
       "stream": "stdout",
       "text": [
        "\n",
        "[ 0.20241476  0.67275766  0.12482758]"
       ]
      },
      {
       "output_type": "stream",
       "stream": "stdout",
       "text": [
        "\n",
        "[ 0.21172022  0.62130322  0.16697657]"
       ]
      },
      {
       "output_type": "stream",
       "stream": "stdout",
       "text": [
        "\n",
        "[ 0.18799571  0.66314511  0.14885918]"
       ]
      },
      {
       "output_type": "stream",
       "stream": "stdout",
       "text": [
        "\n",
        "[ 0.21296976  0.63362451  0.15340572]"
       ]
      },
      {
       "output_type": "stream",
       "stream": "stdout",
       "text": [
        "\n",
        "[0.5, 0.5, 0.5, 0.5, 0.5, 0.5, 0.5, 0.5, 0.5, 0.5, 0.5, 0.5, 0.5, 0.5, 0.5, 0.5, 0.5, 0.5, 0.5, 0.5, 0.5, 0.5, 0.5, 0.5, 0.5, 0.5, 0.5, 0.5, 0.5, 0.5, 0.5, 0.5, 0.5, 0.5, 0.5, 0.5, 0.5, 0.5, 0.5, 0.5, 0.5, 0.5, 0.5, 0.5, 0.5, 0.5, 0.5, 0.5, 0.5, 0.5, 0.5, 0.5, 0.5, 0.5, 0.5, 0.5, 0.5, 0.5, 0.5, 0.5, 0.5, 0.5, 0.5, 0.5, 0.5, 0.5, 0.5, 0.5, 0.5, 0.5, 0.5, 0.5, 0.5, 0.5, 0.5, 0.5, 0.5, 0.5, 0.5, 0.5, 0.5, 0.5, 0.5, 0.5, 0.5, 0.5, 0.5, 0.5, 0.5, 0.5, 0.5]"
       ]
      },
      {
       "output_type": "stream",
       "stream": "stdout",
       "text": [
        "\n",
        "[0.035308450180920395, 0.015900278873051947, 0.027606640458033495, 0.020287811471444019, 0.028085748571213369, 0.035450017068918892, 0.0030537699131523133, 0.018801048240551517, 0.0010101978777581351, 0.00050936119312244637, 0.008238681424071536, 0.0036143352597136787, 0.005607800401233284, 0.0025444087200298623, 0.019754369486924619, 0.008088683576243998, 0.0, 0.0077047868625348317, 0.0065852856156395825, 0.0015393751346797165, 0.005668936813507235, 0.0010016733692713726, 0.0065990598011115165, 0.0050674066527983952, 0.0015393751346797165, 0.0066773510107629745, 0.0015127146704332129, 0.0010033534773107617, 0.0025444087200298623, 0.0015127146704332129, 0.020761540704040373, 0.0010385384500440277, 0.0061854044439900308, 0.0010385384500440277, 0.0076763527928345732, 0.0015393751346797165, 0.0025548226894230226, 0.0010101978777581351, 0.0015393751346797213, 0.0005008366846356888, 0.0015393751346797165, 0.0010101978777581351, 0.0010101978777581351, 0.0010300139415572653, 0.00050936119312244637, 0.0015393751346797165, 0.00050936119312244637, 0.0020220758635556592, 0.0010187223862448975, 0.0025444087200298623, 0.0015127146704332129, 0.0040563311891210398, 0.0010385384500440277, 0.0040760618683429806, 0.00050936119312244637, 0.0025366867336632723, 0.0015393751346797165, 0.0015308506261929541, 0.0050948696391650674, 0.0050810954536931333, 0.0010016733692713726, 0.0041208482133005854, 0.0, 0.0005008366846356888, 0.0015393751346797165, 0.00052917725692158137, 0.0035417203190134224, 0.0010583545138431627, 0.0036045572351535793, 0.0005008366846356888, 0.0046483453621827594, 0.0010300139415572701, 0.0010016733692713726, 0.0015308506261929541, 0.0015393751346797165, 0.0005008366846356888, 0.0060828542075416917, 0.0005008366846356888, 0.0056318827756944041, 0.0005008366846356888, 0.0040985495193418897, 0.0010300139415572701, 0.0020273255405408351, 0.0015393751346797165, 0.0015127146704332129, 0.0010385384500440277, 0.00050936119312245125, 0.0015393751346797165, 0.0, 0.0076763527928345732, 0.0010385384500440277]\n",
        "[1.0, 1.0, 1.0, 1.0, 1.0, 1.0, 1.0, 1.0, 0.5, 0.5, 0.5, 0.5, 0.5, 0.5, 0.5, 0.5, 0.5, 0.5, 0.50000000000000011, 0.49999999999999989, 0.50000000000000011, 0.5, 0.5, 0.5, 0.5, 0.49999999999999989, 0.5, 0.49999999999999989, 0.5, 0.50000000000000022, 0.5, 0.5, 0.5, 0.5, 0.5, 0.5, 0.33333333333333331, 0.33333333333333331, 0.33333333333333331, 0.33333333333333326, 0.33333333333333337, 0.33333333333333326, 0.33333333333333331, 0.33333333333333331, 0.33333333333333331, 0.33333333333333331, 0.33333333333333331, 0.33333333333333331, 0.33333333333333331, 0.33333333333333331, 0.33333333333333331, 0.33333333333333331, 0.33333333333333337, 0.33333333333333331, 0.33333333333333337, 0.33333333333333331, 0.33333333333333337, 0.33333333333333337, 0.33333333333333331, 0.33333333333333331, 0.33333333333333331, 0.33333333333333331, 0.33333333333333331, 0.33333333333333331, 0.33333333333333331, 0.33333333333333331, 0.33333333333333343, 0.33333333333333331, 0.33333333333333331, 0.33333333333333331, 0.33333333333333331, 0.33333333333333331, 0.33333333333333337, 0.33333333333333326, 0.33333333333333337, 0.33333333333333331, 0.33333333333333331, 0.33333333333333331, 0.33333333333333331, 0.33333333333333326, 0.33333333333333326, 0.33333333333333331, 0.33333333333333337, 0.33333333333333331, 0.33333333333333331, 0.33333333333333331, 0.33333333333333337, 0.33333333333333331, 0.33333333333333331, 0.33333333333333326, 0.33333333333333331]\n",
        "[ 0.16568212  0.70674137  0.12757651]"
       ]
      },
      {
       "output_type": "stream",
       "stream": "stdout",
       "text": [
        "\n",
        "[ 0.21143566  0.64004855  0.14851579]"
       ]
      },
      {
       "output_type": "stream",
       "stream": "stdout",
       "text": [
        "\n",
        "[ 0.24951113  0.58852026  0.16196861]"
       ]
      },
      {
       "output_type": "stream",
       "stream": "stdout",
       "text": [
        "\n",
        "[ 0.24333961  0.59823829  0.1584221 ]"
       ]
      },
      {
       "output_type": "stream",
       "stream": "stdout",
       "text": [
        "\n",
        "[ 0.22764373  0.59240165  0.17995462]"
       ]
      },
      {
       "output_type": "stream",
       "stream": "stdout",
       "text": [
        "\n",
        "[ 0.23628537  0.59843368  0.16528095]"
       ]
      },
      {
       "output_type": "stream",
       "stream": "stdout",
       "text": [
        "\n",
        "[ 0.20591641  0.62953977  0.16454382]"
       ]
      },
      {
       "output_type": "stream",
       "stream": "stdout",
       "text": [
        "\n",
        "[ 0.20364945  0.64045642  0.15589413]"
       ]
      },
      {
       "output_type": "stream",
       "stream": "stdout",
       "text": [
        "\n",
        "[ 0.2062139   0.62379434  0.16999176]"
       ]
      },
      {
       "output_type": "stream",
       "stream": "stdout",
       "text": [
        "\n",
        "[ 0.23152335  0.62566032  0.14281634]"
       ]
      },
      {
       "output_type": "stream",
       "stream": "stdout",
       "text": [
        "\n",
        "[0.5, 0.5, 0.5, 0.5, 0.5, 0.5, 0.5, 0.5, 0.5, 0.5, 0.5, 0.5, 0.5, 0.5, 0.5, 0.5, 0.5, 0.5, 0.5, 0.5, 0.5, 0.5, 0.5, 0.5, 0.5, 0.5, 0.5, 0.5, 0.5, 0.5, 0.5, 0.5, 0.5, 0.5, 0.5, 0.5, 0.5, 0.5, 0.5, 0.5, 0.5, 0.5, 0.5, 0.5, 0.5, 0.5, 0.5, 0.5, 0.5, 0.5, 0.5, 0.5, 0.5, 0.5, 0.5, 0.5, 0.5, 0.5, 0.5, 0.5, 0.5, 0.5, 0.5, 0.5, 0.5, 0.5, 0.5, 0.5, 0.5, 0.5, 0.5, 0.5, 0.5, 0.5, 0.5, 0.5, 0.5, 0.5, 0.5, 0.5, 0.5, 0.5, 0.5, 0.5, 0.5, 0.5, 0.5, 0.5, 0.5, 0.5, 0.5, 0.5]"
       ]
      },
      {
       "output_type": "stream",
       "stream": "stdout",
       "text": [
        "\n",
        "[0.035308450180920395, 0.015900278873051947, 0.027606640458033495, 0.020287811471444019, 0.028085748571213369, 0.035450017068918892, 0.0030537699131523133, 0.018801048240551517, 0.0010101978777581351, 0.00050936119312244637, 0.008238681424071536, 0.0036143352597136787, 0.005607800401233284, 0.0025444087200298623, 0.019754369486924619, 0.008088683576243998, 0.0, 0.0077047868625348317, 0.0065852856156395825, 0.0015393751346797165, 0.005668936813507235, 0.0010016733692713726, 0.0065990598011115165, 0.0050674066527983952, 0.0015393751346797165, 0.0066773510107629745, 0.0015127146704332129, 0.0010033534773107617, 0.0025444087200298623, 0.0015127146704332129, 0.020761540704040373, 0.0010385384500440277, 0.0061854044439900308, 0.0010385384500440277, 0.0076763527928345732, 0.0015393751346797165, 0.0025548226894230226, 0.0010101978777581351, 0.0015393751346797213, 0.0005008366846356888, 0.0015393751346797165, 0.0010101978777581351, 0.0010101978777581351, 0.0010300139415572653, 0.00050936119312244637, 0.0015393751346797165, 0.00050936119312244637, 0.0020220758635556592, 0.0010187223862448975, 0.0025444087200298623, 0.0015127146704332129, 0.0040563311891210398, 0.0010385384500440277, 0.0040760618683429806, 0.00050936119312244637, 0.0025366867336632723, 0.0015393751346797165, 0.0015308506261929541, 0.0050948696391650674, 0.0050810954536931333, 0.0010016733692713726, 0.0041208482133005854, 0.0, 0.0005008366846356888, 0.0015393751346797165, 0.00052917725692158137, 0.0035417203190134224, 0.0010583545138431627, 0.0036045572351535793, 0.0005008366846356888, 0.0046483453621827594, 0.0010300139415572701, 0.0010016733692713726, 0.0015308506261929541, 0.0015393751346797165, 0.0005008366846356888, 0.0060828542075416917, 0.0005008366846356888, 0.0056318827756944041, 0.0005008366846356888, 0.0040985495193418897, 0.0010300139415572701, 0.0020273255405408351, 0.0015393751346797165, 0.0015127146704332129, 0.0010385384500440277, 0.00050936119312245125, 0.0015393751346797165, 0.0, 0.0076763527928345732, 0.0010385384500440277, 0.0010385384500440277]\n",
        "[1.0, 1.0, 1.0, 1.0, 1.0, 1.0, 1.0, 1.0, 0.5, 0.5, 0.5, 0.5, 0.5, 0.5, 0.5, 0.5, 0.5, 0.5, 0.50000000000000011, 0.49999999999999989, 0.50000000000000011, 0.5, 0.5, 0.5, 0.5, 0.49999999999999989, 0.5, 0.49999999999999989, 0.5, 0.50000000000000022, 0.5, 0.5, 0.5, 0.5, 0.5, 0.5, 0.33333333333333331, 0.33333333333333331, 0.33333333333333331, 0.33333333333333326, 0.33333333333333337, 0.33333333333333326, 0.33333333333333331, 0.33333333333333331, 0.33333333333333331, 0.33333333333333331, 0.33333333333333331, 0.33333333333333331, 0.33333333333333331, 0.33333333333333331, 0.33333333333333331, 0.33333333333333331, 0.33333333333333337, 0.33333333333333331, 0.33333333333333337, 0.33333333333333331, 0.33333333333333337, 0.33333333333333337, 0.33333333333333331, 0.33333333333333331, 0.33333333333333331, 0.33333333333333331, 0.33333333333333331, 0.33333333333333331, 0.33333333333333331, 0.33333333333333331, 0.33333333333333343, 0.33333333333333331, 0.33333333333333331, 0.33333333333333331, 0.33333333333333331, 0.33333333333333331, 0.33333333333333337, 0.33333333333333326, 0.33333333333333337, 0.33333333333333331, 0.33333333333333331, 0.33333333333333331, 0.33333333333333331, 0.33333333333333326, 0.33333333333333326, 0.33333333333333331, 0.33333333333333337, 0.33333333333333331, 0.33333333333333331, 0.33333333333333331, 0.33333333333333337, 0.33333333333333331, 0.33333333333333331, 0.33333333333333326, 0.33333333333333331, 0.33333333333333331]\n",
        "[ 0.12398648  0.15654546  0.22487316  0.4945949 ]"
       ]
      },
      {
       "output_type": "stream",
       "stream": "stdout",
       "text": [
        "\n",
        "[ 0.17510674  0.12314813  0.23971848  0.46202665]"
       ]
      },
      {
       "output_type": "stream",
       "stream": "stdout",
       "text": [
        "\n",
        "[ 0.18856675  0.13317489  0.21611936  0.462139  ]"
       ]
      },
      {
       "output_type": "stream",
       "stream": "stdout",
       "text": [
        "\n",
        "[ 0.11783755  0.14291271  0.22161331  0.51763642]"
       ]
      },
      {
       "output_type": "stream",
       "stream": "stdout",
       "text": [
        "\n",
        "[ 0.13284559  0.12401001  0.2291206   0.51402381]"
       ]
      },
      {
       "output_type": "stream",
       "stream": "stdout",
       "text": [
        "\n",
        "[ 0.18120914  0.14045684  0.20453074  0.47380328]"
       ]
      },
      {
       "output_type": "stream",
       "stream": "stdout",
       "text": [
        "\n",
        "[ 0.16616602  0.14376931  0.23008152  0.45998315]"
       ]
      },
      {
       "output_type": "stream",
       "stream": "stdout",
       "text": [
        "\n",
        "[ 0.16917319  0.17884992  0.19698354  0.45499335]"
       ]
      },
      {
       "output_type": "stream",
       "stream": "stdout",
       "text": [
        "\n",
        "[ 0.16596464  0.14492872  0.23294844  0.4561582 ]"
       ]
      },
      {
       "output_type": "stream",
       "stream": "stdout",
       "text": [
        "\n",
        "[ 0.13591417  0.16597772  0.24868686  0.44942124]"
       ]
      },
      {
       "output_type": "stream",
       "stream": "stdout",
       "text": [
        "\n",
        "[0.5, 0.5, 0.5, 0.5, 0.5, 0.5, 0.5, 0.5, 0.5, 0.5, 0.5, 0.5, 0.5, 0.5, 0.5, 0.5, 0.5, 0.5, 0.5, 0.5, 0.5, 0.5, 0.5, 0.5, 0.5, 0.5, 0.5, 0.5, 0.5, 0.5, 0.5, 0.5, 0.5, 0.5, 0.5, 0.5, 0.5, 0.5, 0.5, 0.5, 0.5, 0.5, 0.5, 0.5, 0.5, 0.5, 0.5, 0.5, 0.5, 0.5, 0.5, 0.5, 0.5, 0.5, 0.5, 0.5, 0.5, 0.5, 0.5, 0.5, 0.5, 0.5, 0.5, 0.5, 0.5, 0.5, 0.5, 0.5, 0.5, 0.5, 0.5, 0.5, 0.5, 0.5, 0.5, 0.5, 0.5, 0.5, 0.5, 0.5, 0.5, 0.5, 0.5, 0.5, 0.5, 0.5, 0.5, 0.5, 0.5, 0.5, 0.5, 0.5, 0.5]"
       ]
      },
      {
       "output_type": "stream",
       "stream": "stdout",
       "text": [
        "\n",
        "[0.035308450180920395, 0.015900278873051947, 0.027606640458033495, 0.020287811471444019, 0.028085748571213369, 0.035450017068918892, 0.0030537699131523133, 0.018801048240551517, 0.0010101978777581351, 0.00050936119312244637, 0.008238681424071536, 0.0036143352597136787, 0.005607800401233284, 0.0025444087200298623, 0.019754369486924619, 0.008088683576243998, 0.0, 0.0077047868625348317, 0.0065852856156395825, 0.0015393751346797165, 0.005668936813507235, 0.0010016733692713726, 0.0065990598011115165, 0.0050674066527983952, 0.0015393751346797165, 0.0066773510107629745, 0.0015127146704332129, 0.0010033534773107617, 0.0025444087200298623, 0.0015127146704332129, 0.020761540704040373, 0.0010385384500440277, 0.0061854044439900308, 0.0010385384500440277, 0.0076763527928345732, 0.0015393751346797165, 0.0025548226894230226, 0.0010101978777581351, 0.0015393751346797213, 0.0005008366846356888, 0.0015393751346797165, 0.0010101978777581351, 0.0010101978777581351, 0.0010300139415572653, 0.00050936119312244637, 0.0015393751346797165, 0.00050936119312244637, 0.0020220758635556592, 0.0010187223862448975, 0.0025444087200298623, 0.0015127146704332129, 0.0040563311891210398, 0.0010385384500440277, 0.0040760618683429806, 0.00050936119312244637, 0.0025366867336632723, 0.0015393751346797165, 0.0015308506261929541, 0.0050948696391650674, 0.0050810954536931333, 0.0010016733692713726, 0.0041208482133005854, 0.0, 0.0005008366846356888, 0.0015393751346797165, 0.00052917725692158137, 0.0035417203190134224, 0.0010583545138431627, 0.0036045572351535793, 0.0005008366846356888, 0.0046483453621827594, 0.0010300139415572701, 0.0010016733692713726, 0.0015308506261929541, 0.0015393751346797165, 0.0005008366846356888, 0.0060828542075416917, 0.0005008366846356888, 0.0056318827756944041, 0.0005008366846356888, 0.0040985495193418897, 0.0010300139415572701, 0.0020273255405408351, 0.0015393751346797165, 0.0015127146704332129, 0.0010385384500440277, 0.00050936119312245125, 0.0015393751346797165, 0.0, 0.0076763527928345732, 0.0010385384500440277, 0.0010385384500440277, 0.0005008366846356888]\n",
        "[1.0, 1.0, 1.0, 1.0, 1.0, 1.0, 1.0, 1.0, 0.5, 0.5, 0.5, 0.5, 0.5, 0.5, 0.5, 0.5, 0.5, 0.5, 0.50000000000000011, 0.49999999999999989, 0.50000000000000011, 0.5, 0.5, 0.5, 0.5, 0.49999999999999989, 0.5, 0.49999999999999989, 0.5, 0.50000000000000022, 0.5, 0.5, 0.5, 0.5, 0.5, 0.5, 0.33333333333333331, 0.33333333333333331, 0.33333333333333331, 0.33333333333333326, 0.33333333333333337, 0.33333333333333326, 0.33333333333333331, 0.33333333333333331, 0.33333333333333331, 0.33333333333333331, 0.33333333333333331, 0.33333333333333331, 0.33333333333333331, 0.33333333333333331, 0.33333333333333331, 0.33333333333333331, 0.33333333333333337, 0.33333333333333331, 0.33333333333333337, 0.33333333333333331, 0.33333333333333337, 0.33333333333333337, 0.33333333333333331, 0.33333333333333331, 0.33333333333333331, 0.33333333333333331, 0.33333333333333331, 0.33333333333333331, 0.33333333333333331, 0.33333333333333331, 0.33333333333333343, 0.33333333333333331, 0.33333333333333331, 0.33333333333333331, 0.33333333333333331, 0.33333333333333331, 0.33333333333333337, 0.33333333333333326, 0.33333333333333337, 0.33333333333333331, 0.33333333333333331, 0.33333333333333331, 0.33333333333333331, 0.33333333333333326, 0.33333333333333326, 0.33333333333333331, 0.33333333333333337, 0.33333333333333331, 0.33333333333333331, 0.33333333333333331, 0.33333333333333337, 0.33333333333333331, 0.33333333333333331, 0.33333333333333326, 0.33333333333333331, 0.33333333333333331, 0.25]\n",
        "[ 0.40200595  0.24592654  0.27393981  0.0781277 ]"
       ]
      },
      {
       "output_type": "stream",
       "stream": "stdout",
       "text": [
        "\n",
        "[ 0.40475229  0.19000534  0.28806315  0.11717921]"
       ]
      },
      {
       "output_type": "stream",
       "stream": "stdout",
       "text": [
        "\n",
        "[ 0.43914059  0.20729586  0.27165271  0.08191084]"
       ]
      },
      {
       "output_type": "stream",
       "stream": "stdout",
       "text": [
        "\n",
        "[ 0.39777227  0.22426812  0.29823613  0.07972347]"
       ]
      },
      {
       "output_type": "stream",
       "stream": "stdout",
       "text": [
        "\n",
        "[ 0.3952733   0.22239402  0.27775122  0.10458147]"
       ]
      },
      {
       "output_type": "stream",
       "stream": "stdout",
       "text": [
        "\n",
        "[ 0.44236408  0.18697906  0.27347856  0.0971783 ]"
       ]
      },
      {
       "output_type": "stream",
       "stream": "stdout",
       "text": [
        "\n",
        "[ 0.4358545   0.18877526  0.28192852  0.09344172]"
       ]
      },
      {
       "output_type": "stream",
       "stream": "stdout",
       "text": [
        "\n",
        "[ 0.41809388  0.21341385  0.26169889  0.10679338]"
       ]
      },
      {
       "output_type": "stream",
       "stream": "stdout",
       "text": [
        "\n",
        "[ 0.40665914  0.23330919  0.25295043  0.10708124]"
       ]
      },
      {
       "output_type": "stream",
       "stream": "stdout",
       "text": [
        "\n",
        "[ 0.3826743   0.267593    0.26139012  0.08834258]"
       ]
      },
      {
       "output_type": "stream",
       "stream": "stdout",
       "text": [
        "\n",
        "[0.5, 0.5, 0.5, 0.5, 0.5, 0.5, 0.5, 0.5, 0.5, 0.5, 0.5, 0.5, 0.5, 0.5, 0.5, 0.5, 0.5, 0.5, 0.5, 0.5, 0.5, 0.5, 0.5, 0.5, 0.5, 0.5, 0.5, 0.5, 0.5, 0.5, 0.5, 0.5, 0.5, 0.5, 0.5, 0.5, 0.5, 0.5, 0.5, 0.5, 0.5, 0.5, 0.5, 0.5, 0.5, 0.5, 0.5, 0.5, 0.5, 0.5, 0.5, 0.5, 0.5, 0.5, 0.5, 0.5, 0.5, 0.5, 0.5, 0.5, 0.5, 0.5, 0.5, 0.5, 0.5, 0.5, 0.5, 0.5, 0.5, 0.5, 0.5, 0.5, 0.5, 0.5, 0.5, 0.5, 0.5, 0.5, 0.5, 0.5, 0.5, 0.5, 0.5, 0.5, 0.5, 0.5, 0.5, 0.5, 0.5, 0.5, 0.5, 0.5, 0.5, 0.5]"
       ]
      },
      {
       "output_type": "stream",
       "stream": "stdout",
       "text": [
        "\n",
        "[0.035308450180920395, 0.015900278873051947, 0.027606640458033495, 0.020287811471444019, 0.028085748571213369, 0.035450017068918892, 0.0030537699131523133, 0.018801048240551517, 0.0010101978777581351, 0.00050936119312244637, 0.008238681424071536, 0.0036143352597136787, 0.005607800401233284, 0.0025444087200298623, 0.019754369486924619, 0.008088683576243998, 0.0, 0.0077047868625348317, 0.0065852856156395825, 0.0015393751346797165, 0.005668936813507235, 0.0010016733692713726, 0.0065990598011115165, 0.0050674066527983952, 0.0015393751346797165, 0.0066773510107629745, 0.0015127146704332129, 0.0010033534773107617, 0.0025444087200298623, 0.0015127146704332129, 0.020761540704040373, 0.0010385384500440277, 0.0061854044439900308, 0.0010385384500440277, 0.0076763527928345732, 0.0015393751346797165, 0.0025548226894230226, 0.0010101978777581351, 0.0015393751346797213, 0.0005008366846356888, 0.0015393751346797165, 0.0010101978777581351, 0.0010101978777581351, 0.0010300139415572653, 0.00050936119312244637, 0.0015393751346797165, 0.00050936119312244637, 0.0020220758635556592, 0.0010187223862448975, 0.0025444087200298623, 0.0015127146704332129, 0.0040563311891210398, 0.0010385384500440277, 0.0040760618683429806, 0.00050936119312244637, 0.0025366867336632723, 0.0015393751346797165, 0.0015308506261929541, 0.0050948696391650674, 0.0050810954536931333, 0.0010016733692713726, 0.0041208482133005854, 0.0, 0.0005008366846356888, 0.0015393751346797165, 0.00052917725692158137, 0.0035417203190134224, 0.0010583545138431627, 0.0036045572351535793, 0.0005008366846356888, 0.0046483453621827594, 0.0010300139415572701, 0.0010016733692713726, 0.0015308506261929541, 0.0015393751346797165, 0.0005008366846356888, 0.0060828542075416917, 0.0005008366846356888, 0.0056318827756944041, 0.0005008366846356888, 0.0040985495193418897, 0.0010300139415572701, 0.0020273255405408351, 0.0015393751346797165, 0.0015127146704332129, 0.0010385384500440277, 0.00050936119312245125, 0.0015393751346797165, 0.0, 0.0076763527928345732, 0.0010385384500440277, 0.0010385384500440277, 0.0005008366846356888, 0.0]\n",
        "[1.0, 1.0, 1.0, 1.0, 1.0, 1.0, 1.0, 1.0, 0.5, 0.5, 0.5, 0.5, 0.5, 0.5, 0.5, 0.5, 0.5, 0.5, 0.50000000000000011, 0.49999999999999989, 0.50000000000000011, 0.5, 0.5, 0.5, 0.5, 0.49999999999999989, 0.5, 0.49999999999999989, 0.5, 0.50000000000000022, 0.5, 0.5, 0.5, 0.5, 0.5, 0.5, 0.33333333333333331, 0.33333333333333331, 0.33333333333333331, 0.33333333333333326, 0.33333333333333337, 0.33333333333333326, 0.33333333333333331, 0.33333333333333331, 0.33333333333333331, 0.33333333333333331, 0.33333333333333331, 0.33333333333333331, 0.33333333333333331, 0.33333333333333331, 0.33333333333333331, 0.33333333333333331, 0.33333333333333337, 0.33333333333333331, 0.33333333333333337, 0.33333333333333331, 0.33333333333333337, 0.33333333333333337, 0.33333333333333331, 0.33333333333333331, 0.33333333333333331, 0.33333333333333331, 0.33333333333333331, 0.33333333333333331, 0.33333333333333331, 0.33333333333333331, 0.33333333333333343, 0.33333333333333331, 0.33333333333333331, 0.33333333333333331, 0.33333333333333331, 0.33333333333333331, 0.33333333333333337, 0.33333333333333326, 0.33333333333333337, 0.33333333333333331, 0.33333333333333331, 0.33333333333333331, 0.33333333333333331, 0.33333333333333326, 0.33333333333333326, 0.33333333333333331, 0.33333333333333337, 0.33333333333333331, 0.33333333333333331, 0.33333333333333331, 0.33333333333333337, 0.33333333333333331, 0.33333333333333331, 0.33333333333333326, 0.33333333333333331, 0.33333333333333331, 0.25, 0.25]\n",
        "[ 0.40961763  0.19521156  0.32020916  0.07496165]"
       ]
      },
      {
       "output_type": "stream",
       "stream": "stdout",
       "text": [
        "\n",
        "[ 0.42424188  0.20862864  0.2634107   0.10371878]"
       ]
      },
      {
       "output_type": "stream",
       "stream": "stdout",
       "text": [
        "\n",
        "[ 0.44159607  0.22987476  0.25072231  0.07780686]"
       ]
      },
      {
       "output_type": "stream",
       "stream": "stdout",
       "text": [
        "\n",
        "[ 0.39576472  0.18503189  0.31933764  0.09986574]"
       ]
      },
      {
       "output_type": "stream",
       "stream": "stdout",
       "text": [
        "\n",
        "[ 0.40928738  0.2156547   0.28345556  0.09160236]"
       ]
      },
      {
       "output_type": "stream",
       "stream": "stdout",
       "text": [
        "\n",
        "[ 0.45107223  0.18282407  0.25220937  0.11389433]"
       ]
      },
      {
       "output_type": "stream",
       "stream": "stdout",
       "text": [
        "\n",
        "[ 0.43384189  0.16733571  0.31725775  0.08156465]"
       ]
      },
      {
       "output_type": "stream",
       "stream": "stdout",
       "text": [
        "\n",
        "[ 0.42991943  0.22719905  0.26135838  0.08152314]"
       ]
      },
      {
       "output_type": "stream",
       "stream": "stdout",
       "text": [
        "\n",
        "[ 0.39775755  0.20525337  0.28101408  0.11597499]"
       ]
      },
      {
       "output_type": "stream",
       "stream": "stdout",
       "text": [
        "\n",
        "[ 0.4068306   0.18661574  0.30906856  0.0974851 ]"
       ]
      },
      {
       "output_type": "stream",
       "stream": "stdout",
       "text": [
        "\n",
        "[0.5, 0.5, 0.5, 0.5, 0.5, 0.5, 0.5, 0.5, 0.5, 0.5, 0.5, 0.5, 0.5, 0.5, 0.5, 0.5, 0.5, 0.5, 0.5, 0.5, 0.5, 0.5, 0.5, 0.5, 0.5, 0.5, 0.5, 0.5, 0.5, 0.5, 0.5, 0.5, 0.5, 0.5, 0.5, 0.5, 0.5, 0.5, 0.5, 0.5, 0.5, 0.5, 0.5, 0.5, 0.5, 0.5, 0.5, 0.5, 0.5, 0.5, 0.5, 0.5, 0.5, 0.5, 0.5, 0.5, 0.5, 0.5, 0.5, 0.5, 0.5, 0.5, 0.5, 0.5, 0.5, 0.5, 0.5, 0.5, 0.5, 0.5, 0.5, 0.5, 0.5, 0.5, 0.5, 0.5, 0.5, 0.5, 0.5, 0.5, 0.5, 0.5, 0.5, 0.5, 0.5, 0.5, 0.5, 0.5, 0.5, 0.5, 0.5, 0.5, 0.5, 0.5, 0.5]"
       ]
      },
      {
       "output_type": "stream",
       "stream": "stdout",
       "text": [
        "\n",
        "[0.035308450180920395, 0.015900278873051947, 0.027606640458033495, 0.020287811471444019, 0.028085748571213369, 0.035450017068918892, 0.0030537699131523133, 0.018801048240551517, 0.0010101978777581351, 0.00050936119312244637, 0.008238681424071536, 0.0036143352597136787, 0.005607800401233284, 0.0025444087200298623, 0.019754369486924619, 0.008088683576243998, 0.0, 0.0077047868625348317, 0.0065852856156395825, 0.0015393751346797165, 0.005668936813507235, 0.0010016733692713726, 0.0065990598011115165, 0.0050674066527983952, 0.0015393751346797165, 0.0066773510107629745, 0.0015127146704332129, 0.0010033534773107617, 0.0025444087200298623, 0.0015127146704332129, 0.020761540704040373, 0.0010385384500440277, 0.0061854044439900308, 0.0010385384500440277, 0.0076763527928345732, 0.0015393751346797165, 0.0025548226894230226, 0.0010101978777581351, 0.0015393751346797213, 0.0005008366846356888, 0.0015393751346797165, 0.0010101978777581351, 0.0010101978777581351, 0.0010300139415572653, 0.00050936119312244637, 0.0015393751346797165, 0.00050936119312244637, 0.0020220758635556592, 0.0010187223862448975, 0.0025444087200298623, 0.0015127146704332129, 0.0040563311891210398, 0.0010385384500440277, 0.0040760618683429806, 0.00050936119312244637, 0.0025366867336632723, 0.0015393751346797165, 0.0015308506261929541, 0.0050948696391650674, 0.0050810954536931333, 0.0010016733692713726, 0.0041208482133005854, 0.0, 0.0005008366846356888, 0.0015393751346797165, 0.00052917725692158137, 0.0035417203190134224, 0.0010583545138431627, 0.0036045572351535793, 0.0005008366846356888, 0.0046483453621827594, 0.0010300139415572701, 0.0010016733692713726, 0.0015308506261929541, 0.0015393751346797165, 0.0005008366846356888, 0.0060828542075416917, 0.0005008366846356888, 0.0056318827756944041, 0.0005008366846356888, 0.0040985495193418897, 0.0010300139415572701, 0.0020273255405408351, 0.0015393751346797165, 0.0015127146704332129, 0.0010385384500440277, 0.00050936119312245125, 0.0015393751346797165, 0.0, 0.0076763527928345732, 0.0010385384500440277, 0.0010385384500440277, 0.0005008366846356888, 0.0, 0.0005008366846356888]\n",
        "[1.0, 1.0, 1.0, 1.0, 1.0, 1.0, 1.0, 1.0, 0.5, 0.5, 0.5, 0.5, 0.5, 0.5, 0.5, 0.5, 0.5, 0.5, 0.50000000000000011, 0.49999999999999989, 0.50000000000000011, 0.5, 0.5, 0.5, 0.5, 0.49999999999999989, 0.5, 0.49999999999999989, 0.5, 0.50000000000000022, 0.5, 0.5, 0.5, 0.5, 0.5, 0.5, 0.33333333333333331, 0.33333333333333331, 0.33333333333333331, 0.33333333333333326, 0.33333333333333337, 0.33333333333333326, 0.33333333333333331, 0.33333333333333331, 0.33333333333333331, 0.33333333333333331, 0.33333333333333331, 0.33333333333333331, 0.33333333333333331, 0.33333333333333331, 0.33333333333333331, 0.33333333333333331, 0.33333333333333337, 0.33333333333333331, 0.33333333333333337, 0.33333333333333331, 0.33333333333333337, 0.33333333333333337, 0.33333333333333331, 0.33333333333333331, 0.33333333333333331, 0.33333333333333331, 0.33333333333333331, 0.33333333333333331, 0.33333333333333331, 0.33333333333333331, 0.33333333333333343, 0.33333333333333331, 0.33333333333333331, 0.33333333333333331, 0.33333333333333331, 0.33333333333333331, 0.33333333333333337, 0.33333333333333326, 0.33333333333333337, 0.33333333333333331, 0.33333333333333331, 0.33333333333333331, 0.33333333333333331, 0.33333333333333326, 0.33333333333333326, 0.33333333333333331, 0.33333333333333337, 0.33333333333333331, 0.33333333333333331, 0.33333333333333331, 0.33333333333333337, 0.33333333333333331, 0.33333333333333331, 0.33333333333333326, 0.33333333333333331, 0.33333333333333331, 0.25, 0.25, 0.25]\n",
        "[ 0.09246001  0.07476166  0.14538101  0.68739732]"
       ]
      },
      {
       "output_type": "stream",
       "stream": "stdout",
       "text": [
        "\n",
        "[ 0.1501524   0.10183867  0.15132408  0.59668485]"
       ]
      },
      {
       "output_type": "stream",
       "stream": "stdout",
       "text": [
        "\n",
        "[ 0.14517651  0.07249508  0.16419063  0.61813777]"
       ]
      },
      {
       "output_type": "stream",
       "stream": "stdout",
       "text": [
        "\n",
        "[ 0.12758851  0.07000839  0.13239132  0.67001178]"
       ]
      },
      {
       "output_type": "stream",
       "stream": "stdout",
       "text": [
        "\n",
        "[ 0.12942754  0.11216073  0.14726791  0.61114382]"
       ]
      },
      {
       "output_type": "stream",
       "stream": "stdout",
       "text": [
        "\n",
        "[ 0.18057559  0.11436226  0.11696518  0.58809698]"
       ]
      },
      {
       "output_type": "stream",
       "stream": "stdout",
       "text": [
        "\n",
        "[ 0.15835075  0.09815369  0.15573503  0.58776053]"
       ]
      },
      {
       "output_type": "stream",
       "stream": "stdout",
       "text": [
        "\n",
        "[ 0.12242688  0.08952194  0.14502984  0.64302134]"
       ]
      },
      {
       "output_type": "stream",
       "stream": "stdout",
       "text": [
        "\n",
        "[ 0.12923864  0.09304888  0.12135119  0.65636128]"
       ]
      },
      {
       "output_type": "stream",
       "stream": "stdout",
       "text": [
        "\n",
        "[ 0.13358737  0.11592572  0.13823592  0.612251  ]"
       ]
      },
      {
       "output_type": "stream",
       "stream": "stdout",
       "text": [
        "\n",
        "[0.5, 0.5, 0.5, 0.5, 0.5, 0.5, 0.5, 0.5, 0.5, 0.5, 0.5, 0.5, 0.5, 0.5, 0.5, 0.5, 0.5, 0.5, 0.5, 0.5, 0.5, 0.5, 0.5, 0.5, 0.5, 0.5, 0.5, 0.5, 0.5, 0.5, 0.5, 0.5, 0.5, 0.5, 0.5, 0.5, 0.5, 0.5, 0.5, 0.5, 0.5, 0.5, 0.5, 0.5, 0.5, 0.5, 0.5, 0.5, 0.5, 0.5, 0.5, 0.5, 0.5, 0.5, 0.5, 0.5, 0.5, 0.5, 0.5, 0.5, 0.5, 0.5, 0.5, 0.5, 0.5, 0.5, 0.5, 0.5, 0.5, 0.5, 0.5, 0.5, 0.5, 0.5, 0.5, 0.5, 0.5, 0.5, 0.5, 0.5, 0.5, 0.5, 0.5, 0.5, 0.5, 0.5, 0.5, 0.5, 0.5, 0.5, 0.5, 0.5, 0.5, 0.5, 0.5, 0.5]"
       ]
      },
      {
       "output_type": "stream",
       "stream": "stdout",
       "text": [
        "\n",
        "[0.035308450180920395, 0.015900278873051947, 0.027606640458033495, 0.020287811471444019, 0.028085748571213369, 0.035450017068918892, 0.0030537699131523133, 0.018801048240551517, 0.0010101978777581351, 0.00050936119312244637, 0.008238681424071536, 0.0036143352597136787, 0.005607800401233284, 0.0025444087200298623, 0.019754369486924619, 0.008088683576243998, 0.0, 0.0077047868625348317, 0.0065852856156395825, 0.0015393751346797165, 0.005668936813507235, 0.0010016733692713726, 0.0065990598011115165, 0.0050674066527983952, 0.0015393751346797165, 0.0066773510107629745, 0.0015127146704332129, 0.0010033534773107617, 0.0025444087200298623, 0.0015127146704332129, 0.020761540704040373, 0.0010385384500440277, 0.0061854044439900308, 0.0010385384500440277, 0.0076763527928345732, 0.0015393751346797165, 0.0025548226894230226, 0.0010101978777581351, 0.0015393751346797213, 0.0005008366846356888, 0.0015393751346797165, 0.0010101978777581351, 0.0010101978777581351, 0.0010300139415572653, 0.00050936119312244637, 0.0015393751346797165, 0.00050936119312244637, 0.0020220758635556592, 0.0010187223862448975, 0.0025444087200298623, 0.0015127146704332129, 0.0040563311891210398, 0.0010385384500440277, 0.0040760618683429806, 0.00050936119312244637, 0.0025366867336632723, 0.0015393751346797165, 0.0015308506261929541, 0.0050948696391650674, 0.0050810954536931333, 0.0010016733692713726, 0.0041208482133005854, 0.0, 0.0005008366846356888, 0.0015393751346797165, 0.00052917725692158137, 0.0035417203190134224, 0.0010583545138431627, 0.0036045572351535793, 0.0005008366846356888, 0.0046483453621827594, 0.0010300139415572701, 0.0010016733692713726, 0.0015308506261929541, 0.0015393751346797165, 0.0005008366846356888, 0.0060828542075416917, 0.0005008366846356888, 0.0056318827756944041, 0.0005008366846356888, 0.0040985495193418897, 0.0010300139415572701, 0.0020273255405408351, 0.0015393751346797165, 0.0015127146704332129, 0.0010385384500440277, 0.00050936119312245125, 0.0015393751346797165, 0.0, 0.0076763527928345732, 0.0010385384500440277, 0.0010385384500440277, 0.0005008366846356888, 0.0, 0.0005008366846356888, 0.0010101978777581351]\n",
        "[1.0, 1.0, 1.0, 1.0, 1.0, 1.0, 1.0, 1.0, 0.5, 0.5, 0.5, 0.5, 0.5, 0.5, 0.5, 0.5, 0.5, 0.5, 0.50000000000000011, 0.49999999999999989, 0.50000000000000011, 0.5, 0.5, 0.5, 0.5, 0.49999999999999989, 0.5, 0.49999999999999989, 0.5, 0.50000000000000022, 0.5, 0.5, 0.5, 0.5, 0.5, 0.5, 0.33333333333333331, 0.33333333333333331, 0.33333333333333331, 0.33333333333333326, 0.33333333333333337, 0.33333333333333326, 0.33333333333333331, 0.33333333333333331, 0.33333333333333331, 0.33333333333333331, 0.33333333333333331, 0.33333333333333331, 0.33333333333333331, 0.33333333333333331, 0.33333333333333331, 0.33333333333333331, 0.33333333333333337, 0.33333333333333331, 0.33333333333333337, 0.33333333333333331, 0.33333333333333337, 0.33333333333333337, 0.33333333333333331, 0.33333333333333331, 0.33333333333333331, 0.33333333333333331, 0.33333333333333331, 0.33333333333333331, 0.33333333333333331, 0.33333333333333331, 0.33333333333333343, 0.33333333333333331, 0.33333333333333331, 0.33333333333333331, 0.33333333333333331, 0.33333333333333331, 0.33333333333333337, 0.33333333333333326, 0.33333333333333337, 0.33333333333333331, 0.33333333333333331, 0.33333333333333331, 0.33333333333333331, 0.33333333333333326, 0.33333333333333326, 0.33333333333333331, 0.33333333333333337, 0.33333333333333331, 0.33333333333333331, 0.33333333333333331, 0.33333333333333337, 0.33333333333333331, 0.33333333333333331, 0.33333333333333326, 0.33333333333333331, 0.33333333333333331, 0.25, 0.25, 0.25, 0.25]\n",
        "[ 0.32932585  0.21391505  0.32238449  0.13437461]"
       ]
      },
      {
       "output_type": "stream",
       "stream": "stdout",
       "text": [
        "\n",
        "[ 0.41709144  0.18694775  0.28477191  0.1111889 ]"
       ]
      },
      {
       "output_type": "stream",
       "stream": "stdout",
       "text": [
        "\n",
        "[ 0.42342083  0.19859264  0.27148253  0.10650399]"
       ]
      },
      {
       "output_type": "stream",
       "stream": "stdout",
       "text": [
        "\n",
        "[ 0.37232054  0.2356291   0.27662596  0.1154244 ]"
       ]
      },
      {
       "output_type": "stream",
       "stream": "stdout",
       "text": [
        "\n",
        "[ 0.37878282  0.19877733  0.30182692  0.12061293]"
       ]
      },
      {
       "output_type": "stream",
       "stream": "stdout",
       "text": [
        "\n",
        "[ 0.42610542  0.16126511  0.30910852  0.10352095]"
       ]
      },
      {
       "output_type": "stream",
       "stream": "stdout",
       "text": [
        "\n",
        "[ 0.38339568  0.18039292  0.31602407  0.12018733]"
       ]
      },
      {
       "output_type": "stream",
       "stream": "stdout",
       "text": [
        "\n",
        "[ 0.40372989  0.19536501  0.28860401  0.11230108]"
       ]
      },
      {
       "output_type": "stream",
       "stream": "stdout",
       "text": [
        "\n",
        "[ 0.4051727   0.18075471  0.30662031  0.10745228]"
       ]
      },
      {
       "output_type": "stream",
       "stream": "stdout",
       "text": [
        "\n",
        "[ 0.37360339  0.23568993  0.28520005  0.10550663]"
       ]
      },
      {
       "output_type": "stream",
       "stream": "stdout",
       "text": [
        "\n",
        "[0.5, 0.5, 0.5, 0.5, 0.5, 0.5, 0.5, 0.5, 0.5, 0.5, 0.5, 0.5, 0.5, 0.5, 0.5, 0.5, 0.5, 0.5, 0.5, 0.5, 0.5, 0.5, 0.5, 0.5, 0.5, 0.5, 0.5, 0.5, 0.5, 0.5, 0.5, 0.5, 0.5, 0.5, 0.5, 0.5, 0.5, 0.5, 0.5, 0.5, 0.5, 0.5, 0.5, 0.5, 0.5, 0.5, 0.5, 0.5, 0.5, 0.5, 0.5, 0.5, 0.5, 0.5, 0.5, 0.5, 0.5, 0.5, 0.5, 0.5, 0.5, 0.5, 0.5, 0.5, 0.5, 0.5, 0.5, 0.5, 0.5, 0.5, 0.5, 0.5, 0.5, 0.5, 0.5, 0.5, 0.5, 0.5, 0.5, 0.5, 0.5, 0.5, 0.5, 0.5, 0.5, 0.5, 0.5, 0.5, 0.5, 0.5, 0.5, 0.5, 0.5, 0.5, 0.5, 0.5, 0.5]"
       ]
      },
      {
       "output_type": "stream",
       "stream": "stdout",
       "text": [
        "\n",
        "[0.035308450180920395, 0.015900278873051947, 0.027606640458033495, 0.020287811471444019, 0.028085748571213369, 0.035450017068918892, 0.0030537699131523133, 0.018801048240551517, 0.0010101978777581351, 0.00050936119312244637, 0.008238681424071536, 0.0036143352597136787, 0.005607800401233284, 0.0025444087200298623, 0.019754369486924619, 0.008088683576243998, 0.0, 0.0077047868625348317, 0.0065852856156395825, 0.0015393751346797165, 0.005668936813507235, 0.0010016733692713726, 0.0065990598011115165, 0.0050674066527983952, 0.0015393751346797165, 0.0066773510107629745, 0.0015127146704332129, 0.0010033534773107617, 0.0025444087200298623, 0.0015127146704332129, 0.020761540704040373, 0.0010385384500440277, 0.0061854044439900308, 0.0010385384500440277, 0.0076763527928345732, 0.0015393751346797165, 0.0025548226894230226, 0.0010101978777581351, 0.0015393751346797213, 0.0005008366846356888, 0.0015393751346797165, 0.0010101978777581351, 0.0010101978777581351, 0.0010300139415572653, 0.00050936119312244637, 0.0015393751346797165, 0.00050936119312244637, 0.0020220758635556592, 0.0010187223862448975, 0.0025444087200298623, 0.0015127146704332129, 0.0040563311891210398, 0.0010385384500440277, 0.0040760618683429806, 0.00050936119312244637, 0.0025366867336632723, 0.0015393751346797165, 0.0015308506261929541, 0.0050948696391650674, 0.0050810954536931333, 0.0010016733692713726, 0.0041208482133005854, 0.0, 0.0005008366846356888, 0.0015393751346797165, 0.00052917725692158137, 0.0035417203190134224, 0.0010583545138431627, 0.0036045572351535793, 0.0005008366846356888, 0.0046483453621827594, 0.0010300139415572701, 0.0010016733692713726, 0.0015308506261929541, 0.0015393751346797165, 0.0005008366846356888, 0.0060828542075416917, 0.0005008366846356888, 0.0056318827756944041, 0.0005008366846356888, 0.0040985495193418897, 0.0010300139415572701, 0.0020273255405408351, 0.0015393751346797165, 0.0015127146704332129, 0.0010385384500440277, 0.00050936119312245125, 0.0015393751346797165, 0.0, 0.0076763527928345732, 0.0010385384500440277, 0.0010385384500440277, 0.0005008366846356888, 0.0, 0.0005008366846356888, 0.0010101978777581351, 0.0005008366846356888]\n",
        "[1.0, 1.0, 1.0, 1.0, 1.0, 1.0, 1.0, 1.0, 0.5, 0.5, 0.5, 0.5, 0.5, 0.5, 0.5, 0.5, 0.5, 0.5, 0.50000000000000011, 0.49999999999999989, 0.50000000000000011, 0.5, 0.5, 0.5, 0.5, 0.49999999999999989, 0.5, 0.49999999999999989, 0.5, 0.50000000000000022, 0.5, 0.5, 0.5, 0.5, 0.5, 0.5, 0.33333333333333331, 0.33333333333333331, 0.33333333333333331, 0.33333333333333326, 0.33333333333333337, 0.33333333333333326, 0.33333333333333331, 0.33333333333333331, 0.33333333333333331, 0.33333333333333331, 0.33333333333333331, 0.33333333333333331, 0.33333333333333331, 0.33333333333333331, 0.33333333333333331, 0.33333333333333331, 0.33333333333333337, 0.33333333333333331, 0.33333333333333337, 0.33333333333333331, 0.33333333333333337, 0.33333333333333337, 0.33333333333333331, 0.33333333333333331, 0.33333333333333331, 0.33333333333333331, 0.33333333333333331, 0.33333333333333331, 0.33333333333333331, 0.33333333333333331, 0.33333333333333343, 0.33333333333333331, 0.33333333333333331, 0.33333333333333331, 0.33333333333333331, 0.33333333333333331, 0.33333333333333337, 0.33333333333333326, 0.33333333333333337, 0.33333333333333331, 0.33333333333333331, 0.33333333333333331, 0.33333333333333331, 0.33333333333333326, 0.33333333333333326, 0.33333333333333331, 0.33333333333333337, 0.33333333333333331, 0.33333333333333331, 0.33333333333333331, 0.33333333333333337, 0.33333333333333331, 0.33333333333333331, 0.33333333333333326, 0.33333333333333331, 0.33333333333333331, 0.25, 0.25, 0.25, 0.25, 0.25]\n",
        "[ 0.1923493   0.30434912  0.43742514  0.06587644]"
       ]
      },
      {
       "output_type": "stream",
       "stream": "stdout",
       "text": [
        "\n",
        "[ 0.1293962   0.25284454  0.52463737  0.0931219 ]"
       ]
      },
      {
       "output_type": "stream",
       "stream": "stdout",
       "text": [
        "\n",
        "[ 0.20634346  0.23565251  0.45024604  0.10775799]"
       ]
      },
      {
       "output_type": "stream",
       "stream": "stdout",
       "text": [
        "\n",
        "[ 0.16031987  0.23396685  0.49887945  0.10683382]"
       ]
      },
      {
       "output_type": "stream",
       "stream": "stdout",
       "text": [
        "\n",
        "[ 0.14520065  0.23772439  0.51485049  0.10222446]"
       ]
      },
      {
       "output_type": "stream",
       "stream": "stdout",
       "text": [
        "\n",
        "[ 0.20374095  0.20786334  0.47630679  0.11208893]"
       ]
      },
      {
       "output_type": "stream",
       "stream": "stdout",
       "text": [
        "\n",
        "[ 0.17908959  0.21549543  0.49000673  0.11540825]"
       ]
      },
      {
       "output_type": "stream",
       "stream": "stdout",
       "text": [
        "\n",
        "[ 0.15417671  0.24094268  0.49232071  0.1125599 ]"
       ]
      },
      {
       "output_type": "stream",
       "stream": "stdout",
       "text": [
        "\n",
        "[ 0.14866329  0.22138271  0.49757094  0.13238307]"
       ]
      },
      {
       "output_type": "stream",
       "stream": "stdout",
       "text": [
        "\n",
        "[ 0.12664075  0.26706827  0.48588882  0.12040216]"
       ]
      },
      {
       "output_type": "stream",
       "stream": "stdout",
       "text": [
        "\n",
        "[0.5, 0.5, 0.5, 0.5, 0.5, 0.5, 0.5, 0.5, 0.5, 0.5, 0.5, 0.5, 0.5, 0.5, 0.5, 0.5, 0.5, 0.5, 0.5, 0.5, 0.5, 0.5, 0.5, 0.5, 0.5, 0.5, 0.5, 0.5, 0.5, 0.5, 0.5, 0.5, 0.5, 0.5, 0.5, 0.5, 0.5, 0.5, 0.5, 0.5, 0.5, 0.5, 0.5, 0.5, 0.5, 0.5, 0.5, 0.5, 0.5, 0.5, 0.5, 0.5, 0.5, 0.5, 0.5, 0.5, 0.5, 0.5, 0.5, 0.5, 0.5, 0.5, 0.5, 0.5, 0.5, 0.5, 0.5, 0.5, 0.5, 0.5, 0.5, 0.5, 0.5, 0.5, 0.5, 0.5, 0.5, 0.5, 0.5, 0.5, 0.5, 0.5, 0.5, 0.5, 0.5, 0.5, 0.5, 0.5, 0.5, 0.5, 0.5, 0.5, 0.5, 0.5, 0.5, 0.5, 0.5, 0.5]"
       ]
      },
      {
       "output_type": "stream",
       "stream": "stdout",
       "text": [
        "\n",
        "[0.035308450180920395, 0.015900278873051947, 0.027606640458033495, 0.020287811471444019, 0.028085748571213369, 0.035450017068918892, 0.0030537699131523133, 0.018801048240551517, 0.0010101978777581351, 0.00050936119312244637, 0.008238681424071536, 0.0036143352597136787, 0.005607800401233284, 0.0025444087200298623, 0.019754369486924619, 0.008088683576243998, 0.0, 0.0077047868625348317, 0.0065852856156395825, 0.0015393751346797165, 0.005668936813507235, 0.0010016733692713726, 0.0065990598011115165, 0.0050674066527983952, 0.0015393751346797165, 0.0066773510107629745, 0.0015127146704332129, 0.0010033534773107617, 0.0025444087200298623, 0.0015127146704332129, 0.020761540704040373, 0.0010385384500440277, 0.0061854044439900308, 0.0010385384500440277, 0.0076763527928345732, 0.0015393751346797165, 0.0025548226894230226, 0.0010101978777581351, 0.0015393751346797213, 0.0005008366846356888, 0.0015393751346797165, 0.0010101978777581351, 0.0010101978777581351, 0.0010300139415572653, 0.00050936119312244637, 0.0015393751346797165, 0.00050936119312244637, 0.0020220758635556592, 0.0010187223862448975, 0.0025444087200298623, 0.0015127146704332129, 0.0040563311891210398, 0.0010385384500440277, 0.0040760618683429806, 0.00050936119312244637, 0.0025366867336632723, 0.0015393751346797165, 0.0015308506261929541, 0.0050948696391650674, 0.0050810954536931333, 0.0010016733692713726, 0.0041208482133005854, 0.0, 0.0005008366846356888, 0.0015393751346797165, 0.00052917725692158137, 0.0035417203190134224, 0.0010583545138431627, 0.0036045572351535793, 0.0005008366846356888, 0.0046483453621827594, 0.0010300139415572701, 0.0010016733692713726, 0.0015308506261929541, 0.0015393751346797165, 0.0005008366846356888, 0.0060828542075416917, 0.0005008366846356888, 0.0056318827756944041, 0.0005008366846356888, 0.0040985495193418897, 0.0010300139415572701, 0.0020273255405408351, 0.0015393751346797165, 0.0015127146704332129, 0.0010385384500440277, 0.00050936119312245125, 0.0015393751346797165, 0.0, 0.0076763527928345732, 0.0010385384500440277, 0.0010385384500440277, 0.0005008366846356888, 0.0, 0.0005008366846356888, 0.0010101978777581351, 0.0005008366846356888, 0.0005008366846356888]\n",
        "[1.0, 1.0, 1.0, 1.0, 1.0, 1.0, 1.0, 1.0, 0.5, 0.5, 0.5, 0.5, 0.5, 0.5, 0.5, 0.5, 0.5, 0.5, 0.50000000000000011, 0.49999999999999989, 0.50000000000000011, 0.5, 0.5, 0.5, 0.5, 0.49999999999999989, 0.5, 0.49999999999999989, 0.5, 0.50000000000000022, 0.5, 0.5, 0.5, 0.5, 0.5, 0.5, 0.33333333333333331, 0.33333333333333331, 0.33333333333333331, 0.33333333333333326, 0.33333333333333337, 0.33333333333333326, 0.33333333333333331, 0.33333333333333331, 0.33333333333333331, 0.33333333333333331, 0.33333333333333331, 0.33333333333333331, 0.33333333333333331, 0.33333333333333331, 0.33333333333333331, 0.33333333333333331, 0.33333333333333337, 0.33333333333333331, 0.33333333333333337, 0.33333333333333331, 0.33333333333333337, 0.33333333333333337, 0.33333333333333331, 0.33333333333333331, 0.33333333333333331, 0.33333333333333331, 0.33333333333333331, 0.33333333333333331, 0.33333333333333331, 0.33333333333333331, 0.33333333333333343, 0.33333333333333331, 0.33333333333333331, 0.33333333333333331, 0.33333333333333331, 0.33333333333333331, 0.33333333333333337, 0.33333333333333326, 0.33333333333333337, 0.33333333333333331, 0.33333333333333331, 0.33333333333333331, 0.33333333333333331, 0.33333333333333326, 0.33333333333333326, 0.33333333333333331, 0.33333333333333337, 0.33333333333333331, 0.33333333333333331, 0.33333333333333331, 0.33333333333333337, 0.33333333333333331, 0.33333333333333331, 0.33333333333333326, 0.33333333333333331, 0.33333333333333331, 0.25, 0.25, 0.25, 0.25, 0.25, 0.25]\n",
        "[ 0.1848127   0.28605695  0.42986347  0.09926688]"
       ]
      },
      {
       "output_type": "stream",
       "stream": "stdout",
       "text": [
        "\n",
        "[ 0.2041708   0.26091414  0.44629693  0.08861813]"
       ]
      },
      {
       "output_type": "stream",
       "stream": "stdout",
       "text": [
        "\n",
        "[ 0.15972551  0.24073522  0.49206385  0.10747542]"
       ]
      },
      {
       "output_type": "stream",
       "stream": "stdout",
       "text": [
        "\n",
        "[ 0.1538444   0.27729504  0.46814515  0.10071542]"
       ]
      },
      {
       "output_type": "stream",
       "stream": "stdout",
       "text": [
        "\n",
        "[ 0.17056183  0.24457146  0.46935871  0.115508  ]"
       ]
      },
      {
       "output_type": "stream",
       "stream": "stdout",
       "text": [
        "\n",
        "[ 0.196845    0.238184    0.47336702  0.09160398]"
       ]
      },
      {
       "output_type": "stream",
       "stream": "stdout",
       "text": [
        "\n",
        "[ 0.18411917  0.25457684  0.45647375  0.10483024]"
       ]
      },
      {
       "output_type": "stream",
       "stream": "stdout",
       "text": [
        "\n",
        "[ 0.15201729  0.22727302  0.47467504  0.14603465]"
       ]
      },
      {
       "output_type": "stream",
       "stream": "stdout",
       "text": [
        "\n",
        "[ 0.1505229   0.24187453  0.49452858  0.11307398]"
       ]
      },
      {
       "output_type": "stream",
       "stream": "stdout",
       "text": [
        "\n",
        "[ 0.15103741  0.25847428  0.45031226  0.14017605]"
       ]
      },
      {
       "output_type": "stream",
       "stream": "stdout",
       "text": [
        "\n",
        "[0.5, 0.5, 0.5, 0.5, 0.5, 0.5, 0.5, 0.5, 0.5, 0.5, 0.5, 0.5, 0.5, 0.5, 0.5, 0.5, 0.5, 0.5, 0.5, 0.5, 0.5, 0.5, 0.5, 0.5, 0.5, 0.5, 0.5, 0.5, 0.5, 0.5, 0.5, 0.5, 0.5, 0.5, 0.5, 0.5, 0.5, 0.5, 0.5, 0.5, 0.5, 0.5, 0.5, 0.5, 0.5, 0.5, 0.5, 0.5, 0.5, 0.5, 0.5, 0.5, 0.5, 0.5, 0.5, 0.5, 0.5, 0.5, 0.5, 0.5, 0.5, 0.5, 0.5, 0.5, 0.5, 0.5, 0.5, 0.5, 0.5, 0.5, 0.5, 0.5, 0.5, 0.5, 0.5, 0.5, 0.5, 0.5, 0.5, 0.5, 0.5, 0.5, 0.5, 0.5, 0.5, 0.5, 0.5, 0.5, 0.5, 0.5, 0.5, 0.5, 0.5, 0.5, 0.5, 0.5, 0.5, 0.5, 0.5]"
       ]
      },
      {
       "output_type": "stream",
       "stream": "stdout",
       "text": [
        "\n",
        "[0.035308450180920395, 0.015900278873051947, 0.027606640458033495, 0.020287811471444019, 0.028085748571213369, 0.035450017068918892, 0.0030537699131523133, 0.018801048240551517, 0.0010101978777581351, 0.00050936119312244637, 0.008238681424071536, 0.0036143352597136787, 0.005607800401233284, 0.0025444087200298623, 0.019754369486924619, 0.008088683576243998, 0.0, 0.0077047868625348317, 0.0065852856156395825, 0.0015393751346797165, 0.005668936813507235, 0.0010016733692713726, 0.0065990598011115165, 0.0050674066527983952, 0.0015393751346797165, 0.0066773510107629745, 0.0015127146704332129, 0.0010033534773107617, 0.0025444087200298623, 0.0015127146704332129, 0.020761540704040373, 0.0010385384500440277, 0.0061854044439900308, 0.0010385384500440277, 0.0076763527928345732, 0.0015393751346797165, 0.0025548226894230226, 0.0010101978777581351, 0.0015393751346797213, 0.0005008366846356888, 0.0015393751346797165, 0.0010101978777581351, 0.0010101978777581351, 0.0010300139415572653, 0.00050936119312244637, 0.0015393751346797165, 0.00050936119312244637, 0.0020220758635556592, 0.0010187223862448975, 0.0025444087200298623, 0.0015127146704332129, 0.0040563311891210398, 0.0010385384500440277, 0.0040760618683429806, 0.00050936119312244637, 0.0025366867336632723, 0.0015393751346797165, 0.0015308506261929541, 0.0050948696391650674, 0.0050810954536931333, 0.0010016733692713726, 0.0041208482133005854, 0.0, 0.0005008366846356888, 0.0015393751346797165, 0.00052917725692158137, 0.0035417203190134224, 0.0010583545138431627, 0.0036045572351535793, 0.0005008366846356888, 0.0046483453621827594, 0.0010300139415572701, 0.0010016733692713726, 0.0015308506261929541, 0.0015393751346797165, 0.0005008366846356888, 0.0060828542075416917, 0.0005008366846356888, 0.0056318827756944041, 0.0005008366846356888, 0.0040985495193418897, 0.0010300139415572701, 0.0020273255405408351, 0.0015393751346797165, 0.0015127146704332129, 0.0010385384500440277, 0.00050936119312245125, 0.0015393751346797165, 0.0, 0.0076763527928345732, 0.0010385384500440277, 0.0010385384500440277, 0.0005008366846356888, 0.0, 0.0005008366846356888, 0.0010101978777581351, 0.0005008366846356888, 0.0005008366846356888, 0.0005008366846356888]\n",
        "[1.0, 1.0, 1.0, 1.0, 1.0, 1.0, 1.0, 1.0, 0.5, 0.5, 0.5, 0.5, 0.5, 0.5, 0.5, 0.5, 0.5, 0.5, 0.50000000000000011, 0.49999999999999989, 0.50000000000000011, 0.5, 0.5, 0.5, 0.5, 0.49999999999999989, 0.5, 0.49999999999999989, 0.5, 0.50000000000000022, 0.5, 0.5, 0.5, 0.5, 0.5, 0.5, 0.33333333333333331, 0.33333333333333331, 0.33333333333333331, 0.33333333333333326, 0.33333333333333337, 0.33333333333333326, 0.33333333333333331, 0.33333333333333331, 0.33333333333333331, 0.33333333333333331, 0.33333333333333331, 0.33333333333333331, 0.33333333333333331, 0.33333333333333331, 0.33333333333333331, 0.33333333333333331, 0.33333333333333337, 0.33333333333333331, 0.33333333333333337, 0.33333333333333331, 0.33333333333333337, 0.33333333333333337, 0.33333333333333331, 0.33333333333333331, 0.33333333333333331, 0.33333333333333331, 0.33333333333333331, 0.33333333333333331, 0.33333333333333331, 0.33333333333333331, 0.33333333333333343, 0.33333333333333331, 0.33333333333333331, 0.33333333333333331, 0.33333333333333331, 0.33333333333333331, 0.33333333333333337, 0.33333333333333326, 0.33333333333333337, 0.33333333333333331, 0.33333333333333331, 0.33333333333333331, 0.33333333333333331, 0.33333333333333326, 0.33333333333333326, 0.33333333333333331, 0.33333333333333337, 0.33333333333333331, 0.33333333333333331, 0.33333333333333331, 0.33333333333333337, 0.33333333333333331, 0.33333333333333331, 0.33333333333333326, 0.33333333333333331, 0.33333333333333331, 0.25, 0.25, 0.25, 0.25, 0.25, 0.25, 0.25]\n",
        "[ 0.03676905  0.14159278  0.28372104  0.53791712]"
       ]
      },
      {
       "output_type": "stream",
       "stream": "stdout",
       "text": [
        "\n",
        "[ 0.06519319  0.14269283  0.26192246  0.53019152]"
       ]
      },
      {
       "output_type": "stream",
       "stream": "stdout",
       "text": [
        "\n",
        "[ 0.05126358  0.11230609  0.27526497  0.56116536]"
       ]
      },
      {
       "output_type": "stream",
       "stream": "stdout",
       "text": [
        "\n",
        "[ 0.03628836  0.11561146  0.21015971  0.63794047]"
       ]
      },
      {
       "output_type": "stream",
       "stream": "stdout",
       "text": [
        "\n",
        "[ 0.03018345  0.13603574  0.30485881  0.528922  ]"
       ]
      },
      {
       "output_type": "stream",
       "stream": "stdout",
       "text": [
        "\n",
        "[ 0.06844184  0.10227028  0.28123939  0.54804849]"
       ]
      },
      {
       "output_type": "stream",
       "stream": "stdout",
       "text": [
        "\n",
        "[ 0.04674847  0.11923539  0.27238319  0.56163295]"
       ]
      },
      {
       "output_type": "stream",
       "stream": "stdout",
       "text": [
        "\n",
        "[ 0.04519051  0.15050069  0.256699    0.54760981]"
       ]
      },
      {
       "output_type": "stream",
       "stream": "stdout",
       "text": [
        "\n",
        "[ 0.04554507  0.12274218  0.19992967  0.63178308]"
       ]
      },
      {
       "output_type": "stream",
       "stream": "stdout",
       "text": [
        "\n",
        "[ 0.06463738  0.13208742  0.24964299  0.55363222]"
       ]
      },
      {
       "output_type": "stream",
       "stream": "stdout",
       "text": [
        "\n",
        "[0.5, 0.5, 0.5, 0.5, 0.5, 0.5, 0.5, 0.5, 0.5, 0.5, 0.5, 0.5, 0.5, 0.5, 0.5, 0.5, 0.5, 0.5, 0.5, 0.5, 0.5, 0.5, 0.5, 0.5, 0.5, 0.5, 0.5, 0.5, 0.5, 0.5, 0.5, 0.5, 0.5, 0.5, 0.5, 0.5, 0.5, 0.5, 0.5, 0.5, 0.5, 0.5, 0.5, 0.5, 0.5, 0.5, 0.5, 0.5, 0.5, 0.5, 0.5, 0.5, 0.5, 0.5, 0.5, 0.5, 0.5, 0.5, 0.5, 0.5, 0.5, 0.5, 0.5, 0.5, 0.5, 0.5, 0.5, 0.5, 0.5, 0.5, 0.5, 0.5, 0.5, 0.5, 0.5, 0.5, 0.5, 0.5, 0.5, 0.5, 0.5, 0.5, 0.5, 0.5, 0.5, 0.5, 0.5, 0.5, 0.5, 0.5, 0.5, 0.5, 0.5, 0.5, 0.5, 0.5, 0.5, 0.5, 0.5, 0.5]"
       ]
      },
      {
       "output_type": "stream",
       "stream": "stdout",
       "text": [
        "\n",
        "[0.035308450180920395, 0.015900278873051947, 0.027606640458033495, 0.020287811471444019, 0.028085748571213369, 0.035450017068918892, 0.0030537699131523133, 0.018801048240551517, 0.0010101978777581351, 0.00050936119312244637, 0.008238681424071536, 0.0036143352597136787, 0.005607800401233284, 0.0025444087200298623, 0.019754369486924619, 0.008088683576243998, 0.0, 0.0077047868625348317, 0.0065852856156395825, 0.0015393751346797165, 0.005668936813507235, 0.0010016733692713726, 0.0065990598011115165, 0.0050674066527983952, 0.0015393751346797165, 0.0066773510107629745, 0.0015127146704332129, 0.0010033534773107617, 0.0025444087200298623, 0.0015127146704332129, 0.020761540704040373, 0.0010385384500440277, 0.0061854044439900308, 0.0010385384500440277, 0.0076763527928345732, 0.0015393751346797165, 0.0025548226894230226, 0.0010101978777581351, 0.0015393751346797213, 0.0005008366846356888, 0.0015393751346797165, 0.0010101978777581351, 0.0010101978777581351, 0.0010300139415572653, 0.00050936119312244637, 0.0015393751346797165, 0.00050936119312244637, 0.0020220758635556592, 0.0010187223862448975, 0.0025444087200298623, 0.0015127146704332129, 0.0040563311891210398, 0.0010385384500440277, 0.0040760618683429806, 0.00050936119312244637, 0.0025366867336632723, 0.0015393751346797165, 0.0015308506261929541, 0.0050948696391650674, 0.0050810954536931333, 0.0010016733692713726, 0.0041208482133005854, 0.0, 0.0005008366846356888, 0.0015393751346797165, 0.00052917725692158137, 0.0035417203190134224, 0.0010583545138431627, 0.0036045572351535793, 0.0005008366846356888, 0.0046483453621827594, 0.0010300139415572701, 0.0010016733692713726, 0.0015308506261929541, 0.0015393751346797165, 0.0005008366846356888, 0.0060828542075416917, 0.0005008366846356888, 0.0056318827756944041, 0.0005008366846356888, 0.0040985495193418897, 0.0010300139415572701, 0.0020273255405408351, 0.0015393751346797165, 0.0015127146704332129, 0.0010385384500440277, 0.00050936119312245125, 0.0015393751346797165, 0.0, 0.0076763527928345732, 0.0010385384500440277, 0.0010385384500440277, 0.0005008366846356888, 0.0, 0.0005008366846356888, 0.0010101978777581351, 0.0005008366846356888, 0.0005008366846356888, 0.0005008366846356888, 0.0015393751346797165]\n",
        "[1.0, 1.0, 1.0, 1.0, 1.0, 1.0, 1.0, 1.0, 0.5, 0.5, 0.5, 0.5, 0.5, 0.5, 0.5, 0.5, 0.5, 0.5, 0.50000000000000011, 0.49999999999999989, 0.50000000000000011, 0.5, 0.5, 0.5, 0.5, 0.49999999999999989, 0.5, 0.49999999999999989, 0.5, 0.50000000000000022, 0.5, 0.5, 0.5, 0.5, 0.5, 0.5, 0.33333333333333331, 0.33333333333333331, 0.33333333333333331, 0.33333333333333326, 0.33333333333333337, 0.33333333333333326, 0.33333333333333331, 0.33333333333333331, 0.33333333333333331, 0.33333333333333331, 0.33333333333333331, 0.33333333333333331, 0.33333333333333331, 0.33333333333333331, 0.33333333333333331, 0.33333333333333331, 0.33333333333333337, 0.33333333333333331, 0.33333333333333337, 0.33333333333333331, 0.33333333333333337, 0.33333333333333337, 0.33333333333333331, 0.33333333333333331, 0.33333333333333331, 0.33333333333333331, 0.33333333333333331, 0.33333333333333331, 0.33333333333333331, 0.33333333333333331, 0.33333333333333343, 0.33333333333333331, 0.33333333333333331, 0.33333333333333331, 0.33333333333333331, 0.33333333333333331, 0.33333333333333337, 0.33333333333333326, 0.33333333333333337, 0.33333333333333331, 0.33333333333333331, 0.33333333333333331, 0.33333333333333331, 0.33333333333333326, 0.33333333333333326, 0.33333333333333331, 0.33333333333333337, 0.33333333333333331, 0.33333333333333331, 0.33333333333333331, 0.33333333333333337, 0.33333333333333331, 0.33333333333333331, 0.33333333333333326, 0.33333333333333331, 0.33333333333333331, 0.25, 0.25, 0.25, 0.25, 0.25, 0.25, 0.25, 0.25]\n",
        "[ 0.16465269  0.30466549  0.46920502  0.06147679]"
       ]
      },
      {
       "output_type": "stream",
       "stream": "stdout",
       "text": [
        "\n",
        "[ 0.17921988  0.27955346  0.4571553   0.08407135]"
       ]
      },
      {
       "output_type": "stream",
       "stream": "stdout",
       "text": [
        "\n",
        "[ 0.18936325  0.26129625  0.47249924  0.07684126]"
       ]
      },
      {
       "output_type": "stream",
       "stream": "stdout",
       "text": [
        "\n",
        "[ 0.14552909  0.28812429  0.49265256  0.07369406]"
       ]
      },
      {
       "output_type": "stream",
       "stream": "stdout",
       "text": [
        "\n",
        "[ 0.19229177  0.25559983  0.46894546  0.08316294]"
       ]
      },
      {
       "output_type": "stream",
       "stream": "stdout",
       "text": [
        "\n",
        "[ 0.16425447  0.24600706  0.51702424  0.07271424]"
       ]
      },
      {
       "output_type": "stream",
       "stream": "stdout",
       "text": [
        "\n",
        "[ 0.17100827  0.30809832  0.45852008  0.06237334]"
       ]
      },
      {
       "output_type": "stream",
       "stream": "stdout",
       "text": [
        "\n",
        "[ 0.19409384  0.28619388  0.42297642  0.09673586]"
       ]
      },
      {
       "output_type": "stream",
       "stream": "stdout",
       "text": [
        "\n",
        "[ 0.17291767  0.28544082  0.46123832  0.08040318]"
       ]
      },
      {
       "output_type": "stream",
       "stream": "stdout",
       "text": [
        "\n",
        "[ 0.15669745  0.28960389  0.4607014   0.09299726]"
       ]
      },
      {
       "output_type": "stream",
       "stream": "stdout",
       "text": [
        "\n",
        "[0.5, 0.5, 0.5, 0.5, 0.5, 0.5, 0.5, 0.5, 0.5, 0.5, 0.5, 0.5, 0.5, 0.5, 0.5, 0.5, 0.5, 0.5, 0.5, 0.5, 0.5, 0.5, 0.5, 0.5, 0.5, 0.5, 0.5, 0.5, 0.5, 0.5, 0.5, 0.5, 0.5, 0.5, 0.5, 0.5, 0.5, 0.5, 0.5, 0.5, 0.5, 0.5, 0.5, 0.5, 0.5, 0.5, 0.5, 0.5, 0.5, 0.5, 0.5, 0.5, 0.5, 0.5, 0.5, 0.5, 0.5, 0.5, 0.5, 0.5, 0.5, 0.5, 0.5, 0.5, 0.5, 0.5, 0.5, 0.5, 0.5, 0.5, 0.5, 0.5, 0.5, 0.5, 0.5, 0.5, 0.5, 0.5, 0.5, 0.5, 0.5, 0.5, 0.5, 0.5, 0.5, 0.5, 0.5, 0.5, 0.5, 0.5, 0.5, 0.5, 0.5, 0.5, 0.5, 0.5, 0.5, 0.5, 0.5, 0.5, 0.5]"
       ]
      },
      {
       "output_type": "stream",
       "stream": "stdout",
       "text": [
        "\n",
        "[0.035308450180920395, 0.015900278873051947, 0.027606640458033495, 0.020287811471444019, 0.028085748571213369, 0.035450017068918892, 0.0030537699131523133, 0.018801048240551517, 0.0010101978777581351, 0.00050936119312244637, 0.008238681424071536, 0.0036143352597136787, 0.005607800401233284, 0.0025444087200298623, 0.019754369486924619, 0.008088683576243998, 0.0, 0.0077047868625348317, 0.0065852856156395825, 0.0015393751346797165, 0.005668936813507235, 0.0010016733692713726, 0.0065990598011115165, 0.0050674066527983952, 0.0015393751346797165, 0.0066773510107629745, 0.0015127146704332129, 0.0010033534773107617, 0.0025444087200298623, 0.0015127146704332129, 0.020761540704040373, 0.0010385384500440277, 0.0061854044439900308, 0.0010385384500440277, 0.0076763527928345732, 0.0015393751346797165, 0.0025548226894230226, 0.0010101978777581351, 0.0015393751346797213, 0.0005008366846356888, 0.0015393751346797165, 0.0010101978777581351, 0.0010101978777581351, 0.0010300139415572653, 0.00050936119312244637, 0.0015393751346797165, 0.00050936119312244637, 0.0020220758635556592, 0.0010187223862448975, 0.0025444087200298623, 0.0015127146704332129, 0.0040563311891210398, 0.0010385384500440277, 0.0040760618683429806, 0.00050936119312244637, 0.0025366867336632723, 0.0015393751346797165, 0.0015308506261929541, 0.0050948696391650674, 0.0050810954536931333, 0.0010016733692713726, 0.0041208482133005854, 0.0, 0.0005008366846356888, 0.0015393751346797165, 0.00052917725692158137, 0.0035417203190134224, 0.0010583545138431627, 0.0036045572351535793, 0.0005008366846356888, 0.0046483453621827594, 0.0010300139415572701, 0.0010016733692713726, 0.0015308506261929541, 0.0015393751346797165, 0.0005008366846356888, 0.0060828542075416917, 0.0005008366846356888, 0.0056318827756944041, 0.0005008366846356888, 0.0040985495193418897, 0.0010300139415572701, 0.0020273255405408351, 0.0015393751346797165, 0.0015127146704332129, 0.0010385384500440277, 0.00050936119312245125, 0.0015393751346797165, 0.0, 0.0076763527928345732, 0.0010385384500440277, 0.0010385384500440277, 0.0005008366846356888, 0.0, 0.0005008366846356888, 0.0010101978777581351, 0.0005008366846356888, 0.0005008366846356888, 0.0005008366846356888, 0.0015393751346797165, 0.0005008366846356888]\n",
        "[1.0, 1.0, 1.0, 1.0, 1.0, 1.0, 1.0, 1.0, 0.5, 0.5, 0.5, 0.5, 0.5, 0.5, 0.5, 0.5, 0.5, 0.5, 0.50000000000000011, 0.49999999999999989, 0.50000000000000011, 0.5, 0.5, 0.5, 0.5, 0.49999999999999989, 0.5, 0.49999999999999989, 0.5, 0.50000000000000022, 0.5, 0.5, 0.5, 0.5, 0.5, 0.5, 0.33333333333333331, 0.33333333333333331, 0.33333333333333331, 0.33333333333333326, 0.33333333333333337, 0.33333333333333326, 0.33333333333333331, 0.33333333333333331, 0.33333333333333331, 0.33333333333333331, 0.33333333333333331, 0.33333333333333331, 0.33333333333333331, 0.33333333333333331, 0.33333333333333331, 0.33333333333333331, 0.33333333333333337, 0.33333333333333331, 0.33333333333333337, 0.33333333333333331, 0.33333333333333337, 0.33333333333333337, 0.33333333333333331, 0.33333333333333331, 0.33333333333333331, 0.33333333333333331, 0.33333333333333331, 0.33333333333333331, 0.33333333333333331, 0.33333333333333331, 0.33333333333333343, 0.33333333333333331, 0.33333333333333331, 0.33333333333333331, 0.33333333333333331, 0.33333333333333331, 0.33333333333333337, 0.33333333333333326, 0.33333333333333337, 0.33333333333333331, 0.33333333333333331, 0.33333333333333331, 0.33333333333333331, 0.33333333333333326, 0.33333333333333326, 0.33333333333333331, 0.33333333333333337, 0.33333333333333331, 0.33333333333333331, 0.33333333333333331, 0.33333333333333337, 0.33333333333333331, 0.33333333333333331, 0.33333333333333326, 0.33333333333333331, 0.33333333333333331, 0.25, 0.25, 0.25, 0.25, 0.25, 0.25, 0.25, 0.25, 0.25]\n",
        "[ 0.42421994  0.37536373  0.10458101  0.09583532]"
       ]
      },
      {
       "output_type": "stream",
       "stream": "stdout",
       "text": [
        "\n",
        "[ 0.43967432  0.3216088   0.09780946  0.14090743]"
       ]
      },
      {
       "output_type": "stream",
       "stream": "stdout",
       "text": [
        "\n",
        "[ 0.43539455  0.34007114  0.12266225  0.10187206]"
       ]
      },
      {
       "output_type": "stream",
       "stream": "stdout",
       "text": [
        "\n",
        "[ 0.38773467  0.36913218  0.10430241  0.13883075]"
       ]
      },
      {
       "output_type": "stream",
       "stream": "stdout",
       "text": [
        "\n",
        "[ 0.42125336  0.36814491  0.08472305  0.12587868]"
       ]
      },
      {
       "output_type": "stream",
       "stream": "stdout",
       "text": [
        "\n",
        "[ 0.45270326  0.31831439  0.09760129  0.13138107]"
       ]
      },
      {
       "output_type": "stream",
       "stream": "stdout",
       "text": [
        "\n",
        "[ 0.42417188  0.34885933  0.12508453  0.10188426]"
       ]
      },
      {
       "output_type": "stream",
       "stream": "stdout",
       "text": [
        "\n",
        "[ 0.42820847  0.33095467  0.12007615  0.12076071]"
       ]
      },
      {
       "output_type": "stream",
       "stream": "stdout",
       "text": [
        "\n",
        "[ 0.4291153   0.34411906  0.12421278  0.10255286]"
       ]
      },
      {
       "output_type": "stream",
       "stream": "stdout",
       "text": [
        "\n",
        "[ 0.38378784  0.36459433  0.12324924  0.12836859]"
       ]
      },
      {
       "output_type": "stream",
       "stream": "stdout",
       "text": [
        "\n",
        "[0.5, 0.5, 0.5, 0.5, 0.5, 0.5, 0.5, 0.5, 0.5, 0.5, 0.5, 0.5, 0.5, 0.5, 0.5, 0.5, 0.5, 0.5, 0.5, 0.5, 0.5, 0.5, 0.5, 0.5, 0.5, 0.5, 0.5, 0.5, 0.5, 0.5, 0.5, 0.5, 0.5, 0.5, 0.5, 0.5, 0.5, 0.5, 0.5, 0.5, 0.5, 0.5, 0.5, 0.5, 0.5, 0.5, 0.5, 0.5, 0.5, 0.5, 0.5, 0.5, 0.5, 0.5, 0.5, 0.5, 0.5, 0.5, 0.5, 0.5, 0.5, 0.5, 0.5, 0.5, 0.5, 0.5, 0.5, 0.5, 0.5, 0.5, 0.5, 0.5, 0.5, 0.5, 0.5, 0.5, 0.5, 0.5, 0.5, 0.5, 0.5, 0.5, 0.5, 0.5, 0.5, 0.5, 0.5, 0.5, 0.5, 0.5, 0.5, 0.5, 0.5, 0.5, 0.5, 0.5, 0.5, 0.5, 0.5, 0.5, 0.5, 0.5]"
       ]
      },
      {
       "output_type": "stream",
       "stream": "stdout",
       "text": [
        "\n",
        "[0.035308450180920395, 0.015900278873051947, 0.027606640458033495, 0.020287811471444019, 0.028085748571213369, 0.035450017068918892, 0.0030537699131523133, 0.018801048240551517, 0.0010101978777581351, 0.00050936119312244637, 0.008238681424071536, 0.0036143352597136787, 0.005607800401233284, 0.0025444087200298623, 0.019754369486924619, 0.008088683576243998, 0.0, 0.0077047868625348317, 0.0065852856156395825, 0.0015393751346797165, 0.005668936813507235, 0.0010016733692713726, 0.0065990598011115165, 0.0050674066527983952, 0.0015393751346797165, 0.0066773510107629745, 0.0015127146704332129, 0.0010033534773107617, 0.0025444087200298623, 0.0015127146704332129, 0.020761540704040373, 0.0010385384500440277, 0.0061854044439900308, 0.0010385384500440277, 0.0076763527928345732, 0.0015393751346797165, 0.0025548226894230226, 0.0010101978777581351, 0.0015393751346797213, 0.0005008366846356888, 0.0015393751346797165, 0.0010101978777581351, 0.0010101978777581351, 0.0010300139415572653, 0.00050936119312244637, 0.0015393751346797165, 0.00050936119312244637, 0.0020220758635556592, 0.0010187223862448975, 0.0025444087200298623, 0.0015127146704332129, 0.0040563311891210398, 0.0010385384500440277, 0.0040760618683429806, 0.00050936119312244637, 0.0025366867336632723, 0.0015393751346797165, 0.0015308506261929541, 0.0050948696391650674, 0.0050810954536931333, 0.0010016733692713726, 0.0041208482133005854, 0.0, 0.0005008366846356888, 0.0015393751346797165, 0.00052917725692158137, 0.0035417203190134224, 0.0010583545138431627, 0.0036045572351535793, 0.0005008366846356888, 0.0046483453621827594, 0.0010300139415572701, 0.0010016733692713726, 0.0015308506261929541, 0.0015393751346797165, 0.0005008366846356888, 0.0060828542075416917, 0.0005008366846356888, 0.0056318827756944041, 0.0005008366846356888, 0.0040985495193418897, 0.0010300139415572701, 0.0020273255405408351, 0.0015393751346797165, 0.0015127146704332129, 0.0010385384500440277, 0.00050936119312245125, 0.0015393751346797165, 0.0, 0.0076763527928345732, 0.0010385384500440277, 0.0010385384500440277, 0.0005008366846356888, 0.0, 0.0005008366846356888, 0.0010101978777581351, 0.0005008366846356888, 0.0005008366846356888, 0.0005008366846356888, 0.0015393751346797165, 0.0005008366846356888, 0.0005008366846356888]\n",
        "[1.0, 1.0, 1.0, 1.0, 1.0, 1.0, 1.0, 1.0, 0.5, 0.5, 0.5, 0.5, 0.5, 0.5, 0.5, 0.5, 0.5, 0.5, 0.50000000000000011, 0.49999999999999989, 0.50000000000000011, 0.5, 0.5, 0.5, 0.5, 0.49999999999999989, 0.5, 0.49999999999999989, 0.5, 0.50000000000000022, 0.5, 0.5, 0.5, 0.5, 0.5, 0.5, 0.33333333333333331, 0.33333333333333331, 0.33333333333333331, 0.33333333333333326, 0.33333333333333337, 0.33333333333333326, 0.33333333333333331, 0.33333333333333331, 0.33333333333333331, 0.33333333333333331, 0.33333333333333331, 0.33333333333333331, 0.33333333333333331, 0.33333333333333331, 0.33333333333333331, 0.33333333333333331, 0.33333333333333337, 0.33333333333333331, 0.33333333333333337, 0.33333333333333331, 0.33333333333333337, 0.33333333333333337, 0.33333333333333331, 0.33333333333333331, 0.33333333333333331, 0.33333333333333331, 0.33333333333333331, 0.33333333333333331, 0.33333333333333331, 0.33333333333333331, 0.33333333333333343, 0.33333333333333331, 0.33333333333333331, 0.33333333333333331, 0.33333333333333331, 0.33333333333333331, 0.33333333333333337, 0.33333333333333326, 0.33333333333333337, 0.33333333333333331, 0.33333333333333331, 0.33333333333333331, 0.33333333333333331, 0.33333333333333326, 0.33333333333333326, 0.33333333333333331, 0.33333333333333337, 0.33333333333333331, 0.33333333333333331, 0.33333333333333331, 0.33333333333333337, 0.33333333333333331, 0.33333333333333331, 0.33333333333333326, 0.33333333333333331, 0.33333333333333331, 0.25, 0.25, 0.25, 0.25, 0.25, 0.25, 0.25, 0.25, 0.25, 0.25]\n",
        "[ 0.1619412   0.21066192  0.02965231  0.59774457]"
       ]
      },
      {
       "output_type": "stream",
       "stream": "stdout",
       "text": [
        "\n",
        "[ 0.16869328  0.19260221  0.04109926  0.59760525]"
       ]
      },
      {
       "output_type": "stream",
       "stream": "stdout",
       "text": [
        "\n",
        "[ 0.16454355  0.15936314  0.03544394  0.64064938]"
       ]
      },
      {
       "output_type": "stream",
       "stream": "stdout",
       "text": [
        "\n",
        "[ 0.15018414  0.15313979  0.04252859  0.65414748]"
       ]
      },
      {
       "output_type": "stream",
       "stream": "stdout",
       "text": [
        "\n",
        "[ 0.1534738   0.17007985  0.0640226   0.61242374]"
       ]
      },
      {
       "output_type": "stream",
       "stream": "stdout",
       "text": [
        "\n",
        "[ 0.18706909  0.16651581  0.04605823  0.60035687]"
       ]
      },
      {
       "output_type": "stream",
       "stream": "stdout",
       "text": [
        "\n",
        "[ 0.1574213   0.15061413  0.04429375  0.64767082]"
       ]
      },
      {
       "output_type": "stream",
       "stream": "stdout",
       "text": [
        "\n",
        "[ 0.12597906  0.16692852  0.05389714  0.65319529]"
       ]
      },
      {
       "output_type": "stream",
       "stream": "stdout",
       "text": [
        "\n",
        "[ 0.15435263  0.1761876   0.04536368  0.62409609]"
       ]
      },
      {
       "output_type": "stream",
       "stream": "stdout",
       "text": [
        "\n",
        "[ 0.11854623  0.17614529  0.04285673  0.66245175]"
       ]
      },
      {
       "output_type": "stream",
       "stream": "stdout",
       "text": [
        "\n",
        "[0.5, 0.5, 0.5, 0.5, 0.5, 0.5, 0.5, 0.5, 0.5, 0.5, 0.5, 0.5, 0.5, 0.5, 0.5, 0.5, 0.5, 0.5, 0.5, 0.5, 0.5, 0.5, 0.5, 0.5, 0.5, 0.5, 0.5, 0.5, 0.5, 0.5, 0.5, 0.5, 0.5, 0.5, 0.5, 0.5, 0.5, 0.5, 0.5, 0.5, 0.5, 0.5, 0.5, 0.5, 0.5, 0.5, 0.5, 0.5, 0.5, 0.5, 0.5, 0.5, 0.5, 0.5, 0.5, 0.5, 0.5, 0.5, 0.5, 0.5, 0.5, 0.5, 0.5, 0.5, 0.5, 0.5, 0.5, 0.5, 0.5, 0.5, 0.5, 0.5, 0.5, 0.5, 0.5, 0.5, 0.5, 0.5, 0.5, 0.5, 0.5, 0.5, 0.5, 0.5, 0.5, 0.5, 0.5, 0.5, 0.5, 0.5, 0.5, 0.5, 0.5, 0.5, 0.5, 0.5, 0.5, 0.5, 0.5, 0.5, 0.5, 0.5, 0.5]"
       ]
      },
      {
       "output_type": "stream",
       "stream": "stdout",
       "text": [
        "\n",
        "[0.035308450180920395, 0.015900278873051947, 0.027606640458033495, 0.020287811471444019, 0.028085748571213369, 0.035450017068918892, 0.0030537699131523133, 0.018801048240551517, 0.0010101978777581351, 0.00050936119312244637, 0.008238681424071536, 0.0036143352597136787, 0.005607800401233284, 0.0025444087200298623, 0.019754369486924619, 0.008088683576243998, 0.0, 0.0077047868625348317, 0.0065852856156395825, 0.0015393751346797165, 0.005668936813507235, 0.0010016733692713726, 0.0065990598011115165, 0.0050674066527983952, 0.0015393751346797165, 0.0066773510107629745, 0.0015127146704332129, 0.0010033534773107617, 0.0025444087200298623, 0.0015127146704332129, 0.020761540704040373, 0.0010385384500440277, 0.0061854044439900308, 0.0010385384500440277, 0.0076763527928345732, 0.0015393751346797165, 0.0025548226894230226, 0.0010101978777581351, 0.0015393751346797213, 0.0005008366846356888, 0.0015393751346797165, 0.0010101978777581351, 0.0010101978777581351, 0.0010300139415572653, 0.00050936119312244637, 0.0015393751346797165, 0.00050936119312244637, 0.0020220758635556592, 0.0010187223862448975, 0.0025444087200298623, 0.0015127146704332129, 0.0040563311891210398, 0.0010385384500440277, 0.0040760618683429806, 0.00050936119312244637, 0.0025366867336632723, 0.0015393751346797165, 0.0015308506261929541, 0.0050948696391650674, 0.0050810954536931333, 0.0010016733692713726, 0.0041208482133005854, 0.0, 0.0005008366846356888, 0.0015393751346797165, 0.00052917725692158137, 0.0035417203190134224, 0.0010583545138431627, 0.0036045572351535793, 0.0005008366846356888, 0.0046483453621827594, 0.0010300139415572701, 0.0010016733692713726, 0.0015308506261929541, 0.0015393751346797165, 0.0005008366846356888, 0.0060828542075416917, 0.0005008366846356888, 0.0056318827756944041, 0.0005008366846356888, 0.0040985495193418897, 0.0010300139415572701, 0.0020273255405408351, 0.0015393751346797165, 0.0015127146704332129, 0.0010385384500440277, 0.00050936119312245125, 0.0015393751346797165, 0.0, 0.0076763527928345732, 0.0010385384500440277, 0.0010385384500440277, 0.0005008366846356888, 0.0, 0.0005008366846356888, 0.0010101978777581351, 0.0005008366846356888, 0.0005008366846356888, 0.0005008366846356888, 0.0015393751346797165, 0.0005008366846356888, 0.0005008366846356888, 0.0015393751346797165]\n",
        "[1.0, 1.0, 1.0, 1.0, 1.0, 1.0, 1.0, 1.0, 0.5, 0.5, 0.5, 0.5, 0.5, 0.5, 0.5, 0.5, 0.5, 0.5, 0.50000000000000011, 0.49999999999999989, 0.50000000000000011, 0.5, 0.5, 0.5, 0.5, 0.49999999999999989, 0.5, 0.49999999999999989, 0.5, 0.50000000000000022, 0.5, 0.5, 0.5, 0.5, 0.5, 0.5, 0.33333333333333331, 0.33333333333333331, 0.33333333333333331, 0.33333333333333326, 0.33333333333333337, 0.33333333333333326, 0.33333333333333331, 0.33333333333333331, 0.33333333333333331, 0.33333333333333331, 0.33333333333333331, 0.33333333333333331, 0.33333333333333331, 0.33333333333333331, 0.33333333333333331, 0.33333333333333331, 0.33333333333333337, 0.33333333333333331, 0.33333333333333337, 0.33333333333333331, 0.33333333333333337, 0.33333333333333337, 0.33333333333333331, 0.33333333333333331, 0.33333333333333331, 0.33333333333333331, 0.33333333333333331, 0.33333333333333331, 0.33333333333333331, 0.33333333333333331, 0.33333333333333343, 0.33333333333333331, 0.33333333333333331, 0.33333333333333331, 0.33333333333333331, 0.33333333333333331, 0.33333333333333337, 0.33333333333333326, 0.33333333333333337, 0.33333333333333331, 0.33333333333333331, 0.33333333333333331, 0.33333333333333331, 0.33333333333333326, 0.33333333333333326, 0.33333333333333331, 0.33333333333333337, 0.33333333333333331, 0.33333333333333331, 0.33333333333333331, 0.33333333333333337, 0.33333333333333331, 0.33333333333333331, 0.33333333333333326, 0.33333333333333331, 0.33333333333333331, 0.25, 0.25, 0.25, 0.25, 0.25, 0.25, 0.25, 0.25, 0.25, 0.25, 0.25]\n",
        "[ 0.37539182  0.38188137  0.12917024  0.11355656]"
       ]
      },
      {
       "output_type": "stream",
       "stream": "stdout",
       "text": [
        "\n",
        "[ 0.40671727  0.33580791  0.13040635  0.12706847]"
       ]
      },
      {
       "output_type": "stream",
       "stream": "stdout",
       "text": [
        "\n",
        "[ 0.3667019   0.32969992  0.14855214  0.15504604]"
       ]
      },
      {
       "output_type": "stream",
       "stream": "stdout",
       "text": [
        "\n",
        "[ 0.40819048  0.37393556  0.12013016  0.09774381]"
       ]
      },
      {
       "output_type": "stream",
       "stream": "stdout",
       "text": [
        "\n",
        "[ 0.38963628  0.3461753   0.14947658  0.11471184]"
       ]
      },
      {
       "output_type": "stream",
       "stream": "stdout",
       "text": [
        "\n",
        "[ 0.45517989  0.32032048  0.12962401  0.09487563]"
       ]
      },
      {
       "output_type": "stream",
       "stream": "stdout",
       "text": [
        "\n",
        "[ 0.41300998  0.32920739  0.12321858  0.13456405]"
       ]
      },
      {
       "output_type": "stream",
       "stream": "stdout",
       "text": [
        "\n",
        "[ 0.42954185  0.31621241  0.14969501  0.10455074]"
       ]
      },
      {
       "output_type": "stream",
       "stream": "stdout",
       "text": [
        "\n",
        "[ 0.39117932  0.36905312  0.12305029  0.11671727]"
       ]
      },
      {
       "output_type": "stream",
       "stream": "stdout",
       "text": [
        "\n",
        "[ 0.3904881   0.36655874  0.13803543  0.10491773]"
       ]
      },
      {
       "output_type": "stream",
       "stream": "stdout",
       "text": [
        "\n",
        "[0.5, 0.5, 0.5, 0.5, 0.5, 0.5, 0.5, 0.5, 0.5, 0.5, 0.5, 0.5, 0.5, 0.5, 0.5, 0.5, 0.5, 0.5, 0.5, 0.5, 0.5, 0.5, 0.5, 0.5, 0.5, 0.5, 0.5, 0.5, 0.5, 0.5, 0.5, 0.5, 0.5, 0.5, 0.5, 0.5, 0.5, 0.5, 0.5, 0.5, 0.5, 0.5, 0.5, 0.5, 0.5, 0.5, 0.5, 0.5, 0.5, 0.5, 0.5, 0.5, 0.5, 0.5, 0.5, 0.5, 0.5, 0.5, 0.5, 0.5, 0.5, 0.5, 0.5, 0.5, 0.5, 0.5, 0.5, 0.5, 0.5, 0.5, 0.5, 0.5, 0.5, 0.5, 0.5, 0.5, 0.5, 0.5, 0.5, 0.5, 0.5, 0.5, 0.5, 0.5, 0.5, 0.5, 0.5, 0.5, 0.5, 0.5, 0.5, 0.5, 0.5, 0.5, 0.5, 0.5, 0.5, 0.5, 0.5, 0.5, 0.5, 0.5, 0.5, 0.5]"
       ]
      },
      {
       "output_type": "stream",
       "stream": "stdout",
       "text": [
        "\n",
        "[0.035308450180920395, 0.015900278873051947, 0.027606640458033495, 0.020287811471444019, 0.028085748571213369, 0.035450017068918892, 0.0030537699131523133, 0.018801048240551517, 0.0010101978777581351, 0.00050936119312244637, 0.008238681424071536, 0.0036143352597136787, 0.005607800401233284, 0.0025444087200298623, 0.019754369486924619, 0.008088683576243998, 0.0, 0.0077047868625348317, 0.0065852856156395825, 0.0015393751346797165, 0.005668936813507235, 0.0010016733692713726, 0.0065990598011115165, 0.0050674066527983952, 0.0015393751346797165, 0.0066773510107629745, 0.0015127146704332129, 0.0010033534773107617, 0.0025444087200298623, 0.0015127146704332129, 0.020761540704040373, 0.0010385384500440277, 0.0061854044439900308, 0.0010385384500440277, 0.0076763527928345732, 0.0015393751346797165, 0.0025548226894230226, 0.0010101978777581351, 0.0015393751346797213, 0.0005008366846356888, 0.0015393751346797165, 0.0010101978777581351, 0.0010101978777581351, 0.0010300139415572653, 0.00050936119312244637, 0.0015393751346797165, 0.00050936119312244637, 0.0020220758635556592, 0.0010187223862448975, 0.0025444087200298623, 0.0015127146704332129, 0.0040563311891210398, 0.0010385384500440277, 0.0040760618683429806, 0.00050936119312244637, 0.0025366867336632723, 0.0015393751346797165, 0.0015308506261929541, 0.0050948696391650674, 0.0050810954536931333, 0.0010016733692713726, 0.0041208482133005854, 0.0, 0.0005008366846356888, 0.0015393751346797165, 0.00052917725692158137, 0.0035417203190134224, 0.0010583545138431627, 0.0036045572351535793, 0.0005008366846356888, 0.0046483453621827594, 0.0010300139415572701, 0.0010016733692713726, 0.0015308506261929541, 0.0015393751346797165, 0.0005008366846356888, 0.0060828542075416917, 0.0005008366846356888, 0.0056318827756944041, 0.0005008366846356888, 0.0040985495193418897, 0.0010300139415572701, 0.0020273255405408351, 0.0015393751346797165, 0.0015127146704332129, 0.0010385384500440277, 0.00050936119312245125, 0.0015393751346797165, 0.0, 0.0076763527928345732, 0.0010385384500440277, 0.0010385384500440277, 0.0005008366846356888, 0.0, 0.0005008366846356888, 0.0010101978777581351, 0.0005008366846356888, 0.0005008366846356888, 0.0005008366846356888, 0.0015393751346797165, 0.0005008366846356888, 0.0005008366846356888, 0.0015393751346797165, 0.0010033534773107617]\n",
        "[1.0, 1.0, 1.0, 1.0, 1.0, 1.0, 1.0, 1.0, 0.5, 0.5, 0.5, 0.5, 0.5, 0.5, 0.5, 0.5, 0.5, 0.5, 0.50000000000000011, 0.49999999999999989, 0.50000000000000011, 0.5, 0.5, 0.5, 0.5, 0.49999999999999989, 0.5, 0.49999999999999989, 0.5, 0.50000000000000022, 0.5, 0.5, 0.5, 0.5, 0.5, 0.5, 0.33333333333333331, 0.33333333333333331, 0.33333333333333331, 0.33333333333333326, 0.33333333333333337, 0.33333333333333326, 0.33333333333333331, 0.33333333333333331, 0.33333333333333331, 0.33333333333333331, 0.33333333333333331, 0.33333333333333331, 0.33333333333333331, 0.33333333333333331, 0.33333333333333331, 0.33333333333333331, 0.33333333333333337, 0.33333333333333331, 0.33333333333333337, 0.33333333333333331, 0.33333333333333337, 0.33333333333333337, 0.33333333333333331, 0.33333333333333331, 0.33333333333333331, 0.33333333333333331, 0.33333333333333331, 0.33333333333333331, 0.33333333333333331, 0.33333333333333331, 0.33333333333333343, 0.33333333333333331, 0.33333333333333331, 0.33333333333333331, 0.33333333333333331, 0.33333333333333331, 0.33333333333333337, 0.33333333333333326, 0.33333333333333337, 0.33333333333333331, 0.33333333333333331, 0.33333333333333331, 0.33333333333333331, 0.33333333333333326, 0.33333333333333326, 0.33333333333333331, 0.33333333333333337, 0.33333333333333331, 0.33333333333333331, 0.33333333333333331, 0.33333333333333337, 0.33333333333333331, 0.33333333333333331, 0.33333333333333326, 0.33333333333333331, 0.33333333333333331, 0.25, 0.25, 0.25, 0.25, 0.25, 0.25, 0.25, 0.25, 0.25, 0.25, 0.25, 0.25]\n",
        "[ 0.13955547  0.20160538  0.04004992  0.61878922]"
       ]
      },
      {
       "output_type": "stream",
       "stream": "stdout",
       "text": [
        "\n",
        "[ 0.14956816  0.1429581   0.05579108  0.65168266]"
       ]
      },
      {
       "output_type": "stream",
       "stream": "stdout",
       "text": [
        "\n",
        "[ 0.13970507  0.15762893  0.02944247  0.67322353]"
       ]
      },
      {
       "output_type": "stream",
       "stream": "stdout",
       "text": [
        "\n",
        "[ 0.13579289  0.16562809  0.05239481  0.64618421]"
       ]
      },
      {
       "output_type": "stream",
       "stream": "stdout",
       "text": [
        "\n",
        "[ 0.18002415  0.17134614  0.05059087  0.59803884]"
       ]
      },
      {
       "output_type": "stream",
       "stream": "stdout",
       "text": [
        "\n",
        "[ 0.18013786  0.19206663  0.05379006  0.57400544]"
       ]
      },
      {
       "output_type": "stream",
       "stream": "stdout",
       "text": [
        "\n",
        "[ 0.1873327   0.18347428  0.05844027  0.57075275]"
       ]
      },
      {
       "output_type": "stream",
       "stream": "stdout",
       "text": [
        "\n",
        "[ 0.13554782  0.1534479   0.04831789  0.66268638]"
       ]
      },
      {
       "output_type": "stream",
       "stream": "stdout",
       "text": [
        "\n",
        "[ 0.16851443  0.16314205  0.06494216  0.60340136]"
       ]
      },
      {
       "output_type": "stream",
       "stream": "stdout",
       "text": [
        "\n",
        "[ 0.14157965  0.20360517  0.05516388  0.5996513 ]"
       ]
      },
      {
       "output_type": "stream",
       "stream": "stdout",
       "text": [
        "\n",
        "[0.5, 0.5, 0.5, 0.5, 0.5, 0.5, 0.5, 0.5, 0.5, 0.5, 0.5, 0.5, 0.5, 0.5, 0.5, 0.5, 0.5, 0.5, 0.5, 0.5, 0.5, 0.5, 0.5, 0.5, 0.5, 0.5, 0.5, 0.5, 0.5, 0.5, 0.5, 0.5, 0.5, 0.5, 0.5, 0.5, 0.5, 0.5, 0.5, 0.5, 0.5, 0.5, 0.5, 0.5, 0.5, 0.5, 0.5, 0.5, 0.5, 0.5, 0.5, 0.5, 0.5, 0.5, 0.5, 0.5, 0.5, 0.5, 0.5, 0.5, 0.5, 0.5, 0.5, 0.5, 0.5, 0.5, 0.5, 0.5, 0.5, 0.5, 0.5, 0.5, 0.5, 0.5, 0.5, 0.5, 0.5, 0.5, 0.5, 0.5, 0.5, 0.5, 0.5, 0.5, 0.5, 0.5, 0.5, 0.5, 0.5, 0.5, 0.5, 0.5, 0.5, 0.5, 0.5, 0.5, 0.5, 0.5, 0.5, 0.5, 0.5, 0.5, 0.5, 0.5, 0.5]"
       ]
      },
      {
       "output_type": "stream",
       "stream": "stdout",
       "text": [
        "\n",
        "[0.035308450180920395, 0.015900278873051947, 0.027606640458033495, 0.020287811471444019, 0.028085748571213369, 0.035450017068918892, 0.0030537699131523133, 0.018801048240551517, 0.0010101978777581351, 0.00050936119312244637, 0.008238681424071536, 0.0036143352597136787, 0.005607800401233284, 0.0025444087200298623, 0.019754369486924619, 0.008088683576243998, 0.0, 0.0077047868625348317, 0.0065852856156395825, 0.0015393751346797165, 0.005668936813507235, 0.0010016733692713726, 0.0065990598011115165, 0.0050674066527983952, 0.0015393751346797165, 0.0066773510107629745, 0.0015127146704332129, 0.0010033534773107617, 0.0025444087200298623, 0.0015127146704332129, 0.020761540704040373, 0.0010385384500440277, 0.0061854044439900308, 0.0010385384500440277, 0.0076763527928345732, 0.0015393751346797165, 0.0025548226894230226, 0.0010101978777581351, 0.0015393751346797213, 0.0005008366846356888, 0.0015393751346797165, 0.0010101978777581351, 0.0010101978777581351, 0.0010300139415572653, 0.00050936119312244637, 0.0015393751346797165, 0.00050936119312244637, 0.0020220758635556592, 0.0010187223862448975, 0.0025444087200298623, 0.0015127146704332129, 0.0040563311891210398, 0.0010385384500440277, 0.0040760618683429806, 0.00050936119312244637, 0.0025366867336632723, 0.0015393751346797165, 0.0015308506261929541, 0.0050948696391650674, 0.0050810954536931333, 0.0010016733692713726, 0.0041208482133005854, 0.0, 0.0005008366846356888, 0.0015393751346797165, 0.00052917725692158137, 0.0035417203190134224, 0.0010583545138431627, 0.0036045572351535793, 0.0005008366846356888, 0.0046483453621827594, 0.0010300139415572701, 0.0010016733692713726, 0.0015308506261929541, 0.0015393751346797165, 0.0005008366846356888, 0.0060828542075416917, 0.0005008366846356888, 0.0056318827756944041, 0.0005008366846356888, 0.0040985495193418897, 0.0010300139415572701, 0.0020273255405408351, 0.0015393751346797165, 0.0015127146704332129, 0.0010385384500440277, 0.00050936119312245125, 0.0015393751346797165, 0.0, 0.0076763527928345732, 0.0010385384500440277, 0.0010385384500440277, 0.0005008366846356888, 0.0, 0.0005008366846356888, 0.0010101978777581351, 0.0005008366846356888, 0.0005008366846356888, 0.0005008366846356888, 0.0015393751346797165, 0.0005008366846356888, 0.0005008366846356888, 0.0015393751346797165, 0.0010033534773107617, 0.0015393751346797165]\n",
        "[1.0, 1.0, 1.0, 1.0, 1.0, 1.0, 1.0, 1.0, 0.5, 0.5, 0.5, 0.5, 0.5, 0.5, 0.5, 0.5, 0.5, 0.5, 0.50000000000000011, 0.49999999999999989, 0.50000000000000011, 0.5, 0.5, 0.5, 0.5, 0.49999999999999989, 0.5, 0.49999999999999989, 0.5, 0.50000000000000022, 0.5, 0.5, 0.5, 0.5, 0.5, 0.5, 0.33333333333333331, 0.33333333333333331, 0.33333333333333331, 0.33333333333333326, 0.33333333333333337, 0.33333333333333326, 0.33333333333333331, 0.33333333333333331, 0.33333333333333331, 0.33333333333333331, 0.33333333333333331, 0.33333333333333331, 0.33333333333333331, 0.33333333333333331, 0.33333333333333331, 0.33333333333333331, 0.33333333333333337, 0.33333333333333331, 0.33333333333333337, 0.33333333333333331, 0.33333333333333337, 0.33333333333333337, 0.33333333333333331, 0.33333333333333331, 0.33333333333333331, 0.33333333333333331, 0.33333333333333331, 0.33333333333333331, 0.33333333333333331, 0.33333333333333331, 0.33333333333333343, 0.33333333333333331, 0.33333333333333331, 0.33333333333333331, 0.33333333333333331, 0.33333333333333331, 0.33333333333333337, 0.33333333333333326, 0.33333333333333337, 0.33333333333333331, 0.33333333333333331, 0.33333333333333331, 0.33333333333333331, 0.33333333333333326, 0.33333333333333326, 0.33333333333333331, 0.33333333333333337, 0.33333333333333331, 0.33333333333333331, 0.33333333333333331, 0.33333333333333337, 0.33333333333333331, 0.33333333333333331, 0.33333333333333326, 0.33333333333333331, 0.33333333333333331, 0.25, 0.25, 0.25, 0.25, 0.25, 0.25, 0.25, 0.25, 0.25, 0.25, 0.25, 0.25, 0.25]\n",
        "[ 0.39503358  0.35797158  0.13916887  0.10782597]"
       ]
      },
      {
       "output_type": "stream",
       "stream": "stdout",
       "text": [
        "\n",
        "[ 0.39755715  0.34489643  0.16688769  0.09065872]"
       ]
      },
      {
       "output_type": "stream",
       "stream": "stdout",
       "text": [
        "\n",
        "[ 0.42334813  0.36134722  0.11937643  0.09592822]"
       ]
      },
      {
       "output_type": "stream",
       "stream": "stdout",
       "text": [
        "\n",
        "[ 0.41364279  0.3844811   0.11136459  0.09051152]"
       ]
      },
      {
       "output_type": "stream",
       "stream": "stdout",
       "text": [
        "\n",
        "[ 0.42135457  0.33253633  0.14260622  0.10350288]"
       ]
      },
      {
       "output_type": "stream",
       "stream": "stdout",
       "text": [
        "\n",
        "[ 0.41334654  0.33410209  0.13508244  0.11746894]"
       ]
      },
      {
       "output_type": "stream",
       "stream": "stdout",
       "text": [
        "\n",
        "[ 0.40691075  0.3831922   0.10895542  0.10094164]"
       ]
      },
      {
       "output_type": "stream",
       "stream": "stdout",
       "text": [
        "\n",
        "[ 0.4412768   0.32865223  0.13294662  0.09712434]"
       ]
      },
      {
       "output_type": "stream",
       "stream": "stdout",
       "text": [
        "\n",
        "[ 0.39963987  0.3512219   0.13485571  0.11428252]"
       ]
      },
      {
       "output_type": "stream",
       "stream": "stdout",
       "text": [
        "\n",
        "[ 0.37022813  0.37862979  0.13640471  0.11473737]"
       ]
      },
      {
       "output_type": "stream",
       "stream": "stdout",
       "text": [
        "\n",
        "[0.5, 0.5, 0.5, 0.5, 0.5, 0.5, 0.5, 0.5, 0.5, 0.5, 0.5, 0.5, 0.5, 0.5, 0.5, 0.5, 0.5, 0.5, 0.5, 0.5, 0.5, 0.5, 0.5, 0.5, 0.5, 0.5, 0.5, 0.5, 0.5, 0.5, 0.5, 0.5, 0.5, 0.5, 0.5, 0.5, 0.5, 0.5, 0.5, 0.5, 0.5, 0.5, 0.5, 0.5, 0.5, 0.5, 0.5, 0.5, 0.5, 0.5, 0.5, 0.5, 0.5, 0.5, 0.5, 0.5, 0.5, 0.5, 0.5, 0.5, 0.5, 0.5, 0.5, 0.5, 0.5, 0.5, 0.5, 0.5, 0.5, 0.5, 0.5, 0.5, 0.5, 0.5, 0.5, 0.5, 0.5, 0.5, 0.5, 0.5, 0.5, 0.5, 0.5, 0.5, 0.5, 0.5, 0.5, 0.5, 0.5, 0.5, 0.5, 0.5, 0.5, 0.5, 0.5, 0.5, 0.5, 0.5, 0.5, 0.5, 0.5, 0.5, 0.5, 0.5, 0.5, 0.5]"
       ]
      },
      {
       "output_type": "stream",
       "stream": "stdout",
       "text": [
        "\n",
        "[0.035308450180920395, 0.015900278873051947, 0.027606640458033495, 0.020287811471444019, 0.028085748571213369, 0.035450017068918892, 0.0030537699131523133, 0.018801048240551517, 0.0010101978777581351, 0.00050936119312244637, 0.008238681424071536, 0.0036143352597136787, 0.005607800401233284, 0.0025444087200298623, 0.019754369486924619, 0.008088683576243998, 0.0, 0.0077047868625348317, 0.0065852856156395825, 0.0015393751346797165, 0.005668936813507235, 0.0010016733692713726, 0.0065990598011115165, 0.0050674066527983952, 0.0015393751346797165, 0.0066773510107629745, 0.0015127146704332129, 0.0010033534773107617, 0.0025444087200298623, 0.0015127146704332129, 0.020761540704040373, 0.0010385384500440277, 0.0061854044439900308, 0.0010385384500440277, 0.0076763527928345732, 0.0015393751346797165, 0.0025548226894230226, 0.0010101978777581351, 0.0015393751346797213, 0.0005008366846356888, 0.0015393751346797165, 0.0010101978777581351, 0.0010101978777581351, 0.0010300139415572653, 0.00050936119312244637, 0.0015393751346797165, 0.00050936119312244637, 0.0020220758635556592, 0.0010187223862448975, 0.0025444087200298623, 0.0015127146704332129, 0.0040563311891210398, 0.0010385384500440277, 0.0040760618683429806, 0.00050936119312244637, 0.0025366867336632723, 0.0015393751346797165, 0.0015308506261929541, 0.0050948696391650674, 0.0050810954536931333, 0.0010016733692713726, 0.0041208482133005854, 0.0, 0.0005008366846356888, 0.0015393751346797165, 0.00052917725692158137, 0.0035417203190134224, 0.0010583545138431627, 0.0036045572351535793, 0.0005008366846356888, 0.0046483453621827594, 0.0010300139415572701, 0.0010016733692713726, 0.0015308506261929541, 0.0015393751346797165, 0.0005008366846356888, 0.0060828542075416917, 0.0005008366846356888, 0.0056318827756944041, 0.0005008366846356888, 0.0040985495193418897, 0.0010300139415572701, 0.0020273255405408351, 0.0015393751346797165, 0.0015127146704332129, 0.0010385384500440277, 0.00050936119312245125, 0.0015393751346797165, 0.0, 0.0076763527928345732, 0.0010385384500440277, 0.0010385384500440277, 0.0005008366846356888, 0.0, 0.0005008366846356888, 0.0010101978777581351, 0.0005008366846356888, 0.0005008366846356888, 0.0005008366846356888, 0.0015393751346797165, 0.0005008366846356888, 0.0005008366846356888, 0.0015393751346797165, 0.0010033534773107617, 0.0015393751346797165, 0.0010101978777581351]\n",
        "[1.0, 1.0, 1.0, 1.0, 1.0, 1.0, 1.0, 1.0, 0.5, 0.5, 0.5, 0.5, 0.5, 0.5, 0.5, 0.5, 0.5, 0.5, 0.50000000000000011, 0.49999999999999989, 0.50000000000000011, 0.5, 0.5, 0.5, 0.5, 0.49999999999999989, 0.5, 0.49999999999999989, 0.5, 0.50000000000000022, 0.5, 0.5, 0.5, 0.5, 0.5, 0.5, 0.33333333333333331, 0.33333333333333331, 0.33333333333333331, 0.33333333333333326, 0.33333333333333337, 0.33333333333333326, 0.33333333333333331, 0.33333333333333331, 0.33333333333333331, 0.33333333333333331, 0.33333333333333331, 0.33333333333333331, 0.33333333333333331, 0.33333333333333331, 0.33333333333333331, 0.33333333333333331, 0.33333333333333337, 0.33333333333333331, 0.33333333333333337, 0.33333333333333331, 0.33333333333333337, 0.33333333333333337, 0.33333333333333331, 0.33333333333333331, 0.33333333333333331, 0.33333333333333331, 0.33333333333333331, 0.33333333333333331, 0.33333333333333331, 0.33333333333333331, 0.33333333333333343, 0.33333333333333331, 0.33333333333333331, 0.33333333333333331, 0.33333333333333331, 0.33333333333333331, 0.33333333333333337, 0.33333333333333326, 0.33333333333333337, 0.33333333333333331, 0.33333333333333331, 0.33333333333333331, 0.33333333333333331, 0.33333333333333326, 0.33333333333333326, 0.33333333333333331, 0.33333333333333337, 0.33333333333333331, 0.33333333333333331, 0.33333333333333331, 0.33333333333333337, 0.33333333333333331, 0.33333333333333331, 0.33333333333333326, 0.33333333333333331, 0.33333333333333331, 0.25, 0.25, 0.25, 0.25, 0.25, 0.25, 0.25, 0.25, 0.25, 0.25, 0.25, 0.25, 0.25, 0.25]\n",
        "[ 0.13341961  0.17992782  0.65441636  0.03223621]"
       ]
      },
      {
       "output_type": "stream",
       "stream": "stdout",
       "text": [
        "\n",
        "[ 0.18011019  0.19723572  0.57975929  0.0428948 ]"
       ]
      },
      {
       "output_type": "stream",
       "stream": "stdout",
       "text": [
        "\n",
        "[ 0.17616643  0.18541195  0.60832941  0.0300922 ]"
       ]
      },
      {
       "output_type": "stream",
       "stream": "stdout",
       "text": [
        "\n",
        "[ 0.14938519  0.15429415  0.65563602  0.04068464]"
       ]
      },
      {
       "output_type": "stream",
       "stream": "stdout",
       "text": [
        "\n",
        "[ 0.16391374  0.2004928   0.59844846  0.037145  ]"
       ]
      },
      {
       "output_type": "stream",
       "stream": "stdout",
       "text": [
        "\n",
        "[ 0.16627189  0.15826395  0.64397163  0.03149253]"
       ]
      },
      {
       "output_type": "stream",
       "stream": "stdout",
       "text": [
        "\n",
        "[ 0.18652558  0.16615684  0.60694957  0.040368  ]"
       ]
      },
      {
       "output_type": "stream",
       "stream": "stdout",
       "text": [
        "\n",
        "[ 0.18963661  0.17739572  0.59065696  0.04231071]"
       ]
      },
      {
       "output_type": "stream",
       "stream": "stdout",
       "text": [
        "\n",
        "[ 0.1552818   0.17506674  0.62764906  0.0420024 ]"
       ]
      },
      {
       "output_type": "stream",
       "stream": "stdout",
       "text": [
        "\n",
        "[ 0.14984156  0.19654627  0.60593408  0.04767809]"
       ]
      },
      {
       "output_type": "stream",
       "stream": "stdout",
       "text": [
        "\n",
        "[0.5, 0.5, 0.5, 0.5, 0.5, 0.5, 0.5, 0.5, 0.5, 0.5, 0.5, 0.5, 0.5, 0.5, 0.5, 0.5, 0.5, 0.5, 0.5, 0.5, 0.5, 0.5, 0.5, 0.5, 0.5, 0.5, 0.5, 0.5, 0.5, 0.5, 0.5, 0.5, 0.5, 0.5, 0.5, 0.5, 0.5, 0.5, 0.5, 0.5, 0.5, 0.5, 0.5, 0.5, 0.5, 0.5, 0.5, 0.5, 0.5, 0.5, 0.5, 0.5, 0.5, 0.5, 0.5, 0.5, 0.5, 0.5, 0.5, 0.5, 0.5, 0.5, 0.5, 0.5, 0.5, 0.5, 0.5, 0.5, 0.5, 0.5, 0.5, 0.5, 0.5, 0.5, 0.5, 0.5, 0.5, 0.5, 0.5, 0.5, 0.5, 0.5, 0.5, 0.5, 0.5, 0.5, 0.5, 0.5, 0.5, 0.5, 0.5, 0.5, 0.5, 0.5, 0.5, 0.5, 0.5, 0.5, 0.5, 0.5, 0.5, 0.5, 0.5, 0.5, 0.5, 0.5, 0.5]"
       ]
      },
      {
       "output_type": "stream",
       "stream": "stdout",
       "text": [
        "\n",
        "[0.035308450180920395, 0.015900278873051947, 0.027606640458033495, 0.020287811471444019, 0.028085748571213369, 0.035450017068918892, 0.0030537699131523133, 0.018801048240551517, 0.0010101978777581351, 0.00050936119312244637, 0.008238681424071536, 0.0036143352597136787, 0.005607800401233284, 0.0025444087200298623, 0.019754369486924619, 0.008088683576243998, 0.0, 0.0077047868625348317, 0.0065852856156395825, 0.0015393751346797165, 0.005668936813507235, 0.0010016733692713726, 0.0065990598011115165, 0.0050674066527983952, 0.0015393751346797165, 0.0066773510107629745, 0.0015127146704332129, 0.0010033534773107617, 0.0025444087200298623, 0.0015127146704332129, 0.020761540704040373, 0.0010385384500440277, 0.0061854044439900308, 0.0010385384500440277, 0.0076763527928345732, 0.0015393751346797165, 0.0025548226894230226, 0.0010101978777581351, 0.0015393751346797213, 0.0005008366846356888, 0.0015393751346797165, 0.0010101978777581351, 0.0010101978777581351, 0.0010300139415572653, 0.00050936119312244637, 0.0015393751346797165, 0.00050936119312244637, 0.0020220758635556592, 0.0010187223862448975, 0.0025444087200298623, 0.0015127146704332129, 0.0040563311891210398, 0.0010385384500440277, 0.0040760618683429806, 0.00050936119312244637, 0.0025366867336632723, 0.0015393751346797165, 0.0015308506261929541, 0.0050948696391650674, 0.0050810954536931333, 0.0010016733692713726, 0.0041208482133005854, 0.0, 0.0005008366846356888, 0.0015393751346797165, 0.00052917725692158137, 0.0035417203190134224, 0.0010583545138431627, 0.0036045572351535793, 0.0005008366846356888, 0.0046483453621827594, 0.0010300139415572701, 0.0010016733692713726, 0.0015308506261929541, 0.0015393751346797165, 0.0005008366846356888, 0.0060828542075416917, 0.0005008366846356888, 0.0056318827756944041, 0.0005008366846356888, 0.0040985495193418897, 0.0010300139415572701, 0.0020273255405408351, 0.0015393751346797165, 0.0015127146704332129, 0.0010385384500440277, 0.00050936119312245125, 0.0015393751346797165, 0.0, 0.0076763527928345732, 0.0010385384500440277, 0.0010385384500440277, 0.0005008366846356888, 0.0, 0.0005008366846356888, 0.0010101978777581351, 0.0005008366846356888, 0.0005008366846356888, 0.0005008366846356888, 0.0015393751346797165, 0.0005008366846356888, 0.0005008366846356888, 0.0015393751346797165, 0.0010033534773107617, 0.0015393751346797165, 0.0010101978777581351, 0.0015393751346797165]\n",
        "[1.0, 1.0, 1.0, 1.0, 1.0, 1.0, 1.0, 1.0, 0.5, 0.5, 0.5, 0.5, 0.5, 0.5, 0.5, 0.5, 0.5, 0.5, 0.50000000000000011, 0.49999999999999989, 0.50000000000000011, 0.5, 0.5, 0.5, 0.5, 0.49999999999999989, 0.5, 0.49999999999999989, 0.5, 0.50000000000000022, 0.5, 0.5, 0.5, 0.5, 0.5, 0.5, 0.33333333333333331, 0.33333333333333331, 0.33333333333333331, 0.33333333333333326, 0.33333333333333337, 0.33333333333333326, 0.33333333333333331, 0.33333333333333331, 0.33333333333333331, 0.33333333333333331, 0.33333333333333331, 0.33333333333333331, 0.33333333333333331, 0.33333333333333331, 0.33333333333333331, 0.33333333333333331, 0.33333333333333337, 0.33333333333333331, 0.33333333333333337, 0.33333333333333331, 0.33333333333333337, 0.33333333333333337, 0.33333333333333331, 0.33333333333333331, 0.33333333333333331, 0.33333333333333331, 0.33333333333333331, 0.33333333333333331, 0.33333333333333331, 0.33333333333333331, 0.33333333333333343, 0.33333333333333331, 0.33333333333333331, 0.33333333333333331, 0.33333333333333331, 0.33333333333333331, 0.33333333333333337, 0.33333333333333326, 0.33333333333333337, 0.33333333333333331, 0.33333333333333331, 0.33333333333333331, 0.33333333333333331, 0.33333333333333326, 0.33333333333333326, 0.33333333333333331, 0.33333333333333337, 0.33333333333333331, 0.33333333333333331, 0.33333333333333331, 0.33333333333333337, 0.33333333333333331, 0.33333333333333331, 0.33333333333333326, 0.33333333333333331, 0.33333333333333331, 0.25, 0.25, 0.25, 0.25, 0.25, 0.25, 0.25, 0.25, 0.25, 0.25, 0.25, 0.25, 0.25, 0.25, 0.25]\n",
        "[ 0.15967151  0.26291256  0.47907467  0.09834127]"
       ]
      },
      {
       "output_type": "stream",
       "stream": "stdout",
       "text": [
        "\n",
        "[ 0.16807248  0.2763123   0.46553457  0.09008065]"
       ]
      },
      {
       "output_type": "stream",
       "stream": "stdout",
       "text": [
        "\n",
        "[ 0.16964675  0.23684264  0.48210167  0.11140895]"
       ]
      },
      {
       "output_type": "stream",
       "stream": "stdout",
       "text": [
        "\n",
        "[ 0.18703026  0.3173781   0.41289716  0.08269449]"
       ]
      },
      {
       "output_type": "stream",
       "stream": "stdout",
       "text": [
        "\n",
        "[ 0.1355131   0.25449639  0.51306416  0.09692634]"
       ]
      },
      {
       "output_type": "stream",
       "stream": "stdout",
       "text": [
        "\n",
        "[ 0.21443612  0.24970531  0.43916769  0.09669088]"
       ]
      },
      {
       "output_type": "stream",
       "stream": "stdout",
       "text": [
        "\n",
        "[ 0.18478479  0.2480321   0.47439901  0.0927841 ]"
       ]
      },
      {
       "output_type": "stream",
       "stream": "stdout",
       "text": [
        "\n",
        "[ 0.1868632   0.2803324   0.43372185  0.09908255]"
       ]
      },
      {
       "output_type": "stream",
       "stream": "stdout",
       "text": [
        "\n",
        "[ 0.17429175  0.28810763  0.46153301  0.07606761]"
       ]
      },
      {
       "output_type": "stream",
       "stream": "stdout",
       "text": [
        "\n",
        "[ 0.1432046   0.27532774  0.47488607  0.10658159]"
       ]
      },
      {
       "output_type": "stream",
       "stream": "stdout",
       "text": [
        "\n",
        "[0.5, 0.5, 0.5, 0.5, 0.5, 0.5, 0.5, 0.5, 0.5, 0.5, 0.5, 0.5, 0.5, 0.5, 0.5, 0.5, 0.5, 0.5, 0.5, 0.5, 0.5, 0.5, 0.5, 0.5, 0.5, 0.5, 0.5, 0.5, 0.5, 0.5, 0.5, 0.5, 0.5, 0.5, 0.5, 0.5, 0.5, 0.5, 0.5, 0.5, 0.5, 0.5, 0.5, 0.5, 0.5, 0.5, 0.5, 0.5, 0.5, 0.5, 0.5, 0.5, 0.5, 0.5, 0.5, 0.5, 0.5, 0.5, 0.5, 0.5, 0.5, 0.5, 0.5, 0.5, 0.5, 0.5, 0.5, 0.5, 0.5, 0.5, 0.5, 0.5, 0.5, 0.5, 0.5, 0.5, 0.5, 0.5, 0.5, 0.5, 0.5, 0.5, 0.5, 0.5, 0.5, 0.5, 0.5, 0.5, 0.5, 0.5, 0.5, 0.5, 0.5, 0.5, 0.5, 0.5, 0.5, 0.5, 0.5, 0.5, 0.5, 0.5, 0.5, 0.5, 0.5, 0.5, 0.5, 0.5]"
       ]
      },
      {
       "output_type": "stream",
       "stream": "stdout",
       "text": [
        "\n",
        "[0.035308450180920395, 0.015900278873051947, 0.027606640458033495, 0.020287811471444019, 0.028085748571213369, 0.035450017068918892, 0.0030537699131523133, 0.018801048240551517, 0.0010101978777581351, 0.00050936119312244637, 0.008238681424071536, 0.0036143352597136787, 0.005607800401233284, 0.0025444087200298623, 0.019754369486924619, 0.008088683576243998, 0.0, 0.0077047868625348317, 0.0065852856156395825, 0.0015393751346797165, 0.005668936813507235, 0.0010016733692713726, 0.0065990598011115165, 0.0050674066527983952, 0.0015393751346797165, 0.0066773510107629745, 0.0015127146704332129, 0.0010033534773107617, 0.0025444087200298623, 0.0015127146704332129, 0.020761540704040373, 0.0010385384500440277, 0.0061854044439900308, 0.0010385384500440277, 0.0076763527928345732, 0.0015393751346797165, 0.0025548226894230226, 0.0010101978777581351, 0.0015393751346797213, 0.0005008366846356888, 0.0015393751346797165, 0.0010101978777581351, 0.0010101978777581351, 0.0010300139415572653, 0.00050936119312244637, 0.0015393751346797165, 0.00050936119312244637, 0.0020220758635556592, 0.0010187223862448975, 0.0025444087200298623, 0.0015127146704332129, 0.0040563311891210398, 0.0010385384500440277, 0.0040760618683429806, 0.00050936119312244637, 0.0025366867336632723, 0.0015393751346797165, 0.0015308506261929541, 0.0050948696391650674, 0.0050810954536931333, 0.0010016733692713726, 0.0041208482133005854, 0.0, 0.0005008366846356888, 0.0015393751346797165, 0.00052917725692158137, 0.0035417203190134224, 0.0010583545138431627, 0.0036045572351535793, 0.0005008366846356888, 0.0046483453621827594, 0.0010300139415572701, 0.0010016733692713726, 0.0015308506261929541, 0.0015393751346797165, 0.0005008366846356888, 0.0060828542075416917, 0.0005008366846356888, 0.0056318827756944041, 0.0005008366846356888, 0.0040985495193418897, 0.0010300139415572701, 0.0020273255405408351, 0.0015393751346797165, 0.0015127146704332129, 0.0010385384500440277, 0.00050936119312245125, 0.0015393751346797165, 0.0, 0.0076763527928345732, 0.0010385384500440277, 0.0010385384500440277, 0.0005008366846356888, 0.0, 0.0005008366846356888, 0.0010101978777581351, 0.0005008366846356888, 0.0005008366846356888, 0.0005008366846356888, 0.0015393751346797165, 0.0005008366846356888, 0.0005008366846356888, 0.0015393751346797165, 0.0010033534773107617, 0.0015393751346797165, 0.0010101978777581351, 0.0015393751346797165, 0.0005008366846356888]\n",
        "[1.0, 1.0, 1.0, 1.0, 1.0, 1.0, 1.0, 1.0, 0.5, 0.5, 0.5, 0.5, 0.5, 0.5, 0.5, 0.5, 0.5, 0.5, 0.50000000000000011, 0.49999999999999989, 0.50000000000000011, 0.5, 0.5, 0.5, 0.5, 0.49999999999999989, 0.5, 0.49999999999999989, 0.5, 0.50000000000000022, 0.5, 0.5, 0.5, 0.5, 0.5, 0.5, 0.33333333333333331, 0.33333333333333331, 0.33333333333333331, 0.33333333333333326, 0.33333333333333337, 0.33333333333333326, 0.33333333333333331, 0.33333333333333331, 0.33333333333333331, 0.33333333333333331, 0.33333333333333331, 0.33333333333333331, 0.33333333333333331, 0.33333333333333331, 0.33333333333333331, 0.33333333333333331, 0.33333333333333337, 0.33333333333333331, 0.33333333333333337, 0.33333333333333331, 0.33333333333333337, 0.33333333333333337, 0.33333333333333331, 0.33333333333333331, 0.33333333333333331, 0.33333333333333331, 0.33333333333333331, 0.33333333333333331, 0.33333333333333331, 0.33333333333333331, 0.33333333333333343, 0.33333333333333331, 0.33333333333333331, 0.33333333333333331, 0.33333333333333331, 0.33333333333333331, 0.33333333333333337, 0.33333333333333326, 0.33333333333333337, 0.33333333333333331, 0.33333333333333331, 0.33333333333333331, 0.33333333333333331, 0.33333333333333326, 0.33333333333333326, 0.33333333333333331, 0.33333333333333337, 0.33333333333333331, 0.33333333333333331, 0.33333333333333331, 0.33333333333333337, 0.33333333333333331, 0.33333333333333331, 0.33333333333333326, 0.33333333333333331, 0.33333333333333331, 0.25, 0.25, 0.25, 0.25, 0.25, 0.25, 0.25, 0.25, 0.25, 0.25, 0.25, 0.25, 0.25, 0.25, 0.25, 0.25]\n",
        "[ 0.12885371  0.30014604  0.48519622  0.08580403]"
       ]
      },
      {
       "output_type": "stream",
       "stream": "stdout",
       "text": [
        "\n",
        "[ 0.20013033  0.2956561   0.42238147  0.08183209]"
       ]
      },
      {
       "output_type": "stream",
       "stream": "stdout",
       "text": [
        "\n",
        "[ 0.17549482  0.26808671  0.45655     0.09986847]"
       ]
      },
      {
       "output_type": "stream",
       "stream": "stdout",
       "text": [
        "\n",
        "[ 0.1722126   0.28010679  0.46352615  0.08415446]"
       ]
      },
      {
       "output_type": "stream",
       "stream": "stdout",
       "text": [
        "\n",
        "[ 0.1575278   0.26254736  0.48054316  0.09938168]"
       ]
      },
      {
       "output_type": "stream",
       "stream": "stdout",
       "text": [
        "\n",
        "[ 0.17296401  0.23933518  0.49296977  0.09473105]"
       ]
      },
      {
       "output_type": "stream",
       "stream": "stdout",
       "text": [
        "\n",
        "[ 0.1883887   0.27053954  0.46127247  0.07979929]"
       ]
      },
      {
       "output_type": "stream",
       "stream": "stdout",
       "text": [
        "\n",
        "[ 0.19748452  0.25804805  0.43733787  0.10712956]"
       ]
      },
      {
       "output_type": "stream",
       "stream": "stdout",
       "text": [
        "\n",
        "[ 0.15986896  0.28750312  0.44282347  0.10980444]"
       ]
      },
      {
       "output_type": "stream",
       "stream": "stdout",
       "text": [
        "\n",
        "[ 0.15439149  0.26978071  0.46551799  0.11030981]"
       ]
      },
      {
       "output_type": "stream",
       "stream": "stdout",
       "text": [
        "\n",
        "[0.5, 0.5, 0.5, 0.5, 0.5, 0.5, 0.5, 0.5, 0.5, 0.5, 0.5, 0.5, 0.5, 0.5, 0.5, 0.5, 0.5, 0.5, 0.5, 0.5, 0.5, 0.5, 0.5, 0.5, 0.5, 0.5, 0.5, 0.5, 0.5, 0.5, 0.5, 0.5, 0.5, 0.5, 0.5, 0.5, 0.5, 0.5, 0.5, 0.5, 0.5, 0.5, 0.5, 0.5, 0.5, 0.5, 0.5, 0.5, 0.5, 0.5, 0.5, 0.5, 0.5, 0.5, 0.5, 0.5, 0.5, 0.5, 0.5, 0.5, 0.5, 0.5, 0.5, 0.5, 0.5, 0.5, 0.5, 0.5, 0.5, 0.5, 0.5, 0.5, 0.5, 0.5, 0.5, 0.5, 0.5, 0.5, 0.5, 0.5, 0.5, 0.5, 0.5, 0.5, 0.5, 0.5, 0.5, 0.5, 0.5, 0.5, 0.5, 0.5, 0.5, 0.5, 0.5, 0.5, 0.5, 0.5, 0.5, 0.5, 0.5, 0.5, 0.5, 0.5, 0.5, 0.5, 0.5, 0.5, 0.5]"
       ]
      },
      {
       "output_type": "stream",
       "stream": "stdout",
       "text": [
        "\n",
        "[0.035308450180920395, 0.015900278873051947, 0.027606640458033495, 0.020287811471444019, 0.028085748571213369, 0.035450017068918892, 0.0030537699131523133, 0.018801048240551517, 0.0010101978777581351, 0.00050936119312244637, 0.008238681424071536, 0.0036143352597136787, 0.005607800401233284, 0.0025444087200298623, 0.019754369486924619, 0.008088683576243998, 0.0, 0.0077047868625348317, 0.0065852856156395825, 0.0015393751346797165, 0.005668936813507235, 0.0010016733692713726, 0.0065990598011115165, 0.0050674066527983952, 0.0015393751346797165, 0.0066773510107629745, 0.0015127146704332129, 0.0010033534773107617, 0.0025444087200298623, 0.0015127146704332129, 0.020761540704040373, 0.0010385384500440277, 0.0061854044439900308, 0.0010385384500440277, 0.0076763527928345732, 0.0015393751346797165, 0.0025548226894230226, 0.0010101978777581351, 0.0015393751346797213, 0.0005008366846356888, 0.0015393751346797165, 0.0010101978777581351, 0.0010101978777581351, 0.0010300139415572653, 0.00050936119312244637, 0.0015393751346797165, 0.00050936119312244637, 0.0020220758635556592, 0.0010187223862448975, 0.0025444087200298623, 0.0015127146704332129, 0.0040563311891210398, 0.0010385384500440277, 0.0040760618683429806, 0.00050936119312244637, 0.0025366867336632723, 0.0015393751346797165, 0.0015308506261929541, 0.0050948696391650674, 0.0050810954536931333, 0.0010016733692713726, 0.0041208482133005854, 0.0, 0.0005008366846356888, 0.0015393751346797165, 0.00052917725692158137, 0.0035417203190134224, 0.0010583545138431627, 0.0036045572351535793, 0.0005008366846356888, 0.0046483453621827594, 0.0010300139415572701, 0.0010016733692713726, 0.0015308506261929541, 0.0015393751346797165, 0.0005008366846356888, 0.0060828542075416917, 0.0005008366846356888, 0.0056318827756944041, 0.0005008366846356888, 0.0040985495193418897, 0.0010300139415572701, 0.0020273255405408351, 0.0015393751346797165, 0.0015127146704332129, 0.0010385384500440277, 0.00050936119312245125, 0.0015393751346797165, 0.0, 0.0076763527928345732, 0.0010385384500440277, 0.0010385384500440277, 0.0005008366846356888, 0.0, 0.0005008366846356888, 0.0010101978777581351, 0.0005008366846356888, 0.0005008366846356888, 0.0005008366846356888, 0.0015393751346797165, 0.0005008366846356888, 0.0005008366846356888, 0.0015393751346797165, 0.0010033534773107617, 0.0015393751346797165, 0.0010101978777581351, 0.0015393751346797165, 0.0005008366846356888, 0.0010101978777581351]\n",
        "[1.0, 1.0, 1.0, 1.0, 1.0, 1.0, 1.0, 1.0, 0.5, 0.5, 0.5, 0.5, 0.5, 0.5, 0.5, 0.5, 0.5, 0.5, 0.50000000000000011, 0.49999999999999989, 0.50000000000000011, 0.5, 0.5, 0.5, 0.5, 0.49999999999999989, 0.5, 0.49999999999999989, 0.5, 0.50000000000000022, 0.5, 0.5, 0.5, 0.5, 0.5, 0.5, 0.33333333333333331, 0.33333333333333331, 0.33333333333333331, 0.33333333333333326, 0.33333333333333337, 0.33333333333333326, 0.33333333333333331, 0.33333333333333331, 0.33333333333333331, 0.33333333333333331, 0.33333333333333331, 0.33333333333333331, 0.33333333333333331, 0.33333333333333331, 0.33333333333333331, 0.33333333333333331, 0.33333333333333337, 0.33333333333333331, 0.33333333333333337, 0.33333333333333331, 0.33333333333333337, 0.33333333333333337, 0.33333333333333331, 0.33333333333333331, 0.33333333333333331, 0.33333333333333331, 0.33333333333333331, 0.33333333333333331, 0.33333333333333331, 0.33333333333333331, 0.33333333333333343, 0.33333333333333331, 0.33333333333333331, 0.33333333333333331, 0.33333333333333331, 0.33333333333333331, 0.33333333333333337, 0.33333333333333326, 0.33333333333333337, 0.33333333333333331, 0.33333333333333331, 0.33333333333333331, 0.33333333333333331, 0.33333333333333326, 0.33333333333333326, 0.33333333333333331, 0.33333333333333337, 0.33333333333333331, 0.33333333333333331, 0.33333333333333331, 0.33333333333333337, 0.33333333333333331, 0.33333333333333331, 0.33333333333333326, 0.33333333333333331, 0.33333333333333331, 0.25, 0.25, 0.25, 0.25, 0.25, 0.25, 0.25, 0.25, 0.25, 0.25, 0.25, 0.25, 0.25, 0.25, 0.25, 0.25, 0.25]\n",
        "[ 0.02517849  0.15848407  0.269567    0.54677043]"
       ]
      },
      {
       "output_type": "stream",
       "stream": "stdout",
       "text": [
        "\n",
        "[ 0.06796081  0.1572268   0.23191581  0.54289658]"
       ]
      },
      {
       "output_type": "stream",
       "stream": "stdout",
       "text": [
        "\n",
        "[ 0.05932768  0.16529006  0.31948599  0.45589627]"
       ]
      },
      {
       "output_type": "stream",
       "stream": "stdout",
       "text": [
        "\n",
        "[ 0.02825989  0.14391812  0.28868328  0.5391387 ]"
       ]
      },
      {
       "output_type": "stream",
       "stream": "stdout",
       "text": [
        "\n",
        "[ 0.03109218  0.13329627  0.29357934  0.54203222]"
       ]
      },
      {
       "output_type": "stream",
       "stream": "stdout",
       "text": [
        "\n",
        "[ 0.06386104  0.12899623  0.28226418  0.52487854]"
       ]
      },
      {
       "output_type": "stream",
       "stream": "stdout",
       "text": [
        "\n",
        "[ 0.06946691  0.13360464  0.20963668  0.58729177]"
       ]
      },
      {
       "output_type": "stream",
       "stream": "stdout",
       "text": [
        "\n",
        "[ 0.02764615  0.15475691  0.25539843  0.56219851]"
       ]
      },
      {
       "output_type": "stream",
       "stream": "stdout",
       "text": [
        "\n",
        "[ 0.0419424   0.15051836  0.23814647  0.56939277]"
       ]
      },
      {
       "output_type": "stream",
       "stream": "stdout",
       "text": [
        "\n",
        "[ 0.04480566  0.15852061  0.26228689  0.53438685]"
       ]
      },
      {
       "output_type": "stream",
       "stream": "stdout",
       "text": [
        "\n",
        "[0.5, 0.5, 0.5, 0.5, 0.5, 0.5, 0.5, 0.5, 0.5, 0.5, 0.5, 0.5, 0.5, 0.5, 0.5, 0.5, 0.5, 0.5, 0.5, 0.5, 0.5, 0.5, 0.5, 0.5, 0.5, 0.5, 0.5, 0.5, 0.5, 0.5, 0.5, 0.5, 0.5, 0.5, 0.5, 0.5, 0.5, 0.5, 0.5, 0.5, 0.5, 0.5, 0.5, 0.5, 0.5, 0.5, 0.5, 0.5, 0.5, 0.5, 0.5, 0.5, 0.5, 0.5, 0.5, 0.5, 0.5, 0.5, 0.5, 0.5, 0.5, 0.5, 0.5, 0.5, 0.5, 0.5, 0.5, 0.5, 0.5, 0.5, 0.5, 0.5, 0.5, 0.5, 0.5, 0.5, 0.5, 0.5, 0.5, 0.5, 0.5, 0.5, 0.5, 0.5, 0.5, 0.5, 0.5, 0.5, 0.5, 0.5, 0.5, 0.5, 0.5, 0.5, 0.5, 0.5, 0.5, 0.5, 0.5, 0.5, 0.5, 0.5, 0.5, 0.5, 0.5, 0.5, 0.5, 0.5, 0.5, 0.5]"
       ]
      },
      {
       "output_type": "stream",
       "stream": "stdout",
       "text": [
        "\n",
        "[0.035308450180920395, 0.015900278873051947, 0.027606640458033495, 0.020287811471444019, 0.028085748571213369, 0.035450017068918892, 0.0030537699131523133, 0.018801048240551517, 0.0010101978777581351, 0.00050936119312244637, 0.008238681424071536, 0.0036143352597136787, 0.005607800401233284, 0.0025444087200298623, 0.019754369486924619, 0.008088683576243998, 0.0, 0.0077047868625348317, 0.0065852856156395825, 0.0015393751346797165, 0.005668936813507235, 0.0010016733692713726, 0.0065990598011115165, 0.0050674066527983952, 0.0015393751346797165, 0.0066773510107629745, 0.0015127146704332129, 0.0010033534773107617, 0.0025444087200298623, 0.0015127146704332129, 0.020761540704040373, 0.0010385384500440277, 0.0061854044439900308, 0.0010385384500440277, 0.0076763527928345732, 0.0015393751346797165, 0.0025548226894230226, 0.0010101978777581351, 0.0015393751346797213, 0.0005008366846356888, 0.0015393751346797165, 0.0010101978777581351, 0.0010101978777581351, 0.0010300139415572653, 0.00050936119312244637, 0.0015393751346797165, 0.00050936119312244637, 0.0020220758635556592, 0.0010187223862448975, 0.0025444087200298623, 0.0015127146704332129, 0.0040563311891210398, 0.0010385384500440277, 0.0040760618683429806, 0.00050936119312244637, 0.0025366867336632723, 0.0015393751346797165, 0.0015308506261929541, 0.0050948696391650674, 0.0050810954536931333, 0.0010016733692713726, 0.0041208482133005854, 0.0, 0.0005008366846356888, 0.0015393751346797165, 0.00052917725692158137, 0.0035417203190134224, 0.0010583545138431627, 0.0036045572351535793, 0.0005008366846356888, 0.0046483453621827594, 0.0010300139415572701, 0.0010016733692713726, 0.0015308506261929541, 0.0015393751346797165, 0.0005008366846356888, 0.0060828542075416917, 0.0005008366846356888, 0.0056318827756944041, 0.0005008366846356888, 0.0040985495193418897, 0.0010300139415572701, 0.0020273255405408351, 0.0015393751346797165, 0.0015127146704332129, 0.0010385384500440277, 0.00050936119312245125, 0.0015393751346797165, 0.0, 0.0076763527928345732, 0.0010385384500440277, 0.0010385384500440277, 0.0005008366846356888, 0.0, 0.0005008366846356888, 0.0010101978777581351, 0.0005008366846356888, 0.0005008366846356888, 0.0005008366846356888, 0.0015393751346797165, 0.0005008366846356888, 0.0005008366846356888, 0.0015393751346797165, 0.0010033534773107617, 0.0015393751346797165, 0.0010101978777581351, 0.0015393751346797165, 0.0005008366846356888, 0.0010101978777581351, 0.0015393751346797165]\n",
        "[1.0, 1.0, 1.0, 1.0, 1.0, 1.0, 1.0, 1.0, 0.5, 0.5, 0.5, 0.5, 0.5, 0.5, 0.5, 0.5, 0.5, 0.5, 0.50000000000000011, 0.49999999999999989, 0.50000000000000011, 0.5, 0.5, 0.5, 0.5, 0.49999999999999989, 0.5, 0.49999999999999989, 0.5, 0.50000000000000022, 0.5, 0.5, 0.5, 0.5, 0.5, 0.5, 0.33333333333333331, 0.33333333333333331, 0.33333333333333331, 0.33333333333333326, 0.33333333333333337, 0.33333333333333326, 0.33333333333333331, 0.33333333333333331, 0.33333333333333331, 0.33333333333333331, 0.33333333333333331, 0.33333333333333331, 0.33333333333333331, 0.33333333333333331, 0.33333333333333331, 0.33333333333333331, 0.33333333333333337, 0.33333333333333331, 0.33333333333333337, 0.33333333333333331, 0.33333333333333337, 0.33333333333333337, 0.33333333333333331, 0.33333333333333331, 0.33333333333333331, 0.33333333333333331, 0.33333333333333331, 0.33333333333333331, 0.33333333333333331, 0.33333333333333331, 0.33333333333333343, 0.33333333333333331, 0.33333333333333331, 0.33333333333333331, 0.33333333333333331, 0.33333333333333331, 0.33333333333333337, 0.33333333333333326, 0.33333333333333337, 0.33333333333333331, 0.33333333333333331, 0.33333333333333331, 0.33333333333333331, 0.33333333333333326, 0.33333333333333326, 0.33333333333333331, 0.33333333333333337, 0.33333333333333331, 0.33333333333333331, 0.33333333333333331, 0.33333333333333337, 0.33333333333333331, 0.33333333333333331, 0.33333333333333326, 0.33333333333333331, 0.33333333333333331, 0.25, 0.25, 0.25, 0.25, 0.25, 0.25, 0.25, 0.25, 0.25, 0.25, 0.25, 0.25, 0.25, 0.25, 0.25, 0.25, 0.25, 0.25000000000000006]\n",
        "[ 0.14264033  0.30873191  0.4811374   0.06749036]"
       ]
      },
      {
       "output_type": "stream",
       "stream": "stdout",
       "text": [
        "\n",
        "[ 0.17973341  0.29286485  0.45124728  0.07615446]"
       ]
      },
      {
       "output_type": "stream",
       "stream": "stdout",
       "text": [
        "\n",
        "[ 0.1596436  0.3026993  0.4707618  0.0668953]"
       ]
      },
      {
       "output_type": "stream",
       "stream": "stdout",
       "text": [
        "\n",
        "[ 0.15888582  0.33195407  0.44587932  0.06328078]"
       ]
      },
      {
       "output_type": "stream",
       "stream": "stdout",
       "text": [
        "\n",
        "[ 0.19093648  0.26697202  0.47326907  0.06882243]"
       ]
      },
      {
       "output_type": "stream",
       "stream": "stdout",
       "text": [
        "\n",
        "[ 0.20902038  0.28130968  0.43646444  0.0732055 ]"
       ]
      },
      {
       "output_type": "stream",
       "stream": "stdout",
       "text": [
        "\n",
        "[ 0.21743038  0.28173775  0.42764269  0.07318918]"
       ]
      },
      {
       "output_type": "stream",
       "stream": "stdout",
       "text": [
        "\n",
        "[ 0.1481562   0.27565786  0.50350804  0.07267789]"
       ]
      },
      {
       "output_type": "stream",
       "stream": "stdout",
       "text": [
        "\n",
        "[ 0.17019483  0.29468251  0.47547314  0.05964952]"
       ]
      },
      {
       "output_type": "stream",
       "stream": "stdout",
       "text": [
        "\n",
        "[ 0.17608693  0.33886663  0.4394096   0.04563683]"
       ]
      },
      {
       "output_type": "stream",
       "stream": "stdout",
       "text": [
        "\n",
        "[0.5, 0.5, 0.5, 0.5, 0.5, 0.5, 0.5, 0.5, 0.5, 0.5, 0.5, 0.5, 0.5, 0.5, 0.5, 0.5, 0.5, 0.5, 0.5, 0.5, 0.5, 0.5, 0.5, 0.5, 0.5, 0.5, 0.5, 0.5, 0.5, 0.5, 0.5, 0.5, 0.5, 0.5, 0.5, 0.5, 0.5, 0.5, 0.5, 0.5, 0.5, 0.5, 0.5, 0.5, 0.5, 0.5, 0.5, 0.5, 0.5, 0.5, 0.5, 0.5, 0.5, 0.5, 0.5, 0.5, 0.5, 0.5, 0.5, 0.5, 0.5, 0.5, 0.5, 0.5, 0.5, 0.5, 0.5, 0.5, 0.5, 0.5, 0.5, 0.5, 0.5, 0.5, 0.5, 0.5, 0.5, 0.5, 0.5, 0.5, 0.5, 0.5, 0.5, 0.5, 0.5, 0.5, 0.5, 0.5, 0.5, 0.5, 0.5, 0.5, 0.5, 0.5, 0.5, 0.5, 0.5, 0.5, 0.5, 0.5, 0.5, 0.5, 0.5, 0.5, 0.5, 0.5, 0.5, 0.5, 0.5, 0.5, 0.5]"
       ]
      },
      {
       "output_type": "stream",
       "stream": "stdout",
       "text": [
        "\n",
        "[0.035308450180920395, 0.015900278873051947, 0.027606640458033495, 0.020287811471444019, 0.028085748571213369, 0.035450017068918892, 0.0030537699131523133, 0.018801048240551517, 0.0010101978777581351, 0.00050936119312244637, 0.008238681424071536, 0.0036143352597136787, 0.005607800401233284, 0.0025444087200298623, 0.019754369486924619, 0.008088683576243998, 0.0, 0.0077047868625348317, 0.0065852856156395825, 0.0015393751346797165, 0.005668936813507235, 0.0010016733692713726, 0.0065990598011115165, 0.0050674066527983952, 0.0015393751346797165, 0.0066773510107629745, 0.0015127146704332129, 0.0010033534773107617, 0.0025444087200298623, 0.0015127146704332129, 0.020761540704040373, 0.0010385384500440277, 0.0061854044439900308, 0.0010385384500440277, 0.0076763527928345732, 0.0015393751346797165, 0.0025548226894230226, 0.0010101978777581351, 0.0015393751346797213, 0.0005008366846356888, 0.0015393751346797165, 0.0010101978777581351, 0.0010101978777581351, 0.0010300139415572653, 0.00050936119312244637, 0.0015393751346797165, 0.00050936119312244637, 0.0020220758635556592, 0.0010187223862448975, 0.0025444087200298623, 0.0015127146704332129, 0.0040563311891210398, 0.0010385384500440277, 0.0040760618683429806, 0.00050936119312244637, 0.0025366867336632723, 0.0015393751346797165, 0.0015308506261929541, 0.0050948696391650674, 0.0050810954536931333, 0.0010016733692713726, 0.0041208482133005854, 0.0, 0.0005008366846356888, 0.0015393751346797165, 0.00052917725692158137, 0.0035417203190134224, 0.0010583545138431627, 0.0036045572351535793, 0.0005008366846356888, 0.0046483453621827594, 0.0010300139415572701, 0.0010016733692713726, 0.0015308506261929541, 0.0015393751346797165, 0.0005008366846356888, 0.0060828542075416917, 0.0005008366846356888, 0.0056318827756944041, 0.0005008366846356888, 0.0040985495193418897, 0.0010300139415572701, 0.0020273255405408351, 0.0015393751346797165, 0.0015127146704332129, 0.0010385384500440277, 0.00050936119312245125, 0.0015393751346797165, 0.0, 0.0076763527928345732, 0.0010385384500440277, 0.0010385384500440277, 0.0005008366846356888, 0.0, 0.0005008366846356888, 0.0010101978777581351, 0.0005008366846356888, 0.0005008366846356888, 0.0005008366846356888, 0.0015393751346797165, 0.0005008366846356888, 0.0005008366846356888, 0.0015393751346797165, 0.0010033534773107617, 0.0015393751346797165, 0.0010101978777581351, 0.0015393751346797165, 0.0005008366846356888, 0.0010101978777581351, 0.0015393751346797165, 0.0005008366846356888]\n",
        "[1.0, 1.0, 1.0, 1.0, 1.0, 1.0, 1.0, 1.0, 0.5, 0.5, 0.5, 0.5, 0.5, 0.5, 0.5, 0.5, 0.5, 0.5, 0.50000000000000011, 0.49999999999999989, 0.50000000000000011, 0.5, 0.5, 0.5, 0.5, 0.49999999999999989, 0.5, 0.49999999999999989, 0.5, 0.50000000000000022, 0.5, 0.5, 0.5, 0.5, 0.5, 0.5, 0.33333333333333331, 0.33333333333333331, 0.33333333333333331, 0.33333333333333326, 0.33333333333333337, 0.33333333333333326, 0.33333333333333331, 0.33333333333333331, 0.33333333333333331, 0.33333333333333331, 0.33333333333333331, 0.33333333333333331, 0.33333333333333331, 0.33333333333333331, 0.33333333333333331, 0.33333333333333331, 0.33333333333333337, 0.33333333333333331, 0.33333333333333337, 0.33333333333333331, 0.33333333333333337, 0.33333333333333337, 0.33333333333333331, 0.33333333333333331, 0.33333333333333331, 0.33333333333333331, 0.33333333333333331, 0.33333333333333331, 0.33333333333333331, 0.33333333333333331, 0.33333333333333343, 0.33333333333333331, 0.33333333333333331, 0.33333333333333331, 0.33333333333333331, 0.33333333333333331, 0.33333333333333337, 0.33333333333333326, 0.33333333333333337, 0.33333333333333331, 0.33333333333333331, 0.33333333333333331, 0.33333333333333331, 0.33333333333333326, 0.33333333333333326, 0.33333333333333331, 0.33333333333333337, 0.33333333333333331, 0.33333333333333331, 0.33333333333333331, 0.33333333333333337, 0.33333333333333331, 0.33333333333333331, 0.33333333333333326, 0.33333333333333331, 0.33333333333333331, 0.25, 0.25, 0.25, 0.25, 0.25, 0.25, 0.25, 0.25, 0.25, 0.25, 0.25, 0.25, 0.25, 0.25, 0.25, 0.25, 0.25, 0.25000000000000006, 0.25]\n",
        "[ 0.39929888  0.39878113  0.10433158  0.09758841]"
       ]
      },
      {
       "output_type": "stream",
       "stream": "stdout",
       "text": [
        "\n",
        "[ 0.39677541  0.36680579  0.12335144  0.11306736]"
       ]
      },
      {
       "output_type": "stream",
       "stream": "stdout",
       "text": [
        "\n",
        "[ 0.44289892  0.38119846  0.10015709  0.07574552]"
       ]
      },
      {
       "output_type": "stream",
       "stream": "stdout",
       "text": [
        "\n",
        "[ 0.41839469  0.39960068  0.08056163  0.101443  ]"
       ]
      },
      {
       "output_type": "stream",
       "stream": "stdout",
       "text": [
        "\n",
        "[ 0.4194406   0.35438557  0.11925188  0.10692195]"
       ]
      },
      {
       "output_type": "stream",
       "stream": "stdout",
       "text": [
        "\n",
        "[ 0.47253997  0.35390827  0.06968309  0.10386868]"
       ]
      },
      {
       "output_type": "stream",
       "stream": "stdout",
       "text": [
        "\n",
        "[ 0.46168389  0.34156193  0.10012718  0.096627  ]"
       ]
      },
      {
       "output_type": "stream",
       "stream": "stdout",
       "text": [
        "\n",
        "[ 0.4198542   0.37221933  0.13087297  0.07705351]"
       ]
      },
      {
       "output_type": "stream",
       "stream": "stdout",
       "text": [
        "\n",
        "[ 0.42287565  0.36481494  0.09046132  0.12184809]"
       ]
      },
      {
       "output_type": "stream",
       "stream": "stdout",
       "text": [
        "\n",
        "[ 0.38424982  0.38021087  0.09672322  0.13881609]"
       ]
      },
      {
       "output_type": "stream",
       "stream": "stdout",
       "text": [
        "\n",
        "[0.5, 0.5, 0.5, 0.5, 0.5, 0.5, 0.5, 0.5, 0.5, 0.5, 0.5, 0.5, 0.5, 0.5, 0.5, 0.5, 0.5, 0.5, 0.5, 0.5, 0.5, 0.5, 0.5, 0.5, 0.5, 0.5, 0.5, 0.5, 0.5, 0.5, 0.5, 0.5, 0.5, 0.5, 0.5, 0.5, 0.5, 0.5, 0.5, 0.5, 0.5, 0.5, 0.5, 0.5, 0.5, 0.5, 0.5, 0.5, 0.5, 0.5, 0.5, 0.5, 0.5, 0.5, 0.5, 0.5, 0.5, 0.5, 0.5, 0.5, 0.5, 0.5, 0.5, 0.5, 0.5, 0.5, 0.5, 0.5, 0.5, 0.5, 0.5, 0.5, 0.5, 0.5, 0.5, 0.5, 0.5, 0.5, 0.5, 0.5, 0.5, 0.5, 0.5, 0.5, 0.5, 0.5, 0.5, 0.5, 0.5, 0.5, 0.5, 0.5, 0.5, 0.5, 0.5, 0.5, 0.5, 0.5, 0.5, 0.5, 0.5, 0.5, 0.5, 0.5, 0.5, 0.5, 0.5, 0.5, 0.5, 0.5, 0.5, 0.5]"
       ]
      },
      {
       "output_type": "stream",
       "stream": "stdout",
       "text": [
        "\n",
        "[0.035308450180920395, 0.015900278873051947, 0.027606640458033495, 0.020287811471444019, 0.028085748571213369, 0.035450017068918892, 0.0030537699131523133, 0.018801048240551517, 0.0010101978777581351, 0.00050936119312244637, 0.008238681424071536, 0.0036143352597136787, 0.005607800401233284, 0.0025444087200298623, 0.019754369486924619, 0.008088683576243998, 0.0, 0.0077047868625348317, 0.0065852856156395825, 0.0015393751346797165, 0.005668936813507235, 0.0010016733692713726, 0.0065990598011115165, 0.0050674066527983952, 0.0015393751346797165, 0.0066773510107629745, 0.0015127146704332129, 0.0010033534773107617, 0.0025444087200298623, 0.0015127146704332129, 0.020761540704040373, 0.0010385384500440277, 0.0061854044439900308, 0.0010385384500440277, 0.0076763527928345732, 0.0015393751346797165, 0.0025548226894230226, 0.0010101978777581351, 0.0015393751346797213, 0.0005008366846356888, 0.0015393751346797165, 0.0010101978777581351, 0.0010101978777581351, 0.0010300139415572653, 0.00050936119312244637, 0.0015393751346797165, 0.00050936119312244637, 0.0020220758635556592, 0.0010187223862448975, 0.0025444087200298623, 0.0015127146704332129, 0.0040563311891210398, 0.0010385384500440277, 0.0040760618683429806, 0.00050936119312244637, 0.0025366867336632723, 0.0015393751346797165, 0.0015308506261929541, 0.0050948696391650674, 0.0050810954536931333, 0.0010016733692713726, 0.0041208482133005854, 0.0, 0.0005008366846356888, 0.0015393751346797165, 0.00052917725692158137, 0.0035417203190134224, 0.0010583545138431627, 0.0036045572351535793, 0.0005008366846356888, 0.0046483453621827594, 0.0010300139415572701, 0.0010016733692713726, 0.0015308506261929541, 0.0015393751346797165, 0.0005008366846356888, 0.0060828542075416917, 0.0005008366846356888, 0.0056318827756944041, 0.0005008366846356888, 0.0040985495193418897, 0.0010300139415572701, 0.0020273255405408351, 0.0015393751346797165, 0.0015127146704332129, 0.0010385384500440277, 0.00050936119312245125, 0.0015393751346797165, 0.0, 0.0076763527928345732, 0.0010385384500440277, 0.0010385384500440277, 0.0005008366846356888, 0.0, 0.0005008366846356888, 0.0010101978777581351, 0.0005008366846356888, 0.0005008366846356888, 0.0005008366846356888, 0.0015393751346797165, 0.0005008366846356888, 0.0005008366846356888, 0.0015393751346797165, 0.0010033534773107617, 0.0015393751346797165, 0.0010101978777581351, 0.0015393751346797165, 0.0005008366846356888, 0.0010101978777581351, 0.0015393751346797165, 0.0005008366846356888, 0.0]\n",
        "[1.0, 1.0, 1.0, 1.0, 1.0, 1.0, 1.0, 1.0, 0.5, 0.5, 0.5, 0.5, 0.5, 0.5, 0.5, 0.5, 0.5, 0.5, 0.50000000000000011, 0.49999999999999989, 0.50000000000000011, 0.5, 0.5, 0.5, 0.5, 0.49999999999999989, 0.5, 0.49999999999999989, 0.5, 0.50000000000000022, 0.5, 0.5, 0.5, 0.5, 0.5, 0.5, 0.33333333333333331, 0.33333333333333331, 0.33333333333333331, 0.33333333333333326, 0.33333333333333337, 0.33333333333333326, 0.33333333333333331, 0.33333333333333331, 0.33333333333333331, 0.33333333333333331, 0.33333333333333331, 0.33333333333333331, 0.33333333333333331, 0.33333333333333331, 0.33333333333333331, 0.33333333333333331, 0.33333333333333337, 0.33333333333333331, 0.33333333333333337, 0.33333333333333331, 0.33333333333333337, 0.33333333333333337, 0.33333333333333331, 0.33333333333333331, 0.33333333333333331, 0.33333333333333331, 0.33333333333333331, 0.33333333333333331, 0.33333333333333331, 0.33333333333333331, 0.33333333333333343, 0.33333333333333331, 0.33333333333333331, 0.33333333333333331, 0.33333333333333331, 0.33333333333333331, 0.33333333333333337, 0.33333333333333326, 0.33333333333333337, 0.33333333333333331, 0.33333333333333331, 0.33333333333333331, 0.33333333333333331, 0.33333333333333326, 0.33333333333333326, 0.33333333333333331, 0.33333333333333337, 0.33333333333333331, 0.33333333333333331, 0.33333333333333331, 0.33333333333333337, 0.33333333333333331, 0.33333333333333331, 0.33333333333333326, 0.33333333333333331, 0.33333333333333331, 0.25, 0.25, 0.25, 0.25, 0.25, 0.25, 0.25, 0.25, 0.25, 0.25, 0.25, 0.25, 0.25, 0.25, 0.25, 0.25, 0.25, 0.25000000000000006, 0.25, 0.25]\n",
        "[ 0.1587184   0.21169714  0.05122717  0.57835729]"
       ]
      },
      {
       "output_type": "stream",
       "stream": "stdout",
       "text": [
        "\n",
        "[ 0.17624501  0.22653837  0.04065545  0.55656117]"
       ]
      },
      {
       "output_type": "stream",
       "stream": "stdout",
       "text": [
        "\n",
        "[ 0.17248695  0.18300102  0.04770407  0.59680797]"
       ]
      },
      {
       "output_type": "stream",
       "stream": "stdout",
       "text": [
        "\n",
        "[ 0.162478    0.17526972  0.04043043  0.62182185]"
       ]
      },
      {
       "output_type": "stream",
       "stream": "stdout",
       "text": [
        "\n",
        "[ 0.1863004   0.21508481  0.04394203  0.55467277]"
       ]
      },
      {
       "output_type": "stream",
       "stream": "stdout",
       "text": [
        "\n",
        "[ 0.17411937  0.17816253  0.05690279  0.59081531]"
       ]
      },
      {
       "output_type": "stream",
       "stream": "stdout",
       "text": [
        "\n",
        "[ 0.22855071  0.21962653  0.03989995  0.51192281]"
       ]
      },
      {
       "output_type": "stream",
       "stream": "stdout",
       "text": [
        "\n",
        "[ 0.16793394  0.19538384  0.06484226  0.57183996]"
       ]
      },
      {
       "output_type": "stream",
       "stream": "stdout",
       "text": [
        "\n",
        "[ 0.17679048  0.1905178   0.03658045  0.59611127]"
       ]
      },
      {
       "output_type": "stream",
       "stream": "stdout",
       "text": [
        "\n",
        "[ 0.14116538  0.20672276  0.05416124  0.59795062]"
       ]
      },
      {
       "output_type": "stream",
       "stream": "stdout",
       "text": [
        "\n",
        "[0.5, 0.5, 0.5, 0.5, 0.5, 0.5, 0.5, 0.5, 0.5, 0.5, 0.5, 0.5, 0.5, 0.5, 0.5, 0.5, 0.5, 0.5, 0.5, 0.5, 0.5, 0.5, 0.5, 0.5, 0.5, 0.5, 0.5, 0.5, 0.5, 0.5, 0.5, 0.5, 0.5, 0.5, 0.5, 0.5, 0.5, 0.5, 0.5, 0.5, 0.5, 0.5, 0.5, 0.5, 0.5, 0.5, 0.5, 0.5, 0.5, 0.5, 0.5, 0.5, 0.5, 0.5, 0.5, 0.5, 0.5, 0.5, 0.5, 0.5, 0.5, 0.5, 0.5, 0.5, 0.5, 0.5, 0.5, 0.5, 0.5, 0.5, 0.5, 0.5, 0.5, 0.5, 0.5, 0.5, 0.5, 0.5, 0.5, 0.5, 0.5, 0.5, 0.5, 0.5, 0.5, 0.5, 0.5, 0.5, 0.5, 0.5, 0.5, 0.5, 0.5, 0.5, 0.5, 0.5, 0.5, 0.5, 0.5, 0.5, 0.5, 0.5, 0.5, 0.5, 0.5, 0.5, 0.5, 0.5, 0.5, 0.5, 0.5, 0.5, 0.5]"
       ]
      },
      {
       "output_type": "stream",
       "stream": "stdout",
       "text": [
        "\n",
        "[0.035308450180920395, 0.015900278873051947, 0.027606640458033495, 0.020287811471444019, 0.028085748571213369, 0.035450017068918892, 0.0030537699131523133, 0.018801048240551517, 0.0010101978777581351, 0.00050936119312244637, 0.008238681424071536, 0.0036143352597136787, 0.005607800401233284, 0.0025444087200298623, 0.019754369486924619, 0.008088683576243998, 0.0, 0.0077047868625348317, 0.0065852856156395825, 0.0015393751346797165, 0.005668936813507235, 0.0010016733692713726, 0.0065990598011115165, 0.0050674066527983952, 0.0015393751346797165, 0.0066773510107629745, 0.0015127146704332129, 0.0010033534773107617, 0.0025444087200298623, 0.0015127146704332129, 0.020761540704040373, 0.0010385384500440277, 0.0061854044439900308, 0.0010385384500440277, 0.0076763527928345732, 0.0015393751346797165, 0.0025548226894230226, 0.0010101978777581351, 0.0015393751346797213, 0.0005008366846356888, 0.0015393751346797165, 0.0010101978777581351, 0.0010101978777581351, 0.0010300139415572653, 0.00050936119312244637, 0.0015393751346797165, 0.00050936119312244637, 0.0020220758635556592, 0.0010187223862448975, 0.0025444087200298623, 0.0015127146704332129, 0.0040563311891210398, 0.0010385384500440277, 0.0040760618683429806, 0.00050936119312244637, 0.0025366867336632723, 0.0015393751346797165, 0.0015308506261929541, 0.0050948696391650674, 0.0050810954536931333, 0.0010016733692713726, 0.0041208482133005854, 0.0, 0.0005008366846356888, 0.0015393751346797165, 0.00052917725692158137, 0.0035417203190134224, 0.0010583545138431627, 0.0036045572351535793, 0.0005008366846356888, 0.0046483453621827594, 0.0010300139415572701, 0.0010016733692713726, 0.0015308506261929541, 0.0015393751346797165, 0.0005008366846356888, 0.0060828542075416917, 0.0005008366846356888, 0.0056318827756944041, 0.0005008366846356888, 0.0040985495193418897, 0.0010300139415572701, 0.0020273255405408351, 0.0015393751346797165, 0.0015127146704332129, 0.0010385384500440277, 0.00050936119312245125, 0.0015393751346797165, 0.0, 0.0076763527928345732, 0.0010385384500440277, 0.0010385384500440277, 0.0005008366846356888, 0.0, 0.0005008366846356888, 0.0010101978777581351, 0.0005008366846356888, 0.0005008366846356888, 0.0005008366846356888, 0.0015393751346797165, 0.0005008366846356888, 0.0005008366846356888, 0.0015393751346797165, 0.0010033534773107617, 0.0015393751346797165, 0.0010101978777581351, 0.0015393751346797165, 0.0005008366846356888, 0.0010101978777581351, 0.0015393751346797165, 0.0005008366846356888, 0.0, 0.0010101978777581351]\n",
        "[1.0, 1.0, 1.0, 1.0, 1.0, 1.0, 1.0, 1.0, 0.5, 0.5, 0.5, 0.5, 0.5, 0.5, 0.5, 0.5, 0.5, 0.5, 0.50000000000000011, 0.49999999999999989, 0.50000000000000011, 0.5, 0.5, 0.5, 0.5, 0.49999999999999989, 0.5, 0.49999999999999989, 0.5, 0.50000000000000022, 0.5, 0.5, 0.5, 0.5, 0.5, 0.5, 0.33333333333333331, 0.33333333333333331, 0.33333333333333331, 0.33333333333333326, 0.33333333333333337, 0.33333333333333326, 0.33333333333333331, 0.33333333333333331, 0.33333333333333331, 0.33333333333333331, 0.33333333333333331, 0.33333333333333331, 0.33333333333333331, 0.33333333333333331, 0.33333333333333331, 0.33333333333333331, 0.33333333333333337, 0.33333333333333331, 0.33333333333333337, 0.33333333333333331, 0.33333333333333337, 0.33333333333333337, 0.33333333333333331, 0.33333333333333331, 0.33333333333333331, 0.33333333333333331, 0.33333333333333331, 0.33333333333333331, 0.33333333333333331, 0.33333333333333331, 0.33333333333333343, 0.33333333333333331, 0.33333333333333331, 0.33333333333333331, 0.33333333333333331, 0.33333333333333331, 0.33333333333333337, 0.33333333333333326, 0.33333333333333337, 0.33333333333333331, 0.33333333333333331, 0.33333333333333331, 0.33333333333333331, 0.33333333333333326, 0.33333333333333326, 0.33333333333333331, 0.33333333333333337, 0.33333333333333331, 0.33333333333333331, 0.33333333333333331, 0.33333333333333337, 0.33333333333333331, 0.33333333333333331, 0.33333333333333326, 0.33333333333333331, 0.33333333333333331, 0.25, 0.25, 0.25, 0.25, 0.25, 0.25, 0.25, 0.25, 0.25, 0.25, 0.25, 0.25, 0.25, 0.25, 0.25, 0.25, 0.25, 0.25000000000000006, 0.25, 0.25, 0.25]\n",
        "[ 0.39524199  0.35267084  0.13769253  0.11439464]"
       ]
      },
      {
       "output_type": "stream",
       "stream": "stdout",
       "text": [
        "\n",
        "[ 0.39920464  0.33719303  0.16136495  0.10223738]"
       ]
      },
      {
       "output_type": "stream",
       "stream": "stdout",
       "text": [
        "\n",
        "[ 0.42663498  0.39967784  0.09665163  0.07703555]"
       ]
      },
      {
       "output_type": "stream",
       "stream": "stdout",
       "text": [
        "\n",
        "[ 0.39328602  0.38632792  0.11632492  0.10406113]"
       ]
      },
      {
       "output_type": "stream",
       "stream": "stdout",
       "text": [
        "\n",
        "[ 0.40539916  0.38228067  0.12480924  0.08751092]"
       ]
      },
      {
       "output_type": "stream",
       "stream": "stdout",
       "text": [
        "\n",
        "[ 0.42010068  0.36039671  0.11257824  0.10692438]"
       ]
      },
      {
       "output_type": "stream",
       "stream": "stdout",
       "text": [
        "\n",
        "[ 0.3998377   0.38466574  0.11852901  0.09696755]"
       ]
      },
      {
       "output_type": "stream",
       "stream": "stdout",
       "text": [
        "\n",
        "[ 0.40256552  0.33841178  0.1380147   0.12100799]"
       ]
      },
      {
       "output_type": "stream",
       "stream": "stdout",
       "text": [
        "\n",
        "[ 0.38471329  0.36948191  0.13162455  0.11418025]"
       ]
      },
      {
       "output_type": "stream",
       "stream": "stdout",
       "text": [
        "\n",
        "[ 0.35638211  0.39434675  0.13656091  0.11271024]"
       ]
      },
      {
       "output_type": "stream",
       "stream": "stdout",
       "text": [
        "\n",
        "[0.5, 0.5, 0.5, 0.5, 0.5, 0.5, 0.5, 0.5, 0.5, 0.5, 0.5, 0.5, 0.5, 0.5, 0.5, 0.5, 0.5, 0.5, 0.5, 0.5, 0.5, 0.5, 0.5, 0.5, 0.5, 0.5, 0.5, 0.5, 0.5, 0.5, 0.5, 0.5, 0.5, 0.5, 0.5, 0.5, 0.5, 0.5, 0.5, 0.5, 0.5, 0.5, 0.5, 0.5, 0.5, 0.5, 0.5, 0.5, 0.5, 0.5, 0.5, 0.5, 0.5, 0.5, 0.5, 0.5, 0.5, 0.5, 0.5, 0.5, 0.5, 0.5, 0.5, 0.5, 0.5, 0.5, 0.5, 0.5, 0.5, 0.5, 0.5, 0.5, 0.5, 0.5, 0.5, 0.5, 0.5, 0.5, 0.5, 0.5, 0.5, 0.5, 0.5, 0.5, 0.5, 0.5, 0.5, 0.5, 0.5, 0.5, 0.5, 0.5, 0.5, 0.5, 0.5, 0.5, 0.5, 0.5, 0.5, 0.5, 0.5, 0.5, 0.5, 0.5, 0.5, 0.5, 0.5, 0.5, 0.5, 0.5, 0.5, 0.5, 0.5, 0.5]"
       ]
      },
      {
       "output_type": "stream",
       "stream": "stdout",
       "text": [
        "\n",
        "[0.035308450180920395, 0.015900278873051947, 0.027606640458033495, 0.020287811471444019, 0.028085748571213369, 0.035450017068918892, 0.0030537699131523133, 0.018801048240551517, 0.0010101978777581351, 0.00050936119312244637, 0.008238681424071536, 0.0036143352597136787, 0.005607800401233284, 0.0025444087200298623, 0.019754369486924619, 0.008088683576243998, 0.0, 0.0077047868625348317, 0.0065852856156395825, 0.0015393751346797165, 0.005668936813507235, 0.0010016733692713726, 0.0065990598011115165, 0.0050674066527983952, 0.0015393751346797165, 0.0066773510107629745, 0.0015127146704332129, 0.0010033534773107617, 0.0025444087200298623, 0.0015127146704332129, 0.020761540704040373, 0.0010385384500440277, 0.0061854044439900308, 0.0010385384500440277, 0.0076763527928345732, 0.0015393751346797165, 0.0025548226894230226, 0.0010101978777581351, 0.0015393751346797213, 0.0005008366846356888, 0.0015393751346797165, 0.0010101978777581351, 0.0010101978777581351, 0.0010300139415572653, 0.00050936119312244637, 0.0015393751346797165, 0.00050936119312244637, 0.0020220758635556592, 0.0010187223862448975, 0.0025444087200298623, 0.0015127146704332129, 0.0040563311891210398, 0.0010385384500440277, 0.0040760618683429806, 0.00050936119312244637, 0.0025366867336632723, 0.0015393751346797165, 0.0015308506261929541, 0.0050948696391650674, 0.0050810954536931333, 0.0010016733692713726, 0.0041208482133005854, 0.0, 0.0005008366846356888, 0.0015393751346797165, 0.00052917725692158137, 0.0035417203190134224, 0.0010583545138431627, 0.0036045572351535793, 0.0005008366846356888, 0.0046483453621827594, 0.0010300139415572701, 0.0010016733692713726, 0.0015308506261929541, 0.0015393751346797165, 0.0005008366846356888, 0.0060828542075416917, 0.0005008366846356888, 0.0056318827756944041, 0.0005008366846356888, 0.0040985495193418897, 0.0010300139415572701, 0.0020273255405408351, 0.0015393751346797165, 0.0015127146704332129, 0.0010385384500440277, 0.00050936119312245125, 0.0015393751346797165, 0.0, 0.0076763527928345732, 0.0010385384500440277, 0.0010385384500440277, 0.0005008366846356888, 0.0, 0.0005008366846356888, 0.0010101978777581351, 0.0005008366846356888, 0.0005008366846356888, 0.0005008366846356888, 0.0015393751346797165, 0.0005008366846356888, 0.0005008366846356888, 0.0015393751346797165, 0.0010033534773107617, 0.0015393751346797165, 0.0010101978777581351, 0.0015393751346797165, 0.0005008366846356888, 0.0010101978777581351, 0.0015393751346797165, 0.0005008366846356888, 0.0, 0.0010101978777581351, 0.00050936119312244637]\n",
        "[1.0, 1.0, 1.0, 1.0, 1.0, 1.0, 1.0, 1.0, 0.5, 0.5, 0.5, 0.5, 0.5, 0.5, 0.5, 0.5, 0.5, 0.5, 0.50000000000000011, 0.49999999999999989, 0.50000000000000011, 0.5, 0.5, 0.5, 0.5, 0.49999999999999989, 0.5, 0.49999999999999989, 0.5, 0.50000000000000022, 0.5, 0.5, 0.5, 0.5, 0.5, 0.5, 0.33333333333333331, 0.33333333333333331, 0.33333333333333331, 0.33333333333333326, 0.33333333333333337, 0.33333333333333326, 0.33333333333333331, 0.33333333333333331, 0.33333333333333331, 0.33333333333333331, 0.33333333333333331, 0.33333333333333331, 0.33333333333333331, 0.33333333333333331, 0.33333333333333331, 0.33333333333333331, 0.33333333333333337, 0.33333333333333331, 0.33333333333333337, 0.33333333333333331, 0.33333333333333337, 0.33333333333333337, 0.33333333333333331, 0.33333333333333331, 0.33333333333333331, 0.33333333333333331, 0.33333333333333331, 0.33333333333333331, 0.33333333333333331, 0.33333333333333331, 0.33333333333333343, 0.33333333333333331, 0.33333333333333331, 0.33333333333333331, 0.33333333333333331, 0.33333333333333331, 0.33333333333333337, 0.33333333333333326, 0.33333333333333337, 0.33333333333333331, 0.33333333333333331, 0.33333333333333331, 0.33333333333333331, 0.33333333333333326, 0.33333333333333326, 0.33333333333333331, 0.33333333333333337, 0.33333333333333331, 0.33333333333333331, 0.33333333333333331, 0.33333333333333337, 0.33333333333333331, 0.33333333333333331, 0.33333333333333326, 0.33333333333333331, 0.33333333333333331, 0.25, 0.25, 0.25, 0.25, 0.25, 0.25, 0.25, 0.25, 0.25, 0.25, 0.25, 0.25, 0.25, 0.25, 0.25, 0.25, 0.25, 0.25000000000000006, 0.25, 0.25, 0.25, 0.25]\n",
        "[ 0.10312666  0.20101416  0.02756362  0.66829555]"
       ]
      },
      {
       "output_type": "stream",
       "stream": "stdout",
       "text": [
        "\n",
        "[ 0.16823699  0.23959861  0.03096321  0.5612012 ]"
       ]
      },
      {
       "output_type": "stream",
       "stream": "stdout",
       "text": [
        "\n",
        "[ 0.13624841  0.15827382  0.03593729  0.66954047]"
       ]
      },
      {
       "output_type": "stream",
       "stream": "stdout",
       "text": [
        "\n",
        "[ 0.17651209  0.18150528  0.03641322  0.60556941]"
       ]
      },
      {
       "output_type": "stream",
       "stream": "stdout",
       "text": [
        "\n",
        "[ 0.12355111  0.19260619  0.05433029  0.62951241]"
       ]
      },
      {
       "output_type": "stream",
       "stream": "stdout",
       "text": [
        "\n",
        "[ 0.14218348  0.13601894  0.05014894  0.67164863]"
       ]
      },
      {
       "output_type": "stream",
       "stream": "stdout",
       "text": [
        "\n",
        "[ 0.1228319   0.15519916  0.03951018  0.68245876]"
       ]
      },
      {
       "output_type": "stream",
       "stream": "stdout",
       "text": [
        "\n",
        "[ 0.150276    0.18985504  0.07131336  0.5885556 ]"
       ]
      },
      {
       "output_type": "stream",
       "stream": "stdout",
       "text": [
        "\n",
        "[ 0.16529817  0.207803    0.06839336  0.55850547]"
       ]
      },
      {
       "output_type": "stream",
       "stream": "stdout",
       "text": [
        "\n",
        "[ 0.10930515  0.19812461  0.05151124  0.641059  ]"
       ]
      },
      {
       "output_type": "stream",
       "stream": "stdout",
       "text": [
        "\n",
        "[0.5, 0.5, 0.5, 0.5, 0.5, 0.5, 0.5, 0.5, 0.5, 0.5, 0.5, 0.5, 0.5, 0.5, 0.5, 0.5, 0.5, 0.5, 0.5, 0.5, 0.5, 0.5, 0.5, 0.5, 0.5, 0.5, 0.5, 0.5, 0.5, 0.5, 0.5, 0.5, 0.5, 0.5, 0.5, 0.5, 0.5, 0.5, 0.5, 0.5, 0.5, 0.5, 0.5, 0.5, 0.5, 0.5, 0.5, 0.5, 0.5, 0.5, 0.5, 0.5, 0.5, 0.5, 0.5, 0.5, 0.5, 0.5, 0.5, 0.5, 0.5, 0.5, 0.5, 0.5, 0.5, 0.5, 0.5, 0.5, 0.5, 0.5, 0.5, 0.5, 0.5, 0.5, 0.5, 0.5, 0.5, 0.5, 0.5, 0.5, 0.5, 0.5, 0.5, 0.5, 0.5, 0.5, 0.5, 0.5, 0.5, 0.5, 0.5, 0.5, 0.5, 0.5, 0.5, 0.5, 0.5, 0.5, 0.5, 0.5, 0.5, 0.5, 0.5, 0.5, 0.5, 0.5, 0.5, 0.5, 0.5, 0.5, 0.5, 0.5, 0.5, 0.5, 0.5]"
       ]
      },
      {
       "output_type": "stream",
       "stream": "stdout",
       "text": [
        "\n",
        "[0.035308450180920395, 0.015900278873051947, 0.027606640458033495, 0.020287811471444019, 0.028085748571213369, 0.035450017068918892, 0.0030537699131523133, 0.018801048240551517, 0.0010101978777581351, 0.00050936119312244637, 0.008238681424071536, 0.0036143352597136787, 0.005607800401233284, 0.0025444087200298623, 0.019754369486924619, 0.008088683576243998, 0.0, 0.0077047868625348317, 0.0065852856156395825, 0.0015393751346797165, 0.005668936813507235, 0.0010016733692713726, 0.0065990598011115165, 0.0050674066527983952, 0.0015393751346797165, 0.0066773510107629745, 0.0015127146704332129, 0.0010033534773107617, 0.0025444087200298623, 0.0015127146704332129, 0.020761540704040373, 0.0010385384500440277, 0.0061854044439900308, 0.0010385384500440277, 0.0076763527928345732, 0.0015393751346797165, 0.0025548226894230226, 0.0010101978777581351, 0.0015393751346797213, 0.0005008366846356888, 0.0015393751346797165, 0.0010101978777581351, 0.0010101978777581351, 0.0010300139415572653, 0.00050936119312244637, 0.0015393751346797165, 0.00050936119312244637, 0.0020220758635556592, 0.0010187223862448975, 0.0025444087200298623, 0.0015127146704332129, 0.0040563311891210398, 0.0010385384500440277, 0.0040760618683429806, 0.00050936119312244637, 0.0025366867336632723, 0.0015393751346797165, 0.0015308506261929541, 0.0050948696391650674, 0.0050810954536931333, 0.0010016733692713726, 0.0041208482133005854, 0.0, 0.0005008366846356888, 0.0015393751346797165, 0.00052917725692158137, 0.0035417203190134224, 0.0010583545138431627, 0.0036045572351535793, 0.0005008366846356888, 0.0046483453621827594, 0.0010300139415572701, 0.0010016733692713726, 0.0015308506261929541, 0.0015393751346797165, 0.0005008366846356888, 0.0060828542075416917, 0.0005008366846356888, 0.0056318827756944041, 0.0005008366846356888, 0.0040985495193418897, 0.0010300139415572701, 0.0020273255405408351, 0.0015393751346797165, 0.0015127146704332129, 0.0010385384500440277, 0.00050936119312245125, 0.0015393751346797165, 0.0, 0.0076763527928345732, 0.0010385384500440277, 0.0010385384500440277, 0.0005008366846356888, 0.0, 0.0005008366846356888, 0.0010101978777581351, 0.0005008366846356888, 0.0005008366846356888, 0.0005008366846356888, 0.0015393751346797165, 0.0005008366846356888, 0.0005008366846356888, 0.0015393751346797165, 0.0010033534773107617, 0.0015393751346797165, 0.0010101978777581351, 0.0015393751346797165, 0.0005008366846356888, 0.0010101978777581351, 0.0015393751346797165, 0.0005008366846356888, 0.0, 0.0010101978777581351, 0.00050936119312244637, 0.0015393751346797165]\n",
        "[1.0, 1.0, 1.0, 1.0, 1.0, 1.0, 1.0, 1.0, 0.5, 0.5, 0.5, 0.5, 0.5, 0.5, 0.5, 0.5, 0.5, 0.5, 0.50000000000000011, 0.49999999999999989, 0.50000000000000011, 0.5, 0.5, 0.5, 0.5, 0.49999999999999989, 0.5, 0.49999999999999989, 0.5, 0.50000000000000022, 0.5, 0.5, 0.5, 0.5, 0.5, 0.5, 0.33333333333333331, 0.33333333333333331, 0.33333333333333331, 0.33333333333333326, 0.33333333333333337, 0.33333333333333326, 0.33333333333333331, 0.33333333333333331, 0.33333333333333331, 0.33333333333333331, 0.33333333333333331, 0.33333333333333331, 0.33333333333333331, 0.33333333333333331, 0.33333333333333331, 0.33333333333333331, 0.33333333333333337, 0.33333333333333331, 0.33333333333333337, 0.33333333333333331, 0.33333333333333337, 0.33333333333333337, 0.33333333333333331, 0.33333333333333331, 0.33333333333333331, 0.33333333333333331, 0.33333333333333331, 0.33333333333333331, 0.33333333333333331, 0.33333333333333331, 0.33333333333333343, 0.33333333333333331, 0.33333333333333331, 0.33333333333333331, 0.33333333333333331, 0.33333333333333331, 0.33333333333333337, 0.33333333333333326, 0.33333333333333337, 0.33333333333333331, 0.33333333333333331, 0.33333333333333331, 0.33333333333333331, 0.33333333333333326, 0.33333333333333326, 0.33333333333333331, 0.33333333333333337, 0.33333333333333331, 0.33333333333333331, 0.33333333333333331, 0.33333333333333337, 0.33333333333333331, 0.33333333333333331, 0.33333333333333326, 0.33333333333333331, 0.33333333333333331, 0.25, 0.25, 0.25, 0.25, 0.25, 0.25, 0.25, 0.25, 0.25, 0.25, 0.25, 0.25, 0.25, 0.25, 0.25, 0.25, 0.25, 0.25000000000000006, 0.25, 0.25, 0.25, 0.25, 0.25]\n",
        "[ 0.37275527  0.41524157  0.11358389  0.09841926]"
       ]
      },
      {
       "output_type": "stream",
       "stream": "stdout",
       "text": [
        "\n",
        "[ 0.40038218  0.35268215  0.14676028  0.10017538]"
       ]
      },
      {
       "output_type": "stream",
       "stream": "stdout",
       "text": [
        "\n",
        "[ 0.39694582  0.36662798  0.11853779  0.11788842]"
       ]
      },
      {
       "output_type": "stream",
       "stream": "stdout",
       "text": [
        "\n",
        "[ 0.40008159  0.37329417  0.11267327  0.11395098]"
       ]
      },
      {
       "output_type": "stream",
       "stream": "stdout",
       "text": [
        "\n",
        "[ 0.41247635  0.36110053  0.13749716  0.08892596]"
       ]
      },
      {
       "output_type": "stream",
       "stream": "stdout",
       "text": [
        "\n",
        "[ 0.42807746  0.33643203  0.12279983  0.11269067]"
       ]
      },
      {
       "output_type": "stream",
       "stream": "stdout",
       "text": [
        "\n",
        "[ 0.41568327  0.3678619   0.12888497  0.08756987]"
       ]
      },
      {
       "output_type": "stream",
       "stream": "stdout",
       "text": [
        "\n",
        "[ 0.42896625  0.37284515  0.1139734   0.0842152 ]"
       ]
      },
      {
       "output_type": "stream",
       "stream": "stdout",
       "text": [
        "\n",
        "[ 0.37602628  0.37795429  0.12356353  0.1224559 ]"
       ]
      },
      {
       "output_type": "stream",
       "stream": "stdout",
       "text": [
        "\n",
        "[ 0.3953775   0.35053241  0.14960092  0.10448917]"
       ]
      },
      {
       "output_type": "stream",
       "stream": "stdout",
       "text": [
        "\n",
        "[0.5, 0.5, 0.5, 0.5, 0.5, 0.5, 0.5, 0.5, 0.5, 0.5, 0.5, 0.5, 0.5, 0.5, 0.5, 0.5, 0.5, 0.5, 0.5, 0.5, 0.5, 0.5, 0.5, 0.5, 0.5, 0.5, 0.5, 0.5, 0.5, 0.5, 0.5, 0.5, 0.5, 0.5, 0.5, 0.5, 0.5, 0.5, 0.5, 0.5, 0.5, 0.5, 0.5, 0.5, 0.5, 0.5, 0.5, 0.5, 0.5, 0.5, 0.5, 0.5, 0.5, 0.5, 0.5, 0.5, 0.5, 0.5, 0.5, 0.5, 0.5, 0.5, 0.5, 0.5, 0.5, 0.5, 0.5, 0.5, 0.5, 0.5, 0.5, 0.5, 0.5, 0.5, 0.5, 0.5, 0.5, 0.5, 0.5, 0.5, 0.5, 0.5, 0.5, 0.5, 0.5, 0.5, 0.5, 0.5, 0.5, 0.5, 0.5, 0.5, 0.5, 0.5, 0.5, 0.5, 0.5, 0.5, 0.5, 0.5, 0.5, 0.5, 0.5, 0.5, 0.5, 0.5, 0.5, 0.5, 0.5, 0.5, 0.5, 0.5, 0.5, 0.5, 0.5, 0.5]"
       ]
      },
      {
       "output_type": "stream",
       "stream": "stdout",
       "text": [
        "\n",
        "[0.035308450180920395, 0.015900278873051947, 0.027606640458033495, 0.020287811471444019, 0.028085748571213369, 0.035450017068918892, 0.0030537699131523133, 0.018801048240551517, 0.0010101978777581351, 0.00050936119312244637, 0.008238681424071536, 0.0036143352597136787, 0.005607800401233284, 0.0025444087200298623, 0.019754369486924619, 0.008088683576243998, 0.0, 0.0077047868625348317, 0.0065852856156395825, 0.0015393751346797165, 0.005668936813507235, 0.0010016733692713726, 0.0065990598011115165, 0.0050674066527983952, 0.0015393751346797165, 0.0066773510107629745, 0.0015127146704332129, 0.0010033534773107617, 0.0025444087200298623, 0.0015127146704332129, 0.020761540704040373, 0.0010385384500440277, 0.0061854044439900308, 0.0010385384500440277, 0.0076763527928345732, 0.0015393751346797165, 0.0025548226894230226, 0.0010101978777581351, 0.0015393751346797213, 0.0005008366846356888, 0.0015393751346797165, 0.0010101978777581351, 0.0010101978777581351, 0.0010300139415572653, 0.00050936119312244637, 0.0015393751346797165, 0.00050936119312244637, 0.0020220758635556592, 0.0010187223862448975, 0.0025444087200298623, 0.0015127146704332129, 0.0040563311891210398, 0.0010385384500440277, 0.0040760618683429806, 0.00050936119312244637, 0.0025366867336632723, 0.0015393751346797165, 0.0015308506261929541, 0.0050948696391650674, 0.0050810954536931333, 0.0010016733692713726, 0.0041208482133005854, 0.0, 0.0005008366846356888, 0.0015393751346797165, 0.00052917725692158137, 0.0035417203190134224, 0.0010583545138431627, 0.0036045572351535793, 0.0005008366846356888, 0.0046483453621827594, 0.0010300139415572701, 0.0010016733692713726, 0.0015308506261929541, 0.0015393751346797165, 0.0005008366846356888, 0.0060828542075416917, 0.0005008366846356888, 0.0056318827756944041, 0.0005008366846356888, 0.0040985495193418897, 0.0010300139415572701, 0.0020273255405408351, 0.0015393751346797165, 0.0015127146704332129, 0.0010385384500440277, 0.00050936119312245125, 0.0015393751346797165, 0.0, 0.0076763527928345732, 0.0010385384500440277, 0.0010385384500440277, 0.0005008366846356888, 0.0, 0.0005008366846356888, 0.0010101978777581351, 0.0005008366846356888, 0.0005008366846356888, 0.0005008366846356888, 0.0015393751346797165, 0.0005008366846356888, 0.0005008366846356888, 0.0015393751346797165, 0.0010033534773107617, 0.0015393751346797165, 0.0010101978777581351, 0.0015393751346797165, 0.0005008366846356888, 0.0010101978777581351, 0.0015393751346797165, 0.0005008366846356888, 0.0, 0.0010101978777581351, 0.00050936119312244637, 0.0015393751346797165, 0.00050936119312244637]\n",
        "[1.0, 1.0, 1.0, 1.0, 1.0, 1.0, 1.0, 1.0, 0.5, 0.5, 0.5, 0.5, 0.5, 0.5, 0.5, 0.5, 0.5, 0.5, 0.50000000000000011, 0.49999999999999989, 0.50000000000000011, 0.5, 0.5, 0.5, 0.5, 0.49999999999999989, 0.5, 0.49999999999999989, 0.5, 0.50000000000000022, 0.5, 0.5, 0.5, 0.5, 0.5, 0.5, 0.33333333333333331, 0.33333333333333331, 0.33333333333333331, 0.33333333333333326, 0.33333333333333337, 0.33333333333333326, 0.33333333333333331, 0.33333333333333331, 0.33333333333333331, 0.33333333333333331, 0.33333333333333331, 0.33333333333333331, 0.33333333333333331, 0.33333333333333331, 0.33333333333333331, 0.33333333333333331, 0.33333333333333337, 0.33333333333333331, 0.33333333333333337, 0.33333333333333331, 0.33333333333333337, 0.33333333333333337, 0.33333333333333331, 0.33333333333333331, 0.33333333333333331, 0.33333333333333331, 0.33333333333333331, 0.33333333333333331, 0.33333333333333331, 0.33333333333333331, 0.33333333333333343, 0.33333333333333331, 0.33333333333333331, 0.33333333333333331, 0.33333333333333331, 0.33333333333333331, 0.33333333333333337, 0.33333333333333326, 0.33333333333333337, 0.33333333333333331, 0.33333333333333331, 0.33333333333333331, 0.33333333333333331, 0.33333333333333326, 0.33333333333333326, 0.33333333333333331, 0.33333333333333337, 0.33333333333333331, 0.33333333333333331, 0.33333333333333331, 0.33333333333333337, 0.33333333333333331, 0.33333333333333331, 0.33333333333333326, 0.33333333333333331, 0.33333333333333331, 0.25, 0.25, 0.25, 0.25, 0.25, 0.25, 0.25, 0.25, 0.25, 0.25, 0.25, 0.25, 0.25, 0.25, 0.25, 0.25, 0.25, 0.25000000000000006, 0.25, 0.25, 0.25, 0.25, 0.25, 0.25]\n",
        "[ 0.17072051  0.24372168  0.55552013  0.03003767]"
       ]
      },
      {
       "output_type": "stream",
       "stream": "stdout",
       "text": [
        "\n",
        "[ 0.11871627  0.1860813   0.66391047  0.03129195]"
       ]
      },
      {
       "output_type": "stream",
       "stream": "stdout",
       "text": [
        "\n",
        "[ 0.14866973  0.16419253  0.66256815  0.02456959]"
       ]
      },
      {
       "output_type": "stream",
       "stream": "stdout",
       "text": [
        "\n",
        "[ 0.12024565  0.18504614  0.66173803  0.03297018]"
       ]
      },
      {
       "output_type": "stream",
       "stream": "stdout",
       "text": [
        "\n",
        "[ 0.17055973  0.2153752   0.57886524  0.03519982]"
       ]
      },
      {
       "output_type": "stream",
       "stream": "stdout",
       "text": [
        "\n",
        "[ 0.19337849  0.17657522  0.60032215  0.02972413]"
       ]
      },
      {
       "output_type": "stream",
       "stream": "stdout",
       "text": [
        "\n",
        "[ 0.20652963  0.2308213   0.53464518  0.0280039 ]"
       ]
      },
      {
       "output_type": "stream",
       "stream": "stdout",
       "text": [
        "\n",
        "[ 0.10705653  0.14373778  0.71423156  0.03497413]"
       ]
      },
      {
       "output_type": "stream",
       "stream": "stdout",
       "text": [
        "\n",
        "[ 0.13962707  0.20637499  0.61452581  0.03947214]"
       ]
      },
      {
       "output_type": "stream",
       "stream": "stdout",
       "text": [
        "\n",
        "[ 0.14370768  0.19178229  0.62808118  0.03642885]"
       ]
      },
      {
       "output_type": "stream",
       "stream": "stdout",
       "text": [
        "\n",
        "[0.5, 0.5, 0.5, 0.5, 0.5, 0.5, 0.5, 0.5, 0.5, 0.5, 0.5, 0.5, 0.5, 0.5, 0.5, 0.5, 0.5, 0.5, 0.5, 0.5, 0.5, 0.5, 0.5, 0.5, 0.5, 0.5, 0.5, 0.5, 0.5, 0.5, 0.5, 0.5, 0.5, 0.5, 0.5, 0.5, 0.5, 0.5, 0.5, 0.5, 0.5, 0.5, 0.5, 0.5, 0.5, 0.5, 0.5, 0.5, 0.5, 0.5, 0.5, 0.5, 0.5, 0.5, 0.5, 0.5, 0.5, 0.5, 0.5, 0.5, 0.5, 0.5, 0.5, 0.5, 0.5, 0.5, 0.5, 0.5, 0.5, 0.5, 0.5, 0.5, 0.5, 0.5, 0.5, 0.5, 0.5, 0.5, 0.5, 0.5, 0.5, 0.5, 0.5, 0.5, 0.5, 0.5, 0.5, 0.5, 0.5, 0.5, 0.5, 0.5, 0.5, 0.5, 0.5, 0.5, 0.5, 0.5, 0.5, 0.5, 0.5, 0.5, 0.5, 0.5, 0.5, 0.5, 0.5, 0.5, 0.5, 0.5, 0.5, 0.5, 0.5, 0.5, 0.5, 0.5, 0.5]"
       ]
      },
      {
       "output_type": "stream",
       "stream": "stdout",
       "text": [
        "\n",
        "[0.035308450180920395, 0.015900278873051947, 0.027606640458033495, 0.020287811471444019, 0.028085748571213369, 0.035450017068918892, 0.0030537699131523133, 0.018801048240551517, 0.0010101978777581351, 0.00050936119312244637, 0.008238681424071536, 0.0036143352597136787, 0.005607800401233284, 0.0025444087200298623, 0.019754369486924619, 0.008088683576243998, 0.0, 0.0077047868625348317, 0.0065852856156395825, 0.0015393751346797165, 0.005668936813507235, 0.0010016733692713726, 0.0065990598011115165, 0.0050674066527983952, 0.0015393751346797165, 0.0066773510107629745, 0.0015127146704332129, 0.0010033534773107617, 0.0025444087200298623, 0.0015127146704332129, 0.020761540704040373, 0.0010385384500440277, 0.0061854044439900308, 0.0010385384500440277, 0.0076763527928345732, 0.0015393751346797165, 0.0025548226894230226, 0.0010101978777581351, 0.0015393751346797213, 0.0005008366846356888, 0.0015393751346797165, 0.0010101978777581351, 0.0010101978777581351, 0.0010300139415572653, 0.00050936119312244637, 0.0015393751346797165, 0.00050936119312244637, 0.0020220758635556592, 0.0010187223862448975, 0.0025444087200298623, 0.0015127146704332129, 0.0040563311891210398, 0.0010385384500440277, 0.0040760618683429806, 0.00050936119312244637, 0.0025366867336632723, 0.0015393751346797165, 0.0015308506261929541, 0.0050948696391650674, 0.0050810954536931333, 0.0010016733692713726, 0.0041208482133005854, 0.0, 0.0005008366846356888, 0.0015393751346797165, 0.00052917725692158137, 0.0035417203190134224, 0.0010583545138431627, 0.0036045572351535793, 0.0005008366846356888, 0.0046483453621827594, 0.0010300139415572701, 0.0010016733692713726, 0.0015308506261929541, 0.0015393751346797165, 0.0005008366846356888, 0.0060828542075416917, 0.0005008366846356888, 0.0056318827756944041, 0.0005008366846356888, 0.0040985495193418897, 0.0010300139415572701, 0.0020273255405408351, 0.0015393751346797165, 0.0015127146704332129, 0.0010385384500440277, 0.00050936119312245125, 0.0015393751346797165, 0.0, 0.0076763527928345732, 0.0010385384500440277, 0.0010385384500440277, 0.0005008366846356888, 0.0, 0.0005008366846356888, 0.0010101978777581351, 0.0005008366846356888, 0.0005008366846356888, 0.0005008366846356888, 0.0015393751346797165, 0.0005008366846356888, 0.0005008366846356888, 0.0015393751346797165, 0.0010033534773107617, 0.0015393751346797165, 0.0010101978777581351, 0.0015393751346797165, 0.0005008366846356888, 0.0010101978777581351, 0.0015393751346797165, 0.0005008366846356888, 0.0, 0.0010101978777581351, 0.00050936119312244637, 0.0015393751346797165, 0.00050936119312244637, 0.0015393751346797165]\n",
        "[1.0, 1.0, 1.0, 1.0, 1.0, 1.0, 1.0, 1.0, 0.5, 0.5, 0.5, 0.5, 0.5, 0.5, 0.5, 0.5, 0.5, 0.5, 0.50000000000000011, 0.49999999999999989, 0.50000000000000011, 0.5, 0.5, 0.5, 0.5, 0.49999999999999989, 0.5, 0.49999999999999989, 0.5, 0.50000000000000022, 0.5, 0.5, 0.5, 0.5, 0.5, 0.5, 0.33333333333333331, 0.33333333333333331, 0.33333333333333331, 0.33333333333333326, 0.33333333333333337, 0.33333333333333326, 0.33333333333333331, 0.33333333333333331, 0.33333333333333331, 0.33333333333333331, 0.33333333333333331, 0.33333333333333331, 0.33333333333333331, 0.33333333333333331, 0.33333333333333331, 0.33333333333333331, 0.33333333333333337, 0.33333333333333331, 0.33333333333333337, 0.33333333333333331, 0.33333333333333337, 0.33333333333333337, 0.33333333333333331, 0.33333333333333331, 0.33333333333333331, 0.33333333333333331, 0.33333333333333331, 0.33333333333333331, 0.33333333333333331, 0.33333333333333331, 0.33333333333333343, 0.33333333333333331, 0.33333333333333331, 0.33333333333333331, 0.33333333333333331, 0.33333333333333331, 0.33333333333333337, 0.33333333333333326, 0.33333333333333337, 0.33333333333333331, 0.33333333333333331, 0.33333333333333331, 0.33333333333333331, 0.33333333333333326, 0.33333333333333326, 0.33333333333333331, 0.33333333333333337, 0.33333333333333331, 0.33333333333333331, 0.33333333333333331, 0.33333333333333337, 0.33333333333333331, 0.33333333333333331, 0.33333333333333326, 0.33333333333333331, 0.33333333333333331, 0.25, 0.25, 0.25, 0.25, 0.25, 0.25, 0.25, 0.25, 0.25, 0.25, 0.25, 0.25, 0.25, 0.25, 0.25, 0.25, 0.25, 0.25000000000000006, 0.25, 0.25, 0.25, 0.25, 0.25, 0.25, 0.25]\n",
        "[ 0.17956506  0.52500132  0.164136    0.13129763]"
       ]
      },
      {
       "output_type": "stream",
       "stream": "stdout",
       "text": [
        "\n",
        "[ 0.22625581  0.48919934  0.10910383  0.17544102]"
       ]
      },
      {
       "output_type": "stream",
       "stream": "stdout",
       "text": [
        "\n",
        "[ 0.21021773  0.50996014  0.11013055  0.16969158]"
       ]
      },
      {
       "output_type": "stream",
       "stream": "stdout",
       "text": [
        "\n",
        "[ 0.16081814  0.56997025  0.08712628  0.18208533]"
       ]
      },
      {
       "output_type": "stream",
       "stream": "stdout",
       "text": [
        "\n",
        "[ 0.17128838  0.54820176  0.11206927  0.16844059]"
       ]
      },
      {
       "output_type": "stream",
       "stream": "stdout",
       "text": [
        "\n",
        "[ 0.18803591  0.55359477  0.08169813  0.1766712 ]"
       ]
      },
      {
       "output_type": "stream",
       "stream": "stdout",
       "text": [
        "\n",
        "[ 0.19635989  0.53696761  0.11473799  0.1519345 ]"
       ]
      },
      {
       "output_type": "stream",
       "stream": "stdout",
       "text": [
        "\n",
        "[ 0.21228397  0.4894568   0.1580073   0.14025193]"
       ]
      },
      {
       "output_type": "stream",
       "stream": "stdout",
       "text": [
        "\n",
        "[ 0.20635764  0.50279317  0.11828392  0.17256526]"
       ]
      },
      {
       "output_type": "stream",
       "stream": "stdout",
       "text": [
        "\n",
        "[ 0.19920583  0.48436351  0.1286427   0.18778796]"
       ]
      },
      {
       "output_type": "stream",
       "stream": "stdout",
       "text": [
        "\n",
        "[0.5, 0.5, 0.5, 0.5, 0.5, 0.5, 0.5, 0.5, 0.5, 0.5, 0.5, 0.5, 0.5, 0.5, 0.5, 0.5, 0.5, 0.5, 0.5, 0.5, 0.5, 0.5, 0.5, 0.5, 0.5, 0.5, 0.5, 0.5, 0.5, 0.5, 0.5, 0.5, 0.5, 0.5, 0.5, 0.5, 0.5, 0.5, 0.5, 0.5, 0.5, 0.5, 0.5, 0.5, 0.5, 0.5, 0.5, 0.5, 0.5, 0.5, 0.5, 0.5, 0.5, 0.5, 0.5, 0.5, 0.5, 0.5, 0.5, 0.5, 0.5, 0.5, 0.5, 0.5, 0.5, 0.5, 0.5, 0.5, 0.5, 0.5, 0.5, 0.5, 0.5, 0.5, 0.5, 0.5, 0.5, 0.5, 0.5, 0.5, 0.5, 0.5, 0.5, 0.5, 0.5, 0.5, 0.5, 0.5, 0.5, 0.5, 0.5, 0.5, 0.5, 0.5, 0.5, 0.5, 0.5, 0.5, 0.5, 0.5, 0.5, 0.5, 0.5, 0.5, 0.5, 0.5, 0.5, 0.5, 0.5, 0.5, 0.5, 0.5, 0.5, 0.5, 0.5, 0.5, 0.5, 0.5]"
       ]
      },
      {
       "output_type": "stream",
       "stream": "stdout",
       "text": [
        "\n",
        "[0.035308450180920395, 0.015900278873051947, 0.027606640458033495, 0.020287811471444019, 0.028085748571213369, 0.035450017068918892, 0.0030537699131523133, 0.018801048240551517, 0.0010101978777581351, 0.00050936119312244637, 0.008238681424071536, 0.0036143352597136787, 0.005607800401233284, 0.0025444087200298623, 0.019754369486924619, 0.008088683576243998, 0.0, 0.0077047868625348317, 0.0065852856156395825, 0.0015393751346797165, 0.005668936813507235, 0.0010016733692713726, 0.0065990598011115165, 0.0050674066527983952, 0.0015393751346797165, 0.0066773510107629745, 0.0015127146704332129, 0.0010033534773107617, 0.0025444087200298623, 0.0015127146704332129, 0.020761540704040373, 0.0010385384500440277, 0.0061854044439900308, 0.0010385384500440277, 0.0076763527928345732, 0.0015393751346797165, 0.0025548226894230226, 0.0010101978777581351, 0.0015393751346797213, 0.0005008366846356888, 0.0015393751346797165, 0.0010101978777581351, 0.0010101978777581351, 0.0010300139415572653, 0.00050936119312244637, 0.0015393751346797165, 0.00050936119312244637, 0.0020220758635556592, 0.0010187223862448975, 0.0025444087200298623, 0.0015127146704332129, 0.0040563311891210398, 0.0010385384500440277, 0.0040760618683429806, 0.00050936119312244637, 0.0025366867336632723, 0.0015393751346797165, 0.0015308506261929541, 0.0050948696391650674, 0.0050810954536931333, 0.0010016733692713726, 0.0041208482133005854, 0.0, 0.0005008366846356888, 0.0015393751346797165, 0.00052917725692158137, 0.0035417203190134224, 0.0010583545138431627, 0.0036045572351535793, 0.0005008366846356888, 0.0046483453621827594, 0.0010300139415572701, 0.0010016733692713726, 0.0015308506261929541, 0.0015393751346797165, 0.0005008366846356888, 0.0060828542075416917, 0.0005008366846356888, 0.0056318827756944041, 0.0005008366846356888, 0.0040985495193418897, 0.0010300139415572701, 0.0020273255405408351, 0.0015393751346797165, 0.0015127146704332129, 0.0010385384500440277, 0.00050936119312245125, 0.0015393751346797165, 0.0, 0.0076763527928345732, 0.0010385384500440277, 0.0010385384500440277, 0.0005008366846356888, 0.0, 0.0005008366846356888, 0.0010101978777581351, 0.0005008366846356888, 0.0005008366846356888, 0.0005008366846356888, 0.0015393751346797165, 0.0005008366846356888, 0.0005008366846356888, 0.0015393751346797165, 0.0010033534773107617, 0.0015393751346797165, 0.0010101978777581351, 0.0015393751346797165, 0.0005008366846356888, 0.0010101978777581351, 0.0015393751346797165, 0.0005008366846356888, 0.0, 0.0010101978777581351, 0.00050936119312244637, 0.0015393751346797165, 0.00050936119312244637, 0.0015393751346797165, 0.0]\n",
        "[1.0, 1.0, 1.0, 1.0, 1.0, 1.0, 1.0, 1.0, 0.5, 0.5, 0.5, 0.5, 0.5, 0.5, 0.5, 0.5, 0.5, 0.5, 0.50000000000000011, 0.49999999999999989, 0.50000000000000011, 0.5, 0.5, 0.5, 0.5, 0.49999999999999989, 0.5, 0.49999999999999989, 0.5, 0.50000000000000022, 0.5, 0.5, 0.5, 0.5, 0.5, 0.5, 0.33333333333333331, 0.33333333333333331, 0.33333333333333331, 0.33333333333333326, 0.33333333333333337, 0.33333333333333326, 0.33333333333333331, 0.33333333333333331, 0.33333333333333331, 0.33333333333333331, 0.33333333333333331, 0.33333333333333331, 0.33333333333333331, 0.33333333333333331, 0.33333333333333331, 0.33333333333333331, 0.33333333333333337, 0.33333333333333331, 0.33333333333333337, 0.33333333333333331, 0.33333333333333337, 0.33333333333333337, 0.33333333333333331, 0.33333333333333331, 0.33333333333333331, 0.33333333333333331, 0.33333333333333331, 0.33333333333333331, 0.33333333333333331, 0.33333333333333331, 0.33333333333333343, 0.33333333333333331, 0.33333333333333331, 0.33333333333333331, 0.33333333333333331, 0.33333333333333331, 0.33333333333333337, 0.33333333333333326, 0.33333333333333337, 0.33333333333333331, 0.33333333333333331, 0.33333333333333331, 0.33333333333333331, 0.33333333333333326, 0.33333333333333326, 0.33333333333333331, 0.33333333333333337, 0.33333333333333331, 0.33333333333333331, 0.33333333333333331, 0.33333333333333337, 0.33333333333333331, 0.33333333333333331, 0.33333333333333326, 0.33333333333333331, 0.33333333333333331, 0.25, 0.25, 0.25, 0.25, 0.25, 0.25, 0.25, 0.25, 0.25, 0.25, 0.25, 0.25, 0.25, 0.25, 0.25, 0.25, 0.25, 0.25000000000000006, 0.25, 0.25, 0.25, 0.25, 0.25, 0.25, 0.25, 0.25]\n",
        "[ 0.05938815  0.23661321  0.07060198  0.63339666]"
       ]
      },
      {
       "output_type": "stream",
       "stream": "stdout",
       "text": [
        "\n",
        "[ 0.05150243  0.33504628  0.09896493  0.51448636]"
       ]
      },
      {
       "output_type": "stream",
       "stream": "stdout",
       "text": [
        "\n",
        "[ 0.07199363  0.29888067  0.0871159   0.5420098 ]"
       ]
      },
      {
       "output_type": "stream",
       "stream": "stdout",
       "text": [
        "\n",
        "[ 0.0638318   0.21918287  0.08873482  0.62825051]"
       ]
      },
      {
       "output_type": "stream",
       "stream": "stdout",
       "text": [
        "\n",
        "[ 0.06525268  0.26313467  0.10126176  0.57035089]"
       ]
      },
      {
       "output_type": "stream",
       "stream": "stdout",
       "text": [
        "\n",
        "[ 0.09132959  0.28887814  0.0946302   0.52516207]"
       ]
      },
      {
       "output_type": "stream",
       "stream": "stdout",
       "text": [
        "\n",
        "[ 0.10604111  0.22223366  0.08150861  0.59021662]"
       ]
      },
      {
       "output_type": "stream",
       "stream": "stdout",
       "text": [
        "\n",
        "[ 0.05047739  0.28126075  0.09063202  0.57762984]"
       ]
      },
      {
       "output_type": "stream",
       "stream": "stdout",
       "text": [
        "\n",
        "[ 0.08308585  0.1791036   0.07757563  0.66023492]"
       ]
      },
      {
       "output_type": "stream",
       "stream": "stdout",
       "text": [
        "\n",
        "[ 0.07452515  0.24255421  0.12553652  0.55738412]"
       ]
      },
      {
       "output_type": "stream",
       "stream": "stdout",
       "text": [
        "\n",
        "[0.5, 0.5, 0.5, 0.5, 0.5, 0.5, 0.5, 0.5, 0.5, 0.5, 0.5, 0.5, 0.5, 0.5, 0.5, 0.5, 0.5, 0.5, 0.5, 0.5, 0.5, 0.5, 0.5, 0.5, 0.5, 0.5, 0.5, 0.5, 0.5, 0.5, 0.5, 0.5, 0.5, 0.5, 0.5, 0.5, 0.5, 0.5, 0.5, 0.5, 0.5, 0.5, 0.5, 0.5, 0.5, 0.5, 0.5, 0.5, 0.5, 0.5, 0.5, 0.5, 0.5, 0.5, 0.5, 0.5, 0.5, 0.5, 0.5, 0.5, 0.5, 0.5, 0.5, 0.5, 0.5, 0.5, 0.5, 0.5, 0.5, 0.5, 0.5, 0.5, 0.5, 0.5, 0.5, 0.5, 0.5, 0.5, 0.5, 0.5, 0.5, 0.5, 0.5, 0.5, 0.5, 0.5, 0.5, 0.5, 0.5, 0.5, 0.5, 0.5, 0.5, 0.5, 0.5, 0.5, 0.5, 0.5, 0.5, 0.5, 0.5, 0.5, 0.5, 0.5, 0.5, 0.5, 0.5, 0.5, 0.5, 0.5, 0.5, 0.5, 0.5, 0.5, 0.5, 0.5, 0.5, 0.5, 0.5]"
       ]
      },
      {
       "output_type": "stream",
       "stream": "stdout",
       "text": [
        "\n",
        "[0.035308450180920395, 0.015900278873051947, 0.027606640458033495, 0.020287811471444019, 0.028085748571213369, 0.035450017068918892, 0.0030537699131523133, 0.018801048240551517, 0.0010101978777581351, 0.00050936119312244637, 0.008238681424071536, 0.0036143352597136787, 0.005607800401233284, 0.0025444087200298623, 0.019754369486924619, 0.008088683576243998, 0.0, 0.0077047868625348317, 0.0065852856156395825, 0.0015393751346797165, 0.005668936813507235, 0.0010016733692713726, 0.0065990598011115165, 0.0050674066527983952, 0.0015393751346797165, 0.0066773510107629745, 0.0015127146704332129, 0.0010033534773107617, 0.0025444087200298623, 0.0015127146704332129, 0.020761540704040373, 0.0010385384500440277, 0.0061854044439900308, 0.0010385384500440277, 0.0076763527928345732, 0.0015393751346797165, 0.0025548226894230226, 0.0010101978777581351, 0.0015393751346797213, 0.0005008366846356888, 0.0015393751346797165, 0.0010101978777581351, 0.0010101978777581351, 0.0010300139415572653, 0.00050936119312244637, 0.0015393751346797165, 0.00050936119312244637, 0.0020220758635556592, 0.0010187223862448975, 0.0025444087200298623, 0.0015127146704332129, 0.0040563311891210398, 0.0010385384500440277, 0.0040760618683429806, 0.00050936119312244637, 0.0025366867336632723, 0.0015393751346797165, 0.0015308506261929541, 0.0050948696391650674, 0.0050810954536931333, 0.0010016733692713726, 0.0041208482133005854, 0.0, 0.0005008366846356888, 0.0015393751346797165, 0.00052917725692158137, 0.0035417203190134224, 0.0010583545138431627, 0.0036045572351535793, 0.0005008366846356888, 0.0046483453621827594, 0.0010300139415572701, 0.0010016733692713726, 0.0015308506261929541, 0.0015393751346797165, 0.0005008366846356888, 0.0060828542075416917, 0.0005008366846356888, 0.0056318827756944041, 0.0005008366846356888, 0.0040985495193418897, 0.0010300139415572701, 0.0020273255405408351, 0.0015393751346797165, 0.0015127146704332129, 0.0010385384500440277, 0.00050936119312245125, 0.0015393751346797165, 0.0, 0.0076763527928345732, 0.0010385384500440277, 0.0010385384500440277, 0.0005008366846356888, 0.0, 0.0005008366846356888, 0.0010101978777581351, 0.0005008366846356888, 0.0005008366846356888, 0.0005008366846356888, 0.0015393751346797165, 0.0005008366846356888, 0.0005008366846356888, 0.0015393751346797165, 0.0010033534773107617, 0.0015393751346797165, 0.0010101978777581351, 0.0015393751346797165, 0.0005008366846356888, 0.0010101978777581351, 0.0015393751346797165, 0.0005008366846356888, 0.0, 0.0010101978777581351, 0.00050936119312244637, 0.0015393751346797165, 0.00050936119312244637, 0.0015393751346797165, 0.0, 0.0015393751346797165]\n",
        "[1.0, 1.0, 1.0, 1.0, 1.0, 1.0, 1.0, 1.0, 0.5, 0.5, 0.5, 0.5, 0.5, 0.5, 0.5, 0.5, 0.5, 0.5, 0.50000000000000011, 0.49999999999999989, 0.50000000000000011, 0.5, 0.5, 0.5, 0.5, 0.49999999999999989, 0.5, 0.49999999999999989, 0.5, 0.50000000000000022, 0.5, 0.5, 0.5, 0.5, 0.5, 0.5, 0.33333333333333331, 0.33333333333333331, 0.33333333333333331, 0.33333333333333326, 0.33333333333333337, 0.33333333333333326, 0.33333333333333331, 0.33333333333333331, 0.33333333333333331, 0.33333333333333331, 0.33333333333333331, 0.33333333333333331, 0.33333333333333331, 0.33333333333333331, 0.33333333333333331, 0.33333333333333331, 0.33333333333333337, 0.33333333333333331, 0.33333333333333337, 0.33333333333333331, 0.33333333333333337, 0.33333333333333337, 0.33333333333333331, 0.33333333333333331, 0.33333333333333331, 0.33333333333333331, 0.33333333333333331, 0.33333333333333331, 0.33333333333333331, 0.33333333333333331, 0.33333333333333343, 0.33333333333333331, 0.33333333333333331, 0.33333333333333331, 0.33333333333333331, 0.33333333333333331, 0.33333333333333337, 0.33333333333333326, 0.33333333333333337, 0.33333333333333331, 0.33333333333333331, 0.33333333333333331, 0.33333333333333331, 0.33333333333333326, 0.33333333333333326, 0.33333333333333331, 0.33333333333333337, 0.33333333333333331, 0.33333333333333331, 0.33333333333333331, 0.33333333333333337, 0.33333333333333331, 0.33333333333333331, 0.33333333333333326, 0.33333333333333331, 0.33333333333333331, 0.25, 0.25, 0.25, 0.25, 0.25, 0.25, 0.25, 0.25, 0.25, 0.25, 0.25, 0.25, 0.25, 0.25, 0.25, 0.25, 0.25, 0.25000000000000006, 0.25, 0.25, 0.25, 0.25, 0.25, 0.25, 0.25, 0.25, 0.25]\n",
        "[ 0.18461447  0.52271272  0.21052691  0.08214589]"
       ]
      },
      {
       "output_type": "stream",
       "stream": "stdout",
       "text": [
        "\n",
        "[ 0.15778022  0.55976522  0.20007485  0.08237972]"
       ]
      },
      {
       "output_type": "stream",
       "stream": "stdout",
       "text": [
        "\n",
        "[ 0.16973672  0.53045776  0.21294406  0.08686145]"
       ]
      },
      {
       "output_type": "stream",
       "stream": "stdout",
       "text": [
        "\n",
        "[ 0.18925181  0.5170217   0.2025467   0.09117978]"
       ]
      },
      {
       "output_type": "stream",
       "stream": "stdout",
       "text": [
        "\n",
        "[ 0.15785704  0.57767929  0.18859088  0.0758728 ]"
       ]
      },
      {
       "output_type": "stream",
       "stream": "stdout",
       "text": [
        "\n",
        "[ 0.16476059  0.57615472  0.18686665  0.07221805]"
       ]
      },
      {
       "output_type": "stream",
       "stream": "stdout",
       "text": [
        "\n",
        "[ 0.22854937  0.48369229  0.19854073  0.08921761]"
       ]
      },
      {
       "output_type": "stream",
       "stream": "stdout",
       "text": [
        "\n",
        "[ 0.20087622  0.48789406  0.19282224  0.11840748]"
       ]
      },
      {
       "output_type": "stream",
       "stream": "stdout",
       "text": [
        "\n",
        "[ 0.19207206  0.51883503  0.20694515  0.08214777]"
       ]
      },
      {
       "output_type": "stream",
       "stream": "stdout",
       "text": [
        "\n",
        "[ 0.19057554  0.50461903  0.22110867  0.08369677]"
       ]
      },
      {
       "output_type": "stream",
       "stream": "stdout",
       "text": [
        "\n",
        "[0.5, 0.5, 0.5, 0.5, 0.5, 0.5, 0.5, 0.5, 0.5, 0.5, 0.5, 0.5, 0.5, 0.5, 0.5, 0.5, 0.5, 0.5, 0.5, 0.5, 0.5, 0.5, 0.5, 0.5, 0.5, 0.5, 0.5, 0.5, 0.5, 0.5, 0.5, 0.5, 0.5, 0.5, 0.5, 0.5, 0.5, 0.5, 0.5, 0.5, 0.5, 0.5, 0.5, 0.5, 0.5, 0.5, 0.5, 0.5, 0.5, 0.5, 0.5, 0.5, 0.5, 0.5, 0.5, 0.5, 0.5, 0.5, 0.5, 0.5, 0.5, 0.5, 0.5, 0.5, 0.5, 0.5, 0.5, 0.5, 0.5, 0.5, 0.5, 0.5, 0.5, 0.5, 0.5, 0.5, 0.5, 0.5, 0.5, 0.5, 0.5, 0.5, 0.5, 0.5, 0.5, 0.5, 0.5, 0.5, 0.5, 0.5, 0.5, 0.5, 0.5, 0.5, 0.5, 0.5, 0.5, 0.5, 0.5, 0.5, 0.5, 0.5, 0.5, 0.5, 0.5, 0.5, 0.5, 0.5, 0.5, 0.5, 0.5, 0.5, 0.5, 0.5, 0.5, 0.5, 0.5, 0.5, 0.5, 0.5]"
       ]
      },
      {
       "output_type": "stream",
       "stream": "stdout",
       "text": [
        "\n",
        "[0.035308450180920395, 0.015900278873051947, 0.027606640458033495, 0.020287811471444019, 0.028085748571213369, 0.035450017068918892, 0.0030537699131523133, 0.018801048240551517, 0.0010101978777581351, 0.00050936119312244637, 0.008238681424071536, 0.0036143352597136787, 0.005607800401233284, 0.0025444087200298623, 0.019754369486924619, 0.008088683576243998, 0.0, 0.0077047868625348317, 0.0065852856156395825, 0.0015393751346797165, 0.005668936813507235, 0.0010016733692713726, 0.0065990598011115165, 0.0050674066527983952, 0.0015393751346797165, 0.0066773510107629745, 0.0015127146704332129, 0.0010033534773107617, 0.0025444087200298623, 0.0015127146704332129, 0.020761540704040373, 0.0010385384500440277, 0.0061854044439900308, 0.0010385384500440277, 0.0076763527928345732, 0.0015393751346797165, 0.0025548226894230226, 0.0010101978777581351, 0.0015393751346797213, 0.0005008366846356888, 0.0015393751346797165, 0.0010101978777581351, 0.0010101978777581351, 0.0010300139415572653, 0.00050936119312244637, 0.0015393751346797165, 0.00050936119312244637, 0.0020220758635556592, 0.0010187223862448975, 0.0025444087200298623, 0.0015127146704332129, 0.0040563311891210398, 0.0010385384500440277, 0.0040760618683429806, 0.00050936119312244637, 0.0025366867336632723, 0.0015393751346797165, 0.0015308506261929541, 0.0050948696391650674, 0.0050810954536931333, 0.0010016733692713726, 0.0041208482133005854, 0.0, 0.0005008366846356888, 0.0015393751346797165, 0.00052917725692158137, 0.0035417203190134224, 0.0010583545138431627, 0.0036045572351535793, 0.0005008366846356888, 0.0046483453621827594, 0.0010300139415572701, 0.0010016733692713726, 0.0015308506261929541, 0.0015393751346797165, 0.0005008366846356888, 0.0060828542075416917, 0.0005008366846356888, 0.0056318827756944041, 0.0005008366846356888, 0.0040985495193418897, 0.0010300139415572701, 0.0020273255405408351, 0.0015393751346797165, 0.0015127146704332129, 0.0010385384500440277, 0.00050936119312245125, 0.0015393751346797165, 0.0, 0.0076763527928345732, 0.0010385384500440277, 0.0010385384500440277, 0.0005008366846356888, 0.0, 0.0005008366846356888, 0.0010101978777581351, 0.0005008366846356888, 0.0005008366846356888, 0.0005008366846356888, 0.0015393751346797165, 0.0005008366846356888, 0.0005008366846356888, 0.0015393751346797165, 0.0010033534773107617, 0.0015393751346797165, 0.0010101978777581351, 0.0015393751346797165, 0.0005008366846356888, 0.0010101978777581351, 0.0015393751346797165, 0.0005008366846356888, 0.0, 0.0010101978777581351, 0.00050936119312244637, 0.0015393751346797165, 0.00050936119312244637, 0.0015393751346797165, 0.0, 0.0015393751346797165, 0.0020220758635556592]\n",
        "[1.0, 1.0, 1.0, 1.0, 1.0, 1.0, 1.0, 1.0, 0.5, 0.5, 0.5, 0.5, 0.5, 0.5, 0.5, 0.5, 0.5, 0.5, 0.50000000000000011, 0.49999999999999989, 0.50000000000000011, 0.5, 0.5, 0.5, 0.5, 0.49999999999999989, 0.5, 0.49999999999999989, 0.5, 0.50000000000000022, 0.5, 0.5, 0.5, 0.5, 0.5, 0.5, 0.33333333333333331, 0.33333333333333331, 0.33333333333333331, 0.33333333333333326, 0.33333333333333337, 0.33333333333333326, 0.33333333333333331, 0.33333333333333331, 0.33333333333333331, 0.33333333333333331, 0.33333333333333331, 0.33333333333333331, 0.33333333333333331, 0.33333333333333331, 0.33333333333333331, 0.33333333333333331, 0.33333333333333337, 0.33333333333333331, 0.33333333333333337, 0.33333333333333331, 0.33333333333333337, 0.33333333333333337, 0.33333333333333331, 0.33333333333333331, 0.33333333333333331, 0.33333333333333331, 0.33333333333333331, 0.33333333333333331, 0.33333333333333331, 0.33333333333333331, 0.33333333333333343, 0.33333333333333331, 0.33333333333333331, 0.33333333333333331, 0.33333333333333331, 0.33333333333333331, 0.33333333333333337, 0.33333333333333326, 0.33333333333333337, 0.33333333333333331, 0.33333333333333331, 0.33333333333333331, 0.33333333333333331, 0.33333333333333326, 0.33333333333333326, 0.33333333333333331, 0.33333333333333337, 0.33333333333333331, 0.33333333333333331, 0.33333333333333331, 0.33333333333333337, 0.33333333333333331, 0.33333333333333331, 0.33333333333333326, 0.33333333333333331, 0.33333333333333331, 0.25, 0.25, 0.25, 0.25, 0.25, 0.25, 0.25, 0.25, 0.25, 0.25, 0.25, 0.25, 0.25, 0.25, 0.25, 0.25, 0.25, 0.25000000000000006, 0.25, 0.25, 0.25, 0.25, 0.25, 0.25, 0.25, 0.25, 0.25, 0.25]\n",
        "[ 0.08309156  0.27443745  0.10153977  0.54093123]"
       ]
      },
      {
       "output_type": "stream",
       "stream": "stdout",
       "text": [
        "\n",
        "[ 0.0360523   0.30795751  0.11284547  0.54314472]"
       ]
      },
      {
       "output_type": "stream",
       "stream": "stdout",
       "text": [
        "\n",
        "[ 0.06397891  0.24805071  0.0588588   0.62911158]"
       ]
      },
      {
       "output_type": "stream",
       "stream": "stdout",
       "text": [
        "\n",
        "[ 0.05551024  0.28708955  0.10015723  0.55724298]"
       ]
      },
      {
       "output_type": "stream",
       "stream": "stdout",
       "text": [
        "\n",
        "[ 0.04445687  0.33881259  0.0984706   0.51825994]"
       ]
      },
      {
       "output_type": "stream",
       "stream": "stdout",
       "text": [
        "\n",
        "[ 0.11258041  0.27065369  0.09599935  0.52076655]"
       ]
      },
      {
       "output_type": "stream",
       "stream": "stdout",
       "text": [
        "\n",
        "[ 0.09752882  0.2532362   0.09520436  0.55403063]"
       ]
      },
      {
       "output_type": "stream",
       "stream": "stdout",
       "text": [
        "\n",
        "[ 0.07778269  0.27799248  0.09768322  0.54654161]"
       ]
      },
      {
       "output_type": "stream",
       "stream": "stdout",
       "text": [
        "\n",
        "[ 0.05858387  0.2150103   0.11027772  0.61612811]"
       ]
      },
      {
       "output_type": "stream",
       "stream": "stdout",
       "text": [
        "\n",
        "[ 0.05358933  0.23418062  0.1192259   0.59300415]"
       ]
      },
      {
       "output_type": "stream",
       "stream": "stdout",
       "text": [
        "\n",
        "[0.5, 0.5, 0.5, 0.5, 0.5, 0.5, 0.5, 0.5, 0.5, 0.5, 0.5, 0.5, 0.5, 0.5, 0.5, 0.5, 0.5, 0.5, 0.5, 0.5, 0.5, 0.5, 0.5, 0.5, 0.5, 0.5, 0.5, 0.5, 0.5, 0.5, 0.5, 0.5, 0.5, 0.5, 0.5, 0.5, 0.5, 0.5, 0.5, 0.5, 0.5, 0.5, 0.5, 0.5, 0.5, 0.5, 0.5, 0.5, 0.5, 0.5, 0.5, 0.5, 0.5, 0.5, 0.5, 0.5, 0.5, 0.5, 0.5, 0.5, 0.5, 0.5, 0.5, 0.5, 0.5, 0.5, 0.5, 0.5, 0.5, 0.5, 0.5, 0.5, 0.5, 0.5, 0.5, 0.5, 0.5, 0.5, 0.5, 0.5, 0.5, 0.5, 0.5, 0.5, 0.5, 0.5, 0.5, 0.5, 0.5, 0.5, 0.5, 0.5, 0.5, 0.5, 0.5, 0.5, 0.5, 0.5, 0.5, 0.5, 0.5, 0.5, 0.5, 0.5, 0.5, 0.5, 0.5, 0.5, 0.5, 0.5, 0.5, 0.5, 0.5, 0.5, 0.5, 0.5, 0.5, 0.5, 0.5, 0.5, 0.5]"
       ]
      },
      {
       "output_type": "stream",
       "stream": "stdout",
       "text": [
        "\n",
        "[0.035308450180920395, 0.015900278873051947, 0.027606640458033495, 0.020287811471444019, 0.028085748571213369, 0.035450017068918892, 0.0030537699131523133, 0.018801048240551517, 0.0010101978777581351, 0.00050936119312244637, 0.008238681424071536, 0.0036143352597136787, 0.005607800401233284, 0.0025444087200298623, 0.019754369486924619, 0.008088683576243998, 0.0, 0.0077047868625348317, 0.0065852856156395825, 0.0015393751346797165, 0.005668936813507235, 0.0010016733692713726, 0.0065990598011115165, 0.0050674066527983952, 0.0015393751346797165, 0.0066773510107629745, 0.0015127146704332129, 0.0010033534773107617, 0.0025444087200298623, 0.0015127146704332129, 0.020761540704040373, 0.0010385384500440277, 0.0061854044439900308, 0.0010385384500440277, 0.0076763527928345732, 0.0015393751346797165, 0.0025548226894230226, 0.0010101978777581351, 0.0015393751346797213, 0.0005008366846356888, 0.0015393751346797165, 0.0010101978777581351, 0.0010101978777581351, 0.0010300139415572653, 0.00050936119312244637, 0.0015393751346797165, 0.00050936119312244637, 0.0020220758635556592, 0.0010187223862448975, 0.0025444087200298623, 0.0015127146704332129, 0.0040563311891210398, 0.0010385384500440277, 0.0040760618683429806, 0.00050936119312244637, 0.0025366867336632723, 0.0015393751346797165, 0.0015308506261929541, 0.0050948696391650674, 0.0050810954536931333, 0.0010016733692713726, 0.0041208482133005854, 0.0, 0.0005008366846356888, 0.0015393751346797165, 0.00052917725692158137, 0.0035417203190134224, 0.0010583545138431627, 0.0036045572351535793, 0.0005008366846356888, 0.0046483453621827594, 0.0010300139415572701, 0.0010016733692713726, 0.0015308506261929541, 0.0015393751346797165, 0.0005008366846356888, 0.0060828542075416917, 0.0005008366846356888, 0.0056318827756944041, 0.0005008366846356888, 0.0040985495193418897, 0.0010300139415572701, 0.0020273255405408351, 0.0015393751346797165, 0.0015127146704332129, 0.0010385384500440277, 0.00050936119312245125, 0.0015393751346797165, 0.0, 0.0076763527928345732, 0.0010385384500440277, 0.0010385384500440277, 0.0005008366846356888, 0.0, 0.0005008366846356888, 0.0010101978777581351, 0.0005008366846356888, 0.0005008366846356888, 0.0005008366846356888, 0.0015393751346797165, 0.0005008366846356888, 0.0005008366846356888, 0.0015393751346797165, 0.0010033534773107617, 0.0015393751346797165, 0.0010101978777581351, 0.0015393751346797165, 0.0005008366846356888, 0.0010101978777581351, 0.0015393751346797165, 0.0005008366846356888, 0.0, 0.0010101978777581351, 0.00050936119312244637, 0.0015393751346797165, 0.00050936119312244637, 0.0015393751346797165, 0.0, 0.0015393751346797165, 0.0020220758635556592, 0.0010385384500440277]\n",
        "[1.0, 1.0, 1.0, 1.0, 1.0, 1.0, 1.0, 1.0, 0.5, 0.5, 0.5, 0.5, 0.5, 0.5, 0.5, 0.5, 0.5, 0.5, 0.50000000000000011, 0.49999999999999989, 0.50000000000000011, 0.5, 0.5, 0.5, 0.5, 0.49999999999999989, 0.5, 0.49999999999999989, 0.5, 0.50000000000000022, 0.5, 0.5, 0.5, 0.5, 0.5, 0.5, 0.33333333333333331, 0.33333333333333331, 0.33333333333333331, 0.33333333333333326, 0.33333333333333337, 0.33333333333333326, 0.33333333333333331, 0.33333333333333331, 0.33333333333333331, 0.33333333333333331, 0.33333333333333331, 0.33333333333333331, 0.33333333333333331, 0.33333333333333331, 0.33333333333333331, 0.33333333333333331, 0.33333333333333337, 0.33333333333333331, 0.33333333333333337, 0.33333333333333331, 0.33333333333333337, 0.33333333333333337, 0.33333333333333331, 0.33333333333333331, 0.33333333333333331, 0.33333333333333331, 0.33333333333333331, 0.33333333333333331, 0.33333333333333331, 0.33333333333333331, 0.33333333333333343, 0.33333333333333331, 0.33333333333333331, 0.33333333333333331, 0.33333333333333331, 0.33333333333333331, 0.33333333333333337, 0.33333333333333326, 0.33333333333333337, 0.33333333333333331, 0.33333333333333331, 0.33333333333333331, 0.33333333333333331, 0.33333333333333326, 0.33333333333333326, 0.33333333333333331, 0.33333333333333337, 0.33333333333333331, 0.33333333333333331, 0.33333333333333331, 0.33333333333333337, 0.33333333333333331, 0.33333333333333331, 0.33333333333333326, 0.33333333333333331, 0.33333333333333331, 0.25, 0.25, 0.25, 0.25, 0.25, 0.25, 0.25, 0.25, 0.25, 0.25, 0.25, 0.25, 0.25, 0.25, 0.25, 0.25, 0.25, 0.25000000000000006, 0.25, 0.25, 0.25, 0.25, 0.25, 0.25, 0.25, 0.25, 0.25, 0.25, 0.24999999999999994]\n",
        "[ 0.16600449  0.55316271  0.20115005  0.07968274]"
       ]
      },
      {
       "output_type": "stream",
       "stream": "stdout",
       "text": [
        "\n",
        "[ 0.19364929  0.51859728  0.20373902  0.08401442]"
       ]
      },
      {
       "output_type": "stream",
       "stream": "stdout",
       "text": [
        "\n",
        "[ 0.15271193  0.57136844  0.2060041   0.06991553]"
       ]
      },
      {
       "output_type": "stream",
       "stream": "stdout",
       "text": [
        "\n",
        "[ 0.16031499  0.54377577  0.2148587   0.08105054]"
       ]
      },
      {
       "output_type": "stream",
       "stream": "stdout",
       "text": [
        "\n",
        "[ 0.16730201  0.54188196  0.20932851  0.08148752]"
       ]
      },
      {
       "output_type": "stream",
       "stream": "stdout",
       "text": [
        "\n",
        "[ 0.18417522  0.53419638  0.20546933  0.07615906]"
       ]
      },
      {
       "output_type": "stream",
       "stream": "stdout",
       "text": [
        "\n",
        "[ 0.21400571  0.50418932  0.20651853  0.07528643]"
       ]
      },
      {
       "output_type": "stream",
       "stream": "stdout",
       "text": [
        "\n",
        "[ 0.19893518  0.49666833  0.22187978  0.08251671]"
       ]
      },
      {
       "output_type": "stream",
       "stream": "stdout",
       "text": [
        "\n",
        "[ 0.19515199  0.50697195  0.21834802  0.07952804]"
       ]
      },
      {
       "output_type": "stream",
       "stream": "stdout",
       "text": [
        "\n",
        "[ 0.16216288  0.53572081  0.21247179  0.08964451]"
       ]
      },
      {
       "output_type": "stream",
       "stream": "stdout",
       "text": [
        "\n",
        "[0.5, 0.5, 0.5, 0.5, 0.5, 0.5, 0.5, 0.5, 0.5, 0.5, 0.5, 0.5, 0.5, 0.5, 0.5, 0.5, 0.5, 0.5, 0.5, 0.5, 0.5, 0.5, 0.5, 0.5, 0.5, 0.5, 0.5, 0.5, 0.5, 0.5, 0.5, 0.5, 0.5, 0.5, 0.5, 0.5, 0.5, 0.5, 0.5, 0.5, 0.5, 0.5, 0.5, 0.5, 0.5, 0.5, 0.5, 0.5, 0.5, 0.5, 0.5, 0.5, 0.5, 0.5, 0.5, 0.5, 0.5, 0.5, 0.5, 0.5, 0.5, 0.5, 0.5, 0.5, 0.5, 0.5, 0.5, 0.5, 0.5, 0.5, 0.5, 0.5, 0.5, 0.5, 0.5, 0.5, 0.5, 0.5, 0.5, 0.5, 0.5, 0.5, 0.5, 0.5, 0.5, 0.5, 0.5, 0.5, 0.5, 0.5, 0.5, 0.5, 0.5, 0.5, 0.5, 0.5, 0.5, 0.5, 0.5, 0.5, 0.5, 0.5, 0.5, 0.5, 0.5, 0.5, 0.5, 0.5, 0.5, 0.5, 0.5, 0.5, 0.5, 0.5, 0.5, 0.5, 0.5, 0.5, 0.5, 0.5, 0.5, 0.5]"
       ]
      },
      {
       "output_type": "stream",
       "stream": "stdout",
       "text": [
        "\n",
        "[0.035308450180920395, 0.015900278873051947, 0.027606640458033495, 0.020287811471444019, 0.028085748571213369, 0.035450017068918892, 0.0030537699131523133, 0.018801048240551517, 0.0010101978777581351, 0.00050936119312244637, 0.008238681424071536, 0.0036143352597136787, 0.005607800401233284, 0.0025444087200298623, 0.019754369486924619, 0.008088683576243998, 0.0, 0.0077047868625348317, 0.0065852856156395825, 0.0015393751346797165, 0.005668936813507235, 0.0010016733692713726, 0.0065990598011115165, 0.0050674066527983952, 0.0015393751346797165, 0.0066773510107629745, 0.0015127146704332129, 0.0010033534773107617, 0.0025444087200298623, 0.0015127146704332129, 0.020761540704040373, 0.0010385384500440277, 0.0061854044439900308, 0.0010385384500440277, 0.0076763527928345732, 0.0015393751346797165, 0.0025548226894230226, 0.0010101978777581351, 0.0015393751346797213, 0.0005008366846356888, 0.0015393751346797165, 0.0010101978777581351, 0.0010101978777581351, 0.0010300139415572653, 0.00050936119312244637, 0.0015393751346797165, 0.00050936119312244637, 0.0020220758635556592, 0.0010187223862448975, 0.0025444087200298623, 0.0015127146704332129, 0.0040563311891210398, 0.0010385384500440277, 0.0040760618683429806, 0.00050936119312244637, 0.0025366867336632723, 0.0015393751346797165, 0.0015308506261929541, 0.0050948696391650674, 0.0050810954536931333, 0.0010016733692713726, 0.0041208482133005854, 0.0, 0.0005008366846356888, 0.0015393751346797165, 0.00052917725692158137, 0.0035417203190134224, 0.0010583545138431627, 0.0036045572351535793, 0.0005008366846356888, 0.0046483453621827594, 0.0010300139415572701, 0.0010016733692713726, 0.0015308506261929541, 0.0015393751346797165, 0.0005008366846356888, 0.0060828542075416917, 0.0005008366846356888, 0.0056318827756944041, 0.0005008366846356888, 0.0040985495193418897, 0.0010300139415572701, 0.0020273255405408351, 0.0015393751346797165, 0.0015127146704332129, 0.0010385384500440277, 0.00050936119312245125, 0.0015393751346797165, 0.0, 0.0076763527928345732, 0.0010385384500440277, 0.0010385384500440277, 0.0005008366846356888, 0.0, 0.0005008366846356888, 0.0010101978777581351, 0.0005008366846356888, 0.0005008366846356888, 0.0005008366846356888, 0.0015393751346797165, 0.0005008366846356888, 0.0005008366846356888, 0.0015393751346797165, 0.0010033534773107617, 0.0015393751346797165, 0.0010101978777581351, 0.0015393751346797165, 0.0005008366846356888, 0.0010101978777581351, 0.0015393751346797165, 0.0005008366846356888, 0.0, 0.0010101978777581351, 0.00050936119312244637, 0.0015393751346797165, 0.00050936119312244637, 0.0015393751346797165, 0.0, 0.0015393751346797165, 0.0020220758635556592, 0.0010385384500440277, 0.0015127146704332079]\n",
        "[1.0, 1.0, 1.0, 1.0, 1.0, 1.0, 1.0, 1.0, 0.5, 0.5, 0.5, 0.5, 0.5, 0.5, 0.5, 0.5, 0.5, 0.5, 0.50000000000000011, 0.49999999999999989, 0.50000000000000011, 0.5, 0.5, 0.5, 0.5, 0.49999999999999989, 0.5, 0.49999999999999989, 0.5, 0.50000000000000022, 0.5, 0.5, 0.5, 0.5, 0.5, 0.5, 0.33333333333333331, 0.33333333333333331, 0.33333333333333331, 0.33333333333333326, 0.33333333333333337, 0.33333333333333326, 0.33333333333333331, 0.33333333333333331, 0.33333333333333331, 0.33333333333333331, 0.33333333333333331, 0.33333333333333331, 0.33333333333333331, 0.33333333333333331, 0.33333333333333331, 0.33333333333333331, 0.33333333333333337, 0.33333333333333331, 0.33333333333333337, 0.33333333333333331, 0.33333333333333337, 0.33333333333333337, 0.33333333333333331, 0.33333333333333331, 0.33333333333333331, 0.33333333333333331, 0.33333333333333331, 0.33333333333333331, 0.33333333333333331, 0.33333333333333331, 0.33333333333333343, 0.33333333333333331, 0.33333333333333331, 0.33333333333333331, 0.33333333333333331, 0.33333333333333331, 0.33333333333333337, 0.33333333333333326, 0.33333333333333337, 0.33333333333333331, 0.33333333333333331, 0.33333333333333331, 0.33333333333333331, 0.33333333333333326, 0.33333333333333326, 0.33333333333333331, 0.33333333333333337, 0.33333333333333331, 0.33333333333333331, 0.33333333333333331, 0.33333333333333337, 0.33333333333333331, 0.33333333333333331, 0.33333333333333326, 0.33333333333333331, 0.33333333333333331, 0.25, 0.25, 0.25, 0.25, 0.25, 0.25, 0.25, 0.25, 0.25, 0.25, 0.25, 0.25, 0.25, 0.25, 0.25, 0.25, 0.25, 0.25000000000000006, 0.25, 0.25, 0.25, 0.25, 0.25, 0.25, 0.25, 0.25, 0.25, 0.25, 0.24999999999999994, 0.25]\n",
        "[ 0.06484535  0.26054581  0.6148371   0.05977174]"
       ]
      },
      {
       "output_type": "stream",
       "stream": "stdout",
       "text": [
        "\n",
        "[ 0.05847543  0.23721004  0.63588626  0.06842827]"
       ]
      },
      {
       "output_type": "stream",
       "stream": "stdout",
       "text": [
        "\n",
        "[ 0.10090836  0.28432099  0.54821734  0.06655332]"
       ]
      },
      {
       "output_type": "stream",
       "stream": "stdout",
       "text": [
        "\n",
        "[ 0.07000109  0.24341922  0.63199889  0.05458081]"
       ]
      },
      {
       "output_type": "stream",
       "stream": "stdout",
       "text": [
        "\n",
        "[ 0.08162759  0.2949362   0.54385764  0.07957857]"
       ]
      },
      {
       "output_type": "stream",
       "stream": "stdout",
       "text": [
        "\n",
        "[ 0.10472731  0.28002884  0.54076334  0.07448051]"
       ]
      },
      {
       "output_type": "stream",
       "stream": "stdout",
       "text": [
        "\n",
        "[ 0.07096465  0.26143647  0.60519869  0.0624002 ]"
       ]
      },
      {
       "output_type": "stream",
       "stream": "stdout",
       "text": [
        "\n",
        "[ 0.11069851  0.23348908  0.58569514  0.07011726]"
       ]
      },
      {
       "output_type": "stream",
       "stream": "stdout",
       "text": [
        "\n",
        "[ 0.04368755  0.26204506  0.61404605  0.08022134]"
       ]
      },
      {
       "output_type": "stream",
       "stream": "stdout",
       "text": [
        "\n",
        "[ 0.08562495  0.31759239  0.50853321  0.08824946]"
       ]
      },
      {
       "output_type": "stream",
       "stream": "stdout",
       "text": [
        "\n",
        "[0.5, 0.5, 0.5, 0.5, 0.5, 0.5, 0.5, 0.5, 0.5, 0.5, 0.5, 0.5, 0.5, 0.5, 0.5, 0.5, 0.5, 0.5, 0.5, 0.5, 0.5, 0.5, 0.5, 0.5, 0.5, 0.5, 0.5, 0.5, 0.5, 0.5, 0.5, 0.5, 0.5, 0.5, 0.5, 0.5, 0.5, 0.5, 0.5, 0.5, 0.5, 0.5, 0.5, 0.5, 0.5, 0.5, 0.5, 0.5, 0.5, 0.5, 0.5, 0.5, 0.5, 0.5, 0.5, 0.5, 0.5, 0.5, 0.5, 0.5, 0.5, 0.5, 0.5, 0.5, 0.5, 0.5, 0.5, 0.5, 0.5, 0.5, 0.5, 0.5, 0.5, 0.5, 0.5, 0.5, 0.5, 0.5, 0.5, 0.5, 0.5, 0.5, 0.5, 0.5, 0.5, 0.5, 0.5, 0.5, 0.5, 0.5, 0.5, 0.5, 0.5, 0.5, 0.5, 0.5, 0.5, 0.5, 0.5, 0.5, 0.5, 0.5, 0.5, 0.5, 0.5, 0.5, 0.5, 0.5, 0.5, 0.5, 0.5, 0.5, 0.5, 0.5, 0.5, 0.5, 0.5, 0.5, 0.5, 0.5, 0.5, 0.5, 0.5]"
       ]
      },
      {
       "output_type": "stream",
       "stream": "stdout",
       "text": [
        "\n",
        "[0.035308450180920395, 0.015900278873051947, 0.027606640458033495, 0.020287811471444019, 0.028085748571213369, 0.035450017068918892, 0.0030537699131523133, 0.018801048240551517, 0.0010101978777581351, 0.00050936119312244637, 0.008238681424071536, 0.0036143352597136787, 0.005607800401233284, 0.0025444087200298623, 0.019754369486924619, 0.008088683576243998, 0.0, 0.0077047868625348317, 0.0065852856156395825, 0.0015393751346797165, 0.005668936813507235, 0.0010016733692713726, 0.0065990598011115165, 0.0050674066527983952, 0.0015393751346797165, 0.0066773510107629745, 0.0015127146704332129, 0.0010033534773107617, 0.0025444087200298623, 0.0015127146704332129, 0.020761540704040373, 0.0010385384500440277, 0.0061854044439900308, 0.0010385384500440277, 0.0076763527928345732, 0.0015393751346797165, 0.0025548226894230226, 0.0010101978777581351, 0.0015393751346797213, 0.0005008366846356888, 0.0015393751346797165, 0.0010101978777581351, 0.0010101978777581351, 0.0010300139415572653, 0.00050936119312244637, 0.0015393751346797165, 0.00050936119312244637, 0.0020220758635556592, 0.0010187223862448975, 0.0025444087200298623, 0.0015127146704332129, 0.0040563311891210398, 0.0010385384500440277, 0.0040760618683429806, 0.00050936119312244637, 0.0025366867336632723, 0.0015393751346797165, 0.0015308506261929541, 0.0050948696391650674, 0.0050810954536931333, 0.0010016733692713726, 0.0041208482133005854, 0.0, 0.0005008366846356888, 0.0015393751346797165, 0.00052917725692158137, 0.0035417203190134224, 0.0010583545138431627, 0.0036045572351535793, 0.0005008366846356888, 0.0046483453621827594, 0.0010300139415572701, 0.0010016733692713726, 0.0015308506261929541, 0.0015393751346797165, 0.0005008366846356888, 0.0060828542075416917, 0.0005008366846356888, 0.0056318827756944041, 0.0005008366846356888, 0.0040985495193418897, 0.0010300139415572701, 0.0020273255405408351, 0.0015393751346797165, 0.0015127146704332129, 0.0010385384500440277, 0.00050936119312245125, 0.0015393751346797165, 0.0, 0.0076763527928345732, 0.0010385384500440277, 0.0010385384500440277, 0.0005008366846356888, 0.0, 0.0005008366846356888, 0.0010101978777581351, 0.0005008366846356888, 0.0005008366846356888, 0.0005008366846356888, 0.0015393751346797165, 0.0005008366846356888, 0.0005008366846356888, 0.0015393751346797165, 0.0010033534773107617, 0.0015393751346797165, 0.0010101978777581351, 0.0015393751346797165, 0.0005008366846356888, 0.0010101978777581351, 0.0015393751346797165, 0.0005008366846356888, 0.0, 0.0010101978777581351, 0.00050936119312244637, 0.0015393751346797165, 0.00050936119312244637, 0.0015393751346797165, 0.0, 0.0015393751346797165, 0.0020220758635556592, 0.0010385384500440277, 0.0015127146704332079, 0.0015393751346797165]\n",
        "[1.0, 1.0, 1.0, 1.0, 1.0, 1.0, 1.0, 1.0, 0.5, 0.5, 0.5, 0.5, 0.5, 0.5, 0.5, 0.5, 0.5, 0.5, 0.50000000000000011, 0.49999999999999989, 0.50000000000000011, 0.5, 0.5, 0.5, 0.5, 0.49999999999999989, 0.5, 0.49999999999999989, 0.5, 0.50000000000000022, 0.5, 0.5, 0.5, 0.5, 0.5, 0.5, 0.33333333333333331, 0.33333333333333331, 0.33333333333333331, 0.33333333333333326, 0.33333333333333337, 0.33333333333333326, 0.33333333333333331, 0.33333333333333331, 0.33333333333333331, 0.33333333333333331, 0.33333333333333331, 0.33333333333333331, 0.33333333333333331, 0.33333333333333331, 0.33333333333333331, 0.33333333333333331, 0.33333333333333337, 0.33333333333333331, 0.33333333333333337, 0.33333333333333331, 0.33333333333333337, 0.33333333333333337, 0.33333333333333331, 0.33333333333333331, 0.33333333333333331, 0.33333333333333331, 0.33333333333333331, 0.33333333333333331, 0.33333333333333331, 0.33333333333333331, 0.33333333333333343, 0.33333333333333331, 0.33333333333333331, 0.33333333333333331, 0.33333333333333331, 0.33333333333333331, 0.33333333333333337, 0.33333333333333326, 0.33333333333333337, 0.33333333333333331, 0.33333333333333331, 0.33333333333333331, 0.33333333333333331, 0.33333333333333326, 0.33333333333333326, 0.33333333333333331, 0.33333333333333337, 0.33333333333333331, 0.33333333333333331, 0.33333333333333331, 0.33333333333333337, 0.33333333333333331, 0.33333333333333331, 0.33333333333333326, 0.33333333333333331, 0.33333333333333331, 0.25, 0.25, 0.25, 0.25, 0.25, 0.25, 0.25, 0.25, 0.25, 0.25, 0.25, 0.25, 0.25, 0.25, 0.25, 0.25, 0.25, 0.25000000000000006, 0.25, 0.25, 0.25, 0.25, 0.25, 0.25, 0.25, 0.25, 0.25, 0.25, 0.24999999999999994, 0.25, 0.25000000000000006]\n",
        "[ 0.17442536  0.09075073  0.08027715  0.65454676]"
       ]
      },
      {
       "output_type": "stream",
       "stream": "stdout",
       "text": [
        "\n",
        "[ 0.18950817  0.06081242  0.10387915  0.64580026]"
       ]
      },
      {
       "output_type": "stream",
       "stream": "stdout",
       "text": [
        "\n",
        "[ 0.17578333  0.05407267  0.0865681   0.6835759 ]"
       ]
      },
      {
       "output_type": "stream",
       "stream": "stdout",
       "text": [
        "\n",
        "[ 0.1450484   0.0546378   0.08139406  0.71891974]"
       ]
      },
      {
       "output_type": "stream",
       "stream": "stdout",
       "text": [
        "\n",
        "[ 0.13173982  0.05522599  0.08719119  0.72584299]"
       ]
      },
      {
       "output_type": "stream",
       "stream": "stdout",
       "text": [
        "\n",
        "[ 0.2111281   0.08383255  0.078145    0.62689435]"
       ]
      },
      {
       "output_type": "stream",
       "stream": "stdout",
       "text": [
        "\n",
        "[ 0.16613689  0.07947747  0.08383351  0.67055213]"
       ]
      },
      {
       "output_type": "stream",
       "stream": "stdout",
       "text": [
        "\n",
        "[ 0.18184992  0.06757605  0.08197703  0.668597  ]"
       ]
      },
      {
       "output_type": "stream",
       "stream": "stdout",
       "text": [
        "\n",
        "[ 0.19773797  0.07395117  0.08961062  0.63870024]"
       ]
      },
      {
       "output_type": "stream",
       "stream": "stdout",
       "text": [
        "\n",
        "[ 0.14770575  0.06555873  0.10868771  0.6780478 ]"
       ]
      },
      {
       "output_type": "stream",
       "stream": "stdout",
       "text": [
        "\n",
        "[0.5, 0.5, 0.5, 0.5, 0.5, 0.5, 0.5, 0.5, 0.5, 0.5, 0.5, 0.5, 0.5, 0.5, 0.5, 0.5, 0.5, 0.5, 0.5, 0.5, 0.5, 0.5, 0.5, 0.5, 0.5, 0.5, 0.5, 0.5, 0.5, 0.5, 0.5, 0.5, 0.5, 0.5, 0.5, 0.5, 0.5, 0.5, 0.5, 0.5, 0.5, 0.5, 0.5, 0.5, 0.5, 0.5, 0.5, 0.5, 0.5, 0.5, 0.5, 0.5, 0.5, 0.5, 0.5, 0.5, 0.5, 0.5, 0.5, 0.5, 0.5, 0.5, 0.5, 0.5, 0.5, 0.5, 0.5, 0.5, 0.5, 0.5, 0.5, 0.5, 0.5, 0.5, 0.5, 0.5, 0.5, 0.5, 0.5, 0.5, 0.5, 0.5, 0.5, 0.5, 0.5, 0.5, 0.5, 0.5, 0.5, 0.5, 0.5, 0.5, 0.5, 0.5, 0.5, 0.5, 0.5, 0.5, 0.5, 0.5, 0.5, 0.5, 0.5, 0.5, 0.5, 0.5, 0.5, 0.5, 0.5, 0.5, 0.5, 0.5, 0.5, 0.5, 0.5, 0.5, 0.5, 0.5, 0.5, 0.5, 0.5, 0.5, 0.5, 0.5]"
       ]
      },
      {
       "output_type": "stream",
       "stream": "stdout",
       "text": [
        "\n",
        "[0.035308450180920395, 0.015900278873051947, 0.027606640458033495, 0.020287811471444019, 0.028085748571213369, 0.035450017068918892, 0.0030537699131523133, 0.018801048240551517, 0.0010101978777581351, 0.00050936119312244637, 0.008238681424071536, 0.0036143352597136787, 0.005607800401233284, 0.0025444087200298623, 0.019754369486924619, 0.008088683576243998, 0.0, 0.0077047868625348317, 0.0065852856156395825, 0.0015393751346797165, 0.005668936813507235, 0.0010016733692713726, 0.0065990598011115165, 0.0050674066527983952, 0.0015393751346797165, 0.0066773510107629745, 0.0015127146704332129, 0.0010033534773107617, 0.0025444087200298623, 0.0015127146704332129, 0.020761540704040373, 0.0010385384500440277, 0.0061854044439900308, 0.0010385384500440277, 0.0076763527928345732, 0.0015393751346797165, 0.0025548226894230226, 0.0010101978777581351, 0.0015393751346797213, 0.0005008366846356888, 0.0015393751346797165, 0.0010101978777581351, 0.0010101978777581351, 0.0010300139415572653, 0.00050936119312244637, 0.0015393751346797165, 0.00050936119312244637, 0.0020220758635556592, 0.0010187223862448975, 0.0025444087200298623, 0.0015127146704332129, 0.0040563311891210398, 0.0010385384500440277, 0.0040760618683429806, 0.00050936119312244637, 0.0025366867336632723, 0.0015393751346797165, 0.0015308506261929541, 0.0050948696391650674, 0.0050810954536931333, 0.0010016733692713726, 0.0041208482133005854, 0.0, 0.0005008366846356888, 0.0015393751346797165, 0.00052917725692158137, 0.0035417203190134224, 0.0010583545138431627, 0.0036045572351535793, 0.0005008366846356888, 0.0046483453621827594, 0.0010300139415572701, 0.0010016733692713726, 0.0015308506261929541, 0.0015393751346797165, 0.0005008366846356888, 0.0060828542075416917, 0.0005008366846356888, 0.0056318827756944041, 0.0005008366846356888, 0.0040985495193418897, 0.0010300139415572701, 0.0020273255405408351, 0.0015393751346797165, 0.0015127146704332129, 0.0010385384500440277, 0.00050936119312245125, 0.0015393751346797165, 0.0, 0.0076763527928345732, 0.0010385384500440277, 0.0010385384500440277, 0.0005008366846356888, 0.0, 0.0005008366846356888, 0.0010101978777581351, 0.0005008366846356888, 0.0005008366846356888, 0.0005008366846356888, 0.0015393751346797165, 0.0005008366846356888, 0.0005008366846356888, 0.0015393751346797165, 0.0010033534773107617, 0.0015393751346797165, 0.0010101978777581351, 0.0015393751346797165, 0.0005008366846356888, 0.0010101978777581351, 0.0015393751346797165, 0.0005008366846356888, 0.0, 0.0010101978777581351, 0.00050936119312244637, 0.0015393751346797165, 0.00050936119312244637, 0.0015393751346797165, 0.0, 0.0015393751346797165, 0.0020220758635556592, 0.0010385384500440277, 0.0015127146704332079, 0.0015393751346797165, 0.00050936119312244637]\n",
        "[1.0, 1.0, 1.0, 1.0, 1.0, 1.0, 1.0, 1.0, 0.5, 0.5, 0.5, 0.5, 0.5, 0.5, 0.5, 0.5, 0.5, 0.5, 0.50000000000000011, 0.49999999999999989, 0.50000000000000011, 0.5, 0.5, 0.5, 0.5, 0.49999999999999989, 0.5, 0.49999999999999989, 0.5, 0.50000000000000022, 0.5, 0.5, 0.5, 0.5, 0.5, 0.5, 0.33333333333333331, 0.33333333333333331, 0.33333333333333331, 0.33333333333333326, 0.33333333333333337, 0.33333333333333326, 0.33333333333333331, 0.33333333333333331, 0.33333333333333331, 0.33333333333333331, 0.33333333333333331, 0.33333333333333331, 0.33333333333333331, 0.33333333333333331, 0.33333333333333331, 0.33333333333333331, 0.33333333333333337, 0.33333333333333331, 0.33333333333333337, 0.33333333333333331, 0.33333333333333337, 0.33333333333333337, 0.33333333333333331, 0.33333333333333331, 0.33333333333333331, 0.33333333333333331, 0.33333333333333331, 0.33333333333333331, 0.33333333333333331, 0.33333333333333331, 0.33333333333333343, 0.33333333333333331, 0.33333333333333331, 0.33333333333333331, 0.33333333333333331, 0.33333333333333331, 0.33333333333333337, 0.33333333333333326, 0.33333333333333337, 0.33333333333333331, 0.33333333333333331, 0.33333333333333331, 0.33333333333333331, 0.33333333333333326, 0.33333333333333326, 0.33333333333333331, 0.33333333333333337, 0.33333333333333331, 0.33333333333333331, 0.33333333333333331, 0.33333333333333337, 0.33333333333333331, 0.33333333333333331, 0.33333333333333326, 0.33333333333333331, 0.33333333333333331, 0.25, 0.25, 0.25, 0.25, 0.25, 0.25, 0.25, 0.25, 0.25, 0.25, 0.25, 0.25, 0.25, 0.25, 0.25, 0.25, 0.25, 0.25000000000000006, 0.25, 0.25, 0.25, 0.25, 0.25, 0.25, 0.25, 0.25, 0.25, 0.25, 0.24999999999999994, 0.25, 0.25000000000000006, 0.25]\n",
        "[ 0.40517947  0.21056464  0.17579088  0.20846501]"
       ]
      },
      {
       "output_type": "stream",
       "stream": "stdout",
       "text": [
        "\n",
        "[ 0.44245107  0.146479    0.24672759  0.16434234]"
       ]
      },
      {
       "output_type": "stream",
       "stream": "stdout",
       "text": [
        "\n",
        "[ 0.4355285   0.19638554  0.18123729  0.18684867]"
       ]
      },
      {
       "output_type": "stream",
       "stream": "stdout",
       "text": [
        "\n",
        "[ 0.42775638  0.15512729  0.23305992  0.18405642]"
       ]
      },
      {
       "output_type": "stream",
       "stream": "stdout",
       "text": [
        "\n",
        "[ 0.44341417  0.16939453  0.20540618  0.18178512]"
       ]
      },
      {
       "output_type": "stream",
       "stream": "stdout",
       "text": [
        "\n",
        "[ 0.45635698  0.16190509  0.21394509  0.16779284]"
       ]
      },
      {
       "output_type": "stream",
       "stream": "stdout",
       "text": [
        "\n",
        "[ 0.44866682  0.18296944  0.19291522  0.17544852]"
       ]
      },
      {
       "output_type": "stream",
       "stream": "stdout",
       "text": [
        "\n",
        "[ 0.4658781   0.17104854  0.21887262  0.14420074]"
       ]
      },
      {
       "output_type": "stream",
       "stream": "stdout",
       "text": [
        "\n",
        "[ 0.41805423  0.16578724  0.2198128   0.19634573]"
       ]
      },
      {
       "output_type": "stream",
       "stream": "stdout",
       "text": [
        "\n",
        "[ 0.41221901  0.18577959  0.23518975  0.16681165]"
       ]
      },
      {
       "output_type": "stream",
       "stream": "stdout",
       "text": [
        "\n",
        "[0.5, 0.5, 0.5, 0.5, 0.5, 0.5, 0.5, 0.5, 0.5, 0.5, 0.5, 0.5, 0.5, 0.5, 0.5, 0.5, 0.5, 0.5, 0.5, 0.5, 0.5, 0.5, 0.5, 0.5, 0.5, 0.5, 0.5, 0.5, 0.5, 0.5, 0.5, 0.5, 0.5, 0.5, 0.5, 0.5, 0.5, 0.5, 0.5, 0.5, 0.5, 0.5, 0.5, 0.5, 0.5, 0.5, 0.5, 0.5, 0.5, 0.5, 0.5, 0.5, 0.5, 0.5, 0.5, 0.5, 0.5, 0.5, 0.5, 0.5, 0.5, 0.5, 0.5, 0.5, 0.5, 0.5, 0.5, 0.5, 0.5, 0.5, 0.5, 0.5, 0.5, 0.5, 0.5, 0.5, 0.5, 0.5, 0.5, 0.5, 0.5, 0.5, 0.5, 0.5, 0.5, 0.5, 0.5, 0.5, 0.5, 0.5, 0.5, 0.5, 0.5, 0.5, 0.5, 0.5, 0.5, 0.5, 0.5, 0.5, 0.5, 0.5, 0.5, 0.5, 0.5, 0.5, 0.5, 0.5, 0.5, 0.5, 0.5, 0.5, 0.5, 0.5, 0.5, 0.5, 0.5, 0.5, 0.5, 0.5, 0.5, 0.5, 0.5, 0.5, 0.5]"
       ]
      },
      {
       "output_type": "stream",
       "stream": "stdout",
       "text": [
        "\n",
        "[0.035308450180920395, 0.015900278873051947, 0.027606640458033495, 0.020287811471444019, 0.028085748571213369, 0.035450017068918892, 0.0030537699131523133, 0.018801048240551517, 0.0010101978777581351, 0.00050936119312244637, 0.008238681424071536, 0.0036143352597136787, 0.005607800401233284, 0.0025444087200298623, 0.019754369486924619, 0.008088683576243998, 0.0, 0.0077047868625348317, 0.0065852856156395825, 0.0015393751346797165, 0.005668936813507235, 0.0010016733692713726, 0.0065990598011115165, 0.0050674066527983952, 0.0015393751346797165, 0.0066773510107629745, 0.0015127146704332129, 0.0010033534773107617, 0.0025444087200298623, 0.0015127146704332129, 0.020761540704040373, 0.0010385384500440277, 0.0061854044439900308, 0.0010385384500440277, 0.0076763527928345732, 0.0015393751346797165, 0.0025548226894230226, 0.0010101978777581351, 0.0015393751346797213, 0.0005008366846356888, 0.0015393751346797165, 0.0010101978777581351, 0.0010101978777581351, 0.0010300139415572653, 0.00050936119312244637, 0.0015393751346797165, 0.00050936119312244637, 0.0020220758635556592, 0.0010187223862448975, 0.0025444087200298623, 0.0015127146704332129, 0.0040563311891210398, 0.0010385384500440277, 0.0040760618683429806, 0.00050936119312244637, 0.0025366867336632723, 0.0015393751346797165, 0.0015308506261929541, 0.0050948696391650674, 0.0050810954536931333, 0.0010016733692713726, 0.0041208482133005854, 0.0, 0.0005008366846356888, 0.0015393751346797165, 0.00052917725692158137, 0.0035417203190134224, 0.0010583545138431627, 0.0036045572351535793, 0.0005008366846356888, 0.0046483453621827594, 0.0010300139415572701, 0.0010016733692713726, 0.0015308506261929541, 0.0015393751346797165, 0.0005008366846356888, 0.0060828542075416917, 0.0005008366846356888, 0.0056318827756944041, 0.0005008366846356888, 0.0040985495193418897, 0.0010300139415572701, 0.0020273255405408351, 0.0015393751346797165, 0.0015127146704332129, 0.0010385384500440277, 0.00050936119312245125, 0.0015393751346797165, 0.0, 0.0076763527928345732, 0.0010385384500440277, 0.0010385384500440277, 0.0005008366846356888, 0.0, 0.0005008366846356888, 0.0010101978777581351, 0.0005008366846356888, 0.0005008366846356888, 0.0005008366846356888, 0.0015393751346797165, 0.0005008366846356888, 0.0005008366846356888, 0.0015393751346797165, 0.0010033534773107617, 0.0015393751346797165, 0.0010101978777581351, 0.0015393751346797165, 0.0005008366846356888, 0.0010101978777581351, 0.0015393751346797165, 0.0005008366846356888, 0.0, 0.0010101978777581351, 0.00050936119312244637, 0.0015393751346797165, 0.00050936119312244637, 0.0015393751346797165, 0.0, 0.0015393751346797165, 0.0020220758635556592, 0.0010385384500440277, 0.0015127146704332079, 0.0015393751346797165, 0.00050936119312244637, 0.0030392035263383452]\n",
        "[1.0, 1.0, 1.0, 1.0, 1.0, 1.0, 1.0, 1.0, 0.5, 0.5, 0.5, 0.5, 0.5, 0.5, 0.5, 0.5, 0.5, 0.5, 0.50000000000000011, 0.49999999999999989, 0.50000000000000011, 0.5, 0.5, 0.5, 0.5, 0.49999999999999989, 0.5, 0.49999999999999989, 0.5, 0.50000000000000022, 0.5, 0.5, 0.5, 0.5, 0.5, 0.5, 0.33333333333333331, 0.33333333333333331, 0.33333333333333331, 0.33333333333333326, 0.33333333333333337, 0.33333333333333326, 0.33333333333333331, 0.33333333333333331, 0.33333333333333331, 0.33333333333333331, 0.33333333333333331, 0.33333333333333331, 0.33333333333333331, 0.33333333333333331, 0.33333333333333331, 0.33333333333333331, 0.33333333333333337, 0.33333333333333331, 0.33333333333333337, 0.33333333333333331, 0.33333333333333337, 0.33333333333333337, 0.33333333333333331, 0.33333333333333331, 0.33333333333333331, 0.33333333333333331, 0.33333333333333331, 0.33333333333333331, 0.33333333333333331, 0.33333333333333331, 0.33333333333333343, 0.33333333333333331, 0.33333333333333331, 0.33333333333333331, 0.33333333333333331, 0.33333333333333331, 0.33333333333333337, 0.33333333333333326, 0.33333333333333337, 0.33333333333333331, 0.33333333333333331, 0.33333333333333331, 0.33333333333333331, 0.33333333333333326, 0.33333333333333326, 0.33333333333333331, 0.33333333333333337, 0.33333333333333331, 0.33333333333333331, 0.33333333333333331, 0.33333333333333337, 0.33333333333333331, 0.33333333333333331, 0.33333333333333326, 0.33333333333333331, 0.33333333333333331, 0.25, 0.25, 0.25, 0.25, 0.25, 0.25, 0.25, 0.25, 0.25, 0.25, 0.25, 0.25, 0.25, 0.25, 0.25, 0.25, 0.25, 0.25000000000000006, 0.25, 0.25, 0.25, 0.25, 0.25, 0.25, 0.25, 0.25, 0.25, 0.25, 0.24999999999999994, 0.25, 0.25000000000000006, 0.25, 0.25]\n",
        "[ 0.17448657  0.12131507  0.66163548  0.04256288]"
       ]
      },
      {
       "output_type": "stream",
       "stream": "stdout",
       "text": [
        "\n",
        "[ 0.16349886  0.11630576  0.67417055  0.04602483]"
       ]
      },
      {
       "output_type": "stream",
       "stream": "stdout",
       "text": [
        "\n",
        "[ 0.15309544  0.10095637  0.70737498  0.0385732 ]"
       ]
      },
      {
       "output_type": "stream",
       "stream": "stdout",
       "text": [
        "\n",
        "[ 0.19813332  0.11062854  0.64682422  0.04441392]"
       ]
      },
      {
       "output_type": "stream",
       "stream": "stdout",
       "text": [
        "\n",
        "[ 0.15095785  0.12007984  0.67927879  0.04968351]"
       ]
      },
      {
       "output_type": "stream",
       "stream": "stdout",
       "text": [
        "\n",
        "[ 0.21899993  0.10839165  0.63178597  0.04082244]"
       ]
      },
      {
       "output_type": "stream",
       "stream": "stdout",
       "text": [
        "\n",
        "[ 0.1684525   0.11723509  0.66007102  0.05424139]"
       ]
      },
      {
       "output_type": "stream",
       "stream": "stdout",
       "text": [
        "\n",
        "[ 0.15205605  0.11465159  0.67189169  0.06140066]"
       ]
      },
      {
       "output_type": "stream",
       "stream": "stdout",
       "text": [
        "\n",
        "[ 0.15956327  0.10351922  0.67251252  0.06440499]"
       ]
      },
      {
       "output_type": "stream",
       "stream": "stdout",
       "text": [
        "\n",
        "[ 0.14084205  0.10700419  0.7017594   0.05039437]"
       ]
      },
      {
       "output_type": "stream",
       "stream": "stdout",
       "text": [
        "\n",
        "[0.5, 0.5, 0.5, 0.5, 0.5, 0.5, 0.5, 0.5, 0.5, 0.5, 0.5, 0.5, 0.5, 0.5, 0.5, 0.5, 0.5, 0.5, 0.5, 0.5, 0.5, 0.5, 0.5, 0.5, 0.5, 0.5, 0.5, 0.5, 0.5, 0.5, 0.5, 0.5, 0.5, 0.5, 0.5, 0.5, 0.5, 0.5, 0.5, 0.5, 0.5, 0.5, 0.5, 0.5, 0.5, 0.5, 0.5, 0.5, 0.5, 0.5, 0.5, 0.5, 0.5, 0.5, 0.5, 0.5, 0.5, 0.5, 0.5, 0.5, 0.5, 0.5, 0.5, 0.5, 0.5, 0.5, 0.5, 0.5, 0.5, 0.5, 0.5, 0.5, 0.5, 0.5, 0.5, 0.5, 0.5, 0.5, 0.5, 0.5, 0.5, 0.5, 0.5, 0.5, 0.5, 0.5, 0.5, 0.5, 0.5, 0.5, 0.5, 0.5, 0.5, 0.5, 0.5, 0.5, 0.5, 0.5, 0.5, 0.5, 0.5, 0.5, 0.5, 0.5, 0.5, 0.5, 0.5, 0.5, 0.5, 0.5, 0.5, 0.5, 0.5, 0.5, 0.5, 0.5, 0.5, 0.5, 0.5, 0.5, 0.5, 0.5, 0.5, 0.5, 0.5, 0.5]"
       ]
      },
      {
       "output_type": "stream",
       "stream": "stdout",
       "text": [
        "\n",
        "[0.035308450180920395, 0.015900278873051947, 0.027606640458033495, 0.020287811471444019, 0.028085748571213369, 0.035450017068918892, 0.0030537699131523133, 0.018801048240551517, 0.0010101978777581351, 0.00050936119312244637, 0.008238681424071536, 0.0036143352597136787, 0.005607800401233284, 0.0025444087200298623, 0.019754369486924619, 0.008088683576243998, 0.0, 0.0077047868625348317, 0.0065852856156395825, 0.0015393751346797165, 0.005668936813507235, 0.0010016733692713726, 0.0065990598011115165, 0.0050674066527983952, 0.0015393751346797165, 0.0066773510107629745, 0.0015127146704332129, 0.0010033534773107617, 0.0025444087200298623, 0.0015127146704332129, 0.020761540704040373, 0.0010385384500440277, 0.0061854044439900308, 0.0010385384500440277, 0.0076763527928345732, 0.0015393751346797165, 0.0025548226894230226, 0.0010101978777581351, 0.0015393751346797213, 0.0005008366846356888, 0.0015393751346797165, 0.0010101978777581351, 0.0010101978777581351, 0.0010300139415572653, 0.00050936119312244637, 0.0015393751346797165, 0.00050936119312244637, 0.0020220758635556592, 0.0010187223862448975, 0.0025444087200298623, 0.0015127146704332129, 0.0040563311891210398, 0.0010385384500440277, 0.0040760618683429806, 0.00050936119312244637, 0.0025366867336632723, 0.0015393751346797165, 0.0015308506261929541, 0.0050948696391650674, 0.0050810954536931333, 0.0010016733692713726, 0.0041208482133005854, 0.0, 0.0005008366846356888, 0.0015393751346797165, 0.00052917725692158137, 0.0035417203190134224, 0.0010583545138431627, 0.0036045572351535793, 0.0005008366846356888, 0.0046483453621827594, 0.0010300139415572701, 0.0010016733692713726, 0.0015308506261929541, 0.0015393751346797165, 0.0005008366846356888, 0.0060828542075416917, 0.0005008366846356888, 0.0056318827756944041, 0.0005008366846356888, 0.0040985495193418897, 0.0010300139415572701, 0.0020273255405408351, 0.0015393751346797165, 0.0015127146704332129, 0.0010385384500440277, 0.00050936119312245125, 0.0015393751346797165, 0.0, 0.0076763527928345732, 0.0010385384500440277, 0.0010385384500440277, 0.0005008366846356888, 0.0, 0.0005008366846356888, 0.0010101978777581351, 0.0005008366846356888, 0.0005008366846356888, 0.0005008366846356888, 0.0015393751346797165, 0.0005008366846356888, 0.0005008366846356888, 0.0015393751346797165, 0.0010033534773107617, 0.0015393751346797165, 0.0010101978777581351, 0.0015393751346797165, 0.0005008366846356888, 0.0010101978777581351, 0.0015393751346797165, 0.0005008366846356888, 0.0, 0.0010101978777581351, 0.00050936119312244637, 0.0015393751346797165, 0.00050936119312244637, 0.0015393751346797165, 0.0, 0.0015393751346797165, 0.0020220758635556592, 0.0010385384500440277, 0.0015127146704332079, 0.0015393751346797165, 0.00050936119312244637, 0.0030392035263383452, 0.0010101978777581351]\n",
        "[1.0, 1.0, 1.0, 1.0, 1.0, 1.0, 1.0, 1.0, 0.5, 0.5, 0.5, 0.5, 0.5, 0.5, 0.5, 0.5, 0.5, 0.5, 0.50000000000000011, 0.49999999999999989, 0.50000000000000011, 0.5, 0.5, 0.5, 0.5, 0.49999999999999989, 0.5, 0.49999999999999989, 0.5, 0.50000000000000022, 0.5, 0.5, 0.5, 0.5, 0.5, 0.5, 0.33333333333333331, 0.33333333333333331, 0.33333333333333331, 0.33333333333333326, 0.33333333333333337, 0.33333333333333326, 0.33333333333333331, 0.33333333333333331, 0.33333333333333331, 0.33333333333333331, 0.33333333333333331, 0.33333333333333331, 0.33333333333333331, 0.33333333333333331, 0.33333333333333331, 0.33333333333333331, 0.33333333333333337, 0.33333333333333331, 0.33333333333333337, 0.33333333333333331, 0.33333333333333337, 0.33333333333333337, 0.33333333333333331, 0.33333333333333331, 0.33333333333333331, 0.33333333333333331, 0.33333333333333331, 0.33333333333333331, 0.33333333333333331, 0.33333333333333331, 0.33333333333333343, 0.33333333333333331, 0.33333333333333331, 0.33333333333333331, 0.33333333333333331, 0.33333333333333331, 0.33333333333333337, 0.33333333333333326, 0.33333333333333337, 0.33333333333333331, 0.33333333333333331, 0.33333333333333331, 0.33333333333333331, 0.33333333333333326, 0.33333333333333326, 0.33333333333333331, 0.33333333333333337, 0.33333333333333331, 0.33333333333333331, 0.33333333333333331, 0.33333333333333337, 0.33333333333333331, 0.33333333333333331, 0.33333333333333326, 0.33333333333333331, 0.33333333333333331, 0.25, 0.25, 0.25, 0.25, 0.25, 0.25, 0.25, 0.25, 0.25, 0.25, 0.25, 0.25, 0.25, 0.25, 0.25, 0.25, 0.25, 0.25000000000000006, 0.25, 0.25, 0.25, 0.25, 0.25, 0.25, 0.25, 0.25, 0.25, 0.25, 0.24999999999999994, 0.25, 0.25000000000000006, 0.25, 0.25, 0.25]\n",
        "[ 0.16101187  0.09545655  0.69549411  0.04803747]"
       ]
      },
      {
       "output_type": "stream",
       "stream": "stdout",
       "text": [
        "\n",
        "[ 0.23135374  0.14103186  0.57852999  0.04908442]"
       ]
      },
      {
       "output_type": "stream",
       "stream": "stdout",
       "text": [
        "\n",
        "[ 0.15803884  0.09338878  0.70782177  0.04075061]"
       ]
      },
      {
       "output_type": "stream",
       "stream": "stdout",
       "text": [
        "\n",
        "[ 0.20177009  0.12578922  0.62841562  0.04402506]"
       ]
      },
      {
       "output_type": "stream",
       "stream": "stdout",
       "text": [
        "\n",
        "[ 0.18523651  0.14445694  0.62204658  0.04825996]"
       ]
      },
      {
       "output_type": "stream",
       "stream": "stdout",
       "text": [
        "\n",
        "[ 0.21362135  0.12139451  0.6265077   0.03847643]"
       ]
      },
      {
       "output_type": "stream",
       "stream": "stdout",
       "text": [
        "\n",
        "[ 0.16443246  0.11644748  0.67731755  0.04180251]"
       ]
      },
      {
       "output_type": "stream",
       "stream": "stdout",
       "text": [
        "\n",
        "[ 0.16440754  0.09673727  0.6886798   0.05017539]"
       ]
      },
      {
       "output_type": "stream",
       "stream": "stdout",
       "text": [
        "\n",
        "[ 0.18095457  0.12465805  0.65141509  0.04297229]"
       ]
      },
      {
       "output_type": "stream",
       "stream": "stdout",
       "text": [
        "\n",
        "[ 0.15316975  0.12375162  0.67337496  0.04970367]"
       ]
      },
      {
       "output_type": "stream",
       "stream": "stdout",
       "text": [
        "\n",
        "[0.5, 0.5, 0.5, 0.5, 0.5, 0.5, 0.5, 0.5, 0.5, 0.5, 0.5, 0.5, 0.5, 0.5, 0.5, 0.5, 0.5, 0.5, 0.5, 0.5, 0.5, 0.5, 0.5, 0.5, 0.5, 0.5, 0.5, 0.5, 0.5, 0.5, 0.5, 0.5, 0.5, 0.5, 0.5, 0.5, 0.5, 0.5, 0.5, 0.5, 0.5, 0.5, 0.5, 0.5, 0.5, 0.5, 0.5, 0.5, 0.5, 0.5, 0.5, 0.5, 0.5, 0.5, 0.5, 0.5, 0.5, 0.5, 0.5, 0.5, 0.5, 0.5, 0.5, 0.5, 0.5, 0.5, 0.5, 0.5, 0.5, 0.5, 0.5, 0.5, 0.5, 0.5, 0.5, 0.5, 0.5, 0.5, 0.5, 0.5, 0.5, 0.5, 0.5, 0.5, 0.5, 0.5, 0.5, 0.5, 0.5, 0.5, 0.5, 0.5, 0.5, 0.5, 0.5, 0.5, 0.5, 0.5, 0.5, 0.5, 0.5, 0.5, 0.5, 0.5, 0.5, 0.5, 0.5, 0.5, 0.5, 0.5, 0.5, 0.5, 0.5, 0.5, 0.5, 0.5, 0.5, 0.5, 0.5, 0.5, 0.5, 0.5, 0.5, 0.5, 0.5, 0.5, 0.5]"
       ]
      },
      {
       "output_type": "stream",
       "stream": "stdout",
       "text": [
        "\n",
        "[0.035308450180920395, 0.015900278873051947, 0.027606640458033495, 0.020287811471444019, 0.028085748571213369, 0.035450017068918892, 0.0030537699131523133, 0.018801048240551517, 0.0010101978777581351, 0.00050936119312244637, 0.008238681424071536, 0.0036143352597136787, 0.005607800401233284, 0.0025444087200298623, 0.019754369486924619, 0.008088683576243998, 0.0, 0.0077047868625348317, 0.0065852856156395825, 0.0015393751346797165, 0.005668936813507235, 0.0010016733692713726, 0.0065990598011115165, 0.0050674066527983952, 0.0015393751346797165, 0.0066773510107629745, 0.0015127146704332129, 0.0010033534773107617, 0.0025444087200298623, 0.0015127146704332129, 0.020761540704040373, 0.0010385384500440277, 0.0061854044439900308, 0.0010385384500440277, 0.0076763527928345732, 0.0015393751346797165, 0.0025548226894230226, 0.0010101978777581351, 0.0015393751346797213, 0.0005008366846356888, 0.0015393751346797165, 0.0010101978777581351, 0.0010101978777581351, 0.0010300139415572653, 0.00050936119312244637, 0.0015393751346797165, 0.00050936119312244637, 0.0020220758635556592, 0.0010187223862448975, 0.0025444087200298623, 0.0015127146704332129, 0.0040563311891210398, 0.0010385384500440277, 0.0040760618683429806, 0.00050936119312244637, 0.0025366867336632723, 0.0015393751346797165, 0.0015308506261929541, 0.0050948696391650674, 0.0050810954536931333, 0.0010016733692713726, 0.0041208482133005854, 0.0, 0.0005008366846356888, 0.0015393751346797165, 0.00052917725692158137, 0.0035417203190134224, 0.0010583545138431627, 0.0036045572351535793, 0.0005008366846356888, 0.0046483453621827594, 0.0010300139415572701, 0.0010016733692713726, 0.0015308506261929541, 0.0015393751346797165, 0.0005008366846356888, 0.0060828542075416917, 0.0005008366846356888, 0.0056318827756944041, 0.0005008366846356888, 0.0040985495193418897, 0.0010300139415572701, 0.0020273255405408351, 0.0015393751346797165, 0.0015127146704332129, 0.0010385384500440277, 0.00050936119312245125, 0.0015393751346797165, 0.0, 0.0076763527928345732, 0.0010385384500440277, 0.0010385384500440277, 0.0005008366846356888, 0.0, 0.0005008366846356888, 0.0010101978777581351, 0.0005008366846356888, 0.0005008366846356888, 0.0005008366846356888, 0.0015393751346797165, 0.0005008366846356888, 0.0005008366846356888, 0.0015393751346797165, 0.0010033534773107617, 0.0015393751346797165, 0.0010101978777581351, 0.0015393751346797165, 0.0005008366846356888, 0.0010101978777581351, 0.0015393751346797165, 0.0005008366846356888, 0.0, 0.0010101978777581351, 0.00050936119312244637, 0.0015393751346797165, 0.00050936119312244637, 0.0015393751346797165, 0.0, 0.0015393751346797165, 0.0020220758635556592, 0.0010385384500440277, 0.0015127146704332079, 0.0015393751346797165, 0.00050936119312244637, 0.0030392035263383452, 0.0010101978777581351, 0.00050936119312244637]\n",
        "[1.0, 1.0, 1.0, 1.0, 1.0, 1.0, 1.0, 1.0, 0.5, 0.5, 0.5, 0.5, 0.5, 0.5, 0.5, 0.5, 0.5, 0.5, 0.50000000000000011, 0.49999999999999989, 0.50000000000000011, 0.5, 0.5, 0.5, 0.5, 0.49999999999999989, 0.5, 0.49999999999999989, 0.5, 0.50000000000000022, 0.5, 0.5, 0.5, 0.5, 0.5, 0.5, 0.33333333333333331, 0.33333333333333331, 0.33333333333333331, 0.33333333333333326, 0.33333333333333337, 0.33333333333333326, 0.33333333333333331, 0.33333333333333331, 0.33333333333333331, 0.33333333333333331, 0.33333333333333331, 0.33333333333333331, 0.33333333333333331, 0.33333333333333331, 0.33333333333333331, 0.33333333333333331, 0.33333333333333337, 0.33333333333333331, 0.33333333333333337, 0.33333333333333331, 0.33333333333333337, 0.33333333333333337, 0.33333333333333331, 0.33333333333333331, 0.33333333333333331, 0.33333333333333331, 0.33333333333333331, 0.33333333333333331, 0.33333333333333331, 0.33333333333333331, 0.33333333333333343, 0.33333333333333331, 0.33333333333333331, 0.33333333333333331, 0.33333333333333331, 0.33333333333333331, 0.33333333333333337, 0.33333333333333326, 0.33333333333333337, 0.33333333333333331, 0.33333333333333331, 0.33333333333333331, 0.33333333333333331, 0.33333333333333326, 0.33333333333333326, 0.33333333333333331, 0.33333333333333337, 0.33333333333333331, 0.33333333333333331, 0.33333333333333331, 0.33333333333333337, 0.33333333333333331, 0.33333333333333331, 0.33333333333333326, 0.33333333333333331, 0.33333333333333331, 0.25, 0.25, 0.25, 0.25, 0.25, 0.25, 0.25, 0.25, 0.25, 0.25, 0.25, 0.25, 0.25, 0.25, 0.25, 0.25, 0.25, 0.25000000000000006, 0.25, 0.25, 0.25, 0.25, 0.25, 0.25, 0.25, 0.25, 0.25, 0.25, 0.24999999999999994, 0.25, 0.25000000000000006, 0.25, 0.25, 0.25, 0.25]\n",
        "[ 0.1811759   0.18595338  0.57110148  0.06176924]"
       ]
      },
      {
       "output_type": "stream",
       "stream": "stdout",
       "text": [
        "\n",
        "[ 0.09281812  0.2587402   0.54415941  0.10428227]"
       ]
      },
      {
       "output_type": "stream",
       "stream": "stdout",
       "text": [
        "\n",
        "[ 0.1281771   0.21382277  0.57622819  0.08177194]"
       ]
      },
      {
       "output_type": "stream",
       "stream": "stdout",
       "text": [
        "\n",
        "[ 0.15561251  0.22767665  0.5377786   0.07893223]"
       ]
      },
      {
       "output_type": "stream",
       "stream": "stdout",
       "text": [
        "\n",
        "[ 0.16097771  0.1925086   0.54868749  0.0978262 ]"
       ]
      },
      {
       "output_type": "stream",
       "stream": "stdout",
       "text": [
        "\n",
        "[ 0.11893575  0.17988979  0.60276798  0.09840648]"
       ]
      },
      {
       "output_type": "stream",
       "stream": "stdout",
       "text": [
        "\n",
        "[ 0.19138345  0.1995801   0.53567184  0.07336461]"
       ]
      },
      {
       "output_type": "stream",
       "stream": "stdout",
       "text": [
        "\n",
        "[ 0.14083698  0.21170052  0.56196844  0.08549406]"
       ]
      },
      {
       "output_type": "stream",
       "stream": "stdout",
       "text": [
        "\n",
        "[ 0.10855876  0.22157723  0.56689835  0.10296566]"
       ]
      },
      {
       "output_type": "stream",
       "stream": "stdout",
       "text": [
        "\n",
        "[ 0.1486341   0.22691231  0.52460988  0.09984371]"
       ]
      },
      {
       "output_type": "stream",
       "stream": "stdout",
       "text": [
        "\n",
        "[0.5, 0.5, 0.5, 0.5, 0.5, 0.5, 0.5, 0.5, 0.5, 0.5, 0.5, 0.5, 0.5, 0.5, 0.5, 0.5, 0.5, 0.5, 0.5, 0.5, 0.5, 0.5, 0.5, 0.5, 0.5, 0.5, 0.5, 0.5, 0.5, 0.5, 0.5, 0.5, 0.5, 0.5, 0.5, 0.5, 0.5, 0.5, 0.5, 0.5, 0.5, 0.5, 0.5, 0.5, 0.5, 0.5, 0.5, 0.5, 0.5, 0.5, 0.5, 0.5, 0.5, 0.5, 0.5, 0.5, 0.5, 0.5, 0.5, 0.5, 0.5, 0.5, 0.5, 0.5, 0.5, 0.5, 0.5, 0.5, 0.5, 0.5, 0.5, 0.5, 0.5, 0.5, 0.5, 0.5, 0.5, 0.5, 0.5, 0.5, 0.5, 0.5, 0.5, 0.5, 0.5, 0.5, 0.5, 0.5, 0.5, 0.5, 0.5, 0.5, 0.5, 0.5, 0.5, 0.5, 0.5, 0.5, 0.5, 0.5, 0.5, 0.5, 0.5, 0.5, 0.5, 0.5, 0.5, 0.5, 0.5, 0.5, 0.5, 0.5, 0.5, 0.5, 0.5, 0.5, 0.5, 0.5, 0.5, 0.5, 0.5, 0.5, 0.5, 0.5, 0.5, 0.5, 0.5, 0.5]"
       ]
      },
      {
       "output_type": "stream",
       "stream": "stdout",
       "text": [
        "\n",
        "[0.035308450180920395, 0.015900278873051947, 0.027606640458033495, 0.020287811471444019, 0.028085748571213369, 0.035450017068918892, 0.0030537699131523133, 0.018801048240551517, 0.0010101978777581351, 0.00050936119312244637, 0.008238681424071536, 0.0036143352597136787, 0.005607800401233284, 0.0025444087200298623, 0.019754369486924619, 0.008088683576243998, 0.0, 0.0077047868625348317, 0.0065852856156395825, 0.0015393751346797165, 0.005668936813507235, 0.0010016733692713726, 0.0065990598011115165, 0.0050674066527983952, 0.0015393751346797165, 0.0066773510107629745, 0.0015127146704332129, 0.0010033534773107617, 0.0025444087200298623, 0.0015127146704332129, 0.020761540704040373, 0.0010385384500440277, 0.0061854044439900308, 0.0010385384500440277, 0.0076763527928345732, 0.0015393751346797165, 0.0025548226894230226, 0.0010101978777581351, 0.0015393751346797213, 0.0005008366846356888, 0.0015393751346797165, 0.0010101978777581351, 0.0010101978777581351, 0.0010300139415572653, 0.00050936119312244637, 0.0015393751346797165, 0.00050936119312244637, 0.0020220758635556592, 0.0010187223862448975, 0.0025444087200298623, 0.0015127146704332129, 0.0040563311891210398, 0.0010385384500440277, 0.0040760618683429806, 0.00050936119312244637, 0.0025366867336632723, 0.0015393751346797165, 0.0015308506261929541, 0.0050948696391650674, 0.0050810954536931333, 0.0010016733692713726, 0.0041208482133005854, 0.0, 0.0005008366846356888, 0.0015393751346797165, 0.00052917725692158137, 0.0035417203190134224, 0.0010583545138431627, 0.0036045572351535793, 0.0005008366846356888, 0.0046483453621827594, 0.0010300139415572701, 0.0010016733692713726, 0.0015308506261929541, 0.0015393751346797165, 0.0005008366846356888, 0.0060828542075416917, 0.0005008366846356888, 0.0056318827756944041, 0.0005008366846356888, 0.0040985495193418897, 0.0010300139415572701, 0.0020273255405408351, 0.0015393751346797165, 0.0015127146704332129, 0.0010385384500440277, 0.00050936119312245125, 0.0015393751346797165, 0.0, 0.0076763527928345732, 0.0010385384500440277, 0.0010385384500440277, 0.0005008366846356888, 0.0, 0.0005008366846356888, 0.0010101978777581351, 0.0005008366846356888, 0.0005008366846356888, 0.0005008366846356888, 0.0015393751346797165, 0.0005008366846356888, 0.0005008366846356888, 0.0015393751346797165, 0.0010033534773107617, 0.0015393751346797165, 0.0010101978777581351, 0.0015393751346797165, 0.0005008366846356888, 0.0010101978777581351, 0.0015393751346797165, 0.0005008366846356888, 0.0, 0.0010101978777581351, 0.00050936119312244637, 0.0015393751346797165, 0.00050936119312244637, 0.0015393751346797165, 0.0, 0.0015393751346797165, 0.0020220758635556592, 0.0010385384500440277, 0.0015127146704332079, 0.0015393751346797165, 0.00050936119312244637, 0.0030392035263383452, 0.0010101978777581351, 0.00050936119312244637, 0.0015308506261929541]\n",
        "[1.0, 1.0, 1.0, 1.0, 1.0, 1.0, 1.0, 1.0, 0.5, 0.5, 0.5, 0.5, 0.5, 0.5, 0.5, 0.5, 0.5, 0.5, 0.50000000000000011, 0.49999999999999989, 0.50000000000000011, 0.5, 0.5, 0.5, 0.5, 0.49999999999999989, 0.5, 0.49999999999999989, 0.5, 0.50000000000000022, 0.5, 0.5, 0.5, 0.5, 0.5, 0.5, 0.33333333333333331, 0.33333333333333331, 0.33333333333333331, 0.33333333333333326, 0.33333333333333337, 0.33333333333333326, 0.33333333333333331, 0.33333333333333331, 0.33333333333333331, 0.33333333333333331, 0.33333333333333331, 0.33333333333333331, 0.33333333333333331, 0.33333333333333331, 0.33333333333333331, 0.33333333333333331, 0.33333333333333337, 0.33333333333333331, 0.33333333333333337, 0.33333333333333331, 0.33333333333333337, 0.33333333333333337, 0.33333333333333331, 0.33333333333333331, 0.33333333333333331, 0.33333333333333331, 0.33333333333333331, 0.33333333333333331, 0.33333333333333331, 0.33333333333333331, 0.33333333333333343, 0.33333333333333331, 0.33333333333333331, 0.33333333333333331, 0.33333333333333331, 0.33333333333333331, 0.33333333333333337, 0.33333333333333326, 0.33333333333333337, 0.33333333333333331, 0.33333333333333331, 0.33333333333333331, 0.33333333333333331, 0.33333333333333326, 0.33333333333333326, 0.33333333333333331, 0.33333333333333337, 0.33333333333333331, 0.33333333333333331, 0.33333333333333331, 0.33333333333333337, 0.33333333333333331, 0.33333333333333331, 0.33333333333333326, 0.33333333333333331, 0.33333333333333331, 0.25, 0.25, 0.25, 0.25, 0.25, 0.25, 0.25, 0.25, 0.25, 0.25, 0.25, 0.25, 0.25, 0.25, 0.25, 0.25, 0.25, 0.25000000000000006, 0.25, 0.25, 0.25, 0.25, 0.25, 0.25, 0.25, 0.25, 0.25, 0.25, 0.24999999999999994, 0.25, 0.25000000000000006, 0.25, 0.25, 0.25, 0.25, 0.25]\n",
        "[ 0.20183788  0.21594377  0.52465998  0.05755837]"
       ]
      },
      {
       "output_type": "stream",
       "stream": "stdout",
       "text": [
        "\n",
        "[ 0.1249656   0.23173531  0.562229    0.08107009]"
       ]
      },
      {
       "output_type": "stream",
       "stream": "stdout",
       "text": [
        "\n",
        "[ 0.10551135  0.22608145  0.57973749  0.0886697 ]"
       ]
      },
      {
       "output_type": "stream",
       "stream": "stdout",
       "text": [
        "\n",
        "[ 0.16442339  0.21001506  0.52509758  0.10046397]"
       ]
      },
      {
       "output_type": "stream",
       "stream": "stdout",
       "text": [
        "\n",
        "[ 0.11839321  0.21891943  0.55737573  0.10531164]"
       ]
      },
      {
       "output_type": "stream",
       "stream": "stdout",
       "text": [
        "\n",
        "[ 0.122944    0.20092854  0.57348147  0.10264599]"
       ]
      },
      {
       "output_type": "stream",
       "stream": "stdout",
       "text": [
        "\n",
        "[ 0.15006052  0.22820045  0.52827361  0.09346541]"
       ]
      },
      {
       "output_type": "stream",
       "stream": "stdout",
       "text": [
        "\n",
        "[ 0.13763088  0.20289959  0.56629257  0.09317696]"
       ]
      },
      {
       "output_type": "stream",
       "stream": "stdout",
       "text": [
        "\n",
        "[ 0.14799126  0.22596674  0.52402306  0.10201894]"
       ]
      },
      {
       "output_type": "stream",
       "stream": "stdout",
       "text": [
        "\n",
        "[ 0.17989142  0.20015961  0.53402099  0.08592798]"
       ]
      },
      {
       "output_type": "stream",
       "stream": "stdout",
       "text": [
        "\n",
        "[0.5, 0.5, 0.5, 0.5, 0.5, 0.5, 0.5, 0.5, 0.5, 0.5, 0.5, 0.5, 0.5, 0.5, 0.5, 0.5, 0.5, 0.5, 0.5, 0.5, 0.5, 0.5, 0.5, 0.5, 0.5, 0.5, 0.5, 0.5, 0.5, 0.5, 0.5, 0.5, 0.5, 0.5, 0.5, 0.5, 0.5, 0.5, 0.5, 0.5, 0.5, 0.5, 0.5, 0.5, 0.5, 0.5, 0.5, 0.5, 0.5, 0.5, 0.5, 0.5, 0.5, 0.5, 0.5, 0.5, 0.5, 0.5, 0.5, 0.5, 0.5, 0.5, 0.5, 0.5, 0.5, 0.5, 0.5, 0.5, 0.5, 0.5, 0.5, 0.5, 0.5, 0.5, 0.5, 0.5, 0.5, 0.5, 0.5, 0.5, 0.5, 0.5, 0.5, 0.5, 0.5, 0.5, 0.5, 0.5, 0.5, 0.5, 0.5, 0.5, 0.5, 0.5, 0.5, 0.5, 0.5, 0.5, 0.5, 0.5, 0.5, 0.5, 0.5, 0.5, 0.5, 0.5, 0.5, 0.5, 0.5, 0.5, 0.5, 0.5, 0.5, 0.5, 0.5, 0.5, 0.5, 0.5, 0.5, 0.5, 0.5, 0.5, 0.5, 0.5, 0.5, 0.5, 0.5, 0.5, 0.5]"
       ]
      },
      {
       "output_type": "stream",
       "stream": "stdout",
       "text": [
        "\n",
        "[0.035308450180920395, 0.015900278873051947, 0.027606640458033495, 0.020287811471444019, 0.028085748571213369, 0.035450017068918892, 0.0030537699131523133, 0.018801048240551517, 0.0010101978777581351, 0.00050936119312244637, 0.008238681424071536, 0.0036143352597136787, 0.005607800401233284, 0.0025444087200298623, 0.019754369486924619, 0.008088683576243998, 0.0, 0.0077047868625348317, 0.0065852856156395825, 0.0015393751346797165, 0.005668936813507235, 0.0010016733692713726, 0.0065990598011115165, 0.0050674066527983952, 0.0015393751346797165, 0.0066773510107629745, 0.0015127146704332129, 0.0010033534773107617, 0.0025444087200298623, 0.0015127146704332129, 0.020761540704040373, 0.0010385384500440277, 0.0061854044439900308, 0.0010385384500440277, 0.0076763527928345732, 0.0015393751346797165, 0.0025548226894230226, 0.0010101978777581351, 0.0015393751346797213, 0.0005008366846356888, 0.0015393751346797165, 0.0010101978777581351, 0.0010101978777581351, 0.0010300139415572653, 0.00050936119312244637, 0.0015393751346797165, 0.00050936119312244637, 0.0020220758635556592, 0.0010187223862448975, 0.0025444087200298623, 0.0015127146704332129, 0.0040563311891210398, 0.0010385384500440277, 0.0040760618683429806, 0.00050936119312244637, 0.0025366867336632723, 0.0015393751346797165, 0.0015308506261929541, 0.0050948696391650674, 0.0050810954536931333, 0.0010016733692713726, 0.0041208482133005854, 0.0, 0.0005008366846356888, 0.0015393751346797165, 0.00052917725692158137, 0.0035417203190134224, 0.0010583545138431627, 0.0036045572351535793, 0.0005008366846356888, 0.0046483453621827594, 0.0010300139415572701, 0.0010016733692713726, 0.0015308506261929541, 0.0015393751346797165, 0.0005008366846356888, 0.0060828542075416917, 0.0005008366846356888, 0.0056318827756944041, 0.0005008366846356888, 0.0040985495193418897, 0.0010300139415572701, 0.0020273255405408351, 0.0015393751346797165, 0.0015127146704332129, 0.0010385384500440277, 0.00050936119312245125, 0.0015393751346797165, 0.0, 0.0076763527928345732, 0.0010385384500440277, 0.0010385384500440277, 0.0005008366846356888, 0.0, 0.0005008366846356888, 0.0010101978777581351, 0.0005008366846356888, 0.0005008366846356888, 0.0005008366846356888, 0.0015393751346797165, 0.0005008366846356888, 0.0005008366846356888, 0.0015393751346797165, 0.0010033534773107617, 0.0015393751346797165, 0.0010101978777581351, 0.0015393751346797165, 0.0005008366846356888, 0.0010101978777581351, 0.0015393751346797165, 0.0005008366846356888, 0.0, 0.0010101978777581351, 0.00050936119312244637, 0.0015393751346797165, 0.00050936119312244637, 0.0015393751346797165, 0.0, 0.0015393751346797165, 0.0020220758635556592, 0.0010385384500440277, 0.0015127146704332079, 0.0015393751346797165, 0.00050936119312244637, 0.0030392035263383452, 0.0010101978777581351, 0.00050936119312244637, 0.0015308506261929541, 0.0015308506261929541]\n",
        "[1.0, 1.0, 1.0, 1.0, 1.0, 1.0, 1.0, 1.0, 0.5, 0.5, 0.5, 0.5, 0.5, 0.5, 0.5, 0.5, 0.5, 0.5, 0.50000000000000011, 0.49999999999999989, 0.50000000000000011, 0.5, 0.5, 0.5, 0.5, 0.49999999999999989, 0.5, 0.49999999999999989, 0.5, 0.50000000000000022, 0.5, 0.5, 0.5, 0.5, 0.5, 0.5, 0.33333333333333331, 0.33333333333333331, 0.33333333333333331, 0.33333333333333326, 0.33333333333333337, 0.33333333333333326, 0.33333333333333331, 0.33333333333333331, 0.33333333333333331, 0.33333333333333331, 0.33333333333333331, 0.33333333333333331, 0.33333333333333331, 0.33333333333333331, 0.33333333333333331, 0.33333333333333331, 0.33333333333333337, 0.33333333333333331, 0.33333333333333337, 0.33333333333333331, 0.33333333333333337, 0.33333333333333337, 0.33333333333333331, 0.33333333333333331, 0.33333333333333331, 0.33333333333333331, 0.33333333333333331, 0.33333333333333331, 0.33333333333333331, 0.33333333333333331, 0.33333333333333343, 0.33333333333333331, 0.33333333333333331, 0.33333333333333331, 0.33333333333333331, 0.33333333333333331, 0.33333333333333337, 0.33333333333333326, 0.33333333333333337, 0.33333333333333331, 0.33333333333333331, 0.33333333333333331, 0.33333333333333331, 0.33333333333333326, 0.33333333333333326, 0.33333333333333331, 0.33333333333333337, 0.33333333333333331, 0.33333333333333331, 0.33333333333333331, 0.33333333333333337, 0.33333333333333331, 0.33333333333333331, 0.33333333333333326, 0.33333333333333331, 0.33333333333333331, 0.25, 0.25, 0.25, 0.25, 0.25, 0.25, 0.25, 0.25, 0.25, 0.25, 0.25, 0.25, 0.25, 0.25, 0.25, 0.25, 0.25, 0.25000000000000006, 0.25, 0.25, 0.25, 0.25, 0.25, 0.25, 0.25, 0.25, 0.25, 0.25, 0.24999999999999994, 0.25, 0.25000000000000006, 0.25, 0.25, 0.25, 0.25, 0.25, 0.25]\n",
        "[ 0.06713999  0.10101742  0.2175083   0.61433428]"
       ]
      },
      {
       "output_type": "stream",
       "stream": "stdout",
       "text": [
        "\n",
        "[ 0.04732582  0.1311997   0.29373638  0.5277381 ]"
       ]
      },
      {
       "output_type": "stream",
       "stream": "stdout",
       "text": [
        "\n",
        "[ 0.04427244  0.13475528  0.30006522  0.52090706]"
       ]
      },
      {
       "output_type": "stream",
       "stream": "stdout",
       "text": [
        "\n",
        "[ 0.04997196  0.11649065  0.27826397  0.55527342]"
       ]
      },
      {
       "output_type": "stream",
       "stream": "stdout",
       "text": [
        "\n",
        "[ 0.05115123  0.09475994  0.27902858  0.57506024]"
       ]
      },
      {
       "output_type": "stream",
       "stream": "stdout",
       "text": [
        "\n",
        "[ 0.06199582  0.10322074  0.28309303  0.55169041]"
       ]
      },
      {
       "output_type": "stream",
       "stream": "stdout",
       "text": [
        "\n",
        "[ 0.04950544  0.12068734  0.22292891  0.60687831]"
       ]
      },
      {
       "output_type": "stream",
       "stream": "stdout",
       "text": [
        "\n",
        "[ 0.05313837  0.13564432  0.24966162  0.56155569]"
       ]
      },
      {
       "output_type": "stream",
       "stream": "stdout",
       "text": [
        "\n",
        "[ 0.04576014  0.14719062  0.32339249  0.48365675]"
       ]
      },
      {
       "output_type": "stream",
       "stream": "stdout",
       "text": [
        "\n",
        "[ 0.04459901  0.15896349  0.24700496  0.54943254]"
       ]
      },
      {
       "output_type": "stream",
       "stream": "stdout",
       "text": [
        "\n",
        "[0.5, 0.5, 0.5, 0.5, 0.5, 0.5, 0.5, 0.5, 0.5, 0.5, 0.5, 0.5, 0.5, 0.5, 0.5, 0.5, 0.5, 0.5, 0.5, 0.5, 0.5, 0.5, 0.5, 0.5, 0.5, 0.5, 0.5, 0.5, 0.5, 0.5, 0.5, 0.5, 0.5, 0.5, 0.5, 0.5, 0.5, 0.5, 0.5, 0.5, 0.5, 0.5, 0.5, 0.5, 0.5, 0.5, 0.5, 0.5, 0.5, 0.5, 0.5, 0.5, 0.5, 0.5, 0.5, 0.5, 0.5, 0.5, 0.5, 0.5, 0.5, 0.5, 0.5, 0.5, 0.5, 0.5, 0.5, 0.5, 0.5, 0.5, 0.5, 0.5, 0.5, 0.5, 0.5, 0.5, 0.5, 0.5, 0.5, 0.5, 0.5, 0.5, 0.5, 0.5, 0.5, 0.5, 0.5, 0.5, 0.5, 0.5, 0.5, 0.5, 0.5, 0.5, 0.5, 0.5, 0.5, 0.5, 0.5, 0.5, 0.5, 0.5, 0.5, 0.5, 0.5, 0.5, 0.5, 0.5, 0.5, 0.5, 0.5, 0.5, 0.5, 0.5, 0.5, 0.5, 0.5, 0.5, 0.5, 0.5, 0.5, 0.5, 0.5, 0.5, 0.5, 0.5, 0.5, 0.5, 0.5, 0.5]"
       ]
      },
      {
       "output_type": "stream",
       "stream": "stdout",
       "text": [
        "\n",
        "[0.035308450180920395, 0.015900278873051947, 0.027606640458033495, 0.020287811471444019, 0.028085748571213369, 0.035450017068918892, 0.0030537699131523133, 0.018801048240551517, 0.0010101978777581351, 0.00050936119312244637, 0.008238681424071536, 0.0036143352597136787, 0.005607800401233284, 0.0025444087200298623, 0.019754369486924619, 0.008088683576243998, 0.0, 0.0077047868625348317, 0.0065852856156395825, 0.0015393751346797165, 0.005668936813507235, 0.0010016733692713726, 0.0065990598011115165, 0.0050674066527983952, 0.0015393751346797165, 0.0066773510107629745, 0.0015127146704332129, 0.0010033534773107617, 0.0025444087200298623, 0.0015127146704332129, 0.020761540704040373, 0.0010385384500440277, 0.0061854044439900308, 0.0010385384500440277, 0.0076763527928345732, 0.0015393751346797165, 0.0025548226894230226, 0.0010101978777581351, 0.0015393751346797213, 0.0005008366846356888, 0.0015393751346797165, 0.0010101978777581351, 0.0010101978777581351, 0.0010300139415572653, 0.00050936119312244637, 0.0015393751346797165, 0.00050936119312244637, 0.0020220758635556592, 0.0010187223862448975, 0.0025444087200298623, 0.0015127146704332129, 0.0040563311891210398, 0.0010385384500440277, 0.0040760618683429806, 0.00050936119312244637, 0.0025366867336632723, 0.0015393751346797165, 0.0015308506261929541, 0.0050948696391650674, 0.0050810954536931333, 0.0010016733692713726, 0.0041208482133005854, 0.0, 0.0005008366846356888, 0.0015393751346797165, 0.00052917725692158137, 0.0035417203190134224, 0.0010583545138431627, 0.0036045572351535793, 0.0005008366846356888, 0.0046483453621827594, 0.0010300139415572701, 0.0010016733692713726, 0.0015308506261929541, 0.0015393751346797165, 0.0005008366846356888, 0.0060828542075416917, 0.0005008366846356888, 0.0056318827756944041, 0.0005008366846356888, 0.0040985495193418897, 0.0010300139415572701, 0.0020273255405408351, 0.0015393751346797165, 0.0015127146704332129, 0.0010385384500440277, 0.00050936119312245125, 0.0015393751346797165, 0.0, 0.0076763527928345732, 0.0010385384500440277, 0.0010385384500440277, 0.0005008366846356888, 0.0, 0.0005008366846356888, 0.0010101978777581351, 0.0005008366846356888, 0.0005008366846356888, 0.0005008366846356888, 0.0015393751346797165, 0.0005008366846356888, 0.0005008366846356888, 0.0015393751346797165, 0.0010033534773107617, 0.0015393751346797165, 0.0010101978777581351, 0.0015393751346797165, 0.0005008366846356888, 0.0010101978777581351, 0.0015393751346797165, 0.0005008366846356888, 0.0, 0.0010101978777581351, 0.00050936119312244637, 0.0015393751346797165, 0.00050936119312244637, 0.0015393751346797165, 0.0, 0.0015393751346797165, 0.0020220758635556592, 0.0010385384500440277, 0.0015127146704332079, 0.0015393751346797165, 0.00050936119312244637, 0.0030392035263383452, 0.0010101978777581351, 0.00050936119312244637, 0.0015308506261929541, 0.0015308506261929541, 0.0010101978777581351]\n",
        "[1.0, 1.0, 1.0, 1.0, 1.0, 1.0, 1.0, 1.0, 0.5, 0.5, 0.5, 0.5, 0.5, 0.5, 0.5, 0.5, 0.5, 0.5, 0.50000000000000011, 0.49999999999999989, 0.50000000000000011, 0.5, 0.5, 0.5, 0.5, 0.49999999999999989, 0.5, 0.49999999999999989, 0.5, 0.50000000000000022, 0.5, 0.5, 0.5, 0.5, 0.5, 0.5, 0.33333333333333331, 0.33333333333333331, 0.33333333333333331, 0.33333333333333326, 0.33333333333333337, 0.33333333333333326, 0.33333333333333331, 0.33333333333333331, 0.33333333333333331, 0.33333333333333331, 0.33333333333333331, 0.33333333333333331, 0.33333333333333331, 0.33333333333333331, 0.33333333333333331, 0.33333333333333331, 0.33333333333333337, 0.33333333333333331, 0.33333333333333337, 0.33333333333333331, 0.33333333333333337, 0.33333333333333337, 0.33333333333333331, 0.33333333333333331, 0.33333333333333331, 0.33333333333333331, 0.33333333333333331, 0.33333333333333331, 0.33333333333333331, 0.33333333333333331, 0.33333333333333343, 0.33333333333333331, 0.33333333333333331, 0.33333333333333331, 0.33333333333333331, 0.33333333333333331, 0.33333333333333337, 0.33333333333333326, 0.33333333333333337, 0.33333333333333331, 0.33333333333333331, 0.33333333333333331, 0.33333333333333331, 0.33333333333333326, 0.33333333333333326, 0.33333333333333331, 0.33333333333333337, 0.33333333333333331, 0.33333333333333331, 0.33333333333333331, 0.33333333333333337, 0.33333333333333331, 0.33333333333333331, 0.33333333333333326, 0.33333333333333331, 0.33333333333333331, 0.25, 0.25, 0.25, 0.25, 0.25, 0.25, 0.25, 0.25, 0.25, 0.25, 0.25, 0.25, 0.25, 0.25, 0.25, 0.25, 0.25, 0.25000000000000006, 0.25, 0.25, 0.25, 0.25, 0.25, 0.25, 0.25, 0.25, 0.25, 0.25, 0.24999999999999994, 0.25, 0.25000000000000006, 0.25, 0.25, 0.25, 0.25, 0.25, 0.25, 0.25]\n",
        "[ 0.18246127  0.21890799  0.51965373  0.078977  ]"
       ]
      },
      {
       "output_type": "stream",
       "stream": "stdout",
       "text": [
        "\n",
        "[ 0.15657941  0.21390667  0.54901961  0.08049431]"
       ]
      },
      {
       "output_type": "stream",
       "stream": "stdout",
       "text": [
        "\n",
        "[ 0.12338461  0.22503909  0.56197376  0.08960254]"
       ]
      },
      {
       "output_type": "stream",
       "stream": "stdout",
       "text": [
        "\n",
        "[ 0.16107272  0.21174567  0.53397683  0.09320479]"
       ]
      },
      {
       "output_type": "stream",
       "stream": "stdout",
       "text": [
        "\n",
        "[ 0.13649642  0.20907398  0.57949577  0.07493382]"
       ]
      },
      {
       "output_type": "stream",
       "stream": "stdout",
       "text": [
        "\n",
        "[ 0.13144311  0.22998641  0.53477652  0.10379396]"
       ]
      },
      {
       "output_type": "stream",
       "stream": "stdout",
       "text": [
        "\n",
        "[ 0.1414806   0.20115871  0.58010262  0.07725808]"
       ]
      },
      {
       "output_type": "stream",
       "stream": "stdout",
       "text": [
        "\n",
        "[ 0.15875048  0.21946651  0.54885493  0.07292807]"
       ]
      },
      {
       "output_type": "stream",
       "stream": "stdout",
       "text": [
        "\n",
        "[ 0.15440169  0.21972261  0.53207553  0.09380017]"
       ]
      },
      {
       "output_type": "stream",
       "stream": "stdout",
       "text": [
        "\n",
        "[ 0.15124523  0.23165391  0.54176411  0.07533674]"
       ]
      },
      {
       "output_type": "stream",
       "stream": "stdout",
       "text": [
        "\n",
        "[0.5, 0.5, 0.5, 0.5, 0.5, 0.5, 0.5, 0.5, 0.5, 0.5, 0.5, 0.5, 0.5, 0.5, 0.5, 0.5, 0.5, 0.5, 0.5, 0.5, 0.5, 0.5, 0.5, 0.5, 0.5, 0.5, 0.5, 0.5, 0.5, 0.5, 0.5, 0.5, 0.5, 0.5, 0.5, 0.5, 0.5, 0.5, 0.5, 0.5, 0.5, 0.5, 0.5, 0.5, 0.5, 0.5, 0.5, 0.5, 0.5, 0.5, 0.5, 0.5, 0.5, 0.5, 0.5, 0.5, 0.5, 0.5, 0.5, 0.5, 0.5, 0.5, 0.5, 0.5, 0.5, 0.5, 0.5, 0.5, 0.5, 0.5, 0.5, 0.5, 0.5, 0.5, 0.5, 0.5, 0.5, 0.5, 0.5, 0.5, 0.5, 0.5, 0.5, 0.5, 0.5, 0.5, 0.5, 0.5, 0.5, 0.5, 0.5, 0.5, 0.5, 0.5, 0.5, 0.5, 0.5, 0.5, 0.5, 0.5, 0.5, 0.5, 0.5, 0.5, 0.5, 0.5, 0.5, 0.5, 0.5, 0.5, 0.5, 0.5, 0.5, 0.5, 0.5, 0.5, 0.5, 0.5, 0.5, 0.5, 0.5, 0.5, 0.5, 0.5, 0.5, 0.5, 0.5, 0.5, 0.5, 0.5, 0.5]"
       ]
      },
      {
       "output_type": "stream",
       "stream": "stdout",
       "text": [
        "\n",
        "[0.035308450180920395, 0.015900278873051947, 0.027606640458033495, 0.020287811471444019, 0.028085748571213369, 0.035450017068918892, 0.0030537699131523133, 0.018801048240551517, 0.0010101978777581351, 0.00050936119312244637, 0.008238681424071536, 0.0036143352597136787, 0.005607800401233284, 0.0025444087200298623, 0.019754369486924619, 0.008088683576243998, 0.0, 0.0077047868625348317, 0.0065852856156395825, 0.0015393751346797165, 0.005668936813507235, 0.0010016733692713726, 0.0065990598011115165, 0.0050674066527983952, 0.0015393751346797165, 0.0066773510107629745, 0.0015127146704332129, 0.0010033534773107617, 0.0025444087200298623, 0.0015127146704332129, 0.020761540704040373, 0.0010385384500440277, 0.0061854044439900308, 0.0010385384500440277, 0.0076763527928345732, 0.0015393751346797165, 0.0025548226894230226, 0.0010101978777581351, 0.0015393751346797213, 0.0005008366846356888, 0.0015393751346797165, 0.0010101978777581351, 0.0010101978777581351, 0.0010300139415572653, 0.00050936119312244637, 0.0015393751346797165, 0.00050936119312244637, 0.0020220758635556592, 0.0010187223862448975, 0.0025444087200298623, 0.0015127146704332129, 0.0040563311891210398, 0.0010385384500440277, 0.0040760618683429806, 0.00050936119312244637, 0.0025366867336632723, 0.0015393751346797165, 0.0015308506261929541, 0.0050948696391650674, 0.0050810954536931333, 0.0010016733692713726, 0.0041208482133005854, 0.0, 0.0005008366846356888, 0.0015393751346797165, 0.00052917725692158137, 0.0035417203190134224, 0.0010583545138431627, 0.0036045572351535793, 0.0005008366846356888, 0.0046483453621827594, 0.0010300139415572701, 0.0010016733692713726, 0.0015308506261929541, 0.0015393751346797165, 0.0005008366846356888, 0.0060828542075416917, 0.0005008366846356888, 0.0056318827756944041, 0.0005008366846356888, 0.0040985495193418897, 0.0010300139415572701, 0.0020273255405408351, 0.0015393751346797165, 0.0015127146704332129, 0.0010385384500440277, 0.00050936119312245125, 0.0015393751346797165, 0.0, 0.0076763527928345732, 0.0010385384500440277, 0.0010385384500440277, 0.0005008366846356888, 0.0, 0.0005008366846356888, 0.0010101978777581351, 0.0005008366846356888, 0.0005008366846356888, 0.0005008366846356888, 0.0015393751346797165, 0.0005008366846356888, 0.0005008366846356888, 0.0015393751346797165, 0.0010033534773107617, 0.0015393751346797165, 0.0010101978777581351, 0.0015393751346797165, 0.0005008366846356888, 0.0010101978777581351, 0.0015393751346797165, 0.0005008366846356888, 0.0, 0.0010101978777581351, 0.00050936119312244637, 0.0015393751346797165, 0.00050936119312244637, 0.0015393751346797165, 0.0, 0.0015393751346797165, 0.0020220758635556592, 0.0010385384500440277, 0.0015127146704332079, 0.0015393751346797165, 0.00050936119312244637, 0.0030392035263383452, 0.0010101978777581351, 0.00050936119312244637, 0.0015308506261929541, 0.0015308506261929541, 0.0010101978777581351, 0.0010300139415572701]\n",
        "[1.0, 1.0, 1.0, 1.0, 1.0, 1.0, 1.0, 1.0, 0.5, 0.5, 0.5, 0.5, 0.5, 0.5, 0.5, 0.5, 0.5, 0.5, 0.50000000000000011, 0.49999999999999989, 0.50000000000000011, 0.5, 0.5, 0.5, 0.5, 0.49999999999999989, 0.5, 0.49999999999999989, 0.5, 0.50000000000000022, 0.5, 0.5, 0.5, 0.5, 0.5, 0.5, 0.33333333333333331, 0.33333333333333331, 0.33333333333333331, 0.33333333333333326, 0.33333333333333337, 0.33333333333333326, 0.33333333333333331, 0.33333333333333331, 0.33333333333333331, 0.33333333333333331, 0.33333333333333331, 0.33333333333333331, 0.33333333333333331, 0.33333333333333331, 0.33333333333333331, 0.33333333333333331, 0.33333333333333337, 0.33333333333333331, 0.33333333333333337, 0.33333333333333331, 0.33333333333333337, 0.33333333333333337, 0.33333333333333331, 0.33333333333333331, 0.33333333333333331, 0.33333333333333331, 0.33333333333333331, 0.33333333333333331, 0.33333333333333331, 0.33333333333333331, 0.33333333333333343, 0.33333333333333331, 0.33333333333333331, 0.33333333333333331, 0.33333333333333331, 0.33333333333333331, 0.33333333333333337, 0.33333333333333326, 0.33333333333333337, 0.33333333333333331, 0.33333333333333331, 0.33333333333333331, 0.33333333333333331, 0.33333333333333326, 0.33333333333333326, 0.33333333333333331, 0.33333333333333337, 0.33333333333333331, 0.33333333333333331, 0.33333333333333331, 0.33333333333333337, 0.33333333333333331, 0.33333333333333331, 0.33333333333333326, 0.33333333333333331, 0.33333333333333331, 0.25, 0.25, 0.25, 0.25, 0.25, 0.25, 0.25, 0.25, 0.25, 0.25, 0.25, 0.25, 0.25, 0.25, 0.25, 0.25, 0.25, 0.25000000000000006, 0.25, 0.25, 0.25, 0.25, 0.25, 0.25, 0.25, 0.25, 0.25, 0.25, 0.24999999999999994, 0.25, 0.25000000000000006, 0.25, 0.25, 0.25, 0.25, 0.25, 0.25, 0.25, 0.25]\n",
        "[ 0.30216432  0.33021529  0.20482664  0.16279375]"
       ]
      },
      {
       "output_type": "stream",
       "stream": "stdout",
       "text": [
        "\n",
        "[ 0.24967212  0.33181103  0.21350576  0.20501108]"
       ]
      },
      {
       "output_type": "stream",
       "stream": "stdout",
       "text": [
        "\n",
        "[ 0.25280277  0.34180809  0.19383556  0.21155357]"
       ]
      },
      {
       "output_type": "stream",
       "stream": "stdout",
       "text": [
        "\n",
        "[ 0.28853965  0.32160375  0.19749703  0.19235957]"
       ]
      },
      {
       "output_type": "stream",
       "stream": "stdout",
       "text": [
        "\n",
        "[ 0.26372267  0.34000276  0.21566917  0.1806054 ]"
       ]
      },
      {
       "output_type": "stream",
       "stream": "stdout",
       "text": [
        "\n",
        "[ 0.25544709  0.31703988  0.21475285  0.21276018]"
       ]
      },
      {
       "output_type": "stream",
       "stream": "stdout",
       "text": [
        "\n",
        "[ 0.25481288  0.33946155  0.20415863  0.20156695]"
       ]
      },
      {
       "output_type": "stream",
       "stream": "stdout",
       "text": [
        "\n",
        "[ 0.25044533  0.33798334  0.21899354  0.19257779]"
       ]
      },
      {
       "output_type": "stream",
       "stream": "stdout",
       "text": [
        "\n",
        "[ 0.27692677  0.31692628  0.19737948  0.20876747]"
       ]
      },
      {
       "output_type": "stream",
       "stream": "stdout",
       "text": [
        "\n",
        "[ 0.32437085  0.28640605  0.19110138  0.19812172]"
       ]
      },
      {
       "output_type": "stream",
       "stream": "stdout",
       "text": [
        "\n",
        "[0.5, 0.5, 0.5, 0.5, 0.5, 0.5, 0.5, 0.5, 0.5, 0.5, 0.5, 0.5, 0.5, 0.5, 0.5, 0.5, 0.5, 0.5, 0.5, 0.5, 0.5, 0.5, 0.5, 0.5, 0.5, 0.5, 0.5, 0.5, 0.5, 0.5, 0.5, 0.5, 0.5, 0.5, 0.5, 0.5, 0.5, 0.5, 0.5, 0.5, 0.5, 0.5, 0.5, 0.5, 0.5, 0.5, 0.5, 0.5, 0.5, 0.5, 0.5, 0.5, 0.5, 0.5, 0.5, 0.5, 0.5, 0.5, 0.5, 0.5, 0.5, 0.5, 0.5, 0.5, 0.5, 0.5, 0.5, 0.5, 0.5, 0.5, 0.5, 0.5, 0.5, 0.5, 0.5, 0.5, 0.5, 0.5, 0.5, 0.5, 0.5, 0.5, 0.5, 0.5, 0.5, 0.5, 0.5, 0.5, 0.5, 0.5, 0.5, 0.5, 0.5, 0.5, 0.5, 0.5, 0.5, 0.5, 0.5, 0.5, 0.5, 0.5, 0.5, 0.5, 0.5, 0.5, 0.5, 0.5, 0.5, 0.5, 0.5, 0.5, 0.5, 0.5, 0.5, 0.5, 0.5, 0.5, 0.5, 0.5, 0.5, 0.5, 0.5, 0.5, 0.5, 0.5, 0.5, 0.5, 0.5, 0.5, 0.5, 0.5]"
       ]
      },
      {
       "output_type": "stream",
       "stream": "stdout",
       "text": [
        "\n",
        "[0.035308450180920395, 0.015900278873051947, 0.027606640458033495, 0.020287811471444019, 0.028085748571213369, 0.035450017068918892, 0.0030537699131523133, 0.018801048240551517, 0.0010101978777581351, 0.00050936119312244637, 0.008238681424071536, 0.0036143352597136787, 0.005607800401233284, 0.0025444087200298623, 0.019754369486924619, 0.008088683576243998, 0.0, 0.0077047868625348317, 0.0065852856156395825, 0.0015393751346797165, 0.005668936813507235, 0.0010016733692713726, 0.0065990598011115165, 0.0050674066527983952, 0.0015393751346797165, 0.0066773510107629745, 0.0015127146704332129, 0.0010033534773107617, 0.0025444087200298623, 0.0015127146704332129, 0.020761540704040373, 0.0010385384500440277, 0.0061854044439900308, 0.0010385384500440277, 0.0076763527928345732, 0.0015393751346797165, 0.0025548226894230226, 0.0010101978777581351, 0.0015393751346797213, 0.0005008366846356888, 0.0015393751346797165, 0.0010101978777581351, 0.0010101978777581351, 0.0010300139415572653, 0.00050936119312244637, 0.0015393751346797165, 0.00050936119312244637, 0.0020220758635556592, 0.0010187223862448975, 0.0025444087200298623, 0.0015127146704332129, 0.0040563311891210398, 0.0010385384500440277, 0.0040760618683429806, 0.00050936119312244637, 0.0025366867336632723, 0.0015393751346797165, 0.0015308506261929541, 0.0050948696391650674, 0.0050810954536931333, 0.0010016733692713726, 0.0041208482133005854, 0.0, 0.0005008366846356888, 0.0015393751346797165, 0.00052917725692158137, 0.0035417203190134224, 0.0010583545138431627, 0.0036045572351535793, 0.0005008366846356888, 0.0046483453621827594, 0.0010300139415572701, 0.0010016733692713726, 0.0015308506261929541, 0.0015393751346797165, 0.0005008366846356888, 0.0060828542075416917, 0.0005008366846356888, 0.0056318827756944041, 0.0005008366846356888, 0.0040985495193418897, 0.0010300139415572701, 0.0020273255405408351, 0.0015393751346797165, 0.0015127146704332129, 0.0010385384500440277, 0.00050936119312245125, 0.0015393751346797165, 0.0, 0.0076763527928345732, 0.0010385384500440277, 0.0010385384500440277, 0.0005008366846356888, 0.0, 0.0005008366846356888, 0.0010101978777581351, 0.0005008366846356888, 0.0005008366846356888, 0.0005008366846356888, 0.0015393751346797165, 0.0005008366846356888, 0.0005008366846356888, 0.0015393751346797165, 0.0010033534773107617, 0.0015393751346797165, 0.0010101978777581351, 0.0015393751346797165, 0.0005008366846356888, 0.0010101978777581351, 0.0015393751346797165, 0.0005008366846356888, 0.0, 0.0010101978777581351, 0.00050936119312244637, 0.0015393751346797165, 0.00050936119312244637, 0.0015393751346797165, 0.0, 0.0015393751346797165, 0.0020220758635556592, 0.0010385384500440277, 0.0015127146704332079, 0.0015393751346797165, 0.00050936119312244637, 0.0030392035263383452, 0.0010101978777581351, 0.00050936119312244637, 0.0015308506261929541, 0.0015308506261929541, 0.0010101978777581351, 0.0010300139415572701, 0.0041070740278286565]\n",
        "[1.0, 1.0, 1.0, 1.0, 1.0, 1.0, 1.0, 1.0, 0.5, 0.5, 0.5, 0.5, 0.5, 0.5, 0.5, 0.5, 0.5, 0.5, 0.50000000000000011, 0.49999999999999989, 0.50000000000000011, 0.5, 0.5, 0.5, 0.5, 0.49999999999999989, 0.5, 0.49999999999999989, 0.5, 0.50000000000000022, 0.5, 0.5, 0.5, 0.5, 0.5, 0.5, 0.33333333333333331, 0.33333333333333331, 0.33333333333333331, 0.33333333333333326, 0.33333333333333337, 0.33333333333333326, 0.33333333333333331, 0.33333333333333331, 0.33333333333333331, 0.33333333333333331, 0.33333333333333331, 0.33333333333333331, 0.33333333333333331, 0.33333333333333331, 0.33333333333333331, 0.33333333333333331, 0.33333333333333337, 0.33333333333333331, 0.33333333333333337, 0.33333333333333331, 0.33333333333333337, 0.33333333333333337, 0.33333333333333331, 0.33333333333333331, 0.33333333333333331, 0.33333333333333331, 0.33333333333333331, 0.33333333333333331, 0.33333333333333331, 0.33333333333333331, 0.33333333333333343, 0.33333333333333331, 0.33333333333333331, 0.33333333333333331, 0.33333333333333331, 0.33333333333333331, 0.33333333333333337, 0.33333333333333326, 0.33333333333333337, 0.33333333333333331, 0.33333333333333331, 0.33333333333333331, 0.33333333333333331, 0.33333333333333326, 0.33333333333333326, 0.33333333333333331, 0.33333333333333337, 0.33333333333333331, 0.33333333333333331, 0.33333333333333331, 0.33333333333333337, 0.33333333333333331, 0.33333333333333331, 0.33333333333333326, 0.33333333333333331, 0.33333333333333331, 0.25, 0.25, 0.25, 0.25, 0.25, 0.25, 0.25, 0.25, 0.25, 0.25, 0.25, 0.25, 0.25, 0.25, 0.25, 0.25, 0.25, 0.25000000000000006, 0.25, 0.25, 0.25, 0.25, 0.25, 0.25, 0.25, 0.25, 0.25, 0.25, 0.24999999999999994, 0.25, 0.25000000000000006, 0.25, 0.25, 0.25, 0.25, 0.25, 0.25, 0.25, 0.25, 0.25]\n",
        "[ 0.07273157  0.17800046  0.03935148  0.7099165 ]"
       ]
      },
      {
       "output_type": "stream",
       "stream": "stdout",
       "text": [
        "\n",
        "[ 0.09293639  0.21287696  0.06900202  0.62518463]"
       ]
      },
      {
       "output_type": "stream",
       "stream": "stdout",
       "text": [
        "\n",
        "[ 0.08007479  0.1444029   0.05758588  0.71793643]"
       ]
      },
      {
       "output_type": "stream",
       "stream": "stdout",
       "text": [
        "\n",
        "[ 0.08304104  0.15919708  0.0397615   0.71800038]"
       ]
      },
      {
       "output_type": "stream",
       "stream": "stdout",
       "text": [
        "\n",
        "[ 0.07275699  0.16336665  0.06356673  0.70030962]"
       ]
      },
      {
       "output_type": "stream",
       "stream": "stdout",
       "text": [
        "\n",
        "[ 0.09774517  0.12045092  0.05010202  0.73170189]"
       ]
      },
      {
       "output_type": "stream",
       "stream": "stdout",
       "text": [
        "\n",
        "[ 0.08209836  0.16306752  0.06163729  0.69319683]"
       ]
      },
      {
       "output_type": "stream",
       "stream": "stdout",
       "text": [
        "\n",
        "[ 0.09193509  0.15766668  0.05825079  0.69214744]"
       ]
      },
      {
       "output_type": "stream",
       "stream": "stdout",
       "text": [
        "\n",
        "[ 0.10101239  0.15259668  0.09317914  0.65321179]"
       ]
      },
      {
       "output_type": "stream",
       "stream": "stdout",
       "text": [
        "\n",
        "[ 0.12003353  0.14323877  0.0708056   0.66592211]"
       ]
      },
      {
       "output_type": "stream",
       "stream": "stdout",
       "text": [
        "\n",
        "[0.5, 0.5, 0.5, 0.5, 0.5, 0.5, 0.5, 0.5, 0.5, 0.5, 0.5, 0.5, 0.5, 0.5, 0.5, 0.5, 0.5, 0.5, 0.5, 0.5, 0.5, 0.5, 0.5, 0.5, 0.5, 0.5, 0.5, 0.5, 0.5, 0.5, 0.5, 0.5, 0.5, 0.5, 0.5, 0.5, 0.5, 0.5, 0.5, 0.5, 0.5, 0.5, 0.5, 0.5, 0.5, 0.5, 0.5, 0.5, 0.5, 0.5, 0.5, 0.5, 0.5, 0.5, 0.5, 0.5, 0.5, 0.5, 0.5, 0.5, 0.5, 0.5, 0.5, 0.5, 0.5, 0.5, 0.5, 0.5, 0.5, 0.5, 0.5, 0.5, 0.5, 0.5, 0.5, 0.5, 0.5, 0.5, 0.5, 0.5, 0.5, 0.5, 0.5, 0.5, 0.5, 0.5, 0.5, 0.5, 0.5, 0.5, 0.5, 0.5, 0.5, 0.5, 0.5, 0.5, 0.5, 0.5, 0.5, 0.5, 0.5, 0.5, 0.5, 0.5, 0.5, 0.5, 0.5, 0.5, 0.5, 0.5, 0.5, 0.5, 0.5, 0.5, 0.5, 0.5, 0.5, 0.5, 0.5, 0.5, 0.5, 0.5, 0.5, 0.5, 0.5, 0.5, 0.5, 0.5, 0.5, 0.5, 0.5, 0.5, 0.5]"
       ]
      },
      {
       "output_type": "stream",
       "stream": "stdout",
       "text": [
        "\n",
        "[0.035308450180920395, 0.015900278873051947, 0.027606640458033495, 0.020287811471444019, 0.028085748571213369, 0.035450017068918892, 0.0030537699131523133, 0.018801048240551517, 0.0010101978777581351, 0.00050936119312244637, 0.008238681424071536, 0.0036143352597136787, 0.005607800401233284, 0.0025444087200298623, 0.019754369486924619, 0.008088683576243998, 0.0, 0.0077047868625348317, 0.0065852856156395825, 0.0015393751346797165, 0.005668936813507235, 0.0010016733692713726, 0.0065990598011115165, 0.0050674066527983952, 0.0015393751346797165, 0.0066773510107629745, 0.0015127146704332129, 0.0010033534773107617, 0.0025444087200298623, 0.0015127146704332129, 0.020761540704040373, 0.0010385384500440277, 0.0061854044439900308, 0.0010385384500440277, 0.0076763527928345732, 0.0015393751346797165, 0.0025548226894230226, 0.0010101978777581351, 0.0015393751346797213, 0.0005008366846356888, 0.0015393751346797165, 0.0010101978777581351, 0.0010101978777581351, 0.0010300139415572653, 0.00050936119312244637, 0.0015393751346797165, 0.00050936119312244637, 0.0020220758635556592, 0.0010187223862448975, 0.0025444087200298623, 0.0015127146704332129, 0.0040563311891210398, 0.0010385384500440277, 0.0040760618683429806, 0.00050936119312244637, 0.0025366867336632723, 0.0015393751346797165, 0.0015308506261929541, 0.0050948696391650674, 0.0050810954536931333, 0.0010016733692713726, 0.0041208482133005854, 0.0, 0.0005008366846356888, 0.0015393751346797165, 0.00052917725692158137, 0.0035417203190134224, 0.0010583545138431627, 0.0036045572351535793, 0.0005008366846356888, 0.0046483453621827594, 0.0010300139415572701, 0.0010016733692713726, 0.0015308506261929541, 0.0015393751346797165, 0.0005008366846356888, 0.0060828542075416917, 0.0005008366846356888, 0.0056318827756944041, 0.0005008366846356888, 0.0040985495193418897, 0.0010300139415572701, 0.0020273255405408351, 0.0015393751346797165, 0.0015127146704332129, 0.0010385384500440277, 0.00050936119312245125, 0.0015393751346797165, 0.0, 0.0076763527928345732, 0.0010385384500440277, 0.0010385384500440277, 0.0005008366846356888, 0.0, 0.0005008366846356888, 0.0010101978777581351, 0.0005008366846356888, 0.0005008366846356888, 0.0005008366846356888, 0.0015393751346797165, 0.0005008366846356888, 0.0005008366846356888, 0.0015393751346797165, 0.0010033534773107617, 0.0015393751346797165, 0.0010101978777581351, 0.0015393751346797165, 0.0005008366846356888, 0.0010101978777581351, 0.0015393751346797165, 0.0005008366846356888, 0.0, 0.0010101978777581351, 0.00050936119312244637, 0.0015393751346797165, 0.00050936119312244637, 0.0015393751346797165, 0.0, 0.0015393751346797165, 0.0020220758635556592, 0.0010385384500440277, 0.0015127146704332079, 0.0015393751346797165, 0.00050936119312244637, 0.0030392035263383452, 0.0010101978777581351, 0.00050936119312244637, 0.0015308506261929541, 0.0015308506261929541, 0.0010101978777581351, 0.0010300139415572701, 0.0041070740278286565, 0.0015393751346797165]\n",
        "[1.0, 1.0, 1.0, 1.0, 1.0, 1.0, 1.0, 1.0, 0.5, 0.5, 0.5, 0.5, 0.5, 0.5, 0.5, 0.5, 0.5, 0.5, 0.50000000000000011, 0.49999999999999989, 0.50000000000000011, 0.5, 0.5, 0.5, 0.5, 0.49999999999999989, 0.5, 0.49999999999999989, 0.5, 0.50000000000000022, 0.5, 0.5, 0.5, 0.5, 0.5, 0.5, 0.33333333333333331, 0.33333333333333331, 0.33333333333333331, 0.33333333333333326, 0.33333333333333337, 0.33333333333333326, 0.33333333333333331, 0.33333333333333331, 0.33333333333333331, 0.33333333333333331, 0.33333333333333331, 0.33333333333333331, 0.33333333333333331, 0.33333333333333331, 0.33333333333333331, 0.33333333333333331, 0.33333333333333337, 0.33333333333333331, 0.33333333333333337, 0.33333333333333331, 0.33333333333333337, 0.33333333333333337, 0.33333333333333331, 0.33333333333333331, 0.33333333333333331, 0.33333333333333331, 0.33333333333333331, 0.33333333333333331, 0.33333333333333331, 0.33333333333333331, 0.33333333333333343, 0.33333333333333331, 0.33333333333333331, 0.33333333333333331, 0.33333333333333331, 0.33333333333333331, 0.33333333333333337, 0.33333333333333326, 0.33333333333333337, 0.33333333333333331, 0.33333333333333331, 0.33333333333333331, 0.33333333333333331, 0.33333333333333326, 0.33333333333333326, 0.33333333333333331, 0.33333333333333337, 0.33333333333333331, 0.33333333333333331, 0.33333333333333331, 0.33333333333333337, 0.33333333333333331, 0.33333333333333331, 0.33333333333333326, 0.33333333333333331, 0.33333333333333331, 0.25, 0.25, 0.25, 0.25, 0.25, 0.25, 0.25, 0.25, 0.25, 0.25, 0.25, 0.25, 0.25, 0.25, 0.25, 0.25, 0.25, 0.25000000000000006, 0.25, 0.25, 0.25, 0.25, 0.25, 0.25, 0.25, 0.25, 0.25, 0.25, 0.24999999999999994, 0.25, 0.25000000000000006, 0.25, 0.25, 0.25, 0.25, 0.25, 0.25, 0.25, 0.25, 0.25, 0.25]\n",
        "[ 0.2335268   0.30423056  0.20507965  0.25716299]"
       ]
      },
      {
       "output_type": "stream",
       "stream": "stdout",
       "text": [
        "\n",
        "[ 0.19437571  0.32719353  0.19693436  0.2814964 ]"
       ]
      },
      {
       "output_type": "stream",
       "stream": "stdout",
       "text": [
        "\n",
        "[ 0.19642724  0.33095085  0.18503557  0.28758634]"
       ]
      },
      {
       "output_type": "stream",
       "stream": "stdout",
       "text": [
        "\n",
        "[ 0.21348202  0.35387653  0.17214982  0.26049163]"
       ]
      },
      {
       "output_type": "stream",
       "stream": "stdout",
       "text": [
        "\n",
        "[ 0.25466423  0.30684882  0.20475891  0.23372805]"
       ]
      },
      {
       "output_type": "stream",
       "stream": "stdout",
       "text": [
        "\n",
        "[ 0.2325823   0.28779689  0.21032007  0.26930074]"
       ]
      },
      {
       "output_type": "stream",
       "stream": "stdout",
       "text": [
        "\n",
        "[ 0.21024902  0.35363655  0.17996736  0.25614707]"
       ]
      },
      {
       "output_type": "stream",
       "stream": "stdout",
       "text": [
        "\n",
        "[ 0.22136495  0.32748509  0.17685066  0.2742993 ]"
       ]
      },
      {
       "output_type": "stream",
       "stream": "stdout",
       "text": [
        "\n",
        "[ 0.2151757   0.31446787  0.20722111  0.26313532]"
       ]
      },
      {
       "output_type": "stream",
       "stream": "stdout",
       "text": [
        "\n",
        "[ 0.27728877  0.30391713  0.16930804  0.24948606]"
       ]
      },
      {
       "output_type": "stream",
       "stream": "stdout",
       "text": [
        "\n",
        "[0.5, 0.5, 0.5, 0.5, 0.5, 0.5, 0.5, 0.5, 0.5, 0.5, 0.5, 0.5, 0.5, 0.5, 0.5, 0.5, 0.5, 0.5, 0.5, 0.5, 0.5, 0.5, 0.5, 0.5, 0.5, 0.5, 0.5, 0.5, 0.5, 0.5, 0.5, 0.5, 0.5, 0.5, 0.5, 0.5, 0.5, 0.5, 0.5, 0.5, 0.5, 0.5, 0.5, 0.5, 0.5, 0.5, 0.5, 0.5, 0.5, 0.5, 0.5, 0.5, 0.5, 0.5, 0.5, 0.5, 0.5, 0.5, 0.5, 0.5, 0.5, 0.5, 0.5, 0.5, 0.5, 0.5, 0.5, 0.5, 0.5, 0.5, 0.5, 0.5, 0.5, 0.5, 0.5, 0.5, 0.5, 0.5, 0.5, 0.5, 0.5, 0.5, 0.5, 0.5, 0.5, 0.5, 0.5, 0.5, 0.5, 0.5, 0.5, 0.5, 0.5, 0.5, 0.5, 0.5, 0.5, 0.5, 0.5, 0.5, 0.5, 0.5, 0.5, 0.5, 0.5, 0.5, 0.5, 0.5, 0.5, 0.5, 0.5, 0.5, 0.5, 0.5, 0.5, 0.5, 0.5, 0.5, 0.5, 0.5, 0.5, 0.5, 0.5, 0.5, 0.5, 0.5, 0.5, 0.5, 0.5, 0.5, 0.5, 0.5, 0.5, 0.5]"
       ]
      },
      {
       "output_type": "stream",
       "stream": "stdout",
       "text": [
        "\n",
        "[0.035308450180920395, 0.015900278873051947, 0.027606640458033495, 0.020287811471444019, 0.028085748571213369, 0.035450017068918892, 0.0030537699131523133, 0.018801048240551517, 0.0010101978777581351, 0.00050936119312244637, 0.008238681424071536, 0.0036143352597136787, 0.005607800401233284, 0.0025444087200298623, 0.019754369486924619, 0.008088683576243998, 0.0, 0.0077047868625348317, 0.0065852856156395825, 0.0015393751346797165, 0.005668936813507235, 0.0010016733692713726, 0.0065990598011115165, 0.0050674066527983952, 0.0015393751346797165, 0.0066773510107629745, 0.0015127146704332129, 0.0010033534773107617, 0.0025444087200298623, 0.0015127146704332129, 0.020761540704040373, 0.0010385384500440277, 0.0061854044439900308, 0.0010385384500440277, 0.0076763527928345732, 0.0015393751346797165, 0.0025548226894230226, 0.0010101978777581351, 0.0015393751346797213, 0.0005008366846356888, 0.0015393751346797165, 0.0010101978777581351, 0.0010101978777581351, 0.0010300139415572653, 0.00050936119312244637, 0.0015393751346797165, 0.00050936119312244637, 0.0020220758635556592, 0.0010187223862448975, 0.0025444087200298623, 0.0015127146704332129, 0.0040563311891210398, 0.0010385384500440277, 0.0040760618683429806, 0.00050936119312244637, 0.0025366867336632723, 0.0015393751346797165, 0.0015308506261929541, 0.0050948696391650674, 0.0050810954536931333, 0.0010016733692713726, 0.0041208482133005854, 0.0, 0.0005008366846356888, 0.0015393751346797165, 0.00052917725692158137, 0.0035417203190134224, 0.0010583545138431627, 0.0036045572351535793, 0.0005008366846356888, 0.0046483453621827594, 0.0010300139415572701, 0.0010016733692713726, 0.0015308506261929541, 0.0015393751346797165, 0.0005008366846356888, 0.0060828542075416917, 0.0005008366846356888, 0.0056318827756944041, 0.0005008366846356888, 0.0040985495193418897, 0.0010300139415572701, 0.0020273255405408351, 0.0015393751346797165, 0.0015127146704332129, 0.0010385384500440277, 0.00050936119312245125, 0.0015393751346797165, 0.0, 0.0076763527928345732, 0.0010385384500440277, 0.0010385384500440277, 0.0005008366846356888, 0.0, 0.0005008366846356888, 0.0010101978777581351, 0.0005008366846356888, 0.0005008366846356888, 0.0005008366846356888, 0.0015393751346797165, 0.0005008366846356888, 0.0005008366846356888, 0.0015393751346797165, 0.0010033534773107617, 0.0015393751346797165, 0.0010101978777581351, 0.0015393751346797165, 0.0005008366846356888, 0.0010101978777581351, 0.0015393751346797165, 0.0005008366846356888, 0.0, 0.0010101978777581351, 0.00050936119312244637, 0.0015393751346797165, 0.00050936119312244637, 0.0015393751346797165, 0.0, 0.0015393751346797165, 0.0020220758635556592, 0.0010385384500440277, 0.0015127146704332079, 0.0015393751346797165, 0.00050936119312244637, 0.0030392035263383452, 0.0010101978777581351, 0.00050936119312244637, 0.0015308506261929541, 0.0015308506261929541, 0.0010101978777581351, 0.0010300139415572701, 0.0041070740278286565, 0.0015393751346797165, 0.0041140038128532072]\n",
        "[1.0, 1.0, 1.0, 1.0, 1.0, 1.0, 1.0, 1.0, 0.5, 0.5, 0.5, 0.5, 0.5, 0.5, 0.5, 0.5, 0.5, 0.5, 0.50000000000000011, 0.49999999999999989, 0.50000000000000011, 0.5, 0.5, 0.5, 0.5, 0.49999999999999989, 0.5, 0.49999999999999989, 0.5, 0.50000000000000022, 0.5, 0.5, 0.5, 0.5, 0.5, 0.5, 0.33333333333333331, 0.33333333333333331, 0.33333333333333331, 0.33333333333333326, 0.33333333333333337, 0.33333333333333326, 0.33333333333333331, 0.33333333333333331, 0.33333333333333331, 0.33333333333333331, 0.33333333333333331, 0.33333333333333331, 0.33333333333333331, 0.33333333333333331, 0.33333333333333331, 0.33333333333333331, 0.33333333333333337, 0.33333333333333331, 0.33333333333333337, 0.33333333333333331, 0.33333333333333337, 0.33333333333333337, 0.33333333333333331, 0.33333333333333331, 0.33333333333333331, 0.33333333333333331, 0.33333333333333331, 0.33333333333333331, 0.33333333333333331, 0.33333333333333331, 0.33333333333333343, 0.33333333333333331, 0.33333333333333331, 0.33333333333333331, 0.33333333333333331, 0.33333333333333331, 0.33333333333333337, 0.33333333333333326, 0.33333333333333337, 0.33333333333333331, 0.33333333333333331, 0.33333333333333331, 0.33333333333333331, 0.33333333333333326, 0.33333333333333326, 0.33333333333333331, 0.33333333333333337, 0.33333333333333331, 0.33333333333333331, 0.33333333333333331, 0.33333333333333337, 0.33333333333333331, 0.33333333333333331, 0.33333333333333326, 0.33333333333333331, 0.33333333333333331, 0.25, 0.25, 0.25, 0.25, 0.25, 0.25, 0.25, 0.25, 0.25, 0.25, 0.25, 0.25, 0.25, 0.25, 0.25, 0.25, 0.25, 0.25000000000000006, 0.25, 0.25, 0.25, 0.25, 0.25, 0.25, 0.25, 0.25, 0.25, 0.25, 0.24999999999999994, 0.25, 0.25000000000000006, 0.25, 0.25, 0.25, 0.25, 0.25, 0.25, 0.25, 0.25, 0.25, 0.25, 0.25]\n",
        "[ 0.13122115  0.16335501  0.04087554  0.6645483 ]"
       ]
      },
      {
       "output_type": "stream",
       "stream": "stdout",
       "text": [
        "\n",
        "[ 0.07832191  0.19692402  0.07097861  0.65377546]"
       ]
      },
      {
       "output_type": "stream",
       "stream": "stdout",
       "text": [
        "\n",
        "[ 0.06657948  0.15768076  0.06152134  0.71421843]"
       ]
      },
      {
       "output_type": "stream",
       "stream": "stdout",
       "text": [
        "\n",
        "[ 0.10845647  0.1557305   0.05744463  0.6783684 ]"
       ]
      },
      {
       "output_type": "stream",
       "stream": "stdout",
       "text": [
        "\n",
        "[ 0.10488753  0.16142346  0.06532945  0.66835956]"
       ]
      },
      {
       "output_type": "stream",
       "stream": "stdout",
       "text": [
        "\n",
        "[ 0.14484479  0.16415121  0.08342995  0.60757404]"
       ]
      },
      {
       "output_type": "stream",
       "stream": "stdout",
       "text": [
        "\n",
        "[ 0.09497775  0.17620906  0.0776009   0.65121228]"
       ]
      },
      {
       "output_type": "stream",
       "stream": "stdout",
       "text": [
        "\n",
        "[ 0.12022615  0.15477422  0.0698599   0.65513972]"
       ]
      },
      {
       "output_type": "stream",
       "stream": "stdout",
       "text": [
        "\n",
        "[ 0.08845077  0.15045069  0.07695908  0.68413946]"
       ]
      },
      {
       "output_type": "stream",
       "stream": "stdout",
       "text": [
        "\n",
        "[ 0.15429399  0.14863993  0.07346217  0.6236039 ]"
       ]
      },
      {
       "output_type": "stream",
       "stream": "stdout",
       "text": [
        "\n",
        "[0.5, 0.5, 0.5, 0.5, 0.5, 0.5, 0.5, 0.5, 0.5, 0.5, 0.5, 0.5, 0.5, 0.5, 0.5, 0.5, 0.5, 0.5, 0.5, 0.5, 0.5, 0.5, 0.5, 0.5, 0.5, 0.5, 0.5, 0.5, 0.5, 0.5, 0.5, 0.5, 0.5, 0.5, 0.5, 0.5, 0.5, 0.5, 0.5, 0.5, 0.5, 0.5, 0.5, 0.5, 0.5, 0.5, 0.5, 0.5, 0.5, 0.5, 0.5, 0.5, 0.5, 0.5, 0.5, 0.5, 0.5, 0.5, 0.5, 0.5, 0.5, 0.5, 0.5, 0.5, 0.5, 0.5, 0.5, 0.5, 0.5, 0.5, 0.5, 0.5, 0.5, 0.5, 0.5, 0.5, 0.5, 0.5, 0.5, 0.5, 0.5, 0.5, 0.5, 0.5, 0.5, 0.5, 0.5, 0.5, 0.5, 0.5, 0.5, 0.5, 0.5, 0.5, 0.5, 0.5, 0.5, 0.5, 0.5, 0.5, 0.5, 0.5, 0.5, 0.5, 0.5, 0.5, 0.5, 0.5, 0.5, 0.5, 0.5, 0.5, 0.5, 0.5, 0.5, 0.5, 0.5, 0.5, 0.5, 0.5, 0.5, 0.5, 0.5, 0.5, 0.5, 0.5, 0.5, 0.5, 0.5, 0.5, 0.5, 0.5, 0.5, 0.5, 0.5]"
       ]
      },
      {
       "output_type": "stream",
       "stream": "stdout",
       "text": [
        "\n",
        "[0.035308450180920395, 0.015900278873051947, 0.027606640458033495, 0.020287811471444019, 0.028085748571213369, 0.035450017068918892, 0.0030537699131523133, 0.018801048240551517, 0.0010101978777581351, 0.00050936119312244637, 0.008238681424071536, 0.0036143352597136787, 0.005607800401233284, 0.0025444087200298623, 0.019754369486924619, 0.008088683576243998, 0.0, 0.0077047868625348317, 0.0065852856156395825, 0.0015393751346797165, 0.005668936813507235, 0.0010016733692713726, 0.0065990598011115165, 0.0050674066527983952, 0.0015393751346797165, 0.0066773510107629745, 0.0015127146704332129, 0.0010033534773107617, 0.0025444087200298623, 0.0015127146704332129, 0.020761540704040373, 0.0010385384500440277, 0.0061854044439900308, 0.0010385384500440277, 0.0076763527928345732, 0.0015393751346797165, 0.0025548226894230226, 0.0010101978777581351, 0.0015393751346797213, 0.0005008366846356888, 0.0015393751346797165, 0.0010101978777581351, 0.0010101978777581351, 0.0010300139415572653, 0.00050936119312244637, 0.0015393751346797165, 0.00050936119312244637, 0.0020220758635556592, 0.0010187223862448975, 0.0025444087200298623, 0.0015127146704332129, 0.0040563311891210398, 0.0010385384500440277, 0.0040760618683429806, 0.00050936119312244637, 0.0025366867336632723, 0.0015393751346797165, 0.0015308506261929541, 0.0050948696391650674, 0.0050810954536931333, 0.0010016733692713726, 0.0041208482133005854, 0.0, 0.0005008366846356888, 0.0015393751346797165, 0.00052917725692158137, 0.0035417203190134224, 0.0010583545138431627, 0.0036045572351535793, 0.0005008366846356888, 0.0046483453621827594, 0.0010300139415572701, 0.0010016733692713726, 0.0015308506261929541, 0.0015393751346797165, 0.0005008366846356888, 0.0060828542075416917, 0.0005008366846356888, 0.0056318827756944041, 0.0005008366846356888, 0.0040985495193418897, 0.0010300139415572701, 0.0020273255405408351, 0.0015393751346797165, 0.0015127146704332129, 0.0010385384500440277, 0.00050936119312245125, 0.0015393751346797165, 0.0, 0.0076763527928345732, 0.0010385384500440277, 0.0010385384500440277, 0.0005008366846356888, 0.0, 0.0005008366846356888, 0.0010101978777581351, 0.0005008366846356888, 0.0005008366846356888, 0.0005008366846356888, 0.0015393751346797165, 0.0005008366846356888, 0.0005008366846356888, 0.0015393751346797165, 0.0010033534773107617, 0.0015393751346797165, 0.0010101978777581351, 0.0015393751346797165, 0.0005008366846356888, 0.0010101978777581351, 0.0015393751346797165, 0.0005008366846356888, 0.0, 0.0010101978777581351, 0.00050936119312244637, 0.0015393751346797165, 0.00050936119312244637, 0.0015393751346797165, 0.0, 0.0015393751346797165, 0.0020220758635556592, 0.0010385384500440277, 0.0015127146704332079, 0.0015393751346797165, 0.00050936119312244637, 0.0030392035263383452, 0.0010101978777581351, 0.00050936119312244637, 0.0015308506261929541, 0.0015308506261929541, 0.0010101978777581351, 0.0010300139415572701, 0.0041070740278286565, 0.0015393751346797165, 0.0041140038128532072, 0.0015393751346797165]\n",
        "[1.0, 1.0, 1.0, 1.0, 1.0, 1.0, 1.0, 1.0, 0.5, 0.5, 0.5, 0.5, 0.5, 0.5, 0.5, 0.5, 0.5, 0.5, 0.50000000000000011, 0.49999999999999989, 0.50000000000000011, 0.5, 0.5, 0.5, 0.5, 0.49999999999999989, 0.5, 0.49999999999999989, 0.5, 0.50000000000000022, 0.5, 0.5, 0.5, 0.5, 0.5, 0.5, 0.33333333333333331, 0.33333333333333331, 0.33333333333333331, 0.33333333333333326, 0.33333333333333337, 0.33333333333333326, 0.33333333333333331, 0.33333333333333331, 0.33333333333333331, 0.33333333333333331, 0.33333333333333331, 0.33333333333333331, 0.33333333333333331, 0.33333333333333331, 0.33333333333333331, 0.33333333333333331, 0.33333333333333337, 0.33333333333333331, 0.33333333333333337, 0.33333333333333331, 0.33333333333333337, 0.33333333333333337, 0.33333333333333331, 0.33333333333333331, 0.33333333333333331, 0.33333333333333331, 0.33333333333333331, 0.33333333333333331, 0.33333333333333331, 0.33333333333333331, 0.33333333333333343, 0.33333333333333331, 0.33333333333333331, 0.33333333333333331, 0.33333333333333331, 0.33333333333333331, 0.33333333333333337, 0.33333333333333326, 0.33333333333333337, 0.33333333333333331, 0.33333333333333331, 0.33333333333333331, 0.33333333333333331, 0.33333333333333326, 0.33333333333333326, 0.33333333333333331, 0.33333333333333337, 0.33333333333333331, 0.33333333333333331, 0.33333333333333331, 0.33333333333333337, 0.33333333333333331, 0.33333333333333331, 0.33333333333333326, 0.33333333333333331, 0.33333333333333331, 0.25, 0.25, 0.25, 0.25, 0.25, 0.25, 0.25, 0.25, 0.25, 0.25, 0.25, 0.25, 0.25, 0.25, 0.25, 0.25, 0.25, 0.25000000000000006, 0.25, 0.25, 0.25, 0.25, 0.25, 0.25, 0.25, 0.25, 0.25, 0.25, 0.24999999999999994, 0.25, 0.25000000000000006, 0.25, 0.25, 0.25, 0.25, 0.25, 0.25, 0.25, 0.25, 0.25, 0.25, 0.25, 0.25]\n",
        "[ 0.26843465  0.2828018   0.18059814  0.2681654 ]"
       ]
      },
      {
       "output_type": "stream",
       "stream": "stdout",
       "text": [
        "\n",
        "[ 0.21652725  0.32191094  0.21244892  0.2491129 ]"
       ]
      },
      {
       "output_type": "stream",
       "stream": "stdout",
       "text": [
        "\n",
        "[ 0.24797203  0.27981     0.21147573  0.26074224]"
       ]
      },
      {
       "output_type": "stream",
       "stream": "stdout",
       "text": [
        "\n",
        "[ 0.26172303  0.31393926  0.17232876  0.25200895]"
       ]
      },
      {
       "output_type": "stream",
       "stream": "stdout",
       "text": [
        "\n",
        "[ 0.27992059  0.27252105  0.18700937  0.26054899]"
       ]
      },
      {
       "output_type": "stream",
       "stream": "stdout",
       "text": [
        "\n",
        "[ 0.25974675  0.24975811  0.20772749  0.28276766]"
       ]
      },
      {
       "output_type": "stream",
       "stream": "stdout",
       "text": [
        "\n",
        "[ 0.26648499  0.29587078  0.17019803  0.26744621]"
       ]
      },
      {
       "output_type": "stream",
       "stream": "stdout",
       "text": [
        "\n",
        "[ 0.20894177  0.31429734  0.18545775  0.29130313]"
       ]
      },
      {
       "output_type": "stream",
       "stream": "stdout",
       "text": [
        "\n",
        "[ 0.24284235  0.31827578  0.1703074   0.26857447]"
       ]
      },
      {
       "output_type": "stream",
       "stream": "stdout",
       "text": [
        "\n",
        "[ 0.26094103  0.29642881  0.18831426  0.2543159 ]"
       ]
      },
      {
       "output_type": "stream",
       "stream": "stdout",
       "text": [
        "\n",
        "[0.5, 0.5, 0.5, 0.5, 0.5, 0.5, 0.5, 0.5, 0.5, 0.5, 0.5, 0.5, 0.5, 0.5, 0.5, 0.5, 0.5, 0.5, 0.5, 0.5, 0.5, 0.5, 0.5, 0.5, 0.5, 0.5, 0.5, 0.5, 0.5, 0.5, 0.5, 0.5, 0.5, 0.5, 0.5, 0.5, 0.5, 0.5, 0.5, 0.5, 0.5, 0.5, 0.5, 0.5, 0.5, 0.5, 0.5, 0.5, 0.5, 0.5, 0.5, 0.5, 0.5, 0.5, 0.5, 0.5, 0.5, 0.5, 0.5, 0.5, 0.5, 0.5, 0.5, 0.5, 0.5, 0.5, 0.5, 0.5, 0.5, 0.5, 0.5, 0.5, 0.5, 0.5, 0.5, 0.5, 0.5, 0.5, 0.5, 0.5, 0.5, 0.5, 0.5, 0.5, 0.5, 0.5, 0.5, 0.5, 0.5, 0.5, 0.5, 0.5, 0.5, 0.5, 0.5, 0.5, 0.5, 0.5, 0.5, 0.5, 0.5, 0.5, 0.5, 0.5, 0.5, 0.5, 0.5, 0.5, 0.5, 0.5, 0.5, 0.5, 0.5, 0.5, 0.5, 0.5, 0.5, 0.5, 0.5, 0.5, 0.5, 0.5, 0.5, 0.5, 0.5, 0.5, 0.5, 0.5, 0.5, 0.5, 0.5, 0.5, 0.5, 0.5, 0.5, 0.5]"
       ]
      },
      {
       "output_type": "stream",
       "stream": "stdout",
       "text": [
        "\n",
        "[0.035308450180920395, 0.015900278873051947, 0.027606640458033495, 0.020287811471444019, 0.028085748571213369, 0.035450017068918892, 0.0030537699131523133, 0.018801048240551517, 0.0010101978777581351, 0.00050936119312244637, 0.008238681424071536, 0.0036143352597136787, 0.005607800401233284, 0.0025444087200298623, 0.019754369486924619, 0.008088683576243998, 0.0, 0.0077047868625348317, 0.0065852856156395825, 0.0015393751346797165, 0.005668936813507235, 0.0010016733692713726, 0.0065990598011115165, 0.0050674066527983952, 0.0015393751346797165, 0.0066773510107629745, 0.0015127146704332129, 0.0010033534773107617, 0.0025444087200298623, 0.0015127146704332129, 0.020761540704040373, 0.0010385384500440277, 0.0061854044439900308, 0.0010385384500440277, 0.0076763527928345732, 0.0015393751346797165, 0.0025548226894230226, 0.0010101978777581351, 0.0015393751346797213, 0.0005008366846356888, 0.0015393751346797165, 0.0010101978777581351, 0.0010101978777581351, 0.0010300139415572653, 0.00050936119312244637, 0.0015393751346797165, 0.00050936119312244637, 0.0020220758635556592, 0.0010187223862448975, 0.0025444087200298623, 0.0015127146704332129, 0.0040563311891210398, 0.0010385384500440277, 0.0040760618683429806, 0.00050936119312244637, 0.0025366867336632723, 0.0015393751346797165, 0.0015308506261929541, 0.0050948696391650674, 0.0050810954536931333, 0.0010016733692713726, 0.0041208482133005854, 0.0, 0.0005008366846356888, 0.0015393751346797165, 0.00052917725692158137, 0.0035417203190134224, 0.0010583545138431627, 0.0036045572351535793, 0.0005008366846356888, 0.0046483453621827594, 0.0010300139415572701, 0.0010016733692713726, 0.0015308506261929541, 0.0015393751346797165, 0.0005008366846356888, 0.0060828542075416917, 0.0005008366846356888, 0.0056318827756944041, 0.0005008366846356888, 0.0040985495193418897, 0.0010300139415572701, 0.0020273255405408351, 0.0015393751346797165, 0.0015127146704332129, 0.0010385384500440277, 0.00050936119312245125, 0.0015393751346797165, 0.0, 0.0076763527928345732, 0.0010385384500440277, 0.0010385384500440277, 0.0005008366846356888, 0.0, 0.0005008366846356888, 0.0010101978777581351, 0.0005008366846356888, 0.0005008366846356888, 0.0005008366846356888, 0.0015393751346797165, 0.0005008366846356888, 0.0005008366846356888, 0.0015393751346797165, 0.0010033534773107617, 0.0015393751346797165, 0.0010101978777581351, 0.0015393751346797165, 0.0005008366846356888, 0.0010101978777581351, 0.0015393751346797165, 0.0005008366846356888, 0.0, 0.0010101978777581351, 0.00050936119312244637, 0.0015393751346797165, 0.00050936119312244637, 0.0015393751346797165, 0.0, 0.0015393751346797165, 0.0020220758635556592, 0.0010385384500440277, 0.0015127146704332079, 0.0015393751346797165, 0.00050936119312244637, 0.0030392035263383452, 0.0010101978777581351, 0.00050936119312244637, 0.0015308506261929541, 0.0015308506261929541, 0.0010101978777581351, 0.0010300139415572701, 0.0041070740278286565, 0.0015393751346797165, 0.0041140038128532072, 0.0015393751346797165, 0.0030727937756094129]\n",
        "[1.0, 1.0, 1.0, 1.0, 1.0, 1.0, 1.0, 1.0, 0.5, 0.5, 0.5, 0.5, 0.5, 0.5, 0.5, 0.5, 0.5, 0.5, 0.50000000000000011, 0.49999999999999989, 0.50000000000000011, 0.5, 0.5, 0.5, 0.5, 0.49999999999999989, 0.5, 0.49999999999999989, 0.5, 0.50000000000000022, 0.5, 0.5, 0.5, 0.5, 0.5, 0.5, 0.33333333333333331, 0.33333333333333331, 0.33333333333333331, 0.33333333333333326, 0.33333333333333337, 0.33333333333333326, 0.33333333333333331, 0.33333333333333331, 0.33333333333333331, 0.33333333333333331, 0.33333333333333331, 0.33333333333333331, 0.33333333333333331, 0.33333333333333331, 0.33333333333333331, 0.33333333333333331, 0.33333333333333337, 0.33333333333333331, 0.33333333333333337, 0.33333333333333331, 0.33333333333333337, 0.33333333333333337, 0.33333333333333331, 0.33333333333333331, 0.33333333333333331, 0.33333333333333331, 0.33333333333333331, 0.33333333333333331, 0.33333333333333331, 0.33333333333333331, 0.33333333333333343, 0.33333333333333331, 0.33333333333333331, 0.33333333333333331, 0.33333333333333331, 0.33333333333333331, 0.33333333333333337, 0.33333333333333326, 0.33333333333333337, 0.33333333333333331, 0.33333333333333331, 0.33333333333333331, 0.33333333333333331, 0.33333333333333326, 0.33333333333333326, 0.33333333333333331, 0.33333333333333337, 0.33333333333333331, 0.33333333333333331, 0.33333333333333331, 0.33333333333333337, 0.33333333333333331, 0.33333333333333331, 0.33333333333333326, 0.33333333333333331, 0.33333333333333331, 0.25, 0.25, 0.25, 0.25, 0.25, 0.25, 0.25, 0.25, 0.25, 0.25, 0.25, 0.25, 0.25, 0.25, 0.25, 0.25, 0.25, 0.25000000000000006, 0.25, 0.25, 0.25, 0.25, 0.25, 0.25, 0.25, 0.25, 0.25, 0.25, 0.24999999999999994, 0.25, 0.25000000000000006, 0.25, 0.25, 0.25, 0.25, 0.25, 0.25, 0.25, 0.25, 0.25, 0.25, 0.25, 0.25, 0.25]\n",
        "[ 0.10976728  0.17619414  0.63623949  0.0777991 ]"
       ]
      },
      {
       "output_type": "stream",
       "stream": "stdout",
       "text": [
        "\n",
        "[ 0.08689183  0.16342409  0.68829845  0.06138563]"
       ]
      },
      {
       "output_type": "stream",
       "stream": "stdout",
       "text": [
        "\n",
        "[ 0.10642216  0.15012661  0.66707345  0.07637778]"
       ]
      },
      {
       "output_type": "stream",
       "stream": "stdout",
       "text": [
        "\n",
        "[ 0.06927209  0.18944182  0.67036399  0.0709221 ]"
       ]
      },
      {
       "output_type": "stream",
       "stream": "stdout",
       "text": [
        "\n",
        "[ 0.15745312  0.16259382  0.59784309  0.08210997]"
       ]
      },
      {
       "output_type": "stream",
       "stream": "stdout",
       "text": [
        "\n",
        "[ 0.09017732  0.13943197  0.72441355  0.04597716]"
       ]
      },
      {
       "output_type": "stream",
       "stream": "stdout",
       "text": [
        "\n",
        "[ 0.09524916  0.16336997  0.67235467  0.0690262 ]"
       ]
      },
      {
       "output_type": "stream",
       "stream": "stdout",
       "text": [
        "\n",
        "[ 0.12537927  0.13661429  0.6540208   0.08398564]"
       ]
      },
      {
       "output_type": "stream",
       "stream": "stdout",
       "text": [
        "\n",
        "[ 0.09921738  0.16223452  0.67583181  0.06271629]"
       ]
      },
      {
       "output_type": "stream",
       "stream": "stdout",
       "text": [
        "\n",
        "[ 0.10267374  0.17031887  0.66217826  0.06482913]"
       ]
      },
      {
       "output_type": "stream",
       "stream": "stdout",
       "text": [
        "\n",
        "[0.5, 0.5, 0.5, 0.5, 0.5, 0.5, 0.5, 0.5, 0.5, 0.5, 0.5, 0.5, 0.5, 0.5, 0.5, 0.5, 0.5, 0.5, 0.5, 0.5, 0.5, 0.5, 0.5, 0.5, 0.5, 0.5, 0.5, 0.5, 0.5, 0.5, 0.5, 0.5, 0.5, 0.5, 0.5, 0.5, 0.5, 0.5, 0.5, 0.5, 0.5, 0.5, 0.5, 0.5, 0.5, 0.5, 0.5, 0.5, 0.5, 0.5, 0.5, 0.5, 0.5, 0.5, 0.5, 0.5, 0.5, 0.5, 0.5, 0.5, 0.5, 0.5, 0.5, 0.5, 0.5, 0.5, 0.5, 0.5, 0.5, 0.5, 0.5, 0.5, 0.5, 0.5, 0.5, 0.5, 0.5, 0.5, 0.5, 0.5, 0.5, 0.5, 0.5, 0.5, 0.5, 0.5, 0.5, 0.5, 0.5, 0.5, 0.5, 0.5, 0.5, 0.5, 0.5, 0.5, 0.5, 0.5, 0.5, 0.5, 0.5, 0.5, 0.5, 0.5, 0.5, 0.5, 0.5, 0.5, 0.5, 0.5, 0.5, 0.5, 0.5, 0.5, 0.5, 0.5, 0.5, 0.5, 0.5, 0.5, 0.5, 0.5, 0.5, 0.5, 0.5, 0.5, 0.5, 0.5, 0.5, 0.5, 0.5, 0.5, 0.5, 0.5, 0.5, 0.5, 0.5]"
       ]
      },
      {
       "output_type": "stream",
       "stream": "stdout",
       "text": [
        "\n",
        "[0.035308450180920395, 0.015900278873051947, 0.027606640458033495, 0.020287811471444019, 0.028085748571213369, 0.035450017068918892, 0.0030537699131523133, 0.018801048240551517, 0.0010101978777581351, 0.00050936119312244637, 0.008238681424071536, 0.0036143352597136787, 0.005607800401233284, 0.0025444087200298623, 0.019754369486924619, 0.008088683576243998, 0.0, 0.0077047868625348317, 0.0065852856156395825, 0.0015393751346797165, 0.005668936813507235, 0.0010016733692713726, 0.0065990598011115165, 0.0050674066527983952, 0.0015393751346797165, 0.0066773510107629745, 0.0015127146704332129, 0.0010033534773107617, 0.0025444087200298623, 0.0015127146704332129, 0.020761540704040373, 0.0010385384500440277, 0.0061854044439900308, 0.0010385384500440277, 0.0076763527928345732, 0.0015393751346797165, 0.0025548226894230226, 0.0010101978777581351, 0.0015393751346797213, 0.0005008366846356888, 0.0015393751346797165, 0.0010101978777581351, 0.0010101978777581351, 0.0010300139415572653, 0.00050936119312244637, 0.0015393751346797165, 0.00050936119312244637, 0.0020220758635556592, 0.0010187223862448975, 0.0025444087200298623, 0.0015127146704332129, 0.0040563311891210398, 0.0010385384500440277, 0.0040760618683429806, 0.00050936119312244637, 0.0025366867336632723, 0.0015393751346797165, 0.0015308506261929541, 0.0050948696391650674, 0.0050810954536931333, 0.0010016733692713726, 0.0041208482133005854, 0.0, 0.0005008366846356888, 0.0015393751346797165, 0.00052917725692158137, 0.0035417203190134224, 0.0010583545138431627, 0.0036045572351535793, 0.0005008366846356888, 0.0046483453621827594, 0.0010300139415572701, 0.0010016733692713726, 0.0015308506261929541, 0.0015393751346797165, 0.0005008366846356888, 0.0060828542075416917, 0.0005008366846356888, 0.0056318827756944041, 0.0005008366846356888, 0.0040985495193418897, 0.0010300139415572701, 0.0020273255405408351, 0.0015393751346797165, 0.0015127146704332129, 0.0010385384500440277, 0.00050936119312245125, 0.0015393751346797165, 0.0, 0.0076763527928345732, 0.0010385384500440277, 0.0010385384500440277, 0.0005008366846356888, 0.0, 0.0005008366846356888, 0.0010101978777581351, 0.0005008366846356888, 0.0005008366846356888, 0.0005008366846356888, 0.0015393751346797165, 0.0005008366846356888, 0.0005008366846356888, 0.0015393751346797165, 0.0010033534773107617, 0.0015393751346797165, 0.0010101978777581351, 0.0015393751346797165, 0.0005008366846356888, 0.0010101978777581351, 0.0015393751346797165, 0.0005008366846356888, 0.0, 0.0010101978777581351, 0.00050936119312244637, 0.0015393751346797165, 0.00050936119312244637, 0.0015393751346797165, 0.0, 0.0015393751346797165, 0.0020220758635556592, 0.0010385384500440277, 0.0015127146704332079, 0.0015393751346797165, 0.00050936119312244637, 0.0030392035263383452, 0.0010101978777581351, 0.00050936119312244637, 0.0015308506261929541, 0.0015308506261929541, 0.0010101978777581351, 0.0010300139415572701, 0.0041070740278286565, 0.0015393751346797165, 0.0041140038128532072, 0.0015393751346797165, 0.0030727937756094129, 0.0015393751346797165]\n",
        "[1.0, 1.0, 1.0, 1.0, 1.0, 1.0, 1.0, 1.0, 0.5, 0.5, 0.5, 0.5, 0.5, 0.5, 0.5, 0.5, 0.5, 0.5, 0.50000000000000011, 0.49999999999999989, 0.50000000000000011, 0.5, 0.5, 0.5, 0.5, 0.49999999999999989, 0.5, 0.49999999999999989, 0.5, 0.50000000000000022, 0.5, 0.5, 0.5, 0.5, 0.5, 0.5, 0.33333333333333331, 0.33333333333333331, 0.33333333333333331, 0.33333333333333326, 0.33333333333333337, 0.33333333333333326, 0.33333333333333331, 0.33333333333333331, 0.33333333333333331, 0.33333333333333331, 0.33333333333333331, 0.33333333333333331, 0.33333333333333331, 0.33333333333333331, 0.33333333333333331, 0.33333333333333331, 0.33333333333333337, 0.33333333333333331, 0.33333333333333337, 0.33333333333333331, 0.33333333333333337, 0.33333333333333337, 0.33333333333333331, 0.33333333333333331, 0.33333333333333331, 0.33333333333333331, 0.33333333333333331, 0.33333333333333331, 0.33333333333333331, 0.33333333333333331, 0.33333333333333343, 0.33333333333333331, 0.33333333333333331, 0.33333333333333331, 0.33333333333333331, 0.33333333333333331, 0.33333333333333337, 0.33333333333333326, 0.33333333333333337, 0.33333333333333331, 0.33333333333333331, 0.33333333333333331, 0.33333333333333331, 0.33333333333333326, 0.33333333333333326, 0.33333333333333331, 0.33333333333333337, 0.33333333333333331, 0.33333333333333331, 0.33333333333333331, 0.33333333333333337, 0.33333333333333331, 0.33333333333333331, 0.33333333333333326, 0.33333333333333331, 0.33333333333333331, 0.25, 0.25, 0.25, 0.25, 0.25, 0.25, 0.25, 0.25, 0.25, 0.25, 0.25, 0.25, 0.25, 0.25, 0.25, 0.25, 0.25, 0.25000000000000006, 0.25, 0.25, 0.25, 0.25, 0.25, 0.25, 0.25, 0.25, 0.25, 0.25, 0.24999999999999994, 0.25, 0.25000000000000006, 0.25, 0.25, 0.25, 0.25, 0.25, 0.25, 0.25, 0.25, 0.25, 0.25, 0.25, 0.25, 0.25, 0.25]\n",
        "[ 0.2451813   0.57782453  0.08487024  0.09212394]"
       ]
      },
      {
       "output_type": "stream",
       "stream": "stdout",
       "text": [
        "\n",
        "[ 0.20499588  0.56767588  0.08710911  0.14021913]"
       ]
      },
      {
       "output_type": "stream",
       "stream": "stdout",
       "text": [
        "\n",
        "[ 0.20858158  0.58551361  0.09911064  0.10679417]"
       ]
      },
      {
       "output_type": "stream",
       "stream": "stdout",
       "text": [
        "\n",
        "[ 0.21528219  0.59009284  0.0812776   0.11334738]"
       ]
      },
      {
       "output_type": "stream",
       "stream": "stdout",
       "text": [
        "\n",
        "[ 0.22449813  0.57791254  0.0874824   0.11010693]"
       ]
      },
      {
       "output_type": "stream",
       "stream": "stdout",
       "text": [
        "\n",
        "[ 0.1995006   0.59316639  0.08051089  0.12682212]"
       ]
      },
      {
       "output_type": "stream",
       "stream": "stdout",
       "text": [
        "\n",
        "[ 0.22733768  0.58497836  0.08749589  0.10018808]"
       ]
      },
      {
       "output_type": "stream",
       "stream": "stdout",
       "text": [
        "\n",
        "[ 0.18709357  0.60120659  0.10680016  0.10489967]"
       ]
      },
      {
       "output_type": "stream",
       "stream": "stdout",
       "text": [
        "\n",
        "[ 0.21479035  0.58061162  0.07926028  0.12533776]"
       ]
      },
      {
       "output_type": "stream",
       "stream": "stdout",
       "text": [
        "\n",
        "[ 0.24397777  0.56583829  0.09763187  0.09255207]"
       ]
      },
      {
       "output_type": "stream",
       "stream": "stdout",
       "text": [
        "\n",
        "[0.5, 0.5, 0.5, 0.5, 0.5, 0.5, 0.5, 0.5, 0.5, 0.5, 0.5, 0.5, 0.5, 0.5, 0.5, 0.5, 0.5, 0.5, 0.5, 0.5, 0.5, 0.5, 0.5, 0.5, 0.5, 0.5, 0.5, 0.5, 0.5, 0.5, 0.5, 0.5, 0.5, 0.5, 0.5, 0.5, 0.5, 0.5, 0.5, 0.5, 0.5, 0.5, 0.5, 0.5, 0.5, 0.5, 0.5, 0.5, 0.5, 0.5, 0.5, 0.5, 0.5, 0.5, 0.5, 0.5, 0.5, 0.5, 0.5, 0.5, 0.5, 0.5, 0.5, 0.5, 0.5, 0.5, 0.5, 0.5, 0.5, 0.5, 0.5, 0.5, 0.5, 0.5, 0.5, 0.5, 0.5, 0.5, 0.5, 0.5, 0.5, 0.5, 0.5, 0.5, 0.5, 0.5, 0.5, 0.5, 0.5, 0.5, 0.5, 0.5, 0.5, 0.5, 0.5, 0.5, 0.5, 0.5, 0.5, 0.5, 0.5, 0.5, 0.5, 0.5, 0.5, 0.5, 0.5, 0.5, 0.5, 0.5, 0.5, 0.5, 0.5, 0.5, 0.5, 0.5, 0.5, 0.5, 0.5, 0.5, 0.5, 0.5, 0.5, 0.5, 0.5, 0.5, 0.5, 0.5, 0.5, 0.5, 0.5, 0.5, 0.5, 0.5, 0.5, 0.5, 0.5, 0.5]"
       ]
      },
      {
       "output_type": "stream",
       "stream": "stdout",
       "text": [
        "\n",
        "[0.035308450180920395, 0.015900278873051947, 0.027606640458033495, 0.020287811471444019, 0.028085748571213369, 0.035450017068918892, 0.0030537699131523133, 0.018801048240551517, 0.0010101978777581351, 0.00050936119312244637, 0.008238681424071536, 0.0036143352597136787, 0.005607800401233284, 0.0025444087200298623, 0.019754369486924619, 0.008088683576243998, 0.0, 0.0077047868625348317, 0.0065852856156395825, 0.0015393751346797165, 0.005668936813507235, 0.0010016733692713726, 0.0065990598011115165, 0.0050674066527983952, 0.0015393751346797165, 0.0066773510107629745, 0.0015127146704332129, 0.0010033534773107617, 0.0025444087200298623, 0.0015127146704332129, 0.020761540704040373, 0.0010385384500440277, 0.0061854044439900308, 0.0010385384500440277, 0.0076763527928345732, 0.0015393751346797165, 0.0025548226894230226, 0.0010101978777581351, 0.0015393751346797213, 0.0005008366846356888, 0.0015393751346797165, 0.0010101978777581351, 0.0010101978777581351, 0.0010300139415572653, 0.00050936119312244637, 0.0015393751346797165, 0.00050936119312244637, 0.0020220758635556592, 0.0010187223862448975, 0.0025444087200298623, 0.0015127146704332129, 0.0040563311891210398, 0.0010385384500440277, 0.0040760618683429806, 0.00050936119312244637, 0.0025366867336632723, 0.0015393751346797165, 0.0015308506261929541, 0.0050948696391650674, 0.0050810954536931333, 0.0010016733692713726, 0.0041208482133005854, 0.0, 0.0005008366846356888, 0.0015393751346797165, 0.00052917725692158137, 0.0035417203190134224, 0.0010583545138431627, 0.0036045572351535793, 0.0005008366846356888, 0.0046483453621827594, 0.0010300139415572701, 0.0010016733692713726, 0.0015308506261929541, 0.0015393751346797165, 0.0005008366846356888, 0.0060828542075416917, 0.0005008366846356888, 0.0056318827756944041, 0.0005008366846356888, 0.0040985495193418897, 0.0010300139415572701, 0.0020273255405408351, 0.0015393751346797165, 0.0015127146704332129, 0.0010385384500440277, 0.00050936119312245125, 0.0015393751346797165, 0.0, 0.0076763527928345732, 0.0010385384500440277, 0.0010385384500440277, 0.0005008366846356888, 0.0, 0.0005008366846356888, 0.0010101978777581351, 0.0005008366846356888, 0.0005008366846356888, 0.0005008366846356888, 0.0015393751346797165, 0.0005008366846356888, 0.0005008366846356888, 0.0015393751346797165, 0.0010033534773107617, 0.0015393751346797165, 0.0010101978777581351, 0.0015393751346797165, 0.0005008366846356888, 0.0010101978777581351, 0.0015393751346797165, 0.0005008366846356888, 0.0, 0.0010101978777581351, 0.00050936119312244637, 0.0015393751346797165, 0.00050936119312244637, 0.0015393751346797165, 0.0, 0.0015393751346797165, 0.0020220758635556592, 0.0010385384500440277, 0.0015127146704332079, 0.0015393751346797165, 0.00050936119312244637, 0.0030392035263383452, 0.0010101978777581351, 0.00050936119312244637, 0.0015308506261929541, 0.0015308506261929541, 0.0010101978777581351, 0.0010300139415572701, 0.0041070740278286565, 0.0015393751346797165, 0.0041140038128532072, 0.0015393751346797165, 0.0030727937756094129, 0.0015393751346797165, 0.0005008366846356888]\n",
        "[1.0, 1.0, 1.0, 1.0, 1.0, 1.0, 1.0, 1.0, 0.5, 0.5, 0.5, 0.5, 0.5, 0.5, 0.5, 0.5, 0.5, 0.5, 0.50000000000000011, 0.49999999999999989, 0.50000000000000011, 0.5, 0.5, 0.5, 0.5, 0.49999999999999989, 0.5, 0.49999999999999989, 0.5, 0.50000000000000022, 0.5, 0.5, 0.5, 0.5, 0.5, 0.5, 0.33333333333333331, 0.33333333333333331, 0.33333333333333331, 0.33333333333333326, 0.33333333333333337, 0.33333333333333326, 0.33333333333333331, 0.33333333333333331, 0.33333333333333331, 0.33333333333333331, 0.33333333333333331, 0.33333333333333331, 0.33333333333333331, 0.33333333333333331, 0.33333333333333331, 0.33333333333333331, 0.33333333333333337, 0.33333333333333331, 0.33333333333333337, 0.33333333333333331, 0.33333333333333337, 0.33333333333333337, 0.33333333333333331, 0.33333333333333331, 0.33333333333333331, 0.33333333333333331, 0.33333333333333331, 0.33333333333333331, 0.33333333333333331, 0.33333333333333331, 0.33333333333333343, 0.33333333333333331, 0.33333333333333331, 0.33333333333333331, 0.33333333333333331, 0.33333333333333331, 0.33333333333333337, 0.33333333333333326, 0.33333333333333337, 0.33333333333333331, 0.33333333333333331, 0.33333333333333331, 0.33333333333333331, 0.33333333333333326, 0.33333333333333326, 0.33333333333333331, 0.33333333333333337, 0.33333333333333331, 0.33333333333333331, 0.33333333333333331, 0.33333333333333337, 0.33333333333333331, 0.33333333333333331, 0.33333333333333326, 0.33333333333333331, 0.33333333333333331, 0.25, 0.25, 0.25, 0.25, 0.25, 0.25, 0.25, 0.25, 0.25, 0.25, 0.25, 0.25, 0.25, 0.25, 0.25, 0.25, 0.25, 0.25000000000000006, 0.25, 0.25, 0.25, 0.25, 0.25, 0.25, 0.25, 0.25, 0.25, 0.25, 0.24999999999999994, 0.25, 0.25000000000000006, 0.25, 0.25, 0.25, 0.25, 0.25, 0.25, 0.25, 0.25, 0.25, 0.25, 0.25, 0.25, 0.25, 0.25, 0.25]\n",
        "[ 0.13636462  0.27200182  0.03999014  0.55164343]"
       ]
      },
      {
       "output_type": "stream",
       "stream": "stdout",
       "text": [
        "\n",
        "[ 0.12085628  0.24748881  0.0638602   0.56779471]"
       ]
      },
      {
       "output_type": "stream",
       "stream": "stdout",
       "text": [
        "\n",
        "[ 0.11197979  0.27348753  0.05057635  0.56395632]"
       ]
      },
      {
       "output_type": "stream",
       "stream": "stdout",
       "text": [
        "\n",
        "[ 0.13161759  0.26029432  0.04237997  0.56570813]"
       ]
      },
      {
       "output_type": "stream",
       "stream": "stdout",
       "text": [
        "\n",
        "[ 0.12255491  0.27118192  0.05622078  0.55004239]"
       ]
      },
      {
       "output_type": "stream",
       "stream": "stdout",
       "text": [
        "\n",
        "[ 0.0991597   0.23172371  0.06535218  0.60376442]"
       ]
      },
      {
       "output_type": "stream",
       "stream": "stdout",
       "text": [
        "\n",
        "[ 0.10129803  0.25600224  0.05784857  0.58485116]"
       ]
      },
      {
       "output_type": "stream",
       "stream": "stdout",
       "text": [
        "\n",
        "[ 0.14598536  0.2724976   0.07328829  0.50822874]"
       ]
      },
      {
       "output_type": "stream",
       "stream": "stdout",
       "text": [
        "\n",
        "[ 0.0800289   0.23624081  0.0726678   0.61106248]"
       ]
      },
      {
       "output_type": "stream",
       "stream": "stdout",
       "text": [
        "\n",
        "[ 0.12006486  0.25817982  0.04987134  0.57188398]"
       ]
      },
      {
       "output_type": "stream",
       "stream": "stdout",
       "text": [
        "\n",
        "[0.5, 0.5, 0.5, 0.5, 0.5, 0.5, 0.5, 0.5, 0.5, 0.5, 0.5, 0.5, 0.5, 0.5, 0.5, 0.5, 0.5, 0.5, 0.5, 0.5, 0.5, 0.5, 0.5, 0.5, 0.5, 0.5, 0.5, 0.5, 0.5, 0.5, 0.5, 0.5, 0.5, 0.5, 0.5, 0.5, 0.5, 0.5, 0.5, 0.5, 0.5, 0.5, 0.5, 0.5, 0.5, 0.5, 0.5, 0.5, 0.5, 0.5, 0.5, 0.5, 0.5, 0.5, 0.5, 0.5, 0.5, 0.5, 0.5, 0.5, 0.5, 0.5, 0.5, 0.5, 0.5, 0.5, 0.5, 0.5, 0.5, 0.5, 0.5, 0.5, 0.5, 0.5, 0.5, 0.5, 0.5, 0.5, 0.5, 0.5, 0.5, 0.5, 0.5, 0.5, 0.5, 0.5, 0.5, 0.5, 0.5, 0.5, 0.5, 0.5, 0.5, 0.5, 0.5, 0.5, 0.5, 0.5, 0.5, 0.5, 0.5, 0.5, 0.5, 0.5, 0.5, 0.5, 0.5, 0.5, 0.5, 0.5, 0.5, 0.5, 0.5, 0.5, 0.5, 0.5, 0.5, 0.5, 0.5, 0.5, 0.5, 0.5, 0.5, 0.5, 0.5, 0.5, 0.5, 0.5, 0.5, 0.5, 0.5, 0.5, 0.5, 0.5, 0.5, 0.5, 0.5, 0.5, 0.5]"
       ]
      },
      {
       "output_type": "stream",
       "stream": "stdout",
       "text": [
        "\n",
        "[0.035308450180920395, 0.015900278873051947, 0.027606640458033495, 0.020287811471444019, 0.028085748571213369, 0.035450017068918892, 0.0030537699131523133, 0.018801048240551517, 0.0010101978777581351, 0.00050936119312244637, 0.008238681424071536, 0.0036143352597136787, 0.005607800401233284, 0.0025444087200298623, 0.019754369486924619, 0.008088683576243998, 0.0, 0.0077047868625348317, 0.0065852856156395825, 0.0015393751346797165, 0.005668936813507235, 0.0010016733692713726, 0.0065990598011115165, 0.0050674066527983952, 0.0015393751346797165, 0.0066773510107629745, 0.0015127146704332129, 0.0010033534773107617, 0.0025444087200298623, 0.0015127146704332129, 0.020761540704040373, 0.0010385384500440277, 0.0061854044439900308, 0.0010385384500440277, 0.0076763527928345732, 0.0015393751346797165, 0.0025548226894230226, 0.0010101978777581351, 0.0015393751346797213, 0.0005008366846356888, 0.0015393751346797165, 0.0010101978777581351, 0.0010101978777581351, 0.0010300139415572653, 0.00050936119312244637, 0.0015393751346797165, 0.00050936119312244637, 0.0020220758635556592, 0.0010187223862448975, 0.0025444087200298623, 0.0015127146704332129, 0.0040563311891210398, 0.0010385384500440277, 0.0040760618683429806, 0.00050936119312244637, 0.0025366867336632723, 0.0015393751346797165, 0.0015308506261929541, 0.0050948696391650674, 0.0050810954536931333, 0.0010016733692713726, 0.0041208482133005854, 0.0, 0.0005008366846356888, 0.0015393751346797165, 0.00052917725692158137, 0.0035417203190134224, 0.0010583545138431627, 0.0036045572351535793, 0.0005008366846356888, 0.0046483453621827594, 0.0010300139415572701, 0.0010016733692713726, 0.0015308506261929541, 0.0015393751346797165, 0.0005008366846356888, 0.0060828542075416917, 0.0005008366846356888, 0.0056318827756944041, 0.0005008366846356888, 0.0040985495193418897, 0.0010300139415572701, 0.0020273255405408351, 0.0015393751346797165, 0.0015127146704332129, 0.0010385384500440277, 0.00050936119312245125, 0.0015393751346797165, 0.0, 0.0076763527928345732, 0.0010385384500440277, 0.0010385384500440277, 0.0005008366846356888, 0.0, 0.0005008366846356888, 0.0010101978777581351, 0.0005008366846356888, 0.0005008366846356888, 0.0005008366846356888, 0.0015393751346797165, 0.0005008366846356888, 0.0005008366846356888, 0.0015393751346797165, 0.0010033534773107617, 0.0015393751346797165, 0.0010101978777581351, 0.0015393751346797165, 0.0005008366846356888, 0.0010101978777581351, 0.0015393751346797165, 0.0005008366846356888, 0.0, 0.0010101978777581351, 0.00050936119312244637, 0.0015393751346797165, 0.00050936119312244637, 0.0015393751346797165, 0.0, 0.0015393751346797165, 0.0020220758635556592, 0.0010385384500440277, 0.0015127146704332079, 0.0015393751346797165, 0.00050936119312244637, 0.0030392035263383452, 0.0010101978777581351, 0.00050936119312244637, 0.0015308506261929541, 0.0015308506261929541, 0.0010101978777581351, 0.0010300139415572701, 0.0041070740278286565, 0.0015393751346797165, 0.0041140038128532072, 0.0015393751346797165, 0.0030727937756094129, 0.0015393751346797165, 0.0005008366846356888, 0.0015393751346797165]\n",
        "[1.0, 1.0, 1.0, 1.0, 1.0, 1.0, 1.0, 1.0, 0.5, 0.5, 0.5, 0.5, 0.5, 0.5, 0.5, 0.5, 0.5, 0.5, 0.50000000000000011, 0.49999999999999989, 0.50000000000000011, 0.5, 0.5, 0.5, 0.5, 0.49999999999999989, 0.5, 0.49999999999999989, 0.5, 0.50000000000000022, 0.5, 0.5, 0.5, 0.5, 0.5, 0.5, 0.33333333333333331, 0.33333333333333331, 0.33333333333333331, 0.33333333333333326, 0.33333333333333337, 0.33333333333333326, 0.33333333333333331, 0.33333333333333331, 0.33333333333333331, 0.33333333333333331, 0.33333333333333331, 0.33333333333333331, 0.33333333333333331, 0.33333333333333331, 0.33333333333333331, 0.33333333333333331, 0.33333333333333337, 0.33333333333333331, 0.33333333333333337, 0.33333333333333331, 0.33333333333333337, 0.33333333333333337, 0.33333333333333331, 0.33333333333333331, 0.33333333333333331, 0.33333333333333331, 0.33333333333333331, 0.33333333333333331, 0.33333333333333331, 0.33333333333333331, 0.33333333333333343, 0.33333333333333331, 0.33333333333333331, 0.33333333333333331, 0.33333333333333331, 0.33333333333333331, 0.33333333333333337, 0.33333333333333326, 0.33333333333333337, 0.33333333333333331, 0.33333333333333331, 0.33333333333333331, 0.33333333333333331, 0.33333333333333326, 0.33333333333333326, 0.33333333333333331, 0.33333333333333337, 0.33333333333333331, 0.33333333333333331, 0.33333333333333331, 0.33333333333333337, 0.33333333333333331, 0.33333333333333331, 0.33333333333333326, 0.33333333333333331, 0.33333333333333331, 0.25, 0.25, 0.25, 0.25, 0.25, 0.25, 0.25, 0.25, 0.25, 0.25, 0.25, 0.25, 0.25, 0.25, 0.25, 0.25, 0.25, 0.25000000000000006, 0.25, 0.25, 0.25, 0.25, 0.25, 0.25, 0.25, 0.25, 0.25, 0.25, 0.24999999999999994, 0.25, 0.25000000000000006, 0.25, 0.25, 0.25, 0.25, 0.25, 0.25, 0.25, 0.25, 0.25, 0.25, 0.25, 0.25, 0.25, 0.25, 0.25, 0.25]\n",
        "[ 0.21903285  0.60817223  0.10185921  0.0709357 ]"
       ]
      },
      {
       "output_type": "stream",
       "stream": "stdout",
       "text": [
        "\n",
        "[ 0.21339494  0.55334403  0.14785035  0.08541069]"
       ]
      },
      {
       "output_type": "stream",
       "stream": "stdout",
       "text": [
        "\n",
        "[ 0.24860736  0.56780469  0.09425639  0.08933155]"
       ]
      },
      {
       "output_type": "stream",
       "stream": "stdout",
       "text": [
        "\n",
        "[ 0.30147549  0.4892182   0.1087971   0.10050921]"
       ]
      },
      {
       "output_type": "stream",
       "stream": "stdout",
       "text": [
        "\n",
        "[ 0.19142077  0.59287392  0.13681662  0.07888869]"
       ]
      },
      {
       "output_type": "stream",
       "stream": "stdout",
       "text": [
        "\n",
        "[ 0.23231032  0.57067299  0.10754104  0.08947565]"
       ]
      },
      {
       "output_type": "stream",
       "stream": "stdout",
       "text": [
        "\n",
        "[ 0.25163435  0.51588427  0.13612904  0.09635235]"
       ]
      },
      {
       "output_type": "stream",
       "stream": "stdout",
       "text": [
        "\n",
        "[ 0.21758755  0.54583779  0.13922596  0.0973487 ]"
       ]
      },
      {
       "output_type": "stream",
       "stream": "stdout",
       "text": [
        "\n",
        "[ 0.20743733  0.55672092  0.14316272  0.09267903]"
       ]
      },
      {
       "output_type": "stream",
       "stream": "stdout",
       "text": [
        "\n",
        "[ 0.26040259  0.52485924  0.11958564  0.09515253]"
       ]
      },
      {
       "output_type": "stream",
       "stream": "stdout",
       "text": [
        "\n",
        "[0.5, 0.5, 0.5, 0.5, 0.5, 0.5, 0.5, 0.5, 0.5, 0.5, 0.5, 0.5, 0.5, 0.5, 0.5, 0.5, 0.5, 0.5, 0.5, 0.5, 0.5, 0.5, 0.5, 0.5, 0.5, 0.5, 0.5, 0.5, 0.5, 0.5, 0.5, 0.5, 0.5, 0.5, 0.5, 0.5, 0.5, 0.5, 0.5, 0.5, 0.5, 0.5, 0.5, 0.5, 0.5, 0.5, 0.5, 0.5, 0.5, 0.5, 0.5, 0.5, 0.5, 0.5, 0.5, 0.5, 0.5, 0.5, 0.5, 0.5, 0.5, 0.5, 0.5, 0.5, 0.5, 0.5, 0.5, 0.5, 0.5, 0.5, 0.5, 0.5, 0.5, 0.5, 0.5, 0.5, 0.5, 0.5, 0.5, 0.5, 0.5, 0.5, 0.5, 0.5, 0.5, 0.5, 0.5, 0.5, 0.5, 0.5, 0.5, 0.5, 0.5, 0.5, 0.5, 0.5, 0.5, 0.5, 0.5, 0.5, 0.5, 0.5, 0.5, 0.5, 0.5, 0.5, 0.5, 0.5, 0.5, 0.5, 0.5, 0.5, 0.5, 0.5, 0.5, 0.5, 0.5, 0.5, 0.5, 0.5, 0.5, 0.5, 0.5, 0.5, 0.5, 0.5, 0.5, 0.5, 0.5, 0.5, 0.5, 0.5, 0.5, 0.5, 0.5, 0.5, 0.5, 0.5, 0.5, 0.5]"
       ]
      },
      {
       "output_type": "stream",
       "stream": "stdout",
       "text": [
        "\n",
        "[0.035308450180920395, 0.015900278873051947, 0.027606640458033495, 0.020287811471444019, 0.028085748571213369, 0.035450017068918892, 0.0030537699131523133, 0.018801048240551517, 0.0010101978777581351, 0.00050936119312244637, 0.008238681424071536, 0.0036143352597136787, 0.005607800401233284, 0.0025444087200298623, 0.019754369486924619, 0.008088683576243998, 0.0, 0.0077047868625348317, 0.0065852856156395825, 0.0015393751346797165, 0.005668936813507235, 0.0010016733692713726, 0.0065990598011115165, 0.0050674066527983952, 0.0015393751346797165, 0.0066773510107629745, 0.0015127146704332129, 0.0010033534773107617, 0.0025444087200298623, 0.0015127146704332129, 0.020761540704040373, 0.0010385384500440277, 0.0061854044439900308, 0.0010385384500440277, 0.0076763527928345732, 0.0015393751346797165, 0.0025548226894230226, 0.0010101978777581351, 0.0015393751346797213, 0.0005008366846356888, 0.0015393751346797165, 0.0010101978777581351, 0.0010101978777581351, 0.0010300139415572653, 0.00050936119312244637, 0.0015393751346797165, 0.00050936119312244637, 0.0020220758635556592, 0.0010187223862448975, 0.0025444087200298623, 0.0015127146704332129, 0.0040563311891210398, 0.0010385384500440277, 0.0040760618683429806, 0.00050936119312244637, 0.0025366867336632723, 0.0015393751346797165, 0.0015308506261929541, 0.0050948696391650674, 0.0050810954536931333, 0.0010016733692713726, 0.0041208482133005854, 0.0, 0.0005008366846356888, 0.0015393751346797165, 0.00052917725692158137, 0.0035417203190134224, 0.0010583545138431627, 0.0036045572351535793, 0.0005008366846356888, 0.0046483453621827594, 0.0010300139415572701, 0.0010016733692713726, 0.0015308506261929541, 0.0015393751346797165, 0.0005008366846356888, 0.0060828542075416917, 0.0005008366846356888, 0.0056318827756944041, 0.0005008366846356888, 0.0040985495193418897, 0.0010300139415572701, 0.0020273255405408351, 0.0015393751346797165, 0.0015127146704332129, 0.0010385384500440277, 0.00050936119312245125, 0.0015393751346797165, 0.0, 0.0076763527928345732, 0.0010385384500440277, 0.0010385384500440277, 0.0005008366846356888, 0.0, 0.0005008366846356888, 0.0010101978777581351, 0.0005008366846356888, 0.0005008366846356888, 0.0005008366846356888, 0.0015393751346797165, 0.0005008366846356888, 0.0005008366846356888, 0.0015393751346797165, 0.0010033534773107617, 0.0015393751346797165, 0.0010101978777581351, 0.0015393751346797165, 0.0005008366846356888, 0.0010101978777581351, 0.0015393751346797165, 0.0005008366846356888, 0.0, 0.0010101978777581351, 0.00050936119312244637, 0.0015393751346797165, 0.00050936119312244637, 0.0015393751346797165, 0.0, 0.0015393751346797165, 0.0020220758635556592, 0.0010385384500440277, 0.0015127146704332079, 0.0015393751346797165, 0.00050936119312244637, 0.0030392035263383452, 0.0010101978777581351, 0.00050936119312244637, 0.0015308506261929541, 0.0015308506261929541, 0.0010101978777581351, 0.0010300139415572701, 0.0041070740278286565, 0.0015393751346797165, 0.0041140038128532072, 0.0015393751346797165, 0.0030727937756094129, 0.0015393751346797165, 0.0005008366846356888, 0.0015393751346797165, 0.0005008366846356888]\n",
        "[1.0, 1.0, 1.0, 1.0, 1.0, 1.0, 1.0, 1.0, 0.5, 0.5, 0.5, 0.5, 0.5, 0.5, 0.5, 0.5, 0.5, 0.5, 0.50000000000000011, 0.49999999999999989, 0.50000000000000011, 0.5, 0.5, 0.5, 0.5, 0.49999999999999989, 0.5, 0.49999999999999989, 0.5, 0.50000000000000022, 0.5, 0.5, 0.5, 0.5, 0.5, 0.5, 0.33333333333333331, 0.33333333333333331, 0.33333333333333331, 0.33333333333333326, 0.33333333333333337, 0.33333333333333326, 0.33333333333333331, 0.33333333333333331, 0.33333333333333331, 0.33333333333333331, 0.33333333333333331, 0.33333333333333331, 0.33333333333333331, 0.33333333333333331, 0.33333333333333331, 0.33333333333333331, 0.33333333333333337, 0.33333333333333331, 0.33333333333333337, 0.33333333333333331, 0.33333333333333337, 0.33333333333333337, 0.33333333333333331, 0.33333333333333331, 0.33333333333333331, 0.33333333333333331, 0.33333333333333331, 0.33333333333333331, 0.33333333333333331, 0.33333333333333331, 0.33333333333333343, 0.33333333333333331, 0.33333333333333331, 0.33333333333333331, 0.33333333333333331, 0.33333333333333331, 0.33333333333333337, 0.33333333333333326, 0.33333333333333337, 0.33333333333333331, 0.33333333333333331, 0.33333333333333331, 0.33333333333333331, 0.33333333333333326, 0.33333333333333326, 0.33333333333333331, 0.33333333333333337, 0.33333333333333331, 0.33333333333333331, 0.33333333333333331, 0.33333333333333337, 0.33333333333333331, 0.33333333333333331, 0.33333333333333326, 0.33333333333333331, 0.33333333333333331, 0.25, 0.25, 0.25, 0.25, 0.25, 0.25, 0.25, 0.25, 0.25, 0.25, 0.25, 0.25, 0.25, 0.25, 0.25, 0.25, 0.25, 0.25000000000000006, 0.25, 0.25, 0.25, 0.25, 0.25, 0.25, 0.25, 0.25, 0.25, 0.25, 0.24999999999999994, 0.25, 0.25000000000000006, 0.25, 0.25, 0.25, 0.25, 0.25, 0.25, 0.25, 0.25, 0.25, 0.25, 0.25, 0.25, 0.25, 0.25, 0.25, 0.25, 0.25]\n",
        "[ 0.09326982  0.19946323  0.03039274  0.67687421]"
       ]
      },
      {
       "output_type": "stream",
       "stream": "stdout",
       "text": [
        "\n",
        "[ 0.12666477  0.27119744  0.0470439   0.55509389]"
       ]
      },
      {
       "output_type": "stream",
       "stream": "stdout",
       "text": [
        "\n",
        "[ 0.12453156  0.28435381  0.04298599  0.54812864]"
       ]
      },
      {
       "output_type": "stream",
       "stream": "stdout",
       "text": [
        "\n",
        "[ 0.09116622  0.28231348  0.07735218  0.54916812]"
       ]
      },
      {
       "output_type": "stream",
       "stream": "stdout",
       "text": [
        "\n",
        "[ 0.12053833  0.29820642  0.05114325  0.530112  ]"
       ]
      },
      {
       "output_type": "stream",
       "stream": "stdout",
       "text": [
        "\n",
        "[ 0.11983594  0.26530727  0.06552131  0.54933547]"
       ]
      },
      {
       "output_type": "stream",
       "stream": "stdout",
       "text": [
        "\n",
        "[ 0.12631256  0.28214564  0.05427736  0.53726444]"
       ]
      },
      {
       "output_type": "stream",
       "stream": "stdout",
       "text": [
        "\n",
        "[ 0.11897301  0.28588733  0.06852323  0.52661643]"
       ]
      },
      {
       "output_type": "stream",
       "stream": "stdout",
       "text": [
        "\n",
        "[ 0.14995574  0.24575359  0.05922742  0.54506324]"
       ]
      },
      {
       "output_type": "stream",
       "stream": "stdout",
       "text": [
        "\n",
        "[ 0.11676658  0.25208539  0.07601661  0.55513142]"
       ]
      },
      {
       "output_type": "stream",
       "stream": "stdout",
       "text": [
        "\n",
        "[0.5, 0.5, 0.5, 0.5, 0.5, 0.5, 0.5, 0.5, 0.5, 0.5, 0.5, 0.5, 0.5, 0.5, 0.5, 0.5, 0.5, 0.5, 0.5, 0.5, 0.5, 0.5, 0.5, 0.5, 0.5, 0.5, 0.5, 0.5, 0.5, 0.5, 0.5, 0.5, 0.5, 0.5, 0.5, 0.5, 0.5, 0.5, 0.5, 0.5, 0.5, 0.5, 0.5, 0.5, 0.5, 0.5, 0.5, 0.5, 0.5, 0.5, 0.5, 0.5, 0.5, 0.5, 0.5, 0.5, 0.5, 0.5, 0.5, 0.5, 0.5, 0.5, 0.5, 0.5, 0.5, 0.5, 0.5, 0.5, 0.5, 0.5, 0.5, 0.5, 0.5, 0.5, 0.5, 0.5, 0.5, 0.5, 0.5, 0.5, 0.5, 0.5, 0.5, 0.5, 0.5, 0.5, 0.5, 0.5, 0.5, 0.5, 0.5, 0.5, 0.5, 0.5, 0.5, 0.5, 0.5, 0.5, 0.5, 0.5, 0.5, 0.5, 0.5, 0.5, 0.5, 0.5, 0.5, 0.5, 0.5, 0.5, 0.5, 0.5, 0.5, 0.5, 0.5, 0.5, 0.5, 0.5, 0.5, 0.5, 0.5, 0.5, 0.5, 0.5, 0.5, 0.5, 0.5, 0.5, 0.5, 0.5, 0.5, 0.5, 0.5, 0.5, 0.5, 0.5, 0.5, 0.5, 0.5, 0.5, 0.5]"
       ]
      },
      {
       "output_type": "stream",
       "stream": "stdout",
       "text": [
        "\n",
        "[0.035308450180920395, 0.015900278873051947, 0.027606640458033495, 0.020287811471444019, 0.028085748571213369, 0.035450017068918892, 0.0030537699131523133, 0.018801048240551517, 0.0010101978777581351, 0.00050936119312244637, 0.008238681424071536, 0.0036143352597136787, 0.005607800401233284, 0.0025444087200298623, 0.019754369486924619, 0.008088683576243998, 0.0, 0.0077047868625348317, 0.0065852856156395825, 0.0015393751346797165, 0.005668936813507235, 0.0010016733692713726, 0.0065990598011115165, 0.0050674066527983952, 0.0015393751346797165, 0.0066773510107629745, 0.0015127146704332129, 0.0010033534773107617, 0.0025444087200298623, 0.0015127146704332129, 0.020761540704040373, 0.0010385384500440277, 0.0061854044439900308, 0.0010385384500440277, 0.0076763527928345732, 0.0015393751346797165, 0.0025548226894230226, 0.0010101978777581351, 0.0015393751346797213, 0.0005008366846356888, 0.0015393751346797165, 0.0010101978777581351, 0.0010101978777581351, 0.0010300139415572653, 0.00050936119312244637, 0.0015393751346797165, 0.00050936119312244637, 0.0020220758635556592, 0.0010187223862448975, 0.0025444087200298623, 0.0015127146704332129, 0.0040563311891210398, 0.0010385384500440277, 0.0040760618683429806, 0.00050936119312244637, 0.0025366867336632723, 0.0015393751346797165, 0.0015308506261929541, 0.0050948696391650674, 0.0050810954536931333, 0.0010016733692713726, 0.0041208482133005854, 0.0, 0.0005008366846356888, 0.0015393751346797165, 0.00052917725692158137, 0.0035417203190134224, 0.0010583545138431627, 0.0036045572351535793, 0.0005008366846356888, 0.0046483453621827594, 0.0010300139415572701, 0.0010016733692713726, 0.0015308506261929541, 0.0015393751346797165, 0.0005008366846356888, 0.0060828542075416917, 0.0005008366846356888, 0.0056318827756944041, 0.0005008366846356888, 0.0040985495193418897, 0.0010300139415572701, 0.0020273255405408351, 0.0015393751346797165, 0.0015127146704332129, 0.0010385384500440277, 0.00050936119312245125, 0.0015393751346797165, 0.0, 0.0076763527928345732, 0.0010385384500440277, 0.0010385384500440277, 0.0005008366846356888, 0.0, 0.0005008366846356888, 0.0010101978777581351, 0.0005008366846356888, 0.0005008366846356888, 0.0005008366846356888, 0.0015393751346797165, 0.0005008366846356888, 0.0005008366846356888, 0.0015393751346797165, 0.0010033534773107617, 0.0015393751346797165, 0.0010101978777581351, 0.0015393751346797165, 0.0005008366846356888, 0.0010101978777581351, 0.0015393751346797165, 0.0005008366846356888, 0.0, 0.0010101978777581351, 0.00050936119312244637, 0.0015393751346797165, 0.00050936119312244637, 0.0015393751346797165, 0.0, 0.0015393751346797165, 0.0020220758635556592, 0.0010385384500440277, 0.0015127146704332079, 0.0015393751346797165, 0.00050936119312244637, 0.0030392035263383452, 0.0010101978777581351, 0.00050936119312244637, 0.0015308506261929541, 0.0015308506261929541, 0.0010101978777581351, 0.0010300139415572701, 0.0041070740278286565, 0.0015393751346797165, 0.0041140038128532072, 0.0015393751346797165, 0.0030727937756094129, 0.0015393751346797165, 0.0005008366846356888, 0.0015393751346797165, 0.0005008366846356888, 0.0010101978777581351]\n",
        "[1.0, 1.0, 1.0, 1.0, 1.0, 1.0, 1.0, 1.0, 0.5, 0.5, 0.5, 0.5, 0.5, 0.5, 0.5, 0.5, 0.5, 0.5, 0.50000000000000011, 0.49999999999999989, 0.50000000000000011, 0.5, 0.5, 0.5, 0.5, 0.49999999999999989, 0.5, 0.49999999999999989, 0.5, 0.50000000000000022, 0.5, 0.5, 0.5, 0.5, 0.5, 0.5, 0.33333333333333331, 0.33333333333333331, 0.33333333333333331, 0.33333333333333326, 0.33333333333333337, 0.33333333333333326, 0.33333333333333331, 0.33333333333333331, 0.33333333333333331, 0.33333333333333331, 0.33333333333333331, 0.33333333333333331, 0.33333333333333331, 0.33333333333333331, 0.33333333333333331, 0.33333333333333331, 0.33333333333333337, 0.33333333333333331, 0.33333333333333337, 0.33333333333333331, 0.33333333333333337, 0.33333333333333337, 0.33333333333333331, 0.33333333333333331, 0.33333333333333331, 0.33333333333333331, 0.33333333333333331, 0.33333333333333331, 0.33333333333333331, 0.33333333333333331, 0.33333333333333343, 0.33333333333333331, 0.33333333333333331, 0.33333333333333331, 0.33333333333333331, 0.33333333333333331, 0.33333333333333337, 0.33333333333333326, 0.33333333333333337, 0.33333333333333331, 0.33333333333333331, 0.33333333333333331, 0.33333333333333331, 0.33333333333333326, 0.33333333333333326, 0.33333333333333331, 0.33333333333333337, 0.33333333333333331, 0.33333333333333331, 0.33333333333333331, 0.33333333333333337, 0.33333333333333331, 0.33333333333333331, 0.33333333333333326, 0.33333333333333331, 0.33333333333333331, 0.25, 0.25, 0.25, 0.25, 0.25, 0.25, 0.25, 0.25, 0.25, 0.25, 0.25, 0.25, 0.25, 0.25, 0.25, 0.25, 0.25, 0.25000000000000006, 0.25, 0.25, 0.25, 0.25, 0.25, 0.25, 0.25, 0.25, 0.25, 0.25, 0.24999999999999994, 0.25, 0.25000000000000006, 0.25, 0.25, 0.25, 0.25, 0.25, 0.25, 0.25, 0.25, 0.25, 0.25, 0.25, 0.25, 0.25, 0.25, 0.25, 0.25, 0.25, 0.25]\n",
        "[ 0.26284847  0.57003004  0.10668688  0.06043461]"
       ]
      },
      {
       "output_type": "stream",
       "stream": "stdout",
       "text": [
        "\n",
        "[ 0.2040831   0.54891072  0.15353118  0.093475  ]"
       ]
      },
      {
       "output_type": "stream",
       "stream": "stdout",
       "text": [
        "\n",
        "[ 0.19290829  0.58416905  0.15156094  0.07136171]"
       ]
      },
      {
       "output_type": "stream",
       "stream": "stdout",
       "text": [
        "\n",
        "[ 0.22782423  0.56542244  0.11860518  0.08814816]"
       ]
      },
      {
       "output_type": "stream",
       "stream": "stdout",
       "text": [
        "\n",
        "[ 0.21628719  0.56625033  0.13574919  0.08171329]"
       ]
      },
      {
       "output_type": "stream",
       "stream": "stdout",
       "text": [
        "\n",
        "[ 0.23441807  0.56760225  0.10653278  0.0914469 ]"
       ]
      },
      {
       "output_type": "stream",
       "stream": "stdout",
       "text": [
        "\n",
        "[ 0.20800889  0.58282865  0.12783248  0.08132998]"
       ]
      },
      {
       "output_type": "stream",
       "stream": "stdout",
       "text": [
        "\n",
        "[ 0.18333913  0.5941876   0.14808348  0.07438979]"
       ]
      },
      {
       "output_type": "stream",
       "stream": "stdout",
       "text": [
        "\n",
        "[ 0.22577094  0.52694126  0.14144599  0.10584181]"
       ]
      },
      {
       "output_type": "stream",
       "stream": "stdout",
       "text": [
        "\n",
        "[ 0.19703865  0.54345903  0.16690723  0.09259509]"
       ]
      },
      {
       "output_type": "stream",
       "stream": "stdout",
       "text": [
        "\n",
        "[0.5, 0.5, 0.5, 0.5, 0.5, 0.5, 0.5, 0.5, 0.5, 0.5, 0.5, 0.5, 0.5, 0.5, 0.5, 0.5, 0.5, 0.5, 0.5, 0.5, 0.5, 0.5, 0.5, 0.5, 0.5, 0.5, 0.5, 0.5, 0.5, 0.5, 0.5, 0.5, 0.5, 0.5, 0.5, 0.5, 0.5, 0.5, 0.5, 0.5, 0.5, 0.5, 0.5, 0.5, 0.5, 0.5, 0.5, 0.5, 0.5, 0.5, 0.5, 0.5, 0.5, 0.5, 0.5, 0.5, 0.5, 0.5, 0.5, 0.5, 0.5, 0.5, 0.5, 0.5, 0.5, 0.5, 0.5, 0.5, 0.5, 0.5, 0.5, 0.5, 0.5, 0.5, 0.5, 0.5, 0.5, 0.5, 0.5, 0.5, 0.5, 0.5, 0.5, 0.5, 0.5, 0.5, 0.5, 0.5, 0.5, 0.5, 0.5, 0.5, 0.5, 0.5, 0.5, 0.5, 0.5, 0.5, 0.5, 0.5, 0.5, 0.5, 0.5, 0.5, 0.5, 0.5, 0.5, 0.5, 0.5, 0.5, 0.5, 0.5, 0.5, 0.5, 0.5, 0.5, 0.5, 0.5, 0.5, 0.5, 0.5, 0.5, 0.5, 0.5, 0.5, 0.5, 0.5, 0.5, 0.5, 0.5, 0.5, 0.5, 0.5, 0.5, 0.5, 0.5, 0.5, 0.5, 0.5, 0.5, 0.5, 0.5]"
       ]
      },
      {
       "output_type": "stream",
       "stream": "stdout",
       "text": [
        "\n",
        "[0.035308450180920395, 0.015900278873051947, 0.027606640458033495, 0.020287811471444019, 0.028085748571213369, 0.035450017068918892, 0.0030537699131523133, 0.018801048240551517, 0.0010101978777581351, 0.00050936119312244637, 0.008238681424071536, 0.0036143352597136787, 0.005607800401233284, 0.0025444087200298623, 0.019754369486924619, 0.008088683576243998, 0.0, 0.0077047868625348317, 0.0065852856156395825, 0.0015393751346797165, 0.005668936813507235, 0.0010016733692713726, 0.0065990598011115165, 0.0050674066527983952, 0.0015393751346797165, 0.0066773510107629745, 0.0015127146704332129, 0.0010033534773107617, 0.0025444087200298623, 0.0015127146704332129, 0.020761540704040373, 0.0010385384500440277, 0.0061854044439900308, 0.0010385384500440277, 0.0076763527928345732, 0.0015393751346797165, 0.0025548226894230226, 0.0010101978777581351, 0.0015393751346797213, 0.0005008366846356888, 0.0015393751346797165, 0.0010101978777581351, 0.0010101978777581351, 0.0010300139415572653, 0.00050936119312244637, 0.0015393751346797165, 0.00050936119312244637, 0.0020220758635556592, 0.0010187223862448975, 0.0025444087200298623, 0.0015127146704332129, 0.0040563311891210398, 0.0010385384500440277, 0.0040760618683429806, 0.00050936119312244637, 0.0025366867336632723, 0.0015393751346797165, 0.0015308506261929541, 0.0050948696391650674, 0.0050810954536931333, 0.0010016733692713726, 0.0041208482133005854, 0.0, 0.0005008366846356888, 0.0015393751346797165, 0.00052917725692158137, 0.0035417203190134224, 0.0010583545138431627, 0.0036045572351535793, 0.0005008366846356888, 0.0046483453621827594, 0.0010300139415572701, 0.0010016733692713726, 0.0015308506261929541, 0.0015393751346797165, 0.0005008366846356888, 0.0060828542075416917, 0.0005008366846356888, 0.0056318827756944041, 0.0005008366846356888, 0.0040985495193418897, 0.0010300139415572701, 0.0020273255405408351, 0.0015393751346797165, 0.0015127146704332129, 0.0010385384500440277, 0.00050936119312245125, 0.0015393751346797165, 0.0, 0.0076763527928345732, 0.0010385384500440277, 0.0010385384500440277, 0.0005008366846356888, 0.0, 0.0005008366846356888, 0.0010101978777581351, 0.0005008366846356888, 0.0005008366846356888, 0.0005008366846356888, 0.0015393751346797165, 0.0005008366846356888, 0.0005008366846356888, 0.0015393751346797165, 0.0010033534773107617, 0.0015393751346797165, 0.0010101978777581351, 0.0015393751346797165, 0.0005008366846356888, 0.0010101978777581351, 0.0015393751346797165, 0.0005008366846356888, 0.0, 0.0010101978777581351, 0.00050936119312244637, 0.0015393751346797165, 0.00050936119312244637, 0.0015393751346797165, 0.0, 0.0015393751346797165, 0.0020220758635556592, 0.0010385384500440277, 0.0015127146704332079, 0.0015393751346797165, 0.00050936119312244637, 0.0030392035263383452, 0.0010101978777581351, 0.00050936119312244637, 0.0015308506261929541, 0.0015308506261929541, 0.0010101978777581351, 0.0010300139415572701, 0.0041070740278286565, 0.0015393751346797165, 0.0041140038128532072, 0.0015393751346797165, 0.0030727937756094129, 0.0015393751346797165, 0.0005008366846356888, 0.0015393751346797165, 0.0005008366846356888, 0.0010101978777581351, 0.0005008366846356888]\n",
        "[1.0, 1.0, 1.0, 1.0, 1.0, 1.0, 1.0, 1.0, 0.5, 0.5, 0.5, 0.5, 0.5, 0.5, 0.5, 0.5, 0.5, 0.5, 0.50000000000000011, 0.49999999999999989, 0.50000000000000011, 0.5, 0.5, 0.5, 0.5, 0.49999999999999989, 0.5, 0.49999999999999989, 0.5, 0.50000000000000022, 0.5, 0.5, 0.5, 0.5, 0.5, 0.5, 0.33333333333333331, 0.33333333333333331, 0.33333333333333331, 0.33333333333333326, 0.33333333333333337, 0.33333333333333326, 0.33333333333333331, 0.33333333333333331, 0.33333333333333331, 0.33333333333333331, 0.33333333333333331, 0.33333333333333331, 0.33333333333333331, 0.33333333333333331, 0.33333333333333331, 0.33333333333333331, 0.33333333333333337, 0.33333333333333331, 0.33333333333333337, 0.33333333333333331, 0.33333333333333337, 0.33333333333333337, 0.33333333333333331, 0.33333333333333331, 0.33333333333333331, 0.33333333333333331, 0.33333333333333331, 0.33333333333333331, 0.33333333333333331, 0.33333333333333331, 0.33333333333333343, 0.33333333333333331, 0.33333333333333331, 0.33333333333333331, 0.33333333333333331, 0.33333333333333331, 0.33333333333333337, 0.33333333333333326, 0.33333333333333337, 0.33333333333333331, 0.33333333333333331, 0.33333333333333331, 0.33333333333333331, 0.33333333333333326, 0.33333333333333326, 0.33333333333333331, 0.33333333333333337, 0.33333333333333331, 0.33333333333333331, 0.33333333333333331, 0.33333333333333337, 0.33333333333333331, 0.33333333333333331, 0.33333333333333326, 0.33333333333333331, 0.33333333333333331, 0.25, 0.25, 0.25, 0.25, 0.25, 0.25, 0.25, 0.25, 0.25, 0.25, 0.25, 0.25, 0.25, 0.25, 0.25, 0.25, 0.25, 0.25000000000000006, 0.25, 0.25, 0.25, 0.25, 0.25, 0.25, 0.25, 0.25, 0.25, 0.25, 0.24999999999999994, 0.25, 0.25000000000000006, 0.25, 0.25, 0.25, 0.25, 0.25, 0.25, 0.25, 0.25, 0.25, 0.25, 0.25, 0.25, 0.25, 0.25, 0.25, 0.25, 0.25, 0.25, 0.25]\n",
        "[ 0.13527517  0.26192337  0.56939648  0.03340498]"
       ]
      },
      {
       "output_type": "stream",
       "stream": "stdout",
       "text": [
        "\n",
        "[ 0.1311819   0.2855993   0.54023966  0.04297915]"
       ]
      },
      {
       "output_type": "stream",
       "stream": "stdout",
       "text": [
        "\n",
        "[ 0.1486879   0.24217235  0.57557732  0.03356244]"
       ]
      },
      {
       "output_type": "stream",
       "stream": "stdout",
       "text": [
        "\n",
        "[ 0.13066146  0.24640552  0.5811743   0.04175871]"
       ]
      },
      {
       "output_type": "stream",
       "stream": "stdout",
       "text": [
        "\n",
        "[ 0.14898725  0.25274824  0.55450501  0.0437595 ]"
       ]
      },
      {
       "output_type": "stream",
       "stream": "stdout",
       "text": [
        "\n",
        "[ 0.15160058  0.24515527  0.56597099  0.03727316]"
       ]
      },
      {
       "output_type": "stream",
       "stream": "stdout",
       "text": [
        "\n",
        "[ 0.13485888  0.27413376  0.55601058  0.03499679]"
       ]
      },
      {
       "output_type": "stream",
       "stream": "stdout",
       "text": [
        "\n",
        "[ 0.14802082  0.29554591  0.50058299  0.05585028]"
       ]
      },
      {
       "output_type": "stream",
       "stream": "stdout",
       "text": [
        "\n",
        "[ 0.14464264  0.28220926  0.53365536  0.03949274]"
       ]
      },
      {
       "output_type": "stream",
       "stream": "stdout",
       "text": [
        "\n",
        "[ 0.17877318  0.25632167  0.53289419  0.03201095]"
       ]
      },
      {
       "output_type": "stream",
       "stream": "stdout",
       "text": [
        "\n",
        "[0.5, 0.5, 0.5, 0.5, 0.5, 0.5, 0.5, 0.5, 0.5, 0.5, 0.5, 0.5, 0.5, 0.5, 0.5, 0.5, 0.5, 0.5, 0.5, 0.5, 0.5, 0.5, 0.5, 0.5, 0.5, 0.5, 0.5, 0.5, 0.5, 0.5, 0.5, 0.5, 0.5, 0.5, 0.5, 0.5, 0.5, 0.5, 0.5, 0.5, 0.5, 0.5, 0.5, 0.5, 0.5, 0.5, 0.5, 0.5, 0.5, 0.5, 0.5, 0.5, 0.5, 0.5, 0.5, 0.5, 0.5, 0.5, 0.5, 0.5, 0.5, 0.5, 0.5, 0.5, 0.5, 0.5, 0.5, 0.5, 0.5, 0.5, 0.5, 0.5, 0.5, 0.5, 0.5, 0.5, 0.5, 0.5, 0.5, 0.5, 0.5, 0.5, 0.5, 0.5, 0.5, 0.5, 0.5, 0.5, 0.5, 0.5, 0.5, 0.5, 0.5, 0.5, 0.5, 0.5, 0.5, 0.5, 0.5, 0.5, 0.5, 0.5, 0.5, 0.5, 0.5, 0.5, 0.5, 0.5, 0.5, 0.5, 0.5, 0.5, 0.5, 0.5, 0.5, 0.5, 0.5, 0.5, 0.5, 0.5, 0.5, 0.5, 0.5, 0.5, 0.5, 0.5, 0.5, 0.5, 0.5, 0.5, 0.5, 0.5, 0.5, 0.5, 0.5, 0.5, 0.5, 0.5, 0.5, 0.5, 0.5, 0.5, 0.5]"
       ]
      },
      {
       "output_type": "stream",
       "stream": "stdout",
       "text": [
        "\n",
        "[0.035308450180920395, 0.015900278873051947, 0.027606640458033495, 0.020287811471444019, 0.028085748571213369, 0.035450017068918892, 0.0030537699131523133, 0.018801048240551517, 0.0010101978777581351, 0.00050936119312244637, 0.008238681424071536, 0.0036143352597136787, 0.005607800401233284, 0.0025444087200298623, 0.019754369486924619, 0.008088683576243998, 0.0, 0.0077047868625348317, 0.0065852856156395825, 0.0015393751346797165, 0.005668936813507235, 0.0010016733692713726, 0.0065990598011115165, 0.0050674066527983952, 0.0015393751346797165, 0.0066773510107629745, 0.0015127146704332129, 0.0010033534773107617, 0.0025444087200298623, 0.0015127146704332129, 0.020761540704040373, 0.0010385384500440277, 0.0061854044439900308, 0.0010385384500440277, 0.0076763527928345732, 0.0015393751346797165, 0.0025548226894230226, 0.0010101978777581351, 0.0015393751346797213, 0.0005008366846356888, 0.0015393751346797165, 0.0010101978777581351, 0.0010101978777581351, 0.0010300139415572653, 0.00050936119312244637, 0.0015393751346797165, 0.00050936119312244637, 0.0020220758635556592, 0.0010187223862448975, 0.0025444087200298623, 0.0015127146704332129, 0.0040563311891210398, 0.0010385384500440277, 0.0040760618683429806, 0.00050936119312244637, 0.0025366867336632723, 0.0015393751346797165, 0.0015308506261929541, 0.0050948696391650674, 0.0050810954536931333, 0.0010016733692713726, 0.0041208482133005854, 0.0, 0.0005008366846356888, 0.0015393751346797165, 0.00052917725692158137, 0.0035417203190134224, 0.0010583545138431627, 0.0036045572351535793, 0.0005008366846356888, 0.0046483453621827594, 0.0010300139415572701, 0.0010016733692713726, 0.0015308506261929541, 0.0015393751346797165, 0.0005008366846356888, 0.0060828542075416917, 0.0005008366846356888, 0.0056318827756944041, 0.0005008366846356888, 0.0040985495193418897, 0.0010300139415572701, 0.0020273255405408351, 0.0015393751346797165, 0.0015127146704332129, 0.0010385384500440277, 0.00050936119312245125, 0.0015393751346797165, 0.0, 0.0076763527928345732, 0.0010385384500440277, 0.0010385384500440277, 0.0005008366846356888, 0.0, 0.0005008366846356888, 0.0010101978777581351, 0.0005008366846356888, 0.0005008366846356888, 0.0005008366846356888, 0.0015393751346797165, 0.0005008366846356888, 0.0005008366846356888, 0.0015393751346797165, 0.0010033534773107617, 0.0015393751346797165, 0.0010101978777581351, 0.0015393751346797165, 0.0005008366846356888, 0.0010101978777581351, 0.0015393751346797165, 0.0005008366846356888, 0.0, 0.0010101978777581351, 0.00050936119312244637, 0.0015393751346797165, 0.00050936119312244637, 0.0015393751346797165, 0.0, 0.0015393751346797165, 0.0020220758635556592, 0.0010385384500440277, 0.0015127146704332079, 0.0015393751346797165, 0.00050936119312244637, 0.0030392035263383452, 0.0010101978777581351, 0.00050936119312244637, 0.0015308506261929541, 0.0015308506261929541, 0.0010101978777581351, 0.0010300139415572701, 0.0041070740278286565, 0.0015393751346797165, 0.0041140038128532072, 0.0015393751346797165, 0.0030727937756094129, 0.0015393751346797165, 0.0005008366846356888, 0.0015393751346797165, 0.0005008366846356888, 0.0010101978777581351, 0.0005008366846356888, 0.0015393751346797165]\n",
        "[1.0, 1.0, 1.0, 1.0, 1.0, 1.0, 1.0, 1.0, 0.5, 0.5, 0.5, 0.5, 0.5, 0.5, 0.5, 0.5, 0.5, 0.5, 0.50000000000000011, 0.49999999999999989, 0.50000000000000011, 0.5, 0.5, 0.5, 0.5, 0.49999999999999989, 0.5, 0.49999999999999989, 0.5, 0.50000000000000022, 0.5, 0.5, 0.5, 0.5, 0.5, 0.5, 0.33333333333333331, 0.33333333333333331, 0.33333333333333331, 0.33333333333333326, 0.33333333333333337, 0.33333333333333326, 0.33333333333333331, 0.33333333333333331, 0.33333333333333331, 0.33333333333333331, 0.33333333333333331, 0.33333333333333331, 0.33333333333333331, 0.33333333333333331, 0.33333333333333331, 0.33333333333333331, 0.33333333333333337, 0.33333333333333331, 0.33333333333333337, 0.33333333333333331, 0.33333333333333337, 0.33333333333333337, 0.33333333333333331, 0.33333333333333331, 0.33333333333333331, 0.33333333333333331, 0.33333333333333331, 0.33333333333333331, 0.33333333333333331, 0.33333333333333331, 0.33333333333333343, 0.33333333333333331, 0.33333333333333331, 0.33333333333333331, 0.33333333333333331, 0.33333333333333331, 0.33333333333333337, 0.33333333333333326, 0.33333333333333337, 0.33333333333333331, 0.33333333333333331, 0.33333333333333331, 0.33333333333333331, 0.33333333333333326, 0.33333333333333326, 0.33333333333333331, 0.33333333333333337, 0.33333333333333331, 0.33333333333333331, 0.33333333333333331, 0.33333333333333337, 0.33333333333333331, 0.33333333333333331, 0.33333333333333326, 0.33333333333333331, 0.33333333333333331, 0.25, 0.25, 0.25, 0.25, 0.25, 0.25, 0.25, 0.25, 0.25, 0.25, 0.25, 0.25, 0.25, 0.25, 0.25, 0.25, 0.25, 0.25000000000000006, 0.25, 0.25, 0.25, 0.25, 0.25, 0.25, 0.25, 0.25, 0.25, 0.25, 0.24999999999999994, 0.25, 0.25000000000000006, 0.25, 0.25, 0.25, 0.25, 0.25, 0.25, 0.25, 0.25, 0.25, 0.25, 0.25, 0.25, 0.25, 0.25, 0.25, 0.25, 0.25, 0.25, 0.25, 0.25]\n",
        "[ 0.19361079  0.06444055  0.04275919  0.69918946]"
       ]
      },
      {
       "output_type": "stream",
       "stream": "stdout",
       "text": [
        "\n",
        "[ 0.19688509  0.06420709  0.07845375  0.66045406]"
       ]
      },
      {
       "output_type": "stream",
       "stream": "stdout",
       "text": [
        "\n",
        "[ 0.18094578  0.07508565  0.05808512  0.68588345]"
       ]
      },
      {
       "output_type": "stream",
       "stream": "stdout",
       "text": [
        "\n",
        "[ 0.17253449  0.06841471  0.06231963  0.69673116]"
       ]
      },
      {
       "output_type": "stream",
       "stream": "stdout",
       "text": [
        "\n",
        "[ 0.15578942  0.06864049  0.07190265  0.70366744]"
       ]
      },
      {
       "output_type": "stream",
       "stream": "stdout",
       "text": [
        "\n",
        "[ 0.13964599  0.07135318  0.07204406  0.71695676]"
       ]
      },
      {
       "output_type": "stream",
       "stream": "stdout",
       "text": [
        "\n",
        "[ 0.17847912  0.06612949  0.07434172  0.68104967]"
       ]
      },
      {
       "output_type": "stream",
       "stream": "stdout",
       "text": [
        "\n",
        "[ 0.16566077  0.07575823  0.07408286  0.68449814]"
       ]
      },
      {
       "output_type": "stream",
       "stream": "stdout",
       "text": [
        "\n",
        "[ 0.16105947  0.05171161  0.08365377  0.70357515]"
       ]
      },
      {
       "output_type": "stream",
       "stream": "stdout",
       "text": [
        "\n",
        "[ 0.15157098  0.06815182  0.06730076  0.71297644]"
       ]
      },
      {
       "output_type": "stream",
       "stream": "stdout",
       "text": [
        "\n",
        "[0.5, 0.5, 0.5, 0.5, 0.5, 0.5, 0.5, 0.5, 0.5, 0.5, 0.5, 0.5, 0.5, 0.5, 0.5, 0.5, 0.5, 0.5, 0.5, 0.5, 0.5, 0.5, 0.5, 0.5, 0.5, 0.5, 0.5, 0.5, 0.5, 0.5, 0.5, 0.5, 0.5, 0.5, 0.5, 0.5, 0.5, 0.5, 0.5, 0.5, 0.5, 0.5, 0.5, 0.5, 0.5, 0.5, 0.5, 0.5, 0.5, 0.5, 0.5, 0.5, 0.5, 0.5, 0.5, 0.5, 0.5, 0.5, 0.5, 0.5, 0.5, 0.5, 0.5, 0.5, 0.5, 0.5, 0.5, 0.5, 0.5, 0.5, 0.5, 0.5, 0.5, 0.5, 0.5, 0.5, 0.5, 0.5, 0.5, 0.5, 0.5, 0.5, 0.5, 0.5, 0.5, 0.5, 0.5, 0.5, 0.5, 0.5, 0.5, 0.5, 0.5, 0.5, 0.5, 0.5, 0.5, 0.5, 0.5, 0.5, 0.5, 0.5, 0.5, 0.5, 0.5, 0.5, 0.5, 0.5, 0.5, 0.5, 0.5, 0.5, 0.5, 0.5, 0.5, 0.5, 0.5, 0.5, 0.5, 0.5, 0.5, 0.5, 0.5, 0.5, 0.5, 0.5, 0.5, 0.5, 0.5, 0.5, 0.5, 0.5, 0.5, 0.5, 0.5, 0.5, 0.5, 0.5, 0.5, 0.5, 0.5, 0.5, 0.5, 0.5]"
       ]
      },
      {
       "output_type": "stream",
       "stream": "stdout",
       "text": [
        "\n",
        "[0.035308450180920395, 0.015900278873051947, 0.027606640458033495, 0.020287811471444019, 0.028085748571213369, 0.035450017068918892, 0.0030537699131523133, 0.018801048240551517, 0.0010101978777581351, 0.00050936119312244637, 0.008238681424071536, 0.0036143352597136787, 0.005607800401233284, 0.0025444087200298623, 0.019754369486924619, 0.008088683576243998, 0.0, 0.0077047868625348317, 0.0065852856156395825, 0.0015393751346797165, 0.005668936813507235, 0.0010016733692713726, 0.0065990598011115165, 0.0050674066527983952, 0.0015393751346797165, 0.0066773510107629745, 0.0015127146704332129, 0.0010033534773107617, 0.0025444087200298623, 0.0015127146704332129, 0.020761540704040373, 0.0010385384500440277, 0.0061854044439900308, 0.0010385384500440277, 0.0076763527928345732, 0.0015393751346797165, 0.0025548226894230226, 0.0010101978777581351, 0.0015393751346797213, 0.0005008366846356888, 0.0015393751346797165, 0.0010101978777581351, 0.0010101978777581351, 0.0010300139415572653, 0.00050936119312244637, 0.0015393751346797165, 0.00050936119312244637, 0.0020220758635556592, 0.0010187223862448975, 0.0025444087200298623, 0.0015127146704332129, 0.0040563311891210398, 0.0010385384500440277, 0.0040760618683429806, 0.00050936119312244637, 0.0025366867336632723, 0.0015393751346797165, 0.0015308506261929541, 0.0050948696391650674, 0.0050810954536931333, 0.0010016733692713726, 0.0041208482133005854, 0.0, 0.0005008366846356888, 0.0015393751346797165, 0.00052917725692158137, 0.0035417203190134224, 0.0010583545138431627, 0.0036045572351535793, 0.0005008366846356888, 0.0046483453621827594, 0.0010300139415572701, 0.0010016733692713726, 0.0015308506261929541, 0.0015393751346797165, 0.0005008366846356888, 0.0060828542075416917, 0.0005008366846356888, 0.0056318827756944041, 0.0005008366846356888, 0.0040985495193418897, 0.0010300139415572701, 0.0020273255405408351, 0.0015393751346797165, 0.0015127146704332129, 0.0010385384500440277, 0.00050936119312245125, 0.0015393751346797165, 0.0, 0.0076763527928345732, 0.0010385384500440277, 0.0010385384500440277, 0.0005008366846356888, 0.0, 0.0005008366846356888, 0.0010101978777581351, 0.0005008366846356888, 0.0005008366846356888, 0.0005008366846356888, 0.0015393751346797165, 0.0005008366846356888, 0.0005008366846356888, 0.0015393751346797165, 0.0010033534773107617, 0.0015393751346797165, 0.0010101978777581351, 0.0015393751346797165, 0.0005008366846356888, 0.0010101978777581351, 0.0015393751346797165, 0.0005008366846356888, 0.0, 0.0010101978777581351, 0.00050936119312244637, 0.0015393751346797165, 0.00050936119312244637, 0.0015393751346797165, 0.0, 0.0015393751346797165, 0.0020220758635556592, 0.0010385384500440277, 0.0015127146704332079, 0.0015393751346797165, 0.00050936119312244637, 0.0030392035263383452, 0.0010101978777581351, 0.00050936119312244637, 0.0015308506261929541, 0.0015308506261929541, 0.0010101978777581351, 0.0010300139415572701, 0.0041070740278286565, 0.0015393751346797165, 0.0041140038128532072, 0.0015393751346797165, 0.0030727937756094129, 0.0015393751346797165, 0.0005008366846356888, 0.0015393751346797165, 0.0005008366846356888, 0.0010101978777581351, 0.0005008366846356888, 0.0015393751346797165, 0.0015393751346797165]\n",
        "[1.0, 1.0, 1.0, 1.0, 1.0, 1.0, 1.0, 1.0, 0.5, 0.5, 0.5, 0.5, 0.5, 0.5, 0.5, 0.5, 0.5, 0.5, 0.50000000000000011, 0.49999999999999989, 0.50000000000000011, 0.5, 0.5, 0.5, 0.5, 0.49999999999999989, 0.5, 0.49999999999999989, 0.5, 0.50000000000000022, 0.5, 0.5, 0.5, 0.5, 0.5, 0.5, 0.33333333333333331, 0.33333333333333331, 0.33333333333333331, 0.33333333333333326, 0.33333333333333337, 0.33333333333333326, 0.33333333333333331, 0.33333333333333331, 0.33333333333333331, 0.33333333333333331, 0.33333333333333331, 0.33333333333333331, 0.33333333333333331, 0.33333333333333331, 0.33333333333333331, 0.33333333333333331, 0.33333333333333337, 0.33333333333333331, 0.33333333333333337, 0.33333333333333331, 0.33333333333333337, 0.33333333333333337, 0.33333333333333331, 0.33333333333333331, 0.33333333333333331, 0.33333333333333331, 0.33333333333333331, 0.33333333333333331, 0.33333333333333331, 0.33333333333333331, 0.33333333333333343, 0.33333333333333331, 0.33333333333333331, 0.33333333333333331, 0.33333333333333331, 0.33333333333333331, 0.33333333333333337, 0.33333333333333326, 0.33333333333333337, 0.33333333333333331, 0.33333333333333331, 0.33333333333333331, 0.33333333333333331, 0.33333333333333326, 0.33333333333333326, 0.33333333333333331, 0.33333333333333337, 0.33333333333333331, 0.33333333333333331, 0.33333333333333331, 0.33333333333333337, 0.33333333333333331, 0.33333333333333331, 0.33333333333333326, 0.33333333333333331, 0.33333333333333331, 0.25, 0.25, 0.25, 0.25, 0.25, 0.25, 0.25, 0.25, 0.25, 0.25, 0.25, 0.25, 0.25, 0.25, 0.25, 0.25, 0.25, 0.25000000000000006, 0.25, 0.25, 0.25, 0.25, 0.25, 0.25, 0.25, 0.25, 0.25, 0.25, 0.24999999999999994, 0.25, 0.25000000000000006, 0.25, 0.25, 0.25, 0.25, 0.25, 0.25, 0.25, 0.25, 0.25, 0.25, 0.25, 0.25, 0.25, 0.25, 0.25, 0.25, 0.25, 0.25, 0.25, 0.25, 0.25]\n",
        "[ 0.38195452  0.20877376  0.14053802  0.2687337 ]"
       ]
      },
      {
       "output_type": "stream",
       "stream": "stdout",
       "text": [
        "\n",
        "[ 0.33773816  0.20185463  0.20226453  0.25814268]"
       ]
      },
      {
       "output_type": "stream",
       "stream": "stdout",
       "text": [
        "\n",
        "[ 0.33548566  0.19081289  0.17501428  0.29868717]"
       ]
      },
      {
       "output_type": "stream",
       "stream": "stdout",
       "text": [
        "\n",
        "[ 0.36981892  0.17519447  0.17886259  0.27612403]"
       ]
      },
      {
       "output_type": "stream",
       "stream": "stdout",
       "text": [
        "\n",
        "[ 0.32522931  0.20703395  0.20853641  0.25920034]"
       ]
      },
      {
       "output_type": "stream",
       "stream": "stdout",
       "text": [
        "\n",
        "[ 0.34106634  0.20618264  0.1814721   0.27127891]"
       ]
      },
      {
       "output_type": "stream",
       "stream": "stdout",
       "text": [
        "\n",
        "[ 0.36767081  0.17847167  0.16830123  0.28555628]"
       ]
      },
      {
       "output_type": "stream",
       "stream": "stdout",
       "text": [
        "\n",
        "[ 0.33227512  0.1752841   0.20344584  0.28899494]"
       ]
      },
      {
       "output_type": "stream",
       "stream": "stdout",
       "text": [
        "\n",
        "[ 0.33210748  0.19304018  0.19484633  0.28000601]"
       ]
      },
      {
       "output_type": "stream",
       "stream": "stdout",
       "text": [
        "\n",
        "[ 0.36455891  0.19364481  0.16875248  0.2730438 ]"
       ]
      },
      {
       "output_type": "stream",
       "stream": "stdout",
       "text": [
        "\n",
        "[0.5, 0.5, 0.5, 0.5, 0.5, 0.5, 0.5, 0.5, 0.5, 0.5, 0.5, 0.5, 0.5, 0.5, 0.5, 0.5, 0.5, 0.5, 0.5, 0.5, 0.5, 0.5, 0.5, 0.5, 0.5, 0.5, 0.5, 0.5, 0.5, 0.5, 0.5, 0.5, 0.5, 0.5, 0.5, 0.5, 0.5, 0.5, 0.5, 0.5, 0.5, 0.5, 0.5, 0.5, 0.5, 0.5, 0.5, 0.5, 0.5, 0.5, 0.5, 0.5, 0.5, 0.5, 0.5, 0.5, 0.5, 0.5, 0.5, 0.5, 0.5, 0.5, 0.5, 0.5, 0.5, 0.5, 0.5, 0.5, 0.5, 0.5, 0.5, 0.5, 0.5, 0.5, 0.5, 0.5, 0.5, 0.5, 0.5, 0.5, 0.5, 0.5, 0.5, 0.5, 0.5, 0.5, 0.5, 0.5, 0.5, 0.5, 0.5, 0.5, 0.5, 0.5, 0.5, 0.5, 0.5, 0.5, 0.5, 0.5, 0.5, 0.5, 0.5, 0.5, 0.5, 0.5, 0.5, 0.5, 0.5, 0.5, 0.5, 0.5, 0.5, 0.5, 0.5, 0.5, 0.5, 0.5, 0.5, 0.5, 0.5, 0.5, 0.5, 0.5, 0.5, 0.5, 0.5, 0.5, 0.5, 0.5, 0.5, 0.5, 0.5, 0.5, 0.5, 0.5, 0.5, 0.5, 0.5, 0.5, 0.5, 0.5, 0.5, 0.5, 0.5]"
       ]
      },
      {
       "output_type": "stream",
       "stream": "stdout",
       "text": [
        "\n",
        "[0.035308450180920395, 0.015900278873051947, 0.027606640458033495, 0.020287811471444019, 0.028085748571213369, 0.035450017068918892, 0.0030537699131523133, 0.018801048240551517, 0.0010101978777581351, 0.00050936119312244637, 0.008238681424071536, 0.0036143352597136787, 0.005607800401233284, 0.0025444087200298623, 0.019754369486924619, 0.008088683576243998, 0.0, 0.0077047868625348317, 0.0065852856156395825, 0.0015393751346797165, 0.005668936813507235, 0.0010016733692713726, 0.0065990598011115165, 0.0050674066527983952, 0.0015393751346797165, 0.0066773510107629745, 0.0015127146704332129, 0.0010033534773107617, 0.0025444087200298623, 0.0015127146704332129, 0.020761540704040373, 0.0010385384500440277, 0.0061854044439900308, 0.0010385384500440277, 0.0076763527928345732, 0.0015393751346797165, 0.0025548226894230226, 0.0010101978777581351, 0.0015393751346797213, 0.0005008366846356888, 0.0015393751346797165, 0.0010101978777581351, 0.0010101978777581351, 0.0010300139415572653, 0.00050936119312244637, 0.0015393751346797165, 0.00050936119312244637, 0.0020220758635556592, 0.0010187223862448975, 0.0025444087200298623, 0.0015127146704332129, 0.0040563311891210398, 0.0010385384500440277, 0.0040760618683429806, 0.00050936119312244637, 0.0025366867336632723, 0.0015393751346797165, 0.0015308506261929541, 0.0050948696391650674, 0.0050810954536931333, 0.0010016733692713726, 0.0041208482133005854, 0.0, 0.0005008366846356888, 0.0015393751346797165, 0.00052917725692158137, 0.0035417203190134224, 0.0010583545138431627, 0.0036045572351535793, 0.0005008366846356888, 0.0046483453621827594, 0.0010300139415572701, 0.0010016733692713726, 0.0015308506261929541, 0.0015393751346797165, 0.0005008366846356888, 0.0060828542075416917, 0.0005008366846356888, 0.0056318827756944041, 0.0005008366846356888, 0.0040985495193418897, 0.0010300139415572701, 0.0020273255405408351, 0.0015393751346797165, 0.0015127146704332129, 0.0010385384500440277, 0.00050936119312245125, 0.0015393751346797165, 0.0, 0.0076763527928345732, 0.0010385384500440277, 0.0010385384500440277, 0.0005008366846356888, 0.0, 0.0005008366846356888, 0.0010101978777581351, 0.0005008366846356888, 0.0005008366846356888, 0.0005008366846356888, 0.0015393751346797165, 0.0005008366846356888, 0.0005008366846356888, 0.0015393751346797165, 0.0010033534773107617, 0.0015393751346797165, 0.0010101978777581351, 0.0015393751346797165, 0.0005008366846356888, 0.0010101978777581351, 0.0015393751346797165, 0.0005008366846356888, 0.0, 0.0010101978777581351, 0.00050936119312244637, 0.0015393751346797165, 0.00050936119312244637, 0.0015393751346797165, 0.0, 0.0015393751346797165, 0.0020220758635556592, 0.0010385384500440277, 0.0015127146704332079, 0.0015393751346797165, 0.00050936119312244637, 0.0030392035263383452, 0.0010101978777581351, 0.00050936119312244637, 0.0015308506261929541, 0.0015308506261929541, 0.0010101978777581351, 0.0010300139415572701, 0.0041070740278286565, 0.0015393751346797165, 0.0041140038128532072, 0.0015393751346797165, 0.0030727937756094129, 0.0015393751346797165, 0.0005008366846356888, 0.0015393751346797165, 0.0005008366846356888, 0.0010101978777581351, 0.0005008366846356888, 0.0015393751346797165, 0.0015393751346797165, 0.0030951960420311279]\n",
        "[1.0, 1.0, 1.0, 1.0, 1.0, 1.0, 1.0, 1.0, 0.5, 0.5, 0.5, 0.5, 0.5, 0.5, 0.5, 0.5, 0.5, 0.5, 0.50000000000000011, 0.49999999999999989, 0.50000000000000011, 0.5, 0.5, 0.5, 0.5, 0.49999999999999989, 0.5, 0.49999999999999989, 0.5, 0.50000000000000022, 0.5, 0.5, 0.5, 0.5, 0.5, 0.5, 0.33333333333333331, 0.33333333333333331, 0.33333333333333331, 0.33333333333333326, 0.33333333333333337, 0.33333333333333326, 0.33333333333333331, 0.33333333333333331, 0.33333333333333331, 0.33333333333333331, 0.33333333333333331, 0.33333333333333331, 0.33333333333333331, 0.33333333333333331, 0.33333333333333331, 0.33333333333333331, 0.33333333333333337, 0.33333333333333331, 0.33333333333333337, 0.33333333333333331, 0.33333333333333337, 0.33333333333333337, 0.33333333333333331, 0.33333333333333331, 0.33333333333333331, 0.33333333333333331, 0.33333333333333331, 0.33333333333333331, 0.33333333333333331, 0.33333333333333331, 0.33333333333333343, 0.33333333333333331, 0.33333333333333331, 0.33333333333333331, 0.33333333333333331, 0.33333333333333331, 0.33333333333333337, 0.33333333333333326, 0.33333333333333337, 0.33333333333333331, 0.33333333333333331, 0.33333333333333331, 0.33333333333333331, 0.33333333333333326, 0.33333333333333326, 0.33333333333333331, 0.33333333333333337, 0.33333333333333331, 0.33333333333333331, 0.33333333333333331, 0.33333333333333337, 0.33333333333333331, 0.33333333333333331, 0.33333333333333326, 0.33333333333333331, 0.33333333333333331, 0.25, 0.25, 0.25, 0.25, 0.25, 0.25, 0.25, 0.25, 0.25, 0.25, 0.25, 0.25, 0.25, 0.25, 0.25, 0.25, 0.25, 0.25000000000000006, 0.25, 0.25, 0.25, 0.25, 0.25, 0.25, 0.25, 0.25, 0.25, 0.25, 0.24999999999999994, 0.25, 0.25000000000000006, 0.25, 0.25, 0.25, 0.25, 0.25, 0.25, 0.25, 0.25, 0.25, 0.25, 0.25, 0.25, 0.25, 0.25, 0.25, 0.25, 0.25, 0.25, 0.25, 0.25, 0.25, 0.25]\n",
        "[ 0.14649726  0.08596587  0.71685744  0.05067943]"
       ]
      },
      {
       "output_type": "stream",
       "stream": "stdout",
       "text": [
        "\n",
        "[ 0.15246503  0.06054773  0.72808441  0.05890283]"
       ]
      },
      {
       "output_type": "stream",
       "stream": "stdout",
       "text": [
        "\n",
        "[ 0.16846753  0.08074803  0.67131135  0.07947309]"
       ]
      },
      {
       "output_type": "stream",
       "stream": "stdout",
       "text": [
        "\n",
        "[ 0.19103347  0.07422688  0.68062739  0.05411227]"
       ]
      },
      {
       "output_type": "stream",
       "stream": "stdout",
       "text": [
        "\n",
        "[ 0.14097022  0.09256327  0.70574833  0.06071818]"
       ]
      },
      {
       "output_type": "stream",
       "stream": "stdout",
       "text": [
        "\n",
        "[ 0.14266276  0.0887664   0.69165502  0.07691582]"
       ]
      },
      {
       "output_type": "stream",
       "stream": "stdout",
       "text": [
        "\n",
        "[ 0.17348476  0.08180585  0.67563577  0.06907362]"
       ]
      },
      {
       "output_type": "stream",
       "stream": "stdout",
       "text": [
        "\n",
        "[ 0.16747269  0.09469123  0.656938    0.08089808]"
       ]
      },
      {
       "output_type": "stream",
       "stream": "stdout",
       "text": [
        "\n",
        "[ 0.1769388   0.09712679  0.64673974  0.07919467]"
       ]
      },
      {
       "output_type": "stream",
       "stream": "stdout",
       "text": [
        "\n",
        "[ 0.19023025  0.0837495   0.6625521   0.06346815]"
       ]
      },
      {
       "output_type": "stream",
       "stream": "stdout",
       "text": [
        "\n",
        "[0.5, 0.5, 0.5, 0.5, 0.5, 0.5, 0.5, 0.5, 0.5, 0.5, 0.5, 0.5, 0.5, 0.5, 0.5, 0.5, 0.5, 0.5, 0.5, 0.5, 0.5, 0.5, 0.5, 0.5, 0.5, 0.5, 0.5, 0.5, 0.5, 0.5, 0.5, 0.5, 0.5, 0.5, 0.5, 0.5, 0.5, 0.5, 0.5, 0.5, 0.5, 0.5, 0.5, 0.5, 0.5, 0.5, 0.5, 0.5, 0.5, 0.5, 0.5, 0.5, 0.5, 0.5, 0.5, 0.5, 0.5, 0.5, 0.5, 0.5, 0.5, 0.5, 0.5, 0.5, 0.5, 0.5, 0.5, 0.5, 0.5, 0.5, 0.5, 0.5, 0.5, 0.5, 0.5, 0.5, 0.5, 0.5, 0.5, 0.5, 0.5, 0.5, 0.5, 0.5, 0.5, 0.5, 0.5, 0.5, 0.5, 0.5, 0.5, 0.5, 0.5, 0.5, 0.5, 0.5, 0.5, 0.5, 0.5, 0.5, 0.5, 0.5, 0.5, 0.5, 0.5, 0.5, 0.5, 0.5, 0.5, 0.5, 0.5, 0.5, 0.5, 0.5, 0.5, 0.5, 0.5, 0.5, 0.5, 0.5, 0.5, 0.5, 0.5, 0.5, 0.5, 0.5, 0.5, 0.5, 0.5, 0.5, 0.5, 0.5, 0.5, 0.5, 0.5, 0.5, 0.5, 0.5, 0.5, 0.5, 0.5, 0.5, 0.5, 0.5, 0.5, 0.5]"
       ]
      },
      {
       "output_type": "stream",
       "stream": "stdout",
       "text": [
        "\n",
        "[0.035308450180920395, 0.015900278873051947, 0.027606640458033495, 0.020287811471444019, 0.028085748571213369, 0.035450017068918892, 0.0030537699131523133, 0.018801048240551517, 0.0010101978777581351, 0.00050936119312244637, 0.008238681424071536, 0.0036143352597136787, 0.005607800401233284, 0.0025444087200298623, 0.019754369486924619, 0.008088683576243998, 0.0, 0.0077047868625348317, 0.0065852856156395825, 0.0015393751346797165, 0.005668936813507235, 0.0010016733692713726, 0.0065990598011115165, 0.0050674066527983952, 0.0015393751346797165, 0.0066773510107629745, 0.0015127146704332129, 0.0010033534773107617, 0.0025444087200298623, 0.0015127146704332129, 0.020761540704040373, 0.0010385384500440277, 0.0061854044439900308, 0.0010385384500440277, 0.0076763527928345732, 0.0015393751346797165, 0.0025548226894230226, 0.0010101978777581351, 0.0015393751346797213, 0.0005008366846356888, 0.0015393751346797165, 0.0010101978777581351, 0.0010101978777581351, 0.0010300139415572653, 0.00050936119312244637, 0.0015393751346797165, 0.00050936119312244637, 0.0020220758635556592, 0.0010187223862448975, 0.0025444087200298623, 0.0015127146704332129, 0.0040563311891210398, 0.0010385384500440277, 0.0040760618683429806, 0.00050936119312244637, 0.0025366867336632723, 0.0015393751346797165, 0.0015308506261929541, 0.0050948696391650674, 0.0050810954536931333, 0.0010016733692713726, 0.0041208482133005854, 0.0, 0.0005008366846356888, 0.0015393751346797165, 0.00052917725692158137, 0.0035417203190134224, 0.0010583545138431627, 0.0036045572351535793, 0.0005008366846356888, 0.0046483453621827594, 0.0010300139415572701, 0.0010016733692713726, 0.0015308506261929541, 0.0015393751346797165, 0.0005008366846356888, 0.0060828542075416917, 0.0005008366846356888, 0.0056318827756944041, 0.0005008366846356888, 0.0040985495193418897, 0.0010300139415572701, 0.0020273255405408351, 0.0015393751346797165, 0.0015127146704332129, 0.0010385384500440277, 0.00050936119312245125, 0.0015393751346797165, 0.0, 0.0076763527928345732, 0.0010385384500440277, 0.0010385384500440277, 0.0005008366846356888, 0.0, 0.0005008366846356888, 0.0010101978777581351, 0.0005008366846356888, 0.0005008366846356888, 0.0005008366846356888, 0.0015393751346797165, 0.0005008366846356888, 0.0005008366846356888, 0.0015393751346797165, 0.0010033534773107617, 0.0015393751346797165, 0.0010101978777581351, 0.0015393751346797165, 0.0005008366846356888, 0.0010101978777581351, 0.0015393751346797165, 0.0005008366846356888, 0.0, 0.0010101978777581351, 0.00050936119312244637, 0.0015393751346797165, 0.00050936119312244637, 0.0015393751346797165, 0.0, 0.0015393751346797165, 0.0020220758635556592, 0.0010385384500440277, 0.0015127146704332079, 0.0015393751346797165, 0.00050936119312244637, 0.0030392035263383452, 0.0010101978777581351, 0.00050936119312244637, 0.0015308506261929541, 0.0015308506261929541, 0.0010101978777581351, 0.0010300139415572701, 0.0041070740278286565, 0.0015393751346797165, 0.0041140038128532072, 0.0015393751346797165, 0.0030727937756094129, 0.0015393751346797165, 0.0005008366846356888, 0.0015393751346797165, 0.0005008366846356888, 0.0010101978777581351, 0.0005008366846356888, 0.0015393751346797165, 0.0015393751346797165, 0.0030951960420311279, 0.0010300139415572701]\n",
        "[1.0, 1.0, 1.0, 1.0, 1.0, 1.0, 1.0, 1.0, 0.5, 0.5, 0.5, 0.5, 0.5, 0.5, 0.5, 0.5, 0.5, 0.5, 0.50000000000000011, 0.49999999999999989, 0.50000000000000011, 0.5, 0.5, 0.5, 0.5, 0.49999999999999989, 0.5, 0.49999999999999989, 0.5, 0.50000000000000022, 0.5, 0.5, 0.5, 0.5, 0.5, 0.5, 0.33333333333333331, 0.33333333333333331, 0.33333333333333331, 0.33333333333333326, 0.33333333333333337, 0.33333333333333326, 0.33333333333333331, 0.33333333333333331, 0.33333333333333331, 0.33333333333333331, 0.33333333333333331, 0.33333333333333331, 0.33333333333333331, 0.33333333333333331, 0.33333333333333331, 0.33333333333333331, 0.33333333333333337, 0.33333333333333331, 0.33333333333333337, 0.33333333333333331, 0.33333333333333337, 0.33333333333333337, 0.33333333333333331, 0.33333333333333331, 0.33333333333333331, 0.33333333333333331, 0.33333333333333331, 0.33333333333333331, 0.33333333333333331, 0.33333333333333331, 0.33333333333333343, 0.33333333333333331, 0.33333333333333331, 0.33333333333333331, 0.33333333333333331, 0.33333333333333331, 0.33333333333333337, 0.33333333333333326, 0.33333333333333337, 0.33333333333333331, 0.33333333333333331, 0.33333333333333331, 0.33333333333333331, 0.33333333333333326, 0.33333333333333326, 0.33333333333333331, 0.33333333333333337, 0.33333333333333331, 0.33333333333333331, 0.33333333333333331, 0.33333333333333337, 0.33333333333333331, 0.33333333333333331, 0.33333333333333326, 0.33333333333333331, 0.33333333333333331, 0.25, 0.25, 0.25, 0.25, 0.25, 0.25, 0.25, 0.25, 0.25, 0.25, 0.25, 0.25, 0.25, 0.25, 0.25, 0.25, 0.25, 0.25000000000000006, 0.25, 0.25, 0.25, 0.25, 0.25, 0.25, 0.25, 0.25, 0.25, 0.25, 0.24999999999999994, 0.25, 0.25000000000000006, 0.25, 0.25, 0.25, 0.25, 0.25, 0.25, 0.25, 0.25, 0.25, 0.25, 0.25, 0.25, 0.25, 0.25, 0.25, 0.25, 0.25, 0.25, 0.25, 0.25, 0.25, 0.25, 0.25]\n",
        "[ 0.22071908  0.09809481  0.61826936  0.06291675]"
       ]
      },
      {
       "output_type": "stream",
       "stream": "stdout",
       "text": [
        "\n",
        "[ 0.19212406  0.08298606  0.64502479  0.07986509]"
       ]
      },
      {
       "output_type": "stream",
       "stream": "stdout",
       "text": [
        "\n",
        "[ 0.13967672  0.0748043   0.73191655  0.05360243]"
       ]
      },
      {
       "output_type": "stream",
       "stream": "stdout",
       "text": [
        "\n",
        "[ 0.19094332  0.07357491  0.66684423  0.06863754]"
       ]
      },
      {
       "output_type": "stream",
       "stream": "stdout",
       "text": [
        "\n",
        "[ 0.15350163  0.0812809   0.71471108  0.05050639]"
       ]
      },
      {
       "output_type": "stream",
       "stream": "stdout",
       "text": [
        "\n",
        "[ 0.16421662  0.0702232   0.67753111  0.08802907]"
       ]
      },
      {
       "output_type": "stream",
       "stream": "stdout",
       "text": [
        "\n",
        "[ 0.19981578  0.06600001  0.65025067  0.08393354]"
       ]
      },
      {
       "output_type": "stream",
       "stream": "stdout",
       "text": [
        "\n",
        "[ 0.16565686  0.07617071  0.68086245  0.07730998]"
       ]
      },
      {
       "output_type": "stream",
       "stream": "stdout",
       "text": [
        "\n",
        "[ 0.1595349   0.07991792  0.69134248  0.0692047 ]"
       ]
      },
      {
       "output_type": "stream",
       "stream": "stdout",
       "text": [
        "\n",
        "[ 0.1832972   0.09021859  0.65617941  0.07030481]"
       ]
      },
      {
       "output_type": "stream",
       "stream": "stdout",
       "text": [
        "\n",
        "[0.5, 0.5, 0.5, 0.5, 0.5, 0.5, 0.5, 0.5, 0.5, 0.5, 0.5, 0.5, 0.5, 0.5, 0.5, 0.5, 0.5, 0.5, 0.5, 0.5, 0.5, 0.5, 0.5, 0.5, 0.5, 0.5, 0.5, 0.5, 0.5, 0.5, 0.5, 0.5, 0.5, 0.5, 0.5, 0.5, 0.5, 0.5, 0.5, 0.5, 0.5, 0.5, 0.5, 0.5, 0.5, 0.5, 0.5, 0.5, 0.5, 0.5, 0.5, 0.5, 0.5, 0.5, 0.5, 0.5, 0.5, 0.5, 0.5, 0.5, 0.5, 0.5, 0.5, 0.5, 0.5, 0.5, 0.5, 0.5, 0.5, 0.5, 0.5, 0.5, 0.5, 0.5, 0.5, 0.5, 0.5, 0.5, 0.5, 0.5, 0.5, 0.5, 0.5, 0.5, 0.5, 0.5, 0.5, 0.5, 0.5, 0.5, 0.5, 0.5, 0.5, 0.5, 0.5, 0.5, 0.5, 0.5, 0.5, 0.5, 0.5, 0.5, 0.5, 0.5, 0.5, 0.5, 0.5, 0.5, 0.5, 0.5, 0.5, 0.5, 0.5, 0.5, 0.5, 0.5, 0.5, 0.5, 0.5, 0.5, 0.5, 0.5, 0.5, 0.5, 0.5, 0.5, 0.5, 0.5, 0.5, 0.5, 0.5, 0.5, 0.5, 0.5, 0.5, 0.5, 0.5, 0.5, 0.5, 0.5, 0.5, 0.5, 0.5, 0.5, 0.5, 0.5, 0.5]"
       ]
      },
      {
       "output_type": "stream",
       "stream": "stdout",
       "text": [
        "\n",
        "[0.035308450180920395, 0.015900278873051947, 0.027606640458033495, 0.020287811471444019, 0.028085748571213369, 0.035450017068918892, 0.0030537699131523133, 0.018801048240551517, 0.0010101978777581351, 0.00050936119312244637, 0.008238681424071536, 0.0036143352597136787, 0.005607800401233284, 0.0025444087200298623, 0.019754369486924619, 0.008088683576243998, 0.0, 0.0077047868625348317, 0.0065852856156395825, 0.0015393751346797165, 0.005668936813507235, 0.0010016733692713726, 0.0065990598011115165, 0.0050674066527983952, 0.0015393751346797165, 0.0066773510107629745, 0.0015127146704332129, 0.0010033534773107617, 0.0025444087200298623, 0.0015127146704332129, 0.020761540704040373, 0.0010385384500440277, 0.0061854044439900308, 0.0010385384500440277, 0.0076763527928345732, 0.0015393751346797165, 0.0025548226894230226, 0.0010101978777581351, 0.0015393751346797213, 0.0005008366846356888, 0.0015393751346797165, 0.0010101978777581351, 0.0010101978777581351, 0.0010300139415572653, 0.00050936119312244637, 0.0015393751346797165, 0.00050936119312244637, 0.0020220758635556592, 0.0010187223862448975, 0.0025444087200298623, 0.0015127146704332129, 0.0040563311891210398, 0.0010385384500440277, 0.0040760618683429806, 0.00050936119312244637, 0.0025366867336632723, 0.0015393751346797165, 0.0015308506261929541, 0.0050948696391650674, 0.0050810954536931333, 0.0010016733692713726, 0.0041208482133005854, 0.0, 0.0005008366846356888, 0.0015393751346797165, 0.00052917725692158137, 0.0035417203190134224, 0.0010583545138431627, 0.0036045572351535793, 0.0005008366846356888, 0.0046483453621827594, 0.0010300139415572701, 0.0010016733692713726, 0.0015308506261929541, 0.0015393751346797165, 0.0005008366846356888, 0.0060828542075416917, 0.0005008366846356888, 0.0056318827756944041, 0.0005008366846356888, 0.0040985495193418897, 0.0010300139415572701, 0.0020273255405408351, 0.0015393751346797165, 0.0015127146704332129, 0.0010385384500440277, 0.00050936119312245125, 0.0015393751346797165, 0.0, 0.0076763527928345732, 0.0010385384500440277, 0.0010385384500440277, 0.0005008366846356888, 0.0, 0.0005008366846356888, 0.0010101978777581351, 0.0005008366846356888, 0.0005008366846356888, 0.0005008366846356888, 0.0015393751346797165, 0.0005008366846356888, 0.0005008366846356888, 0.0015393751346797165, 0.0010033534773107617, 0.0015393751346797165, 0.0010101978777581351, 0.0015393751346797165, 0.0005008366846356888, 0.0010101978777581351, 0.0015393751346797165, 0.0005008366846356888, 0.0, 0.0010101978777581351, 0.00050936119312244637, 0.0015393751346797165, 0.00050936119312244637, 0.0015393751346797165, 0.0, 0.0015393751346797165, 0.0020220758635556592, 0.0010385384500440277, 0.0015127146704332079, 0.0015393751346797165, 0.00050936119312244637, 0.0030392035263383452, 0.0010101978777581351, 0.00050936119312244637, 0.0015308506261929541, 0.0015308506261929541, 0.0010101978777581351, 0.0010300139415572701, 0.0041070740278286565, 0.0015393751346797165, 0.0041140038128532072, 0.0015393751346797165, 0.0030727937756094129, 0.0015393751346797165, 0.0005008366846356888, 0.0015393751346797165, 0.0005008366846356888, 0.0010101978777581351, 0.0005008366846356888, 0.0015393751346797165, 0.0015393751346797165, 0.0030951960420311279, 0.0010300139415572701, 0.0015393751346797165]\n",
        "[1.0, 1.0, 1.0, 1.0, 1.0, 1.0, 1.0, 1.0, 0.5, 0.5, 0.5, 0.5, 0.5, 0.5, 0.5, 0.5, 0.5, 0.5, 0.50000000000000011, 0.49999999999999989, 0.50000000000000011, 0.5, 0.5, 0.5, 0.5, 0.49999999999999989, 0.5, 0.49999999999999989, 0.5, 0.50000000000000022, 0.5, 0.5, 0.5, 0.5, 0.5, 0.5, 0.33333333333333331, 0.33333333333333331, 0.33333333333333331, 0.33333333333333326, 0.33333333333333337, 0.33333333333333326, 0.33333333333333331, 0.33333333333333331, 0.33333333333333331, 0.33333333333333331, 0.33333333333333331, 0.33333333333333331, 0.33333333333333331, 0.33333333333333331, 0.33333333333333331, 0.33333333333333331, 0.33333333333333337, 0.33333333333333331, 0.33333333333333337, 0.33333333333333331, 0.33333333333333337, 0.33333333333333337, 0.33333333333333331, 0.33333333333333331, 0.33333333333333331, 0.33333333333333331, 0.33333333333333331, 0.33333333333333331, 0.33333333333333331, 0.33333333333333331, 0.33333333333333343, 0.33333333333333331, 0.33333333333333331, 0.33333333333333331, 0.33333333333333331, 0.33333333333333331, 0.33333333333333337, 0.33333333333333326, 0.33333333333333337, 0.33333333333333331, 0.33333333333333331, 0.33333333333333331, 0.33333333333333331, 0.33333333333333326, 0.33333333333333326, 0.33333333333333331, 0.33333333333333337, 0.33333333333333331, 0.33333333333333331, 0.33333333333333331, 0.33333333333333337, 0.33333333333333331, 0.33333333333333331, 0.33333333333333326, 0.33333333333333331, 0.33333333333333331, 0.25, 0.25, 0.25, 0.25, 0.25, 0.25, 0.25, 0.25, 0.25, 0.25, 0.25, 0.25, 0.25, 0.25, 0.25, 0.25, 0.25, 0.25000000000000006, 0.25, 0.25, 0.25, 0.25, 0.25, 0.25, 0.25, 0.25, 0.25, 0.25, 0.24999999999999994, 0.25, 0.25000000000000006, 0.25, 0.25, 0.25, 0.25, 0.25, 0.25, 0.25, 0.25, 0.25, 0.25, 0.25, 0.25, 0.25, 0.25, 0.25, 0.25, 0.25, 0.25, 0.25, 0.25, 0.25, 0.25, 0.25, 0.25]\n",
        "[ 0.30122313  0.55530832  0.05957797  0.08389058]"
       ]
      },
      {
       "output_type": "stream",
       "stream": "stdout",
       "text": [
        "\n",
        "[ 0.21433426  0.6104996   0.07388627  0.10127987]"
       ]
      },
      {
       "output_type": "stream",
       "stream": "stdout",
       "text": [
        "\n",
        "[ 0.24643253  0.57534253  0.08237261  0.09585233]"
       ]
      },
      {
       "output_type": "stream",
       "stream": "stdout",
       "text": [
        "\n",
        "[ 0.22009075  0.60885395  0.07612466  0.09493064]"
       ]
      },
      {
       "output_type": "stream",
       "stream": "stdout",
       "text": [
        "\n",
        "[ 0.22482426  0.57933655  0.0921965   0.10364269]"
       ]
      },
      {
       "output_type": "stream",
       "stream": "stdout",
       "text": [
        "\n",
        "[ 0.27575693  0.55821495  0.08778263  0.07824548]"
       ]
      },
      {
       "output_type": "stream",
       "stream": "stdout",
       "text": [
        "\n",
        "[ 0.25084645  0.57956271  0.0837683   0.08582253]"
       ]
      },
      {
       "output_type": "stream",
       "stream": "stdout",
       "text": [
        "\n",
        "[ 0.20569703  0.58339551  0.09753697  0.11337048]"
       ]
      },
      {
       "output_type": "stream",
       "stream": "stdout",
       "text": [
        "\n",
        "[ 0.22037099  0.56108305  0.10315462  0.11539134]"
       ]
      },
      {
       "output_type": "stream",
       "stream": "stdout",
       "text": [
        "\n",
        "[ 0.27211735  0.54580867  0.06226469  0.11980929]"
       ]
      },
      {
       "output_type": "stream",
       "stream": "stdout",
       "text": [
        "\n",
        "[0.5, 0.5, 0.5, 0.5, 0.5, 0.5, 0.5, 0.5, 0.5, 0.5, 0.5, 0.5, 0.5, 0.5, 0.5, 0.5, 0.5, 0.5, 0.5, 0.5, 0.5, 0.5, 0.5, 0.5, 0.5, 0.5, 0.5, 0.5, 0.5, 0.5, 0.5, 0.5, 0.5, 0.5, 0.5, 0.5, 0.5, 0.5, 0.5, 0.5, 0.5, 0.5, 0.5, 0.5, 0.5, 0.5, 0.5, 0.5, 0.5, 0.5, 0.5, 0.5, 0.5, 0.5, 0.5, 0.5, 0.5, 0.5, 0.5, 0.5, 0.5, 0.5, 0.5, 0.5, 0.5, 0.5, 0.5, 0.5, 0.5, 0.5, 0.5, 0.5, 0.5, 0.5, 0.5, 0.5, 0.5, 0.5, 0.5, 0.5, 0.5, 0.5, 0.5, 0.5, 0.5, 0.5, 0.5, 0.5, 0.5, 0.5, 0.5, 0.5, 0.5, 0.5, 0.5, 0.5, 0.5, 0.5, 0.5, 0.5, 0.5, 0.5, 0.5, 0.5, 0.5, 0.5, 0.5, 0.5, 0.5, 0.5, 0.5, 0.5, 0.5, 0.5, 0.5, 0.5, 0.5, 0.5, 0.5, 0.5, 0.5, 0.5, 0.5, 0.5, 0.5, 0.5, 0.5, 0.5, 0.5, 0.5, 0.5, 0.5, 0.5, 0.5, 0.5, 0.5, 0.5, 0.5, 0.5, 0.5, 0.5, 0.5, 0.5, 0.5, 0.5, 0.5, 0.5, 0.5]"
       ]
      },
      {
       "output_type": "stream",
       "stream": "stdout",
       "text": [
        "\n",
        "[0.035308450180920395, 0.015900278873051947, 0.027606640458033495, 0.020287811471444019, 0.028085748571213369, 0.035450017068918892, 0.0030537699131523133, 0.018801048240551517, 0.0010101978777581351, 0.00050936119312244637, 0.008238681424071536, 0.0036143352597136787, 0.005607800401233284, 0.0025444087200298623, 0.019754369486924619, 0.008088683576243998, 0.0, 0.0077047868625348317, 0.0065852856156395825, 0.0015393751346797165, 0.005668936813507235, 0.0010016733692713726, 0.0065990598011115165, 0.0050674066527983952, 0.0015393751346797165, 0.0066773510107629745, 0.0015127146704332129, 0.0010033534773107617, 0.0025444087200298623, 0.0015127146704332129, 0.020761540704040373, 0.0010385384500440277, 0.0061854044439900308, 0.0010385384500440277, 0.0076763527928345732, 0.0015393751346797165, 0.0025548226894230226, 0.0010101978777581351, 0.0015393751346797213, 0.0005008366846356888, 0.0015393751346797165, 0.0010101978777581351, 0.0010101978777581351, 0.0010300139415572653, 0.00050936119312244637, 0.0015393751346797165, 0.00050936119312244637, 0.0020220758635556592, 0.0010187223862448975, 0.0025444087200298623, 0.0015127146704332129, 0.0040563311891210398, 0.0010385384500440277, 0.0040760618683429806, 0.00050936119312244637, 0.0025366867336632723, 0.0015393751346797165, 0.0015308506261929541, 0.0050948696391650674, 0.0050810954536931333, 0.0010016733692713726, 0.0041208482133005854, 0.0, 0.0005008366846356888, 0.0015393751346797165, 0.00052917725692158137, 0.0035417203190134224, 0.0010583545138431627, 0.0036045572351535793, 0.0005008366846356888, 0.0046483453621827594, 0.0010300139415572701, 0.0010016733692713726, 0.0015308506261929541, 0.0015393751346797165, 0.0005008366846356888, 0.0060828542075416917, 0.0005008366846356888, 0.0056318827756944041, 0.0005008366846356888, 0.0040985495193418897, 0.0010300139415572701, 0.0020273255405408351, 0.0015393751346797165, 0.0015127146704332129, 0.0010385384500440277, 0.00050936119312245125, 0.0015393751346797165, 0.0, 0.0076763527928345732, 0.0010385384500440277, 0.0010385384500440277, 0.0005008366846356888, 0.0, 0.0005008366846356888, 0.0010101978777581351, 0.0005008366846356888, 0.0005008366846356888, 0.0005008366846356888, 0.0015393751346797165, 0.0005008366846356888, 0.0005008366846356888, 0.0015393751346797165, 0.0010033534773107617, 0.0015393751346797165, 0.0010101978777581351, 0.0015393751346797165, 0.0005008366846356888, 0.0010101978777581351, 0.0015393751346797165, 0.0005008366846356888, 0.0, 0.0010101978777581351, 0.00050936119312244637, 0.0015393751346797165, 0.00050936119312244637, 0.0015393751346797165, 0.0, 0.0015393751346797165, 0.0020220758635556592, 0.0010385384500440277, 0.0015127146704332079, 0.0015393751346797165, 0.00050936119312244637, 0.0030392035263383452, 0.0010101978777581351, 0.00050936119312244637, 0.0015308506261929541, 0.0015308506261929541, 0.0010101978777581351, 0.0010300139415572701, 0.0041070740278286565, 0.0015393751346797165, 0.0041140038128532072, 0.0015393751346797165, 0.0030727937756094129, 0.0015393751346797165, 0.0005008366846356888, 0.0015393751346797165, 0.0005008366846356888, 0.0010101978777581351, 0.0005008366846356888, 0.0015393751346797165, 0.0015393751346797165, 0.0030951960420311279, 0.0010300139415572701, 0.0015393751346797165, 0.0010016733692713726]\n",
        "[1.0, 1.0, 1.0, 1.0, 1.0, 1.0, 1.0, 1.0, 0.5, 0.5, 0.5, 0.5, 0.5, 0.5, 0.5, 0.5, 0.5, 0.5, 0.50000000000000011, 0.49999999999999989, 0.50000000000000011, 0.5, 0.5, 0.5, 0.5, 0.49999999999999989, 0.5, 0.49999999999999989, 0.5, 0.50000000000000022, 0.5, 0.5, 0.5, 0.5, 0.5, 0.5, 0.33333333333333331, 0.33333333333333331, 0.33333333333333331, 0.33333333333333326, 0.33333333333333337, 0.33333333333333326, 0.33333333333333331, 0.33333333333333331, 0.33333333333333331, 0.33333333333333331, 0.33333333333333331, 0.33333333333333331, 0.33333333333333331, 0.33333333333333331, 0.33333333333333331, 0.33333333333333331, 0.33333333333333337, 0.33333333333333331, 0.33333333333333337, 0.33333333333333331, 0.33333333333333337, 0.33333333333333337, 0.33333333333333331, 0.33333333333333331, 0.33333333333333331, 0.33333333333333331, 0.33333333333333331, 0.33333333333333331, 0.33333333333333331, 0.33333333333333331, 0.33333333333333343, 0.33333333333333331, 0.33333333333333331, 0.33333333333333331, 0.33333333333333331, 0.33333333333333331, 0.33333333333333337, 0.33333333333333326, 0.33333333333333337, 0.33333333333333331, 0.33333333333333331, 0.33333333333333331, 0.33333333333333331, 0.33333333333333326, 0.33333333333333326, 0.33333333333333331, 0.33333333333333337, 0.33333333333333331, 0.33333333333333331, 0.33333333333333331, 0.33333333333333337, 0.33333333333333331, 0.33333333333333331, 0.33333333333333326, 0.33333333333333331, 0.33333333333333331, 0.25, 0.25, 0.25, 0.25, 0.25, 0.25, 0.25, 0.25, 0.25, 0.25, 0.25, 0.25, 0.25, 0.25, 0.25, 0.25, 0.25, 0.25000000000000006, 0.25, 0.25, 0.25, 0.25, 0.25, 0.25, 0.25, 0.25, 0.25, 0.25, 0.24999999999999994, 0.25, 0.25000000000000006, 0.25, 0.25, 0.25, 0.25, 0.25, 0.25, 0.25, 0.25, 0.25, 0.25, 0.25, 0.25, 0.25, 0.25, 0.25, 0.25, 0.25, 0.25, 0.25, 0.25, 0.25, 0.25, 0.25, 0.25, 0.25]\n",
        "[ 0.14724559  0.2404407   0.02306431  0.58924941]"
       ]
      },
      {
       "output_type": "stream",
       "stream": "stdout",
       "text": [
        "\n",
        "[ 0.14326643  0.32933239  0.04968373  0.47771745]"
       ]
      },
      {
       "output_type": "stream",
       "stream": "stdout",
       "text": [
        "\n",
        "[ 0.13960155  0.30005065  0.04337029  0.51697751]"
       ]
      },
      {
       "output_type": "stream",
       "stream": "stdout",
       "text": [
        "\n",
        "[ 0.14581052  0.30991172  0.03460875  0.50966901]"
       ]
      },
      {
       "output_type": "stream",
       "stream": "stdout",
       "text": [
        "\n",
        "[ 0.11807861  0.26800655  0.06022776  0.55368707]"
       ]
      },
      {
       "output_type": "stream",
       "stream": "stdout",
       "text": [
        "\n",
        "[ 0.11605751  0.2914235   0.05665392  0.53586508]"
       ]
      },
      {
       "output_type": "stream",
       "stream": "stdout",
       "text": [
        "\n",
        "[ 0.14303505  0.27845552  0.03534433  0.5431651 ]"
       ]
      },
      {
       "output_type": "stream",
       "stream": "stdout",
       "text": [
        "\n",
        "[ 0.14316004  0.26637372  0.04463328  0.54583296]"
       ]
      },
      {
       "output_type": "stream",
       "stream": "stdout",
       "text": [
        "\n",
        "[ 0.15043864  0.28647245  0.06139839  0.50169053]"
       ]
      },
      {
       "output_type": "stream",
       "stream": "stdout",
       "text": [
        "\n",
        "[ 0.16251075  0.25826974  0.04320389  0.53601562]"
       ]
      },
      {
       "output_type": "stream",
       "stream": "stdout",
       "text": [
        "\n",
        "[0.5, 0.5, 0.5, 0.5, 0.5, 0.5, 0.5, 0.5, 0.5, 0.5, 0.5, 0.5, 0.5, 0.5, 0.5, 0.5, 0.5, 0.5, 0.5, 0.5, 0.5, 0.5, 0.5, 0.5, 0.5, 0.5, 0.5, 0.5, 0.5, 0.5, 0.5, 0.5, 0.5, 0.5, 0.5, 0.5, 0.5, 0.5, 0.5, 0.5, 0.5, 0.5, 0.5, 0.5, 0.5, 0.5, 0.5, 0.5, 0.5, 0.5, 0.5, 0.5, 0.5, 0.5, 0.5, 0.5, 0.5, 0.5, 0.5, 0.5, 0.5, 0.5, 0.5, 0.5, 0.5, 0.5, 0.5, 0.5, 0.5, 0.5, 0.5, 0.5, 0.5, 0.5, 0.5, 0.5, 0.5, 0.5, 0.5, 0.5, 0.5, 0.5, 0.5, 0.5, 0.5, 0.5, 0.5, 0.5, 0.5, 0.5, 0.5, 0.5, 0.5, 0.5, 0.5, 0.5, 0.5, 0.5, 0.5, 0.5, 0.5, 0.5, 0.5, 0.5, 0.5, 0.5, 0.5, 0.5, 0.5, 0.5, 0.5, 0.5, 0.5, 0.5, 0.5, 0.5, 0.5, 0.5, 0.5, 0.5, 0.5, 0.5, 0.5, 0.5, 0.5, 0.5, 0.5, 0.5, 0.5, 0.5, 0.5, 0.5, 0.5, 0.5, 0.5, 0.5, 0.5, 0.5, 0.5, 0.5, 0.5, 0.5, 0.5, 0.5, 0.5, 0.5, 0.5, 0.5, 0.5]"
       ]
      },
      {
       "output_type": "stream",
       "stream": "stdout",
       "text": [
        "\n",
        "[0.035308450180920395, 0.015900278873051947, 0.027606640458033495, 0.020287811471444019, 0.028085748571213369, 0.035450017068918892, 0.0030537699131523133, 0.018801048240551517, 0.0010101978777581351, 0.00050936119312244637, 0.008238681424071536, 0.0036143352597136787, 0.005607800401233284, 0.0025444087200298623, 0.019754369486924619, 0.008088683576243998, 0.0, 0.0077047868625348317, 0.0065852856156395825, 0.0015393751346797165, 0.005668936813507235, 0.0010016733692713726, 0.0065990598011115165, 0.0050674066527983952, 0.0015393751346797165, 0.0066773510107629745, 0.0015127146704332129, 0.0010033534773107617, 0.0025444087200298623, 0.0015127146704332129, 0.020761540704040373, 0.0010385384500440277, 0.0061854044439900308, 0.0010385384500440277, 0.0076763527928345732, 0.0015393751346797165, 0.0025548226894230226, 0.0010101978777581351, 0.0015393751346797213, 0.0005008366846356888, 0.0015393751346797165, 0.0010101978777581351, 0.0010101978777581351, 0.0010300139415572653, 0.00050936119312244637, 0.0015393751346797165, 0.00050936119312244637, 0.0020220758635556592, 0.0010187223862448975, 0.0025444087200298623, 0.0015127146704332129, 0.0040563311891210398, 0.0010385384500440277, 0.0040760618683429806, 0.00050936119312244637, 0.0025366867336632723, 0.0015393751346797165, 0.0015308506261929541, 0.0050948696391650674, 0.0050810954536931333, 0.0010016733692713726, 0.0041208482133005854, 0.0, 0.0005008366846356888, 0.0015393751346797165, 0.00052917725692158137, 0.0035417203190134224, 0.0010583545138431627, 0.0036045572351535793, 0.0005008366846356888, 0.0046483453621827594, 0.0010300139415572701, 0.0010016733692713726, 0.0015308506261929541, 0.0015393751346797165, 0.0005008366846356888, 0.0060828542075416917, 0.0005008366846356888, 0.0056318827756944041, 0.0005008366846356888, 0.0040985495193418897, 0.0010300139415572701, 0.0020273255405408351, 0.0015393751346797165, 0.0015127146704332129, 0.0010385384500440277, 0.00050936119312245125, 0.0015393751346797165, 0.0, 0.0076763527928345732, 0.0010385384500440277, 0.0010385384500440277, 0.0005008366846356888, 0.0, 0.0005008366846356888, 0.0010101978777581351, 0.0005008366846356888, 0.0005008366846356888, 0.0005008366846356888, 0.0015393751346797165, 0.0005008366846356888, 0.0005008366846356888, 0.0015393751346797165, 0.0010033534773107617, 0.0015393751346797165, 0.0010101978777581351, 0.0015393751346797165, 0.0005008366846356888, 0.0010101978777581351, 0.0015393751346797165, 0.0005008366846356888, 0.0, 0.0010101978777581351, 0.00050936119312244637, 0.0015393751346797165, 0.00050936119312244637, 0.0015393751346797165, 0.0, 0.0015393751346797165, 0.0020220758635556592, 0.0010385384500440277, 0.0015127146704332079, 0.0015393751346797165, 0.00050936119312244637, 0.0030392035263383452, 0.0010101978777581351, 0.00050936119312244637, 0.0015308506261929541, 0.0015308506261929541, 0.0010101978777581351, 0.0010300139415572701, 0.0041070740278286565, 0.0015393751346797165, 0.0041140038128532072, 0.0015393751346797165, 0.0030727937756094129, 0.0015393751346797165, 0.0005008366846356888, 0.0015393751346797165, 0.0005008366846356888, 0.0010101978777581351, 0.0005008366846356888, 0.0015393751346797165, 0.0015393751346797165, 0.0030951960420311279, 0.0010300139415572701, 0.0015393751346797165, 0.0010016733692713726, 0.0010300139415572701]\n",
        "[1.0, 1.0, 1.0, 1.0, 1.0, 1.0, 1.0, 1.0, 0.5, 0.5, 0.5, 0.5, 0.5, 0.5, 0.5, 0.5, 0.5, 0.5, 0.50000000000000011, 0.49999999999999989, 0.50000000000000011, 0.5, 0.5, 0.5, 0.5, 0.49999999999999989, 0.5, 0.49999999999999989, 0.5, 0.50000000000000022, 0.5, 0.5, 0.5, 0.5, 0.5, 0.5, 0.33333333333333331, 0.33333333333333331, 0.33333333333333331, 0.33333333333333326, 0.33333333333333337, 0.33333333333333326, 0.33333333333333331, 0.33333333333333331, 0.33333333333333331, 0.33333333333333331, 0.33333333333333331, 0.33333333333333331, 0.33333333333333331, 0.33333333333333331, 0.33333333333333331, 0.33333333333333331, 0.33333333333333337, 0.33333333333333331, 0.33333333333333337, 0.33333333333333331, 0.33333333333333337, 0.33333333333333337, 0.33333333333333331, 0.33333333333333331, 0.33333333333333331, 0.33333333333333331, 0.33333333333333331, 0.33333333333333331, 0.33333333333333331, 0.33333333333333331, 0.33333333333333343, 0.33333333333333331, 0.33333333333333331, 0.33333333333333331, 0.33333333333333331, 0.33333333333333331, 0.33333333333333337, 0.33333333333333326, 0.33333333333333337, 0.33333333333333331, 0.33333333333333331, 0.33333333333333331, 0.33333333333333331, 0.33333333333333326, 0.33333333333333326, 0.33333333333333331, 0.33333333333333337, 0.33333333333333331, 0.33333333333333331, 0.33333333333333331, 0.33333333333333337, 0.33333333333333331, 0.33333333333333331, 0.33333333333333326, 0.33333333333333331, 0.33333333333333331, 0.25, 0.25, 0.25, 0.25, 0.25, 0.25, 0.25, 0.25, 0.25, 0.25, 0.25, 0.25, 0.25, 0.25, 0.25, 0.25, 0.25, 0.25000000000000006, 0.25, 0.25, 0.25, 0.25, 0.25, 0.25, 0.25, 0.25, 0.25, 0.25, 0.24999999999999994, 0.25, 0.25000000000000006, 0.25, 0.25, 0.25, 0.25, 0.25, 0.25, 0.25, 0.25, 0.25, 0.25, 0.25, 0.25, 0.25, 0.25, 0.25, 0.25, 0.25, 0.25, 0.25, 0.25, 0.25, 0.25, 0.25, 0.25, 0.25, 0.25]\n",
        "[ 0.26189156  0.55726856  0.10440269  0.07643719]"
       ]
      },
      {
       "output_type": "stream",
       "stream": "stdout",
       "text": [
        "\n",
        "[ 0.24263294  0.55175243  0.11724009  0.08837455]"
       ]
      },
      {
       "output_type": "stream",
       "stream": "stdout",
       "text": [
        "\n",
        "[ 0.20670471  0.57310788  0.1276312   0.0925562 ]"
       ]
      },
      {
       "output_type": "stream",
       "stream": "stdout",
       "text": [
        "\n",
        "[ 0.27429984  0.56502071  0.09313968  0.06753976]"
       ]
      },
      {
       "output_type": "stream",
       "stream": "stdout",
       "text": [
        "\n",
        "[ 0.23508504  0.58241665  0.118088    0.06441031]"
       ]
      },
      {
       "output_type": "stream",
       "stream": "stdout",
       "text": [
        "\n",
        "[ 0.21507251  0.60457034  0.09888674  0.08147042]"
       ]
      },
      {
       "output_type": "stream",
       "stream": "stdout",
       "text": [
        "\n",
        "[ 0.24151371  0.57312261  0.11046442  0.07489925]"
       ]
      },
      {
       "output_type": "stream",
       "stream": "stdout",
       "text": [
        "\n",
        "[ 0.27046388  0.53257342  0.10937257  0.08759014]"
       ]
      },
      {
       "output_type": "stream",
       "stream": "stdout",
       "text": [
        "\n",
        "[ 0.26083589  0.49266843  0.13703602  0.10945966]"
       ]
      },
      {
       "output_type": "stream",
       "stream": "stdout",
       "text": [
        "\n",
        "[ 0.25355498  0.50933515  0.14720698  0.08990289]"
       ]
      },
      {
       "output_type": "stream",
       "stream": "stdout",
       "text": [
        "\n",
        "[0.5, 0.5, 0.5, 0.5, 0.5, 0.5, 0.5, 0.5, 0.5, 0.5, 0.5, 0.5, 0.5, 0.5, 0.5, 0.5, 0.5, 0.5, 0.5, 0.5, 0.5, 0.5, 0.5, 0.5, 0.5, 0.5, 0.5, 0.5, 0.5, 0.5, 0.5, 0.5, 0.5, 0.5, 0.5, 0.5, 0.5, 0.5, 0.5, 0.5, 0.5, 0.5, 0.5, 0.5, 0.5, 0.5, 0.5, 0.5, 0.5, 0.5, 0.5, 0.5, 0.5, 0.5, 0.5, 0.5, 0.5, 0.5, 0.5, 0.5, 0.5, 0.5, 0.5, 0.5, 0.5, 0.5, 0.5, 0.5, 0.5, 0.5, 0.5, 0.5, 0.5, 0.5, 0.5, 0.5, 0.5, 0.5, 0.5, 0.5, 0.5, 0.5, 0.5, 0.5, 0.5, 0.5, 0.5, 0.5, 0.5, 0.5, 0.5, 0.5, 0.5, 0.5, 0.5, 0.5, 0.5, 0.5, 0.5, 0.5, 0.5, 0.5, 0.5, 0.5, 0.5, 0.5, 0.5, 0.5, 0.5, 0.5, 0.5, 0.5, 0.5, 0.5, 0.5, 0.5, 0.5, 0.5, 0.5, 0.5, 0.5, 0.5, 0.5, 0.5, 0.5, 0.5, 0.5, 0.5, 0.5, 0.5, 0.5, 0.5, 0.5, 0.5, 0.5, 0.5, 0.5, 0.5, 0.5, 0.5, 0.5, 0.5, 0.5, 0.5, 0.5, 0.5, 0.5, 0.5, 0.5, 0.5]"
       ]
      },
      {
       "output_type": "stream",
       "stream": "stdout",
       "text": [
        "\n",
        "[0.035308450180920395, 0.015900278873051947, 0.027606640458033495, 0.020287811471444019, 0.028085748571213369, 0.035450017068918892, 0.0030537699131523133, 0.018801048240551517, 0.0010101978777581351, 0.00050936119312244637, 0.008238681424071536, 0.0036143352597136787, 0.005607800401233284, 0.0025444087200298623, 0.019754369486924619, 0.008088683576243998, 0.0, 0.0077047868625348317, 0.0065852856156395825, 0.0015393751346797165, 0.005668936813507235, 0.0010016733692713726, 0.0065990598011115165, 0.0050674066527983952, 0.0015393751346797165, 0.0066773510107629745, 0.0015127146704332129, 0.0010033534773107617, 0.0025444087200298623, 0.0015127146704332129, 0.020761540704040373, 0.0010385384500440277, 0.0061854044439900308, 0.0010385384500440277, 0.0076763527928345732, 0.0015393751346797165, 0.0025548226894230226, 0.0010101978777581351, 0.0015393751346797213, 0.0005008366846356888, 0.0015393751346797165, 0.0010101978777581351, 0.0010101978777581351, 0.0010300139415572653, 0.00050936119312244637, 0.0015393751346797165, 0.00050936119312244637, 0.0020220758635556592, 0.0010187223862448975, 0.0025444087200298623, 0.0015127146704332129, 0.0040563311891210398, 0.0010385384500440277, 0.0040760618683429806, 0.00050936119312244637, 0.0025366867336632723, 0.0015393751346797165, 0.0015308506261929541, 0.0050948696391650674, 0.0050810954536931333, 0.0010016733692713726, 0.0041208482133005854, 0.0, 0.0005008366846356888, 0.0015393751346797165, 0.00052917725692158137, 0.0035417203190134224, 0.0010583545138431627, 0.0036045572351535793, 0.0005008366846356888, 0.0046483453621827594, 0.0010300139415572701, 0.0010016733692713726, 0.0015308506261929541, 0.0015393751346797165, 0.0005008366846356888, 0.0060828542075416917, 0.0005008366846356888, 0.0056318827756944041, 0.0005008366846356888, 0.0040985495193418897, 0.0010300139415572701, 0.0020273255405408351, 0.0015393751346797165, 0.0015127146704332129, 0.0010385384500440277, 0.00050936119312245125, 0.0015393751346797165, 0.0, 0.0076763527928345732, 0.0010385384500440277, 0.0010385384500440277, 0.0005008366846356888, 0.0, 0.0005008366846356888, 0.0010101978777581351, 0.0005008366846356888, 0.0005008366846356888, 0.0005008366846356888, 0.0015393751346797165, 0.0005008366846356888, 0.0005008366846356888, 0.0015393751346797165, 0.0010033534773107617, 0.0015393751346797165, 0.0010101978777581351, 0.0015393751346797165, 0.0005008366846356888, 0.0010101978777581351, 0.0015393751346797165, 0.0005008366846356888, 0.0, 0.0010101978777581351, 0.00050936119312244637, 0.0015393751346797165, 0.00050936119312244637, 0.0015393751346797165, 0.0, 0.0015393751346797165, 0.0020220758635556592, 0.0010385384500440277, 0.0015127146704332079, 0.0015393751346797165, 0.00050936119312244637, 0.0030392035263383452, 0.0010101978777581351, 0.00050936119312244637, 0.0015308506261929541, 0.0015308506261929541, 0.0010101978777581351, 0.0010300139415572701, 0.0041070740278286565, 0.0015393751346797165, 0.0041140038128532072, 0.0015393751346797165, 0.0030727937756094129, 0.0015393751346797165, 0.0005008366846356888, 0.0015393751346797165, 0.0005008366846356888, 0.0010101978777581351, 0.0005008366846356888, 0.0015393751346797165, 0.0015393751346797165, 0.0030951960420311279, 0.0010300139415572701, 0.0015393751346797165, 0.0010016733692713726, 0.0010300139415572701, 0.0005008366846356888]\n",
        "[1.0, 1.0, 1.0, 1.0, 1.0, 1.0, 1.0, 1.0, 0.5, 0.5, 0.5, 0.5, 0.5, 0.5, 0.5, 0.5, 0.5, 0.5, 0.50000000000000011, 0.49999999999999989, 0.50000000000000011, 0.5, 0.5, 0.5, 0.5, 0.49999999999999989, 0.5, 0.49999999999999989, 0.5, 0.50000000000000022, 0.5, 0.5, 0.5, 0.5, 0.5, 0.5, 0.33333333333333331, 0.33333333333333331, 0.33333333333333331, 0.33333333333333326, 0.33333333333333337, 0.33333333333333326, 0.33333333333333331, 0.33333333333333331, 0.33333333333333331, 0.33333333333333331, 0.33333333333333331, 0.33333333333333331, 0.33333333333333331, 0.33333333333333331, 0.33333333333333331, 0.33333333333333331, 0.33333333333333337, 0.33333333333333331, 0.33333333333333337, 0.33333333333333331, 0.33333333333333337, 0.33333333333333337, 0.33333333333333331, 0.33333333333333331, 0.33333333333333331, 0.33333333333333331, 0.33333333333333331, 0.33333333333333331, 0.33333333333333331, 0.33333333333333331, 0.33333333333333343, 0.33333333333333331, 0.33333333333333331, 0.33333333333333331, 0.33333333333333331, 0.33333333333333331, 0.33333333333333337, 0.33333333333333326, 0.33333333333333337, 0.33333333333333331, 0.33333333333333331, 0.33333333333333331, 0.33333333333333331, 0.33333333333333326, 0.33333333333333326, 0.33333333333333331, 0.33333333333333337, 0.33333333333333331, 0.33333333333333331, 0.33333333333333331, 0.33333333333333337, 0.33333333333333331, 0.33333333333333331, 0.33333333333333326, 0.33333333333333331, 0.33333333333333331, 0.25, 0.25, 0.25, 0.25, 0.25, 0.25, 0.25, 0.25, 0.25, 0.25, 0.25, 0.25, 0.25, 0.25, 0.25, 0.25, 0.25, 0.25000000000000006, 0.25, 0.25, 0.25, 0.25, 0.25, 0.25, 0.25, 0.25, 0.25, 0.25, 0.24999999999999994, 0.25, 0.25000000000000006, 0.25, 0.25, 0.25, 0.25, 0.25, 0.25, 0.25, 0.25, 0.25, 0.25, 0.25, 0.25, 0.25, 0.25, 0.25, 0.25, 0.25, 0.25, 0.25, 0.25, 0.25, 0.25, 0.25, 0.25, 0.25, 0.25, 0.25]\n",
        "[ 0.13834126  0.25974452  0.02962528  0.57228894]"
       ]
      },
      {
       "output_type": "stream",
       "stream": "stdout",
       "text": [
        "\n",
        "[ 0.1595592   0.25665629  0.04651688  0.53726763]"
       ]
      },
      {
       "output_type": "stream",
       "stream": "stdout",
       "text": [
        "\n",
        "[ 0.09324059  0.25463914  0.03966253  0.61245775]"
       ]
      },
      {
       "output_type": "stream",
       "stream": "stdout",
       "text": [
        "\n",
        "[ 0.0808722   0.27283872  0.05778832  0.58850076]"
       ]
      },
      {
       "output_type": "stream",
       "stream": "stdout",
       "text": [
        "\n",
        "[ 0.13674926  0.32252968  0.04946716  0.4912539 ]"
       ]
      },
      {
       "output_type": "stream",
       "stream": "stdout",
       "text": [
        "\n",
        "[ 0.11970672  0.35133534  0.06500913  0.46394881]"
       ]
      },
      {
       "output_type": "stream",
       "stream": "stdout",
       "text": [
        "\n",
        "[ 0.12555045  0.30963148  0.06835533  0.49646274]"
       ]
      },
      {
       "output_type": "stream",
       "stream": "stdout",
       "text": [
        "\n",
        "[ 0.15740833  0.23824201  0.03626962  0.56808004]"
       ]
      },
      {
       "output_type": "stream",
       "stream": "stdout",
       "text": [
        "\n",
        "[ 0.12887485  0.30181521  0.05661928  0.51269066]"
       ]
      },
      {
       "output_type": "stream",
       "stream": "stdout",
       "text": [
        "\n",
        "[ 0.13348154  0.20055739  0.05198568  0.6139754 ]"
       ]
      },
      {
       "output_type": "stream",
       "stream": "stdout",
       "text": [
        "\n",
        "[0.5, 0.5, 0.5, 0.5, 0.5, 0.5, 0.5, 0.5, 0.5, 0.5, 0.5, 0.5, 0.5, 0.5, 0.5, 0.5, 0.5, 0.5, 0.5, 0.5, 0.5, 0.5, 0.5, 0.5, 0.5, 0.5, 0.5, 0.5, 0.5, 0.5, 0.5, 0.5, 0.5, 0.5, 0.5, 0.5, 0.5, 0.5, 0.5, 0.5, 0.5, 0.5, 0.5, 0.5, 0.5, 0.5, 0.5, 0.5, 0.5, 0.5, 0.5, 0.5, 0.5, 0.5, 0.5, 0.5, 0.5, 0.5, 0.5, 0.5, 0.5, 0.5, 0.5, 0.5, 0.5, 0.5, 0.5, 0.5, 0.5, 0.5, 0.5, 0.5, 0.5, 0.5, 0.5, 0.5, 0.5, 0.5, 0.5, 0.5, 0.5, 0.5, 0.5, 0.5, 0.5, 0.5, 0.5, 0.5, 0.5, 0.5, 0.5, 0.5, 0.5, 0.5, 0.5, 0.5, 0.5, 0.5, 0.5, 0.5, 0.5, 0.5, 0.5, 0.5, 0.5, 0.5, 0.5, 0.5, 0.5, 0.5, 0.5, 0.5, 0.5, 0.5, 0.5, 0.5, 0.5, 0.5, 0.5, 0.5, 0.5, 0.5, 0.5, 0.5, 0.5, 0.5, 0.5, 0.5, 0.5, 0.5, 0.5, 0.5, 0.5, 0.5, 0.5, 0.5, 0.5, 0.5, 0.5, 0.5, 0.5, 0.5, 0.5, 0.5, 0.5, 0.5, 0.5, 0.5, 0.5, 0.5, 0.5]"
       ]
      },
      {
       "output_type": "stream",
       "stream": "stdout",
       "text": [
        "\n",
        "[0.035308450180920395, 0.015900278873051947, 0.027606640458033495, 0.020287811471444019, 0.028085748571213369, 0.035450017068918892, 0.0030537699131523133, 0.018801048240551517, 0.0010101978777581351, 0.00050936119312244637, 0.008238681424071536, 0.0036143352597136787, 0.005607800401233284, 0.0025444087200298623, 0.019754369486924619, 0.008088683576243998, 0.0, 0.0077047868625348317, 0.0065852856156395825, 0.0015393751346797165, 0.005668936813507235, 0.0010016733692713726, 0.0065990598011115165, 0.0050674066527983952, 0.0015393751346797165, 0.0066773510107629745, 0.0015127146704332129, 0.0010033534773107617, 0.0025444087200298623, 0.0015127146704332129, 0.020761540704040373, 0.0010385384500440277, 0.0061854044439900308, 0.0010385384500440277, 0.0076763527928345732, 0.0015393751346797165, 0.0025548226894230226, 0.0010101978777581351, 0.0015393751346797213, 0.0005008366846356888, 0.0015393751346797165, 0.0010101978777581351, 0.0010101978777581351, 0.0010300139415572653, 0.00050936119312244637, 0.0015393751346797165, 0.00050936119312244637, 0.0020220758635556592, 0.0010187223862448975, 0.0025444087200298623, 0.0015127146704332129, 0.0040563311891210398, 0.0010385384500440277, 0.0040760618683429806, 0.00050936119312244637, 0.0025366867336632723, 0.0015393751346797165, 0.0015308506261929541, 0.0050948696391650674, 0.0050810954536931333, 0.0010016733692713726, 0.0041208482133005854, 0.0, 0.0005008366846356888, 0.0015393751346797165, 0.00052917725692158137, 0.0035417203190134224, 0.0010583545138431627, 0.0036045572351535793, 0.0005008366846356888, 0.0046483453621827594, 0.0010300139415572701, 0.0010016733692713726, 0.0015308506261929541, 0.0015393751346797165, 0.0005008366846356888, 0.0060828542075416917, 0.0005008366846356888, 0.0056318827756944041, 0.0005008366846356888, 0.0040985495193418897, 0.0010300139415572701, 0.0020273255405408351, 0.0015393751346797165, 0.0015127146704332129, 0.0010385384500440277, 0.00050936119312245125, 0.0015393751346797165, 0.0, 0.0076763527928345732, 0.0010385384500440277, 0.0010385384500440277, 0.0005008366846356888, 0.0, 0.0005008366846356888, 0.0010101978777581351, 0.0005008366846356888, 0.0005008366846356888, 0.0005008366846356888, 0.0015393751346797165, 0.0005008366846356888, 0.0005008366846356888, 0.0015393751346797165, 0.0010033534773107617, 0.0015393751346797165, 0.0010101978777581351, 0.0015393751346797165, 0.0005008366846356888, 0.0010101978777581351, 0.0015393751346797165, 0.0005008366846356888, 0.0, 0.0010101978777581351, 0.00050936119312244637, 0.0015393751346797165, 0.00050936119312244637, 0.0015393751346797165, 0.0, 0.0015393751346797165, 0.0020220758635556592, 0.0010385384500440277, 0.0015127146704332079, 0.0015393751346797165, 0.00050936119312244637, 0.0030392035263383452, 0.0010101978777581351, 0.00050936119312244637, 0.0015308506261929541, 0.0015308506261929541, 0.0010101978777581351, 0.0010300139415572701, 0.0041070740278286565, 0.0015393751346797165, 0.0041140038128532072, 0.0015393751346797165, 0.0030727937756094129, 0.0015393751346797165, 0.0005008366846356888, 0.0015393751346797165, 0.0005008366846356888, 0.0010101978777581351, 0.0005008366846356888, 0.0015393751346797165, 0.0015393751346797165, 0.0030951960420311279, 0.0010300139415572701, 0.0015393751346797165, 0.0010016733692713726, 0.0010300139415572701, 0.0005008366846356888, 0.0010101978777581351]\n",
        "[1.0, 1.0, 1.0, 1.0, 1.0, 1.0, 1.0, 1.0, 0.5, 0.5, 0.5, 0.5, 0.5, 0.5, 0.5, 0.5, 0.5, 0.5, 0.50000000000000011, 0.49999999999999989, 0.50000000000000011, 0.5, 0.5, 0.5, 0.5, 0.49999999999999989, 0.5, 0.49999999999999989, 0.5, 0.50000000000000022, 0.5, 0.5, 0.5, 0.5, 0.5, 0.5, 0.33333333333333331, 0.33333333333333331, 0.33333333333333331, 0.33333333333333326, 0.33333333333333337, 0.33333333333333326, 0.33333333333333331, 0.33333333333333331, 0.33333333333333331, 0.33333333333333331, 0.33333333333333331, 0.33333333333333331, 0.33333333333333331, 0.33333333333333331, 0.33333333333333331, 0.33333333333333331, 0.33333333333333337, 0.33333333333333331, 0.33333333333333337, 0.33333333333333331, 0.33333333333333337, 0.33333333333333337, 0.33333333333333331, 0.33333333333333331, 0.33333333333333331, 0.33333333333333331, 0.33333333333333331, 0.33333333333333331, 0.33333333333333331, 0.33333333333333331, 0.33333333333333343, 0.33333333333333331, 0.33333333333333331, 0.33333333333333331, 0.33333333333333331, 0.33333333333333331, 0.33333333333333337, 0.33333333333333326, 0.33333333333333337, 0.33333333333333331, 0.33333333333333331, 0.33333333333333331, 0.33333333333333331, 0.33333333333333326, 0.33333333333333326, 0.33333333333333331, 0.33333333333333337, 0.33333333333333331, 0.33333333333333331, 0.33333333333333331, 0.33333333333333337, 0.33333333333333331, 0.33333333333333331, 0.33333333333333326, 0.33333333333333331, 0.33333333333333331, 0.25, 0.25, 0.25, 0.25, 0.25, 0.25, 0.25, 0.25, 0.25, 0.25, 0.25, 0.25, 0.25, 0.25, 0.25, 0.25, 0.25, 0.25000000000000006, 0.25, 0.25, 0.25, 0.25, 0.25, 0.25, 0.25, 0.25, 0.25, 0.25, 0.24999999999999994, 0.25, 0.25000000000000006, 0.25, 0.25, 0.25, 0.25, 0.25, 0.25, 0.25, 0.25, 0.25, 0.25, 0.25, 0.25, 0.25, 0.25, 0.25, 0.25, 0.25, 0.25, 0.25, 0.25, 0.25, 0.25, 0.25, 0.25, 0.25, 0.25, 0.25, 0.25]\n",
        "[ 0.25692652  0.54204396  0.12349975  0.07752977]"
       ]
      },
      {
       "output_type": "stream",
       "stream": "stdout",
       "text": [
        "\n",
        "[ 0.24898585  0.5332267   0.10973224  0.10805521]"
       ]
      },
      {
       "output_type": "stream",
       "stream": "stdout",
       "text": [
        "\n",
        "[ 0.27349534  0.58569945  0.08922717  0.05157803]"
       ]
      },
      {
       "output_type": "stream",
       "stream": "stdout",
       "text": [
        "\n",
        "[ 0.25420059  0.55818209  0.11727265  0.07034467]"
       ]
      },
      {
       "output_type": "stream",
       "stream": "stdout",
       "text": [
        "\n",
        "[ 0.21199976  0.58019217  0.1458078   0.06200028]"
       ]
      },
      {
       "output_type": "stream",
       "stream": "stdout",
       "text": [
        "\n",
        "[ 0.24899373  0.52465222  0.12059374  0.10576032]"
       ]
      },
      {
       "output_type": "stream",
       "stream": "stdout",
       "text": [
        "\n",
        "[ 0.22769293  0.57386957  0.11899491  0.07944259]"
       ]
      },
      {
       "output_type": "stream",
       "stream": "stdout",
       "text": [
        "\n",
        "[ 0.23698492  0.56795324  0.13269947  0.06236237]"
       ]
      },
      {
       "output_type": "stream",
       "stream": "stdout",
       "text": [
        "\n",
        "[ 0.25099425  0.55209422  0.10366245  0.09324909]"
       ]
      },
      {
       "output_type": "stream",
       "stream": "stdout",
       "text": [
        "\n",
        "[ 0.24046894  0.55040952  0.13989865  0.06922289]"
       ]
      },
      {
       "output_type": "stream",
       "stream": "stdout",
       "text": [
        "\n",
        "[0.5, 0.5, 0.5, 0.5, 0.5, 0.5, 0.5, 0.5, 0.5, 0.5, 0.5, 0.5, 0.5, 0.5, 0.5, 0.5, 0.5, 0.5, 0.5, 0.5, 0.5, 0.5, 0.5, 0.5, 0.5, 0.5, 0.5, 0.5, 0.5, 0.5, 0.5, 0.5, 0.5, 0.5, 0.5, 0.5, 0.5, 0.5, 0.5, 0.5, 0.5, 0.5, 0.5, 0.5, 0.5, 0.5, 0.5, 0.5, 0.5, 0.5, 0.5, 0.5, 0.5, 0.5, 0.5, 0.5, 0.5, 0.5, 0.5, 0.5, 0.5, 0.5, 0.5, 0.5, 0.5, 0.5, 0.5, 0.5, 0.5, 0.5, 0.5, 0.5, 0.5, 0.5, 0.5, 0.5, 0.5, 0.5, 0.5, 0.5, 0.5, 0.5, 0.5, 0.5, 0.5, 0.5, 0.5, 0.5, 0.5, 0.5, 0.5, 0.5, 0.5, 0.5, 0.5, 0.5, 0.5, 0.5, 0.5, 0.5, 0.5, 0.5, 0.5, 0.5, 0.5, 0.5, 0.5, 0.5, 0.5, 0.5, 0.5, 0.5, 0.5, 0.5, 0.5, 0.5, 0.5, 0.5, 0.5, 0.5, 0.5, 0.5, 0.5, 0.5, 0.5, 0.5, 0.5, 0.5, 0.5, 0.5, 0.5, 0.5, 0.5, 0.5, 0.5, 0.5, 0.5, 0.5, 0.5, 0.5, 0.5, 0.5, 0.5, 0.5, 0.5, 0.5, 0.5, 0.5, 0.5, 0.5, 0.5, 0.5]"
       ]
      },
      {
       "output_type": "stream",
       "stream": "stdout",
       "text": [
        "\n",
        "[0.035308450180920395, 0.015900278873051947, 0.027606640458033495, 0.020287811471444019, 0.028085748571213369, 0.035450017068918892, 0.0030537699131523133, 0.018801048240551517, 0.0010101978777581351, 0.00050936119312244637, 0.008238681424071536, 0.0036143352597136787, 0.005607800401233284, 0.0025444087200298623, 0.019754369486924619, 0.008088683576243998, 0.0, 0.0077047868625348317, 0.0065852856156395825, 0.0015393751346797165, 0.005668936813507235, 0.0010016733692713726, 0.0065990598011115165, 0.0050674066527983952, 0.0015393751346797165, 0.0066773510107629745, 0.0015127146704332129, 0.0010033534773107617, 0.0025444087200298623, 0.0015127146704332129, 0.020761540704040373, 0.0010385384500440277, 0.0061854044439900308, 0.0010385384500440277, 0.0076763527928345732, 0.0015393751346797165, 0.0025548226894230226, 0.0010101978777581351, 0.0015393751346797213, 0.0005008366846356888, 0.0015393751346797165, 0.0010101978777581351, 0.0010101978777581351, 0.0010300139415572653, 0.00050936119312244637, 0.0015393751346797165, 0.00050936119312244637, 0.0020220758635556592, 0.0010187223862448975, 0.0025444087200298623, 0.0015127146704332129, 0.0040563311891210398, 0.0010385384500440277, 0.0040760618683429806, 0.00050936119312244637, 0.0025366867336632723, 0.0015393751346797165, 0.0015308506261929541, 0.0050948696391650674, 0.0050810954536931333, 0.0010016733692713726, 0.0041208482133005854, 0.0, 0.0005008366846356888, 0.0015393751346797165, 0.00052917725692158137, 0.0035417203190134224, 0.0010583545138431627, 0.0036045572351535793, 0.0005008366846356888, 0.0046483453621827594, 0.0010300139415572701, 0.0010016733692713726, 0.0015308506261929541, 0.0015393751346797165, 0.0005008366846356888, 0.0060828542075416917, 0.0005008366846356888, 0.0056318827756944041, 0.0005008366846356888, 0.0040985495193418897, 0.0010300139415572701, 0.0020273255405408351, 0.0015393751346797165, 0.0015127146704332129, 0.0010385384500440277, 0.00050936119312245125, 0.0015393751346797165, 0.0, 0.0076763527928345732, 0.0010385384500440277, 0.0010385384500440277, 0.0005008366846356888, 0.0, 0.0005008366846356888, 0.0010101978777581351, 0.0005008366846356888, 0.0005008366846356888, 0.0005008366846356888, 0.0015393751346797165, 0.0005008366846356888, 0.0005008366846356888, 0.0015393751346797165, 0.0010033534773107617, 0.0015393751346797165, 0.0010101978777581351, 0.0015393751346797165, 0.0005008366846356888, 0.0010101978777581351, 0.0015393751346797165, 0.0005008366846356888, 0.0, 0.0010101978777581351, 0.00050936119312244637, 0.0015393751346797165, 0.00050936119312244637, 0.0015393751346797165, 0.0, 0.0015393751346797165, 0.0020220758635556592, 0.0010385384500440277, 0.0015127146704332079, 0.0015393751346797165, 0.00050936119312244637, 0.0030392035263383452, 0.0010101978777581351, 0.00050936119312244637, 0.0015308506261929541, 0.0015308506261929541, 0.0010101978777581351, 0.0010300139415572701, 0.0041070740278286565, 0.0015393751346797165, 0.0041140038128532072, 0.0015393751346797165, 0.0030727937756094129, 0.0015393751346797165, 0.0005008366846356888, 0.0015393751346797165, 0.0005008366846356888, 0.0010101978777581351, 0.0005008366846356888, 0.0015393751346797165, 0.0015393751346797165, 0.0030951960420311279, 0.0010300139415572701, 0.0015393751346797165, 0.0010016733692713726, 0.0010300139415572701, 0.0005008366846356888, 0.0010101978777581351, 0.0005008366846356888]\n",
        "[1.0, 1.0, 1.0, 1.0, 1.0, 1.0, 1.0, 1.0, 0.5, 0.5, 0.5, 0.5, 0.5, 0.5, 0.5, 0.5, 0.5, 0.5, 0.50000000000000011, 0.49999999999999989, 0.50000000000000011, 0.5, 0.5, 0.5, 0.5, 0.49999999999999989, 0.5, 0.49999999999999989, 0.5, 0.50000000000000022, 0.5, 0.5, 0.5, 0.5, 0.5, 0.5, 0.33333333333333331, 0.33333333333333331, 0.33333333333333331, 0.33333333333333326, 0.33333333333333337, 0.33333333333333326, 0.33333333333333331, 0.33333333333333331, 0.33333333333333331, 0.33333333333333331, 0.33333333333333331, 0.33333333333333331, 0.33333333333333331, 0.33333333333333331, 0.33333333333333331, 0.33333333333333331, 0.33333333333333337, 0.33333333333333331, 0.33333333333333337, 0.33333333333333331, 0.33333333333333337, 0.33333333333333337, 0.33333333333333331, 0.33333333333333331, 0.33333333333333331, 0.33333333333333331, 0.33333333333333331, 0.33333333333333331, 0.33333333333333331, 0.33333333333333331, 0.33333333333333343, 0.33333333333333331, 0.33333333333333331, 0.33333333333333331, 0.33333333333333331, 0.33333333333333331, 0.33333333333333337, 0.33333333333333326, 0.33333333333333337, 0.33333333333333331, 0.33333333333333331, 0.33333333333333331, 0.33333333333333331, 0.33333333333333326, 0.33333333333333326, 0.33333333333333331, 0.33333333333333337, 0.33333333333333331, 0.33333333333333331, 0.33333333333333331, 0.33333333333333337, 0.33333333333333331, 0.33333333333333331, 0.33333333333333326, 0.33333333333333331, 0.33333333333333331, 0.25, 0.25, 0.25, 0.25, 0.25, 0.25, 0.25, 0.25, 0.25, 0.25, 0.25, 0.25, 0.25, 0.25, 0.25, 0.25, 0.25, 0.25000000000000006, 0.25, 0.25, 0.25, 0.25, 0.25, 0.25, 0.25, 0.25, 0.25, 0.25, 0.24999999999999994, 0.25, 0.25000000000000006, 0.25, 0.25, 0.25, 0.25, 0.25, 0.25, 0.25, 0.25, 0.25, 0.25, 0.25, 0.25, 0.25, 0.25, 0.25, 0.25, 0.25, 0.25, 0.25, 0.25, 0.25, 0.25, 0.25, 0.25, 0.25, 0.25, 0.25, 0.25, 0.25]\n",
        "[ 0.15770159  0.26986066  0.54046731  0.03197043]"
       ]
      },
      {
       "output_type": "stream",
       "stream": "stdout",
       "text": [
        "\n",
        "[ 0.1538229   0.31593302  0.48810523  0.04213885]"
       ]
      },
      {
       "output_type": "stream",
       "stream": "stdout",
       "text": [
        "\n",
        "[ 0.10895628  0.23522868  0.63155647  0.02425857]"
       ]
      },
      {
       "output_type": "stream",
       "stream": "stdout",
       "text": [
        "\n",
        "[ 0.13354295  0.29503582  0.54694346  0.02447777]"
       ]
      },
      {
       "output_type": "stream",
       "stream": "stdout",
       "text": [
        "\n",
        "[ 0.15506057  0.27529303  0.53553879  0.03410762]"
       ]
      },
      {
       "output_type": "stream",
       "stream": "stdout",
       "text": [
        "\n",
        "[ 0.12647382  0.29125829  0.55342866  0.02883923]"
       ]
      },
      {
       "output_type": "stream",
       "stream": "stdout",
       "text": [
        "\n",
        "[ 0.15859698  0.2782061   0.52938109  0.03381584]"
       ]
      },
      {
       "output_type": "stream",
       "stream": "stdout",
       "text": [
        "\n",
        "[ 0.15617633  0.25290548  0.54545349  0.04546469]"
       ]
      },
      {
       "output_type": "stream",
       "stream": "stdout",
       "text": [
        "\n",
        "[ 0.15365543  0.27940391  0.5141518   0.05278886]"
       ]
      },
      {
       "output_type": "stream",
       "stream": "stdout",
       "text": [
        "\n",
        "[ 0.1469217   0.22563816  0.58470436  0.04273578]"
       ]
      },
      {
       "output_type": "stream",
       "stream": "stdout",
       "text": [
        "\n",
        "[0.5, 0.5, 0.5, 0.5, 0.5, 0.5, 0.5, 0.5, 0.5, 0.5, 0.5, 0.5, 0.5, 0.5, 0.5, 0.5, 0.5, 0.5, 0.5, 0.5, 0.5, 0.5, 0.5, 0.5, 0.5, 0.5, 0.5, 0.5, 0.5, 0.5, 0.5, 0.5, 0.5, 0.5, 0.5, 0.5, 0.5, 0.5, 0.5, 0.5, 0.5, 0.5, 0.5, 0.5, 0.5, 0.5, 0.5, 0.5, 0.5, 0.5, 0.5, 0.5, 0.5, 0.5, 0.5, 0.5, 0.5, 0.5, 0.5, 0.5, 0.5, 0.5, 0.5, 0.5, 0.5, 0.5, 0.5, 0.5, 0.5, 0.5, 0.5, 0.5, 0.5, 0.5, 0.5, 0.5, 0.5, 0.5, 0.5, 0.5, 0.5, 0.5, 0.5, 0.5, 0.5, 0.5, 0.5, 0.5, 0.5, 0.5, 0.5, 0.5, 0.5, 0.5, 0.5, 0.5, 0.5, 0.5, 0.5, 0.5, 0.5, 0.5, 0.5, 0.5, 0.5, 0.5, 0.5, 0.5, 0.5, 0.5, 0.5, 0.5, 0.5, 0.5, 0.5, 0.5, 0.5, 0.5, 0.5, 0.5, 0.5, 0.5, 0.5, 0.5, 0.5, 0.5, 0.5, 0.5, 0.5, 0.5, 0.5, 0.5, 0.5, 0.5, 0.5, 0.5, 0.5, 0.5, 0.5, 0.5, 0.5, 0.5, 0.5, 0.5, 0.5, 0.5, 0.5, 0.5, 0.5, 0.5, 0.5, 0.5, 0.5]"
       ]
      },
      {
       "output_type": "stream",
       "stream": "stdout",
       "text": [
        "\n",
        "[0.035308450180920395, 0.015900278873051947, 0.027606640458033495, 0.020287811471444019, 0.028085748571213369, 0.035450017068918892, 0.0030537699131523133, 0.018801048240551517, 0.0010101978777581351, 0.00050936119312244637, 0.008238681424071536, 0.0036143352597136787, 0.005607800401233284, 0.0025444087200298623, 0.019754369486924619, 0.008088683576243998, 0.0, 0.0077047868625348317, 0.0065852856156395825, 0.0015393751346797165, 0.005668936813507235, 0.0010016733692713726, 0.0065990598011115165, 0.0050674066527983952, 0.0015393751346797165, 0.0066773510107629745, 0.0015127146704332129, 0.0010033534773107617, 0.0025444087200298623, 0.0015127146704332129, 0.020761540704040373, 0.0010385384500440277, 0.0061854044439900308, 0.0010385384500440277, 0.0076763527928345732, 0.0015393751346797165, 0.0025548226894230226, 0.0010101978777581351, 0.0015393751346797213, 0.0005008366846356888, 0.0015393751346797165, 0.0010101978777581351, 0.0010101978777581351, 0.0010300139415572653, 0.00050936119312244637, 0.0015393751346797165, 0.00050936119312244637, 0.0020220758635556592, 0.0010187223862448975, 0.0025444087200298623, 0.0015127146704332129, 0.0040563311891210398, 0.0010385384500440277, 0.0040760618683429806, 0.00050936119312244637, 0.0025366867336632723, 0.0015393751346797165, 0.0015308506261929541, 0.0050948696391650674, 0.0050810954536931333, 0.0010016733692713726, 0.0041208482133005854, 0.0, 0.0005008366846356888, 0.0015393751346797165, 0.00052917725692158137, 0.0035417203190134224, 0.0010583545138431627, 0.0036045572351535793, 0.0005008366846356888, 0.0046483453621827594, 0.0010300139415572701, 0.0010016733692713726, 0.0015308506261929541, 0.0015393751346797165, 0.0005008366846356888, 0.0060828542075416917, 0.0005008366846356888, 0.0056318827756944041, 0.0005008366846356888, 0.0040985495193418897, 0.0010300139415572701, 0.0020273255405408351, 0.0015393751346797165, 0.0015127146704332129, 0.0010385384500440277, 0.00050936119312245125, 0.0015393751346797165, 0.0, 0.0076763527928345732, 0.0010385384500440277, 0.0010385384500440277, 0.0005008366846356888, 0.0, 0.0005008366846356888, 0.0010101978777581351, 0.0005008366846356888, 0.0005008366846356888, 0.0005008366846356888, 0.0015393751346797165, 0.0005008366846356888, 0.0005008366846356888, 0.0015393751346797165, 0.0010033534773107617, 0.0015393751346797165, 0.0010101978777581351, 0.0015393751346797165, 0.0005008366846356888, 0.0010101978777581351, 0.0015393751346797165, 0.0005008366846356888, 0.0, 0.0010101978777581351, 0.00050936119312244637, 0.0015393751346797165, 0.00050936119312244637, 0.0015393751346797165, 0.0, 0.0015393751346797165, 0.0020220758635556592, 0.0010385384500440277, 0.0015127146704332079, 0.0015393751346797165, 0.00050936119312244637, 0.0030392035263383452, 0.0010101978777581351, 0.00050936119312244637, 0.0015308506261929541, 0.0015308506261929541, 0.0010101978777581351, 0.0010300139415572701, 0.0041070740278286565, 0.0015393751346797165, 0.0041140038128532072, 0.0015393751346797165, 0.0030727937756094129, 0.0015393751346797165, 0.0005008366846356888, 0.0015393751346797165, 0.0005008366846356888, 0.0010101978777581351, 0.0005008366846356888, 0.0015393751346797165, 0.0015393751346797165, 0.0030951960420311279, 0.0010300139415572701, 0.0015393751346797165, 0.0010016733692713726, 0.0010300139415572701, 0.0005008366846356888, 0.0010101978777581351, 0.0005008366846356888, 0.0015393751346797165]\n",
        "[1.0, 1.0, 1.0, 1.0, 1.0, 1.0, 1.0, 1.0, 0.5, 0.5, 0.5, 0.5, 0.5, 0.5, 0.5, 0.5, 0.5, 0.5, 0.50000000000000011, 0.49999999999999989, 0.50000000000000011, 0.5, 0.5, 0.5, 0.5, 0.49999999999999989, 0.5, 0.49999999999999989, 0.5, 0.50000000000000022, 0.5, 0.5, 0.5, 0.5, 0.5, 0.5, 0.33333333333333331, 0.33333333333333331, 0.33333333333333331, 0.33333333333333326, 0.33333333333333337, 0.33333333333333326, 0.33333333333333331, 0.33333333333333331, 0.33333333333333331, 0.33333333333333331, 0.33333333333333331, 0.33333333333333331, 0.33333333333333331, 0.33333333333333331, 0.33333333333333331, 0.33333333333333331, 0.33333333333333337, 0.33333333333333331, 0.33333333333333337, 0.33333333333333331, 0.33333333333333337, 0.33333333333333337, 0.33333333333333331, 0.33333333333333331, 0.33333333333333331, 0.33333333333333331, 0.33333333333333331, 0.33333333333333331, 0.33333333333333331, 0.33333333333333331, 0.33333333333333343, 0.33333333333333331, 0.33333333333333331, 0.33333333333333331, 0.33333333333333331, 0.33333333333333331, 0.33333333333333337, 0.33333333333333326, 0.33333333333333337, 0.33333333333333331, 0.33333333333333331, 0.33333333333333331, 0.33333333333333331, 0.33333333333333326, 0.33333333333333326, 0.33333333333333331, 0.33333333333333337, 0.33333333333333331, 0.33333333333333331, 0.33333333333333331, 0.33333333333333337, 0.33333333333333331, 0.33333333333333331, 0.33333333333333326, 0.33333333333333331, 0.33333333333333331, 0.25, 0.25, 0.25, 0.25, 0.25, 0.25, 0.25, 0.25, 0.25, 0.25, 0.25, 0.25, 0.25, 0.25, 0.25, 0.25, 0.25, 0.25000000000000006, 0.25, 0.25, 0.25, 0.25, 0.25, 0.25, 0.25, 0.25, 0.25, 0.25, 0.24999999999999994, 0.25, 0.25000000000000006, 0.25, 0.25, 0.25, 0.25, 0.25, 0.25, 0.25, 0.25, 0.25, 0.25, 0.25, 0.25, 0.25, 0.25, 0.25, 0.25, 0.25, 0.25, 0.25, 0.25, 0.25, 0.25, 0.25, 0.25, 0.25, 0.25, 0.25, 0.25, 0.25, 0.25000000000000006]\n",
        "[ 0.18276139  0.06507154  0.05804052  0.69412656]"
       ]
      },
      {
       "output_type": "stream",
       "stream": "stdout",
       "text": [
        "\n",
        "[ 0.15328536  0.07086165  0.0760389   0.69981409]"
       ]
      },
      {
       "output_type": "stream",
       "stream": "stdout",
       "text": [
        "\n",
        "[ 0.18844181  0.04373543  0.06352961  0.70429315]"
       ]
      },
      {
       "output_type": "stream",
       "stream": "stdout",
       "text": [
        "\n",
        "[ 0.19238099  0.05058994  0.06386326  0.69316581]"
       ]
      },
      {
       "output_type": "stream",
       "stream": "stdout",
       "text": [
        "\n",
        "[ 0.16474887  0.06916821  0.07222764  0.69385528]"
       ]
      },
      {
       "output_type": "stream",
       "stream": "stdout",
       "text": [
        "\n",
        "[ 0.16699554  0.05697712  0.06156369  0.71446366]"
       ]
      },
      {
       "output_type": "stream",
       "stream": "stdout",
       "text": [
        "\n",
        "[ 0.19851679  0.07793993  0.06847299  0.65507029]"
       ]
      },
      {
       "output_type": "stream",
       "stream": "stdout",
       "text": [
        "\n",
        "[ 0.15336724  0.09073208  0.05505054  0.70085014]"
       ]
      },
      {
       "output_type": "stream",
       "stream": "stdout",
       "text": [
        "\n",
        "[ 0.18015188  0.08467714  0.0699948   0.66517618]"
       ]
      },
      {
       "output_type": "stream",
       "stream": "stdout",
       "text": [
        "\n",
        "[ 0.19553839  0.05161012  0.08784857  0.66500293]"
       ]
      },
      {
       "output_type": "stream",
       "stream": "stdout",
       "text": [
        "\n",
        "[0.5, 0.5, 0.5, 0.5, 0.5, 0.5, 0.5, 0.5, 0.5, 0.5, 0.5, 0.5, 0.5, 0.5, 0.5, 0.5, 0.5, 0.5, 0.5, 0.5, 0.5, 0.5, 0.5, 0.5, 0.5, 0.5, 0.5, 0.5, 0.5, 0.5, 0.5, 0.5, 0.5, 0.5, 0.5, 0.5, 0.5, 0.5, 0.5, 0.5, 0.5, 0.5, 0.5, 0.5, 0.5, 0.5, 0.5, 0.5, 0.5, 0.5, 0.5, 0.5, 0.5, 0.5, 0.5, 0.5, 0.5, 0.5, 0.5, 0.5, 0.5, 0.5, 0.5, 0.5, 0.5, 0.5, 0.5, 0.5, 0.5, 0.5, 0.5, 0.5, 0.5, 0.5, 0.5, 0.5, 0.5, 0.5, 0.5, 0.5, 0.5, 0.5, 0.5, 0.5, 0.5, 0.5, 0.5, 0.5, 0.5, 0.5, 0.5, 0.5, 0.5, 0.5, 0.5, 0.5, 0.5, 0.5, 0.5, 0.5, 0.5, 0.5, 0.5, 0.5, 0.5, 0.5, 0.5, 0.5, 0.5, 0.5, 0.5, 0.5, 0.5, 0.5, 0.5, 0.5, 0.5, 0.5, 0.5, 0.5, 0.5, 0.5, 0.5, 0.5, 0.5, 0.5, 0.5, 0.5, 0.5, 0.5, 0.5, 0.5, 0.5, 0.5, 0.5, 0.5, 0.5, 0.5, 0.5, 0.5, 0.5, 0.5, 0.5, 0.5, 0.5, 0.5, 0.5, 0.5, 0.5, 0.5, 0.5, 0.5, 0.5, 0.5]"
       ]
      },
      {
       "output_type": "stream",
       "stream": "stdout",
       "text": [
        "\n",
        "[0.035308450180920395, 0.015900278873051947, 0.027606640458033495, 0.020287811471444019, 0.028085748571213369, 0.035450017068918892, 0.0030537699131523133, 0.018801048240551517, 0.0010101978777581351, 0.00050936119312244637, 0.008238681424071536, 0.0036143352597136787, 0.005607800401233284, 0.0025444087200298623, 0.019754369486924619, 0.008088683576243998, 0.0, 0.0077047868625348317, 0.0065852856156395825, 0.0015393751346797165, 0.005668936813507235, 0.0010016733692713726, 0.0065990598011115165, 0.0050674066527983952, 0.0015393751346797165, 0.0066773510107629745, 0.0015127146704332129, 0.0010033534773107617, 0.0025444087200298623, 0.0015127146704332129, 0.020761540704040373, 0.0010385384500440277, 0.0061854044439900308, 0.0010385384500440277, 0.0076763527928345732, 0.0015393751346797165, 0.0025548226894230226, 0.0010101978777581351, 0.0015393751346797213, 0.0005008366846356888, 0.0015393751346797165, 0.0010101978777581351, 0.0010101978777581351, 0.0010300139415572653, 0.00050936119312244637, 0.0015393751346797165, 0.00050936119312244637, 0.0020220758635556592, 0.0010187223862448975, 0.0025444087200298623, 0.0015127146704332129, 0.0040563311891210398, 0.0010385384500440277, 0.0040760618683429806, 0.00050936119312244637, 0.0025366867336632723, 0.0015393751346797165, 0.0015308506261929541, 0.0050948696391650674, 0.0050810954536931333, 0.0010016733692713726, 0.0041208482133005854, 0.0, 0.0005008366846356888, 0.0015393751346797165, 0.00052917725692158137, 0.0035417203190134224, 0.0010583545138431627, 0.0036045572351535793, 0.0005008366846356888, 0.0046483453621827594, 0.0010300139415572701, 0.0010016733692713726, 0.0015308506261929541, 0.0015393751346797165, 0.0005008366846356888, 0.0060828542075416917, 0.0005008366846356888, 0.0056318827756944041, 0.0005008366846356888, 0.0040985495193418897, 0.0010300139415572701, 0.0020273255405408351, 0.0015393751346797165, 0.0015127146704332129, 0.0010385384500440277, 0.00050936119312245125, 0.0015393751346797165, 0.0, 0.0076763527928345732, 0.0010385384500440277, 0.0010385384500440277, 0.0005008366846356888, 0.0, 0.0005008366846356888, 0.0010101978777581351, 0.0005008366846356888, 0.0005008366846356888, 0.0005008366846356888, 0.0015393751346797165, 0.0005008366846356888, 0.0005008366846356888, 0.0015393751346797165, 0.0010033534773107617, 0.0015393751346797165, 0.0010101978777581351, 0.0015393751346797165, 0.0005008366846356888, 0.0010101978777581351, 0.0015393751346797165, 0.0005008366846356888, 0.0, 0.0010101978777581351, 0.00050936119312244637, 0.0015393751346797165, 0.00050936119312244637, 0.0015393751346797165, 0.0, 0.0015393751346797165, 0.0020220758635556592, 0.0010385384500440277, 0.0015127146704332079, 0.0015393751346797165, 0.00050936119312244637, 0.0030392035263383452, 0.0010101978777581351, 0.00050936119312244637, 0.0015308506261929541, 0.0015308506261929541, 0.0010101978777581351, 0.0010300139415572701, 0.0041070740278286565, 0.0015393751346797165, 0.0041140038128532072, 0.0015393751346797165, 0.0030727937756094129, 0.0015393751346797165, 0.0005008366846356888, 0.0015393751346797165, 0.0005008366846356888, 0.0010101978777581351, 0.0005008366846356888, 0.0015393751346797165, 0.0015393751346797165, 0.0030951960420311279, 0.0010300139415572701, 0.0015393751346797165, 0.0010016733692713726, 0.0010300139415572701, 0.0005008366846356888, 0.0010101978777581351, 0.0005008366846356888, 0.0015393751346797165, 0.0015393751346797165]\n",
        "[1.0, 1.0, 1.0, 1.0, 1.0, 1.0, 1.0, 1.0, 0.5, 0.5, 0.5, 0.5, 0.5, 0.5, 0.5, 0.5, 0.5, 0.5, 0.50000000000000011, 0.49999999999999989, 0.50000000000000011, 0.5, 0.5, 0.5, 0.5, 0.49999999999999989, 0.5, 0.49999999999999989, 0.5, 0.50000000000000022, 0.5, 0.5, 0.5, 0.5, 0.5, 0.5, 0.33333333333333331, 0.33333333333333331, 0.33333333333333331, 0.33333333333333326, 0.33333333333333337, 0.33333333333333326, 0.33333333333333331, 0.33333333333333331, 0.33333333333333331, 0.33333333333333331, 0.33333333333333331, 0.33333333333333331, 0.33333333333333331, 0.33333333333333331, 0.33333333333333331, 0.33333333333333331, 0.33333333333333337, 0.33333333333333331, 0.33333333333333337, 0.33333333333333331, 0.33333333333333337, 0.33333333333333337, 0.33333333333333331, 0.33333333333333331, 0.33333333333333331, 0.33333333333333331, 0.33333333333333331, 0.33333333333333331, 0.33333333333333331, 0.33333333333333331, 0.33333333333333343, 0.33333333333333331, 0.33333333333333331, 0.33333333333333331, 0.33333333333333331, 0.33333333333333331, 0.33333333333333337, 0.33333333333333326, 0.33333333333333337, 0.33333333333333331, 0.33333333333333331, 0.33333333333333331, 0.33333333333333331, 0.33333333333333326, 0.33333333333333326, 0.33333333333333331, 0.33333333333333337, 0.33333333333333331, 0.33333333333333331, 0.33333333333333331, 0.33333333333333337, 0.33333333333333331, 0.33333333333333331, 0.33333333333333326, 0.33333333333333331, 0.33333333333333331, 0.25, 0.25, 0.25, 0.25, 0.25, 0.25, 0.25, 0.25, 0.25, 0.25, 0.25, 0.25, 0.25, 0.25, 0.25, 0.25, 0.25, 0.25000000000000006, 0.25, 0.25, 0.25, 0.25, 0.25, 0.25, 0.25, 0.25, 0.25, 0.25, 0.24999999999999994, 0.25, 0.25000000000000006, 0.25, 0.25, 0.25, 0.25, 0.25, 0.25, 0.25, 0.25, 0.25, 0.25, 0.25, 0.25, 0.25, 0.25, 0.25, 0.25, 0.25, 0.25, 0.25, 0.25, 0.25, 0.25, 0.25, 0.25, 0.25, 0.25, 0.25, 0.25, 0.25, 0.25000000000000006, 0.25]\n",
        "[ 0.39870321  0.18404322  0.16715506  0.25009852]"
       ]
      },
      {
       "output_type": "stream",
       "stream": "stdout",
       "text": [
        "\n",
        "[ 0.36268938  0.1757627   0.19191254  0.26963537]"
       ]
      },
      {
       "output_type": "stream",
       "stream": "stdout",
       "text": [
        "\n",
        "[ 0.37737589  0.18209077  0.15528054  0.2852528 ]"
       ]
      },
      {
       "output_type": "stream",
       "stream": "stdout",
       "text": [
        "\n",
        "[ 0.35852733  0.16027475  0.19001271  0.29118521]"
       ]
      },
      {
       "output_type": "stream",
       "stream": "stdout",
       "text": [
        "\n",
        "[ 0.35732635  0.20332584  0.18936318  0.24998464]"
       ]
      },
      {
       "output_type": "stream",
       "stream": "stdout",
       "text": [
        "\n",
        "[ 0.33254553  0.17808163  0.20485394  0.2845189 ]"
       ]
      },
      {
       "output_type": "stream",
       "stream": "stdout",
       "text": [
        "\n",
        "[ 0.37898695  0.18792669  0.18656186  0.2465245 ]"
       ]
      },
      {
       "output_type": "stream",
       "stream": "stdout",
       "text": [
        "\n",
        "[ 0.33919559  0.21449709  0.17829554  0.26801178]"
       ]
      },
      {
       "output_type": "stream",
       "stream": "stdout",
       "text": [
        "\n",
        "[ 0.34018773  0.185162    0.18033147  0.29431881]"
       ]
      },
      {
       "output_type": "stream",
       "stream": "stdout",
       "text": [
        "\n",
        "[ 0.37746463  0.15582693  0.1894701   0.27723834]"
       ]
      },
      {
       "output_type": "stream",
       "stream": "stdout",
       "text": [
        "\n",
        "[0.5, 0.5, 0.5, 0.5, 0.5, 0.5, 0.5, 0.5, 0.5, 0.5, 0.5, 0.5, 0.5, 0.5, 0.5, 0.5, 0.5, 0.5, 0.5, 0.5, 0.5, 0.5, 0.5, 0.5, 0.5, 0.5, 0.5, 0.5, 0.5, 0.5, 0.5, 0.5, 0.5, 0.5, 0.5, 0.5, 0.5, 0.5, 0.5, 0.5, 0.5, 0.5, 0.5, 0.5, 0.5, 0.5, 0.5, 0.5, 0.5, 0.5, 0.5, 0.5, 0.5, 0.5, 0.5, 0.5, 0.5, 0.5, 0.5, 0.5, 0.5, 0.5, 0.5, 0.5, 0.5, 0.5, 0.5, 0.5, 0.5, 0.5, 0.5, 0.5, 0.5, 0.5, 0.5, 0.5, 0.5, 0.5, 0.5, 0.5, 0.5, 0.5, 0.5, 0.5, 0.5, 0.5, 0.5, 0.5, 0.5, 0.5, 0.5, 0.5, 0.5, 0.5, 0.5, 0.5, 0.5, 0.5, 0.5, 0.5, 0.5, 0.5, 0.5, 0.5, 0.5, 0.5, 0.5, 0.5, 0.5, 0.5, 0.5, 0.5, 0.5, 0.5, 0.5, 0.5, 0.5, 0.5, 0.5, 0.5, 0.5, 0.5, 0.5, 0.5, 0.5, 0.5, 0.5, 0.5, 0.5, 0.5, 0.5, 0.5, 0.5, 0.5, 0.5, 0.5, 0.5, 0.5, 0.5, 0.5, 0.5, 0.5, 0.5, 0.5, 0.5, 0.5, 0.5, 0.5, 0.5, 0.5, 0.5, 0.5, 0.5, 0.5, 0.5]"
       ]
      },
      {
       "output_type": "stream",
       "stream": "stdout",
       "text": [
        "\n",
        "[0.035308450180920395, 0.015900278873051947, 0.027606640458033495, 0.020287811471444019, 0.028085748571213369, 0.035450017068918892, 0.0030537699131523133, 0.018801048240551517, 0.0010101978777581351, 0.00050936119312244637, 0.008238681424071536, 0.0036143352597136787, 0.005607800401233284, 0.0025444087200298623, 0.019754369486924619, 0.008088683576243998, 0.0, 0.0077047868625348317, 0.0065852856156395825, 0.0015393751346797165, 0.005668936813507235, 0.0010016733692713726, 0.0065990598011115165, 0.0050674066527983952, 0.0015393751346797165, 0.0066773510107629745, 0.0015127146704332129, 0.0010033534773107617, 0.0025444087200298623, 0.0015127146704332129, 0.020761540704040373, 0.0010385384500440277, 0.0061854044439900308, 0.0010385384500440277, 0.0076763527928345732, 0.0015393751346797165, 0.0025548226894230226, 0.0010101978777581351, 0.0015393751346797213, 0.0005008366846356888, 0.0015393751346797165, 0.0010101978777581351, 0.0010101978777581351, 0.0010300139415572653, 0.00050936119312244637, 0.0015393751346797165, 0.00050936119312244637, 0.0020220758635556592, 0.0010187223862448975, 0.0025444087200298623, 0.0015127146704332129, 0.0040563311891210398, 0.0010385384500440277, 0.0040760618683429806, 0.00050936119312244637, 0.0025366867336632723, 0.0015393751346797165, 0.0015308506261929541, 0.0050948696391650674, 0.0050810954536931333, 0.0010016733692713726, 0.0041208482133005854, 0.0, 0.0005008366846356888, 0.0015393751346797165, 0.00052917725692158137, 0.0035417203190134224, 0.0010583545138431627, 0.0036045572351535793, 0.0005008366846356888, 0.0046483453621827594, 0.0010300139415572701, 0.0010016733692713726, 0.0015308506261929541, 0.0015393751346797165, 0.0005008366846356888, 0.0060828542075416917, 0.0005008366846356888, 0.0056318827756944041, 0.0005008366846356888, 0.0040985495193418897, 0.0010300139415572701, 0.0020273255405408351, 0.0015393751346797165, 0.0015127146704332129, 0.0010385384500440277, 0.00050936119312245125, 0.0015393751346797165, 0.0, 0.0076763527928345732, 0.0010385384500440277, 0.0010385384500440277, 0.0005008366846356888, 0.0, 0.0005008366846356888, 0.0010101978777581351, 0.0005008366846356888, 0.0005008366846356888, 0.0005008366846356888, 0.0015393751346797165, 0.0005008366846356888, 0.0005008366846356888, 0.0015393751346797165, 0.0010033534773107617, 0.0015393751346797165, 0.0010101978777581351, 0.0015393751346797165, 0.0005008366846356888, 0.0010101978777581351, 0.0015393751346797165, 0.0005008366846356888, 0.0, 0.0010101978777581351, 0.00050936119312244637, 0.0015393751346797165, 0.00050936119312244637, 0.0015393751346797165, 0.0, 0.0015393751346797165, 0.0020220758635556592, 0.0010385384500440277, 0.0015127146704332079, 0.0015393751346797165, 0.00050936119312244637, 0.0030392035263383452, 0.0010101978777581351, 0.00050936119312244637, 0.0015308506261929541, 0.0015308506261929541, 0.0010101978777581351, 0.0010300139415572701, 0.0041070740278286565, 0.0015393751346797165, 0.0041140038128532072, 0.0015393751346797165, 0.0030727937756094129, 0.0015393751346797165, 0.0005008366846356888, 0.0015393751346797165, 0.0005008366846356888, 0.0010101978777581351, 0.0005008366846356888, 0.0015393751346797165, 0.0015393751346797165, 0.0030951960420311279, 0.0010300139415572701, 0.0015393751346797165, 0.0010016733692713726, 0.0010300139415572701, 0.0005008366846356888, 0.0010101978777581351, 0.0005008366846356888, 0.0015393751346797165, 0.0015393751346797165, 0.005122521582571953]\n",
        "[1.0, 1.0, 1.0, 1.0, 1.0, 1.0, 1.0, 1.0, 0.5, 0.5, 0.5, 0.5, 0.5, 0.5, 0.5, 0.5, 0.5, 0.5, 0.50000000000000011, 0.49999999999999989, 0.50000000000000011, 0.5, 0.5, 0.5, 0.5, 0.49999999999999989, 0.5, 0.49999999999999989, 0.5, 0.50000000000000022, 0.5, 0.5, 0.5, 0.5, 0.5, 0.5, 0.33333333333333331, 0.33333333333333331, 0.33333333333333331, 0.33333333333333326, 0.33333333333333337, 0.33333333333333326, 0.33333333333333331, 0.33333333333333331, 0.33333333333333331, 0.33333333333333331, 0.33333333333333331, 0.33333333333333331, 0.33333333333333331, 0.33333333333333331, 0.33333333333333331, 0.33333333333333331, 0.33333333333333337, 0.33333333333333331, 0.33333333333333337, 0.33333333333333331, 0.33333333333333337, 0.33333333333333337, 0.33333333333333331, 0.33333333333333331, 0.33333333333333331, 0.33333333333333331, 0.33333333333333331, 0.33333333333333331, 0.33333333333333331, 0.33333333333333331, 0.33333333333333343, 0.33333333333333331, 0.33333333333333331, 0.33333333333333331, 0.33333333333333331, 0.33333333333333331, 0.33333333333333337, 0.33333333333333326, 0.33333333333333337, 0.33333333333333331, 0.33333333333333331, 0.33333333333333331, 0.33333333333333331, 0.33333333333333326, 0.33333333333333326, 0.33333333333333331, 0.33333333333333337, 0.33333333333333331, 0.33333333333333331, 0.33333333333333331, 0.33333333333333337, 0.33333333333333331, 0.33333333333333331, 0.33333333333333326, 0.33333333333333331, 0.33333333333333331, 0.25, 0.25, 0.25, 0.25, 0.25, 0.25, 0.25, 0.25, 0.25, 0.25, 0.25, 0.25, 0.25, 0.25, 0.25, 0.25, 0.25, 0.25000000000000006, 0.25, 0.25, 0.25, 0.25, 0.25, 0.25, 0.25, 0.25, 0.25, 0.25, 0.24999999999999994, 0.25, 0.25000000000000006, 0.25, 0.25, 0.25, 0.25, 0.25, 0.25, 0.25, 0.25, 0.25, 0.25, 0.25, 0.25, 0.25, 0.25, 0.25, 0.25, 0.25, 0.25, 0.25, 0.25, 0.25, 0.25, 0.25, 0.25, 0.25, 0.25, 0.25, 0.25, 0.25, 0.25000000000000006, 0.25, 0.25]\n",
        "[ 0.16087685  0.07690871  0.70803303  0.05418141]"
       ]
      },
      {
       "output_type": "stream",
       "stream": "stdout",
       "text": [
        "\n",
        "[ 0.14541316  0.0913147   0.71380111  0.04947103]"
       ]
      },
      {
       "output_type": "stream",
       "stream": "stdout",
       "text": [
        "\n",
        "[ 0.19054131  0.0679891   0.66932857  0.07214102]"
       ]
      },
      {
       "output_type": "stream",
       "stream": "stdout",
       "text": [
        "\n",
        "[ 0.18301093  0.06847042  0.68864903  0.05986963]"
       ]
      },
      {
       "output_type": "stream",
       "stream": "stdout",
       "text": [
        "\n",
        "[ 0.19303009  0.09279749  0.65302725  0.06114518]"
       ]
      },
      {
       "output_type": "stream",
       "stream": "stdout",
       "text": [
        "\n",
        "[ 0.17593432  0.10538187  0.63903282  0.07965098]"
       ]
      },
      {
       "output_type": "stream",
       "stream": "stdout",
       "text": [
        "\n",
        "[ 0.19816257  0.08480341  0.64836245  0.06867157]"
       ]
      },
      {
       "output_type": "stream",
       "stream": "stdout",
       "text": [
        "\n",
        "[ 0.16726301  0.08432769  0.66722587  0.08118343]"
       ]
      },
      {
       "output_type": "stream",
       "stream": "stdout",
       "text": [
        "\n",
        "[ 0.21571044  0.06378617  0.67057168  0.0499317 ]"
       ]
      },
      {
       "output_type": "stream",
       "stream": "stdout",
       "text": [
        "\n",
        "[ 0.20531731  0.08336265  0.64310849  0.06821155]"
       ]
      },
      {
       "output_type": "stream",
       "stream": "stdout",
       "text": [
        "\n",
        "[0.5, 0.5, 0.5, 0.5, 0.5, 0.5, 0.5, 0.5, 0.5, 0.5, 0.5, 0.5, 0.5, 0.5, 0.5, 0.5, 0.5, 0.5, 0.5, 0.5, 0.5, 0.5, 0.5, 0.5, 0.5, 0.5, 0.5, 0.5, 0.5, 0.5, 0.5, 0.5, 0.5, 0.5, 0.5, 0.5, 0.5, 0.5, 0.5, 0.5, 0.5, 0.5, 0.5, 0.5, 0.5, 0.5, 0.5, 0.5, 0.5, 0.5, 0.5, 0.5, 0.5, 0.5, 0.5, 0.5, 0.5, 0.5, 0.5, 0.5, 0.5, 0.5, 0.5, 0.5, 0.5, 0.5, 0.5, 0.5, 0.5, 0.5, 0.5, 0.5, 0.5, 0.5, 0.5, 0.5, 0.5, 0.5, 0.5, 0.5, 0.5, 0.5, 0.5, 0.5, 0.5, 0.5, 0.5, 0.5, 0.5, 0.5, 0.5, 0.5, 0.5, 0.5, 0.5, 0.5, 0.5, 0.5, 0.5, 0.5, 0.5, 0.5, 0.5, 0.5, 0.5, 0.5, 0.5, 0.5, 0.5, 0.5, 0.5, 0.5, 0.5, 0.5, 0.5, 0.5, 0.5, 0.5, 0.5, 0.5, 0.5, 0.5, 0.5, 0.5, 0.5, 0.5, 0.5, 0.5, 0.5, 0.5, 0.5, 0.5, 0.5, 0.5, 0.5, 0.5, 0.5, 0.5, 0.5, 0.5, 0.5, 0.5, 0.5, 0.5, 0.5, 0.5, 0.5, 0.5, 0.5, 0.5, 0.5, 0.5, 0.5, 0.5, 0.5, 0.5]"
       ]
      },
      {
       "output_type": "stream",
       "stream": "stdout",
       "text": [
        "\n",
        "[0.035308450180920395, 0.015900278873051947, 0.027606640458033495, 0.020287811471444019, 0.028085748571213369, 0.035450017068918892, 0.0030537699131523133, 0.018801048240551517, 0.0010101978777581351, 0.00050936119312244637, 0.008238681424071536, 0.0036143352597136787, 0.005607800401233284, 0.0025444087200298623, 0.019754369486924619, 0.008088683576243998, 0.0, 0.0077047868625348317, 0.0065852856156395825, 0.0015393751346797165, 0.005668936813507235, 0.0010016733692713726, 0.0065990598011115165, 0.0050674066527983952, 0.0015393751346797165, 0.0066773510107629745, 0.0015127146704332129, 0.0010033534773107617, 0.0025444087200298623, 0.0015127146704332129, 0.020761540704040373, 0.0010385384500440277, 0.0061854044439900308, 0.0010385384500440277, 0.0076763527928345732, 0.0015393751346797165, 0.0025548226894230226, 0.0010101978777581351, 0.0015393751346797213, 0.0005008366846356888, 0.0015393751346797165, 0.0010101978777581351, 0.0010101978777581351, 0.0010300139415572653, 0.00050936119312244637, 0.0015393751346797165, 0.00050936119312244637, 0.0020220758635556592, 0.0010187223862448975, 0.0025444087200298623, 0.0015127146704332129, 0.0040563311891210398, 0.0010385384500440277, 0.0040760618683429806, 0.00050936119312244637, 0.0025366867336632723, 0.0015393751346797165, 0.0015308506261929541, 0.0050948696391650674, 0.0050810954536931333, 0.0010016733692713726, 0.0041208482133005854, 0.0, 0.0005008366846356888, 0.0015393751346797165, 0.00052917725692158137, 0.0035417203190134224, 0.0010583545138431627, 0.0036045572351535793, 0.0005008366846356888, 0.0046483453621827594, 0.0010300139415572701, 0.0010016733692713726, 0.0015308506261929541, 0.0015393751346797165, 0.0005008366846356888, 0.0060828542075416917, 0.0005008366846356888, 0.0056318827756944041, 0.0005008366846356888, 0.0040985495193418897, 0.0010300139415572701, 0.0020273255405408351, 0.0015393751346797165, 0.0015127146704332129, 0.0010385384500440277, 0.00050936119312245125, 0.0015393751346797165, 0.0, 0.0076763527928345732, 0.0010385384500440277, 0.0010385384500440277, 0.0005008366846356888, 0.0, 0.0005008366846356888, 0.0010101978777581351, 0.0005008366846356888, 0.0005008366846356888, 0.0005008366846356888, 0.0015393751346797165, 0.0005008366846356888, 0.0005008366846356888, 0.0015393751346797165, 0.0010033534773107617, 0.0015393751346797165, 0.0010101978777581351, 0.0015393751346797165, 0.0005008366846356888, 0.0010101978777581351, 0.0015393751346797165, 0.0005008366846356888, 0.0, 0.0010101978777581351, 0.00050936119312244637, 0.0015393751346797165, 0.00050936119312244637, 0.0015393751346797165, 0.0, 0.0015393751346797165, 0.0020220758635556592, 0.0010385384500440277, 0.0015127146704332079, 0.0015393751346797165, 0.00050936119312244637, 0.0030392035263383452, 0.0010101978777581351, 0.00050936119312244637, 0.0015308506261929541, 0.0015308506261929541, 0.0010101978777581351, 0.0010300139415572701, 0.0041070740278286565, 0.0015393751346797165, 0.0041140038128532072, 0.0015393751346797165, 0.0030727937756094129, 0.0015393751346797165, 0.0005008366846356888, 0.0015393751346797165, 0.0005008366846356888, 0.0010101978777581351, 0.0005008366846356888, 0.0015393751346797165, 0.0015393751346797165, 0.0030951960420311279, 0.0010300139415572701, 0.0015393751346797165, 0.0010016733692713726, 0.0010300139415572701, 0.0005008366846356888, 0.0010101978777581351, 0.0005008366846356888, 0.0015393751346797165, 0.0015393751346797165, 0.005122521582571953, 0.0015393751346797165]\n",
        "[1.0, 1.0, 1.0, 1.0, 1.0, 1.0, 1.0, 1.0, 0.5, 0.5, 0.5, 0.5, 0.5, 0.5, 0.5, 0.5, 0.5, 0.5, 0.50000000000000011, 0.49999999999999989, 0.50000000000000011, 0.5, 0.5, 0.5, 0.5, 0.49999999999999989, 0.5, 0.49999999999999989, 0.5, 0.50000000000000022, 0.5, 0.5, 0.5, 0.5, 0.5, 0.5, 0.33333333333333331, 0.33333333333333331, 0.33333333333333331, 0.33333333333333326, 0.33333333333333337, 0.33333333333333326, 0.33333333333333331, 0.33333333333333331, 0.33333333333333331, 0.33333333333333331, 0.33333333333333331, 0.33333333333333331, 0.33333333333333331, 0.33333333333333331, 0.33333333333333331, 0.33333333333333331, 0.33333333333333337, 0.33333333333333331, 0.33333333333333337, 0.33333333333333331, 0.33333333333333337, 0.33333333333333337, 0.33333333333333331, 0.33333333333333331, 0.33333333333333331, 0.33333333333333331, 0.33333333333333331, 0.33333333333333331, 0.33333333333333331, 0.33333333333333331, 0.33333333333333343, 0.33333333333333331, 0.33333333333333331, 0.33333333333333331, 0.33333333333333331, 0.33333333333333331, 0.33333333333333337, 0.33333333333333326, 0.33333333333333337, 0.33333333333333331, 0.33333333333333331, 0.33333333333333331, 0.33333333333333331, 0.33333333333333326, 0.33333333333333326, 0.33333333333333331, 0.33333333333333337, 0.33333333333333331, 0.33333333333333331, 0.33333333333333331, 0.33333333333333337, 0.33333333333333331, 0.33333333333333331, 0.33333333333333326, 0.33333333333333331, 0.33333333333333331, 0.25, 0.25, 0.25, 0.25, 0.25, 0.25, 0.25, 0.25, 0.25, 0.25, 0.25, 0.25, 0.25, 0.25, 0.25, 0.25, 0.25, 0.25000000000000006, 0.25, 0.25, 0.25, 0.25, 0.25, 0.25, 0.25, 0.25, 0.25, 0.25, 0.24999999999999994, 0.25, 0.25000000000000006, 0.25, 0.25, 0.25, 0.25, 0.25, 0.25, 0.25, 0.25, 0.25, 0.25, 0.25, 0.25, 0.25, 0.25, 0.25, 0.25, 0.25, 0.25, 0.25, 0.25, 0.25, 0.25, 0.25, 0.25, 0.25, 0.25, 0.25, 0.25, 0.25, 0.25000000000000006, 0.25, 0.25, 0.25]\n",
        "[ 0.16537643  0.06760279  0.70186453  0.06515626]"
       ]
      },
      {
       "output_type": "stream",
       "stream": "stdout",
       "text": [
        "\n",
        "[ 0.19472148  0.11069169  0.61395189  0.08063494]"
       ]
      },
      {
       "output_type": "stream",
       "stream": "stdout",
       "text": [
        "\n",
        "[ 0.15175222  0.07526832  0.7212801   0.05169936]"
       ]
      },
      {
       "output_type": "stream",
       "stream": "stdout",
       "text": [
        "\n",
        "[ 0.22534319  0.04890463  0.64532568  0.08042649]"
       ]
      },
      {
       "output_type": "stream",
       "stream": "stdout",
       "text": [
        "\n",
        "[ 0.18729081  0.073621    0.68578365  0.05330453]"
       ]
      },
      {
       "output_type": "stream",
       "stream": "stdout",
       "text": [
        "\n",
        "[ 0.18404085  0.07552646  0.67327622  0.06715647]"
       ]
      },
      {
       "output_type": "stream",
       "stream": "stdout",
       "text": [
        "\n",
        "[ 0.16435307  0.06790497  0.7165369   0.05120506]"
       ]
      },
      {
       "output_type": "stream",
       "stream": "stdout",
       "text": [
        "\n",
        "[ 0.18319371  0.08381219  0.68032546  0.05266864]"
       ]
      },
      {
       "output_type": "stream",
       "stream": "stdout",
       "text": [
        "\n",
        "[ 0.17874845  0.09125857  0.66343932  0.06655365]"
       ]
      },
      {
       "output_type": "stream",
       "stream": "stdout",
       "text": [
        "\n",
        "[ 0.19690988  0.08763093  0.6606078   0.05485139]"
       ]
      },
      {
       "output_type": "stream",
       "stream": "stdout",
       "text": [
        "\n",
        "[0.5, 0.5, 0.5, 0.5, 0.5, 0.5, 0.5, 0.5, 0.5, 0.5, 0.5, 0.5, 0.5, 0.5, 0.5, 0.5, 0.5, 0.5, 0.5, 0.5, 0.5, 0.5, 0.5, 0.5, 0.5, 0.5, 0.5, 0.5, 0.5, 0.5, 0.5, 0.5, 0.5, 0.5, 0.5, 0.5, 0.5, 0.5, 0.5, 0.5, 0.5, 0.5, 0.5, 0.5, 0.5, 0.5, 0.5, 0.5, 0.5, 0.5, 0.5, 0.5, 0.5, 0.5, 0.5, 0.5, 0.5, 0.5, 0.5, 0.5, 0.5, 0.5, 0.5, 0.5, 0.5, 0.5, 0.5, 0.5, 0.5, 0.5, 0.5, 0.5, 0.5, 0.5, 0.5, 0.5, 0.5, 0.5, 0.5, 0.5, 0.5, 0.5, 0.5, 0.5, 0.5, 0.5, 0.5, 0.5, 0.5, 0.5, 0.5, 0.5, 0.5, 0.5, 0.5, 0.5, 0.5, 0.5, 0.5, 0.5, 0.5, 0.5, 0.5, 0.5, 0.5, 0.5, 0.5, 0.5, 0.5, 0.5, 0.5, 0.5, 0.5, 0.5, 0.5, 0.5, 0.5, 0.5, 0.5, 0.5, 0.5, 0.5, 0.5, 0.5, 0.5, 0.5, 0.5, 0.5, 0.5, 0.5, 0.5, 0.5, 0.5, 0.5, 0.5, 0.5, 0.5, 0.5, 0.5, 0.5, 0.5, 0.5, 0.5, 0.5, 0.5, 0.5, 0.5, 0.5, 0.5, 0.5, 0.5, 0.5, 0.5, 0.5, 0.5, 0.5, 0.5]"
       ]
      },
      {
       "output_type": "stream",
       "stream": "stdout",
       "text": [
        "\n",
        "[0.035308450180920395, 0.015900278873051947, 0.027606640458033495, 0.020287811471444019, 0.028085748571213369, 0.035450017068918892, 0.0030537699131523133, 0.018801048240551517, 0.0010101978777581351, 0.00050936119312244637, 0.008238681424071536, 0.0036143352597136787, 0.005607800401233284, 0.0025444087200298623, 0.019754369486924619, 0.008088683576243998, 0.0, 0.0077047868625348317, 0.0065852856156395825, 0.0015393751346797165, 0.005668936813507235, 0.0010016733692713726, 0.0065990598011115165, 0.0050674066527983952, 0.0015393751346797165, 0.0066773510107629745, 0.0015127146704332129, 0.0010033534773107617, 0.0025444087200298623, 0.0015127146704332129, 0.020761540704040373, 0.0010385384500440277, 0.0061854044439900308, 0.0010385384500440277, 0.0076763527928345732, 0.0015393751346797165, 0.0025548226894230226, 0.0010101978777581351, 0.0015393751346797213, 0.0005008366846356888, 0.0015393751346797165, 0.0010101978777581351, 0.0010101978777581351, 0.0010300139415572653, 0.00050936119312244637, 0.0015393751346797165, 0.00050936119312244637, 0.0020220758635556592, 0.0010187223862448975, 0.0025444087200298623, 0.0015127146704332129, 0.0040563311891210398, 0.0010385384500440277, 0.0040760618683429806, 0.00050936119312244637, 0.0025366867336632723, 0.0015393751346797165, 0.0015308506261929541, 0.0050948696391650674, 0.0050810954536931333, 0.0010016733692713726, 0.0041208482133005854, 0.0, 0.0005008366846356888, 0.0015393751346797165, 0.00052917725692158137, 0.0035417203190134224, 0.0010583545138431627, 0.0036045572351535793, 0.0005008366846356888, 0.0046483453621827594, 0.0010300139415572701, 0.0010016733692713726, 0.0015308506261929541, 0.0015393751346797165, 0.0005008366846356888, 0.0060828542075416917, 0.0005008366846356888, 0.0056318827756944041, 0.0005008366846356888, 0.0040985495193418897, 0.0010300139415572701, 0.0020273255405408351, 0.0015393751346797165, 0.0015127146704332129, 0.0010385384500440277, 0.00050936119312245125, 0.0015393751346797165, 0.0, 0.0076763527928345732, 0.0010385384500440277, 0.0010385384500440277, 0.0005008366846356888, 0.0, 0.0005008366846356888, 0.0010101978777581351, 0.0005008366846356888, 0.0005008366846356888, 0.0005008366846356888, 0.0015393751346797165, 0.0005008366846356888, 0.0005008366846356888, 0.0015393751346797165, 0.0010033534773107617, 0.0015393751346797165, 0.0010101978777581351, 0.0015393751346797165, 0.0005008366846356888, 0.0010101978777581351, 0.0015393751346797165, 0.0005008366846356888, 0.0, 0.0010101978777581351, 0.00050936119312244637, 0.0015393751346797165, 0.00050936119312244637, 0.0015393751346797165, 0.0, 0.0015393751346797165, 0.0020220758635556592, 0.0010385384500440277, 0.0015127146704332079, 0.0015393751346797165, 0.00050936119312244637, 0.0030392035263383452, 0.0010101978777581351, 0.00050936119312244637, 0.0015308506261929541, 0.0015308506261929541, 0.0010101978777581351, 0.0010300139415572701, 0.0041070740278286565, 0.0015393751346797165, 0.0041140038128532072, 0.0015393751346797165, 0.0030727937756094129, 0.0015393751346797165, 0.0005008366846356888, 0.0015393751346797165, 0.0005008366846356888, 0.0010101978777581351, 0.0005008366846356888, 0.0015393751346797165, 0.0015393751346797165, 0.0030951960420311279, 0.0010300139415572701, 0.0015393751346797165, 0.0010016733692713726, 0.0010300139415572701, 0.0005008366846356888, 0.0010101978777581351, 0.0005008366846356888, 0.0015393751346797165, 0.0015393751346797165, 0.005122521582571953, 0.0015393751346797165, 0.0015393751346797165]\n",
        "[1.0, 1.0, 1.0, 1.0, 1.0, 1.0, 1.0, 1.0, 0.5, 0.5, 0.5, 0.5, 0.5, 0.5, 0.5, 0.5, 0.5, 0.5, 0.50000000000000011, 0.49999999999999989, 0.50000000000000011, 0.5, 0.5, 0.5, 0.5, 0.49999999999999989, 0.5, 0.49999999999999989, 0.5, 0.50000000000000022, 0.5, 0.5, 0.5, 0.5, 0.5, 0.5, 0.33333333333333331, 0.33333333333333331, 0.33333333333333331, 0.33333333333333326, 0.33333333333333337, 0.33333333333333326, 0.33333333333333331, 0.33333333333333331, 0.33333333333333331, 0.33333333333333331, 0.33333333333333331, 0.33333333333333331, 0.33333333333333331, 0.33333333333333331, 0.33333333333333331, 0.33333333333333331, 0.33333333333333337, 0.33333333333333331, 0.33333333333333337, 0.33333333333333331, 0.33333333333333337, 0.33333333333333337, 0.33333333333333331, 0.33333333333333331, 0.33333333333333331, 0.33333333333333331, 0.33333333333333331, 0.33333333333333331, 0.33333333333333331, 0.33333333333333331, 0.33333333333333343, 0.33333333333333331, 0.33333333333333331, 0.33333333333333331, 0.33333333333333331, 0.33333333333333331, 0.33333333333333337, 0.33333333333333326, 0.33333333333333337, 0.33333333333333331, 0.33333333333333331, 0.33333333333333331, 0.33333333333333331, 0.33333333333333326, 0.33333333333333326, 0.33333333333333331, 0.33333333333333337, 0.33333333333333331, 0.33333333333333331, 0.33333333333333331, 0.33333333333333337, 0.33333333333333331, 0.33333333333333331, 0.33333333333333326, 0.33333333333333331, 0.33333333333333331, 0.25, 0.25, 0.25, 0.25, 0.25, 0.25, 0.25, 0.25, 0.25, 0.25, 0.25, 0.25, 0.25, 0.25, 0.25, 0.25, 0.25, 0.25000000000000006, 0.25, 0.25, 0.25, 0.25, 0.25, 0.25, 0.25, 0.25, 0.25, 0.25, 0.24999999999999994, 0.25, 0.25000000000000006, 0.25, 0.25, 0.25, 0.25, 0.25, 0.25, 0.25, 0.25, 0.25, 0.25, 0.25, 0.25, 0.25, 0.25, 0.25, 0.25, 0.25, 0.25, 0.25, 0.25, 0.25, 0.25, 0.25, 0.25, 0.25, 0.25, 0.25, 0.25, 0.25, 0.25000000000000006, 0.25, 0.25, 0.25, 0.25]\n",
        "[ 0.26226332  0.09543822  0.04624408  0.59605439]"
       ]
      },
      {
       "output_type": "stream",
       "stream": "stdout",
       "text": [
        "\n",
        "[ 0.30278716  0.07182856  0.08501465  0.54036963]"
       ]
      },
      {
       "output_type": "stream",
       "stream": "stdout",
       "text": [
        "\n",
        "[ 0.29388154  0.05044283  0.07378193  0.5818937 ]"
       ]
      },
      {
       "output_type": "stream",
       "stream": "stdout",
       "text": [
        "\n",
        "[ 0.2736415   0.05340591  0.07922464  0.59372796]"
       ]
      },
      {
       "output_type": "stream",
       "stream": "stdout",
       "text": [
        "\n",
        "[ 0.26125701  0.07157822  0.06965678  0.59750798]"
       ]
      },
      {
       "output_type": "stream",
       "stream": "stdout",
       "text": [
        "\n",
        "[ 0.31237893  0.06282868  0.0943544   0.53043799]"
       ]
      },
      {
       "output_type": "stream",
       "stream": "stdout",
       "text": [
        "\n",
        "[ 0.33666503  0.06618945  0.10158827  0.49555725]"
       ]
      },
      {
       "output_type": "stream",
       "stream": "stdout",
       "text": [
        "\n",
        "[ 0.29477535  0.06699746  0.08187079  0.5563564 ]"
       ]
      },
      {
       "output_type": "stream",
       "stream": "stdout",
       "text": [
        "\n",
        "[ 0.29866439  0.05829656  0.09987046  0.54316859]"
       ]
      },
      {
       "output_type": "stream",
       "stream": "stdout",
       "text": [
        "\n",
        "[ 0.27052773  0.08379325  0.08326278  0.56241624]"
       ]
      },
      {
       "output_type": "stream",
       "stream": "stdout",
       "text": [
        "\n",
        "[0.5, 0.5, 0.5, 0.5, 0.5, 0.5, 0.5, 0.5, 0.5, 0.5, 0.5, 0.5, 0.5, 0.5, 0.5, 0.5, 0.5, 0.5, 0.5, 0.5, 0.5, 0.5, 0.5, 0.5, 0.5, 0.5, 0.5, 0.5, 0.5, 0.5, 0.5, 0.5, 0.5, 0.5, 0.5, 0.5, 0.5, 0.5, 0.5, 0.5, 0.5, 0.5, 0.5, 0.5, 0.5, 0.5, 0.5, 0.5, 0.5, 0.5, 0.5, 0.5, 0.5, 0.5, 0.5, 0.5, 0.5, 0.5, 0.5, 0.5, 0.5, 0.5, 0.5, 0.5, 0.5, 0.5, 0.5, 0.5, 0.5, 0.5, 0.5, 0.5, 0.5, 0.5, 0.5, 0.5, 0.5, 0.5, 0.5, 0.5, 0.5, 0.5, 0.5, 0.5, 0.5, 0.5, 0.5, 0.5, 0.5, 0.5, 0.5, 0.5, 0.5, 0.5, 0.5, 0.5, 0.5, 0.5, 0.5, 0.5, 0.5, 0.5, 0.5, 0.5, 0.5, 0.5, 0.5, 0.5, 0.5, 0.5, 0.5, 0.5, 0.5, 0.5, 0.5, 0.5, 0.5, 0.5, 0.5, 0.5, 0.5, 0.5, 0.5, 0.5, 0.5, 0.5, 0.5, 0.5, 0.5, 0.5, 0.5, 0.5, 0.5, 0.5, 0.5, 0.5, 0.5, 0.5, 0.5, 0.5, 0.5, 0.5, 0.5, 0.5, 0.5, 0.5, 0.5, 0.5, 0.5, 0.5, 0.5, 0.5, 0.5, 0.5, 0.5, 0.5, 0.5, 0.5]"
       ]
      },
      {
       "output_type": "stream",
       "stream": "stdout",
       "text": [
        "\n",
        "[0.035308450180920395, 0.015900278873051947, 0.027606640458033495, 0.020287811471444019, 0.028085748571213369, 0.035450017068918892, 0.0030537699131523133, 0.018801048240551517, 0.0010101978777581351, 0.00050936119312244637, 0.008238681424071536, 0.0036143352597136787, 0.005607800401233284, 0.0025444087200298623, 0.019754369486924619, 0.008088683576243998, 0.0, 0.0077047868625348317, 0.0065852856156395825, 0.0015393751346797165, 0.005668936813507235, 0.0010016733692713726, 0.0065990598011115165, 0.0050674066527983952, 0.0015393751346797165, 0.0066773510107629745, 0.0015127146704332129, 0.0010033534773107617, 0.0025444087200298623, 0.0015127146704332129, 0.020761540704040373, 0.0010385384500440277, 0.0061854044439900308, 0.0010385384500440277, 0.0076763527928345732, 0.0015393751346797165, 0.0025548226894230226, 0.0010101978777581351, 0.0015393751346797213, 0.0005008366846356888, 0.0015393751346797165, 0.0010101978777581351, 0.0010101978777581351, 0.0010300139415572653, 0.00050936119312244637, 0.0015393751346797165, 0.00050936119312244637, 0.0020220758635556592, 0.0010187223862448975, 0.0025444087200298623, 0.0015127146704332129, 0.0040563311891210398, 0.0010385384500440277, 0.0040760618683429806, 0.00050936119312244637, 0.0025366867336632723, 0.0015393751346797165, 0.0015308506261929541, 0.0050948696391650674, 0.0050810954536931333, 0.0010016733692713726, 0.0041208482133005854, 0.0, 0.0005008366846356888, 0.0015393751346797165, 0.00052917725692158137, 0.0035417203190134224, 0.0010583545138431627, 0.0036045572351535793, 0.0005008366846356888, 0.0046483453621827594, 0.0010300139415572701, 0.0010016733692713726, 0.0015308506261929541, 0.0015393751346797165, 0.0005008366846356888, 0.0060828542075416917, 0.0005008366846356888, 0.0056318827756944041, 0.0005008366846356888, 0.0040985495193418897, 0.0010300139415572701, 0.0020273255405408351, 0.0015393751346797165, 0.0015127146704332129, 0.0010385384500440277, 0.00050936119312245125, 0.0015393751346797165, 0.0, 0.0076763527928345732, 0.0010385384500440277, 0.0010385384500440277, 0.0005008366846356888, 0.0, 0.0005008366846356888, 0.0010101978777581351, 0.0005008366846356888, 0.0005008366846356888, 0.0005008366846356888, 0.0015393751346797165, 0.0005008366846356888, 0.0005008366846356888, 0.0015393751346797165, 0.0010033534773107617, 0.0015393751346797165, 0.0010101978777581351, 0.0015393751346797165, 0.0005008366846356888, 0.0010101978777581351, 0.0015393751346797165, 0.0005008366846356888, 0.0, 0.0010101978777581351, 0.00050936119312244637, 0.0015393751346797165, 0.00050936119312244637, 0.0015393751346797165, 0.0, 0.0015393751346797165, 0.0020220758635556592, 0.0010385384500440277, 0.0015127146704332079, 0.0015393751346797165, 0.00050936119312244637, 0.0030392035263383452, 0.0010101978777581351, 0.00050936119312244637, 0.0015308506261929541, 0.0015308506261929541, 0.0010101978777581351, 0.0010300139415572701, 0.0041070740278286565, 0.0015393751346797165, 0.0041140038128532072, 0.0015393751346797165, 0.0030727937756094129, 0.0015393751346797165, 0.0005008366846356888, 0.0015393751346797165, 0.0005008366846356888, 0.0010101978777581351, 0.0005008366846356888, 0.0015393751346797165, 0.0015393751346797165, 0.0030951960420311279, 0.0010300139415572701, 0.0015393751346797165, 0.0010016733692713726, 0.0010300139415572701, 0.0005008366846356888, 0.0010101978777581351, 0.0005008366846356888, 0.0015393751346797165, 0.0015393751346797165, 0.005122521582571953, 0.0015393751346797165, 0.0015393751346797165, 0.00050936119312244637]\n",
        "[1.0, 1.0, 1.0, 1.0, 1.0, 1.0, 1.0, 1.0, 0.5, 0.5, 0.5, 0.5, 0.5, 0.5, 0.5, 0.5, 0.5, 0.5, 0.50000000000000011, 0.49999999999999989, 0.50000000000000011, 0.5, 0.5, 0.5, 0.5, 0.49999999999999989, 0.5, 0.49999999999999989, 0.5, 0.50000000000000022, 0.5, 0.5, 0.5, 0.5, 0.5, 0.5, 0.33333333333333331, 0.33333333333333331, 0.33333333333333331, 0.33333333333333326, 0.33333333333333337, 0.33333333333333326, 0.33333333333333331, 0.33333333333333331, 0.33333333333333331, 0.33333333333333331, 0.33333333333333331, 0.33333333333333331, 0.33333333333333331, 0.33333333333333331, 0.33333333333333331, 0.33333333333333331, 0.33333333333333337, 0.33333333333333331, 0.33333333333333337, 0.33333333333333331, 0.33333333333333337, 0.33333333333333337, 0.33333333333333331, 0.33333333333333331, 0.33333333333333331, 0.33333333333333331, 0.33333333333333331, 0.33333333333333331, 0.33333333333333331, 0.33333333333333331, 0.33333333333333343, 0.33333333333333331, 0.33333333333333331, 0.33333333333333331, 0.33333333333333331, 0.33333333333333331, 0.33333333333333337, 0.33333333333333326, 0.33333333333333337, 0.33333333333333331, 0.33333333333333331, 0.33333333333333331, 0.33333333333333331, 0.33333333333333326, 0.33333333333333326, 0.33333333333333331, 0.33333333333333337, 0.33333333333333331, 0.33333333333333331, 0.33333333333333331, 0.33333333333333337, 0.33333333333333331, 0.33333333333333331, 0.33333333333333326, 0.33333333333333331, 0.33333333333333331, 0.25, 0.25, 0.25, 0.25, 0.25, 0.25, 0.25, 0.25, 0.25, 0.25, 0.25, 0.25, 0.25, 0.25, 0.25, 0.25, 0.25, 0.25000000000000006, 0.25, 0.25, 0.25, 0.25, 0.25, 0.25, 0.25, 0.25, 0.25, 0.25, 0.24999999999999994, 0.25, 0.25000000000000006, 0.25, 0.25, 0.25, 0.25, 0.25, 0.25, 0.25, 0.25, 0.25, 0.25, 0.25, 0.25, 0.25, 0.25, 0.25, 0.25, 0.25, 0.25, 0.25, 0.25, 0.25, 0.25, 0.25, 0.25, 0.25, 0.25, 0.25, 0.25, 0.25, 0.25000000000000006, 0.25, 0.25, 0.25, 0.25, 0.25]\n",
        "[ 0.62116651  0.14789574  0.14528263  0.08565512]"
       ]
      },
      {
       "output_type": "stream",
       "stream": "stdout",
       "text": [
        "\n",
        "[ 0.62386419  0.12034634  0.17100521  0.08478426]"
       ]
      },
      {
       "output_type": "stream",
       "stream": "stdout",
       "text": [
        "\n",
        "[ 0.61257009  0.13528052  0.13911312  0.11303626]"
       ]
      },
      {
       "output_type": "stream",
       "stream": "stdout",
       "text": [
        "\n",
        "[ 0.63545283  0.13054916  0.14438326  0.08961475]"
       ]
      },
      {
       "output_type": "stream",
       "stream": "stdout",
       "text": [
        "\n",
        "[ 0.6176883   0.13331553  0.15009398  0.09890219]"
       ]
      },
      {
       "output_type": "stream",
       "stream": "stdout",
       "text": [
        "\n",
        "[ 0.57550732  0.14020151  0.14683748  0.13745369]"
       ]
      },
      {
       "output_type": "stream",
       "stream": "stdout",
       "text": [
        "\n",
        "[ 0.61376521  0.10109763  0.18541855  0.09971862]"
       ]
      },
      {
       "output_type": "stream",
       "stream": "stdout",
       "text": [
        "\n",
        "[ 0.59811113  0.1345397   0.16627868  0.10107049]"
       ]
      },
      {
       "output_type": "stream",
       "stream": "stdout",
       "text": [
        "\n",
        "[ 0.6029173   0.14395355  0.14258392  0.11054524]"
       ]
      },
      {
       "output_type": "stream",
       "stream": "stdout",
       "text": [
        "\n",
        "[ 0.57047704  0.1338003   0.18384559  0.11187707]"
       ]
      },
      {
       "output_type": "stream",
       "stream": "stdout",
       "text": [
        "\n",
        "[0.5, 0.5, 0.5, 0.5, 0.5, 0.5, 0.5, 0.5, 0.5, 0.5, 0.5, 0.5, 0.5, 0.5, 0.5, 0.5, 0.5, 0.5, 0.5, 0.5, 0.5, 0.5, 0.5, 0.5, 0.5, 0.5, 0.5, 0.5, 0.5, 0.5, 0.5, 0.5, 0.5, 0.5, 0.5, 0.5, 0.5, 0.5, 0.5, 0.5, 0.5, 0.5, 0.5, 0.5, 0.5, 0.5, 0.5, 0.5, 0.5, 0.5, 0.5, 0.5, 0.5, 0.5, 0.5, 0.5, 0.5, 0.5, 0.5, 0.5, 0.5, 0.5, 0.5, 0.5, 0.5, 0.5, 0.5, 0.5, 0.5, 0.5, 0.5, 0.5, 0.5, 0.5, 0.5, 0.5, 0.5, 0.5, 0.5, 0.5, 0.5, 0.5, 0.5, 0.5, 0.5, 0.5, 0.5, 0.5, 0.5, 0.5, 0.5, 0.5, 0.5, 0.5, 0.5, 0.5, 0.5, 0.5, 0.5, 0.5, 0.5, 0.5, 0.5, 0.5, 0.5, 0.5, 0.5, 0.5, 0.5, 0.5, 0.5, 0.5, 0.5, 0.5, 0.5, 0.5, 0.5, 0.5, 0.5, 0.5, 0.5, 0.5, 0.5, 0.5, 0.5, 0.5, 0.5, 0.5, 0.5, 0.5, 0.5, 0.5, 0.5, 0.5, 0.5, 0.5, 0.5, 0.5, 0.5, 0.5, 0.5, 0.5, 0.5, 0.5, 0.5, 0.5, 0.5, 0.5, 0.5, 0.5, 0.5, 0.5, 0.5, 0.5, 0.5, 0.5, 0.5, 0.5, 0.5]"
       ]
      },
      {
       "output_type": "stream",
       "stream": "stdout",
       "text": [
        "\n",
        "[0.035308450180920395, 0.015900278873051947, 0.027606640458033495, 0.020287811471444019, 0.028085748571213369, 0.035450017068918892, 0.0030537699131523133, 0.018801048240551517, 0.0010101978777581351, 0.00050936119312244637, 0.008238681424071536, 0.0036143352597136787, 0.005607800401233284, 0.0025444087200298623, 0.019754369486924619, 0.008088683576243998, 0.0, 0.0077047868625348317, 0.0065852856156395825, 0.0015393751346797165, 0.005668936813507235, 0.0010016733692713726, 0.0065990598011115165, 0.0050674066527983952, 0.0015393751346797165, 0.0066773510107629745, 0.0015127146704332129, 0.0010033534773107617, 0.0025444087200298623, 0.0015127146704332129, 0.020761540704040373, 0.0010385384500440277, 0.0061854044439900308, 0.0010385384500440277, 0.0076763527928345732, 0.0015393751346797165, 0.0025548226894230226, 0.0010101978777581351, 0.0015393751346797213, 0.0005008366846356888, 0.0015393751346797165, 0.0010101978777581351, 0.0010101978777581351, 0.0010300139415572653, 0.00050936119312244637, 0.0015393751346797165, 0.00050936119312244637, 0.0020220758635556592, 0.0010187223862448975, 0.0025444087200298623, 0.0015127146704332129, 0.0040563311891210398, 0.0010385384500440277, 0.0040760618683429806, 0.00050936119312244637, 0.0025366867336632723, 0.0015393751346797165, 0.0015308506261929541, 0.0050948696391650674, 0.0050810954536931333, 0.0010016733692713726, 0.0041208482133005854, 0.0, 0.0005008366846356888, 0.0015393751346797165, 0.00052917725692158137, 0.0035417203190134224, 0.0010583545138431627, 0.0036045572351535793, 0.0005008366846356888, 0.0046483453621827594, 0.0010300139415572701, 0.0010016733692713726, 0.0015308506261929541, 0.0015393751346797165, 0.0005008366846356888, 0.0060828542075416917, 0.0005008366846356888, 0.0056318827756944041, 0.0005008366846356888, 0.0040985495193418897, 0.0010300139415572701, 0.0020273255405408351, 0.0015393751346797165, 0.0015127146704332129, 0.0010385384500440277, 0.00050936119312245125, 0.0015393751346797165, 0.0, 0.0076763527928345732, 0.0010385384500440277, 0.0010385384500440277, 0.0005008366846356888, 0.0, 0.0005008366846356888, 0.0010101978777581351, 0.0005008366846356888, 0.0005008366846356888, 0.0005008366846356888, 0.0015393751346797165, 0.0005008366846356888, 0.0005008366846356888, 0.0015393751346797165, 0.0010033534773107617, 0.0015393751346797165, 0.0010101978777581351, 0.0015393751346797165, 0.0005008366846356888, 0.0010101978777581351, 0.0015393751346797165, 0.0005008366846356888, 0.0, 0.0010101978777581351, 0.00050936119312244637, 0.0015393751346797165, 0.00050936119312244637, 0.0015393751346797165, 0.0, 0.0015393751346797165, 0.0020220758635556592, 0.0010385384500440277, 0.0015127146704332079, 0.0015393751346797165, 0.00050936119312244637, 0.0030392035263383452, 0.0010101978777581351, 0.00050936119312244637, 0.0015308506261929541, 0.0015308506261929541, 0.0010101978777581351, 0.0010300139415572701, 0.0041070740278286565, 0.0015393751346797165, 0.0041140038128532072, 0.0015393751346797165, 0.0030727937756094129, 0.0015393751346797165, 0.0005008366846356888, 0.0015393751346797165, 0.0005008366846356888, 0.0010101978777581351, 0.0005008366846356888, 0.0015393751346797165, 0.0015393751346797165, 0.0030951960420311279, 0.0010300139415572701, 0.0015393751346797165, 0.0010016733692713726, 0.0010300139415572701, 0.0005008366846356888, 0.0010101978777581351, 0.0005008366846356888, 0.0015393751346797165, 0.0015393751346797165, 0.005122521582571953, 0.0015393751346797165, 0.0015393751346797165, 0.00050936119312244637, 0.0]\n",
        "[1.0, 1.0, 1.0, 1.0, 1.0, 1.0, 1.0, 1.0, 0.5, 0.5, 0.5, 0.5, 0.5, 0.5, 0.5, 0.5, 0.5, 0.5, 0.50000000000000011, 0.49999999999999989, 0.50000000000000011, 0.5, 0.5, 0.5, 0.5, 0.49999999999999989, 0.5, 0.49999999999999989, 0.5, 0.50000000000000022, 0.5, 0.5, 0.5, 0.5, 0.5, 0.5, 0.33333333333333331, 0.33333333333333331, 0.33333333333333331, 0.33333333333333326, 0.33333333333333337, 0.33333333333333326, 0.33333333333333331, 0.33333333333333331, 0.33333333333333331, 0.33333333333333331, 0.33333333333333331, 0.33333333333333331, 0.33333333333333331, 0.33333333333333331, 0.33333333333333331, 0.33333333333333331, 0.33333333333333337, 0.33333333333333331, 0.33333333333333337, 0.33333333333333331, 0.33333333333333337, 0.33333333333333337, 0.33333333333333331, 0.33333333333333331, 0.33333333333333331, 0.33333333333333331, 0.33333333333333331, 0.33333333333333331, 0.33333333333333331, 0.33333333333333331, 0.33333333333333343, 0.33333333333333331, 0.33333333333333331, 0.33333333333333331, 0.33333333333333331, 0.33333333333333331, 0.33333333333333337, 0.33333333333333326, 0.33333333333333337, 0.33333333333333331, 0.33333333333333331, 0.33333333333333331, 0.33333333333333331, 0.33333333333333326, 0.33333333333333326, 0.33333333333333331, 0.33333333333333337, 0.33333333333333331, 0.33333333333333331, 0.33333333333333331, 0.33333333333333337, 0.33333333333333331, 0.33333333333333331, 0.33333333333333326, 0.33333333333333331, 0.33333333333333331, 0.25, 0.25, 0.25, 0.25, 0.25, 0.25, 0.25, 0.25, 0.25, 0.25, 0.25, 0.25, 0.25, 0.25, 0.25, 0.25, 0.25, 0.25000000000000006, 0.25, 0.25, 0.25, 0.25, 0.25, 0.25, 0.25, 0.25, 0.25, 0.25, 0.24999999999999994, 0.25, 0.25000000000000006, 0.25, 0.25, 0.25, 0.25, 0.25, 0.25, 0.25, 0.25, 0.25, 0.25, 0.25, 0.25, 0.25, 0.25, 0.25, 0.25, 0.25, 0.25, 0.25, 0.25, 0.25, 0.25, 0.25, 0.25, 0.25, 0.25, 0.25, 0.25, 0.25, 0.25000000000000006, 0.25, 0.25, 0.25, 0.25, 0.25, 0.25]\n",
        "[ 0.3025349   0.08329035  0.5680501   0.04612465]"
       ]
      },
      {
       "output_type": "stream",
       "stream": "stdout",
       "text": [
        "\n",
        "[ 0.23951413  0.09734278  0.62734503  0.03579805]"
       ]
      },
      {
       "output_type": "stream",
       "stream": "stdout",
       "text": [
        "\n",
        "[ 0.28336777  0.09253333  0.58850042  0.03559848]"
       ]
      },
      {
       "output_type": "stream",
       "stream": "stdout",
       "text": [
        "\n",
        "[ 0.31658654  0.08478999  0.55942663  0.03919685]"
       ]
      },
      {
       "output_type": "stream",
       "stream": "stdout",
       "text": [
        "\n",
        "[ 0.34849365  0.10309994  0.50857281  0.0398336 ]"
       ]
      },
      {
       "output_type": "stream",
       "stream": "stdout",
       "text": [
        "\n",
        "[ 0.30815709  0.0980191   0.54287348  0.05095033]"
       ]
      },
      {
       "output_type": "stream",
       "stream": "stdout",
       "text": [
        "\n",
        "[ 0.28853874  0.12612324  0.53734351  0.04799451]"
       ]
      },
      {
       "output_type": "stream",
       "stream": "stdout",
       "text": [
        "\n",
        "[ 0.32724452  0.10626323  0.52488393  0.04160832]"
       ]
      },
      {
       "output_type": "stream",
       "stream": "stdout",
       "text": [
        "\n",
        "[ 0.30538074  0.10409101  0.54203129  0.04849697]"
       ]
      },
      {
       "output_type": "stream",
       "stream": "stdout",
       "text": [
        "\n",
        "[ 0.25971161  0.10793244  0.57216852  0.06018743]"
       ]
      },
      {
       "output_type": "stream",
       "stream": "stdout",
       "text": [
        "\n",
        "[0.5, 0.5, 0.5, 0.5, 0.5, 0.5, 0.5, 0.5, 0.5, 0.5, 0.5, 0.5, 0.5, 0.5, 0.5, 0.5, 0.5, 0.5, 0.5, 0.5, 0.5, 0.5, 0.5, 0.5, 0.5, 0.5, 0.5, 0.5, 0.5, 0.5, 0.5, 0.5, 0.5, 0.5, 0.5, 0.5, 0.5, 0.5, 0.5, 0.5, 0.5, 0.5, 0.5, 0.5, 0.5, 0.5, 0.5, 0.5, 0.5, 0.5, 0.5, 0.5, 0.5, 0.5, 0.5, 0.5, 0.5, 0.5, 0.5, 0.5, 0.5, 0.5, 0.5, 0.5, 0.5, 0.5, 0.5, 0.5, 0.5, 0.5, 0.5, 0.5, 0.5, 0.5, 0.5, 0.5, 0.5, 0.5, 0.5, 0.5, 0.5, 0.5, 0.5, 0.5, 0.5, 0.5, 0.5, 0.5, 0.5, 0.5, 0.5, 0.5, 0.5, 0.5, 0.5, 0.5, 0.5, 0.5, 0.5, 0.5, 0.5, 0.5, 0.5, 0.5, 0.5, 0.5, 0.5, 0.5, 0.5, 0.5, 0.5, 0.5, 0.5, 0.5, 0.5, 0.5, 0.5, 0.5, 0.5, 0.5, 0.5, 0.5, 0.5, 0.5, 0.5, 0.5, 0.5, 0.5, 0.5, 0.5, 0.5, 0.5, 0.5, 0.5, 0.5, 0.5, 0.5, 0.5, 0.5, 0.5, 0.5, 0.5, 0.5, 0.5, 0.5, 0.5, 0.5, 0.5, 0.5, 0.5, 0.5, 0.5, 0.5, 0.5, 0.5, 0.5, 0.5, 0.5, 0.5, 0.5]"
       ]
      },
      {
       "output_type": "stream",
       "stream": "stdout",
       "text": [
        "\n",
        "[0.035308450180920395, 0.015900278873051947, 0.027606640458033495, 0.020287811471444019, 0.028085748571213369, 0.035450017068918892, 0.0030537699131523133, 0.018801048240551517, 0.0010101978777581351, 0.00050936119312244637, 0.008238681424071536, 0.0036143352597136787, 0.005607800401233284, 0.0025444087200298623, 0.019754369486924619, 0.008088683576243998, 0.0, 0.0077047868625348317, 0.0065852856156395825, 0.0015393751346797165, 0.005668936813507235, 0.0010016733692713726, 0.0065990598011115165, 0.0050674066527983952, 0.0015393751346797165, 0.0066773510107629745, 0.0015127146704332129, 0.0010033534773107617, 0.0025444087200298623, 0.0015127146704332129, 0.020761540704040373, 0.0010385384500440277, 0.0061854044439900308, 0.0010385384500440277, 0.0076763527928345732, 0.0015393751346797165, 0.0025548226894230226, 0.0010101978777581351, 0.0015393751346797213, 0.0005008366846356888, 0.0015393751346797165, 0.0010101978777581351, 0.0010101978777581351, 0.0010300139415572653, 0.00050936119312244637, 0.0015393751346797165, 0.00050936119312244637, 0.0020220758635556592, 0.0010187223862448975, 0.0025444087200298623, 0.0015127146704332129, 0.0040563311891210398, 0.0010385384500440277, 0.0040760618683429806, 0.00050936119312244637, 0.0025366867336632723, 0.0015393751346797165, 0.0015308506261929541, 0.0050948696391650674, 0.0050810954536931333, 0.0010016733692713726, 0.0041208482133005854, 0.0, 0.0005008366846356888, 0.0015393751346797165, 0.00052917725692158137, 0.0035417203190134224, 0.0010583545138431627, 0.0036045572351535793, 0.0005008366846356888, 0.0046483453621827594, 0.0010300139415572701, 0.0010016733692713726, 0.0015308506261929541, 0.0015393751346797165, 0.0005008366846356888, 0.0060828542075416917, 0.0005008366846356888, 0.0056318827756944041, 0.0005008366846356888, 0.0040985495193418897, 0.0010300139415572701, 0.0020273255405408351, 0.0015393751346797165, 0.0015127146704332129, 0.0010385384500440277, 0.00050936119312245125, 0.0015393751346797165, 0.0, 0.0076763527928345732, 0.0010385384500440277, 0.0010385384500440277, 0.0005008366846356888, 0.0, 0.0005008366846356888, 0.0010101978777581351, 0.0005008366846356888, 0.0005008366846356888, 0.0005008366846356888, 0.0015393751346797165, 0.0005008366846356888, 0.0005008366846356888, 0.0015393751346797165, 0.0010033534773107617, 0.0015393751346797165, 0.0010101978777581351, 0.0015393751346797165, 0.0005008366846356888, 0.0010101978777581351, 0.0015393751346797165, 0.0005008366846356888, 0.0, 0.0010101978777581351, 0.00050936119312244637, 0.0015393751346797165, 0.00050936119312244637, 0.0015393751346797165, 0.0, 0.0015393751346797165, 0.0020220758635556592, 0.0010385384500440277, 0.0015127146704332079, 0.0015393751346797165, 0.00050936119312244637, 0.0030392035263383452, 0.0010101978777581351, 0.00050936119312244637, 0.0015308506261929541, 0.0015308506261929541, 0.0010101978777581351, 0.0010300139415572701, 0.0041070740278286565, 0.0015393751346797165, 0.0041140038128532072, 0.0015393751346797165, 0.0030727937756094129, 0.0015393751346797165, 0.0005008366846356888, 0.0015393751346797165, 0.0005008366846356888, 0.0010101978777581351, 0.0005008366846356888, 0.0015393751346797165, 0.0015393751346797165, 0.0030951960420311279, 0.0010300139415572701, 0.0015393751346797165, 0.0010016733692713726, 0.0010300139415572701, 0.0005008366846356888, 0.0010101978777581351, 0.0005008366846356888, 0.0015393751346797165, 0.0015393751346797165, 0.005122521582571953, 0.0015393751346797165, 0.0015393751346797165, 0.00050936119312244637, 0.0, 0.0015393751346797165]\n",
        "[1.0, 1.0, 1.0, 1.0, 1.0, 1.0, 1.0, 1.0, 0.5, 0.5, 0.5, 0.5, 0.5, 0.5, 0.5, 0.5, 0.5, 0.5, 0.50000000000000011, 0.49999999999999989, 0.50000000000000011, 0.5, 0.5, 0.5, 0.5, 0.49999999999999989, 0.5, 0.49999999999999989, 0.5, 0.50000000000000022, 0.5, 0.5, 0.5, 0.5, 0.5, 0.5, 0.33333333333333331, 0.33333333333333331, 0.33333333333333331, 0.33333333333333326, 0.33333333333333337, 0.33333333333333326, 0.33333333333333331, 0.33333333333333331, 0.33333333333333331, 0.33333333333333331, 0.33333333333333331, 0.33333333333333331, 0.33333333333333331, 0.33333333333333331, 0.33333333333333331, 0.33333333333333331, 0.33333333333333337, 0.33333333333333331, 0.33333333333333337, 0.33333333333333331, 0.33333333333333337, 0.33333333333333337, 0.33333333333333331, 0.33333333333333331, 0.33333333333333331, 0.33333333333333331, 0.33333333333333331, 0.33333333333333331, 0.33333333333333331, 0.33333333333333331, 0.33333333333333343, 0.33333333333333331, 0.33333333333333331, 0.33333333333333331, 0.33333333333333331, 0.33333333333333331, 0.33333333333333337, 0.33333333333333326, 0.33333333333333337, 0.33333333333333331, 0.33333333333333331, 0.33333333333333331, 0.33333333333333331, 0.33333333333333326, 0.33333333333333326, 0.33333333333333331, 0.33333333333333337, 0.33333333333333331, 0.33333333333333331, 0.33333333333333331, 0.33333333333333337, 0.33333333333333331, 0.33333333333333331, 0.33333333333333326, 0.33333333333333331, 0.33333333333333331, 0.25, 0.25, 0.25, 0.25, 0.25, 0.25, 0.25, 0.25, 0.25, 0.25, 0.25, 0.25, 0.25, 0.25, 0.25, 0.25, 0.25, 0.25000000000000006, 0.25, 0.25, 0.25, 0.25, 0.25, 0.25, 0.25, 0.25, 0.25, 0.25, 0.24999999999999994, 0.25, 0.25000000000000006, 0.25, 0.25, 0.25, 0.25, 0.25, 0.25, 0.25, 0.25, 0.25, 0.25, 0.25, 0.25, 0.25, 0.25, 0.25, 0.25, 0.25, 0.25, 0.25, 0.25, 0.25, 0.25, 0.25, 0.25, 0.25, 0.25, 0.25, 0.25, 0.25, 0.25000000000000006, 0.25, 0.25, 0.25, 0.25, 0.25, 0.25, 0.25]\n",
        "[ 0.34343053  0.11796324  0.50466606  0.03394018]"
       ]
      },
      {
       "output_type": "stream",
       "stream": "stdout",
       "text": [
        "\n",
        "[ 0.2849452   0.10840718  0.56440728  0.04224035]"
       ]
      },
      {
       "output_type": "stream",
       "stream": "stdout",
       "text": [
        "\n",
        "[ 0.27627726  0.08347636  0.60923409  0.03101229]"
       ]
      },
      {
       "output_type": "stream",
       "stream": "stdout",
       "text": [
        "\n",
        "[ 0.35235789  0.08993248  0.51691379  0.04079584]"
       ]
      },
      {
       "output_type": "stream",
       "stream": "stdout",
       "text": [
        "\n",
        "[ 0.27767932  0.10795376  0.56126608  0.05310084]"
       ]
      },
      {
       "output_type": "stream",
       "stream": "stdout",
       "text": [
        "\n",
        "[ 0.31044389  0.09680589  0.55583613  0.03691408]"
       ]
      },
      {
       "output_type": "stream",
       "stream": "stdout",
       "text": [
        "\n",
        "[ 0.30421415  0.10830031  0.54965221  0.03783333]"
       ]
      },
      {
       "output_type": "stream",
       "stream": "stdout",
       "text": [
        "\n",
        "[ 0.27383129  0.10491146  0.59184919  0.02940806]"
       ]
      },
      {
       "output_type": "stream",
       "stream": "stdout",
       "text": [
        "\n",
        "[ 0.27049021  0.08787648  0.59510842  0.0465249 ]"
       ]
      },
      {
       "output_type": "stream",
       "stream": "stdout",
       "text": [
        "\n",
        "[ 0.33528362  0.13556954  0.48052848  0.04861836]"
       ]
      },
      {
       "output_type": "stream",
       "stream": "stdout",
       "text": [
        "\n",
        "[0.5, 0.5, 0.5, 0.5, 0.5, 0.5, 0.5, 0.5, 0.5, 0.5, 0.5, 0.5, 0.5, 0.5, 0.5, 0.5, 0.5, 0.5, 0.5, 0.5, 0.5, 0.5, 0.5, 0.5, 0.5, 0.5, 0.5, 0.5, 0.5, 0.5, 0.5, 0.5, 0.5, 0.5, 0.5, 0.5, 0.5, 0.5, 0.5, 0.5, 0.5, 0.5, 0.5, 0.5, 0.5, 0.5, 0.5, 0.5, 0.5, 0.5, 0.5, 0.5, 0.5, 0.5, 0.5, 0.5, 0.5, 0.5, 0.5, 0.5, 0.5, 0.5, 0.5, 0.5, 0.5, 0.5, 0.5, 0.5, 0.5, 0.5, 0.5, 0.5, 0.5, 0.5, 0.5, 0.5, 0.5, 0.5, 0.5, 0.5, 0.5, 0.5, 0.5, 0.5, 0.5, 0.5, 0.5, 0.5, 0.5, 0.5, 0.5, 0.5, 0.5, 0.5, 0.5, 0.5, 0.5, 0.5, 0.5, 0.5, 0.5, 0.5, 0.5, 0.5, 0.5, 0.5, 0.5, 0.5, 0.5, 0.5, 0.5, 0.5, 0.5, 0.5, 0.5, 0.5, 0.5, 0.5, 0.5, 0.5, 0.5, 0.5, 0.5, 0.5, 0.5, 0.5, 0.5, 0.5, 0.5, 0.5, 0.5, 0.5, 0.5, 0.5, 0.5, 0.5, 0.5, 0.5, 0.5, 0.5, 0.5, 0.5, 0.5, 0.5, 0.5, 0.5, 0.5, 0.5, 0.5, 0.5, 0.5, 0.5, 0.5, 0.5, 0.5, 0.5, 0.5, 0.5, 0.5, 0.5, 0.5]"
       ]
      },
      {
       "output_type": "stream",
       "stream": "stdout",
       "text": [
        "\n",
        "[0.035308450180920395, 0.015900278873051947, 0.027606640458033495, 0.020287811471444019, 0.028085748571213369, 0.035450017068918892, 0.0030537699131523133, 0.018801048240551517, 0.0010101978777581351, 0.00050936119312244637, 0.008238681424071536, 0.0036143352597136787, 0.005607800401233284, 0.0025444087200298623, 0.019754369486924619, 0.008088683576243998, 0.0, 0.0077047868625348317, 0.0065852856156395825, 0.0015393751346797165, 0.005668936813507235, 0.0010016733692713726, 0.0065990598011115165, 0.0050674066527983952, 0.0015393751346797165, 0.0066773510107629745, 0.0015127146704332129, 0.0010033534773107617, 0.0025444087200298623, 0.0015127146704332129, 0.020761540704040373, 0.0010385384500440277, 0.0061854044439900308, 0.0010385384500440277, 0.0076763527928345732, 0.0015393751346797165, 0.0025548226894230226, 0.0010101978777581351, 0.0015393751346797213, 0.0005008366846356888, 0.0015393751346797165, 0.0010101978777581351, 0.0010101978777581351, 0.0010300139415572653, 0.00050936119312244637, 0.0015393751346797165, 0.00050936119312244637, 0.0020220758635556592, 0.0010187223862448975, 0.0025444087200298623, 0.0015127146704332129, 0.0040563311891210398, 0.0010385384500440277, 0.0040760618683429806, 0.00050936119312244637, 0.0025366867336632723, 0.0015393751346797165, 0.0015308506261929541, 0.0050948696391650674, 0.0050810954536931333, 0.0010016733692713726, 0.0041208482133005854, 0.0, 0.0005008366846356888, 0.0015393751346797165, 0.00052917725692158137, 0.0035417203190134224, 0.0010583545138431627, 0.0036045572351535793, 0.0005008366846356888, 0.0046483453621827594, 0.0010300139415572701, 0.0010016733692713726, 0.0015308506261929541, 0.0015393751346797165, 0.0005008366846356888, 0.0060828542075416917, 0.0005008366846356888, 0.0056318827756944041, 0.0005008366846356888, 0.0040985495193418897, 0.0010300139415572701, 0.0020273255405408351, 0.0015393751346797165, 0.0015127146704332129, 0.0010385384500440277, 0.00050936119312245125, 0.0015393751346797165, 0.0, 0.0076763527928345732, 0.0010385384500440277, 0.0010385384500440277, 0.0005008366846356888, 0.0, 0.0005008366846356888, 0.0010101978777581351, 0.0005008366846356888, 0.0005008366846356888, 0.0005008366846356888, 0.0015393751346797165, 0.0005008366846356888, 0.0005008366846356888, 0.0015393751346797165, 0.0010033534773107617, 0.0015393751346797165, 0.0010101978777581351, 0.0015393751346797165, 0.0005008366846356888, 0.0010101978777581351, 0.0015393751346797165, 0.0005008366846356888, 0.0, 0.0010101978777581351, 0.00050936119312244637, 0.0015393751346797165, 0.00050936119312244637, 0.0015393751346797165, 0.0, 0.0015393751346797165, 0.0020220758635556592, 0.0010385384500440277, 0.0015127146704332079, 0.0015393751346797165, 0.00050936119312244637, 0.0030392035263383452, 0.0010101978777581351, 0.00050936119312244637, 0.0015308506261929541, 0.0015308506261929541, 0.0010101978777581351, 0.0010300139415572701, 0.0041070740278286565, 0.0015393751346797165, 0.0041140038128532072, 0.0015393751346797165, 0.0030727937756094129, 0.0015393751346797165, 0.0005008366846356888, 0.0015393751346797165, 0.0005008366846356888, 0.0010101978777581351, 0.0005008366846356888, 0.0015393751346797165, 0.0015393751346797165, 0.0030951960420311279, 0.0010300139415572701, 0.0015393751346797165, 0.0010016733692713726, 0.0010300139415572701, 0.0005008366846356888, 0.0010101978777581351, 0.0005008366846356888, 0.0015393751346797165, 0.0015393751346797165, 0.005122521582571953, 0.0015393751346797165, 0.0015393751346797165, 0.00050936119312244637, 0.0, 0.0015393751346797165, 0.00050936119312244637]\n",
        "[1.0, 1.0, 1.0, 1.0, 1.0, 1.0, 1.0, 1.0, 0.5, 0.5, 0.5, 0.5, 0.5, 0.5, 0.5, 0.5, 0.5, 0.5, 0.50000000000000011, 0.49999999999999989, 0.50000000000000011, 0.5, 0.5, 0.5, 0.5, 0.49999999999999989, 0.5, 0.49999999999999989, 0.5, 0.50000000000000022, 0.5, 0.5, 0.5, 0.5, 0.5, 0.5, 0.33333333333333331, 0.33333333333333331, 0.33333333333333331, 0.33333333333333326, 0.33333333333333337, 0.33333333333333326, 0.33333333333333331, 0.33333333333333331, 0.33333333333333331, 0.33333333333333331, 0.33333333333333331, 0.33333333333333331, 0.33333333333333331, 0.33333333333333331, 0.33333333333333331, 0.33333333333333331, 0.33333333333333337, 0.33333333333333331, 0.33333333333333337, 0.33333333333333331, 0.33333333333333337, 0.33333333333333337, 0.33333333333333331, 0.33333333333333331, 0.33333333333333331, 0.33333333333333331, 0.33333333333333331, 0.33333333333333331, 0.33333333333333331, 0.33333333333333331, 0.33333333333333343, 0.33333333333333331, 0.33333333333333331, 0.33333333333333331, 0.33333333333333331, 0.33333333333333331, 0.33333333333333337, 0.33333333333333326, 0.33333333333333337, 0.33333333333333331, 0.33333333333333331, 0.33333333333333331, 0.33333333333333331, 0.33333333333333326, 0.33333333333333326, 0.33333333333333331, 0.33333333333333337, 0.33333333333333331, 0.33333333333333331, 0.33333333333333331, 0.33333333333333337, 0.33333333333333331, 0.33333333333333331, 0.33333333333333326, 0.33333333333333331, 0.33333333333333331, 0.25, 0.25, 0.25, 0.25, 0.25, 0.25, 0.25, 0.25, 0.25, 0.25, 0.25, 0.25, 0.25, 0.25, 0.25, 0.25, 0.25, 0.25000000000000006, 0.25, 0.25, 0.25, 0.25, 0.25, 0.25, 0.25, 0.25, 0.25, 0.25, 0.24999999999999994, 0.25, 0.25000000000000006, 0.25, 0.25, 0.25, 0.25, 0.25, 0.25, 0.25, 0.25, 0.25, 0.25, 0.25, 0.25, 0.25, 0.25, 0.25, 0.25, 0.25, 0.25, 0.25, 0.25, 0.25, 0.25, 0.25, 0.25, 0.25, 0.25, 0.25, 0.25, 0.25, 0.25000000000000006, 0.25, 0.25, 0.25, 0.25, 0.25, 0.25, 0.25, 0.25]\n",
        "[ 0.1233485   0.0770172   0.73089273  0.06874157]"
       ]
      },
      {
       "output_type": "stream",
       "stream": "stdout",
       "text": [
        "\n",
        "[ 0.09083287  0.09815285  0.73572339  0.07529089]"
       ]
      },
      {
       "output_type": "stream",
       "stream": "stdout",
       "text": [
        "\n",
        "[ 0.08902471  0.0750916   0.75994586  0.07593783]"
       ]
      },
      {
       "output_type": "stream",
       "stream": "stdout",
       "text": [
        "\n",
        "[ 0.08439702  0.09998339  0.73318306  0.08243653]"
       ]
      },
      {
       "output_type": "stream",
       "stream": "stdout",
       "text": [
        "\n",
        "[ 0.09564116  0.10956914  0.70426829  0.09052141]"
       ]
      },
      {
       "output_type": "stream",
       "stream": "stdout",
       "text": [
        "\n",
        "[ 0.09230594  0.09727874  0.72367861  0.08673672]"
       ]
      },
      {
       "output_type": "stream",
       "stream": "stdout",
       "text": [
        "\n",
        "[ 0.10654123  0.10895619  0.69334443  0.09115815]"
       ]
      },
      {
       "output_type": "stream",
       "stream": "stdout",
       "text": [
        "\n",
        "[ 0.12325691  0.09413007  0.67089795  0.11171507]"
       ]
      },
      {
       "output_type": "stream",
       "stream": "stdout",
       "text": [
        "\n",
        "[ 0.10748759  0.07941058  0.74968388  0.06341795]"
       ]
      },
      {
       "output_type": "stream",
       "stream": "stdout",
       "text": [
        "\n",
        "[ 0.09730175  0.12530132  0.70250097  0.07489597]"
       ]
      },
      {
       "output_type": "stream",
       "stream": "stdout",
       "text": [
        "\n",
        "[0.5, 0.5, 0.5, 0.5, 0.5, 0.5, 0.5, 0.5, 0.5, 0.5, 0.5, 0.5, 0.5, 0.5, 0.5, 0.5, 0.5, 0.5, 0.5, 0.5, 0.5, 0.5, 0.5, 0.5, 0.5, 0.5, 0.5, 0.5, 0.5, 0.5, 0.5, 0.5, 0.5, 0.5, 0.5, 0.5, 0.5, 0.5, 0.5, 0.5, 0.5, 0.5, 0.5, 0.5, 0.5, 0.5, 0.5, 0.5, 0.5, 0.5, 0.5, 0.5, 0.5, 0.5, 0.5, 0.5, 0.5, 0.5, 0.5, 0.5, 0.5, 0.5, 0.5, 0.5, 0.5, 0.5, 0.5, 0.5, 0.5, 0.5, 0.5, 0.5, 0.5, 0.5, 0.5, 0.5, 0.5, 0.5, 0.5, 0.5, 0.5, 0.5, 0.5, 0.5, 0.5, 0.5, 0.5, 0.5, 0.5, 0.5, 0.5, 0.5, 0.5, 0.5, 0.5, 0.5, 0.5, 0.5, 0.5, 0.5, 0.5, 0.5, 0.5, 0.5, 0.5, 0.5, 0.5, 0.5, 0.5, 0.5, 0.5, 0.5, 0.5, 0.5, 0.5, 0.5, 0.5, 0.5, 0.5, 0.5, 0.5, 0.5, 0.5, 0.5, 0.5, 0.5, 0.5, 0.5, 0.5, 0.5, 0.5, 0.5, 0.5, 0.5, 0.5, 0.5, 0.5, 0.5, 0.5, 0.5, 0.5, 0.5, 0.5, 0.5, 0.5, 0.5, 0.5, 0.5, 0.5, 0.5, 0.5, 0.5, 0.5, 0.5, 0.5, 0.5, 0.5, 0.5, 0.5, 0.5, 0.5, 0.5]"
       ]
      },
      {
       "output_type": "stream",
       "stream": "stdout",
       "text": [
        "\n",
        "[0.035308450180920395, 0.015900278873051947, 0.027606640458033495, 0.020287811471444019, 0.028085748571213369, 0.035450017068918892, 0.0030537699131523133, 0.018801048240551517, 0.0010101978777581351, 0.00050936119312244637, 0.008238681424071536, 0.0036143352597136787, 0.005607800401233284, 0.0025444087200298623, 0.019754369486924619, 0.008088683576243998, 0.0, 0.0077047868625348317, 0.0065852856156395825, 0.0015393751346797165, 0.005668936813507235, 0.0010016733692713726, 0.0065990598011115165, 0.0050674066527983952, 0.0015393751346797165, 0.0066773510107629745, 0.0015127146704332129, 0.0010033534773107617, 0.0025444087200298623, 0.0015127146704332129, 0.020761540704040373, 0.0010385384500440277, 0.0061854044439900308, 0.0010385384500440277, 0.0076763527928345732, 0.0015393751346797165, 0.0025548226894230226, 0.0010101978777581351, 0.0015393751346797213, 0.0005008366846356888, 0.0015393751346797165, 0.0010101978777581351, 0.0010101978777581351, 0.0010300139415572653, 0.00050936119312244637, 0.0015393751346797165, 0.00050936119312244637, 0.0020220758635556592, 0.0010187223862448975, 0.0025444087200298623, 0.0015127146704332129, 0.0040563311891210398, 0.0010385384500440277, 0.0040760618683429806, 0.00050936119312244637, 0.0025366867336632723, 0.0015393751346797165, 0.0015308506261929541, 0.0050948696391650674, 0.0050810954536931333, 0.0010016733692713726, 0.0041208482133005854, 0.0, 0.0005008366846356888, 0.0015393751346797165, 0.00052917725692158137, 0.0035417203190134224, 0.0010583545138431627, 0.0036045572351535793, 0.0005008366846356888, 0.0046483453621827594, 0.0010300139415572701, 0.0010016733692713726, 0.0015308506261929541, 0.0015393751346797165, 0.0005008366846356888, 0.0060828542075416917, 0.0005008366846356888, 0.0056318827756944041, 0.0005008366846356888, 0.0040985495193418897, 0.0010300139415572701, 0.0020273255405408351, 0.0015393751346797165, 0.0015127146704332129, 0.0010385384500440277, 0.00050936119312245125, 0.0015393751346797165, 0.0, 0.0076763527928345732, 0.0010385384500440277, 0.0010385384500440277, 0.0005008366846356888, 0.0, 0.0005008366846356888, 0.0010101978777581351, 0.0005008366846356888, 0.0005008366846356888, 0.0005008366846356888, 0.0015393751346797165, 0.0005008366846356888, 0.0005008366846356888, 0.0015393751346797165, 0.0010033534773107617, 0.0015393751346797165, 0.0010101978777581351, 0.0015393751346797165, 0.0005008366846356888, 0.0010101978777581351, 0.0015393751346797165, 0.0005008366846356888, 0.0, 0.0010101978777581351, 0.00050936119312244637, 0.0015393751346797165, 0.00050936119312244637, 0.0015393751346797165, 0.0, 0.0015393751346797165, 0.0020220758635556592, 0.0010385384500440277, 0.0015127146704332079, 0.0015393751346797165, 0.00050936119312244637, 0.0030392035263383452, 0.0010101978777581351, 0.00050936119312244637, 0.0015308506261929541, 0.0015308506261929541, 0.0010101978777581351, 0.0010300139415572701, 0.0041070740278286565, 0.0015393751346797165, 0.0041140038128532072, 0.0015393751346797165, 0.0030727937756094129, 0.0015393751346797165, 0.0005008366846356888, 0.0015393751346797165, 0.0005008366846356888, 0.0010101978777581351, 0.0005008366846356888, 0.0015393751346797165, 0.0015393751346797165, 0.0030951960420311279, 0.0010300139415572701, 0.0015393751346797165, 0.0010016733692713726, 0.0010300139415572701, 0.0005008366846356888, 0.0010101978777581351, 0.0005008366846356888, 0.0015393751346797165, 0.0015393751346797165, 0.005122521582571953, 0.0015393751346797165, 0.0015393751346797165, 0.00050936119312244637, 0.0, 0.0015393751346797165, 0.00050936119312244637, 0.0010385384500440277]\n",
        "[1.0, 1.0, 1.0, 1.0, 1.0, 1.0, 1.0, 1.0, 0.5, 0.5, 0.5, 0.5, 0.5, 0.5, 0.5, 0.5, 0.5, 0.5, 0.50000000000000011, 0.49999999999999989, 0.50000000000000011, 0.5, 0.5, 0.5, 0.5, 0.49999999999999989, 0.5, 0.49999999999999989, 0.5, 0.50000000000000022, 0.5, 0.5, 0.5, 0.5, 0.5, 0.5, 0.33333333333333331, 0.33333333333333331, 0.33333333333333331, 0.33333333333333326, 0.33333333333333337, 0.33333333333333326, 0.33333333333333331, 0.33333333333333331, 0.33333333333333331, 0.33333333333333331, 0.33333333333333331, 0.33333333333333331, 0.33333333333333331, 0.33333333333333331, 0.33333333333333331, 0.33333333333333331, 0.33333333333333337, 0.33333333333333331, 0.33333333333333337, 0.33333333333333331, 0.33333333333333337, 0.33333333333333337, 0.33333333333333331, 0.33333333333333331, 0.33333333333333331, 0.33333333333333331, 0.33333333333333331, 0.33333333333333331, 0.33333333333333331, 0.33333333333333331, 0.33333333333333343, 0.33333333333333331, 0.33333333333333331, 0.33333333333333331, 0.33333333333333331, 0.33333333333333331, 0.33333333333333337, 0.33333333333333326, 0.33333333333333337, 0.33333333333333331, 0.33333333333333331, 0.33333333333333331, 0.33333333333333331, 0.33333333333333326, 0.33333333333333326, 0.33333333333333331, 0.33333333333333337, 0.33333333333333331, 0.33333333333333331, 0.33333333333333331, 0.33333333333333337, 0.33333333333333331, 0.33333333333333331, 0.33333333333333326, 0.33333333333333331, 0.33333333333333331, 0.25, 0.25, 0.25, 0.25, 0.25, 0.25, 0.25, 0.25, 0.25, 0.25, 0.25, 0.25, 0.25, 0.25, 0.25, 0.25, 0.25, 0.25000000000000006, 0.25, 0.25, 0.25, 0.25, 0.25, 0.25, 0.25, 0.25, 0.25, 0.25, 0.24999999999999994, 0.25, 0.25000000000000006, 0.25, 0.25, 0.25, 0.25, 0.25, 0.25, 0.25, 0.25, 0.25, 0.25, 0.25, 0.25, 0.25, 0.25, 0.25, 0.25, 0.25, 0.25, 0.25, 0.25, 0.25, 0.25, 0.25, 0.25, 0.25, 0.25, 0.25, 0.25, 0.25, 0.25000000000000006, 0.25, 0.25, 0.25, 0.25, 0.25, 0.25, 0.25, 0.25, 0.25]\n"
       ]
      }
     ],
     "prompt_number": 154
    },
    {
     "cell_type": "code",
     "collapsed": false,
     "input": [
      "# Select 4 best filter sets\n",
      "best_auc = sorted(zip(auc_scores, wis))[-5:]\n",
      "best_ig = sorted(zip(ig_scores, wis))[-5:]\n",
      "\n",
      "best_auc_ind = tuple(x[1] for x in best_auc)\n",
      "best_ig_ind = tuple(x[1] for x in best_ig)\n",
      "\n",
      "# choose filter sets that include filters from best AUC list\n",
      "elems = set(itertools.chain.from_iterable(best_auc_ind))\n",
      "#best = [tup for tup in best_ig_ind if elems.issuperset(tup)]\n",
      "best = best_ig_ind\n",
      "print(best)"
     ],
     "language": "python",
     "metadata": {},
     "outputs": []
    },
    {
     "cell_type": "code",
     "collapsed": false,
     "input": [
      "classifiers = [\n",
      "    LinearSVC(dual=False),\n",
      "    RandomForestClassifier(n_estimators=3000, n_jobs=3),\n",
      "    GradientBoostingClassifier(n_estimators=3000, warm_start=False)\n",
      "]"
     ],
     "language": "python",
     "metadata": {},
     "outputs": [],
     "prompt_number": 115
    },
    {
     "cell_type": "code",
     "collapsed": false,
     "input": [
      "for feat_set in best:\n",
      "    print('\\nFEATURES:' + str(feat_set))\n",
      "    y = labels\n",
      "    X = features.iloc[:, feat_set].values\n",
      "\n",
      "    for clf in classifiers:\n",
      "        \n",
      "        print('Classifier: ' + str(clf))\n",
      "            \n",
      "        accs = []\n",
      "        aucs = []\n",
      "        confms = []\n",
      "        prfss = []\n",
      "    \n",
      "        for train, test in cv.KFold(X.shape[0], n_folds=10, shuffle=True, random_state=24):\n",
      "            X_train = X[train]\n",
      "            X_test = X[test]\n",
      "            y_train = y[train]\n",
      "            y_test = y[test]\n",
      "            \n",
      "            clf.fit(X_train, y_train)\n",
      "            y_pred = clf.predict(X_test)\n",
      "\n",
      "            acc = accuracy_score(y_test, y_pred)\n",
      "            auc = roc_auc_score(y_test, y_pred)\n",
      "            confm = confusion_matrix(y_test, y_pred)\n",
      "            prfs = precision_recall_fscore_support(y_test, y_pred)\n",
      "\n",
      "            accs.append(acc)\n",
      "            aucs.append(auc)\n",
      "            confms.append(confm)\n",
      "            prfss.append(prfs)\n",
      "            \n",
      "        # averaging classification metrics over per classificator\n",
      "        print(np.mean(accs))\n",
      "        print(np.mean(aucs))\n",
      "        print(np.mean(confms))\n",
      "        print(np.mean(prfss))"
     ],
     "language": "python",
     "metadata": {},
     "outputs": [
      {
       "output_type": "stream",
       "stream": "stdout",
       "text": [
        "\n",
        "FEATURES:(0, 4, 7)\n",
        "Classifier: LinearSVC(C=1.0, class_weight=None, dual=False, fit_intercept=True,\n",
        "     intercept_scaling=1, loss='l2', multi_class='ovr', penalty='l2',\n",
        "     random_state=None, tol=0.0001, verbose=0)\n",
        "0.905\n",
        "0.905138888889\n",
        "5.0\n",
        "3.17911996667\n",
        "Classifier: RandomForestClassifier(bootstrap=True, compute_importances=None,\n",
        "            criterion='gini', max_depth=None, max_features='auto',\n",
        "            max_leaf_nodes=None, min_density=None, min_samples_leaf=1,\n",
        "            min_samples_split=2, n_estimators=3000, n_jobs=3,\n",
        "            oob_score=False, random_state=None, verbose=0)\n",
        "0.97"
       ]
      },
      {
       "output_type": "stream",
       "stream": "stdout",
       "text": [
        "\n",
        "0.97375\n",
        "5.0\n",
        "3.22718162393\n",
        "Classifier: GradientBoostingClassifier(init=None, learning_rate=0.1, loss='deviance',\n",
        "              max_depth=3, max_features=None, max_leaf_nodes=None,\n",
        "              min_samples_leaf=1, min_samples_split=2, n_estimators=3000,\n",
        "              random_state=None, subsample=1.0, verbose=0,\n",
        "              warm_start=False)\n",
        "0.96"
       ]
      },
      {
       "output_type": "stream",
       "stream": "stdout",
       "text": [
        "\n",
        "0.965416666667\n",
        "5.0\n",
        "3.22007303807\n",
        "\n",
        "FEATURES:(0, 5)\n",
        "Classifier: LinearSVC(C=1.0, class_weight=None, dual=False, fit_intercept=True,\n",
        "     intercept_scaling=1, loss='l2', multi_class='ovr', penalty='l2',\n",
        "     random_state=None, tol=0.0001, verbose=0)\n",
        "0.825\n",
        "0.824722222222\n",
        "5.0\n",
        "3.1223772922\n",
        "Classifier: RandomForestClassifier(bootstrap=True, compute_importances=None,\n",
        "            criterion='gini', max_depth=None, max_features='auto',\n",
        "            max_leaf_nodes=None, min_density=None, min_samples_leaf=1,\n",
        "            min_samples_split=2, n_estimators=3000, n_jobs=3,\n",
        "            oob_score=False, random_state=None, verbose=0)\n",
        "0.955"
       ]
      },
      {
       "output_type": "stream",
       "stream": "stdout",
       "text": [
        "\n",
        "0.956666666667\n",
        "5.0\n",
        "3.21558264983\n",
        "Classifier: GradientBoostingClassifier(init=None, learning_rate=0.1, loss='deviance',\n",
        "              max_depth=3, max_features=None, max_leaf_nodes=None,\n",
        "              min_samples_leaf=1, min_samples_split=2, n_estimators=3000,\n",
        "              random_state=None, subsample=1.0, verbose=0,\n",
        "              warm_start=False)\n",
        "0.945"
       ]
      },
      {
       "output_type": "stream",
       "stream": "stdout",
       "text": [
        "\n",
        "0.94625\n",
        "5.0\n",
        "3.20688936247\n",
        "\n",
        "FEATURES:(0, 5, 7)\n",
        "Classifier: LinearSVC(C=1.0, class_weight=None, dual=False, fit_intercept=True,\n",
        "     intercept_scaling=1, loss='l2', multi_class='ovr', penalty='l2',\n",
        "     random_state=None, tol=0.0001, verbose=0)\n",
        "0.85\n",
        "0.851843434343\n",
        "5.0\n",
        "3.14081465667\n",
        "Classifier: RandomForestClassifier(bootstrap=True, compute_importances=None,\n",
        "            criterion='gini', max_depth=None, max_features='auto',\n",
        "            max_leaf_nodes=None, min_density=None, min_samples_leaf=1,\n",
        "            min_samples_split=2, n_estimators=3000, n_jobs=3,\n",
        "            oob_score=False, random_state=None, verbose=0)\n",
        "0.975"
       ]
      },
      {
       "output_type": "stream",
       "stream": "stdout",
       "text": [
        "\n",
        "0.977083333333\n",
        "5.0\n",
        "3.23064934955\n",
        "Classifier: GradientBoostingClassifier(init=None, learning_rate=0.1, loss='deviance',\n",
        "              max_depth=3, max_features=None, max_leaf_nodes=None,\n",
        "              min_samples_leaf=1, min_samples_split=2, n_estimators=3000,\n",
        "              random_state=None, subsample=1.0, verbose=0,\n",
        "              warm_start=False)\n",
        "0.96"
       ]
      },
      {
       "output_type": "stream",
       "stream": "stdout",
       "text": [
        "\n",
        "0.965416666667\n",
        "5.0\n",
        "3.22029404514\n",
        "\n",
        "FEATURES:(0, 7)\n",
        "Classifier: LinearSVC(C=1.0, class_weight=None, dual=False, fit_intercept=True,\n",
        "     intercept_scaling=1, loss='l2', multi_class='ovr', penalty='l2',\n",
        "     random_state=None, tol=0.0001, verbose=0)\n",
        "0.81\n",
        "0.810454545455\n",
        "5.0\n",
        "3.11028312942\n",
        "Classifier: RandomForestClassifier(bootstrap=True, compute_importances=None,\n",
        "            criterion='gini', max_depth=None, max_features='auto',\n",
        "            max_leaf_nodes=None, min_density=None, min_samples_leaf=1,\n",
        "            min_samples_split=2, n_estimators=3000, n_jobs=3,\n",
        "            oob_score=False, random_state=None, verbose=0)\n",
        "0.895"
       ]
      },
      {
       "output_type": "stream",
       "stream": "stdout",
       "text": [
        "\n",
        "0.899482323232\n",
        "5.0\n",
        "3.17159894024\n",
        "Classifier: GradientBoostingClassifier(init=None, learning_rate=0.1, loss='deviance',\n",
        "              max_depth=3, max_features=None, max_leaf_nodes=None,\n",
        "              min_samples_leaf=1, min_samples_split=2, n_estimators=3000,\n",
        "              random_state=None, subsample=1.0, verbose=0,\n",
        "              warm_start=False)\n",
        "0.895"
       ]
      },
      {
       "output_type": "stream",
       "stream": "stdout",
       "text": [
        "\n",
        "0.901982323232\n",
        "5.0\n",
        "3.1717769128\n",
        "\n",
        "FEATURES:(0, 1, 4, 7)\n",
        "Classifier: LinearSVC(C=1.0, class_weight=None, dual=False, fit_intercept=True,\n",
        "     intercept_scaling=1, loss='l2', multi_class='ovr', penalty='l2',\n",
        "     random_state=None, tol=0.0001, verbose=0)\n",
        "0.955\n",
        "0.954027777778\n",
        "5.0\n",
        "3.21508545674\n",
        "Classifier: RandomForestClassifier(bootstrap=True, compute_importances=None,\n",
        "            criterion='gini', max_depth=None, max_features='auto',\n",
        "            max_leaf_nodes=None, min_density=None, min_samples_leaf=1,\n",
        "            min_samples_split=2, n_estimators=3000, n_jobs=3,\n",
        "            oob_score=False, random_state=None, verbose=0)\n",
        "0.99"
       ]
      },
      {
       "output_type": "stream",
       "stream": "stdout",
       "text": [
        "\n",
        "0.99\n",
        "5.0\n",
        "3.24272100706\n",
        "Classifier: GradientBoostingClassifier(init=None, learning_rate=0.1, loss='deviance',\n",
        "              max_depth=3, max_features=None, max_leaf_nodes=None,\n",
        "              min_samples_leaf=1, min_samples_split=2, n_estimators=3000,\n",
        "              random_state=None, subsample=1.0, verbose=0,\n",
        "              warm_start=False)\n",
        "0.965"
       ]
      },
      {
       "output_type": "stream",
       "stream": "stdout",
       "text": [
        "\n",
        "0.967777777778\n",
        "5.0\n",
        "3.22394993909\n"
       ]
      }
     ],
     "prompt_number": 116
    },
    {
     "cell_type": "code",
     "collapsed": false,
     "input": [],
     "language": "python",
     "metadata": {},
     "outputs": []
    }
   ],
   "metadata": {}
  }
 ]
}