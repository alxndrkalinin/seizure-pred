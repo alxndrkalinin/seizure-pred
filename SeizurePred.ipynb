{
 "metadata": {
  "name": "",
  "signature": "sha256:9d1c44ac901d2d5f66a57c87fd5c96ff50b72b5a1db6911d330b2f77905a3f4f"
 },
 "nbformat": 3,
 "nbformat_minor": 0,
 "worksheets": [
  {
   "cells": [
    {
     "cell_type": "code",
     "collapsed": false,
     "input": [
      "%matplotlib inline\n",
      "from __future__ import division\n",
      "import os, sys, glob, operator, itertools\n",
      "import pandas as pd\n",
      "import numpy as np\n",
      "from scipy import stats, fft\n",
      "from scipy.optimize import leastsq\n",
      "from scipy.signal import butter, lfilter, daub, ricker, find_peaks_cwt\n",
      "from sklearn.linear_model import SGDClassifier\n",
      "from sklearn.linear_model import Lasso\n",
      "from sklearn.svm import LinearSVC\n",
      "from sklearn.svm import SVC\n",
      "from sklearn.neighbors import KNeighborsClassifier\n",
      "from sklearn.ensemble import GradientBoostingClassifier\n",
      "from sklearn.ensemble import RandomForestClassifier\n",
      "from sklearn.ensemble import AdaBoostClassifier\n",
      "from sklearn import cross_validation as cv\n",
      "from sklearn.feature_selection import RFECV\n",
      "from sklearn.metrics import accuracy_score\n",
      "from sklearn.metrics import roc_auc_score\n",
      "from sklearn.metrics import confusion_matrix\n",
      "from sklearn.metrics import classification_report\n",
      "from sklearn.metrics import precision_recall_fscore_support\n",
      "import matplotlib.pyplot as plt\n",
      "from pandas.tools.plotting import andrews_curves"
     ],
     "language": "python",
     "metadata": {},
     "outputs": [],
     "prompt_number": 26
    },
    {
     "cell_type": "heading",
     "level": 1,
     "metadata": {},
     "source": [
      "Predicting epicleptic seizures in EEG signals"
     ]
    },
    {
     "cell_type": "heading",
     "level": 3,
     "metadata": {},
     "source": [
      "1. Summary:"
     ]
    },
    {
     "cell_type": "markdown",
     "metadata": {},
     "source": [
      "Two corresponding sets of EEG data are available. Each set contains 100 single channel EEG segments of 23.6 seconds with a sampling rate of 173.61 Hz. Band-pass filtering has been performed on each signal with the frequency range of 0.53\u201340 Hz. The set named \u201cHealthy\u201d contains EEG signal from healthy people with eyes open. The other set contains seizure activity."
     ]
    },
    {
     "cell_type": "heading",
     "level": 3,
     "metadata": {},
     "source": [
      "2. Data pre-processing"
     ]
    },
    {
     "cell_type": "heading",
     "level": 4,
     "metadata": {},
     "source": [
      "Read data from files and reporting deminsionality:"
     ]
    },
    {
     "cell_type": "code",
     "collapsed": false,
     "input": [
      "def readData(dirName):\n",
      "    pwd = os.path.dirname(os.path.realpath(dirName))\n",
      "\n",
      "    allFiles = glob.glob(pwd + '/' + dirName + '/*.txt')\n",
      "    frames = []\n",
      "\n",
      "    for fileName in allFiles:\n",
      "        series = pd.read_csv(fileName, header=None, sep='\\n', index_col=False)\n",
      "        series = series.transpose()\n",
      "        frames.append(series)\n",
      "    \n",
      "    df = pd.concat(frames)\n",
      "    df = df.reset_index(drop = 1)\n",
      "    return df"
     ],
     "language": "python",
     "metadata": {},
     "outputs": [],
     "prompt_number": 2
    },
    {
     "cell_type": "code",
     "collapsed": false,
     "input": [
      "healthyDir = 'healthy'\n",
      "epilepticDir = 'epileptic'\n",
      "healthyDf = readData(healthyDir)\n",
      "epilepticDf = readData(epilepticDir)\n",
      "print('\\nDATASET DIMENSIONS:')\n",
      "print('Healthy: ' + str(healthyDf.shape))\n",
      "print('Epileptic: ' + str(epilepticDf.shape))"
     ],
     "language": "python",
     "metadata": {},
     "outputs": [
      {
       "output_type": "stream",
       "stream": "stdout",
       "text": [
        "\n",
        "DATASET DIMENSIONS:\n",
        "Healthy: (100, 4097)\n",
        "Epileptic: (100, 4097)\n"
       ]
      }
     ],
     "prompt_number": 3
    },
    {
     "cell_type": "heading",
     "level": 4,
     "metadata": {},
     "source": [
      "Now I can visually explore datasets:"
     ]
    },
    {
     "cell_type": "code",
     "collapsed": false,
     "input": [
      "healthyDf['Seizure'] = 'No seizure'\n",
      "epilepticDf['Seizure'] = 'Seizure'\n",
      "andrews_curves(epilepticDf.append(healthyDf), 'Seizure')"
     ],
     "language": "python",
     "metadata": {},
     "outputs": [
      {
       "metadata": {},
       "output_type": "pyout",
       "prompt_number": 18,
       "text": [
        "<matplotlib.axes._subplots.AxesSubplot at 0x120e35210>"
       ]
      },
      {
       "metadata": {},
       "output_type": "display_data",
       "png": "[encoded data removed]",
       "text": [
        "<matplotlib.figure.Figure at 0x120e048d0>"
       ]
      }
     ],
     "prompt_number": 18
    },
    {
     "cell_type": "heading",
     "level": 4,
     "metadata": {},
     "source": [
      "It looks like samples from Epileptic dataset has bigger variability, to check it again I can look at summary statistics of 6 columns from the middle of each dataset:"
     ]
    },
    {
     "cell_type": "code",
     "collapsed": false,
     "input": [
      "healthyDf = healthyDf.drop('Seizure', axis=1)\n",
      "epilepticDf = epilepticDf.drop('Seizure', axis=1)\n",
      "print('\\nSUMMARY STATISTICS FOR HEALTHY DATASET: ')\n",
      "print(healthyDf.iloc[:, int(((healthyDf.shape[1] + 1) / 2) - 3) : int(((healthyDf.shape[1] + 1) / 2) + 2)].describe())\n",
      "print('\\nSUMMARY STATISTICS FOR EPILEPTIC DATASET: ')\n",
      "print(epilepticDf.iloc[:, int(((epilepticDf.shape[1] + 1) / 2) - 3) : int(((epilepticDf.shape[1] + 1) / 2) + 2)].describe())"
     ],
     "language": "python",
     "metadata": {},
     "outputs": [
      {
       "output_type": "stream",
       "stream": "stdout",
       "text": [
        "\n",
        "SUMMARY STATISTICS FOR HEALTHY DATASET: \n",
        "             2046        2047       2048        2049        2050\n",
        "count  100.000000  100.000000  100.00000  100.000000  100.000000\n",
        "mean    -4.480000   -3.670000   -3.88000   -3.720000   -3.350000\n",
        "std     54.668049   53.512399   52.30549   52.441228   52.503655\n",
        "min   -143.000000 -144.000000 -154.00000 -165.000000 -175.000000\n",
        "25%    -30.500000  -29.250000  -31.75000  -29.000000  -33.000000\n",
        "50%     -3.000000   -0.500000    0.50000    1.500000    1.500000\n",
        "75%     20.000000   20.250000   27.25000   32.250000   30.000000\n",
        "max    148.000000  146.000000  134.00000  126.000000  119.000000\n",
        "\n",
        "SUMMARY STATISTICS FOR EPILEPTIC DATASET: \n",
        "              2046         2047         2048         2049        2050\n",
        "count   100.000000   100.000000   100.000000   100.000000  100.000000\n",
        "mean     30.770000    12.250000    -2.710000     5.650000   27.620000\n",
        "std     313.335263   301.404905   327.709107   344.287153  327.309102\n",
        "min   -1363.000000 -1198.000000 -1140.000000 -1156.000000 -936.000000\n",
        "25%    -109.750000  -144.000000  -152.250000  -166.500000 -163.500000\n",
        "50%      41.000000    21.500000    34.500000    22.500000   29.000000\n",
        "75%     223.750000   188.750000   181.500000   238.750000  242.000000\n",
        "max     943.000000   763.000000   730.000000   614.000000  845.000000\n"
       ]
      }
     ],
     "prompt_number": 4
    },
    {
     "cell_type": "heading",
     "level": 4,
     "metadata": {},
     "source": [
      "Summary statsistics alwo show that Epileptic dataset has bigger variability in it, which may be cery helpful in classification."
     ]
    },
    {
     "cell_type": "heading",
     "level": 3,
     "metadata": {},
     "source": [
      "2. Feature extraction"
     ]
    },
    {
     "cell_type": "heading",
     "level": 4,
     "metadata": {},
     "source": [
      "First, I'll create a bank of 8 log-spaced bandpass filters between 0.53 and 40Hz"
     ]
    },
    {
     "cell_type": "markdown",
     "metadata": {},
     "source": [
      "Also tried:\n",
      "    - use Daubechies wavelet order of 4\n",
      "    - use Mexican Hat (Ricker) wavelet to find peaks in signal and calculate full width at half maximum (FWHM)\n",
      "    \n",
      "Both of these features were found not contributing much to accuracy. They can be used by uncommenting corresponding sections of code below."
     ]
    },
    {
     "cell_type": "code",
     "collapsed": false,
     "input": [
      "# define bandpass filter function\n",
      "def butter_bandpass(lowcut, highcut, fs, order=5):\n",
      "    nyq = 0.5 * fs\n",
      "    low = lowcut / nyq\n",
      "    high = highcut / nyq\n",
      "    b, a = butter(order, [low, high], btype='band')\n",
      "    return b, a"
     ],
     "language": "python",
     "metadata": {},
     "outputs": [],
     "prompt_number": 5
    },
    {
     "cell_type": "code",
     "collapsed": false,
     "input": [
      "# create filters\n",
      "filters = []\n",
      "fs = 173.61\n",
      "for i in range(8):\n",
      "    x = np.logspace(np.log10(0.53), np.log10(40), 10)\n",
      "    filters.append(butter_bandpass(x[i], np.floor(x[i + 2]), fs, 3))"
     ],
     "language": "python",
     "metadata": {},
     "outputs": [],
     "prompt_number": 6
    },
    {
     "cell_type": "heading",
     "level": 4,
     "metadata": {},
     "source": [
      "Second, I'll create combinatorial filter sets up to size of 4."
     ]
    },
    {
     "cell_type": "code",
     "collapsed": false,
     "input": [
      "# list of all possible combinations of 4 or fewer filters\n",
      "wis = list(itertools.chain(itertools.combinations(range(8), 1),\n",
      "                           itertools.combinations(range(8), 2),\n",
      "                           itertools.combinations(range(8), 3),\n",
      "                           itertools.combinations(range(8), 4)))"
     ],
     "language": "python",
     "metadata": {},
     "outputs": [],
     "prompt_number": 7
    },
    {
     "cell_type": "heading",
     "level": 4,
     "metadata": {},
     "source": [
      "Then extract features from filtered signal for each combination of filters:"
     ]
    },
    {
     "cell_type": "markdown",
     "metadata": {},
     "source": [
      "    - amplitude (required)\n",
      "    - power (required)\n",
      "    - variance (since it's so different between signals)"
     ]
    },
    {
     "cell_type": "code",
     "collapsed": false,
     "input": [
      "def extract_features(signal):\n",
      "    feat = []\n",
      "    \n",
      "# create Daubechies wavelet order of 4\n",
      "#     daubCoeff = daub(4)\n",
      "#     d = lfilter(daubCoeff, 1.0, signal)\n",
      "#     print(len(d))\n",
      "# covar = np.var(d)\n",
      "# ampl = np.sum(np.absolute(d)) / np.sum(np.absolute(signal).sum())\n",
      "# power = np.sum(np.power(d, 2)) / np.sum(np.power(signal, 2).sum())\n",
      "    \n",
      "    for b, a in filters:\n",
      "        f = lfilter(b, a, signal)\n",
      "        covar = np.var(f)\n",
      "        ampl = np.sum(np.absolute(f)) / np.sum(np.absolute(signal).sum())\n",
      "        power = np.sum(np.power(f, 2)) / np.sum(np.power(signal, 2).sum())\n",
      "        \n",
      "# try to find max peaks using Mexican Hat (Ricker) wavelet\n",
      "#         peakInd = find_peaks_cwt(f, np.arange(1,10))\n",
      "#         print(len(peakInd))\n",
      "#         index_of_peak = max(f[peakInd])\n",
      "#         hm_left_index = hm_left_indices[np.argmin(np.abs(hm_left_indices - index_of_peak))]\n",
      "#         hm_right_index = hm_right_indices[np.argmin(np.abs(hm_right_indices - index_of_peak))]   \n",
      "#         fwhm = ts[hm_right_index] - ts[hm_left_index]\n",
      "\n",
      "        feat = np.append(feat, [covar, ampl, power])\n",
      "    return pd.Series(feat)"
     ],
     "language": "python",
     "metadata": {},
     "outputs": [],
     "prompt_number": 8
    },
    {
     "cell_type": "code",
     "collapsed": false,
     "input": [
      "def getFeaturesForFilterSet (features, filterSet):\n",
      "    return pd.concat([features.iloc[:, 3 * filter : 3 * (filter + 1)] for filter in filterSet], axis=1)"
     ],
     "language": "python",
     "metadata": {},
     "outputs": [],
     "prompt_number": 9
    },
    {
     "cell_type": "heading",
     "level": 3,
     "metadata": {},
     "source": [
      "3. Feature selection: best filter sets"
     ]
    },
    {
     "cell_type": "heading",
     "level": 4,
     "metadata": {},
     "source": [
      "Create features dataframe and labels"
     ]
    },
    {
     "cell_type": "code",
     "collapsed": false,
     "input": [
      "healthyLabels = np.zeros(healthyDf.shape[0], dtype=np.int)\n",
      "epilepticLables = np.ones(epilepticDf.shape[0], dtype=np.int)\n",
      "\n",
      "labels = np.append(healthyLabels, epilepticLables)\n",
      "\n",
      "healthyFeat = healthyDf.apply(extract_features, axis=1)\n",
      "epilepticFeat = epilepticDf.apply(extract_features, axis=1)\n",
      "\n",
      "features = healthyFeat.append(epilepticFeat)"
     ],
     "language": "python",
     "metadata": {},
     "outputs": [],
     "prompt_number": 10
    },
    {
     "cell_type": "heading",
     "level": 4,
     "metadata": {},
     "source": [
      "Selecting best sets of filters"
     ]
    },
    {
     "cell_type": "markdown",
     "metadata": {},
     "source": [
      "To select best fliter sets following measures were used:\n",
      "    - AUC score\n",
      "    - Information gain\n",
      "    \n",
      "Both measures were calculated using stochastic gradient descent (SGD) classifier with 10-fold shuffle cross-validation"
     ]
    },
    {
     "cell_type": "code",
     "collapsed": false,
     "input": [
      "auc_scores = []\n",
      "ig_scores = []\n",
      "rfs_scores = []\n",
      "\n",
      "def binFreq(arr):\n",
      "    nonZeroFreq = np.count_nonzero(arr) / len(arr)\n",
      "    return [nonZeroFreq, 1 - nonZeroFreq]\n",
      "\n",
      "for w in wis:\n",
      "    \n",
      "    # get features for current set of filters using global indices\n",
      "    featureSet = getFeaturesForFilterSet(features, w)\n",
      "    \n",
      "    y = labels\n",
      "    X = featureSet.values\n",
      "\n",
      "    ps = []\n",
      "    fs = []\n",
      "    rfs = []\n",
      "    for train, test in cv.ShuffleSplit(X.shape[0], random_state=42):\n",
      "        X_train = X[train]\n",
      "        X_test = X[test]\n",
      "        y_train = y[train]\n",
      "        y_test = y[test]\n",
      "\n",
      "        clf = SGDClassifier(loss='log', penalty='l1', alpha=0.0001)    \n",
      "        clf.fit(X_train, y_train)     \n",
      "        y_pred = clf.predict(X_test)\n",
      "\n",
      "        ras = roc_auc_score(y_test, y_pred)\n",
      "        igs = stats.entropy(binFreq(y_pred), binFreq(y_test))\n",
      "        ps.append(ras)\n",
      "        fs.append(igs)\n",
      "\n",
      "        \n",
      "    ps = np.array(ps)\n",
      "    fs = np.array(fs)\n",
      "    rfs = np.array(rfs)\n",
      "    auc_scores.append(ps.mean())\n",
      "    ig_scores.append(fs.mean())"
     ],
     "language": "python",
     "metadata": {},
     "outputs": [],
     "prompt_number": 11
    },
    {
     "cell_type": "code",
     "collapsed": false,
     "input": [
      "# Select 5 best filter sets from each selection scheme\n",
      "best_auc = sorted(zip(auc_scores, wis))[-5:]\n",
      "best_ig = sorted(zip(ig_scores, wis))[:5]\n",
      "\n",
      "bestAucInd = tuple(x[1] for x in best_auc)\n",
      "bestIgInd = tuple(x[1] for x in best_ig)\n",
      "\n",
      "print('\\n 5 BEST FILTER SETS BY AUC SCORE: ')\n",
      "print(bestAucInd)\n",
      "print('\\n 5 BEST FILTER SETS BY INFORMATION GAIN: ')\n",
      "print(bestIgInd)\n",
      "\n",
      "iterBestAucInd = itertools.chain.from_iterable(bestAucInd)\n",
      "\n",
      "# choose filter sets that include filters from best AUC list\n",
      "elems = set(iterBestAucInd)\n",
      "bestFilters = [tup for tup in bestIgInd if elems.issuperset(tup)]\n",
      "\n",
      "print('\\n 5 BEST FILTER SETS BY INFORMATION GAIN THAT WERE ALSO SELECTED IN AUC : ')\n",
      "print(bestFilters)"
     ],
     "language": "python",
     "metadata": {},
     "outputs": [
      {
       "output_type": "stream",
       "stream": "stdout",
       "text": [
        "\n",
        " 5 BEST FILTER SETS BY AUC SCORE: \n",
        "((0, 1, 2, 3), (0, 1, 6), (0, 3), (0, 2, 3), (0, 1, 3))\n",
        "\n",
        " 5 BEST FILTER SETS BY INFORMATION GAIN: \n",
        "((0, 2, 3, 5), (0, 3), (0, 1, 3), (0, 2, 3), (0, 2, 3, 4))\n",
        "\n",
        " 5 BEST FILTER SETS BY INFORMATION GAIN THAT WERE ALSO SELECTED IN AUC : \n",
        "[(0, 3), (0, 1, 3), (0, 2, 3)]\n"
       ]
      }
     ],
     "prompt_number": 12
    },
    {
     "cell_type": "heading",
     "level": 3,
     "metadata": {},
     "source": [
      "4. Selection of classifier"
     ]
    },
    {
     "cell_type": "markdown",
     "metadata": {},
     "source": [
      "To select best classifier following algorithms were tested:\n",
      "    - Support Vector Machine with linear kernels\n",
      "    - Support Vector Machine with rbf kernels\n",
      "    - Lasso regression\n",
      "    - K Nearest Neighbors with k=5\n",
      "    - AdaBoost with 200 estimators\n",
      "    - Random Forest with 200 estimators\n",
      "    - Gradient Boosting Classifier with 200 estimators"
     ]
    },
    {
     "cell_type": "code",
     "collapsed": false,
     "input": [
      "classifiers = [\n",
      "    LinearSVC(dual=False),\n",
      "    SVC(),\n",
      "    Lasso(),\n",
      "    KNeighborsClassifier(),\n",
      "    AdaBoostClassifier(n_estimators=200),\n",
      "    RandomForestClassifier(n_estimators=200, n_jobs=-1),\n",
      "    GradientBoostingClassifier(n_estimators=200)\n",
      "]"
     ],
     "language": "python",
     "metadata": {},
     "outputs": [],
     "prompt_number": 13
    },
    {
     "cell_type": "heading",
     "level": 4,
     "metadata": {},
     "source": [
      "For each best set of filters I test all classifiers and select the best algorithm by AUC with 10-fold cross-validation"
     ]
    },
    {
     "cell_type": "code",
     "collapsed": false,
     "input": [
      "filterBestAuc = []\n",
      "\n",
      "for featSet in bestFilters:\n",
      "    print('\\nFILTER SET: ' + str(featSet))\n",
      "    \n",
      "    featureSet = getFeaturesForFilterSet(features, featSet)\n",
      "    \n",
      "    y = labels\n",
      "    X = featureSet.values\n",
      "    \n",
      "    clfs_auc = []\n",
      "\n",
      "    for clf in classifiers:\n",
      "\n",
      "        aucs = []\n",
      "    \n",
      "        for train, test in cv.KFold(X.shape[0], n_folds=10, shuffle=True, random_state=100):\n",
      "            X_train = X[train]\n",
      "            X_test = X[test]\n",
      "            y_train = y[train]\n",
      "            y_test = y[test]\n",
      "            \n",
      "            clf.fit(X_train, y_train)\n",
      "            y_pred = clf.predict(X_test)\n",
      "\n",
      "            auc = roc_auc_score(y_test, y_pred)\n",
      "            aucs.append(auc)\n",
      "\n",
      "        avg_auc = np.mean(aucs)\n",
      "        clfs_auc.append(avg_auc)\n",
      "\n",
      "    best_auc_clf = sorted(zip(clfs_auc, classifiers))[-1:]\n",
      "    print('BEST AUC: ' + str(best_auc_clf[0][0]))\n",
      "    print('ALGORITHM: ' + str(best_auc_clf[0][1].__class__.__name__) + '\\n')\n",
      "    filterBestAuc.append(best_auc_clf[0])"
     ],
     "language": "python",
     "metadata": {},
     "outputs": [
      {
       "output_type": "stream",
       "stream": "stdout",
       "text": [
        "\n",
        "FILTER SET: (0, 3)\n",
        "BEST AUC: 1.0"
       ]
      },
      {
       "output_type": "stream",
       "stream": "stdout",
       "text": [
        "\n",
        "ALGORITHM: RandomForestClassifier\n",
        "\n",
        "\n",
        "FILTER SET: (0, 1, 3)\n",
        "BEST AUC: 1.0"
       ]
      },
      {
       "output_type": "stream",
       "stream": "stdout",
       "text": [
        "\n",
        "ALGORITHM: GradientBoostingClassifier\n",
        "\n",
        "\n",
        "FILTER SET: (0, 2, 3)\n",
        "BEST AUC: 1.0"
       ]
      },
      {
       "output_type": "stream",
       "stream": "stdout",
       "text": [
        "\n",
        "ALGORITHM: GradientBoostingClassifier\n",
        "\n"
       ]
      }
     ],
     "prompt_number": 15
    },
    {
     "cell_type": "code",
     "collapsed": false,
     "input": [
      "FilterSets = sorted(zip(filterBestAuc, bestFilters))\n",
      "scores = [set[0][0] for set in FilterSets]\n",
      "numMaxScores = len([i for i, s in enumerate(scores) if s == scores[-1:]])\n",
      "bestFilterSets = FilterSets[-1 * numMaxScores:]"
     ],
     "language": "python",
     "metadata": {},
     "outputs": [],
     "prompt_number": 20
    },
    {
     "cell_type": "heading",
     "level": 4,
     "metadata": {},
     "source": [
      "As shown in the results of classification, for each of filter sets one or two of classifiers are able to reach 100% AUC. Since each filter set contains few features I can try to do following feature selection withing each set."
     ]
    },
    {
     "cell_type": "heading",
     "level": 3,
     "metadata": {},
     "source": [
      "5. Combinatorial Feature Discrimination"
     ]
    },
    {
     "cell_type": "code",
     "collapsed": false,
     "input": [
      "def eliminateFeatures(fs, clf):\n",
      "        featureSet = getFeaturesForFilterSet(features, fs[1])\n",
      "        X = featureSet.values\n",
      "\n",
      "        rfecv = RFECV(estimator=clf, step=1, cv=cv.KFold(X.shape[0], n_folds=5, shuffle=True), scoring='roc_auc')\n",
      "        rfecv.fit(X, y)\n",
      "\n",
      "        print(\"Performing feature elimination for: \" + str(clf.__class__.__name__))\n",
      "        print(\"Optimal number of features: %d\" % rfecv.n_features_)\n",
      "\n",
      "        # Plot number of features VS. cross-validation scores\n",
      "        plt.figure()\n",
      "        plt.xlabel(\"Number of features selected\")\n",
      "        plt.ylabel(\"Cross validation score (nb of correct classifications)\")\n",
      "        plt.plot(range(1, len(rfecv.grid_scores_) + 1), rfecv.grid_scores_)\n",
      "        plt.show()\n",
      "        \n",
      "        return rfecv"
     ],
     "language": "python",
     "metadata": {},
     "outputs": [],
     "prompt_number": 34
    },
    {
     "cell_type": "heading",
     "level": 6,
     "metadata": {},
     "source": [
      "NOTE: as previous runs have shown, usually maximum AUC is achieved by using either Gradient Boosting Classifier or Random Forest. In Scikit-Learn library these classifiers by default cannot be used in combinatorial feature discrimination since they do not provide weights."
     ]
    },
    {
     "cell_type": "heading",
     "level": 4,
     "metadata": {},
     "source": [
      "Updating Random Forest:"
     ]
    },
    {
     "cell_type": "markdown",
     "metadata": {},
     "source": [
      "    - since built-in algorithm provides feature importance, we can create new classifier class based on RandomForest and use importance scores as weights for further elimination:"
     ]
    },
    {
     "cell_type": "code",
     "collapsed": false,
     "input": [
      "class RandomForestClassifierWithCoef(RandomForestClassifier):\n",
      "    def fit(self, *args, **kwargs):\n",
      "        super(RandomForestClassifierWithCoef, self).fit(*args, **kwargs)\n",
      "        self.coef_ = self.feature_importances_"
     ],
     "language": "python",
     "metadata": {},
     "outputs": [],
     "prompt_number": 31
    },
    {
     "cell_type": "code",
     "collapsed": false,
     "input": [
      "finalFilterClfSets = []\n",
      "\n",
      "for i, fs in enumerate(bestFilterSets):\n",
      "\n",
      "    clf = fs[0][1]\n",
      "    \n",
      "    if not hasattr(clf, 'coef_'):\n",
      "        if ((clf.__class__.__name__ == 'RandomForestClassifier')):\n",
      "            clf = RandomForestClassifierWithCoef(n_estimators=200, n_jobs=-1, random_state=159)\n",
      "            rfecv = eliminateFeatures(fs, clf)\n",
      "            finalFilterClfSets.append((fs, clf, rfecv))\n",
      "        else:\n",
      "            print('\\nCannot do further feature reduction for: ' + str(clf.__class__.__name__))\n",
      "            print('Used filters: ' + str(fs[1]))\n",
      "            print('Achieved AUC: ' + str(fs[0][0]) + '\\n')\n",
      "    else:\n",
      "        rfecv = eliminateFeatures(fs, clf)\n",
      "        finalFilterClfSets.append((fs, clf, rfecv))"
     ],
     "language": "python",
     "metadata": {},
     "outputs": [
      {
       "output_type": "stream",
       "stream": "stdout",
       "text": [
        "\n",
        "Cannot do further feature reduction for: GradientBoostingClassifier\n",
        "Used filters: (0, 1, 3)\n",
        "Achieved AUC: 1.0\n",
        "\n",
        "\n",
        "Cannot do further feature reduction for: GradientBoostingClassifier\n",
        "Used filters: (0, 2, 3)\n",
        "Achieved AUC: 1.0\n",
        "\n",
        "Performing feature elimination for: RandomForestClassifierWithCoef"
       ]
      },
      {
       "output_type": "stream",
       "stream": "stdout",
       "text": [
        "\n",
        "Optimal number of features: 1\n"
       ]
      },
      {
       "metadata": {},
       "output_type": "display_data",
       "png": "[encoded data removed]",
       "text": [
        "<matplotlib.figure.Figure at 0x10b53c210>"
       ]
      }
     ],
     "prompt_number": 40
    },
    {
     "cell_type": "heading",
     "level": 4,
     "metadata": {},
     "source": [
      "Now I find best classifier with minimal number of features:"
     ]
    },
    {
     "cell_type": "code",
     "collapsed": false,
     "input": [
      "minFiltSetInd, minFiltSetLen = min(enumerate([len(fsClfSet[0][1])for fsClfSet in finalFilterClfSets]), key=operator.itemgetter(1))\n",
      "print('FILTER SET: ' + str(finalFilterClfSets[minFiltSetInd][0][1]))\n",
      "print('ALGORITHM: ' + str(finalFilterClfSets[minFiltSetInd][0][0][1].__class__.__name__))\n",
      "print('NUMBER OF FEATURES: ' + str(finalFilterClfSets[minFiltSetInd][2].n_features_))"
     ],
     "language": "python",
     "metadata": {},
     "outputs": [
      {
       "output_type": "stream",
       "stream": "stdout",
       "text": [
        "FILTER SET: (0, 3)\n",
        "ALGORITHM: RandomForestClassifier\n",
        "NUMBER OF FEATURES: 1\n"
       ]
      }
     ],
     "prompt_number": 50
    },
    {
     "cell_type": "heading",
     "level": 3,
     "metadata": {},
     "source": [
      "6. Final validation of accuracy on selected combination of filters / features / algorithm and classification report:"
     ]
    },
    {
     "cell_type": "code",
     "collapsed": false,
     "input": [
      "accs = []\n",
      "aucs = []\n",
      "cm = np.zeros((2,2))\n",
      "\n",
      "clf = finalFilterClfSets[minFiltSetInd][0][0][1]\n",
      "\n",
      "selectedFeatInd = finalFilterClfSets[minFiltSetInd][2].get_support(indices=True)\n",
      "featureSet = getFeaturesForFilterSet(features, finalFilterClfSets[minFiltSetInd][0][1])\n",
      "X = featureSet.iloc[:, selectedFeatInd].values\n",
      "\n",
      "# workaround for KFold that requires (n, 1) shape for 1d arrays\n",
      "if len(X.shape) < 2:\n",
      "    X.shape += (1,)\n",
      "\n",
      "for train, test in cv.KFold(X.shape[0], n_folds=10, shuffle=True, random_state=285):\n",
      "    X_train = X[train]\n",
      "    X_test = X[test]\n",
      "    y_train = y[train]\n",
      "    y_test = y[test]\n",
      "\n",
      "    clf.fit(X_train, y_train)\n",
      "    y_pred = clf.predict(X_test)\n",
      "\n",
      "    acc = accuracy_score(y_test, y_pred)\n",
      "    auc = roc_auc_score(y_test, y_pred)\n",
      "    cm = np.add(cm, confusion_matrix(y_test, y_pred))\n",
      "    accs.append(acc)\n",
      "    aucs.append(auc)\n",
      "    \n",
      "# cm = np.divide(cm, 10)\n",
      "\n",
      "# averaging classification metrics over\n",
      "print('CLASSIFICATION REPORT: \\n')\n",
      "print 'AVERAGE ACCURACY: {0:.2f} +/- {1:.2f}'.format(np.mean(accs), np.std(accs))\n",
      "print 'AVERAGE AUC ROC: {0:.2f} +/- {1:.2f}'.format(np.mean(aucs), np.std(aucs))\n",
      "print 'AVERAGE SPECIFICITY: {0:.2f} +/- {1:.2f}'.format(cm[1][1] / (cm[0][1] + cm[1][1]), np.std(accs))\n",
      "print 'AVERAGE SENSITIVITY: {0:.2f} +/- {1:.2f}'.format(cm[0][0] / (cm[0][0] + cm[1][0]), np.std(accs))\n",
      "print 'AVERAGE CONFUSION MATRIX (%):'\n",
      "print(cm)"
     ],
     "language": "python",
     "metadata": {},
     "outputs": [
      {
       "output_type": "stream",
       "stream": "stdout",
       "text": [
        "CLASSIFICATION REPORT: \n",
        "\n",
        "AVERAGE ACCURACY: 1.00 +/- 0.00\n",
        "AVERAGE AUC ROC: 1.00 +/- 0.00\n",
        "AVERAGE SPECIFICITY: 1.00 +/- 0.00\n",
        "AVERAGE SENSITIVITY: 1.00 +/- 0.00\n",
        "AVERAGE CONFUSION MATRIX (%):\n",
        "[[ 100.    0.]\n",
        " [   0.  100.]]\n"
       ]
      }
     ],
     "prompt_number": 60
    },
    {
     "cell_type": "heading",
     "level": 3,
     "metadata": {},
     "source": [
      "7. Conclusion"
     ]
    },
    {
     "cell_type": "heading",
     "level": 4,
     "metadata": {},
     "source": [
      "After data pre-processing and multiple-step feature elimination I was able to narrow combination of filter-feature-classifier to only 1 feature (variance) in one filter and 2 algorithms that were able to achieve 100% accuracy and AUC ROC: Random Forest and Gradient Boosting."
     ]
    }
   ],
   "metadata": {}
  }
 ]
}